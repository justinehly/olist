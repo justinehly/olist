{
 "cells": [
  {
   "cell_type": "markdown",
   "id": "5df3e3bf",
   "metadata": {},
   "source": [
    "# <span style='color:purple'>Lab 2 - GridSearchCV for Random Forest Only</span>\n"
   ]
  },
  {
   "cell_type": "markdown",
   "id": "4a0b9f56",
   "metadata": {},
   "source": [
    "# <span style='color:blue'>Data Preparation (15 points total)</span>\n",
    "* Sample 15,000 rows of data to speed up the GridSearchCV function, then use those results on the full dataset"
   ]
  },
  {
   "cell_type": "code",
   "execution_count": 1,
   "id": "c4a9404a",
   "metadata": {},
   "outputs": [
    {
     "name": "stdout",
     "output_type": "stream",
     "text": [
      "Current working directory: C:\\Users\\justi\\GitHub\\olist\\data\n",
      "(114067, 47)\n"
     ]
    }
   ],
   "source": [
    "# set up environment and load dataset\n",
    "\n",
    "import numpy as np\n",
    "import pandas as pd\n",
    "import os\n",
    "from datetime import datetime as dt\n",
    "import copy\n",
    "import matplotlib as mpl\n",
    "import matplotlib.pyplot as plt\n",
    "\n",
    "# set working directory\n",
    "os.chdir(r\"C:\\Users\\justi\\GitHub\\olist\\data\")\n",
    "print('Current working directory:',os.getcwd())\n",
    "\n",
    "# Let's get the data\n",
    "olist_download = pd.read_csv('olist_lab1_data.csv')  \n",
    "print(olist_download.shape)\n",
    "#olist_download.head()"
   ]
  },
  {
   "cell_type": "code",
   "execution_count": 28,
   "id": "6941f26f",
   "metadata": {},
   "outputs": [],
   "source": [
    "grids = copy.deepcopy(olist_download) # so now we have a back up of the original dataset"
   ]
  },
  {
   "cell_type": "markdown",
   "id": "d9dc4712",
   "metadata": {},
   "source": [
    "## <span style='color:red'>Define class variable representations (int,float, onehot, etc)</span>"
   ]
  },
  {
   "cell_type": "code",
   "execution_count": 29,
   "id": "601e7be4",
   "metadata": {},
   "outputs": [],
   "source": [
    "# clean up attributes in the relaoded dataset from lab 1\n",
    "\n",
    "#changing attributes data types\n",
    "continuous_features = ['price','freight_value', 'payment_sequential','payment_installments','payment_value',\n",
    "                      'product_name_length','product_description_length', 'product_photos_qty','product_weight_g',\n",
    "                      'product_length_cm','product_height_cm','product_width_cm', 'review_score'] \n",
    "\n",
    "cat_features = ['customer_city','customer_state','customer_zip_code_prefix','seller_zip_code_prefix',\n",
    "                'seller_city','seller_state','product_category_english','review_id','review_comment_title',\n",
    "                'review_comment_message','payment_type','order_item_id', 'product_id','seller_id','order_id', \n",
    "                'customer_id','customer_unique_id','delivery_est_discrepancy_range','purchase_month','purchase_wk_day',\n",
    "                'review_score_class'] \n",
    "\n",
    "date_features = ['order_purchase_timestamp', 'order_approved_at', 'order_delivered_carrier_date', 'order_delivered_customer_date',\n",
    "                 'order_estimated_delivery_date', 'shipping_limit_date', 'review_creation_date', 'review_answer_timestamp'] \n"
   ]
  },
  {
   "cell_type": "code",
   "execution_count": 30,
   "id": "8140526a",
   "metadata": {},
   "outputs": [],
   "source": [
    "# use the \"astype\" function to change the variable type\n",
    "\n",
    "grids[cat_features] = grids.copy()[cat_features].astype('category')\n",
    "\n",
    "grids[continuous_features] = grids.copy()[continuous_features].astype(np.float64)\n"
   ]
  },
  {
   "cell_type": "code",
   "execution_count": 31,
   "id": "1834930c",
   "metadata": {},
   "outputs": [],
   "source": [
    "# fix dates\n",
    "\n",
    "for i in date_features:\n",
    "    grids.loc[:,i] = pd.to_datetime(grids.copy().loc[:,i], errors=\"coerce\")"
   ]
  },
  {
   "cell_type": "code",
   "execution_count": 32,
   "id": "95bbd960",
   "metadata": {},
   "outputs": [],
   "source": [
    "#grids.info()"
   ]
  },
  {
   "cell_type": "code",
   "execution_count": 33,
   "id": "77e32d79",
   "metadata": {},
   "outputs": [
    {
     "name": "stdout",
     "output_type": "stream",
     "text": [
      "0\n"
     ]
    }
   ],
   "source": [
    "print(grids.duplicated().sum())"
   ]
  },
  {
   "cell_type": "code",
   "execution_count": 34,
   "id": "8c247f9f",
   "metadata": {},
   "outputs": [],
   "source": [
    "# let's remove nominal values (anything with the label x_id) and anything with possible NaNs such as the comments\n",
    "grids = grids.drop(columns = ['review_comment_title','review_comment_message','review_id','order_id','customer_id',\n",
    "                              'order_item_id','product_id','seller_id','customer_unique_id','product_length_cm',\n",
    "                              'product_width_cm','product_height_cm','payment_value','delivery_estimate_discrepancy',\n",
    "                              'delivery_est_discrepancy_range','order_delivery_actual_duration',\n",
    "                              'order_delivery_estimated_duration', 'order_approved_at','order_delivered_carrier_date',\n",
    "                              'order_delivered_customer_date','order_estimated_delivery_date',\n",
    "                              'review_creation_date','review_answer_timestamp','shipping_limit_date','purchase_wk_day'],\n",
    "                   axis=1) \n"
   ]
  },
  {
   "cell_type": "code",
   "execution_count": 35,
   "id": "dd2b5488",
   "metadata": {},
   "outputs": [
    {
     "name": "stdout",
     "output_type": "stream",
     "text": [
      "10735\n",
      "0\n"
     ]
    }
   ],
   "source": [
    "print(grids.duplicated().sum())\n",
    "# looks like removing those columns made it look like we have duplicates, to keep from overfitting the model\n",
    "# we  will go ahead and remove those\n",
    "grids.drop_duplicates(inplace=True)\n",
    "print(grids.duplicated().sum())"
   ]
  },
  {
   "cell_type": "code",
   "execution_count": 36,
   "id": "8c7c6513",
   "metadata": {},
   "outputs": [
    {
     "name": "stdout",
     "output_type": "stream",
     "text": [
      "Index 40711 is missing values in product_weight and product_dimensions\n",
      "We now have 0 records missing values\n"
     ]
    }
   ],
   "source": [
    "missing = grids[grids.product_weight_g.isna()].index.values.tolist()[0]\n",
    "print('Index %d is missing values in product_weight and product_dimensions' % (missing))\n",
    "grids = grids.drop(index = missing, axis=0)\n",
    "\n",
    "print('We now have %d records missing values' % (grids.isna().any().sum()))"
   ]
  },
  {
   "cell_type": "code",
   "execution_count": 37,
   "id": "da345943",
   "metadata": {},
   "outputs": [],
   "source": [
    "# change purchase date into year, day, month and hour so that's numeric\n",
    "\n",
    "grids['purchase_year'] = grids.order_purchase_timestamp.dt.year\n",
    "grids['purchase_month'] = grids.order_purchase_timestamp.dt.month\n",
    "grids['purchase_day'] = grids.order_purchase_timestamp.dt.dayofweek\n",
    "grids['purchase_hour'] = grids.order_purchase_timestamp.dt.hour\n",
    "\n",
    "grids.drop(columns = ['order_purchase_timestamp'], axis=1, inplace=True)\n"
   ]
  },
  {
   "cell_type": "code",
   "execution_count": 12,
   "id": "1f1bb440",
   "metadata": {},
   "outputs": [],
   "source": [
    "# export to pickle\n",
    "\n",
    "#grids.to_pickle('olist_justin_gridsearch.pkl')"
   ]
  },
  {
   "cell_type": "code",
   "execution_count": 38,
   "id": "8b7adfc8",
   "metadata": {},
   "outputs": [
    {
     "data": {
      "image/png": "[encoded data removed]",
      "text/plain": [
       "<Figure size 432x288 with 1 Axes>"
      ]
     },
     "metadata": {},
     "output_type": "display_data"
    }
   ],
   "source": [
    "# determine best binning for product_description_length\n",
    "import seaborn as sns\n",
    "sns.set_style('whitegrid')\n",
    "\n",
    "grids.product_photos_qty.plot(kind='hist')\n",
    "plt.show()"
   ]
  },
  {
   "cell_type": "code",
   "execution_count": 39,
   "id": "63a3d881",
   "metadata": {},
   "outputs": [
    {
     "data": {
      "image/png": "[encoded data removed]",
      "text/plain": [
       "<Figure size 432x288 with 1 Axes>"
      ]
     },
     "metadata": {},
     "output_type": "display_data"
    }
   ],
   "source": [
    "grids.product_description_length.plot(kind='hist')\n",
    "plt.show()"
   ]
  },
  {
   "cell_type": "markdown",
   "id": "b45b0380",
   "metadata": {},
   "source": [
    "---\n",
    "#### <span style='color:red'>Sample from Grids for GridSearchCV on RandomForestClassifier</span>\n",
    "---"
   ]
  },
  {
   "cell_type": "code",
   "execution_count": 40,
   "id": "649d77bb",
   "metadata": {},
   "outputs": [],
   "source": [
    "# make a copy of grids for running the randomforestclassifier with the whole dataset\n",
    "random = copy.deepcopy(grids)"
   ]
  },
  {
   "cell_type": "markdown",
   "id": "ee5942aa",
   "metadata": {},
   "source": [
    "---\n",
    "## <span style='color:orange'> Sample Down to 15,000 records </span>\n",
    "---"
   ]
  },
  {
   "cell_type": "code",
   "execution_count": 44,
   "id": "41cfa1c3",
   "metadata": {},
   "outputs": [
    {
     "data": {
      "text/plain": [
       "(15000, 24)"
      ]
     },
     "execution_count": 44,
     "metadata": {},
     "output_type": "execute_result"
    }
   ],
   "source": [
    "grids = grids.sample(n=15000, random_state=42)\n",
    "grids.shape"
   ]
  },
  {
   "cell_type": "code",
   "execution_count": 45,
   "id": "7b356e21",
   "metadata": {},
   "outputs": [
    {
     "name": "stdout",
     "output_type": "stream",
     "text": [
      "\n",
      "=====================Shapes=====================\n",
      "\n",
      "Original dataset shape: (15000, 24)\n",
      "X shape: (15000, 23)\n",
      "y shape: (15000,)\n"
     ]
    }
   ],
   "source": [
    "# remove the response variable - payment_method\n",
    "grids_y = copy.deepcopy(grids.payment_type)\n",
    "grids_X = copy.deepcopy(grids.drop(columns=['payment_type']))\n",
    "\n",
    "print('\\n=====================Shapes=====================\\n')\n",
    "print('Original dataset shape:', grids.shape)\n",
    "print('X shape:', grids_X.shape)\n",
    "print('y shape:', grids_y.shape)\n",
    "\n",
    "\n"
   ]
  },
  {
   "cell_type": "markdown",
   "id": "3dd5815d",
   "metadata": {},
   "source": [
    "##### StratifiedShuffleSplit Train/Test\n",
    "https://scikit-learn.org/stable/modules/generated/sklearn.model_selection.StratifiedShuffleSplit.html?highlight=stratifiedshufflesplit#sklearn.model_selection.StratifiedShuffleSplit"
   ]
  },
  {
   "cell_type": "code",
   "execution_count": 46,
   "id": "62df7537",
   "metadata": {},
   "outputs": [
    {
     "data": {
      "text/plain": [
       "['customer_zip_code_prefix',\n",
       " 'customer_city',\n",
       " 'customer_state',\n",
       " 'review_score',\n",
       " 'payment_sequential',\n",
       " 'payment_installments',\n",
       " 'price',\n",
       " 'freight_value',\n",
       " 'product_name_length',\n",
       " 'product_description_length',\n",
       " 'product_photos_qty',\n",
       " 'product_weight_g',\n",
       " 'product_category_english',\n",
       " 'seller_zip_code_prefix',\n",
       " 'seller_city',\n",
       " 'seller_state',\n",
       " 'tot_order_amt',\n",
       " 'purchase_month',\n",
       " 'review_score_class',\n",
       " 'product_dimensions',\n",
       " 'purchase_year',\n",
       " 'purchase_day',\n",
       " 'purchase_hour']"
      ]
     },
     "execution_count": 46,
     "metadata": {},
     "output_type": "execute_result"
    }
   ],
   "source": [
    "list(grids_X)"
   ]
  },
  {
   "cell_type": "code",
   "execution_count": 48,
   "id": "f3162e6d",
   "metadata": {},
   "outputs": [
    {
     "name": "stdout",
     "output_type": "stream",
     "text": [
      "StratifiedShuffleSplit(n_splits=1, random_state=42, test_size=0.3,\n",
      "            train_size=0.7)\n",
      "1\n"
     ]
    }
   ],
   "source": [
    "# train/ test split\n",
    "from sklearn.model_selection import StratifiedShuffleSplit\n",
    "X = grids_X\n",
    "y = grids_y\n",
    "cv = StratifiedShuffleSplit(n_splits=1,test_size = 0.3, train_size = 0.7, random_state=42) #note default is 10 splits!\n",
    "\n",
    "np.random.seed(42)\n",
    "\n",
    "print(cv)\n",
    "print(cv.get_n_splits(X,y))\n",
    "\n",
    "# fill in the training and testing data and save as separate variables\n",
    "for trainidx, testidx in cv.split(X,y):\n",
    "    # using a dataframe we need to reference the rows using pd.iloc[] notation\n",
    "    # if we were using a numpy array or sparse matrix, we would be able to just use X[<index>]\n",
    "    X_train, X_test = X.iloc[trainidx], X.iloc[testidx] \n",
    "    y_train, y_test = y.iloc[trainidx], y.iloc[testidx]\n"
   ]
  },
  {
   "cell_type": "code",
   "execution_count": 49,
   "id": "c33c5709",
   "metadata": {},
   "outputs": [
    {
     "name": "stdout",
     "output_type": "stream",
     "text": [
      "(15000, 23)\n",
      "(15000,)\n",
      "Let's take a look at how our training/ test splits came out:\n",
      "StratifiedShuffleSplit(n_splits=1, random_state=42, test_size=0.3,\n",
      "            train_size=0.7) \n",
      "n_splits: 1\n",
      "X_train.shape: (10500, 23) X_test.shape: (4500, 23)\n",
      "y_train.shape: (10500,) y_test.shape: (4500,)\n"
     ]
    }
   ],
   "source": [
    "print(X.shape)\n",
    "print(y.shape)\n",
    "print('Let\\'s take a look at how our training/ test splits came out:')\n",
    "print(cv,'\\nn_splits:',cv.get_n_splits(X,y))\n",
    "print('X_train.shape:',X_train.shape, 'X_test.shape:',X_test.shape)\n",
    "print('y_train.shape:',y_train.shape, 'y_test.shape:',y_test.shape)\n"
   ]
  },
  {
   "cell_type": "markdown",
   "id": "5c079e91",
   "metadata": {},
   "source": [
    "##### <span style='color:red'><b>SelectKBest Feature Selection</b></span>\n",
    "https://scikit-learn.org/stable/modules/generated/sklearn.preprocessing.OrdinalEncoder.html#<br>\n",
    "https://scikit-learn.org/stable/modules/generated/sklearn.preprocessing.LabelEncoder.html#sklearn.preprocessing.LabelEncoder<br>\n",
    "https://scikit-learn.org/stable/modules/generated/sklearn.feature_selection.SelectKBest.html#\n",
    "https://scikit-learn.org/stable/modules/generated/sklearn.pipeline.FeatureUnion.html?highlight=featureunion#sklearn.pipeline.FeatureUnion\n",
    "https://scikit-learn.org/stable/modules/generated/sklearn.preprocessing.FunctionTransformer.html?highlight=functiontransformer#sklearn.preprocessing.FunctionTransformer"
   ]
  },
  {
   "cell_type": "code",
   "execution_count": 52,
   "id": "686d926d",
   "metadata": {},
   "outputs": [
    {
     "name": "stdout",
     "output_type": "stream",
     "text": [
      "                       feature  score  p_values\n",
      "0   product_description_length 764.25      0.00\n",
      "1           product_photos_qty 300.41      0.00\n",
      "2     customer_zip_code_prefix   6.46      0.09\n",
      "3                purchase_year   4.45      0.22\n",
      "4                 purchase_day   2.99      0.39\n",
      "5                 review_score   2.35      0.50\n",
      "6                tot_order_amt   2.23      0.53\n",
      "7                purchase_hour   1.92      0.59\n",
      "8           payment_sequential   1.91      0.59\n",
      "9         payment_installments   1.70      0.64\n",
      "10              customer_state   1.51      0.68\n",
      "11            product_weight_g   1.34      0.72\n",
      "12              purchase_month   1.25      0.74\n",
      "13          product_dimensions   0.83      0.84\n",
      "14                seller_state   0.66      0.88\n",
      "15                 seller_city   0.61      0.89\n",
      "16          review_score_class   0.60      0.90\n",
      "17               freight_value   0.39      0.94\n",
      "18         product_name_length   0.38      0.94\n",
      "19    product_category_english   0.26      0.97\n",
      "20                       price   0.24      0.97\n",
      "21               customer_city   0.13      0.99\n",
      "22      seller_zip_code_prefix   0.07      0.99\n"
     ]
    }
   ],
   "source": [
    "# use SelectKBest from Sklearn to get an idea of best features\n",
    "from sklearn.preprocessing import OrdinalEncoder, LabelEncoder, StandardScaler, FunctionTransformer, MinMaxScaler\n",
    "from sklearn.feature_selection import SelectKBest, chi2\n",
    "from sklearn.pipeline import Pipeline, FeatureUnion, make_pipeline\n",
    "from sklearn.model_selection import GridSearchCV\n",
    "\n",
    "np.random.seed(42)\n",
    "\n",
    "numeric = list(X_train.select_dtypes(include=['float64','int64']).columns)\n",
    "categorical = list(X_train.select_dtypes('category'))\n",
    "\n",
    "# categorical column selector\n",
    "ordinal = Pipeline([('selector_cat', FunctionTransformer(lambda train: train.loc[:,categorical])), \n",
    "                    ('enc', OrdinalEncoder(handle_unknown = 'use_encoded_value', unknown_value=-1))])\n",
    "\n",
    "# numerical column selector\n",
    "scaler = Pipeline([('selector_num', FunctionTransformer(lambda train: train.loc[:,numeric])), \n",
    "                    ('standscale', StandardScaler())])\n",
    "\n",
    "# join the columns backtogether\n",
    "features = FeatureUnion([(\"ordinal\", ordinal),\n",
    "                             (\"scaler\", scaler)])\n",
    "preprocessor = Pipeline([('features', features),\n",
    "                         ('minmax', MinMaxScaler())])\n",
    "\n",
    "preprocessor.fit(X_train)\n",
    "X_train_proc = preprocessor.transform(X_train)\n",
    "X_test_proc = preprocessor.transform(X_test)\n",
    "\n",
    "# convert the resonse variables into numeric values using LabelEncoder \n",
    "le = LabelEncoder()\n",
    "le.fit(y_train)\n",
    "y_train_proc = le.transform(y_train)\n",
    "y_test_proc = le.transform(y_test)\n",
    "\n",
    "skb = SelectKBest(chi2, k=11)  \n",
    "skb.fit(X_train_proc,y_train_proc)\n",
    "X_train_feats = skb.transform(X_train_proc)\n",
    "X_test_feats = skb.transform(X_test_proc)\n",
    "\n",
    "# create a dataframe matching feature names to chi^2 scores\n",
    "cols = np.array(X.columns)\n",
    "pd.options.display.float_format = '{:.2f}'.format # remove that pesky scientific notation\n",
    "feat_scores = pd.DataFrame({'feature':cols, 'score':skb.scores_, 'p_values': skb.pvalues_})\n",
    "\n",
    "# sort by score values in descending order\n",
    "feat_scores.sort_values(by = ['score'], axis=0, ascending=False, inplace=True, ignore_index=True)\n",
    "\n",
    "# print out feature chi^2 scores\n",
    "print(feat_scores)"
   ]
  },
  {
   "cell_type": "code",
   "execution_count": 53,
   "id": "ce4f951d",
   "metadata": {},
   "outputs": [
    {
     "data": {
      "image/png": "[encoded data removed]",
      "text/plain": [
       "<Figure size 864x864 with 1 Axes>"
      ]
     },
     "metadata": {},
     "output_type": "display_data"
    }
   ],
   "source": [
    "# let's also plot the scores to get a visual sense of what features are deemed most important\n",
    "from matplotlib import pyplot\n",
    "\n",
    "plt.style.use('ggplot')\n",
    "fig, ax = plt.subplots(figsize=(12,12))\n",
    "\n",
    "ft = feat_scores.feature[2:22] # leaving out the crazy chi2 scores\n",
    "chiscore = feat_scores.score\n",
    "\n",
    "ax = sns.barplot(x=chiscore, y=ft, palette='Blues_d')\n",
    "#ax.xaxis.set_major_formatter(mpl.ticker.StrMethodFormatter('{x:,.0f}')) # add commas in the x axis numbers\n",
    "ax.set_facecolor('white')\n",
    "ax.set_yticklabels(ft, size=12)\n",
    "\n",
    "plt.title('SelectKBest Feature Selection Using Chi^2 Score')\n",
    "plt.ylabel('Features', size=15)\n",
    "plt.xlabel('Chi^2 Score', size=15)\n",
    "plt.show()\n",
    "\n",
    "\n",
    "\n",
    "#Note I want to keep the top 10, so we will rerun this using k=15 to get our X_train_feats/ X_test_feats with 10 features"
   ]
  },
  {
   "cell_type": "markdown",
   "id": "ae6c1b65",
   "metadata": {},
   "source": [
    "### <span style='color:blue'>Model Selection Random Forest with reduced features tuned with GridSearch</span>\n",
    "https://scikit-learn.org/stable/modules/generated/sklearn.ensemble.RandomForestClassifier.html?highlight=randomforestclassifier#  \n",
    "https://scikit-learn.org/stable/modules/generated/sklearn.model_selection.GridSearchCV.html?highlight=gridsearchcv#sklearn.model_selection.GridSearchCV"
   ]
  },
  {
   "cell_type": "code",
   "execution_count": 54,
   "id": "895a5464",
   "metadata": {},
   "outputs": [
    {
     "data": {
      "text/plain": [
       "GridSearchCV(cv=10,\n",
       "             estimator=RandomForestClassifier(n_jobs=-1, random_state=42),\n",
       "             param_grid={'criterion': ['gini', 'entropy'],\n",
       "                         'max_features': [2, 3, 5],\n",
       "                         'min_samples_leaf': [1, 5, 10],\n",
       "                         'min_samples_split': [2, 10, 25],\n",
       "                         'n_estimators': [100, 150, 200]})"
      ]
     },
     "execution_count": 54,
     "metadata": {},
     "output_type": "execute_result"
    }
   ],
   "source": [
    "from sklearn.ensemble import RandomForestClassifier\n",
    "from sklearn.model_selection import GridSearchCV\n",
    "\n",
    "\n",
    "\n",
    "# code adopted from:https://scikit-learn.org/stable/modules/generated/sklearn.model_selection.GridSearchCV.html?highlight=gridsearchcv#sklearn.model_selection.GridSearchCV\n",
    "rfc = RandomForestClassifier(random_state=42, n_jobs=-1)\n",
    "\n",
    "parameters = {'n_estimators':[100,150,200],\n",
    "              'criterion':['gini','entropy'],\n",
    "              'min_samples_split' : [2,10,25],\n",
    "              'min_samples_leaf': [1,5,10],\n",
    "              'max_features': [2,3,5]}\n",
    "   \n",
    "\n",
    "gs = GridSearchCV(rfc, param_grid = parameters, cv=10)\n",
    "\n",
    "gs.fit(X_train_feats, y_train_proc)\n"
   ]
  },
  {
   "cell_type": "code",
   "execution_count": 55,
   "id": "d1d9f934",
   "metadata": {},
   "outputs": [
    {
     "name": "stdout",
     "output_type": "stream",
     "text": [
      "<class 'dict'>\n",
      "{'criterion': 'gini', 'max_features': 5, 'min_samples_leaf': 1, 'min_samples_split': 25, 'n_estimators': 200}\n"
     ]
    },
    {
     "data": {
      "text/plain": [
       "['best_params_RandomForestClassifier.joblib']"
      ]
     },
     "execution_count": 55,
     "metadata": {},
     "output_type": "execute_result"
    }
   ],
   "source": [
    "from joblib import dump, load\n",
    "\n",
    "best_params = gs.best_params_\n",
    "print(type(best_params))\n",
    "print(best_params)\n",
    "\n",
    "# save parameters\n",
    "\n",
    "dump(gs.best_params_, 'best_params_RandomForestClassifier.joblib', )"
   ]
  },
  {
   "cell_type": "code",
   "execution_count": 56,
   "id": "94cd9078",
   "metadata": {},
   "outputs": [
    {
     "name": "stdout",
     "output_type": "stream",
     "text": [
      "The GridSearchCV too 8.301442 minutes to complete.\n"
     ]
    }
   ],
   "source": [
    "# how long did that gridsearchcv take?\n",
    "\n",
    "mean_fit_time= gs.cv_results_['mean_fit_time']\n",
    "mean_score_time= gs.cv_results_['mean_score_time']\n",
    "n_splits  = gs.n_splits_ #number of splits of training data\n",
    "n_iter = pd.DataFrame(gs.cv_results_).shape[0] #Iterations per split\n",
    "minutes = (np.mean(mean_fit_time + mean_score_time) * n_splits * n_iter)/60\n",
    "print('The GridSearchCV too %f minutes to complete.' % (minutes))"
   ]
  },
  {
   "cell_type": "markdown",
   "id": "b5e75b5d",
   "metadata": {},
   "source": [
    "---"
   ]
  },
  {
   "cell_type": "markdown",
   "id": "5262feea",
   "metadata": {},
   "source": [
    "---\n",
    "## <span style='color:orange'><u>Now Run </u></span><span style='color:red'><u>RandomForestClassifier </u></span><span style='color:orange'><u>using the full dataset!</u></span>\n",
    "---"
   ]
  },
  {
   "cell_type": "markdown",
   "id": "8c576999",
   "metadata": {},
   "source": [
    "---"
   ]
  },
  {
   "cell_type": "code",
   "execution_count": 57,
   "id": "2f87b8b7",
   "metadata": {},
   "outputs": [
    {
     "name": "stdout",
     "output_type": "stream",
     "text": [
      "\n",
      "=====================Shapes=====================\n",
      "\n",
      "Original dataset shape: (15000, 24)\n",
      "X shape: (103331, 23)\n",
      "y shape: (103331,)\n"
     ]
    }
   ],
   "source": [
    "# remove the response variable - payment_method\n",
    "y_rfc = copy.deepcopy(random.payment_type)\n",
    "X_rfc = copy.deepcopy(random.drop(columns=['payment_type']))\n",
    "\n",
    "print('\\n=====================Shapes=====================\\n')\n",
    "print('Original dataset shape:', grids.shape)\n",
    "print('X shape:', X_rfc.shape)\n",
    "print('y shape:', y_rfc.shape)\n",
    "\n",
    "\n"
   ]
  },
  {
   "cell_type": "markdown",
   "id": "5eeffbc4",
   "metadata": {},
   "source": [
    "##### StratifiedShuffleSplit Train/Test\n",
    "https://scikit-learn.org/stable/modules/generated/sklearn.model_selection.StratifiedShuffleSplit.html?highlight=stratifiedshufflesplit#sklearn.model_selection.StratifiedShuffleSplit"
   ]
  },
  {
   "cell_type": "code",
   "execution_count": 58,
   "id": "c4bc8aa6",
   "metadata": {},
   "outputs": [
    {
     "name": "stdout",
     "output_type": "stream",
     "text": [
      "StratifiedShuffleSplit(n_splits=1, random_state=42, test_size=0.3,\n",
      "            train_size=0.7)\n",
      "1\n"
     ]
    }
   ],
   "source": [
    "# train/ test split\n",
    "from sklearn.model_selection import StratifiedShuffleSplit\n",
    "\n",
    "np.random.seed(42)\n",
    "cv = StratifiedShuffleSplit(n_splits=1,test_size = 0.3, train_size = 0.7, random_state=42) #note default is 10 splits!\n",
    "\n",
    "print(cv)\n",
    "print(cv.get_n_splits(X_rfc,y_rfc))\n",
    "\n",
    "# fill in the training and testing data and save as separate variables\n",
    "for trainidx, testidx in cv.split(X,y):\n",
    "    # using a dataframe we need to reference the rows using pd.iloc[] notation\n",
    "    # if we were using a numpy array or sparse matrix, we would be able to just use X[<index>]\n",
    "    X_train_rfc, X_test_rfc = X.iloc[trainidx], X.iloc[testidx] \n",
    "    y_train_rfc, y_test_rfc = y.iloc[trainidx], y.iloc[testidx]\n"
   ]
  },
  {
   "cell_type": "markdown",
   "id": "7f4c6b39",
   "metadata": {},
   "source": [
    "##### <span style='color:red'><b>SelectKBest Feature Selection</b></span>\n",
    "https://scikit-learn.org/stable/modules/generated/sklearn.preprocessing.OrdinalEncoder.html#<br>\n",
    "https://scikit-learn.org/stable/modules/generated/sklearn.preprocessing.LabelEncoder.html#sklearn.preprocessing.LabelEncoder<br>\n",
    "https://scikit-learn.org/stable/modules/generated/sklearn.feature_selection.SelectKBest.html#\n",
    "https://scikit-learn.org/stable/modules/generated/sklearn.pipeline.FeatureUnion.html?highlight=featureunion#sklearn.pipeline.FeatureUnion\n",
    "https://scikit-learn.org/stable/modules/generated/sklearn.preprocessing.FunctionTransformer.html?highlight=functiontransformer#sklearn.preprocessing.FunctionTransformer"
   ]
  },
  {
   "cell_type": "code",
   "execution_count": 62,
   "id": "c23f4dff",
   "metadata": {},
   "outputs": [
    {
     "name": "stdout",
     "output_type": "stream",
     "text": [
      "                       feature  score  p_values\n",
      "0   product_description_length 764.25      0.00\n",
      "1           product_photos_qty 300.41      0.00\n",
      "2     customer_zip_code_prefix   6.46      0.09\n",
      "3                purchase_year   4.45      0.22\n",
      "4                 purchase_day   2.99      0.39\n",
      "5                 review_score   2.35      0.50\n",
      "6                tot_order_amt   2.23      0.53\n",
      "7                purchase_hour   1.92      0.59\n",
      "8           payment_sequential   1.91      0.59\n",
      "9         payment_installments   1.70      0.64\n",
      "10              customer_state   1.51      0.68\n",
      "11            product_weight_g   1.34      0.72\n",
      "12              purchase_month   1.25      0.74\n",
      "13          product_dimensions   0.83      0.84\n",
      "14                seller_state   0.66      0.88\n",
      "15                 seller_city   0.61      0.89\n",
      "16          review_score_class   0.60      0.90\n",
      "17               freight_value   0.39      0.94\n",
      "18         product_name_length   0.38      0.94\n",
      "19    product_category_english   0.26      0.97\n",
      "20                       price   0.24      0.97\n",
      "21               customer_city   0.13      0.99\n",
      "22      seller_zip_code_prefix   0.07      0.99\n"
     ]
    }
   ],
   "source": [
    "# use SelectKBest from Sklearn to get an idea of best features\n",
    "from sklearn.preprocessing import OrdinalEncoder, LabelEncoder, StandardScaler, FunctionTransformer, MinMaxScaler\n",
    "from sklearn.feature_selection import SelectKBest, chi2\n",
    "from sklearn.pipeline import Pipeline, FeatureUnion, make_pipeline\n",
    "from sklearn.model_selection import GridSearchCV, cross_val_score, cross_val_predict\n",
    "\n",
    "np.random.seed(42)\n",
    "\n",
    "numeric = list(X_train_rfc.select_dtypes(include=['float64','int64']).columns)\n",
    "categorical = list(X_train_rfc.select_dtypes('category'))\n",
    "\n",
    "# categorical column selector\n",
    "ordinal = Pipeline([('selector_cat', FunctionTransformer(lambda train: train.loc[:,categorical])), \n",
    "                    ('enc', OrdinalEncoder(handle_unknown = 'use_encoded_value', unknown_value=-1))])\n",
    "\n",
    "# numerical column selector\n",
    "scaler = Pipeline([('selector_num', FunctionTransformer(lambda train: train.loc[:,numeric])), \n",
    "                    ('standscale', StandardScaler())])\n",
    "\n",
    "# join the columns backtogether\n",
    "features = FeatureUnion([(\"ordinal\", ordinal),\n",
    "                             (\"scaler\", scaler)])\n",
    "preprocessor = Pipeline([('features', features),\n",
    "                         ('minmax', MinMaxScaler())])\n",
    "\n",
    "preprocessor.fit(X_train_rfc)\n",
    "X_train_rfc_proc = preprocessor.transform(X_train_rfc)\n",
    "X_test_rfc_proc = preprocessor.transform(X_test_rfc)\n",
    "\n",
    "# convert the resonse variables into numeric values using LabelEncoder \n",
    "le = LabelEncoder()\n",
    "le.fit(y_train_rfc)\n",
    "y_train_rfc_proc = le.transform(y_train_rfc)\n",
    "y_test_rfc_proc = le.transform(y_test_rfc)\n",
    "\n",
    "skb = SelectKBest(chi2, k=11)  \n",
    "skb.fit(X_train_proc,y_train_rfc_proc)\n",
    "X_train_rfc_feats = skb.transform(X_train_rfc_proc)\n",
    "X_test_rfc_feats = skb.transform(X_test_rfc_proc)\n",
    "\n",
    "# create a dataframe matching feature names to chi^2 scores\n",
    "cols = np.array(X_rfc.columns)\n",
    "pd.options.display.float_format = '{:.2f}'.format # remove that pesky scientific notation\n",
    "feat_scores_rfc = pd.DataFrame({'feature':cols, 'score':skb.scores_, 'p_values': skb.pvalues_})\n",
    "\n",
    "# sort by score values in descending order\n",
    "feat_scores_rfc.sort_values(by = ['score'], axis=0, ascending=False, inplace=True, ignore_index=True)\n",
    "\n",
    "# print out feature chi^2 scores\n",
    "print(feat_scores_rfc)"
   ]
  },
  {
   "cell_type": "code",
   "execution_count": 67,
   "id": "c831fcf8",
   "metadata": {},
   "outputs": [
    {
     "data": {
      "image/png": "[encoded data removed]",
      "text/plain": [
       "<Figure size 864x864 with 2 Axes>"
      ]
     },
     "metadata": {},
     "output_type": "display_data"
    },
    {
     "name": "stdout",
     "output_type": "stream",
     "text": [
      "  payment_type  f1_measure\n",
      "0       boleto        0.42\n",
      "1  credit_card        0.87\n",
      "2   debit_card        0.00\n",
      "3      voucher        0.85\n"
     ]
    }
   ],
   "source": [
    "from sklearn.metrics import f1_score, confusion_matrix\n",
    "\n",
    "\n",
    "# run final randomforest using these new settings\n",
    "\n",
    "cv = StratifiedShuffleSplit(n_splits=10,test_size = 0.3, train_size = 0.7, random_state=42) #note default is 10 splits!\n",
    "\n",
    "# final model \n",
    "# {'criterion': 'gini', 'max_features': 5, 'min_samples_leaf': 1, 'min_samples_split': 25, 'n_estimators': 200}\n",
    "rfc = RandomForestClassifier(n_estimators = 200, criterion = 'gini',\n",
    "                             min_samples_split = 25, min_samples_leaf = 1,\n",
    "                             max_features = 5, random_state=42)\n",
    "\n",
    "scores = cross_val_score(rfc, X_train_rfc_feats, y_train_rfc_proc, cv=10, scoring='f1_weighted')\n",
    "\n",
    "rfc.fit(X_train_rfc_feats, y_train_rfc_proc)\n",
    "\n",
    "yhat_rfc = cross_val_predict(rfc,X_test_rfc_feats,y_test_rfc_proc, cv=10)\n",
    "\n",
    "f1_rfc = f1_score(y_test_rfc_proc, yhat_rfc, average=None)\n",
    "\n",
    "\n",
    "labels = ['boleto','credit_card','debit_card','voucher']\n",
    "conf_rfc = confusion_matrix(le.inverse_transform(y_test_rfc_proc), le.inverse_transform(yhat_rfc), labels=labels)\n",
    "\n",
    "# plot results in a heatmap\n",
    "f, ax = plt.subplots(figsize=(12,12))\n",
    "\n",
    "sns.heatmap(conf_rfc, annot=True, fmt='g', ax=ax, cmap='icefire')\n",
    "\n",
    "ax.set_xlabel('Predicted Values', size=15)\n",
    "ax.set_ylabel('Actual Values', size=15)\n",
    "ax.set_title('Confusion Matrix for cross_val_presdictions using RandomForestClassifier')\n",
    "ax.xaxis.set_ticklabels(labels, size=15)\n",
    "ax.yaxis.set_ticklabels(labels, size=15)\n",
    "plt.show()\n",
    "\n",
    "fmeasure_rfc = pd.DataFrame({'payment_type':labels,\n",
    "                         'f1_measure': f1_rfc})\n",
    "print(fmeasure_rfc)\n",
    "\n",
    "     "
   ]
  }
 ],
 "metadata": {
  "kernelspec": {
   "display_name": "Python 3",
   "language": "python",
   "name": "python3"
  },
  "language_info": {
   "codemirror_mode": {
    "name": "ipython",
    "version": 3
   },
   "file_extension": ".py",
   "mimetype": "text/x-python",
   "name": "python",
   "nbconvert_exporter": "python",
   "pygments_lexer": "ipython3",
   "version": "3.8.10"
  }
 },
 "nbformat": 4,
 "nbformat_minor": 5
}
