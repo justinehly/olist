{
 "cells": [
  {
   "cell_type": "markdown",
   "id": "531f89ba",
   "metadata": {},
   "source": [
    "# Mini Lab\n",
    "\n",
    "## Group Members\n",
    "- Helene Barrera\n",
    "- Feby Thomas\n",
    "- John Olanipekun\n",
    "- Justin Ehly\n",
    "\n",
    "## <span style='color:blue'> Mini Lab Executive Summary </span>\n",
    "* This exercise seeks to fit **logistic regression**  and **Support Vector Machine** models to our groups dataset: *Olist E-Commerce* dataset. \n",
    "* We will develop a base classifier that determines if a package is <span style='color:red'> **'late', 'on time' or 'early'**</span> and subsequently tune the hyperparameters for possible improvement to the performance metrics (i.e. Accuracy, Precision, F-Score and Sensitivity).\n",
    "* This modeling phase will utilize the 'clean' dataset that was processed for the visualization task, but still needs some data preprocessing due to the transfer from one project to the next using a CSV file. \n",
    "* The **derived** response for the objective is actual delivery duration. Therefore the predictive model will predict actual delivery duration with performance measured on the held out test set. "
   ]
  },
  {
   "cell_type": "code",
   "execution_count": 33,
   "id": "d91a2400",
   "metadata": {},
   "outputs": [],
   "source": [
    "# set up environment\n",
    "import numpy as np\n",
    "import pandas as pd\n",
    "import os\n",
    "from datetime import datetime as dt\n",
    "import matplotlib.pyplot as plt\n",
    "import seaborn as sns\n"
   ]
  },
  {
   "cell_type": "code",
   "execution_count": 34,
   "id": "d13f2be2",
   "metadata": {},
   "outputs": [],
   "source": [
    "# change working directory\n",
    "#os.chdir(r\"C:\\Users\\olani\\OneDrive\\Documents\\Data Science\\SMU-Data Science\\Machine Learning 1\\Olist_Dataset\")\n",
    "#\"C:\\Users\\olani\\OneDrive\\Documents\\Data Science\\SMU-Data Science\\Machine Learning 1\\Olist_Dataset\"\n",
    "#os.chdir(r\"C:\\Users\\justi\\GitHub\\olist\\python\")\n",
    "# get current working directory\n",
    "#os.getcwd()"
   ]
  },
  {
   "cell_type": "code",
   "execution_count": 35,
   "id": "f65573fe",
   "metadata": {},
   "outputs": [
    {
     "data": {
      "text/plain": [
       "'C:\\\\Users\\\\olani\\\\OneDrive\\\\Documents\\\\Data Science\\\\SMU-Data Science\\\\Machine Learning 1\\\\Lab 2_Classification'"
      ]
     },
     "execution_count": 35,
     "metadata": {},
     "output_type": "execute_result"
    }
   ],
   "source": [
    "# change working directory\n",
    "os.chdir(r\"C:\\Users\\olani\\OneDrive\\Documents\\Data Science\\SMU-Data Science\\Machine Learning 1\\Lab 2_Classification\")\n",
    "#\"C:\\Users\\olani\\OneDrive\\Documents\\Data Science\\SMU-Data Science\\Machine Learning 1\\Olist_Dataset\"\n",
    "\n",
    "# get current working directory\n",
    "os.getcwd()"
   ]
  },
  {
   "cell_type": "code",
   "execution_count": 36,
   "id": "1139924b",
   "metadata": {},
   "outputs": [
    {
     "data": {
      "text/html": [
       "<div>\n",
       "<style scoped>\n",
       "    .dataframe tbody tr th:only-of-type {\n",
       "        vertical-align: middle;\n",
       "    }\n",
       "\n",
       "    .dataframe tbody tr th {\n",
       "        vertical-align: top;\n",
       "    }\n",
       "\n",
       "    .dataframe thead th {\n",
       "        text-align: right;\n",
       "    }\n",
       "</style>\n",
       "<table border=\"1\" class=\"dataframe\">\n",
       "  <thead>\n",
       "    <tr style=\"text-align: right;\">\n",
       "      <th></th>\n",
       "      <th>order_id</th>\n",
       "      <th>customer_id</th>\n",
       "      <th>order_purchase_timestamp</th>\n",
       "      <th>order_approved_at</th>\n",
       "      <th>order_delivered_carrier_date</th>\n",
       "      <th>order_delivered_customer_date</th>\n",
       "      <th>order_estimated_delivery_date</th>\n",
       "      <th>customer_unique_id</th>\n",
       "      <th>customer_zip_code_prefix</th>\n",
       "      <th>customer_city</th>\n",
       "      <th>...</th>\n",
       "      <th>seller_state</th>\n",
       "      <th>tot_order_amt</th>\n",
       "      <th>purchase_wk_day</th>\n",
       "      <th>purchase_month</th>\n",
       "      <th>review_score_class</th>\n",
       "      <th>order_delivery_actual_duration</th>\n",
       "      <th>order_delivery_estimated_duration</th>\n",
       "      <th>delivery_estimate_discrepancy</th>\n",
       "      <th>product_dimensions</th>\n",
       "      <th>delivery_est_discrepancy_range</th>\n",
       "    </tr>\n",
       "  </thead>\n",
       "  <tbody>\n",
       "    <tr>\n",
       "      <th>0</th>\n",
       "      <td>b81ef226f3fe1789b1e8b2acac839d17</td>\n",
       "      <td>0a8556ac6be836b46b3e89920d59291c</td>\n",
       "      <td>2018-04-25 22:01:49</td>\n",
       "      <td>2018-04-25 22:15:09</td>\n",
       "      <td>2018-05-02 15:20:00</td>\n",
       "      <td>2018-05-09 17:36:51</td>\n",
       "      <td>2018-05-22 00:00:00</td>\n",
       "      <td>708ab75d2a007f0564aedd11139c7708</td>\n",
       "      <td>39801</td>\n",
       "      <td>teofilo otoni</td>\n",
       "      <td>...</td>\n",
       "      <td>SP</td>\n",
       "      <td>99.33</td>\n",
       "      <td>Wednesday</td>\n",
       "      <td>April</td>\n",
       "      <td>bad</td>\n",
       "      <td>13</td>\n",
       "      <td>26</td>\n",
       "      <td>13</td>\n",
       "      <td>7803.0</td>\n",
       "      <td>too early</td>\n",
       "    </tr>\n",
       "    <tr>\n",
       "      <th>1</th>\n",
       "      <td>a9810da82917af2d9aefd1278f1dcfa0</td>\n",
       "      <td>f2c7fc58a9de810828715166c672f10a</td>\n",
       "      <td>2018-06-26 11:01:38</td>\n",
       "      <td>2018-06-26 11:18:58</td>\n",
       "      <td>2018-06-28 14:18:00</td>\n",
       "      <td>2018-06-29 20:32:09</td>\n",
       "      <td>2018-07-16 00:00:00</td>\n",
       "      <td>a8b9d3a27068454b1c98cc67d4e31e6f</td>\n",
       "      <td>2422</td>\n",
       "      <td>sao paulo</td>\n",
       "      <td>...</td>\n",
       "      <td>SP</td>\n",
       "      <td>24.39</td>\n",
       "      <td>Tuesday</td>\n",
       "      <td>June</td>\n",
       "      <td>good</td>\n",
       "      <td>3</td>\n",
       "      <td>19</td>\n",
       "      <td>16</td>\n",
       "      <td>1056.0</td>\n",
       "      <td>too early</td>\n",
       "    </tr>\n",
       "    <tr>\n",
       "      <th>2</th>\n",
       "      <td>25e8ea4e93396b6fa0d3dd708e76c1bd</td>\n",
       "      <td>25b14b69de0b6e184ae6fe2755e478f9</td>\n",
       "      <td>2017-12-12 11:19:55</td>\n",
       "      <td>2017-12-14 09:52:34</td>\n",
       "      <td>2017-12-15 20:13:22</td>\n",
       "      <td>2017-12-18 17:24:41</td>\n",
       "      <td>2018-01-04 00:00:00</td>\n",
       "      <td>6f70c0b2f7552832ba46eb57b1c5651e</td>\n",
       "      <td>2652</td>\n",
       "      <td>sao paulo</td>\n",
       "      <td>...</td>\n",
       "      <td>SP</td>\n",
       "      <td>65.71</td>\n",
       "      <td>Tuesday</td>\n",
       "      <td>December</td>\n",
       "      <td>good</td>\n",
       "      <td>4</td>\n",
       "      <td>20</td>\n",
       "      <td>16</td>\n",
       "      <td>3360.0</td>\n",
       "      <td>too early</td>\n",
       "    </tr>\n",
       "    <tr>\n",
       "      <th>3</th>\n",
       "      <td>ba78997921bbcdc1373bb41e913ab953</td>\n",
       "      <td>7a5d8efaaa1081f800628c30d2b0728f</td>\n",
       "      <td>2017-12-06 12:04:06</td>\n",
       "      <td>2017-12-06 12:13:20</td>\n",
       "      <td>2017-12-07 20:28:28</td>\n",
       "      <td>2017-12-21 01:35:51</td>\n",
       "      <td>2018-01-04 00:00:00</td>\n",
       "      <td>87695ed086ebd36f20404c82d20fca87</td>\n",
       "      <td>36060</td>\n",
       "      <td>juiz de fora</td>\n",
       "      <td>...</td>\n",
       "      <td>SP</td>\n",
       "      <td>107.78</td>\n",
       "      <td>Wednesday</td>\n",
       "      <td>December</td>\n",
       "      <td>good</td>\n",
       "      <td>14</td>\n",
       "      <td>28</td>\n",
       "      <td>14</td>\n",
       "      <td>3080.0</td>\n",
       "      <td>too early</td>\n",
       "    </tr>\n",
       "    <tr>\n",
       "      <th>4</th>\n",
       "      <td>ba78997921bbcdc1373bb41e913ab953</td>\n",
       "      <td>7a5d8efaaa1081f800628c30d2b0728f</td>\n",
       "      <td>2017-12-06 12:04:06</td>\n",
       "      <td>2017-12-06 12:13:20</td>\n",
       "      <td>2017-12-07 20:28:28</td>\n",
       "      <td>2017-12-21 01:35:51</td>\n",
       "      <td>2018-01-04 00:00:00</td>\n",
       "      <td>87695ed086ebd36f20404c82d20fca87</td>\n",
       "      <td>36060</td>\n",
       "      <td>juiz de fora</td>\n",
       "      <td>...</td>\n",
       "      <td>SP</td>\n",
       "      <td>107.78</td>\n",
       "      <td>Wednesday</td>\n",
       "      <td>December</td>\n",
       "      <td>good</td>\n",
       "      <td>14</td>\n",
       "      <td>28</td>\n",
       "      <td>14</td>\n",
       "      <td>3080.0</td>\n",
       "      <td>too early</td>\n",
       "    </tr>\n",
       "  </tbody>\n",
       "</table>\n",
       "<p>5 rows × 47 columns</p>\n",
       "</div>"
      ],
      "text/plain": [
       "                           order_id                       customer_id  \\\n",
       "0  b81ef226f3fe1789b1e8b2acac839d17  0a8556ac6be836b46b3e89920d59291c   \n",
       "1  a9810da82917af2d9aefd1278f1dcfa0  f2c7fc58a9de810828715166c672f10a   \n",
       "2  25e8ea4e93396b6fa0d3dd708e76c1bd  25b14b69de0b6e184ae6fe2755e478f9   \n",
       "3  ba78997921bbcdc1373bb41e913ab953  7a5d8efaaa1081f800628c30d2b0728f   \n",
       "4  ba78997921bbcdc1373bb41e913ab953  7a5d8efaaa1081f800628c30d2b0728f   \n",
       "\n",
       "  order_purchase_timestamp    order_approved_at order_delivered_carrier_date  \\\n",
       "0      2018-04-25 22:01:49  2018-04-25 22:15:09          2018-05-02 15:20:00   \n",
       "1      2018-06-26 11:01:38  2018-06-26 11:18:58          2018-06-28 14:18:00   \n",
       "2      2017-12-12 11:19:55  2017-12-14 09:52:34          2017-12-15 20:13:22   \n",
       "3      2017-12-06 12:04:06  2017-12-06 12:13:20          2017-12-07 20:28:28   \n",
       "4      2017-12-06 12:04:06  2017-12-06 12:13:20          2017-12-07 20:28:28   \n",
       "\n",
       "  order_delivered_customer_date order_estimated_delivery_date  \\\n",
       "0           2018-05-09 17:36:51           2018-05-22 00:00:00   \n",
       "1           2018-06-29 20:32:09           2018-07-16 00:00:00   \n",
       "2           2017-12-18 17:24:41           2018-01-04 00:00:00   \n",
       "3           2017-12-21 01:35:51           2018-01-04 00:00:00   \n",
       "4           2017-12-21 01:35:51           2018-01-04 00:00:00   \n",
       "\n",
       "                 customer_unique_id  customer_zip_code_prefix  customer_city  \\\n",
       "0  708ab75d2a007f0564aedd11139c7708                     39801  teofilo otoni   \n",
       "1  a8b9d3a27068454b1c98cc67d4e31e6f                      2422      sao paulo   \n",
       "2  6f70c0b2f7552832ba46eb57b1c5651e                      2652      sao paulo   \n",
       "3  87695ed086ebd36f20404c82d20fca87                     36060   juiz de fora   \n",
       "4  87695ed086ebd36f20404c82d20fca87                     36060   juiz de fora   \n",
       "\n",
       "   ... seller_state tot_order_amt  purchase_wk_day purchase_month  \\\n",
       "0  ...           SP         99.33        Wednesday          April   \n",
       "1  ...           SP         24.39          Tuesday           June   \n",
       "2  ...           SP         65.71          Tuesday       December   \n",
       "3  ...           SP        107.78        Wednesday       December   \n",
       "4  ...           SP        107.78        Wednesday       December   \n",
       "\n",
       "  review_score_class order_delivery_actual_duration  \\\n",
       "0                bad                             13   \n",
       "1               good                              3   \n",
       "2               good                              4   \n",
       "3               good                             14   \n",
       "4               good                             14   \n",
       "\n",
       "  order_delivery_estimated_duration  delivery_estimate_discrepancy  \\\n",
       "0                                26                             13   \n",
       "1                                19                             16   \n",
       "2                                20                             16   \n",
       "3                                28                             14   \n",
       "4                                28                             14   \n",
       "\n",
       "  product_dimensions  delivery_est_discrepancy_range  \n",
       "0             7803.0                       too early  \n",
       "1             1056.0                       too early  \n",
       "2             3360.0                       too early  \n",
       "3             3080.0                       too early  \n",
       "4             3080.0                       too early  \n",
       "\n",
       "[5 rows x 47 columns]"
      ]
     },
     "execution_count": 36,
     "metadata": {},
     "output_type": "execute_result"
    }
   ],
   "source": [
    "olist = pd.read_csv('olist_lab1_data.csv')\n",
    "olist.head()"
   ]
  },
  {
   "cell_type": "code",
   "execution_count": 37,
   "id": "1631c4a5",
   "metadata": {},
   "outputs": [
    {
     "name": "stdout",
     "output_type": "stream",
     "text": [
      "<class 'pandas.core.frame.DataFrame'>\n",
      "RangeIndex: 114067 entries, 0 to 114066\n",
      "Data columns (total 47 columns):\n",
      " #   Column                             Non-Null Count   Dtype  \n",
      "---  ------                             --------------   -----  \n",
      " 0   order_id                           114067 non-null  object \n",
      " 1   customer_id                        114067 non-null  object \n",
      " 2   order_purchase_timestamp           114067 non-null  object \n",
      " 3   order_approved_at                  114067 non-null  object \n",
      " 4   order_delivered_carrier_date       114067 non-null  object \n",
      " 5   order_delivered_customer_date      114067 non-null  object \n",
      " 6   order_estimated_delivery_date      114067 non-null  object \n",
      " 7   customer_unique_id                 114067 non-null  object \n",
      " 8   customer_zip_code_prefix           114067 non-null  int64  \n",
      " 9   customer_city                      114067 non-null  object \n",
      " 10  customer_state                     114067 non-null  object \n",
      " 11  review_id                          114067 non-null  object \n",
      " 12  review_score                       114067 non-null  float64\n",
      " 13  review_comment_title               13661 non-null   object \n",
      " 14  review_comment_message             48220 non-null   object \n",
      " 15  review_creation_date               114067 non-null  object \n",
      " 16  review_answer_timestamp            114067 non-null  object \n",
      " 17  payment_sequential                 114067 non-null  float64\n",
      " 18  payment_type                       114067 non-null  object \n",
      " 19  payment_installments               114067 non-null  float64\n",
      " 20  payment_value                      114067 non-null  float64\n",
      " 21  order_item_id                      114067 non-null  float64\n",
      " 22  product_id                         114067 non-null  object \n",
      " 23  seller_id                          114067 non-null  object \n",
      " 24  shipping_limit_date                114067 non-null  object \n",
      " 25  price                              114067 non-null  float64\n",
      " 26  freight_value                      114067 non-null  float64\n",
      " 27  product_name_length                114067 non-null  float64\n",
      " 28  product_description_length         114067 non-null  float64\n",
      " 29  product_photos_qty                 114067 non-null  float64\n",
      " 30  product_weight_g                   114066 non-null  float64\n",
      " 31  product_length_cm                  114066 non-null  float64\n",
      " 32  product_height_cm                  114066 non-null  float64\n",
      " 33  product_width_cm                   114066 non-null  float64\n",
      " 34  product_category_english           114067 non-null  object \n",
      " 35  seller_zip_code_prefix             114067 non-null  float64\n",
      " 36  seller_city                        114067 non-null  object \n",
      " 37  seller_state                       114067 non-null  object \n",
      " 38  tot_order_amt                      114067 non-null  float64\n",
      " 39  purchase_wk_day                    114067 non-null  object \n",
      " 40  purchase_month                     114067 non-null  object \n",
      " 41  review_score_class                 114067 non-null  object \n",
      " 42  order_delivery_actual_duration     114067 non-null  int64  \n",
      " 43  order_delivery_estimated_duration  114067 non-null  int64  \n",
      " 44  delivery_estimate_discrepancy      114067 non-null  int64  \n",
      " 45  product_dimensions                 114066 non-null  float64\n",
      " 46  delivery_est_discrepancy_range     114067 non-null  object \n",
      "dtypes: float64(17), int64(4), object(26)\n",
      "memory usage: 40.9+ MB\n"
     ]
    }
   ],
   "source": [
    "olist.info()"
   ]
  },
  {
   "cell_type": "markdown",
   "id": "ed429468",
   "metadata": {},
   "source": [
    "## <span style='color:blue'> **Data Preprocessing** </span>\n",
    "\n",
    "* This exercise seeks to fit:\n",
    "    - **Data Preparation** 'Olist_lab1_data.csv' (114067 instances and 47 attributes) will be prepared for the model.  \n",
    "        - This dataset is the resulted from robust data preparation steps applied to the original raw dataset.\n",
    "        - This was submitted at the deliverable for Lab 1.\n",
    "        - As reminder, the original raw dataset was received in multiple files (10 files).\n",
    "        - This files were merged using the attribute's unique key contraints as the case may be.  \n",
    "        - In the current version of the dataset we will take care of the following:\n",
    "            - re-label categorical levels with less than 500 observations as 'others'.\n",
    "            - Beneficially, this will imply that the new columns generated by one hot encoding are actual contributing useful variance to the dataset.\n",
    "            - It will improve class imbalance with respect to the affected attributes.\n",
    "            - Suspect categorical attributes are Product categories and Customer city;\n",
    "            - The resulting one-to-many effect of the join operation used to merge the dataset may have caused some instances to be duplicated when certain unique id attributes are dropped from the eventual dataset.\n",
    "            - The duplicates in the final version of the dataset will be removed, chiefly because:\n",
    "                - According to Schafer (2013, pp. 91), independence of observations is a key assumption that should be met before applying linear models to a dataset. Occurence of duplicates in our dataset can cause cluster effect which directly implies a lack of independence (e.g. Schafer 2013, pp. 91). \n",
    "               **Reference**: Ramsey Schafer, 2013: The Statistical Sleuth. 3rd Edition.       \n",
    "    "
   ]
  },
  {
   "cell_type": "code",
   "execution_count": 38,
   "id": "d7d66bca",
   "metadata": {},
   "outputs": [
    {
     "data": {
      "text/html": [
       "<div>\n",
       "<style scoped>\n",
       "    .dataframe tbody tr th:only-of-type {\n",
       "        vertical-align: middle;\n",
       "    }\n",
       "\n",
       "    .dataframe tbody tr th {\n",
       "        vertical-align: top;\n",
       "    }\n",
       "\n",
       "    .dataframe thead th {\n",
       "        text-align: right;\n",
       "    }\n",
       "</style>\n",
       "<table border=\"1\" class=\"dataframe\">\n",
       "  <thead>\n",
       "    <tr style=\"text-align: right;\">\n",
       "      <th></th>\n",
       "      <th>order_id</th>\n",
       "      <th>customer_id</th>\n",
       "      <th>order_purchase_timestamp</th>\n",
       "      <th>order_approved_at</th>\n",
       "      <th>order_delivered_carrier_date</th>\n",
       "      <th>order_delivered_customer_date</th>\n",
       "      <th>order_estimated_delivery_date</th>\n",
       "      <th>customer_unique_id</th>\n",
       "      <th>customer_zip_code_prefix</th>\n",
       "      <th>customer_city</th>\n",
       "      <th>...</th>\n",
       "      <th>seller_state</th>\n",
       "      <th>tot_order_amt</th>\n",
       "      <th>purchase_wk_day</th>\n",
       "      <th>purchase_month</th>\n",
       "      <th>review_score_class</th>\n",
       "      <th>order_delivery_actual_duration</th>\n",
       "      <th>order_delivery_estimated_duration</th>\n",
       "      <th>delivery_estimate_discrepancy</th>\n",
       "      <th>product_dimensions</th>\n",
       "      <th>delivery_est_discrepancy_range</th>\n",
       "    </tr>\n",
       "  </thead>\n",
       "  <tbody>\n",
       "    <tr>\n",
       "      <th>0</th>\n",
       "      <td>b81ef226f3fe1789b1e8b2acac839d17</td>\n",
       "      <td>0a8556ac6be836b46b3e89920d59291c</td>\n",
       "      <td>2018-04-25 22:01:49</td>\n",
       "      <td>2018-04-25 22:15:09</td>\n",
       "      <td>2018-05-02 15:20:00</td>\n",
       "      <td>2018-05-09 17:36:51</td>\n",
       "      <td>2018-05-22 00:00:00</td>\n",
       "      <td>708ab75d2a007f0564aedd11139c7708</td>\n",
       "      <td>39801</td>\n",
       "      <td>teofilo otoni</td>\n",
       "      <td>...</td>\n",
       "      <td>SP</td>\n",
       "      <td>99.33</td>\n",
       "      <td>Wednesday</td>\n",
       "      <td>April</td>\n",
       "      <td>bad</td>\n",
       "      <td>13</td>\n",
       "      <td>26</td>\n",
       "      <td>13</td>\n",
       "      <td>7803.0</td>\n",
       "      <td>too early</td>\n",
       "    </tr>\n",
       "    <tr>\n",
       "      <th>1</th>\n",
       "      <td>a9810da82917af2d9aefd1278f1dcfa0</td>\n",
       "      <td>f2c7fc58a9de810828715166c672f10a</td>\n",
       "      <td>2018-06-26 11:01:38</td>\n",
       "      <td>2018-06-26 11:18:58</td>\n",
       "      <td>2018-06-28 14:18:00</td>\n",
       "      <td>2018-06-29 20:32:09</td>\n",
       "      <td>2018-07-16 00:00:00</td>\n",
       "      <td>a8b9d3a27068454b1c98cc67d4e31e6f</td>\n",
       "      <td>2422</td>\n",
       "      <td>sao paulo</td>\n",
       "      <td>...</td>\n",
       "      <td>SP</td>\n",
       "      <td>24.39</td>\n",
       "      <td>Tuesday</td>\n",
       "      <td>June</td>\n",
       "      <td>good</td>\n",
       "      <td>3</td>\n",
       "      <td>19</td>\n",
       "      <td>16</td>\n",
       "      <td>1056.0</td>\n",
       "      <td>too early</td>\n",
       "    </tr>\n",
       "    <tr>\n",
       "      <th>2</th>\n",
       "      <td>25e8ea4e93396b6fa0d3dd708e76c1bd</td>\n",
       "      <td>25b14b69de0b6e184ae6fe2755e478f9</td>\n",
       "      <td>2017-12-12 11:19:55</td>\n",
       "      <td>2017-12-14 09:52:34</td>\n",
       "      <td>2017-12-15 20:13:22</td>\n",
       "      <td>2017-12-18 17:24:41</td>\n",
       "      <td>2018-01-04 00:00:00</td>\n",
       "      <td>6f70c0b2f7552832ba46eb57b1c5651e</td>\n",
       "      <td>2652</td>\n",
       "      <td>sao paulo</td>\n",
       "      <td>...</td>\n",
       "      <td>SP</td>\n",
       "      <td>65.71</td>\n",
       "      <td>Tuesday</td>\n",
       "      <td>December</td>\n",
       "      <td>good</td>\n",
       "      <td>4</td>\n",
       "      <td>20</td>\n",
       "      <td>16</td>\n",
       "      <td>3360.0</td>\n",
       "      <td>too early</td>\n",
       "    </tr>\n",
       "    <tr>\n",
       "      <th>3</th>\n",
       "      <td>ba78997921bbcdc1373bb41e913ab953</td>\n",
       "      <td>7a5d8efaaa1081f800628c30d2b0728f</td>\n",
       "      <td>2017-12-06 12:04:06</td>\n",
       "      <td>2017-12-06 12:13:20</td>\n",
       "      <td>2017-12-07 20:28:28</td>\n",
       "      <td>2017-12-21 01:35:51</td>\n",
       "      <td>2018-01-04 00:00:00</td>\n",
       "      <td>87695ed086ebd36f20404c82d20fca87</td>\n",
       "      <td>36060</td>\n",
       "      <td>juiz de fora</td>\n",
       "      <td>...</td>\n",
       "      <td>SP</td>\n",
       "      <td>107.78</td>\n",
       "      <td>Wednesday</td>\n",
       "      <td>December</td>\n",
       "      <td>good</td>\n",
       "      <td>14</td>\n",
       "      <td>28</td>\n",
       "      <td>14</td>\n",
       "      <td>3080.0</td>\n",
       "      <td>too early</td>\n",
       "    </tr>\n",
       "    <tr>\n",
       "      <th>4</th>\n",
       "      <td>ba78997921bbcdc1373bb41e913ab953</td>\n",
       "      <td>7a5d8efaaa1081f800628c30d2b0728f</td>\n",
       "      <td>2017-12-06 12:04:06</td>\n",
       "      <td>2017-12-06 12:13:20</td>\n",
       "      <td>2017-12-07 20:28:28</td>\n",
       "      <td>2017-12-21 01:35:51</td>\n",
       "      <td>2018-01-04 00:00:00</td>\n",
       "      <td>87695ed086ebd36f20404c82d20fca87</td>\n",
       "      <td>36060</td>\n",
       "      <td>juiz de fora</td>\n",
       "      <td>...</td>\n",
       "      <td>SP</td>\n",
       "      <td>107.78</td>\n",
       "      <td>Wednesday</td>\n",
       "      <td>December</td>\n",
       "      <td>good</td>\n",
       "      <td>14</td>\n",
       "      <td>28</td>\n",
       "      <td>14</td>\n",
       "      <td>3080.0</td>\n",
       "      <td>too early</td>\n",
       "    </tr>\n",
       "  </tbody>\n",
       "</table>\n",
       "<p>5 rows × 47 columns</p>\n",
       "</div>"
      ],
      "text/plain": [
       "                           order_id                       customer_id  \\\n",
       "0  b81ef226f3fe1789b1e8b2acac839d17  0a8556ac6be836b46b3e89920d59291c   \n",
       "1  a9810da82917af2d9aefd1278f1dcfa0  f2c7fc58a9de810828715166c672f10a   \n",
       "2  25e8ea4e93396b6fa0d3dd708e76c1bd  25b14b69de0b6e184ae6fe2755e478f9   \n",
       "3  ba78997921bbcdc1373bb41e913ab953  7a5d8efaaa1081f800628c30d2b0728f   \n",
       "4  ba78997921bbcdc1373bb41e913ab953  7a5d8efaaa1081f800628c30d2b0728f   \n",
       "\n",
       "  order_purchase_timestamp    order_approved_at order_delivered_carrier_date  \\\n",
       "0      2018-04-25 22:01:49  2018-04-25 22:15:09          2018-05-02 15:20:00   \n",
       "1      2018-06-26 11:01:38  2018-06-26 11:18:58          2018-06-28 14:18:00   \n",
       "2      2017-12-12 11:19:55  2017-12-14 09:52:34          2017-12-15 20:13:22   \n",
       "3      2017-12-06 12:04:06  2017-12-06 12:13:20          2017-12-07 20:28:28   \n",
       "4      2017-12-06 12:04:06  2017-12-06 12:13:20          2017-12-07 20:28:28   \n",
       "\n",
       "  order_delivered_customer_date order_estimated_delivery_date  \\\n",
       "0           2018-05-09 17:36:51           2018-05-22 00:00:00   \n",
       "1           2018-06-29 20:32:09           2018-07-16 00:00:00   \n",
       "2           2017-12-18 17:24:41           2018-01-04 00:00:00   \n",
       "3           2017-12-21 01:35:51           2018-01-04 00:00:00   \n",
       "4           2017-12-21 01:35:51           2018-01-04 00:00:00   \n",
       "\n",
       "                 customer_unique_id  customer_zip_code_prefix  customer_city  \\\n",
       "0  708ab75d2a007f0564aedd11139c7708                     39801  teofilo otoni   \n",
       "1  a8b9d3a27068454b1c98cc67d4e31e6f                      2422      sao paulo   \n",
       "2  6f70c0b2f7552832ba46eb57b1c5651e                      2652      sao paulo   \n",
       "3  87695ed086ebd36f20404c82d20fca87                     36060   juiz de fora   \n",
       "4  87695ed086ebd36f20404c82d20fca87                     36060   juiz de fora   \n",
       "\n",
       "   ... seller_state tot_order_amt  purchase_wk_day purchase_month  \\\n",
       "0  ...           SP         99.33        Wednesday          April   \n",
       "1  ...           SP         24.39          Tuesday           June   \n",
       "2  ...           SP         65.71          Tuesday       December   \n",
       "3  ...           SP        107.78        Wednesday       December   \n",
       "4  ...           SP        107.78        Wednesday       December   \n",
       "\n",
       "  review_score_class order_delivery_actual_duration  \\\n",
       "0                bad                             13   \n",
       "1               good                              3   \n",
       "2               good                              4   \n",
       "3               good                             14   \n",
       "4               good                             14   \n",
       "\n",
       "  order_delivery_estimated_duration  delivery_estimate_discrepancy  \\\n",
       "0                                26                             13   \n",
       "1                                19                             16   \n",
       "2                                20                             16   \n",
       "3                                28                             14   \n",
       "4                                28                             14   \n",
       "\n",
       "  product_dimensions  delivery_est_discrepancy_range  \n",
       "0             7803.0                       too early  \n",
       "1             1056.0                       too early  \n",
       "2             3360.0                       too early  \n",
       "3             3080.0                       too early  \n",
       "4             3080.0                       too early  \n",
       "\n",
       "[5 rows x 47 columns]"
      ]
     },
     "execution_count": 38,
     "metadata": {},
     "output_type": "execute_result"
    }
   ],
   "source": [
    "#Create a working dataframe from the copy of original\n",
    "import copy\n",
    "olist_class = copy.deepcopy(olist)\n",
    "olist_class.head()"
   ]
  },
  {
   "cell_type": "code",
   "execution_count": 39,
   "id": "18174a86",
   "metadata": {},
   "outputs": [],
   "source": [
    "#Modify datatypes\n",
    "#changing attributes data types\n",
    "continuous_features = ['price','freight_value', 'payment_sequential','payment_installments','payment_value',\n",
    "                      'product_name_length','product_description_length', 'product_photos_qty','product_weight_g',\n",
    "                      'product_length_cm','product_height_cm','product_width_cm', 'review_score',\n",
    "                       'order_delivery_actual_duration', 'order_delivery_estimated_duration',\n",
    "                       'delivery_estimate_discrepancy', 'product_dimensions', 'tot_order_amt'] \n",
    "\n",
    "cat_features = ['customer_city', 'customer_state', 'customer_zip_code_prefix', 'seller_zip_code_prefix', \n",
    "                'seller_city', 'seller_state', 'product_category_english','review_id',\n",
    "               'review_comment_title','review_comment_message','payment_type',\n",
    "               'order_item_id', 'product_id','seller_id','order_id', 'customer_id', 'purchase_wk_day', 'purchase_month',\n",
    "               'delivery_est_discrepancy_range', 'review_score_class', 'customer_unique_id'] \n",
    "\n",
    "date_features = ['order_purchase_timestamp', 'order_approved_at', 'order_delivered_carrier_date', 'order_delivered_customer_date',\n",
    "                 'order_estimated_delivery_date', 'shipping_limit_date', 'review_creation_date', 'review_answer_timestamp'] \n",
    "\n"
   ]
  },
  {
   "cell_type": "code",
   "execution_count": 40,
   "id": "dc4d2f49",
   "metadata": {},
   "outputs": [
    {
     "name": "stdout",
     "output_type": "stream",
     "text": [
      "<class 'pandas.core.frame.DataFrame'>\n",
      "RangeIndex: 114067 entries, 0 to 114066\n",
      "Data columns (total 47 columns):\n",
      " #   Column                             Non-Null Count   Dtype   \n",
      "---  ------                             --------------   -----   \n",
      " 0   order_id                           114067 non-null  category\n",
      " 1   customer_id                        114067 non-null  category\n",
      " 2   order_purchase_timestamp           114067 non-null  object  \n",
      " 3   order_approved_at                  114067 non-null  object  \n",
      " 4   order_delivered_carrier_date       114067 non-null  object  \n",
      " 5   order_delivered_customer_date      114067 non-null  object  \n",
      " 6   order_estimated_delivery_date      114067 non-null  object  \n",
      " 7   customer_unique_id                 114067 non-null  category\n",
      " 8   customer_zip_code_prefix           114067 non-null  category\n",
      " 9   customer_city                      114067 non-null  category\n",
      " 10  customer_state                     114067 non-null  category\n",
      " 11  review_id                          114067 non-null  category\n",
      " 12  review_score                       114067 non-null  float64 \n",
      " 13  review_comment_title               13661 non-null   category\n",
      " 14  review_comment_message             48220 non-null   category\n",
      " 15  review_creation_date               114067 non-null  object  \n",
      " 16  review_answer_timestamp            114067 non-null  object  \n",
      " 17  payment_sequential                 114067 non-null  float64 \n",
      " 18  payment_type                       114067 non-null  category\n",
      " 19  payment_installments               114067 non-null  float64 \n",
      " 20  payment_value                      114067 non-null  float64 \n",
      " 21  order_item_id                      114067 non-null  category\n",
      " 22  product_id                         114067 non-null  category\n",
      " 23  seller_id                          114067 non-null  category\n",
      " 24  shipping_limit_date                114067 non-null  object  \n",
      " 25  price                              114067 non-null  float64 \n",
      " 26  freight_value                      114067 non-null  float64 \n",
      " 27  product_name_length                114067 non-null  float64 \n",
      " 28  product_description_length         114067 non-null  float64 \n",
      " 29  product_photos_qty                 114067 non-null  float64 \n",
      " 30  product_weight_g                   114066 non-null  float64 \n",
      " 31  product_length_cm                  114066 non-null  float64 \n",
      " 32  product_height_cm                  114066 non-null  float64 \n",
      " 33  product_width_cm                   114066 non-null  float64 \n",
      " 34  product_category_english           114067 non-null  category\n",
      " 35  seller_zip_code_prefix             114067 non-null  category\n",
      " 36  seller_city                        114067 non-null  category\n",
      " 37  seller_state                       114067 non-null  category\n",
      " 38  tot_order_amt                      114067 non-null  float64 \n",
      " 39  purchase_wk_day                    114067 non-null  category\n",
      " 40  purchase_month                     114067 non-null  category\n",
      " 41  review_score_class                 114067 non-null  category\n",
      " 42  order_delivery_actual_duration     114067 non-null  float64 \n",
      " 43  order_delivery_estimated_duration  114067 non-null  float64 \n",
      " 44  delivery_estimate_discrepancy      114067 non-null  float64 \n",
      " 45  product_dimensions                 114066 non-null  float64 \n",
      " 46  delivery_est_discrepancy_range     114067 non-null  category\n",
      "dtypes: category(21), float64(18), object(8)\n",
      "memory usage: 41.9+ MB\n"
     ]
    }
   ],
   "source": [
    "# use the \"astype\" function to change the variable type\n",
    "olist_class[continuous_features] = olist_class.copy()[continuous_features].astype(np.float64)\n",
    "olist_class[cat_features] = olist_class.copy()[cat_features].astype(\"category\")\n",
    "#olist_class[date_features] = pd.to_datetime(olist_class.copy()[date_features])\n",
    "olist_class.info()"
   ]
  },
  {
   "cell_type": "code",
   "execution_count": 41,
   "id": "bf052fa0",
   "metadata": {},
   "outputs": [],
   "source": [
    "# fix dates\n",
    "for i in date_features:\n",
    "    olist_class.loc[:,i] = pd.to_datetime(olist_class.copy().loc[:,i], errors=\"coerce\")"
   ]
  },
  {
   "cell_type": "code",
   "execution_count": 42,
   "id": "d8d8e6ce",
   "metadata": {},
   "outputs": [
    {
     "name": "stdout",
     "output_type": "stream",
     "text": [
      "<class 'pandas.core.frame.DataFrame'>\n",
      "RangeIndex: 114067 entries, 0 to 114066\n",
      "Data columns (total 47 columns):\n",
      " #   Column                             Non-Null Count   Dtype         \n",
      "---  ------                             --------------   -----         \n",
      " 0   order_id                           114067 non-null  category      \n",
      " 1   customer_id                        114067 non-null  category      \n",
      " 2   order_purchase_timestamp           114067 non-null  datetime64[ns]\n",
      " 3   order_approved_at                  114067 non-null  datetime64[ns]\n",
      " 4   order_delivered_carrier_date       114067 non-null  datetime64[ns]\n",
      " 5   order_delivered_customer_date      114067 non-null  datetime64[ns]\n",
      " 6   order_estimated_delivery_date      114067 non-null  datetime64[ns]\n",
      " 7   customer_unique_id                 114067 non-null  category      \n",
      " 8   customer_zip_code_prefix           114067 non-null  category      \n",
      " 9   customer_city                      114067 non-null  category      \n",
      " 10  customer_state                     114067 non-null  category      \n",
      " 11  review_id                          114067 non-null  category      \n",
      " 12  review_score                       114067 non-null  float64       \n",
      " 13  review_comment_title               13661 non-null   category      \n",
      " 14  review_comment_message             48220 non-null   category      \n",
      " 15  review_creation_date               114067 non-null  datetime64[ns]\n",
      " 16  review_answer_timestamp            114067 non-null  datetime64[ns]\n",
      " 17  payment_sequential                 114067 non-null  float64       \n",
      " 18  payment_type                       114067 non-null  category      \n",
      " 19  payment_installments               114067 non-null  float64       \n",
      " 20  payment_value                      114067 non-null  float64       \n",
      " 21  order_item_id                      114067 non-null  category      \n",
      " 22  product_id                         114067 non-null  category      \n",
      " 23  seller_id                          114067 non-null  category      \n",
      " 24  shipping_limit_date                114067 non-null  datetime64[ns]\n",
      " 25  price                              114067 non-null  float64       \n",
      " 26  freight_value                      114067 non-null  float64       \n",
      " 27  product_name_length                114067 non-null  float64       \n",
      " 28  product_description_length         114067 non-null  float64       \n",
      " 29  product_photos_qty                 114067 non-null  float64       \n",
      " 30  product_weight_g                   114066 non-null  float64       \n",
      " 31  product_length_cm                  114066 non-null  float64       \n",
      " 32  product_height_cm                  114066 non-null  float64       \n",
      " 33  product_width_cm                   114066 non-null  float64       \n",
      " 34  product_category_english           114067 non-null  category      \n",
      " 35  seller_zip_code_prefix             114067 non-null  category      \n",
      " 36  seller_city                        114067 non-null  category      \n",
      " 37  seller_state                       114067 non-null  category      \n",
      " 38  tot_order_amt                      114067 non-null  float64       \n",
      " 39  purchase_wk_day                    114067 non-null  category      \n",
      " 40  purchase_month                     114067 non-null  category      \n",
      " 41  review_score_class                 114067 non-null  category      \n",
      " 42  order_delivery_actual_duration     114067 non-null  float64       \n",
      " 43  order_delivery_estimated_duration  114067 non-null  float64       \n",
      " 44  delivery_estimate_discrepancy      114067 non-null  float64       \n",
      " 45  product_dimensions                 114066 non-null  float64       \n",
      " 46  delivery_est_discrepancy_range     114067 non-null  category      \n",
      "dtypes: category(21), datetime64[ns](8), float64(18)\n",
      "memory usage: 41.9 MB\n"
     ]
    }
   ],
   "source": [
    "olist_class.info()"
   ]
  },
  {
   "cell_type": "code",
   "execution_count": 43,
   "id": "35525fb8",
   "metadata": {},
   "outputs": [
    {
     "data": {
      "text/plain": [
       "Text(0.5, 1.0, 'Distribution of Discrepancy')"
      ]
     },
     "execution_count": 43,
     "metadata": {},
     "output_type": "execute_result"
    },
    {
     "data": {
      "image/png": "[encoded data removed]",
      "text/plain": [
       "<Figure size 432x288 with 1 Axes>"
      ]
     },
     "metadata": {
      "needs_background": "light"
     },
     "output_type": "display_data"
    }
   ],
   "source": [
    "plt.boxplot(x=olist.order_delivery_estimated_duration)\n",
    "plt.ylabel('Days_diff.Actual_Estimate')\n",
    "plt.title('Distribution of Discrepancy') #labels"
   ]
  },
  {
   "cell_type": "code",
   "execution_count": 44,
   "id": "1324c6f1",
   "metadata": {},
   "outputs": [
    {
     "data": {
      "text/plain": [
       "38.0"
      ]
     },
     "execution_count": 44,
     "metadata": {},
     "output_type": "execute_result"
    }
   ],
   "source": [
    "olist.copy()['order_delivery_estimated_duration'].quantile(0.95)"
   ]
  },
  {
   "cell_type": "code",
   "execution_count": 45,
   "id": "3888b912",
   "metadata": {},
   "outputs": [
    {
     "data": {
      "text/plain": [
       "(108875, 5192, 0.9544828916338643)"
      ]
     },
     "execution_count": 45,
     "metadata": {},
     "output_type": "execute_result"
    }
   ],
   "source": [
    "estimate_delivery = []\n",
    "estimate_delivery_out = []\n",
    "\n",
    "thresh = np.quantile(olist.copy()['order_delivery_estimated_duration'], 0.95)\n",
    "[estimate_delivery.append(i)\n",
    " if abs(i) <= thresh else estimate_delivery_out.append(i)\n",
    " for i in olist.copy()['order_delivery_estimated_duration']]\n",
    "#y = np.array(y)\n",
    "\n",
    "len(estimate_delivery), len(estimate_delivery_out), (len(estimate_delivery)/olist.shape[0])\n"
   ]
  },
  {
   "cell_type": "code",
   "execution_count": 46,
   "id": "5d4f2164",
   "metadata": {},
   "outputs": [
    {
     "data": {
      "text/plain": [
       "Text(0.5, 1.0, 'Distribution of Discrepancy')"
      ]
     },
     "execution_count": 46,
     "metadata": {},
     "output_type": "execute_result"
    },
    {
     "data": {
      "image/png": "[encoded data removed]",
      "text/plain": [
       "<Figure size 432x288 with 1 Axes>"
      ]
     },
     "metadata": {
      "needs_background": "light"
     },
     "output_type": "display_data"
    }
   ],
   "source": [
    "plt.violinplot(olist.order_delivery_actual_duration, showmeans=True)\n",
    "plt.ylabel('days_diff.Actual_Estimate')\n",
    "plt.title('Distribution of Discrepancy') #labels"
   ]
  },
  {
   "cell_type": "markdown",
   "id": "3ec344cf",
   "metadata": {},
   "source": [
    "### <span style='color:blue'> Subset the dataset </span>\n",
    "\n",
    "Using an intuitive approach to what might cause a package to be categorized as delivered early, on time or late we subset the preprocessed dataset. This also will allow us more flexibility in running multiple iterations of our classifiers to determine the most efficient runing parameters."
   ]
  },
  {
   "cell_type": "code",
   "execution_count": 47,
   "id": "dd0fb88c",
   "metadata": {},
   "outputs": [
    {
     "name": "stdout",
     "output_type": "stream",
     "text": [
      "<class 'pandas.core.frame.DataFrame'>\n",
      "RangeIndex: 114067 entries, 0 to 114066\n",
      "Data columns (total 13 columns):\n",
      " #   Column                         Non-Null Count   Dtype         \n",
      "---  ------                         --------------   -----         \n",
      " 0   payment_sequential             114067 non-null  float64       \n",
      " 1   product_category_english       114067 non-null  category      \n",
      " 2   seller_zip_code_prefix         114067 non-null  category      \n",
      " 3   seller_city                    114067 non-null  category      \n",
      " 4   tot_order_amt                  114067 non-null  float64       \n",
      " 5   freight_value                  114067 non-null  float64       \n",
      " 6   product_dimensions             114066 non-null  float64       \n",
      " 7   review_score_class             114067 non-null  category      \n",
      " 8   product_weight_g               114066 non-null  float64       \n",
      " 9   customer_city                  114067 non-null  category      \n",
      " 10  customer_zip_code_prefix       114067 non-null  category      \n",
      " 11  order_approved_at              114067 non-null  datetime64[ns]\n",
      " 12  delivery_estimate_discrepancy  114067 non-null  float64       \n",
      "dtypes: category(6), datetime64[ns](1), float64(6)\n",
      "memory usage: 8.1 MB\n"
     ]
    }
   ],
   "source": [
    "olist_class2 = olist_class[['payment_sequential', 'product_category_english', \n",
    "                            'seller_zip_code_prefix','seller_city', 'tot_order_amt', \n",
    "                            'freight_value', 'product_dimensions', 'review_score_class', 'product_weight_g', 'customer_city',\n",
    "                            'customer_zip_code_prefix','order_approved_at', 'delivery_estimate_discrepancy']]\n",
    "olist_class2.info()"
   ]
  },
  {
   "cell_type": "code",
   "execution_count": 48,
   "id": "40ecc078",
   "metadata": {},
   "outputs": [
    {
     "name": "stderr",
     "output_type": "stream",
     "text": [
      "C:\\Users\\olani\\anaconda3\\envs\\Machine Learning 1\\lib\\site-packages\\ipykernel_launcher.py:1: SettingWithCopyWarning: \n",
      "A value is trying to be set on a copy of a slice from a DataFrame\n",
      "\n",
      "See the caveats in the documentation: https://pandas.pydata.org/pandas-docs/stable/user_guide/indexing.html#returning-a-view-versus-a-copy\n",
      "  \"\"\"Entry point for launching an IPython kernel.\n"
     ]
    }
   ],
   "source": [
    "olist_class2.dropna(inplace=True)"
   ]
  },
  {
   "cell_type": "code",
   "execution_count": 49,
   "id": "7cb34a2a",
   "metadata": {},
   "outputs": [
    {
     "name": "stdout",
     "output_type": "stream",
     "text": [
      "<class 'pandas.core.frame.DataFrame'>\n",
      "Int64Index: 114066 entries, 0 to 114066\n",
      "Data columns (total 13 columns):\n",
      " #   Column                         Non-Null Count   Dtype         \n",
      "---  ------                         --------------   -----         \n",
      " 0   payment_sequential             114066 non-null  float64       \n",
      " 1   product_category_english       114066 non-null  category      \n",
      " 2   seller_zip_code_prefix         114066 non-null  category      \n",
      " 3   seller_city                    114066 non-null  category      \n",
      " 4   tot_order_amt                  114066 non-null  float64       \n",
      " 5   freight_value                  114066 non-null  float64       \n",
      " 6   product_dimensions             114066 non-null  float64       \n",
      " 7   review_score_class             114066 non-null  category      \n",
      " 8   product_weight_g               114066 non-null  float64       \n",
      " 9   customer_city                  114066 non-null  category      \n",
      " 10  customer_zip_code_prefix       114066 non-null  category      \n",
      " 11  order_approved_at              114066 non-null  datetime64[ns]\n",
      " 12  delivery_estimate_discrepancy  114066 non-null  float64       \n",
      "dtypes: category(6), datetime64[ns](1), float64(6)\n",
      "memory usage: 8.9 MB\n"
     ]
    },
    {
     "data": {
      "text/plain": [
       "((114066, 13), None)"
      ]
     },
     "execution_count": 49,
     "metadata": {},
     "output_type": "execute_result"
    }
   ],
   "source": [
    "olist_class2.shape, olist_class2.info()"
   ]
  },
  {
   "cell_type": "code",
   "execution_count": 50,
   "id": "c2aa0411",
   "metadata": {},
   "outputs": [
    {
     "data": {
      "text/html": [
       "<div>\n",
       "<style scoped>\n",
       "    .dataframe tbody tr th:only-of-type {\n",
       "        vertical-align: middle;\n",
       "    }\n",
       "\n",
       "    .dataframe tbody tr th {\n",
       "        vertical-align: top;\n",
       "    }\n",
       "\n",
       "    .dataframe thead th {\n",
       "        text-align: right;\n",
       "    }\n",
       "</style>\n",
       "<table border=\"1\" class=\"dataframe\">\n",
       "  <thead>\n",
       "    <tr style=\"text-align: right;\">\n",
       "      <th></th>\n",
       "      <th>payment_sequential</th>\n",
       "      <th>product_category_english</th>\n",
       "      <th>seller_zip_code_prefix</th>\n",
       "      <th>seller_city</th>\n",
       "      <th>tot_order_amt</th>\n",
       "      <th>freight_value</th>\n",
       "      <th>product_dimensions</th>\n",
       "      <th>review_score_class</th>\n",
       "      <th>product_weight_g</th>\n",
       "      <th>customer_city</th>\n",
       "      <th>customer_zip_code_prefix</th>\n",
       "      <th>order_approved_at</th>\n",
       "      <th>delivery_estimate_discrepancy</th>\n",
       "    </tr>\n",
       "  </thead>\n",
       "  <tbody>\n",
       "    <tr>\n",
       "      <th>0</th>\n",
       "      <td>1.0</td>\n",
       "      <td>home_construction</td>\n",
       "      <td>13321.0</td>\n",
       "      <td>salto</td>\n",
       "      <td>99.33</td>\n",
       "      <td>19.53</td>\n",
       "      <td>7803.0</td>\n",
       "      <td>bad</td>\n",
       "      <td>800.0</td>\n",
       "      <td>teofilo otoni</td>\n",
       "      <td>39801</td>\n",
       "      <td>2018-04-25 22:15:09</td>\n",
       "      <td>13.0</td>\n",
       "    </tr>\n",
       "    <tr>\n",
       "      <th>1</th>\n",
       "      <td>1.0</td>\n",
       "      <td>auto</td>\n",
       "      <td>4660.0</td>\n",
       "      <td>sao paulo</td>\n",
       "      <td>24.39</td>\n",
       "      <td>7.39</td>\n",
       "      <td>1056.0</td>\n",
       "      <td>good</td>\n",
       "      <td>150.0</td>\n",
       "      <td>sao paulo</td>\n",
       "      <td>2422</td>\n",
       "      <td>2018-06-26 11:18:58</td>\n",
       "      <td>16.0</td>\n",
       "    </tr>\n",
       "    <tr>\n",
       "      <th>2</th>\n",
       "      <td>1.0</td>\n",
       "      <td>perfumery</td>\n",
       "      <td>9015.0</td>\n",
       "      <td>santo andre</td>\n",
       "      <td>65.71</td>\n",
       "      <td>8.72</td>\n",
       "      <td>3360.0</td>\n",
       "      <td>good</td>\n",
       "      <td>250.0</td>\n",
       "      <td>sao paulo</td>\n",
       "      <td>2652</td>\n",
       "      <td>2017-12-14 09:52:34</td>\n",
       "      <td>16.0</td>\n",
       "    </tr>\n",
       "    <tr>\n",
       "      <th>3</th>\n",
       "      <td>1.0</td>\n",
       "      <td>bed_bath_table</td>\n",
       "      <td>13405.0</td>\n",
       "      <td>piracicaba</td>\n",
       "      <td>107.78</td>\n",
       "      <td>17.88</td>\n",
       "      <td>3080.0</td>\n",
       "      <td>good</td>\n",
       "      <td>1200.0</td>\n",
       "      <td>juiz de fora</td>\n",
       "      <td>36060</td>\n",
       "      <td>2017-12-06 12:13:20</td>\n",
       "      <td>14.0</td>\n",
       "    </tr>\n",
       "    <tr>\n",
       "      <th>4</th>\n",
       "      <td>1.0</td>\n",
       "      <td>bed_bath_table</td>\n",
       "      <td>13405.0</td>\n",
       "      <td>piracicaba</td>\n",
       "      <td>107.78</td>\n",
       "      <td>17.88</td>\n",
       "      <td>3080.0</td>\n",
       "      <td>good</td>\n",
       "      <td>1200.0</td>\n",
       "      <td>juiz de fora</td>\n",
       "      <td>36060</td>\n",
       "      <td>2017-12-06 12:13:20</td>\n",
       "      <td>14.0</td>\n",
       "    </tr>\n",
       "  </tbody>\n",
       "</table>\n",
       "</div>"
      ],
      "text/plain": [
       "   payment_sequential product_category_english seller_zip_code_prefix  \\\n",
       "0                 1.0        home_construction                13321.0   \n",
       "1                 1.0                     auto                 4660.0   \n",
       "2                 1.0                perfumery                 9015.0   \n",
       "3                 1.0           bed_bath_table                13405.0   \n",
       "4                 1.0           bed_bath_table                13405.0   \n",
       "\n",
       "   seller_city  tot_order_amt  freight_value  product_dimensions  \\\n",
       "0        salto          99.33          19.53              7803.0   \n",
       "1    sao paulo          24.39           7.39              1056.0   \n",
       "2  santo andre          65.71           8.72              3360.0   \n",
       "3   piracicaba         107.78          17.88              3080.0   \n",
       "4   piracicaba         107.78          17.88              3080.0   \n",
       "\n",
       "  review_score_class  product_weight_g  customer_city  \\\n",
       "0                bad             800.0  teofilo otoni   \n",
       "1               good             150.0      sao paulo   \n",
       "2               good             250.0      sao paulo   \n",
       "3               good            1200.0   juiz de fora   \n",
       "4               good            1200.0   juiz de fora   \n",
       "\n",
       "  customer_zip_code_prefix   order_approved_at  delivery_estimate_discrepancy  \n",
       "0                    39801 2018-04-25 22:15:09                           13.0  \n",
       "1                     2422 2018-06-26 11:18:58                           16.0  \n",
       "2                     2652 2017-12-14 09:52:34                           16.0  \n",
       "3                    36060 2017-12-06 12:13:20                           14.0  \n",
       "4                    36060 2017-12-06 12:13:20                           14.0  "
      ]
     },
     "execution_count": 50,
     "metadata": {},
     "output_type": "execute_result"
    }
   ],
   "source": [
    "#olist_class2.loc[olist_class2.order_delivery_actual_duration > 50, ('order_delivery_actual_duration')]= np.NaN\n",
    "olist_class2.head()"
   ]
  },
  {
   "cell_type": "code",
   "execution_count": 51,
   "id": "af2b3b0c",
   "metadata": {},
   "outputs": [
    {
     "name": "stdout",
     "output_type": "stream",
     "text": [
      "Unique value counts for payment_sequential attribute is: = 26\n",
      "Unique value counts for product_category_english attribute is: = 73\n",
      "Unique value counts for seller_zip_code_prefix attribute is: = 2136\n",
      "Unique value counts for seller_city attribute is: = 588\n",
      "Unique value counts for tot_order_amt attribute is: = 26460\n",
      "Unique value counts for freight_value attribute is: = 6902\n",
      "Unique value counts for product_dimensions attribute is: = 4416\n",
      "Unique value counts for review_score_class attribute is: = 3\n",
      "Unique value counts for product_weight_g attribute is: = 2167\n",
      "Unique value counts for customer_city attribute is: = 4073\n",
      "Unique value counts for customer_zip_code_prefix attribute is: = 14844\n",
      "Unique value counts for order_approved_at attribute is: = 87124\n",
      "Unique value counts for delivery_estimate_discrepancy attribute is: = 197\n"
     ]
    }
   ],
   "source": [
    "for i in olist_class2:\n",
    "    print('Unique value counts for ' + i + ' attribute is: =', olist_class2[i].nunique())"
   ]
  },
  {
   "cell_type": "code",
   "execution_count": 52,
   "id": "b0e7dbfb",
   "metadata": {},
   "outputs": [],
   "source": [
    "#Check point\n",
    "olist_class3 = copy.deepcopy(olist_class2)"
   ]
  },
  {
   "cell_type": "code",
   "execution_count": 53,
   "id": "8a06f020",
   "metadata": {},
   "outputs": [
    {
     "name": "stdout",
     "output_type": "stream",
     "text": [
      "<class 'pandas.core.frame.DataFrame'>\n",
      "Int64Index: 114066 entries, 0 to 114066\n",
      "Data columns (total 13 columns):\n",
      " #   Column                         Non-Null Count   Dtype         \n",
      "---  ------                         --------------   -----         \n",
      " 0   payment_sequential             114066 non-null  float64       \n",
      " 1   product_category_english       114066 non-null  category      \n",
      " 2   seller_zip_code_prefix         114066 non-null  category      \n",
      " 3   seller_city                    114066 non-null  category      \n",
      " 4   tot_order_amt                  114066 non-null  float64       \n",
      " 5   freight_value                  114066 non-null  float64       \n",
      " 6   product_dimensions             114066 non-null  float64       \n",
      " 7   review_score_class             114066 non-null  category      \n",
      " 8   product_weight_g               114066 non-null  float64       \n",
      " 9   customer_city                  114066 non-null  category      \n",
      " 10  customer_zip_code_prefix       114066 non-null  category      \n",
      " 11  order_approved_at              114066 non-null  datetime64[ns]\n",
      " 12  delivery_estimate_discrepancy  114066 non-null  float64       \n",
      "dtypes: category(6), datetime64[ns](1), float64(6)\n",
      "memory usage: 8.9 MB\n"
     ]
    }
   ],
   "source": [
    "olist_class3.info()"
   ]
  },
  {
   "cell_type": "code",
   "execution_count": null,
   "id": "c43d9c47",
   "metadata": {},
   "outputs": [],
   "source": []
  },
  {
   "cell_type": "markdown",
   "id": "beaf9d94",
   "metadata": {},
   "source": [
    "**collapse less frequent categorical levels to 'others'\n",
    "- For each specified column, it applies the value_counts(). It maps the condition to the column values\n",
    "- the mask is used to check that condition if it is false in any value it assigns 'others'"
   ]
  },
  {
   "cell_type": "code",
   "execution_count": 54,
   "id": "34817332",
   "metadata": {},
   "outputs": [],
   "source": [
    "#The map and mask method did not work when the attribute was in categorical. \n",
    "#But worked when I revert the category to 'object'\n",
    "olist_class3['product_category_english'] = olist_class3.copy()['product_category_english'].astype(\"object\")"
   ]
  },
  {
   "cell_type": "markdown",
   "id": "c6697c8c",
   "metadata": {},
   "source": [
    "- Source of this re-labeling aproach below was a personal communication with Sean O'Donnell (practicing Data Scientist):  \n",
    "- Babatunde John Olanipekun  "
   ]
  },
  {
   "cell_type": "code",
   "execution_count": 55,
   "id": "ea0d3e7f",
   "metadata": {},
   "outputs": [],
   "source": [
    "#replace instances that are less than 500 with 'other product category'\n",
    "_ = olist_class3.product_category_english.map(olist_class3.product_category_english.value_counts()) < 500\n",
    "olist_class3.product_category_english =  olist_class3.product_category_english.mask(_, 'other_product_category')"
   ]
  },
  {
   "cell_type": "code",
   "execution_count": 56,
   "id": "624f3c4b",
   "metadata": {},
   "outputs": [],
   "source": [
    "olist_class3['customer_city'] = olist_class3.copy()['customer_city'].astype(\"object\")\n",
    "_ = olist_class3.customer_city.map(olist_class3.customer_city.value_counts()) < 300\n",
    "olist_class3.customer_city =  olist_class3.customer_city.mask(_, 'other_city')"
   ]
  },
  {
   "cell_type": "code",
   "execution_count": 58,
   "id": "36690e37",
   "metadata": {},
   "outputs": [
    {
     "data": {
      "text/plain": [
       "(30, 73)"
      ]
     },
     "execution_count": 58,
     "metadata": {},
     "output_type": "execute_result"
    }
   ],
   "source": [
    "#How many levels do we now have in comparison with the previous version?\n",
    "olist_class3.product_category_english.nunique(), olist_class.product_category_english.nunique()"
   ]
  },
  {
   "cell_type": "code",
   "execution_count": 59,
   "id": "178ffcb0",
   "metadata": {},
   "outputs": [
    {
     "data": {
      "text/plain": [
       "(51, 4073)"
      ]
     },
     "execution_count": 59,
     "metadata": {},
     "output_type": "execute_result"
    }
   ],
   "source": [
    "#How many levels do we now have in comparison with the previous version?\n",
    "olist_class3.customer_city.nunique(), olist_class.customer_city.nunique()"
   ]
  },
  {
   "cell_type": "code",
   "execution_count": 60,
   "id": "d9f52441",
   "metadata": {},
   "outputs": [],
   "source": [
    "olist_class3['product_category_english'] = olist_class3.copy()['product_category_english'].astype(\"category\")\n",
    "olist_class3['customer_city'] = olist_class3.copy()['customer_city'].astype(\"category\")"
   ]
  },
  {
   "cell_type": "code",
   "execution_count": 61,
   "id": "8c4eaff4",
   "metadata": {},
   "outputs": [
    {
     "name": "stdout",
     "output_type": "stream",
     "text": [
      "<class 'pandas.core.frame.DataFrame'>\n",
      "Int64Index: 114066 entries, 0 to 114066\n",
      "Data columns (total 13 columns):\n",
      " #   Column                         Non-Null Count   Dtype         \n",
      "---  ------                         --------------   -----         \n",
      " 0   payment_sequential             114066 non-null  float64       \n",
      " 1   product_category_english       114066 non-null  category      \n",
      " 2   seller_zip_code_prefix         114066 non-null  category      \n",
      " 3   seller_city                    114066 non-null  category      \n",
      " 4   tot_order_amt                  114066 non-null  float64       \n",
      " 5   freight_value                  114066 non-null  float64       \n",
      " 6   product_dimensions             114066 non-null  float64       \n",
      " 7   review_score_class             114066 non-null  category      \n",
      " 8   product_weight_g               114066 non-null  float64       \n",
      " 9   customer_city                  114066 non-null  category      \n",
      " 10  customer_zip_code_prefix       114066 non-null  category      \n",
      " 11  order_approved_at              114066 non-null  datetime64[ns]\n",
      " 12  delivery_estimate_discrepancy  114066 non-null  float64       \n",
      "dtypes: category(6), datetime64[ns](1), float64(6)\n",
      "memory usage: 8.7 MB\n"
     ]
    }
   ],
   "source": [
    "olist_class3.info()"
   ]
  },
  {
   "cell_type": "markdown",
   "id": "56cf1076",
   "metadata": {},
   "source": [
    "**Order approved at***\n",
    "- This is currently in date format and it is not adding much in its current format\n",
    "- We extracted the 'hour' of day from the timestamp created a column for it as an integar"
   ]
  },
  {
   "cell_type": "markdown",
   "id": "49ab7d8c",
   "metadata": {},
   "source": [
    "**Hour Extraction**\n",
    "- Round off the approved_at time datatype to nearest hour. \n",
    "    - e.g.: 9.52 = 10.00, 11:18 = 11:00\n",
    "- Then extract the rounded off hour from the full timestamp\n",
    "- Following successful extraction, we change the resulting object datatype to integar datatype\n",
    "- Unused columns will be dropped afterwards"
   ]
  },
  {
   "cell_type": "code",
   "execution_count": null,
   "id": "cc8e11bd",
   "metadata": {},
   "outputs": [],
   "source": [
    "#create a new column for the hour of day of the order\n",
    "olist_model3['order_approved_time'] = olist_model3['order_approved_at'].round('H')\n",
    "\n",
    "#Extract the hour from from the newly created time\n",
    "olist_model3['order_approved_hour'] = olist_model3['order_approved_time2'].dt.strftime('%H')\n",
    "\n",
    "olist_model3['order_approved_hour'] = olist_model3['order_approved_hour'].astype(\"int32\")"
   ]
  },
  {
   "cell_type": "code",
   "execution_count": null,
   "id": "1ac267e4",
   "metadata": {},
   "outputs": [],
   "source": [
    "#Remove columns that are recoded.\n",
    "olist_model3.drop(columns=['order_approved_time', 'order_approved_at'\n",
    "                          ], inplace =True) #it is safe to use inplace=True since this is a copy of the dataset."
   ]
  },
  {
   "cell_type": "code",
   "execution_count": null,
   "id": "6d16272d",
   "metadata": {},
   "outputs": [],
   "source": []
  },
  {
   "cell_type": "code",
   "execution_count": 62,
   "id": "a7321a82",
   "metadata": {},
   "outputs": [
    {
     "data": {
      "text/plain": [
       "good    87129\n",
       "bad     17295\n",
       "fair     9642\n",
       "Name: review_score_class, dtype: int64"
      ]
     },
     "execution_count": 62,
     "metadata": {},
     "output_type": "execute_result"
    }
   ],
   "source": [
    "#review class is an important attribut \n",
    "#but with class imbalance so we split the dataset \n",
    "#to ensure that samples are representatinve of the class levels\n",
    "olist_class2['review_score_class'].value_counts()"
   ]
  },
  {
   "cell_type": "code",
   "execution_count": 63,
   "id": "1900d71c",
   "metadata": {},
   "outputs": [
    {
     "name": "stdout",
     "output_type": "stream",
     "text": [
      "<class 'pandas.core.frame.DataFrame'>\n",
      "Int64Index: 114066 entries, 0 to 114066\n",
      "Data columns (total 13 columns):\n",
      " #   Column                         Non-Null Count   Dtype         \n",
      "---  ------                         --------------   -----         \n",
      " 0   payment_sequential             114066 non-null  float64       \n",
      " 1   product_category_english       114066 non-null  category      \n",
      " 2   seller_zip_code_prefix         114066 non-null  category      \n",
      " 3   seller_city                    114066 non-null  category      \n",
      " 4   tot_order_amt                  114066 non-null  float64       \n",
      " 5   freight_value                  114066 non-null  float64       \n",
      " 6   product_dimensions             114066 non-null  float64       \n",
      " 7   review_score_class             114066 non-null  category      \n",
      " 8   product_weight_g               114066 non-null  float64       \n",
      " 9   customer_city                  114066 non-null  category      \n",
      " 10  customer_zip_code_prefix       114066 non-null  category      \n",
      " 11  order_approved_at              114066 non-null  datetime64[ns]\n",
      " 12  delivery_estimate_discrepancy  114066 non-null  float64       \n",
      "dtypes: category(6), datetime64[ns](1), float64(6)\n",
      "memory usage: 8.9 MB\n"
     ]
    }
   ],
   "source": [
    "olist_class2.info()"
   ]
  },
  {
   "cell_type": "code",
   "execution_count": 76,
   "id": "ddee33e4",
   "metadata": {},
   "outputs": [],
   "source": [
    "from sklearn.datasets import make_regression\n",
    "from sklearn.model_selection import cross_val_score\n",
    "from sklearn.model_selection import RepeatedKFold\n",
    "from sklearn.feature_selection import RFE\n",
    "from sklearn.tree import DecisionTreeRegressor\n",
    "from sklearn.pipeline import Pipeline\n",
    "from sklearn.model_selection import RepeatedStratifiedKFold\n",
    "from sklearn.feature_selection import RFECV\n",
    "from sklearn.linear_model import LogisticRegression\n",
    "from sklearn.linear_model import Perceptron\n",
    "from sklearn.ensemble import RandomForestClassifier\n",
    "from sklearn.ensemble import RandomForestRegressor\n",
    "from sklearn.ensemble import GradientBoostingClassifier\n",
    "from sklearn.linear_model import SGDRegressor\n",
    "from sklearn.ensemble import GradientBoostingRegressor\n",
    "from sklearn.preprocessing import OneHotEncoder\n",
    "from sklearn.preprocessing import StandardScaler\n",
    "from sklearn.compose import ColumnTransformer\n",
    "from sklearn.linear_model import LinearRegression\n",
    "from matplotlib import pyplot"
   ]
  },
  {
   "cell_type": "code",
   "execution_count": null,
   "id": "c7b012be",
   "metadata": {},
   "outputs": [],
   "source": [
    "#olist_class2 = olist_class2.sample(n=12000)"
   ]
  },
  {
   "cell_type": "markdown",
   "id": "f6bd89d6",
   "metadata": {},
   "source": [
    "### <span style='color:blue'> === 80:20 Train:Test Split of the dataset === </span>"
   ]
  },
  {
   "cell_type": "code",
   "execution_count": 64,
   "id": "f5eb3e86",
   "metadata": {},
   "outputs": [],
   "source": [
    "#Simple train test split\n",
    "\n",
    "from sklearn.model_selection import train_test_split\n",
    "olist_train, olist_test = train_test_split(olist_class3, test_size=0.2,random_state=100, \n",
    "                                           stratify = olist_class3.review_score_class)\n",
    "#train_indicies = olist_train.index.values.copy()\n"
   ]
  },
  {
   "cell_type": "code",
   "execution_count": 65,
   "id": "2f9397f3",
   "metadata": {
    "scrolled": true
   },
   "outputs": [
    {
     "name": "stdout",
     "output_type": "stream",
     "text": [
      "<class 'pandas.core.frame.DataFrame'>\n",
      "Int64Index: 91252 entries, 92459 to 71138\n",
      "Data columns (total 13 columns):\n",
      " #   Column                         Non-Null Count  Dtype         \n",
      "---  ------                         --------------  -----         \n",
      " 0   payment_sequential             91252 non-null  float64       \n",
      " 1   product_category_english       91252 non-null  category      \n",
      " 2   seller_zip_code_prefix         91252 non-null  category      \n",
      " 3   seller_city                    91252 non-null  category      \n",
      " 4   tot_order_amt                  91252 non-null  float64       \n",
      " 5   freight_value                  91252 non-null  float64       \n",
      " 6   product_dimensions             91252 non-null  float64       \n",
      " 7   review_score_class             91252 non-null  category      \n",
      " 8   product_weight_g               91252 non-null  float64       \n",
      " 9   customer_city                  91252 non-null  category      \n",
      " 10  customer_zip_code_prefix       91252 non-null  category      \n",
      " 11  order_approved_at              91252 non-null  datetime64[ns]\n",
      " 12  delivery_estimate_discrepancy  91252 non-null  float64       \n",
      "dtypes: category(6), datetime64[ns](1), float64(6)\n",
      "memory usage: 7.1 MB\n"
     ]
    }
   ],
   "source": [
    "olist_train.info()"
   ]
  },
  {
   "cell_type": "code",
   "execution_count": 66,
   "id": "1fd1944a",
   "metadata": {},
   "outputs": [
    {
     "name": "stdout",
     "output_type": "stream",
     "text": [
      "<class 'pandas.core.frame.DataFrame'>\n",
      "Int64Index: 22814 entries, 107119 to 27386\n",
      "Data columns (total 13 columns):\n",
      " #   Column                         Non-Null Count  Dtype         \n",
      "---  ------                         --------------  -----         \n",
      " 0   payment_sequential             22814 non-null  float64       \n",
      " 1   product_category_english       22814 non-null  category      \n",
      " 2   seller_zip_code_prefix         22814 non-null  category      \n",
      " 3   seller_city                    22814 non-null  category      \n",
      " 4   tot_order_amt                  22814 non-null  float64       \n",
      " 5   freight_value                  22814 non-null  float64       \n",
      " 6   product_dimensions             22814 non-null  float64       \n",
      " 7   review_score_class             22814 non-null  category      \n",
      " 8   product_weight_g               22814 non-null  float64       \n",
      " 9   customer_city                  22814 non-null  category      \n",
      " 10  customer_zip_code_prefix       22814 non-null  category      \n",
      " 11  order_approved_at              22814 non-null  datetime64[ns]\n",
      " 12  delivery_estimate_discrepancy  22814 non-null  float64       \n",
      "dtypes: category(6), datetime64[ns](1), float64(6)\n",
      "memory usage: 2.3 MB\n"
     ]
    }
   ],
   "source": [
    "olist_test.info()"
   ]
  },
  {
   "cell_type": "code",
   "execution_count": 67,
   "id": "d99bad52",
   "metadata": {},
   "outputs": [
    {
     "data": {
      "text/plain": [
       "91252"
      ]
     },
     "execution_count": 67,
     "metadata": {},
     "output_type": "execute_result"
    }
   ],
   "source": [
    "#Target variable\n",
    "olist_train_y = olist_train.delivery_estimate_discrepancy\n",
    "len(olist_train_y)"
   ]
  },
  {
   "cell_type": "code",
   "execution_count": 68,
   "id": "2adcba04",
   "metadata": {},
   "outputs": [
    {
     "name": "stdout",
     "output_type": "stream",
     "text": [
      "<class 'pandas.core.frame.DataFrame'>\n",
      "Int64Index: 91252 entries, 92459 to 71138\n",
      "Data columns (total 12 columns):\n",
      " #   Column                    Non-Null Count  Dtype         \n",
      "---  ------                    --------------  -----         \n",
      " 0   payment_sequential        91252 non-null  float64       \n",
      " 1   product_category_english  91252 non-null  category      \n",
      " 2   seller_zip_code_prefix    91252 non-null  category      \n",
      " 3   seller_city               91252 non-null  category      \n",
      " 4   tot_order_amt             91252 non-null  float64       \n",
      " 5   freight_value             91252 non-null  float64       \n",
      " 6   product_dimensions        91252 non-null  float64       \n",
      " 7   review_score_class        91252 non-null  category      \n",
      " 8   product_weight_g          91252 non-null  float64       \n",
      " 9   customer_city             91252 non-null  category      \n",
      " 10  customer_zip_code_prefix  91252 non-null  category      \n",
      " 11  order_approved_at         91252 non-null  datetime64[ns]\n",
      "dtypes: category(6), datetime64[ns](1), float64(5)\n",
      "memory usage: 6.4 MB\n"
     ]
    }
   ],
   "source": [
    "#All predictor attributes\n",
    "olist_train_noY = olist_train.copy().drop('delivery_estimate_discrepancy', axis=1)\n",
    "olist_train_noY.info()"
   ]
  },
  {
   "cell_type": "markdown",
   "id": "8f6510ae",
   "metadata": {},
   "source": [
    "### Preprocess the test for prediction"
   ]
  },
  {
   "cell_type": "code",
   "execution_count": 69,
   "id": "d4c1da9d",
   "metadata": {},
   "outputs": [
    {
     "data": {
      "text/plain": [
       "22814"
      ]
     },
     "execution_count": 69,
     "metadata": {},
     "output_type": "execute_result"
    }
   ],
   "source": [
    "#Target variable\n",
    "olist_test_y = olist_test.delivery_estimate_discrepancy\n",
    "len(olist_test_y)"
   ]
  },
  {
   "cell_type": "code",
   "execution_count": 70,
   "id": "a7c3bd92",
   "metadata": {},
   "outputs": [
    {
     "name": "stdout",
     "output_type": "stream",
     "text": [
      "<class 'pandas.core.frame.DataFrame'>\n",
      "Int64Index: 22814 entries, 107119 to 27386\n",
      "Data columns (total 12 columns):\n",
      " #   Column                    Non-Null Count  Dtype         \n",
      "---  ------                    --------------  -----         \n",
      " 0   payment_sequential        22814 non-null  float64       \n",
      " 1   product_category_english  22814 non-null  category      \n",
      " 2   seller_zip_code_prefix    22814 non-null  category      \n",
      " 3   seller_city               22814 non-null  category      \n",
      " 4   tot_order_amt             22814 non-null  float64       \n",
      " 5   freight_value             22814 non-null  float64       \n",
      " 6   product_dimensions        22814 non-null  float64       \n",
      " 7   review_score_class        22814 non-null  category      \n",
      " 8   product_weight_g          22814 non-null  float64       \n",
      " 9   customer_city             22814 non-null  category      \n",
      " 10  customer_zip_code_prefix  22814 non-null  category      \n",
      " 11  order_approved_at         22814 non-null  datetime64[ns]\n",
      "dtypes: category(6), datetime64[ns](1), float64(5)\n",
      "memory usage: 2.1 MB\n"
     ]
    }
   ],
   "source": [
    "#All predictor attributes\n",
    "olist_test_noY = olist_test.copy().drop('delivery_estimate_discrepancy', axis=1)\n",
    "olist_test_noY.info()"
   ]
  },
  {
   "cell_type": "code",
   "execution_count": 71,
   "id": "b02f69ba",
   "metadata": {},
   "outputs": [],
   "source": [
    "from sklearn.compose import ColumnTransformer, make_column_selector\n",
    "from sklearn.pipeline import make_pipeline\n",
    "import multiprocessing\n",
    "from sklearn.impute import SimpleImputer"
   ]
  },
  {
   "cell_type": "code",
   "execution_count": null,
   "id": "40778a45",
   "metadata": {},
   "outputs": [],
   "source": [
    "#Categorical variables\n",
    "olist_train_cat = olist_train_noY[['payment_sequential', 'product_category_english', \n",
    "                            'seller_zip_code_prefix','seller_city', 'review_score_class', 'customer_city',\n",
    "                            'customer_zip_code_prefix']]\n",
    "olist_train_cat.info()"
   ]
  },
  {
   "cell_type": "code",
   "execution_count": null,
   "id": "c0d70d55",
   "metadata": {},
   "outputs": [],
   "source": [
    "olist_train_num = olist_train_noY[['tot_order_amt', 'freight_value', 'product_dimensions', 'product_weight_g', 'order_approved_hour']]"
   ]
  },
  {
   "cell_type": "code",
   "execution_count": null,
   "id": "bd0e488f",
   "metadata": {},
   "outputs": [],
   "source": [
    "#Categorical variables\n",
    "olist_test_cat = olist_test_noY[['payment_sequential', 'product_category_english', \n",
    "                            'seller_zip_code_prefix','seller_city', 'review_score_class', 'customer_city',\n",
    "                            'customer_zip_code_prefix']]\n",
    "olist_test_cat.info()"
   ]
  },
  {
   "cell_type": "code",
   "execution_count": null,
   "id": "21f6398e",
   "metadata": {},
   "outputs": [],
   "source": [
    "olist_test_num = olist_test_noY[['tot_order_amt', 'freight_value', 'product_dimensions', 'product_weight_g', 'order_approved_hour']]"
   ]
  },
  {
   "cell_type": "code",
   "execution_count": null,
   "id": "235c7fa7",
   "metadata": {},
   "outputs": [],
   "source": []
  },
  {
   "cell_type": "code",
   "execution_count": null,
   "id": "2baa87cc",
   "metadata": {},
   "outputs": [],
   "source": []
  },
  {
   "cell_type": "code",
   "execution_count": 80,
   "id": "478e4e0f",
   "metadata": {},
   "outputs": [],
   "source": [
    "numeric_pipeline = make_pipeline(StandardScaler()) "
   ]
  },
  {
   "cell_type": "code",
   "execution_count": 81,
   "id": "2cba43ec",
   "metadata": {},
   "outputs": [],
   "source": [
    "fullpipeline_simple = ColumnTransformer(transformers=\\\n",
    "                                       [('numeric_pipeline', numeric_pipeline, select_numeric_features),\\\n",
    "                                        ('oh_pipeline', oh_pipeline1, select_oh_features),\\\n",
    "                                        ('hc_pipeline', oh_pipeline1, select_hc_features)],                                       \n",
    "                                       remainder='drop')"
   ]
  },
  {
   "cell_type": "code",
   "execution_count": null,
   "id": "f2448346",
   "metadata": {},
   "outputs": [],
   "source": [
    "# let's break up the Discrepancy variable\n",
    "#But needs outliers to be removed\n",
    "#olist_train_y_class = pd.cut(olist_train_y, [0, 2, 3, 5], 3, labels=['bad','fair','good']) # this creates a new variable\n",
    "#olist_train_y_class = olist_train_y_class.astype(\"category\")"
   ]
  },
  {
   "cell_type": "code",
   "execution_count": 82,
   "id": "0467bcc9",
   "metadata": {
    "scrolled": true
   },
   "outputs": [
    {
     "data": {
      "text/plain": [
       "count    91252.000000\n",
       "mean        11.422270\n",
       "std         10.156696\n",
       "min       -189.000000\n",
       "25%          7.000000\n",
       "50%         12.000000\n",
       "75%         16.000000\n",
       "max        146.000000\n",
       "Name: delivery_estimate_discrepancy, dtype: float64"
      ]
     },
     "execution_count": 82,
     "metadata": {},
     "output_type": "execute_result"
    }
   ],
   "source": [
    "olist_train_y.describe()"
   ]
  },
  {
   "cell_type": "code",
   "execution_count": 83,
   "id": "ef450b67",
   "metadata": {},
   "outputs": [
    {
     "data": {
      "text/plain": [
       "26.0"
      ]
     },
     "execution_count": 83,
     "metadata": {},
     "output_type": "execute_result"
    }
   ],
   "source": [
    "olist_train_y.quantile(0.95)"
   ]
  },
  {
   "cell_type": "code",
   "execution_count": 84,
   "id": "59fbee52",
   "metadata": {},
   "outputs": [
    {
     "data": {
      "text/plain": [
       "{'bodies': [<matplotlib.collections.PolyCollection at 0x200ecb7dfc8>],\n",
       " 'cmeans': <matplotlib.collections.LineCollection at 0x200ecba5688>,\n",
       " 'cmaxes': <matplotlib.collections.LineCollection at 0x200ecbb2e08>,\n",
       " 'cmins': <matplotlib.collections.LineCollection at 0x200ecbb2688>,\n",
       " 'cbars': <matplotlib.collections.LineCollection at 0x200ecbbbd48>}"
      ]
     },
     "execution_count": 84,
     "metadata": {},
     "output_type": "execute_result"
    },
    {
     "data": {
      "image/png": "[encoded data removed]",
      "text/plain": [
       "<Figure size 432x288 with 1 Axes>"
      ]
     },
     "metadata": {
      "needs_background": "light"
     },
     "output_type": "display_data"
    }
   ],
   "source": [
    "plt.violinplot(olist_train_y, showmeans=True)"
   ]
  },
  {
   "cell_type": "markdown",
   "id": "8df9fdb6",
   "metadata": {},
   "source": [
    "#### <span style='color:blue'>Create the categorical y training variable of customer reviews to be either 'late' = 1,'on time' = 2, 'early' = 3</span>"
   ]
  },
  {
   "cell_type": "code",
   "execution_count": 85,
   "id": "764b1821",
   "metadata": {},
   "outputs": [
    {
     "data": {
      "text/plain": [
       "count     91252\n",
       "unique        3\n",
       "top           3\n",
       "freq      80352\n",
       "Name: delivery_estimate_discrepancy, dtype: int64"
      ]
     },
     "execution_count": 85,
     "metadata": {},
     "output_type": "execute_result"
    }
   ],
   "source": [
    "olist_train_y_range = pd.cut(olist_train_y, [-200, -2, 2, 210], 3, labels=[1,2,3]) # this creates a new variable\n",
    "olist_train_y_range.describe()\n",
    "#'late' = 1,'on target' = 2, 'early' = 3"
   ]
  },
  {
   "cell_type": "code",
   "execution_count": 86,
   "id": "41866e77",
   "metadata": {},
   "outputs": [
    {
     "data": {
      "text/plain": [
       "3    80352\n",
       "1     5624\n",
       "2     5276\n",
       "Name: delivery_estimate_discrepancy, dtype: int64"
      ]
     },
     "execution_count": 86,
     "metadata": {},
     "output_type": "execute_result"
    }
   ],
   "source": [
    "#Sanity check for any null values as a result of the cut process.\n",
    "olist_train_y_range.value_counts()"
   ]
  },
  {
   "cell_type": "markdown",
   "id": "4e2b1797",
   "metadata": {},
   "source": [
    "---\n",
    "#### <span style='color:blue'>Create the categorical y test variable of customer reviews to be either 'late' = 1,'on time' = 2, 'early' = 3</span>"
   ]
  },
  {
   "cell_type": "code",
   "execution_count": 87,
   "id": "f19a6e4d",
   "metadata": {},
   "outputs": [
    {
     "data": {
      "text/plain": [
       "count     22814\n",
       "unique        3\n",
       "top           3\n",
       "freq      20043\n",
       "Name: delivery_estimate_discrepancy, dtype: int64"
      ]
     },
     "execution_count": 87,
     "metadata": {},
     "output_type": "execute_result"
    }
   ],
   "source": [
    "olist_test_y_range = pd.cut(olist_test_y, [-200, -2, 2, 250], 3, labels=[1,2,3]) # this creates a new variable\n",
    "olist_test_y_range.describe()\n",
    "#'late' = 1,'on target' = 2, 'early' = 3"
   ]
  },
  {
   "cell_type": "code",
   "execution_count": 88,
   "id": "596a3874",
   "metadata": {},
   "outputs": [
    {
     "data": {
      "text/plain": [
       "0"
      ]
     },
     "execution_count": 88,
     "metadata": {},
     "output_type": "execute_result"
    }
   ],
   "source": [
    "olist_test_y_range.isna().sum()"
   ]
  },
  {
   "cell_type": "code",
   "execution_count": 89,
   "id": "e2924187",
   "metadata": {},
   "outputs": [
    {
     "data": {
      "text/plain": [
       "3    20043\n",
       "1     1448\n",
       "2     1323\n",
       "Name: delivery_estimate_discrepancy, dtype: int64"
      ]
     },
     "execution_count": 89,
     "metadata": {},
     "output_type": "execute_result"
    }
   ],
   "source": [
    "#Sanity check for any null values as a result of the cut process.\n",
    "olist_test_y_range.value_counts()"
   ]
  },
  {
   "cell_type": "markdown",
   "id": "a0c8662b",
   "metadata": {},
   "source": [
    "### Normalize the feature values so that all the attributes are on the same dynamic range\n"
   ]
  },
  {
   "cell_type": "code",
   "execution_count": 90,
   "id": "1d810c21",
   "metadata": {},
   "outputs": [],
   "source": [
    "#Make Y classification\n",
    "X_train_class = fullpipeline_simple.fit_transform(olist_train_noY, olist_train_y_range)\n",
    "X_test_class = fullpipeline_simple.transform(olist_test_noY)"
   ]
  },
  {
   "cell_type": "code",
   "execution_count": 91,
   "id": "54956f48",
   "metadata": {},
   "outputs": [
    {
     "name": "stdout",
     "output_type": "stream",
     "text": [
      "(91252, 16979)\n",
      "(22814, 16979)\n"
     ]
    }
   ],
   "source": [
    "print(X_train_class.shape)\n",
    "print(X_test_class.shape)"
   ]
  },
  {
   "cell_type": "markdown",
   "id": "6c9cbf22",
   "metadata": {},
   "source": [
    "---\n",
    "# <span style='color:blue'> **1. Create Model (50 points)** </span>\n",
    "---\n",
    "\n",
    "- Create a **logistic regression model** and a **support vector machine model** for the **classification task** involved with your dataset.  \n",
    "\n",
    "- Assess how well each model performs (use 80/20 training/testing split for your data).\n",
    "    - <span style='color:green'> ***80/20 Split performed during preprocessing above***</span>\n",
    "\n",
    "- Adjust parameters of the models to make them more accurate. If your dataset size requires the use of stochastic gradient descent, then linear kernel only is fine to use. \n",
    "    - That is, the SGDClassifier is fine to use for optimizing logistic regression and linear support vector machines.\n",
    "            -For many problems, SGD will be required in order to train the SVM model in a reasonable timeframe."
   ]
  },
  {
   "cell_type": "markdown",
   "id": "886936b3",
   "metadata": {},
   "source": [
    "## <span style='color:blue'> Create a Logistic Regression classifier </span>\n"
   ]
  },
  {
   "cell_type": "code",
   "execution_count": 92,
   "id": "bc9f83d0",
   "metadata": {},
   "outputs": [
    {
     "name": "stdout",
     "output_type": "stream",
     "text": [
      "Logistic Regression Metrics:\n",
      "LogisticRegression(C=1, class_weight='balanced', multi_class='multinomial',\n",
      "                   random_state=42, solver='newton-cg')\n",
      "              precision    recall  f1-score   support\n",
      "\n",
      "           1       0.27      0.65      0.38      1448\n",
      "           2       0.12      0.41      0.19      1323\n",
      "           3       0.94      0.69      0.80     20043\n",
      "\n",
      "    accuracy                           0.67     22814\n",
      "   macro avg       0.44      0.58      0.45     22814\n",
      "weighted avg       0.85      0.67      0.74     22814\n",
      "\n",
      "Wall time: 29.2 s\n"
     ]
    }
   ],
   "source": [
    "%%time\n",
    "from sklearn.metrics import classification_report\n",
    "\n",
    "#Logistic regression\n",
    "logr_clf = LogisticRegression(penalty='l2', #default\n",
    "                              C=1, #default \n",
    "                              class_weight='balanced', # use with imbalanced dataset\n",
    "                              solver='newton-cg', # only solver that works with this dataset\n",
    "                              multi_class='multinomial', \n",
    "                              random_state=42) \n",
    "logr_clf.fit(X_train_class,olist_train_y_range)\n",
    "\n",
    "# Note: For multiclass problems, only ‘newton-cg’, ‘sag’, ‘saga’ and ‘lbfgs’ handle multinomial loss; \n",
    "# ‘liblinear’ is limited to one-versus-rest schemes.\n",
    "# Note: solver default lbfgs, sag and saga did not work, we hit max_iter and even set at 4000 it still did not work\n",
    "# Note: only newton-cg works\n",
    "\n",
    "#y_train_pred_class = sgd_clf.predict(X_train_class)\n",
    "yhat_lr = logr_clf.predict(X_test_class)\n",
    "\n",
    "print('Logistic Regression Metrics:')\n",
    "print(logr_clf)\n",
    "print(classification_report(olist_test_y_range, yhat_lr))"
   ]
  },
  {
   "cell_type": "markdown",
   "id": "927bd307",
   "metadata": {},
   "source": [
    "## <span style='color:blue'>Utilize RandomizedSearchCV to tune our Logistic Regression Model</span>\n",
    "\n",
    "source: https://chrisalbon.com/machine_learning/model_selection/hyperparameter_tuning_using_random_search/"
   ]
  },
  {
   "cell_type": "code",
   "execution_count": 93,
   "id": "754bd601",
   "metadata": {},
   "outputs": [
    {
     "name": "stdout",
     "output_type": "stream",
     "text": [
      "Wall time: 1.99 ms\n"
     ]
    }
   ],
   "source": [
    "%%time\n",
    "from scipy.stats import uniform\n",
    "from sklearn.model_selection import RandomizedSearchCV\n",
    "X = X_train_class\n",
    "y = olist_train_y_range\n",
    "# create logistic Regression\n",
    "lgr = LogisticRegression(solver='newton-cg')\n",
    "\n",
    "# create regularization penalty space\n",
    "penalty = ['l2','none']  #only penalties that work with newton-cg\n",
    "\n",
    "# create regulatization hyperparameter distribution using uniform distribution\n",
    "C = uniform(loc=0, scale=4) \n",
    "\n",
    "# create hyperparameter options\n",
    "hyp = dict(C=C, penalty=penalty)\n",
    "\n",
    "# create random search, 5fold CV, 100 iterations\n",
    "clf = RandomizedSearchCV(lgr, hyp, random_state=42, n_iter=10, cv=5, verbose=0, n_jobs=-1)\n",
    "\n"
   ]
  },
  {
   "cell_type": "code",
   "execution_count": null,
   "id": "d233d8b8",
   "metadata": {},
   "outputs": [],
   "source": [
    "%%time\n",
    "#fit random search\n",
    "best_model = clf.fit(X,y)"
   ]
  },
  {
   "cell_type": "code",
   "execution_count": null,
   "id": "f0e4125f",
   "metadata": {},
   "outputs": [],
   "source": [
    "# view hyperparameter values of best model\n",
    "print('Best Penalty:', best_model.best_estimator_.get_params()['penalty'])\n",
    "print('Best C:', best_model.best_estimator_.get_params()['C'])\n",
    "print('Best Score: ', best_model.best_score_) \n",
    "print('Best Params: ', best_model.best_params_)\n",
    "print('Best Time (seconds): ', best_model.refit_time_)"
   ]
  },
  {
   "cell_type": "code",
   "execution_count": null,
   "id": "d78456ce",
   "metadata": {},
   "outputs": [],
   "source": [
    "# predict using best model\n",
    "yhat = best_model.predict(X_test_class)\n",
    "\n",
    "print('Best RandomSearchCV Logistic Regression Metrics:')\n",
    "print(classification_report(olist_test_y_range, yhat, zero_division=0))"
   ]
  },
  {
   "cell_type": "markdown",
   "id": "6c68b842",
   "metadata": {},
   "source": [
    "## <span style='color:blue'> Basic SVM Model</span>"
   ]
  },
  {
   "cell_type": "code",
   "execution_count": null,
   "id": "b29d754a",
   "metadata": {},
   "outputs": [],
   "source": [
    "%%time\n",
    "# Basic SVM Model\n",
    "\n",
    "from sklearn.linear_model import SGDClassifier\n",
    "\n",
    "sgd_clf = SGDClassifier(random_state=42)\n",
    "sgd_clf.fit(X_train_class, olist_train_y_range)\n",
    "\n",
    "#y_train_pred_class = sgd_clf.predict(X_train_class)\n",
    "yhat_svm = sgd_clf.predict(X_test_class)"
   ]
  },
  {
   "cell_type": "code",
   "execution_count": null,
   "id": "9bb47cf9",
   "metadata": {},
   "outputs": [],
   "source": [
    "# SVM with SD Metrics\n",
    "print('Logistic Regression Metrics:')\n",
    "print(sgd_clf)\n",
    "print(classification_report(olist_test_y_range, yhat_svm, zero_division=0))"
   ]
  },
  {
   "cell_type": "markdown",
   "id": "138971ee",
   "metadata": {},
   "source": [
    "## <span style='color:blue'>Utilize RandomizedSearchCV to tune our SVM Model</span>"
   ]
  },
  {
   "cell_type": "code",
   "execution_count": null,
   "id": "f5655c66",
   "metadata": {},
   "outputs": [],
   "source": [
    "%%time\n",
    "from sklearn.linear_model import SGDClassifier \n",
    "from sklearn.model_selection import RandomizedSearchCV \n",
    "\n",
    "# create variable dictionaries\n",
    "loss = ['hinge', 'log', 'modified_huber', 'squared_hinge']\n",
    "penalty = ['l1', 'l2', 'elasticnet'] \n",
    "alpha = [0.0001, 0.001, 0.01, 0.1, 1, 10, 100, 1000] \n",
    "learning_rate = ['constant', 'optimal', 'invscaling', 'adaptive'] \n",
    "eta0 = [1, 10, 100] \n",
    "\n",
    "# create hyperparameter options\n",
    "param_distributions = dict(loss=loss, \n",
    "                           penalty=penalty, \n",
    "                           alpha=alpha, \n",
    "                           learning_rate=learning_rate, \n",
    "                           eta0=eta0)\n",
    "\n",
    "# create the classifier\n",
    "sgd = SGDClassifier(early_stopping=True, validation_fraction=0.15, max_iter=100, class_weight = \"balanced\") \n",
    "\n",
    "# create RandomizedSearchCV\n",
    "random = RandomizedSearchCV(estimator=sgd,\n",
    "                            param_distributions=param_distributions, \n",
    "                            verbose=1, \n",
    "                            n_iter=100, \n",
    "                            n_jobs=-1) \n",
    "random_result = random.fit(X_train_class,olist_train_y_range) "
   ]
  },
  {
   "cell_type": "code",
   "execution_count": null,
   "id": "bdb704ca",
   "metadata": {},
   "outputs": [],
   "source": [
    "%%time\n",
    "# Print Best Results\n",
    "print('Best Score: ', random_result.best_score_) \n",
    "print('Best Params: ', random_result.best_params_)\n",
    "print('Best Time (seconds): ', random_result.refit_time_)"
   ]
  },
  {
   "cell_type": "code",
   "execution_count": null,
   "id": "522b946d",
   "metadata": {},
   "outputs": [],
   "source": [
    "%%time\n",
    "# predict using best model\n",
    "yhat_rand_svm = random_result.predict(X_test_class)\n",
    "\n",
    "print('Best Random SVM SD Metrics:')\n",
    "print(classification_report(olist_test_y_range, yhat_rand_svm, zero_division=0))"
   ]
  },
  {
   "cell_type": "markdown",
   "id": "f775488f",
   "metadata": {},
   "source": [
    "## <span style='color:blue'> Model Advantages (10 points) </span>\n",
    "Discuss the advantages of each model for each classification task. Does one type of model offer superior performance over another in terms of prediction accuracy? In terms of training time or efficiency? Explain in detail.\n",
    "\n",
    "**Discussion:**\n",
    "* In order to save time, we sampled 12,000 of our original 114,066 records.\n",
    "* We utilized and 80/20 test-train split\n",
    "* We used intuitive feature reduction prior to training the model to reduce computational resources and time and put some thought into what features would ideally contribute to a product arriving by it’s estimated arrival date. While it may seem intuitive to just assume comparing the estimated arrival date and the actual arrival date would suffice, we thought about how people perceive estimated delivery times from couriers. For example, if I can pay for a package to be overnighted from Dallas to Austin and pay a premium rate; however, I also know that generally I can just pay the ground shipping rate the and the package will show up with 1-2 days rather than the estimated 5-7 days, so that is why we wanted to really have features that contributed to determining if a package was truly late, on time or early.\n",
    "* We ran 2 basic models using only minimal tuning for multinomial classification and 2 refitted models using RandomizedSearchCV for tuning.\n",
    "* We used multinomial classification to classify if packages were late, on time or early to olist customers\n",
    "* Basic Logistical Regression is the only model that was able to categorize deliveries that were made on-time (value #2) with a precision of 6%. It also had precision of 26% for late deliveries and 89% for early deliveries which makes sense since early deliveries had the largest representation in the dataset, followed by late deliveries and then on time deliveries. The overall precision was 75%. \n",
    "* Refitted using RandomizedSearchCV Logistical Regression: Once we tuned the model using RandomizedSearchCV with a 5-fold validation, the best model also correctly classifies on time deliveries 6% of the time, late deliveries 32% of the time and early deliveries 89% with and overall accuracy of 87%. So we saw some improvement with correctly categorizing the late deliveries and the overall accuracy.\n",
    " * SVM with Stochastic Descent with minor tuning to handle multinomial classification returned an overall accuracy of 87%, but failed to correctly classify any on time packages. This model had the same precision for late deliveries – 26% and early deliveries- 89%, but saw an increase in the recall for early deliveries, signaling an overfit at 98% with only 9% recall for late deliveries and no recall for on time deliveries. The overall accuracy was 87% and on par with the overall accuracy from the tuned logistal regression model (also at 87%).\n",
    "* Reffited SVM with Stochastic Descent: we again utilized RandomizedSearchCV to tune our SVM with stochastic decent that  maintaining an overall accuracy of 86% that was slightly lower than the untraining SVM (87% accuracy) and the training logistical regression model (87%). The precision was better for categorizing late deliveries (30%) compared to the untrained SVM (26%), but lower than the training logistic regression model (32%); however, the recall for late deliveries classification was the highest for the trained SVM (17%) compared to the 2nd best recall for late deliveries (15%) from the untrained logistical regression model.\n",
    "* Time - we found the best time for a model was the RandomizedSearchCV trained SVM at 0.06 seconds compared to 0.33 seconds for the best trained logistical regression model that also used RandomizedSearchCV. \n",
    "\n",
    "\n"
   ]
  },
  {
   "cell_type": "code",
   "execution_count": null,
   "id": "fd891803",
   "metadata": {},
   "outputs": [],
   "source": [
    "print('\\n================================================================\\n')\n",
    "print('=== Logistic Regression Metrics using minor tuning for class_weight, solver ===')\n",
    "print(logr_clf)\n",
    "print(classification_report(olist_test_y_range, yhat_lr))\n",
    "\n",
    "print('\\n================================================================\\n')\n",
    "print('=== Best RandomSearchCV Logistic Regression Metrics ===\\n')\n",
    "print('Best Penalty:', best_model.best_estimator_.get_params()['penalty'])\n",
    "print('Best C:', best_model.best_estimator_.get_params()['C'])\n",
    "print('Best Score: ', best_model.best_score_) \n",
    "print('Best Params: ', best_model.best_params_)\n",
    "print('Best Time (seconds): ', best_model.refit_time_)\n",
    "print(classification_report(olist_test_y_range, yhat, zero_division=0))\n",
    "\n",
    "print('\\n================================================================\\n')\n",
    "print('=== SVM with Stochastic Descent  Metrics ===\\n')\n",
    "print(classification_report(olist_test_y_range, yhat_svm, zero_division=0))\n",
    "\n",
    "print('\\n================================================================\\n')\n",
    "print('=== Best RandomSeachCV SVM-SD Metrics ===\\n')\n",
    "print('Best Score: ', random_result.best_score_) \n",
    "print('Best Params: ', random_result.best_params_)\n",
    "print('Best Time (seconds): ', random_result.refit_time_)\n",
    "print(classification_report(olist_test_y_range, yhat_rand_svm, zero_division=0))\n",
    "\n",
    "### <span style='color:blue'> **Discssion** </span>\n"
   ]
  },
  {
   "cell_type": "markdown",
   "id": "b4e56f2a",
   "metadata": {},
   "source": [
    "# <span style='color:blue'> 3. Interpret Feature Importance (30 points) </span>\n",
    "\n",
    "- Use the weights from logistic regression to interpret the importance of different features for the classification task.\n",
    "- Explain your interpretation in detail. Why do you think some variables are more important?\n",
    "-<span style='color:blue'> We realized once we got to this point in the project that the weights can only be interpreted for binary classification because multinomial requires interpreting quite a bit of other statistical measures we aren't quite familiar with. We did make an attempt at several of them. </span>"
   ]
  },
  {
   "cell_type": "markdown",
   "id": "33a422ad",
   "metadata": {},
   "source": [
    "#### Interpret the weights\n",
    "\n",
    "- An odds ratio less than 1 indicates that the likelihood of an outcome occurring would decrease as the variable increases, while an odds ratio of greater than 1 would indicate that there is a greater likelihood of an outcome occurring as the variable increases.\n",
    " \n",
    "- Unsurprisingly, the customer’s city had the largest impact on whether a customer receives their order early or late, given that the other variables in the model are held constant. We predicted this would be the case since certain areas of Brazil are extremely remote and difficult for carriers to deliver to. The odds of getting a package early given the customer’s city relative to other customers’ cities would be expected to decrease by a factor of 0.0053 for every increase of 1 when all other factors are held constant.  \n",
    "\n",
    "- Order approved at is the time stamp when the payment was approved. It had the next highest weight, which is interesting since a time stamp shouldn’t necessarily be correlated to the length of time a package arrives before or after an estimated delivery date. It would be interesting if this is highly correlated due to large holidays of natural disasters that affect all packages ordered around a certain point in time. The odds of getting a package early given the order approved at increasing by 1 would be expected to decrease by a factor of 0.042, all other factors held constant.  \n",
    "\n",
    "- The freight value had the third highest weight. This makes sense because a higher freight value could indicate a higher shipping priority, which would be highly correlated to the estimated delivery time and thus the delivery discrepancies. Unfortunately we don’t have data to confirm that this correlation is due to shipping priority, but we could possibly account for the package dimensions and weight to try to determine if higher cost freight value is dependent on the 3rd factor of shipping priority.  The odds of getting a package early given the freight value increasing by 1 would be expected to increase by a factor of 2.305, all other factors held constant.  \n",
    "\n",
    "- It appears that review scores are not heavily correlated with the actual delivery duration, meaning customers may not have a preference for faster shipping, or may not necessarily post polarized reviews due to shipping. We would need to run a different test to determine whether reviews are correlated to the delivery discrepancy. \n",
    "\n",
    "\n"
   ]
  },
  {
   "cell_type": "code",
   "execution_count": null,
   "id": "7d32a50f",
   "metadata": {},
   "outputs": [],
   "source": [
    "# iterate over the coefficients\n",
    "weights = logr_clf.coef_.T # take transpose to make a column vector\n",
    "variable_names = olist_train_noY.columns\n",
    "for coef, name in zip(weights,variable_names):\n",
    "    print(name, 'has weight of', coef[0])"
   ]
  },
  {
   "cell_type": "code",
   "execution_count": null,
   "id": "1880cc25",
   "metadata": {},
   "outputs": [],
   "source": [
    "# iterate over the coefficients\n",
    "weights = np.exp(logr_clf.coef_).T # take transpose to make a column vector\n",
    "variable_names = olist_train_noY.columns\n",
    "for coef, name in zip(weights,variable_names):\n",
    "    print(name, 'has odds ratios of', coef[0])"
   ]
  },
  {
   "cell_type": "code",
   "execution_count": null,
   "id": "d6c72d7e",
   "metadata": {},
   "outputs": [],
   "source": [
    "# now let's make a pandas Series with the names and values, and plot them\n",
    "from matplotlib import pyplot as plt\n",
    "import matplotlib as mpl\n",
    "import seaborn as sns\n",
    "%matplotlib inline\n",
    "# boxplot of continuous variables\n",
    "fig, ax = plt.subplots(figsize=(10,5)) #creat plot area\n",
    "\n",
    "plt.style.use('ggplot')\n",
    "\n",
    "weights = pd.Series(logr_clf.coef_[0][0:12],index=olist_train_noY.columns)\n",
    "ax = weights.plot(kind='bar')\n",
    "ax.set_facecolor('white') # sets background to white\n",
    "ax.set_xlabel('Features', fontsize='14') # x label\n",
    "ax.set_ylabel('Weights', fontsize='14') # y label\n",
    "ax.set_title('Features by Coef Weights', fontsize='14') # graph name\n",
    "ax.grid(b=True,color='lightgrey')\n",
    "plt.xticks(rotation=45, ha=\"right\")\n",
    "\n",
    "\n",
    "plt.show()"
   ]
  },
  {
   "cell_type": "code",
   "execution_count": null,
   "id": "aa27568d",
   "metadata": {
    "scrolled": true
   },
   "outputs": [],
   "source": [
    "#Correlations\n",
    "# let's try a heatmap\n",
    "# plot the correlation matrix using seaborn \n",
    "sns.set(style=\"darkgrid\") # one of the many styles to plot using\n",
    "\n",
    "cmap = sns.diverging_palette(210, 10, as_cmap=True) # one of the many color mappings\n",
    "\n",
    "f, ax = plt.subplots(figsize=(10,10))\n",
    "\n",
    "sns.heatmap(olist_class2.corr(), cmap=cmap, annot=True)\n",
    "plt.yticks(rotation=0)\n",
    "plt.xticks(rotation=45, ha=\"right\")\n",
    "plt.show()\n",
    "print(\"Correlation heatmap that shows linear relationship between delivery_estimate_discrepancy and other numerical attributes in the Olist dataset.\")"
   ]
  },
  {
   "cell_type": "markdown",
   "id": "356bd1da",
   "metadata": {},
   "source": []
  },
  {
   "cell_type": "code",
   "execution_count": null,
   "id": "536cd817",
   "metadata": {
    "scrolled": true
   },
   "outputs": [],
   "source": [
    "# look at the support vectors\n",
    "print(svc_clf.support_vectors_.shape)\n",
    "print(svc_clf.support_.shape)\n",
    "print(svc_clf.n_support_ )"
   ]
  },
  {
   "cell_type": "code",
   "execution_count": null,
   "id": "429eef72",
   "metadata": {
    "scrolled": true
   },
   "outputs": [],
   "source": [
    "print(svc_clf.support_vectors_)"
   ]
  },
  {
   "cell_type": "code",
   "execution_count": null,
   "id": "ec9f3a41",
   "metadata": {},
   "outputs": [],
   "source": [
    "olist_train.info()"
   ]
  },
  {
   "cell_type": "markdown",
   "id": "118a1cf7",
   "metadata": {},
   "source": [
    "# <span style='color:blue'> 4. Interpret support vectors </span>\n",
    "\n",
    "- Look at the chosen support vectors for the classification task. \n",
    "- Do these provide any insight into the data? Explain. \n",
    "- If you used stochastic gradient descent (and therefore did not explicitly solve for support vectors), try subsampling your data to train the SVC model\n",
    "    - then analyze the support vectors from the subsampled dataset.\n",
    "    -- <span style='color:red'>We used stochastic gradient descent, but had issues trying to re-create the training dataframe and then add back in the categorical column for graphing</span>"
   ]
  },
  {
   "cell_type": "code",
   "execution_count": null,
   "id": "286612e9",
   "metadata": {},
   "outputs": [],
   "source": [
    "X = X_train_class\n",
    "y = olist_train_y_range\n",
    "X_test = X_test_class \n",
    "y_test = olist_test_y_range\n",
    "X.shape"
   ]
  },
  {
   "cell_type": "code",
   "execution_count": null,
   "id": "8e460976",
   "metadata": {},
   "outputs": [],
   "source": [
    "# lets investigate SVMs on the data and play with the parameters and kernels\n",
    "from sklearn.svm import SVC\n",
    "from sklearn import metrics as mt\n",
    "\n",
    "# train the model just as before\n",
    "svm_clf = SVC(kernel=\"poly\") # get object\n",
    "svm_clf.fit(X, y)  # train object\n",
    "\n",
    "y_hat = svm_clf.predict(X_test) # get test set precitions\n",
    "\n",
    "acc = mt.accuracy_score(y_test,y_hat)\n",
    "conf = mt.confusion_matrix(y_test,y_hat)\n",
    "print('accuracy:', acc )\n",
    "print(conf)"
   ]
  },
  {
   "cell_type": "code",
   "execution_count": null,
   "id": "016607db",
   "metadata": {},
   "outputs": [],
   "source": [
    "# look at the support vectors\n",
    "print(svm_clf.support_vectors_.shape)\n",
    "print(svm_clf.support_.shape)\n",
    "print(svm_clf.n_support_ )"
   ]
  },
  {
   "cell_type": "code",
   "execution_count": null,
   "id": "cc9e3a3a",
   "metadata": {},
   "outputs": [],
   "source": [
    "# lets investigate SVMs on the data and play with the parameters and kernels\n",
    "from sklearn.svm import SVC\n",
    "from sklearn import metrics as mt\n",
    "\n",
    "# train the model just as before\n",
    "svm_clf = SVC(kernel=\"linear\") # get object\n",
    "svm_clf.fit(X, y)  # train object\n",
    "\n",
    "y_hat = svm_clf.predict(X_test) # get test set precitions\n",
    "\n",
    "acc = mt.accuracy_score(y_test,y_hat)\n",
    "conf = mt.confusion_matrix(y_test,y_hat)\n",
    "print('accuracy:', acc )\n",
    "print(conf)"
   ]
  },
  {
   "cell_type": "code",
   "execution_count": null,
   "id": "d75f9ed2",
   "metadata": {},
   "outputs": [],
   "source": [
    "# look at the support vectors\n",
    "print(svm_clf.support_vectors_.shape)\n",
    "print(svm_clf.support_.shape)\n",
    "print(svm_clf.n_support_ )"
   ]
  },
  {
   "cell_type": "code",
   "execution_count": null,
   "id": "193fa2be",
   "metadata": {},
   "outputs": [],
   "source": [
    "train_indicies = sorted(train_indicies)\n",
    "print(train_indicies)\n",
    "print(olist_class2.index.shape)\n",
    "#print(olist_class.iloc[70488])"
   ]
  },
  {
   "cell_type": "code",
   "execution_count": null,
   "id": "a4aa5b42",
   "metadata": {},
   "outputs": [],
   "source": [
    "import numpy as np\n",
    "# Now let's do some different analysis with the SVM and look at the instances that were chosen as support vectors\n",
    "\n",
    "# now lets look at the support for the vectors and see if we they are indicative of anything\n",
    "# grabe the rows that were selected as support vectors (these are usually instances that are hard to classify)\n",
    "\n",
    "# make a dataframe of the training data\n",
    "df_tested_on =  olist_class2.iloc[train_indices,:].copy() # saved from above, the indices chosen for training\n",
    "# now get the support vectors from the trained model\n",
    "df_support = df_tested_on.iloc[svm_clf.support_,:].copy()\n",
    "\n",
    "df_support['delivery_estimate_discrepancy'] = y[svm_clf.support_] # add back in the 'Survived' Column to the pandas dataframe\n",
    "X['delivery_estimate_discrepancy'] = y # also add it back in for the original data\n",
    "df_support.info()"
   ]
  },
  {
   "cell_type": "code",
   "execution_count": null,
   "id": "5e72cf31",
   "metadata": {},
   "outputs": [],
   "source": []
  }
 ],
 "metadata": {
  "kernelspec": {
   "display_name": "Python 3",
   "language": "python",
   "name": "python3"
  },
  "language_info": {
   "codemirror_mode": {
    "name": "ipython",
    "version": 3
   },
   "file_extension": ".py",
   "mimetype": "text/x-python",
   "name": "python",
   "nbconvert_exporter": "python",
   "pygments_lexer": "ipython3",
   "version": "3.7.10"
  }
 },
 "nbformat": 4,
 "nbformat_minor": 5
}
