{
 "cells": [
  {
   "cell_type": "markdown",
   "id": "531f89ba",
   "metadata": {},
   "source": [
    "# Mini Lab\n",
    "\n",
    "## Group Members\n",
    "- Helene Barrera\n",
    "- Feby Thomas\n",
    "- John Olanipekun\n",
    "- Justin Ehly\n",
    "\n",
    "## <span style='color:blue'> Mini Lab Executive Summary </span>\n",
    "* This exercise seeks to fit **logistic regression**  and **Support Vector Machine** models to our groups dataset: *Olist E-Commerce* dataset. \n",
    "* We will develop a base classifier that determines if a package is <span style='color:red'> **'late', 'on time' or 'early'**</span> and subsequently tune the hyperparameters for possible improvement to the performance metrics (i.e. Accuracy, Precision, F-Score and Sensitivity).\n",
    "* This modeling phase will utilize the 'clean' dataset that was processed for the visualization task, but still needs some data preprocessing due to the transfer from one project to the next using a CSV file. \n",
    "* The **derived** response for the objective is actual delivery duration. Therefore the predictive model will predict actual delivery duration with performance measured on the held out test set. "
   ]
  },
  {
   "cell_type": "code",
   "execution_count": 1,
   "id": "d91a2400",
   "metadata": {},
   "outputs": [],
   "source": [
    "# set up environment\n",
    "import numpy as np\n",
    "import pandas as pd\n",
    "import os\n",
    "from datetime import datetime as dt\n",
    "import matplotlib.pyplot as plt\n",
    "import seaborn as sns\n"
   ]
  },
  {
   "cell_type": "code",
   "execution_count": 2,
   "id": "d13f2be2",
   "metadata": {},
   "outputs": [
    {
     "data": {
      "text/plain": [
       "'C:\\\\Users\\\\justi\\\\GitHub\\\\olist\\\\python'"
      ]
     },
     "execution_count": 2,
     "metadata": {},
     "output_type": "execute_result"
    }
   ],
   "source": [
    "# change working directory\n",
    "#os.chdir(r\"C:\\Users\\olani\\OneDrive\\Documents\\Data Science\\SMU-Data Science\\Machine Learning 1\\Olist_Dataset\")\n",
    "#\"C:\\Users\\olani\\OneDrive\\Documents\\Data Science\\SMU-Data Science\\Machine Learning 1\\Olist_Dataset\"\n",
    "os.chdir(r\"C:\\Users\\justi\\GitHub\\olist\\python\")\n",
    "# get current working directory\n",
    "os.getcwd()"
   ]
  },
  {
   "cell_type": "code",
   "execution_count": 4,
   "id": "1139924b",
   "metadata": {},
   "outputs": [
    {
     "data": {
      "text/html": [
       "<div>\n",
       "<style scoped>\n",
       "    .dataframe tbody tr th:only-of-type {\n",
       "        vertical-align: middle;\n",
       "    }\n",
       "\n",
       "    .dataframe tbody tr th {\n",
       "        vertical-align: top;\n",
       "    }\n",
       "\n",
       "    .dataframe thead th {\n",
       "        text-align: right;\n",
       "    }\n",
       "</style>\n",
       "<table border=\"1\" class=\"dataframe\">\n",
       "  <thead>\n",
       "    <tr style=\"text-align: right;\">\n",
       "      <th></th>\n",
       "      <th>order_id</th>\n",
       "      <th>customer_id</th>\n",
       "      <th>order_purchase_timestamp</th>\n",
       "      <th>order_approved_at</th>\n",
       "      <th>order_delivered_carrier_date</th>\n",
       "      <th>order_delivered_customer_date</th>\n",
       "      <th>order_estimated_delivery_date</th>\n",
       "      <th>customer_unique_id</th>\n",
       "      <th>customer_zip_code_prefix</th>\n",
       "      <th>customer_city</th>\n",
       "      <th>...</th>\n",
       "      <th>seller_state</th>\n",
       "      <th>tot_order_amt</th>\n",
       "      <th>purchase_wk_day</th>\n",
       "      <th>purchase_month</th>\n",
       "      <th>order_delivery_actual_duration</th>\n",
       "      <th>order_delivery_estimated_duration</th>\n",
       "      <th>delivery_estimate_discrepancy</th>\n",
       "      <th>product_dimensions</th>\n",
       "      <th>delivery_est_discrepancy_range</th>\n",
       "      <th>review_score_class</th>\n",
       "    </tr>\n",
       "  </thead>\n",
       "  <tbody>\n",
       "    <tr>\n",
       "      <th>0</th>\n",
       "      <td>b81ef226f3fe1789b1e8b2acac839d17</td>\n",
       "      <td>0a8556ac6be836b46b3e89920d59291c</td>\n",
       "      <td>2018-04-25 22:01:49</td>\n",
       "      <td>2018-04-25 22:15:09</td>\n",
       "      <td>2018-05-02 15:20:00</td>\n",
       "      <td>2018-05-09 17:36:51</td>\n",
       "      <td>2018-05-22 00:00:00</td>\n",
       "      <td>708ab75d2a007f0564aedd11139c7708</td>\n",
       "      <td>39801</td>\n",
       "      <td>teofilo otoni</td>\n",
       "      <td>...</td>\n",
       "      <td>SP</td>\n",
       "      <td>99.33</td>\n",
       "      <td>Wednesday</td>\n",
       "      <td>April</td>\n",
       "      <td>13</td>\n",
       "      <td>26</td>\n",
       "      <td>13</td>\n",
       "      <td>7803.0</td>\n",
       "      <td>too early</td>\n",
       "      <td>bad</td>\n",
       "    </tr>\n",
       "    <tr>\n",
       "      <th>1</th>\n",
       "      <td>a9810da82917af2d9aefd1278f1dcfa0</td>\n",
       "      <td>f2c7fc58a9de810828715166c672f10a</td>\n",
       "      <td>2018-06-26 11:01:38</td>\n",
       "      <td>2018-06-26 11:18:58</td>\n",
       "      <td>2018-06-28 14:18:00</td>\n",
       "      <td>2018-06-29 20:32:09</td>\n",
       "      <td>2018-07-16 00:00:00</td>\n",
       "      <td>a8b9d3a27068454b1c98cc67d4e31e6f</td>\n",
       "      <td>2422</td>\n",
       "      <td>sao paulo</td>\n",
       "      <td>...</td>\n",
       "      <td>SP</td>\n",
       "      <td>24.39</td>\n",
       "      <td>Tuesday</td>\n",
       "      <td>June</td>\n",
       "      <td>3</td>\n",
       "      <td>19</td>\n",
       "      <td>16</td>\n",
       "      <td>1056.0</td>\n",
       "      <td>too early</td>\n",
       "      <td>good</td>\n",
       "    </tr>\n",
       "    <tr>\n",
       "      <th>2</th>\n",
       "      <td>25e8ea4e93396b6fa0d3dd708e76c1bd</td>\n",
       "      <td>25b14b69de0b6e184ae6fe2755e478f9</td>\n",
       "      <td>2017-12-12 11:19:55</td>\n",
       "      <td>2017-12-14 09:52:34</td>\n",
       "      <td>2017-12-15 20:13:22</td>\n",
       "      <td>2017-12-18 17:24:41</td>\n",
       "      <td>2018-01-04 00:00:00</td>\n",
       "      <td>6f70c0b2f7552832ba46eb57b1c5651e</td>\n",
       "      <td>2652</td>\n",
       "      <td>sao paulo</td>\n",
       "      <td>...</td>\n",
       "      <td>SP</td>\n",
       "      <td>65.71</td>\n",
       "      <td>Tuesday</td>\n",
       "      <td>December</td>\n",
       "      <td>4</td>\n",
       "      <td>20</td>\n",
       "      <td>16</td>\n",
       "      <td>3360.0</td>\n",
       "      <td>too early</td>\n",
       "      <td>good</td>\n",
       "    </tr>\n",
       "    <tr>\n",
       "      <th>3</th>\n",
       "      <td>ba78997921bbcdc1373bb41e913ab953</td>\n",
       "      <td>7a5d8efaaa1081f800628c30d2b0728f</td>\n",
       "      <td>2017-12-06 12:04:06</td>\n",
       "      <td>2017-12-06 12:13:20</td>\n",
       "      <td>2017-12-07 20:28:28</td>\n",
       "      <td>2017-12-21 01:35:51</td>\n",
       "      <td>2018-01-04 00:00:00</td>\n",
       "      <td>87695ed086ebd36f20404c82d20fca87</td>\n",
       "      <td>36060</td>\n",
       "      <td>juiz de fora</td>\n",
       "      <td>...</td>\n",
       "      <td>SP</td>\n",
       "      <td>107.78</td>\n",
       "      <td>Wednesday</td>\n",
       "      <td>December</td>\n",
       "      <td>14</td>\n",
       "      <td>28</td>\n",
       "      <td>14</td>\n",
       "      <td>3080.0</td>\n",
       "      <td>too early</td>\n",
       "      <td>good</td>\n",
       "    </tr>\n",
       "    <tr>\n",
       "      <th>4</th>\n",
       "      <td>ba78997921bbcdc1373bb41e913ab953</td>\n",
       "      <td>7a5d8efaaa1081f800628c30d2b0728f</td>\n",
       "      <td>2017-12-06 12:04:06</td>\n",
       "      <td>2017-12-06 12:13:20</td>\n",
       "      <td>2017-12-07 20:28:28</td>\n",
       "      <td>2017-12-21 01:35:51</td>\n",
       "      <td>2018-01-04 00:00:00</td>\n",
       "      <td>87695ed086ebd36f20404c82d20fca87</td>\n",
       "      <td>36060</td>\n",
       "      <td>juiz de fora</td>\n",
       "      <td>...</td>\n",
       "      <td>SP</td>\n",
       "      <td>107.78</td>\n",
       "      <td>Wednesday</td>\n",
       "      <td>December</td>\n",
       "      <td>14</td>\n",
       "      <td>28</td>\n",
       "      <td>14</td>\n",
       "      <td>3080.0</td>\n",
       "      <td>too early</td>\n",
       "      <td>good</td>\n",
       "    </tr>\n",
       "  </tbody>\n",
       "</table>\n",
       "<p>5 rows × 47 columns</p>\n",
       "</div>"
      ],
      "text/plain": [
       "                           order_id                       customer_id  \\\n",
       "0  b81ef226f3fe1789b1e8b2acac839d17  0a8556ac6be836b46b3e89920d59291c   \n",
       "1  a9810da82917af2d9aefd1278f1dcfa0  f2c7fc58a9de810828715166c672f10a   \n",
       "2  25e8ea4e93396b6fa0d3dd708e76c1bd  25b14b69de0b6e184ae6fe2755e478f9   \n",
       "3  ba78997921bbcdc1373bb41e913ab953  7a5d8efaaa1081f800628c30d2b0728f   \n",
       "4  ba78997921bbcdc1373bb41e913ab953  7a5d8efaaa1081f800628c30d2b0728f   \n",
       "\n",
       "  order_purchase_timestamp    order_approved_at order_delivered_carrier_date  \\\n",
       "0      2018-04-25 22:01:49  2018-04-25 22:15:09          2018-05-02 15:20:00   \n",
       "1      2018-06-26 11:01:38  2018-06-26 11:18:58          2018-06-28 14:18:00   \n",
       "2      2017-12-12 11:19:55  2017-12-14 09:52:34          2017-12-15 20:13:22   \n",
       "3      2017-12-06 12:04:06  2017-12-06 12:13:20          2017-12-07 20:28:28   \n",
       "4      2017-12-06 12:04:06  2017-12-06 12:13:20          2017-12-07 20:28:28   \n",
       "\n",
       "  order_delivered_customer_date order_estimated_delivery_date  \\\n",
       "0           2018-05-09 17:36:51           2018-05-22 00:00:00   \n",
       "1           2018-06-29 20:32:09           2018-07-16 00:00:00   \n",
       "2           2017-12-18 17:24:41           2018-01-04 00:00:00   \n",
       "3           2017-12-21 01:35:51           2018-01-04 00:00:00   \n",
       "4           2017-12-21 01:35:51           2018-01-04 00:00:00   \n",
       "\n",
       "                 customer_unique_id  customer_zip_code_prefix  customer_city  \\\n",
       "0  708ab75d2a007f0564aedd11139c7708                     39801  teofilo otoni   \n",
       "1  a8b9d3a27068454b1c98cc67d4e31e6f                      2422      sao paulo   \n",
       "2  6f70c0b2f7552832ba46eb57b1c5651e                      2652      sao paulo   \n",
       "3  87695ed086ebd36f20404c82d20fca87                     36060   juiz de fora   \n",
       "4  87695ed086ebd36f20404c82d20fca87                     36060   juiz de fora   \n",
       "\n",
       "   ... seller_state tot_order_amt  purchase_wk_day purchase_month  \\\n",
       "0  ...           SP         99.33        Wednesday          April   \n",
       "1  ...           SP         24.39          Tuesday           June   \n",
       "2  ...           SP         65.71          Tuesday       December   \n",
       "3  ...           SP        107.78        Wednesday       December   \n",
       "4  ...           SP        107.78        Wednesday       December   \n",
       "\n",
       "  order_delivery_actual_duration order_delivery_estimated_duration  \\\n",
       "0                             13                                26   \n",
       "1                              3                                19   \n",
       "2                              4                                20   \n",
       "3                             14                                28   \n",
       "4                             14                                28   \n",
       "\n",
       "  delivery_estimate_discrepancy  product_dimensions  \\\n",
       "0                            13              7803.0   \n",
       "1                            16              1056.0   \n",
       "2                            16              3360.0   \n",
       "3                            14              3080.0   \n",
       "4                            14              3080.0   \n",
       "\n",
       "  delivery_est_discrepancy_range  review_score_class  \n",
       "0                      too early                 bad  \n",
       "1                      too early                good  \n",
       "2                      too early                good  \n",
       "3                      too early                good  \n",
       "4                      too early                good  \n",
       "\n",
       "[5 rows x 47 columns]"
      ]
     },
     "execution_count": 4,
     "metadata": {},
     "output_type": "execute_result"
    }
   ],
   "source": [
    "olist = pd.read_csv('olist_clean.csv')\n",
    "olist.head()"
   ]
  },
  {
   "cell_type": "code",
   "execution_count": 5,
   "id": "1631c4a5",
   "metadata": {},
   "outputs": [
    {
     "name": "stdout",
     "output_type": "stream",
     "text": [
      "<class 'pandas.core.frame.DataFrame'>\n",
      "RangeIndex: 114067 entries, 0 to 114066\n",
      "Data columns (total 47 columns):\n",
      " #   Column                             Non-Null Count   Dtype  \n",
      "---  ------                             --------------   -----  \n",
      " 0   order_id                           114067 non-null  object \n",
      " 1   customer_id                        114067 non-null  object \n",
      " 2   order_purchase_timestamp           114067 non-null  object \n",
      " 3   order_approved_at                  114067 non-null  object \n",
      " 4   order_delivered_carrier_date       114067 non-null  object \n",
      " 5   order_delivered_customer_date      114067 non-null  object \n",
      " 6   order_estimated_delivery_date      114067 non-null  object \n",
      " 7   customer_unique_id                 114067 non-null  object \n",
      " 8   customer_zip_code_prefix           114067 non-null  int64  \n",
      " 9   customer_city                      114067 non-null  object \n",
      " 10  customer_state                     114067 non-null  object \n",
      " 11  review_id                          114067 non-null  object \n",
      " 12  review_score                       114067 non-null  float64\n",
      " 13  review_comment_title               13661 non-null   object \n",
      " 14  review_comment_message             48220 non-null   object \n",
      " 15  review_creation_date               114067 non-null  object \n",
      " 16  review_answer_timestamp            114067 non-null  object \n",
      " 17  payment_sequential                 114067 non-null  float64\n",
      " 18  payment_type                       114067 non-null  object \n",
      " 19  payment_installments               114067 non-null  float64\n",
      " 20  payment_value                      114067 non-null  float64\n",
      " 21  order_item_id                      114067 non-null  float64\n",
      " 22  product_id                         114067 non-null  object \n",
      " 23  seller_id                          114067 non-null  object \n",
      " 24  shipping_limit_date                114067 non-null  object \n",
      " 25  price                              114067 non-null  float64\n",
      " 26  freight_value                      114067 non-null  float64\n",
      " 27  product_name_lenght                114067 non-null  float64\n",
      " 28  product_description_lenght         114067 non-null  float64\n",
      " 29  product_photos_qty                 114067 non-null  float64\n",
      " 30  product_weight_g                   114066 non-null  float64\n",
      " 31  product_length_cm                  114066 non-null  float64\n",
      " 32  product_height_cm                  114066 non-null  float64\n",
      " 33  product_width_cm                   114066 non-null  float64\n",
      " 34  product_category_english           114067 non-null  object \n",
      " 35  seller_zip_code_prefix             114067 non-null  float64\n",
      " 36  seller_city                        114067 non-null  object \n",
      " 37  seller_state                       114067 non-null  object \n",
      " 38  tot_order_amt                      114067 non-null  float64\n",
      " 39  purchase_wk_day                    114067 non-null  object \n",
      " 40  purchase_month                     114067 non-null  object \n",
      " 41  order_delivery_actual_duration     114067 non-null  int64  \n",
      " 42  order_delivery_estimated_duration  114067 non-null  int64  \n",
      " 43  delivery_estimate_discrepancy      114067 non-null  int64  \n",
      " 44  product_dimensions                 114066 non-null  float64\n",
      " 45  delivery_est_discrepancy_range     114067 non-null  object \n",
      " 46  review_score_class                 114067 non-null  object \n",
      "dtypes: float64(17), int64(4), object(26)\n",
      "memory usage: 40.9+ MB\n"
     ]
    }
   ],
   "source": [
    "olist.info()"
   ]
  },
  {
   "cell_type": "markdown",
   "id": "ed429468",
   "metadata": {},
   "source": [
    "## <span style='color:blue'> **Data Preprocessing** </span>"
   ]
  },
  {
   "cell_type": "code",
   "execution_count": 6,
   "id": "d7d66bca",
   "metadata": {},
   "outputs": [
    {
     "data": {
      "text/html": [
       "<div>\n",
       "<style scoped>\n",
       "    .dataframe tbody tr th:only-of-type {\n",
       "        vertical-align: middle;\n",
       "    }\n",
       "\n",
       "    .dataframe tbody tr th {\n",
       "        vertical-align: top;\n",
       "    }\n",
       "\n",
       "    .dataframe thead th {\n",
       "        text-align: right;\n",
       "    }\n",
       "</style>\n",
       "<table border=\"1\" class=\"dataframe\">\n",
       "  <thead>\n",
       "    <tr style=\"text-align: right;\">\n",
       "      <th></th>\n",
       "      <th>order_id</th>\n",
       "      <th>customer_id</th>\n",
       "      <th>order_purchase_timestamp</th>\n",
       "      <th>order_approved_at</th>\n",
       "      <th>order_delivered_carrier_date</th>\n",
       "      <th>order_delivered_customer_date</th>\n",
       "      <th>order_estimated_delivery_date</th>\n",
       "      <th>customer_unique_id</th>\n",
       "      <th>customer_zip_code_prefix</th>\n",
       "      <th>customer_city</th>\n",
       "      <th>...</th>\n",
       "      <th>seller_state</th>\n",
       "      <th>tot_order_amt</th>\n",
       "      <th>purchase_wk_day</th>\n",
       "      <th>purchase_month</th>\n",
       "      <th>order_delivery_actual_duration</th>\n",
       "      <th>order_delivery_estimated_duration</th>\n",
       "      <th>delivery_estimate_discrepancy</th>\n",
       "      <th>product_dimensions</th>\n",
       "      <th>delivery_est_discrepancy_range</th>\n",
       "      <th>review_score_class</th>\n",
       "    </tr>\n",
       "  </thead>\n",
       "  <tbody>\n",
       "    <tr>\n",
       "      <th>0</th>\n",
       "      <td>b81ef226f3fe1789b1e8b2acac839d17</td>\n",
       "      <td>0a8556ac6be836b46b3e89920d59291c</td>\n",
       "      <td>2018-04-25 22:01:49</td>\n",
       "      <td>2018-04-25 22:15:09</td>\n",
       "      <td>2018-05-02 15:20:00</td>\n",
       "      <td>2018-05-09 17:36:51</td>\n",
       "      <td>2018-05-22 00:00:00</td>\n",
       "      <td>708ab75d2a007f0564aedd11139c7708</td>\n",
       "      <td>39801</td>\n",
       "      <td>teofilo otoni</td>\n",
       "      <td>...</td>\n",
       "      <td>SP</td>\n",
       "      <td>99.33</td>\n",
       "      <td>Wednesday</td>\n",
       "      <td>April</td>\n",
       "      <td>13</td>\n",
       "      <td>26</td>\n",
       "      <td>13</td>\n",
       "      <td>7803.0</td>\n",
       "      <td>too early</td>\n",
       "      <td>bad</td>\n",
       "    </tr>\n",
       "    <tr>\n",
       "      <th>1</th>\n",
       "      <td>a9810da82917af2d9aefd1278f1dcfa0</td>\n",
       "      <td>f2c7fc58a9de810828715166c672f10a</td>\n",
       "      <td>2018-06-26 11:01:38</td>\n",
       "      <td>2018-06-26 11:18:58</td>\n",
       "      <td>2018-06-28 14:18:00</td>\n",
       "      <td>2018-06-29 20:32:09</td>\n",
       "      <td>2018-07-16 00:00:00</td>\n",
       "      <td>a8b9d3a27068454b1c98cc67d4e31e6f</td>\n",
       "      <td>2422</td>\n",
       "      <td>sao paulo</td>\n",
       "      <td>...</td>\n",
       "      <td>SP</td>\n",
       "      <td>24.39</td>\n",
       "      <td>Tuesday</td>\n",
       "      <td>June</td>\n",
       "      <td>3</td>\n",
       "      <td>19</td>\n",
       "      <td>16</td>\n",
       "      <td>1056.0</td>\n",
       "      <td>too early</td>\n",
       "      <td>good</td>\n",
       "    </tr>\n",
       "    <tr>\n",
       "      <th>2</th>\n",
       "      <td>25e8ea4e93396b6fa0d3dd708e76c1bd</td>\n",
       "      <td>25b14b69de0b6e184ae6fe2755e478f9</td>\n",
       "      <td>2017-12-12 11:19:55</td>\n",
       "      <td>2017-12-14 09:52:34</td>\n",
       "      <td>2017-12-15 20:13:22</td>\n",
       "      <td>2017-12-18 17:24:41</td>\n",
       "      <td>2018-01-04 00:00:00</td>\n",
       "      <td>6f70c0b2f7552832ba46eb57b1c5651e</td>\n",
       "      <td>2652</td>\n",
       "      <td>sao paulo</td>\n",
       "      <td>...</td>\n",
       "      <td>SP</td>\n",
       "      <td>65.71</td>\n",
       "      <td>Tuesday</td>\n",
       "      <td>December</td>\n",
       "      <td>4</td>\n",
       "      <td>20</td>\n",
       "      <td>16</td>\n",
       "      <td>3360.0</td>\n",
       "      <td>too early</td>\n",
       "      <td>good</td>\n",
       "    </tr>\n",
       "    <tr>\n",
       "      <th>3</th>\n",
       "      <td>ba78997921bbcdc1373bb41e913ab953</td>\n",
       "      <td>7a5d8efaaa1081f800628c30d2b0728f</td>\n",
       "      <td>2017-12-06 12:04:06</td>\n",
       "      <td>2017-12-06 12:13:20</td>\n",
       "      <td>2017-12-07 20:28:28</td>\n",
       "      <td>2017-12-21 01:35:51</td>\n",
       "      <td>2018-01-04 00:00:00</td>\n",
       "      <td>87695ed086ebd36f20404c82d20fca87</td>\n",
       "      <td>36060</td>\n",
       "      <td>juiz de fora</td>\n",
       "      <td>...</td>\n",
       "      <td>SP</td>\n",
       "      <td>107.78</td>\n",
       "      <td>Wednesday</td>\n",
       "      <td>December</td>\n",
       "      <td>14</td>\n",
       "      <td>28</td>\n",
       "      <td>14</td>\n",
       "      <td>3080.0</td>\n",
       "      <td>too early</td>\n",
       "      <td>good</td>\n",
       "    </tr>\n",
       "    <tr>\n",
       "      <th>4</th>\n",
       "      <td>ba78997921bbcdc1373bb41e913ab953</td>\n",
       "      <td>7a5d8efaaa1081f800628c30d2b0728f</td>\n",
       "      <td>2017-12-06 12:04:06</td>\n",
       "      <td>2017-12-06 12:13:20</td>\n",
       "      <td>2017-12-07 20:28:28</td>\n",
       "      <td>2017-12-21 01:35:51</td>\n",
       "      <td>2018-01-04 00:00:00</td>\n",
       "      <td>87695ed086ebd36f20404c82d20fca87</td>\n",
       "      <td>36060</td>\n",
       "      <td>juiz de fora</td>\n",
       "      <td>...</td>\n",
       "      <td>SP</td>\n",
       "      <td>107.78</td>\n",
       "      <td>Wednesday</td>\n",
       "      <td>December</td>\n",
       "      <td>14</td>\n",
       "      <td>28</td>\n",
       "      <td>14</td>\n",
       "      <td>3080.0</td>\n",
       "      <td>too early</td>\n",
       "      <td>good</td>\n",
       "    </tr>\n",
       "  </tbody>\n",
       "</table>\n",
       "<p>5 rows × 47 columns</p>\n",
       "</div>"
      ],
      "text/plain": [
       "                           order_id                       customer_id  \\\n",
       "0  b81ef226f3fe1789b1e8b2acac839d17  0a8556ac6be836b46b3e89920d59291c   \n",
       "1  a9810da82917af2d9aefd1278f1dcfa0  f2c7fc58a9de810828715166c672f10a   \n",
       "2  25e8ea4e93396b6fa0d3dd708e76c1bd  25b14b69de0b6e184ae6fe2755e478f9   \n",
       "3  ba78997921bbcdc1373bb41e913ab953  7a5d8efaaa1081f800628c30d2b0728f   \n",
       "4  ba78997921bbcdc1373bb41e913ab953  7a5d8efaaa1081f800628c30d2b0728f   \n",
       "\n",
       "  order_purchase_timestamp    order_approved_at order_delivered_carrier_date  \\\n",
       "0      2018-04-25 22:01:49  2018-04-25 22:15:09          2018-05-02 15:20:00   \n",
       "1      2018-06-26 11:01:38  2018-06-26 11:18:58          2018-06-28 14:18:00   \n",
       "2      2017-12-12 11:19:55  2017-12-14 09:52:34          2017-12-15 20:13:22   \n",
       "3      2017-12-06 12:04:06  2017-12-06 12:13:20          2017-12-07 20:28:28   \n",
       "4      2017-12-06 12:04:06  2017-12-06 12:13:20          2017-12-07 20:28:28   \n",
       "\n",
       "  order_delivered_customer_date order_estimated_delivery_date  \\\n",
       "0           2018-05-09 17:36:51           2018-05-22 00:00:00   \n",
       "1           2018-06-29 20:32:09           2018-07-16 00:00:00   \n",
       "2           2017-12-18 17:24:41           2018-01-04 00:00:00   \n",
       "3           2017-12-21 01:35:51           2018-01-04 00:00:00   \n",
       "4           2017-12-21 01:35:51           2018-01-04 00:00:00   \n",
       "\n",
       "                 customer_unique_id  customer_zip_code_prefix  customer_city  \\\n",
       "0  708ab75d2a007f0564aedd11139c7708                     39801  teofilo otoni   \n",
       "1  a8b9d3a27068454b1c98cc67d4e31e6f                      2422      sao paulo   \n",
       "2  6f70c0b2f7552832ba46eb57b1c5651e                      2652      sao paulo   \n",
       "3  87695ed086ebd36f20404c82d20fca87                     36060   juiz de fora   \n",
       "4  87695ed086ebd36f20404c82d20fca87                     36060   juiz de fora   \n",
       "\n",
       "   ... seller_state tot_order_amt  purchase_wk_day purchase_month  \\\n",
       "0  ...           SP         99.33        Wednesday          April   \n",
       "1  ...           SP         24.39          Tuesday           June   \n",
       "2  ...           SP         65.71          Tuesday       December   \n",
       "3  ...           SP        107.78        Wednesday       December   \n",
       "4  ...           SP        107.78        Wednesday       December   \n",
       "\n",
       "  order_delivery_actual_duration order_delivery_estimated_duration  \\\n",
       "0                             13                                26   \n",
       "1                              3                                19   \n",
       "2                              4                                20   \n",
       "3                             14                                28   \n",
       "4                             14                                28   \n",
       "\n",
       "  delivery_estimate_discrepancy  product_dimensions  \\\n",
       "0                            13              7803.0   \n",
       "1                            16              1056.0   \n",
       "2                            16              3360.0   \n",
       "3                            14              3080.0   \n",
       "4                            14              3080.0   \n",
       "\n",
       "  delivery_est_discrepancy_range  review_score_class  \n",
       "0                      too early                 bad  \n",
       "1                      too early                good  \n",
       "2                      too early                good  \n",
       "3                      too early                good  \n",
       "4                      too early                good  \n",
       "\n",
       "[5 rows x 47 columns]"
      ]
     },
     "execution_count": 6,
     "metadata": {},
     "output_type": "execute_result"
    }
   ],
   "source": [
    "#Create a working dataframe from the copy of original\n",
    "import copy\n",
    "olist_class = copy.deepcopy(olist)\n",
    "olist_class.head()"
   ]
  },
  {
   "cell_type": "code",
   "execution_count": 7,
   "id": "18174a86",
   "metadata": {},
   "outputs": [],
   "source": [
    "#Modify datatypes\n",
    "#changing attributes data types\n",
    "continuous_features = ['price','freight_value', 'payment_sequential','payment_installments','payment_value',\n",
    "                      'product_name_lenght','product_description_lenght', 'product_photos_qty','product_weight_g',\n",
    "                      'product_length_cm','product_height_cm','product_width_cm', 'review_score',\n",
    "                       'order_delivery_actual_duration', 'order_delivery_estimated_duration',\n",
    "                       'delivery_estimate_discrepancy', 'product_dimensions', 'tot_order_amt'] \n",
    "\n",
    "cat_features = ['customer_city', 'customer_state', 'customer_zip_code_prefix', 'seller_zip_code_prefix', \n",
    "                'seller_city', 'seller_state', 'product_category_english','review_id',\n",
    "               'review_comment_title','review_comment_message','payment_type',\n",
    "               'order_item_id', 'product_id','seller_id','order_id', 'customer_id', 'purchase_wk_day', 'purchase_month',\n",
    "               'delivery_est_discrepancy_range', 'review_score_class', 'customer_unique_id'] \n",
    "\n",
    "date_features = ['order_purchase_timestamp', 'order_approved_at', 'order_delivered_carrier_date', 'order_delivered_customer_date',\n",
    "                 'order_estimated_delivery_date', 'shipping_limit_date', 'review_creation_date', 'review_answer_timestamp'] \n",
    "\n"
   ]
  },
  {
   "cell_type": "code",
   "execution_count": 8,
   "id": "dc4d2f49",
   "metadata": {},
   "outputs": [
    {
     "name": "stdout",
     "output_type": "stream",
     "text": [
      "<class 'pandas.core.frame.DataFrame'>\n",
      "RangeIndex: 114067 entries, 0 to 114066\n",
      "Data columns (total 47 columns):\n",
      " #   Column                             Non-Null Count   Dtype   \n",
      "---  ------                             --------------   -----   \n",
      " 0   order_id                           114067 non-null  category\n",
      " 1   customer_id                        114067 non-null  category\n",
      " 2   order_purchase_timestamp           114067 non-null  object  \n",
      " 3   order_approved_at                  114067 non-null  object  \n",
      " 4   order_delivered_carrier_date       114067 non-null  object  \n",
      " 5   order_delivered_customer_date      114067 non-null  object  \n",
      " 6   order_estimated_delivery_date      114067 non-null  object  \n",
      " 7   customer_unique_id                 114067 non-null  category\n",
      " 8   customer_zip_code_prefix           114067 non-null  category\n",
      " 9   customer_city                      114067 non-null  category\n",
      " 10  customer_state                     114067 non-null  category\n",
      " 11  review_id                          114067 non-null  category\n",
      " 12  review_score                       114067 non-null  float64 \n",
      " 13  review_comment_title               13661 non-null   category\n",
      " 14  review_comment_message             48220 non-null   category\n",
      " 15  review_creation_date               114067 non-null  object  \n",
      " 16  review_answer_timestamp            114067 non-null  object  \n",
      " 17  payment_sequential                 114067 non-null  float64 \n",
      " 18  payment_type                       114067 non-null  category\n",
      " 19  payment_installments               114067 non-null  float64 \n",
      " 20  payment_value                      114067 non-null  float64 \n",
      " 21  order_item_id                      114067 non-null  category\n",
      " 22  product_id                         114067 non-null  category\n",
      " 23  seller_id                          114067 non-null  category\n",
      " 24  shipping_limit_date                114067 non-null  object  \n",
      " 25  price                              114067 non-null  float64 \n",
      " 26  freight_value                      114067 non-null  float64 \n",
      " 27  product_name_lenght                114067 non-null  float64 \n",
      " 28  product_description_lenght         114067 non-null  float64 \n",
      " 29  product_photos_qty                 114067 non-null  float64 \n",
      " 30  product_weight_g                   114066 non-null  float64 \n",
      " 31  product_length_cm                  114066 non-null  float64 \n",
      " 32  product_height_cm                  114066 non-null  float64 \n",
      " 33  product_width_cm                   114066 non-null  float64 \n",
      " 34  product_category_english           114067 non-null  category\n",
      " 35  seller_zip_code_prefix             114067 non-null  category\n",
      " 36  seller_city                        114067 non-null  category\n",
      " 37  seller_state                       114067 non-null  category\n",
      " 38  tot_order_amt                      114067 non-null  float64 \n",
      " 39  purchase_wk_day                    114067 non-null  category\n",
      " 40  purchase_month                     114067 non-null  category\n",
      " 41  order_delivery_actual_duration     114067 non-null  float64 \n",
      " 42  order_delivery_estimated_duration  114067 non-null  float64 \n",
      " 43  delivery_estimate_discrepancy      114067 non-null  float64 \n",
      " 44  product_dimensions                 114066 non-null  float64 \n",
      " 45  delivery_est_discrepancy_range     114067 non-null  category\n",
      " 46  review_score_class                 114067 non-null  category\n",
      "dtypes: category(21), float64(18), object(8)\n",
      "memory usage: 41.9+ MB\n"
     ]
    }
   ],
   "source": [
    "# use the \"astype\" function to change the variable type\n",
    "olist_class[continuous_features] = olist_class.copy()[continuous_features].astype(np.float64)\n",
    "olist_class[cat_features] = olist_class.copy()[cat_features].astype(\"category\")\n",
    "#olist_class[date_features] = pd.to_datetime(olist_class.copy()[date_features])\n",
    "olist_class.info()"
   ]
  },
  {
   "cell_type": "code",
   "execution_count": 9,
   "id": "bf052fa0",
   "metadata": {},
   "outputs": [],
   "source": [
    "# fix dates\n",
    "for i in date_features:\n",
    "    olist_class.loc[:,i] = pd.to_datetime(olist_class.copy().loc[:,i], errors=\"coerce\")"
   ]
  },
  {
   "cell_type": "code",
   "execution_count": 10,
   "id": "d8d8e6ce",
   "metadata": {},
   "outputs": [
    {
     "name": "stdout",
     "output_type": "stream",
     "text": [
      "<class 'pandas.core.frame.DataFrame'>\n",
      "RangeIndex: 114067 entries, 0 to 114066\n",
      "Data columns (total 47 columns):\n",
      " #   Column                             Non-Null Count   Dtype         \n",
      "---  ------                             --------------   -----         \n",
      " 0   order_id                           114067 non-null  category      \n",
      " 1   customer_id                        114067 non-null  category      \n",
      " 2   order_purchase_timestamp           114067 non-null  datetime64[ns]\n",
      " 3   order_approved_at                  114067 non-null  datetime64[ns]\n",
      " 4   order_delivered_carrier_date       114067 non-null  datetime64[ns]\n",
      " 5   order_delivered_customer_date      114067 non-null  datetime64[ns]\n",
      " 6   order_estimated_delivery_date      114067 non-null  datetime64[ns]\n",
      " 7   customer_unique_id                 114067 non-null  category      \n",
      " 8   customer_zip_code_prefix           114067 non-null  category      \n",
      " 9   customer_city                      114067 non-null  category      \n",
      " 10  customer_state                     114067 non-null  category      \n",
      " 11  review_id                          114067 non-null  category      \n",
      " 12  review_score                       114067 non-null  float64       \n",
      " 13  review_comment_title               13661 non-null   category      \n",
      " 14  review_comment_message             48220 non-null   category      \n",
      " 15  review_creation_date               114067 non-null  datetime64[ns]\n",
      " 16  review_answer_timestamp            114067 non-null  datetime64[ns]\n",
      " 17  payment_sequential                 114067 non-null  float64       \n",
      " 18  payment_type                       114067 non-null  category      \n",
      " 19  payment_installments               114067 non-null  float64       \n",
      " 20  payment_value                      114067 non-null  float64       \n",
      " 21  order_item_id                      114067 non-null  category      \n",
      " 22  product_id                         114067 non-null  category      \n",
      " 23  seller_id                          114067 non-null  category      \n",
      " 24  shipping_limit_date                114067 non-null  datetime64[ns]\n",
      " 25  price                              114067 non-null  float64       \n",
      " 26  freight_value                      114067 non-null  float64       \n",
      " 27  product_name_lenght                114067 non-null  float64       \n",
      " 28  product_description_lenght         114067 non-null  float64       \n",
      " 29  product_photos_qty                 114067 non-null  float64       \n",
      " 30  product_weight_g                   114066 non-null  float64       \n",
      " 31  product_length_cm                  114066 non-null  float64       \n",
      " 32  product_height_cm                  114066 non-null  float64       \n",
      " 33  product_width_cm                   114066 non-null  float64       \n",
      " 34  product_category_english           114067 non-null  category      \n",
      " 35  seller_zip_code_prefix             114067 non-null  category      \n",
      " 36  seller_city                        114067 non-null  category      \n",
      " 37  seller_state                       114067 non-null  category      \n",
      " 38  tot_order_amt                      114067 non-null  float64       \n",
      " 39  purchase_wk_day                    114067 non-null  category      \n",
      " 40  purchase_month                     114067 non-null  category      \n",
      " 41  order_delivery_actual_duration     114067 non-null  float64       \n",
      " 42  order_delivery_estimated_duration  114067 non-null  float64       \n",
      " 43  delivery_estimate_discrepancy      114067 non-null  float64       \n",
      " 44  product_dimensions                 114066 non-null  float64       \n",
      " 45  delivery_est_discrepancy_range     114067 non-null  category      \n",
      " 46  review_score_class                 114067 non-null  category      \n",
      "dtypes: category(21), datetime64[ns](8), float64(18)\n",
      "memory usage: 41.9 MB\n"
     ]
    }
   ],
   "source": [
    "olist_class.info()"
   ]
  },
  {
   "cell_type": "code",
   "execution_count": 11,
   "id": "35525fb8",
   "metadata": {},
   "outputs": [
    {
     "data": {
      "text/plain": [
       "Text(0.5, 1.0, 'Distribution of Discrepancy')"
      ]
     },
     "execution_count": 11,
     "metadata": {},
     "output_type": "execute_result"
    },
    {
     "data": {
      "image/png": "[encoded data removed]",
      "text/plain": [
       "<Figure size 432x288 with 1 Axes>"
      ]
     },
     "metadata": {
      "needs_background": "light"
     },
     "output_type": "display_data"
    }
   ],
   "source": [
    "plt.boxplot(x=olist.order_delivery_estimated_duration)\n",
    "plt.ylabel('Days_diff.Actual_Estimate')\n",
    "plt.title('Distribution of Discrepancy') #labels"
   ]
  },
  {
   "cell_type": "code",
   "execution_count": 12,
   "id": "1324c6f1",
   "metadata": {},
   "outputs": [
    {
     "data": {
      "text/plain": [
       "38.0"
      ]
     },
     "execution_count": 12,
     "metadata": {},
     "output_type": "execute_result"
    }
   ],
   "source": [
    "olist.copy()['order_delivery_estimated_duration'].quantile(0.95)"
   ]
  },
  {
   "cell_type": "code",
   "execution_count": 13,
   "id": "3888b912",
   "metadata": {},
   "outputs": [
    {
     "data": {
      "text/plain": [
       "(108875, 5192, 0.9544828916338643)"
      ]
     },
     "execution_count": 13,
     "metadata": {},
     "output_type": "execute_result"
    }
   ],
   "source": [
    "estimate_delivery = []\n",
    "estimate_delivery_out = []\n",
    "\n",
    "thresh = np.quantile(olist.copy()['order_delivery_estimated_duration'], 0.95)\n",
    "[estimate_delivery.append(i)\n",
    " if abs(i) <= thresh else estimate_delivery_out.append(i)\n",
    " for i in olist.copy()['order_delivery_estimated_duration']]\n",
    "#y = np.array(y)\n",
    "\n",
    "len(estimate_delivery), len(estimate_delivery_out), (len(estimate_delivery)/olist.shape[0])\n"
   ]
  },
  {
   "cell_type": "code",
   "execution_count": 14,
   "id": "5d4f2164",
   "metadata": {},
   "outputs": [
    {
     "data": {
      "text/plain": [
       "Text(0.5, 1.0, 'Distribution of Discrepancy')"
      ]
     },
     "execution_count": 14,
     "metadata": {},
     "output_type": "execute_result"
    },
    {
     "data": {
      "image/png": "[encoded data removed]",
      "text/plain": [
       "<Figure size 432x288 with 1 Axes>"
      ]
     },
     "metadata": {
      "needs_background": "light"
     },
     "output_type": "display_data"
    }
   ],
   "source": [
    "plt.violinplot(olist.order_delivery_actual_duration, showmeans=True)\n",
    "plt.ylabel('days_diff.Actual_Estimate')\n",
    "plt.title('Distribution of Discrepancy') #labels"
   ]
  },
  {
   "cell_type": "markdown",
   "id": "3ec344cf",
   "metadata": {},
   "source": [
    "### <span style='color:blue'> Subset the dataset </span>\n",
    "\n",
    "Using an intuitive approach to what might cause a package to be categorized as delivered early, on time or late we subset the preprocessed dataset. This also will allow us more flexibility in running multiple iterations of our classifiers to determine the most efficient runing parameters."
   ]
  },
  {
   "cell_type": "code",
   "execution_count": 15,
   "id": "dd0fb88c",
   "metadata": {},
   "outputs": [
    {
     "name": "stdout",
     "output_type": "stream",
     "text": [
      "<class 'pandas.core.frame.DataFrame'>\n",
      "RangeIndex: 114067 entries, 0 to 114066\n",
      "Data columns (total 13 columns):\n",
      " #   Column                         Non-Null Count   Dtype         \n",
      "---  ------                         --------------   -----         \n",
      " 0   payment_sequential             114067 non-null  float64       \n",
      " 1   product_category_english       114067 non-null  category      \n",
      " 2   seller_zip_code_prefix         114067 non-null  category      \n",
      " 3   seller_city                    114067 non-null  category      \n",
      " 4   tot_order_amt                  114067 non-null  float64       \n",
      " 5   freight_value                  114067 non-null  float64       \n",
      " 6   product_dimensions             114066 non-null  float64       \n",
      " 7   review_score_class             114067 non-null  category      \n",
      " 8   product_weight_g               114066 non-null  float64       \n",
      " 9   customer_city                  114067 non-null  category      \n",
      " 10  customer_zip_code_prefix       114067 non-null  category      \n",
      " 11  order_approved_at              114067 non-null  datetime64[ns]\n",
      " 12  delivery_estimate_discrepancy  114067 non-null  float64       \n",
      "dtypes: category(6), datetime64[ns](1), float64(6)\n",
      "memory usage: 8.1 MB\n"
     ]
    }
   ],
   "source": [
    "olist_class2 = olist_class[['payment_sequential', 'product_category_english', \n",
    "                            'seller_zip_code_prefix','seller_city', 'tot_order_amt', \n",
    "                            'freight_value', 'product_dimensions', 'review_score_class', 'product_weight_g', 'customer_city',\n",
    "                            'customer_zip_code_prefix','order_approved_at', 'delivery_estimate_discrepancy']]\n",
    "olist_class2.info()"
   ]
  },
  {
   "cell_type": "code",
   "execution_count": 16,
   "id": "40ecc078",
   "metadata": {},
   "outputs": [
    {
     "name": "stderr",
     "output_type": "stream",
     "text": [
      "<ipython-input-16-19656a7c3fe9>:1: SettingWithCopyWarning: \n",
      "A value is trying to be set on a copy of a slice from a DataFrame\n",
      "\n",
      "See the caveats in the documentation: https://pandas.pydata.org/pandas-docs/stable/user_guide/indexing.html#returning-a-view-versus-a-copy\n",
      "  olist_class2.dropna(inplace=True)\n"
     ]
    }
   ],
   "source": [
    "olist_class2.dropna(inplace=True)"
   ]
  },
  {
   "cell_type": "code",
   "execution_count": 17,
   "id": "7cb34a2a",
   "metadata": {},
   "outputs": [
    {
     "name": "stdout",
     "output_type": "stream",
     "text": [
      "<class 'pandas.core.frame.DataFrame'>\n",
      "Int64Index: 114066 entries, 0 to 114066\n",
      "Data columns (total 13 columns):\n",
      " #   Column                         Non-Null Count   Dtype         \n",
      "---  ------                         --------------   -----         \n",
      " 0   payment_sequential             114066 non-null  float64       \n",
      " 1   product_category_english       114066 non-null  category      \n",
      " 2   seller_zip_code_prefix         114066 non-null  category      \n",
      " 3   seller_city                    114066 non-null  category      \n",
      " 4   tot_order_amt                  114066 non-null  float64       \n",
      " 5   freight_value                  114066 non-null  float64       \n",
      " 6   product_dimensions             114066 non-null  float64       \n",
      " 7   review_score_class             114066 non-null  category      \n",
      " 8   product_weight_g               114066 non-null  float64       \n",
      " 9   customer_city                  114066 non-null  category      \n",
      " 10  customer_zip_code_prefix       114066 non-null  category      \n",
      " 11  order_approved_at              114066 non-null  datetime64[ns]\n",
      " 12  delivery_estimate_discrepancy  114066 non-null  float64       \n",
      "dtypes: category(6), datetime64[ns](1), float64(6)\n",
      "memory usage: 8.9 MB\n"
     ]
    },
    {
     "data": {
      "text/plain": [
       "((114066, 13), None)"
      ]
     },
     "execution_count": 17,
     "metadata": {},
     "output_type": "execute_result"
    }
   ],
   "source": [
    "olist_class2.shape, olist_class2.info()"
   ]
  },
  {
   "cell_type": "code",
   "execution_count": 18,
   "id": "c2aa0411",
   "metadata": {},
   "outputs": [
    {
     "data": {
      "text/html": [
       "<div>\n",
       "<style scoped>\n",
       "    .dataframe tbody tr th:only-of-type {\n",
       "        vertical-align: middle;\n",
       "    }\n",
       "\n",
       "    .dataframe tbody tr th {\n",
       "        vertical-align: top;\n",
       "    }\n",
       "\n",
       "    .dataframe thead th {\n",
       "        text-align: right;\n",
       "    }\n",
       "</style>\n",
       "<table border=\"1\" class=\"dataframe\">\n",
       "  <thead>\n",
       "    <tr style=\"text-align: right;\">\n",
       "      <th></th>\n",
       "      <th>payment_sequential</th>\n",
       "      <th>product_category_english</th>\n",
       "      <th>seller_zip_code_prefix</th>\n",
       "      <th>seller_city</th>\n",
       "      <th>tot_order_amt</th>\n",
       "      <th>freight_value</th>\n",
       "      <th>product_dimensions</th>\n",
       "      <th>review_score_class</th>\n",
       "      <th>product_weight_g</th>\n",
       "      <th>customer_city</th>\n",
       "      <th>customer_zip_code_prefix</th>\n",
       "      <th>order_approved_at</th>\n",
       "      <th>delivery_estimate_discrepancy</th>\n",
       "    </tr>\n",
       "  </thead>\n",
       "  <tbody>\n",
       "    <tr>\n",
       "      <th>0</th>\n",
       "      <td>1.0</td>\n",
       "      <td>home_construction</td>\n",
       "      <td>13321.0</td>\n",
       "      <td>salto</td>\n",
       "      <td>99.33</td>\n",
       "      <td>19.53</td>\n",
       "      <td>7803.0</td>\n",
       "      <td>bad</td>\n",
       "      <td>800.0</td>\n",
       "      <td>teofilo otoni</td>\n",
       "      <td>39801</td>\n",
       "      <td>2018-04-25 22:15:09</td>\n",
       "      <td>13.0</td>\n",
       "    </tr>\n",
       "    <tr>\n",
       "      <th>1</th>\n",
       "      <td>1.0</td>\n",
       "      <td>auto</td>\n",
       "      <td>4660.0</td>\n",
       "      <td>sao paulo</td>\n",
       "      <td>24.39</td>\n",
       "      <td>7.39</td>\n",
       "      <td>1056.0</td>\n",
       "      <td>good</td>\n",
       "      <td>150.0</td>\n",
       "      <td>sao paulo</td>\n",
       "      <td>2422</td>\n",
       "      <td>2018-06-26 11:18:58</td>\n",
       "      <td>16.0</td>\n",
       "    </tr>\n",
       "    <tr>\n",
       "      <th>2</th>\n",
       "      <td>1.0</td>\n",
       "      <td>perfumery</td>\n",
       "      <td>9015.0</td>\n",
       "      <td>santo andre</td>\n",
       "      <td>65.71</td>\n",
       "      <td>8.72</td>\n",
       "      <td>3360.0</td>\n",
       "      <td>good</td>\n",
       "      <td>250.0</td>\n",
       "      <td>sao paulo</td>\n",
       "      <td>2652</td>\n",
       "      <td>2017-12-14 09:52:34</td>\n",
       "      <td>16.0</td>\n",
       "    </tr>\n",
       "    <tr>\n",
       "      <th>3</th>\n",
       "      <td>1.0</td>\n",
       "      <td>bed_bath_table</td>\n",
       "      <td>13405.0</td>\n",
       "      <td>piracicaba</td>\n",
       "      <td>107.78</td>\n",
       "      <td>17.88</td>\n",
       "      <td>3080.0</td>\n",
       "      <td>good</td>\n",
       "      <td>1200.0</td>\n",
       "      <td>juiz de fora</td>\n",
       "      <td>36060</td>\n",
       "      <td>2017-12-06 12:13:20</td>\n",
       "      <td>14.0</td>\n",
       "    </tr>\n",
       "    <tr>\n",
       "      <th>4</th>\n",
       "      <td>1.0</td>\n",
       "      <td>bed_bath_table</td>\n",
       "      <td>13405.0</td>\n",
       "      <td>piracicaba</td>\n",
       "      <td>107.78</td>\n",
       "      <td>17.88</td>\n",
       "      <td>3080.0</td>\n",
       "      <td>good</td>\n",
       "      <td>1200.0</td>\n",
       "      <td>juiz de fora</td>\n",
       "      <td>36060</td>\n",
       "      <td>2017-12-06 12:13:20</td>\n",
       "      <td>14.0</td>\n",
       "    </tr>\n",
       "  </tbody>\n",
       "</table>\n",
       "</div>"
      ],
      "text/plain": [
       "   payment_sequential product_category_english seller_zip_code_prefix  \\\n",
       "0                 1.0        home_construction                13321.0   \n",
       "1                 1.0                     auto                 4660.0   \n",
       "2                 1.0                perfumery                 9015.0   \n",
       "3                 1.0           bed_bath_table                13405.0   \n",
       "4                 1.0           bed_bath_table                13405.0   \n",
       "\n",
       "   seller_city  tot_order_amt  freight_value  product_dimensions  \\\n",
       "0        salto          99.33          19.53              7803.0   \n",
       "1    sao paulo          24.39           7.39              1056.0   \n",
       "2  santo andre          65.71           8.72              3360.0   \n",
       "3   piracicaba         107.78          17.88              3080.0   \n",
       "4   piracicaba         107.78          17.88              3080.0   \n",
       "\n",
       "  review_score_class  product_weight_g  customer_city  \\\n",
       "0                bad             800.0  teofilo otoni   \n",
       "1               good             150.0      sao paulo   \n",
       "2               good             250.0      sao paulo   \n",
       "3               good            1200.0   juiz de fora   \n",
       "4               good            1200.0   juiz de fora   \n",
       "\n",
       "  customer_zip_code_prefix   order_approved_at  delivery_estimate_discrepancy  \n",
       "0                    39801 2018-04-25 22:15:09                           13.0  \n",
       "1                     2422 2018-06-26 11:18:58                           16.0  \n",
       "2                     2652 2017-12-14 09:52:34                           16.0  \n",
       "3                    36060 2017-12-06 12:13:20                           14.0  \n",
       "4                    36060 2017-12-06 12:13:20                           14.0  "
      ]
     },
     "execution_count": 18,
     "metadata": {},
     "output_type": "execute_result"
    }
   ],
   "source": [
    "#olist_class2.loc[olist_class2.order_delivery_actual_duration > 50, ('order_delivery_actual_duration')]= np.NaN\n",
    "olist_class2.head()"
   ]
  },
  {
   "cell_type": "code",
   "execution_count": 19,
   "id": "af2b3b0c",
   "metadata": {},
   "outputs": [
    {
     "name": "stdout",
     "output_type": "stream",
     "text": [
      "Unique value counts for payment_sequential attribute is: = 26\n",
      "Unique value counts for product_category_english attribute is: = 73\n",
      "Unique value counts for seller_zip_code_prefix attribute is: = 2136\n",
      "Unique value counts for seller_city attribute is: = 588\n",
      "Unique value counts for tot_order_amt attribute is: = 26460\n",
      "Unique value counts for freight_value attribute is: = 6902\n",
      "Unique value counts for product_dimensions attribute is: = 4416\n",
      "Unique value counts for review_score_class attribute is: = 3\n",
      "Unique value counts for product_weight_g attribute is: = 2167\n",
      "Unique value counts for customer_city attribute is: = 4073\n",
      "Unique value counts for customer_zip_code_prefix attribute is: = 14844\n",
      "Unique value counts for order_approved_at attribute is: = 87124\n",
      "Unique value counts for delivery_estimate_discrepancy attribute is: = 197\n"
     ]
    }
   ],
   "source": [
    "for i in olist_class2:\n",
    "    print('Unique value counts for ' + i + ' attribute is: =', olist_class2[i].nunique())"
   ]
  },
  {
   "cell_type": "code",
   "execution_count": 20,
   "id": "a7321a82",
   "metadata": {},
   "outputs": [
    {
     "data": {
      "text/plain": [
       "good    87129\n",
       "bad     17295\n",
       "fair     9642\n",
       "Name: review_score_class, dtype: int64"
      ]
     },
     "execution_count": 20,
     "metadata": {},
     "output_type": "execute_result"
    }
   ],
   "source": [
    "#review class is an important attribut \n",
    "#but with class imbalance so we split the dataset \n",
    "#to ensure that samples are representatinve of the class levels\n",
    "olist_class2['review_score_class'].value_counts()"
   ]
  },
  {
   "cell_type": "code",
   "execution_count": 21,
   "id": "1900d71c",
   "metadata": {},
   "outputs": [
    {
     "name": "stdout",
     "output_type": "stream",
     "text": [
      "<class 'pandas.core.frame.DataFrame'>\n",
      "Int64Index: 114066 entries, 0 to 114066\n",
      "Data columns (total 13 columns):\n",
      " #   Column                         Non-Null Count   Dtype         \n",
      "---  ------                         --------------   -----         \n",
      " 0   payment_sequential             114066 non-null  float64       \n",
      " 1   product_category_english       114066 non-null  category      \n",
      " 2   seller_zip_code_prefix         114066 non-null  category      \n",
      " 3   seller_city                    114066 non-null  category      \n",
      " 4   tot_order_amt                  114066 non-null  float64       \n",
      " 5   freight_value                  114066 non-null  float64       \n",
      " 6   product_dimensions             114066 non-null  float64       \n",
      " 7   review_score_class             114066 non-null  category      \n",
      " 8   product_weight_g               114066 non-null  float64       \n",
      " 9   customer_city                  114066 non-null  category      \n",
      " 10  customer_zip_code_prefix       114066 non-null  category      \n",
      " 11  order_approved_at              114066 non-null  datetime64[ns]\n",
      " 12  delivery_estimate_discrepancy  114066 non-null  float64       \n",
      "dtypes: category(6), datetime64[ns](1), float64(6)\n",
      "memory usage: 8.9 MB\n"
     ]
    }
   ],
   "source": [
    "olist_class2.info()"
   ]
  },
  {
   "cell_type": "code",
   "execution_count": 22,
   "id": "ddee33e4",
   "metadata": {},
   "outputs": [],
   "source": [
    "from sklearn.datasets import make_regression\n",
    "from sklearn.model_selection import cross_val_score\n",
    "from sklearn.model_selection import RepeatedKFold\n",
    "from sklearn.feature_selection import RFE\n",
    "from sklearn.tree import DecisionTreeRegressor\n",
    "from sklearn.pipeline import Pipeline\n",
    "from sklearn.model_selection import RepeatedStratifiedKFold\n",
    "from sklearn.feature_selection import RFECV\n",
    "from sklearn.linear_model import LogisticRegression\n",
    "from sklearn.linear_model import Perceptron\n",
    "from sklearn.ensemble import RandomForestClassifier\n",
    "from sklearn.ensemble import RandomForestRegressor\n",
    "from sklearn.ensemble import GradientBoostingClassifier\n",
    "from sklearn.linear_model import SGDRegressor\n",
    "from sklearn.ensemble import GradientBoostingRegressor\n",
    "from sklearn.preprocessing import OneHotEncoder\n",
    "from sklearn.preprocessing import StandardScaler\n",
    "from sklearn.compose import ColumnTransformer\n",
    "from sklearn.linear_model import LinearRegression\n",
    "from matplotlib import pyplot"
   ]
  },
  {
   "cell_type": "code",
   "execution_count": 54,
   "id": "c7b012be",
   "metadata": {},
   "outputs": [],
   "source": [
    "olist_class2 = olist_class2.sample(n=12000)"
   ]
  },
  {
   "cell_type": "markdown",
   "id": "f6bd89d6",
   "metadata": {},
   "source": [
    "### <span style='color:blue'> === 80:20 Train:Test Split of the dataset === </span>"
   ]
  },
  {
   "cell_type": "code",
   "execution_count": 244,
   "id": "f5eb3e86",
   "metadata": {},
   "outputs": [],
   "source": [
    "#Simple train test split\n",
    "\n",
    "from sklearn.model_selection import train_test_split\n",
    "olist_train, olist_test = train_test_split(olist_class2, test_size=0.2,random_state=100)\n",
    "train_indicies = olist_train.index.values.copy()\n"
   ]
  },
  {
   "cell_type": "code",
   "execution_count": 56,
   "id": "2f9397f3",
   "metadata": {
    "scrolled": true
   },
   "outputs": [
    {
     "name": "stdout",
     "output_type": "stream",
     "text": [
      "<class 'pandas.core.frame.DataFrame'>\n",
      "Int64Index: 9600 entries, 17683 to 63973\n",
      "Data columns (total 13 columns):\n",
      " #   Column                         Non-Null Count  Dtype         \n",
      "---  ------                         --------------  -----         \n",
      " 0   payment_sequential             9600 non-null   float64       \n",
      " 1   product_category_english       9600 non-null   category      \n",
      " 2   seller_zip_code_prefix         9600 non-null   category      \n",
      " 3   seller_city                    9600 non-null   category      \n",
      " 4   tot_order_amt                  9600 non-null   float64       \n",
      " 5   freight_value                  9600 non-null   float64       \n",
      " 6   product_dimensions             9600 non-null   float64       \n",
      " 7   review_score_class             9600 non-null   category      \n",
      " 8   product_weight_g               9600 non-null   float64       \n",
      " 9   customer_city                  9600 non-null   category      \n",
      " 10  customer_zip_code_prefix       9600 non-null   category      \n",
      " 11  order_approved_at              9600 non-null   datetime64[ns]\n",
      " 12  delivery_estimate_discrepancy  9600 non-null   float64       \n",
      "dtypes: category(6), datetime64[ns](1), float64(6)\n",
      "memory usage: 1.6 MB\n"
     ]
    }
   ],
   "source": [
    "olist_train.info()"
   ]
  },
  {
   "cell_type": "code",
   "execution_count": 57,
   "id": "1fd1944a",
   "metadata": {},
   "outputs": [
    {
     "name": "stdout",
     "output_type": "stream",
     "text": [
      "<class 'pandas.core.frame.DataFrame'>\n",
      "Int64Index: 2400 entries, 77200 to 47131\n",
      "Data columns (total 13 columns):\n",
      " #   Column                         Non-Null Count  Dtype         \n",
      "---  ------                         --------------  -----         \n",
      " 0   payment_sequential             2400 non-null   float64       \n",
      " 1   product_category_english       2400 non-null   category      \n",
      " 2   seller_zip_code_prefix         2400 non-null   category      \n",
      " 3   seller_city                    2400 non-null   category      \n",
      " 4   tot_order_amt                  2400 non-null   float64       \n",
      " 5   freight_value                  2400 non-null   float64       \n",
      " 6   product_dimensions             2400 non-null   float64       \n",
      " 7   review_score_class             2400 non-null   category      \n",
      " 8   product_weight_g               2400 non-null   float64       \n",
      " 9   customer_city                  2400 non-null   category      \n",
      " 10  customer_zip_code_prefix       2400 non-null   category      \n",
      " 11  order_approved_at              2400 non-null   datetime64[ns]\n",
      " 12  delivery_estimate_discrepancy  2400 non-null   float64       \n",
      "dtypes: category(6), datetime64[ns](1), float64(6)\n",
      "memory usage: 1.0 MB\n"
     ]
    }
   ],
   "source": [
    "olist_test.info()"
   ]
  },
  {
   "cell_type": "code",
   "execution_count": 58,
   "id": "d99bad52",
   "metadata": {},
   "outputs": [
    {
     "data": {
      "text/plain": [
       "9600"
      ]
     },
     "execution_count": 58,
     "metadata": {},
     "output_type": "execute_result"
    }
   ],
   "source": [
    "#Target variable\n",
    "olist_train_y = olist_train.delivery_estimate_discrepancy\n",
    "len(olist_train_y)"
   ]
  },
  {
   "cell_type": "code",
   "execution_count": 59,
   "id": "2adcba04",
   "metadata": {},
   "outputs": [
    {
     "name": "stdout",
     "output_type": "stream",
     "text": [
      "<class 'pandas.core.frame.DataFrame'>\n",
      "Int64Index: 9600 entries, 17683 to 63973\n",
      "Data columns (total 12 columns):\n",
      " #   Column                    Non-Null Count  Dtype         \n",
      "---  ------                    --------------  -----         \n",
      " 0   payment_sequential        9600 non-null   float64       \n",
      " 1   product_category_english  9600 non-null   category      \n",
      " 2   seller_zip_code_prefix    9600 non-null   category      \n",
      " 3   seller_city               9600 non-null   category      \n",
      " 4   tot_order_amt             9600 non-null   float64       \n",
      " 5   freight_value             9600 non-null   float64       \n",
      " 6   product_dimensions        9600 non-null   float64       \n",
      " 7   review_score_class        9600 non-null   category      \n",
      " 8   product_weight_g          9600 non-null   float64       \n",
      " 9   customer_city             9600 non-null   category      \n",
      " 10  customer_zip_code_prefix  9600 non-null   category      \n",
      " 11  order_approved_at         9600 non-null   datetime64[ns]\n",
      "dtypes: category(6), datetime64[ns](1), float64(5)\n",
      "memory usage: 1.5 MB\n"
     ]
    }
   ],
   "source": [
    "#All predictor attributes\n",
    "olist_train_noY = olist_train.copy().drop('delivery_estimate_discrepancy', axis=1)\n",
    "olist_train_noY.info()"
   ]
  },
  {
   "cell_type": "markdown",
   "id": "8f6510ae",
   "metadata": {},
   "source": [
    "### Preprocess the test for prediction"
   ]
  },
  {
   "cell_type": "code",
   "execution_count": 60,
   "id": "d4c1da9d",
   "metadata": {},
   "outputs": [
    {
     "data": {
      "text/plain": [
       "2400"
      ]
     },
     "execution_count": 60,
     "metadata": {},
     "output_type": "execute_result"
    }
   ],
   "source": [
    "#Target variable\n",
    "olist_test_y = olist_test.delivery_estimate_discrepancy\n",
    "len(olist_test_y)"
   ]
  },
  {
   "cell_type": "code",
   "execution_count": 61,
   "id": "a7c3bd92",
   "metadata": {},
   "outputs": [
    {
     "name": "stdout",
     "output_type": "stream",
     "text": [
      "<class 'pandas.core.frame.DataFrame'>\n",
      "Int64Index: 2400 entries, 77200 to 47131\n",
      "Data columns (total 12 columns):\n",
      " #   Column                    Non-Null Count  Dtype         \n",
      "---  ------                    --------------  -----         \n",
      " 0   payment_sequential        2400 non-null   float64       \n",
      " 1   product_category_english  2400 non-null   category      \n",
      " 2   seller_zip_code_prefix    2400 non-null   category      \n",
      " 3   seller_city               2400 non-null   category      \n",
      " 4   tot_order_amt             2400 non-null   float64       \n",
      " 5   freight_value             2400 non-null   float64       \n",
      " 6   product_dimensions        2400 non-null   float64       \n",
      " 7   review_score_class        2400 non-null   category      \n",
      " 8   product_weight_g          2400 non-null   float64       \n",
      " 9   customer_city             2400 non-null   category      \n",
      " 10  customer_zip_code_prefix  2400 non-null   category      \n",
      " 11  order_approved_at         2400 non-null   datetime64[ns]\n",
      "dtypes: category(6), datetime64[ns](1), float64(5)\n",
      "memory usage: 1.0 MB\n"
     ]
    }
   ],
   "source": [
    "#All predictor attributes\n",
    "olist_test_noY = olist_test.copy().drop('delivery_estimate_discrepancy', axis=1)\n",
    "olist_test_noY.info()"
   ]
  },
  {
   "cell_type": "markdown",
   "id": "9ed0f428",
   "metadata": {},
   "source": [
    "\n",
    "https://www.kaggle.com/kylegilde/building-columntransformers-dynamically"
   ]
  },
  {
   "cell_type": "code",
   "execution_count": 62,
   "id": "b02f69ba",
   "metadata": {},
   "outputs": [],
   "source": [
    "from sklearn.compose import ColumnTransformer, make_column_selector\n",
    "from sklearn.pipeline import make_pipeline\n",
    "import multiprocessing\n",
    "from sklearn.impute import SimpleImputer"
   ]
  },
  {
   "cell_type": "markdown",
   "id": "35eacdd8",
   "metadata": {},
   "source": [
    "listing 79 features in the code or a configuration file seems is a tedious and unnecessary task. What if there was a way to logically bucket these features by their characteristics?\n",
    "\n",
    "The key insight that allows you to dynamically construct a ColumnTransformer is understanding that there are 3 broad types of features in non-textual, non-time series datasets:\n",
    "\n",
    "- numerical\n",
    "- categorical with moderate-to-low cardinality\n",
    "- categorical with high cardinality"
   ]
  },
  {
   "cell_type": "code",
   "execution_count": 63,
   "id": "df34f8ea",
   "metadata": {},
   "outputs": [
    {
     "name": "stdout",
     "output_type": "stream",
     "text": [
      "N numeric_features: 5 \n",
      "\n",
      "payment_sequential, tot_order_amt, freight_value, product_dimensions, product_weight_g\n"
     ]
    }
   ],
   "source": [
    "#select features with logical conditions instead of listing every single column in the code\n",
    "select_numeric_features = make_column_selector(dtype_include=np.number)\n",
    "numeric_features = select_numeric_features(olist_train_noY)\n",
    "print(f'N numeric_features: {len(numeric_features)} \\n')\n",
    "print(', '.join(numeric_features))"
   ]
  },
  {
   "cell_type": "markdown",
   "id": "5d1d4a84",
   "metadata": {},
   "source": [
    "#### Categorical  with moderate-to-low cardinality\n",
    "\n",
    "One-hot (OH) encoding, where an indicator column is created for each unique value, is the most common method. However, the OH transformation may not be suitable for features with high cardinality. OH encoding features with many unique values may create too many columns with very low variance, which may take up too much memory or have a negative impact on the performance of linear models. Hence, we may want to limit the features we select for this encoding to ones below a certain threshold of unique values. \n",
    "\n",
    "Since the *make_column_selector* isn't capable of detecting cardinality, I've developed my own *select_oh_features* custom function. It consists of a piping of pandas methods that do the following:\n",
    "\n",
    "- Selects the object and category dtypes from the pandas DataFrame\n",
    "\n",
    "- Counts the number of unique values for those columns\n",
    "\n",
    "- Subsets the unique value counts if they are less than or equal to MAX_OH_CARDINALITY using an anonymous lambda function within the loc method\n",
    "\n",
    "- Extracts the column names from the index and returns them as a list"
   ]
  },
  {
   "cell_type": "code",
   "execution_count": 64,
   "id": "e4a7c965",
   "metadata": {},
   "outputs": [
    {
     "name": "stdout",
     "output_type": "stream",
     "text": [
      "N oh_features: 1 \n",
      "\n",
      "review_score_class\n"
     ]
    }
   ],
   "source": [
    "MAX_OH_CARDINALITY = 10\n",
    "\n",
    "def select_oh_features(df):\n",
    "    \n",
    "    hc_features =\\\n",
    "        df\\\n",
    "        .select_dtypes(['object', 'category'])\\\n",
    "        .apply(lambda col: col.nunique())\\\n",
    "        .loc[lambda x: x <= MAX_OH_CARDINALITY]\\\n",
    "        .index\\\n",
    "        .tolist()\n",
    "        \n",
    "    return hc_features\n",
    "\n",
    "oh_features = select_oh_features(olist_train_noY)\n",
    "\n",
    "print(f'N oh_features: {len(oh_features)} \\n')\n",
    "print(', '.join(oh_features))"
   ]
  },
  {
   "cell_type": "code",
   "execution_count": 65,
   "id": "302ef306",
   "metadata": {},
   "outputs": [],
   "source": [
    "#oh_pipeline = make_pipeline(SimpleImputer(strategy='constant'), OneHotEncoder(handle_unknown='ignore'))"
   ]
  },
  {
   "cell_type": "code",
   "execution_count": 66,
   "id": "68538abf",
   "metadata": {},
   "outputs": [],
   "source": [
    "#Try without imputer\n",
    "oh_pipeline1 = make_pipeline(OneHotEncoder(handle_unknown='ignore'))"
   ]
  },
  {
   "cell_type": "markdown",
   "id": "3c7cee7e",
   "metadata": {},
   "source": [
    "#### Categorical with high cardinality\n",
    "To select the features with high cardinality, I've created a similar function that selects the object and category features with unique value counts greater than the threshold. It selects three features that meet these criteria."
   ]
  },
  {
   "cell_type": "code",
   "execution_count": 67,
   "id": "33fdbdb5",
   "metadata": {},
   "outputs": [
    {
     "name": "stdout",
     "output_type": "stream",
     "text": [
      "N hc_features: 5 \n",
      "\n",
      "product_category_english, seller_zip_code_prefix, seller_city, customer_city, customer_zip_code_prefix\n"
     ]
    }
   ],
   "source": [
    "def select_hc_features(df):\n",
    "    \n",
    "    hc_features =\\\n",
    "        df\\\n",
    "        .select_dtypes(['object', 'category'])\\\n",
    "        .apply(lambda col: col.nunique())\\\n",
    "        .loc[lambda x: x > MAX_OH_CARDINALITY]\\\n",
    "        .index\\\n",
    "        .tolist()\n",
    "        \n",
    "    return hc_features\n",
    "\n",
    "\n",
    "hc_features = select_hc_features(olist_train_noY)\n",
    "\n",
    "print(f'N hc_features: {len(hc_features)} \\n')\n",
    "print(', '.join(hc_features))"
   ]
  },
  {
   "cell_type": "markdown",
   "id": "dd9ddf30",
   "metadata": {},
   "source": [
    "#### Generalized Linear Mixed Model Encoder\n",
    "\n",
    "To transform our features with high cardinality, I could have gone with a more basic approach and used Scikit-Learn's native LabelEncoder or OrdinalEncoder preprocessor. However, in many cases, these methods are likely to perform suboptimally in your model unless you are dealing with ordinal data. I prefer to use the Category Encoder package, which has more than a dozen ways of intelligently encoding highly cardinal features. This post provides an overview of several of these methods. Most of these are supervised techniques, which use the dependent variable to transform the nominal values into numerical ones. The TargetEncoder is probably the easiest method to understand, but I prefer to use the Generalized Linear Mixed Model Encoder, which has \"solid statistical theory behind [it]\" and \"no hyperparameters to tune.\" Without diving into the details of GLMMs, at its core, this method encodes the nominal values as the coefficents from a one-hot-encoded linear model. The Category Encoder methods handle missing and unknown values by setting them to zero or the mean of the dependent variable. "
   ]
  },
  {
   "cell_type": "code",
   "execution_count": 68,
   "id": "0fa5ce92",
   "metadata": {},
   "outputs": [],
   "source": [
    "import category_encoders as ce\n",
    "hc_pipeline = make_pipeline(ce.GLMMEncoder())"
   ]
  },
  {
   "cell_type": "code",
   "execution_count": 69,
   "id": "478e4e0f",
   "metadata": {},
   "outputs": [],
   "source": [
    "numeric_pipeline = make_pipeline(StandardScaler()) "
   ]
  },
  {
   "cell_type": "code",
   "execution_count": 70,
   "id": "1c18f458",
   "metadata": {},
   "outputs": [],
   "source": [
    "column_transformer = ColumnTransformer(transformers=\\\n",
    "                                       [('numeric_pipeline', numeric_pipeline, select_numeric_features),\\\n",
    "                                        ('oh_pipeline', oh_pipeline1, select_oh_features),\\\n",
    "                                        ('hc_pipeline', hc_pipeline, select_hc_features)],                                       \n",
    "                                       remainder='drop')"
   ]
  },
  {
   "cell_type": "code",
   "execution_count": 71,
   "id": "f2448346",
   "metadata": {},
   "outputs": [],
   "source": [
    "# let's break up the Discrepancy variable\n",
    "#But needs outliers to be removed\n",
    "#olist_train_y_class = pd.cut(olist_train_y, [0, 2, 3, 5], 3, labels=['bad','fair','good']) # this creates a new variable\n",
    "#olist_train_y_class = olist_train_y_class.astype(\"category\")"
   ]
  },
  {
   "cell_type": "code",
   "execution_count": 72,
   "id": "0467bcc9",
   "metadata": {
    "scrolled": true
   },
   "outputs": [
    {
     "data": {
      "text/plain": [
       "count    9600.000000\n",
       "mean       11.381979\n",
       "std        10.049074\n",
       "min      -182.000000\n",
       "25%         7.000000\n",
       "50%        12.000000\n",
       "75%        16.000000\n",
       "max       139.000000\n",
       "Name: delivery_estimate_discrepancy, dtype: float64"
      ]
     },
     "execution_count": 72,
     "metadata": {},
     "output_type": "execute_result"
    }
   ],
   "source": [
    "olist_train_y.describe()"
   ]
  },
  {
   "cell_type": "code",
   "execution_count": 73,
   "id": "ef450b67",
   "metadata": {},
   "outputs": [
    {
     "data": {
      "text/plain": [
       "26.0"
      ]
     },
     "execution_count": 73,
     "metadata": {},
     "output_type": "execute_result"
    }
   ],
   "source": [
    "olist_train_y.quantile(0.95)"
   ]
  },
  {
   "cell_type": "code",
   "execution_count": 74,
   "id": "59fbee52",
   "metadata": {},
   "outputs": [
    {
     "data": {
      "text/plain": [
       "{'bodies': [<matplotlib.collections.PolyCollection at 0x201eeb41460>],\n",
       " 'cmeans': <matplotlib.collections.LineCollection at 0x201eeb1f1c0>,\n",
       " 'cmaxes': <matplotlib.collections.LineCollection at 0x201eeb086d0>,\n",
       " 'cmins': <matplotlib.collections.LineCollection at 0x201eeb08040>,\n",
       " 'cbars': <matplotlib.collections.LineCollection at 0x201eeb02df0>}"
      ]
     },
     "execution_count": 74,
     "metadata": {},
     "output_type": "execute_result"
    },
    {
     "data": {
      "image/png": "[encoded data removed]",
      "text/plain": [
       "<Figure size 432x288 with 1 Axes>"
      ]
     },
     "metadata": {
      "needs_background": "light"
     },
     "output_type": "display_data"
    }
   ],
   "source": [
    "plt.violinplot(olist_train_y, showmeans=True)"
   ]
  },
  {
   "cell_type": "markdown",
   "id": "8df9fdb6",
   "metadata": {},
   "source": [
    "#### <span style='color:blue'>Create the categorical y training variable of customer reviews to be either 'late' = 1,'on time' = 2, 'early' = 3</span>"
   ]
  },
  {
   "cell_type": "code",
   "execution_count": 75,
   "id": "764b1821",
   "metadata": {},
   "outputs": [
    {
     "data": {
      "text/plain": [
       "count     9600\n",
       "unique       3\n",
       "top          3\n",
       "freq      8513\n",
       "Name: delivery_estimate_discrepancy, dtype: int64"
      ]
     },
     "execution_count": 75,
     "metadata": {},
     "output_type": "execute_result"
    }
   ],
   "source": [
    "olist_train_y_range = pd.cut(olist_train_y, [-200, -2, 2, 210], 3, labels=[1,2,3]) # this creates a new variable\n",
    "olist_train_y_range.describe()\n",
    "#'late' = 1,'on target' = 2, 'early' = 3"
   ]
  },
  {
   "cell_type": "code",
   "execution_count": 76,
   "id": "41866e77",
   "metadata": {},
   "outputs": [
    {
     "data": {
      "text/plain": [
       "3    8513\n",
       "1     573\n",
       "2     514\n",
       "Name: delivery_estimate_discrepancy, dtype: int64"
      ]
     },
     "execution_count": 76,
     "metadata": {},
     "output_type": "execute_result"
    }
   ],
   "source": [
    "#Sanity check for any null values as a result of the cut process.\n",
    "olist_train_y_range.value_counts()"
   ]
  },
  {
   "cell_type": "markdown",
   "id": "4e2b1797",
   "metadata": {},
   "source": [
    "---\n",
    "#### <span style='color:blue'>Create the categorical y test variable of customer reviews to be either 'late' = 1,'on time' = 2, 'early' = 3</span>"
   ]
  },
  {
   "cell_type": "code",
   "execution_count": 77,
   "id": "f19a6e4d",
   "metadata": {},
   "outputs": [
    {
     "data": {
      "text/plain": [
       "count     2400\n",
       "unique       3\n",
       "top          3\n",
       "freq      2119\n",
       "Name: delivery_estimate_discrepancy, dtype: int64"
      ]
     },
     "execution_count": 77,
     "metadata": {},
     "output_type": "execute_result"
    }
   ],
   "source": [
    "olist_test_y_range = pd.cut(olist_test_y, [-200, -2, 2, 250], 3, labels=[1,2,3]) # this creates a new variable\n",
    "olist_test_y_range.describe()\n",
    "#'late' = 1,'on target' = 2, 'early' = 3"
   ]
  },
  {
   "cell_type": "code",
   "execution_count": 78,
   "id": "596a3874",
   "metadata": {},
   "outputs": [
    {
     "data": {
      "text/plain": [
       "0"
      ]
     },
     "execution_count": 78,
     "metadata": {},
     "output_type": "execute_result"
    }
   ],
   "source": [
    "olist_test_y_range.isna().sum()"
   ]
  },
  {
   "cell_type": "code",
   "execution_count": 79,
   "id": "e2924187",
   "metadata": {},
   "outputs": [
    {
     "data": {
      "text/plain": [
       "3    2119\n",
       "1     156\n",
       "2     125\n",
       "Name: delivery_estimate_discrepancy, dtype: int64"
      ]
     },
     "execution_count": 79,
     "metadata": {},
     "output_type": "execute_result"
    }
   ],
   "source": [
    "#Sanity check for any null values as a result of the cut process.\n",
    "olist_test_y_range.value_counts()"
   ]
  },
  {
   "cell_type": "markdown",
   "id": "a0c8662b",
   "metadata": {},
   "source": [
    "### Normalize the feature values so that all the attributes are on the same dynamic range\n"
   ]
  },
  {
   "cell_type": "code",
   "execution_count": 80,
   "id": "1d810c21",
   "metadata": {},
   "outputs": [
    {
     "name": "stderr",
     "output_type": "stream",
     "text": [
      "C:\\Users\\justi\\anaconda3\\envs\\ML\\lib\\site-packages\\category_encoders\\utils.py:21: FutureWarning: is_categorical is deprecated and will be removed in a future version.  Use is_categorical_dtype instead\n",
      "  elif pd.api.types.is_categorical(cols):\n"
     ]
    }
   ],
   "source": [
    "#Make Y classification\n",
    "X_train_class = column_transformer.fit_transform(olist_train_noY, olist_train_y_range)\n",
    "X_test_class = column_transformer.transform(olist_test_noY)"
   ]
  },
  {
   "cell_type": "code",
   "execution_count": 81,
   "id": "54956f48",
   "metadata": {},
   "outputs": [
    {
     "name": "stdout",
     "output_type": "stream",
     "text": [
      "(9600, 13)\n",
      "(2400, 13)\n"
     ]
    }
   ],
   "source": [
    "print(X_train_class.shape)\n",
    "print(X_test_class.shape)"
   ]
  },
  {
   "cell_type": "markdown",
   "id": "6c9cbf22",
   "metadata": {},
   "source": [
    "---\n",
    "# <span style='color:blue'> **1. Create Model (50 points)** </span>\n",
    "---\n",
    "\n",
    "- Create a **logistic regression model** and a **support vector machine model** for the **classification task** involved with your dataset.  \n",
    "\n",
    "- Assess how well each model performs (use 80/20 training/testing split for your data).\n",
    "    - <span style='color:green'> ***80/20 Split performed during preprocessing above***</span>\n",
    "\n",
    "- Adjust parameters of the models to make them more accurate. If your dataset size requires the use of stochastic gradient descent, then linear kernel only is fine to use. \n",
    "    - That is, the SGDClassifier is fine to use for optimizing logistic regression and linear support vector machines.\n",
    "            -For many problems, SGD will be required in order to train the SVM model in a reasonable timeframe."
   ]
  },
  {
   "cell_type": "markdown",
   "id": "886936b3",
   "metadata": {},
   "source": [
    "## <span style='color:blue'> Create a Logistic Regression classifier </span>\n"
   ]
  },
  {
   "cell_type": "code",
   "execution_count": 101,
   "id": "bc9f83d0",
   "metadata": {},
   "outputs": [
    {
     "name": "stdout",
     "output_type": "stream",
     "text": [
      "Logistic Regression Metrics:\n",
      "LogisticRegression(C=1, class_weight='balanced', multi_class='multinomial',\n",
      "                   random_state=42, solver='newton-cg')\n",
      "              precision    recall  f1-score   support\n",
      "\n",
      "           1       0.26      0.15      0.19       156\n",
      "           2       0.06      0.14      0.08       125\n",
      "           3       0.89      0.83      0.86      2119\n",
      "\n",
      "    accuracy                           0.75      2400\n",
      "   macro avg       0.40      0.37      0.37      2400\n",
      "weighted avg       0.80      0.75      0.77      2400\n",
      "\n",
      "Wall time: 349 ms\n"
     ]
    }
   ],
   "source": [
    "%%time\n",
    "from sklearn.metrics import classification_report\n",
    "\n",
    "#Logistic regression\n",
    "logr_clf = LogisticRegression(penalty='l2', #default\n",
    "                              C=1, #default \n",
    "                              class_weight='balanced', # use with imbalanced dataset\n",
    "                              solver='newton-cg', # only solver that works with this dataset\n",
    "                              multi_class='multinomial', \n",
    "                              random_state=42) \n",
    "logr_clf.fit(X_train_class,olist_train_y_range)\n",
    "\n",
    "# Note: For multiclass problems, only ‘newton-cg’, ‘sag’, ‘saga’ and ‘lbfgs’ handle multinomial loss; \n",
    "# ‘liblinear’ is limited to one-versus-rest schemes.\n",
    "# Note: solver default lbfgs, sag and saga did not work, we hit max_iter and even set at 4000 it still did not work\n",
    "# Note: only newton-cg works\n",
    "\n",
    "#y_train_pred_class = sgd_clf.predict(X_train_class)\n",
    "yhat_lr = logr_clf.predict(X_test_class)\n",
    "\n",
    "print('Logistic Regression Metrics:')\n",
    "print(logr_clf)\n",
    "print(classification_report(olist_test_y_range, yhat_lr))"
   ]
  },
  {
   "cell_type": "markdown",
   "id": "927bd307",
   "metadata": {},
   "source": [
    "## <span style='color:blue'>Utilize RandomizedSearchCV to tune our Logistic Regression Model</span>\n",
    "\n",
    "source: https://chrisalbon.com/machine_learning/model_selection/hyperparameter_tuning_using_random_search/"
   ]
  },
  {
   "cell_type": "code",
   "execution_count": 100,
   "id": "754bd601",
   "metadata": {},
   "outputs": [
    {
     "name": "stdout",
     "output_type": "stream",
     "text": [
      "Wall time: 3.4 s\n"
     ]
    }
   ],
   "source": [
    "%%time\n",
    "from scipy.stats import uniform\n",
    "from sklearn.model_selection import RandomizedSearchCV\n",
    "X = X_train_class\n",
    "y = olist_train_y_range\n",
    "# create logistic Regression\n",
    "lgr = LogisticRegression(solver='newton-cg')\n",
    "\n",
    "# create regularization penalty space\n",
    "penalty = ['l2','none']  #only penalties that work with newton-cg\n",
    "\n",
    "# create regulatization hyperparameter distribution using uniform distribution\n",
    "C = uniform(loc=0, scale=4) \n",
    "\n",
    "# create hyperparameter options\n",
    "hyp = dict(C=C, penalty=penalty)\n",
    "\n",
    "# create random search, 5fold CV, 100 iterations\n",
    "clf = RandomizedSearchCV(lgr, hyp, random_state=42, n_iter=10, cv=5, verbose=0, n_jobs=-1)\n",
    "\n"
   ]
  },
  {
   "cell_type": "code",
   "execution_count": 103,
   "id": "d233d8b8",
   "metadata": {},
   "outputs": [
    {
     "name": "stdout",
     "output_type": "stream",
     "text": [
      "Wall time: 7.09 s\n"
     ]
    }
   ],
   "source": [
    "%%time\n",
    "#fit random search\n",
    "best_model = clf.fit(X,y)"
   ]
  },
  {
   "cell_type": "code",
   "execution_count": 84,
   "id": "f0e4125f",
   "metadata": {},
   "outputs": [
    {
     "name": "stdout",
     "output_type": "stream",
     "text": [
      "Best Penalty: l2\n",
      "Best C: 1.7833310114143646\n",
      "Best Score:  0.9219791666666668\n",
      "Best Params:  {'C': 1.7833310114143646, 'penalty': 'l2'}\n",
      "Best Time (seconds):  0.34209752082824707\n"
     ]
    }
   ],
   "source": [
    "# view hyperparameter values of best model\n",
    "print('Best Penalty:', best_model.best_estimator_.get_params()['penalty'])\n",
    "print('Best C:', best_model.best_estimator_.get_params()['C'])\n",
    "print('Best Score: ', best_model.best_score_) \n",
    "print('Best Params: ', best_model.best_params_)\n",
    "print('Best Time (seconds): ', best_model.refit_time_)"
   ]
  },
  {
   "cell_type": "code",
   "execution_count": 85,
   "id": "d78456ce",
   "metadata": {},
   "outputs": [
    {
     "name": "stdout",
     "output_type": "stream",
     "text": [
      "Best RandomSearchCV Logistic Regression Metrics:\n",
      "              precision    recall  f1-score   support\n",
      "\n",
      "           1       0.32      0.08      0.13       156\n",
      "           2       0.06      0.01      0.01       125\n",
      "           3       0.89      0.98      0.93      2119\n",
      "\n",
      "    accuracy                           0.87      2400\n",
      "   macro avg       0.42      0.36      0.36      2400\n",
      "weighted avg       0.81      0.87      0.83      2400\n",
      "\n"
     ]
    }
   ],
   "source": [
    "# predict using best model\n",
    "yhat = best_model.predict(X_test_class)\n",
    "\n",
    "print('Best RandomSearchCV Logistic Regression Metrics:')\n",
    "print(classification_report(olist_test_y_range, yhat, zero_division=0))"
   ]
  },
  {
   "cell_type": "markdown",
   "id": "6c68b842",
   "metadata": {},
   "source": [
    "## <span style='color:blue'> Basic SVM Model</span>"
   ]
  },
  {
   "cell_type": "code",
   "execution_count": 96,
   "id": "b29d754a",
   "metadata": {},
   "outputs": [
    {
     "name": "stdout",
     "output_type": "stream",
     "text": [
      "Wall time: 51.5 ms\n"
     ]
    }
   ],
   "source": [
    "%%time\n",
    "# Basic SVM Model\n",
    "\n",
    "from sklearn.linear_model import SGDClassifier\n",
    "\n",
    "sgd_clf = SGDClassifier(random_state=42)\n",
    "sgd_clf.fit(X_train_class, olist_train_y_range)\n",
    "\n",
    "#y_train_pred_class = sgd_clf.predict(X_train_class)\n",
    "yhat_svm = sgd_clf.predict(X_test_class)"
   ]
  },
  {
   "cell_type": "code",
   "execution_count": 87,
   "id": "9bb47cf9",
   "metadata": {},
   "outputs": [
    {
     "name": "stdout",
     "output_type": "stream",
     "text": [
      "Logistic Regression Metrics:\n",
      "SGDClassifier(random_state=42)\n",
      "              precision    recall  f1-score   support\n",
      "\n",
      "           1       0.26      0.09      0.13       156\n",
      "           2       0.00      0.00      0.00       125\n",
      "           3       0.89      0.98      0.93      2119\n",
      "\n",
      "    accuracy                           0.87      2400\n",
      "   macro avg       0.38      0.36      0.36      2400\n",
      "weighted avg       0.80      0.87      0.83      2400\n",
      "\n"
     ]
    }
   ],
   "source": [
    "# SVM with SD Metrics\n",
    "print('Logistic Regression Metrics:')\n",
    "print(sgd_clf)\n",
    "print(classification_report(olist_test_y_range, yhat_svm, zero_division=0))"
   ]
  },
  {
   "cell_type": "markdown",
   "id": "138971ee",
   "metadata": {},
   "source": [
    "## <span style='color:blue'>Utilize RandomizedSearchCV to tune our SVM Model</span>"
   ]
  },
  {
   "cell_type": "code",
   "execution_count": 97,
   "id": "f5655c66",
   "metadata": {},
   "outputs": [
    {
     "name": "stdout",
     "output_type": "stream",
     "text": [
      "Fitting 5 folds for each of 100 candidates, totalling 500 fits\n",
      "Wall time: 12.9 s\n"
     ]
    }
   ],
   "source": [
    "%%time\n",
    "from sklearn.linear_model import SGDClassifier \n",
    "from sklearn.model_selection import RandomizedSearchCV \n",
    "\n",
    "# create variable dictionaries\n",
    "loss = ['hinge', 'log', 'modified_huber', 'squared_hinge']\n",
    "penalty = ['l1', 'l2', 'elasticnet'] \n",
    "alpha = [0.0001, 0.001, 0.01, 0.1, 1, 10, 100, 1000] \n",
    "learning_rate = ['constant', 'optimal', 'invscaling', 'adaptive'] \n",
    "eta0 = [1, 10, 100] \n",
    "\n",
    "# create hyperparameter options\n",
    "param_distributions = dict(loss=loss, \n",
    "                           penalty=penalty, \n",
    "                           alpha=alpha, \n",
    "                           learning_rate=learning_rate, \n",
    "                           eta0=eta0)\n",
    "\n",
    "# create the classifier\n",
    "sgd = SGDClassifier(early_stopping=True, validation_fraction=0.15, max_iter=100, class_weight = \"balanced\") \n",
    "\n",
    "# create RandomizedSearchCV\n",
    "random = RandomizedSearchCV(estimator=sgd,\n",
    "                            param_distributions=param_distributions, \n",
    "                            verbose=1, \n",
    "                            n_iter=100, \n",
    "                            n_jobs=-1) \n",
    "random_result = random.fit(X_train_class,olist_train_y_range) "
   ]
  },
  {
   "cell_type": "code",
   "execution_count": 98,
   "id": "bdb704ca",
   "metadata": {},
   "outputs": [
    {
     "name": "stdout",
     "output_type": "stream",
     "text": [
      "Best Score:  0.9135416666666666\n",
      "Best Params:  {'penalty': 'elasticnet', 'loss': 'log', 'learning_rate': 'optimal', 'eta0': 1, 'alpha': 0.001}\n",
      "Best Time (seconds):  0.06302404403686523\n",
      "Wall time: 0 ns\n"
     ]
    }
   ],
   "source": [
    "%%time\n",
    "# Print Best Results\n",
    "print('Best Score: ', random_result.best_score_) \n",
    "print('Best Params: ', random_result.best_params_)\n",
    "print('Best Time (seconds): ', random_result.refit_time_)"
   ]
  },
  {
   "cell_type": "code",
   "execution_count": 99,
   "id": "522b946d",
   "metadata": {},
   "outputs": [
    {
     "name": "stdout",
     "output_type": "stream",
     "text": [
      "Best Random SVM SD Metrics:\n",
      "              precision    recall  f1-score   support\n",
      "\n",
      "           1       0.30      0.17      0.22       156\n",
      "           2       0.00      0.00      0.00       125\n",
      "           3       0.89      0.96      0.93      2119\n",
      "\n",
      "    accuracy                           0.86      2400\n",
      "   macro avg       0.40      0.38      0.38      2400\n",
      "weighted avg       0.81      0.86      0.83      2400\n",
      "\n",
      "Wall time: 9.02 ms\n"
     ]
    }
   ],
   "source": [
    "%%time\n",
    "# predict using best model\n",
    "yhat_rand_svm = random_result.predict(X_test_class)\n",
    "\n",
    "print('Best Random SVM SD Metrics:')\n",
    "print(classification_report(olist_test_y_range, yhat_rand_svm, zero_division=0))"
   ]
  },
  {
   "cell_type": "markdown",
   "id": "f775488f",
   "metadata": {},
   "source": [
    "## <span style='color:blue'> Model Advantages (10 points) </span>\n",
    "Discuss the advantages of each model for each classification task. Does one type of model offer superior performance over another in terms of prediction accuracy? In terms of training time or efficiency? Explain in detail.\n",
    "\n",
    "**Discussion:**\n",
    "* In order to save time, we sampled 12,000 of our original 114,066 records.\n",
    "* We utilized and 80/20 test-train split\n",
    "* We used intuitive feature reduction prior to training the model to reduce computational resources and time and put some thought into what features would ideally contribute to a product arriving by it’s estimated arrival date. While it may seem intuitive to just assume comparing the estimated arrival date and the actual arrival date would suffice, we thought about how people perceive estimated delivery times from couriers. For example, if I can pay for a package to be overnighted from Dallas to Austin and pay a premium rate; however, I also know that generally I can just pay the ground shipping rate the and the package will show up with 1-2 days rather than the estimated 5-7 days, so that is why we wanted to really have features that contributed to determining if a package was truly late, on time or early.\n",
    "* We ran 2 basic models using only minimal tuning for multinomial classification and 2 refitted models using RandomizedSearchCV for tuning.\n",
    "* We used multinomial classification to classify if packages were late, on time or early to olist customers\n",
    "* Basic Logistical Regression is the only model that was able to categorize deliveries that were made on-time (value #2) with a precision of 6%. It also had precision of 26% for late deliveries and 89% for early deliveries which makes sense since early deliveries had the largest representation in the dataset, followed by late deliveries and then on time deliveries. The overall precision was 75%. \n",
    "* Refitted using RandomizedSearchCV Logistical Regression: Once we tuned the model using RandomizedSearchCV with a 5-fold validation, the best model also correctly classifies on time deliveries 6% of the time, late deliveries 32% of the time and early deliveries 89% with and overall accuracy of 87%. So we saw some improvement with correctly categorizing the late deliveries and the overall accuracy.\n",
    " * SVM with Stochastic Descent with minor tuning to handle multinomial classification returned an overall accuracy of 87%, but failed to correctly classify any on time packages. This model had the same precision for late deliveries – 26% and early deliveries- 89%, but saw an increase in the recall for early deliveries, signaling an overfit at 98% with only 9% recall for late deliveries and no recall for on time deliveries. The overall accuracy was 87% and on par with the overall accuracy from the tuned logistal regression model (also at 87%).\n",
    "* Reffited SVM with Stochastic Descent: we again utilized RandomizedSearchCV to tune our SVM with stochastic decent that  maintaining an overall accuracy of 86% that was slightly lower than the untraining SVM (87% accuracy) and the training logistical regression model (87%). The precision was better for categorizing late deliveries (30%) compared to the untrained SVM (26%), but lower than the training logistic regression model (32%); however, the recall for late deliveries classification was the highest for the trained SVM (17%) compared to the 2nd best recall for late deliveries (15%) from the untrained logistical regression model.\n",
    "* Time - we found the best time for a model was the RandomizedSearchCV trained SVM at 0.06 seconds compared to 0.33 seconds for the best trained logistical regression model that also used RandomizedSearchCV. \n",
    "\n",
    "\n"
   ]
  },
  {
   "cell_type": "code",
   "execution_count": 102,
   "id": "fd891803",
   "metadata": {},
   "outputs": [
    {
     "name": "stdout",
     "output_type": "stream",
     "text": [
      "\n",
      "================================================================\n",
      "\n",
      "=== Logistic Regression Metrics using minor tuning for class_weight, solver ===\n",
      "LogisticRegression(C=1, class_weight='balanced', multi_class='multinomial',\n",
      "                   random_state=42, solver='newton-cg')\n",
      "              precision    recall  f1-score   support\n",
      "\n",
      "           1       0.26      0.15      0.19       156\n",
      "           2       0.06      0.14      0.08       125\n",
      "           3       0.89      0.83      0.86      2119\n",
      "\n",
      "    accuracy                           0.75      2400\n",
      "   macro avg       0.40      0.37      0.37      2400\n",
      "weighted avg       0.80      0.75      0.77      2400\n",
      "\n",
      "\n",
      "================================================================\n",
      "\n",
      "=== Best RandomSearchCV Logistic Regression Metrics ===\n",
      "\n",
      "Best Penalty: l2\n",
      "Best C: 1.7833310114143646\n",
      "Best Score:  0.9219791666666668\n",
      "Best Params:  {'C': 1.7833310114143646, 'penalty': 'l2'}\n",
      "Best Time (seconds):  0.33106517791748047\n",
      "              precision    recall  f1-score   support\n",
      "\n",
      "           1       0.32      0.08      0.13       156\n",
      "           2       0.06      0.01      0.01       125\n",
      "           3       0.89      0.98      0.93      2119\n",
      "\n",
      "    accuracy                           0.87      2400\n",
      "   macro avg       0.42      0.36      0.36      2400\n",
      "weighted avg       0.81      0.87      0.83      2400\n",
      "\n",
      "\n",
      "================================================================\n",
      "\n",
      "=== SVM with Stochastic Descent  Metrics ===\n",
      "\n",
      "              precision    recall  f1-score   support\n",
      "\n",
      "           1       0.26      0.09      0.13       156\n",
      "           2       0.00      0.00      0.00       125\n",
      "           3       0.89      0.98      0.93      2119\n",
      "\n",
      "    accuracy                           0.87      2400\n",
      "   macro avg       0.38      0.36      0.36      2400\n",
      "weighted avg       0.80      0.87      0.83      2400\n",
      "\n",
      "\n",
      "================================================================\n",
      "\n",
      "=== Best RandomSeachCV SVM-SD Metrics ===\n",
      "\n",
      "Best Score:  0.9135416666666666\n",
      "Best Params:  {'penalty': 'elasticnet', 'loss': 'log', 'learning_rate': 'optimal', 'eta0': 1, 'alpha': 0.001}\n",
      "Best Time (seconds):  0.06302404403686523\n",
      "              precision    recall  f1-score   support\n",
      "\n",
      "           1       0.30      0.17      0.22       156\n",
      "           2       0.00      0.00      0.00       125\n",
      "           3       0.89      0.96      0.93      2119\n",
      "\n",
      "    accuracy                           0.86      2400\n",
      "   macro avg       0.40      0.38      0.38      2400\n",
      "weighted avg       0.81      0.86      0.83      2400\n",
      "\n"
     ]
    }
   ],
   "source": [
    "print('\\n================================================================\\n')\n",
    "print('=== Logistic Regression Metrics using minor tuning for class_weight, solver ===')\n",
    "print(logr_clf)\n",
    "print(classification_report(olist_test_y_range, yhat_lr))\n",
    "\n",
    "print('\\n================================================================\\n')\n",
    "print('=== Best RandomSearchCV Logistic Regression Metrics ===\\n')\n",
    "print('Best Penalty:', best_model.best_estimator_.get_params()['penalty'])\n",
    "print('Best C:', best_model.best_estimator_.get_params()['C'])\n",
    "print('Best Score: ', best_model.best_score_) \n",
    "print('Best Params: ', best_model.best_params_)\n",
    "print('Best Time (seconds): ', best_model.refit_time_)\n",
    "print(classification_report(olist_test_y_range, yhat, zero_division=0))\n",
    "\n",
    "print('\\n================================================================\\n')\n",
    "print('=== SVM with Stochastic Descent  Metrics ===\\n')\n",
    "print(classification_report(olist_test_y_range, yhat_svm, zero_division=0))\n",
    "\n",
    "print('\\n================================================================\\n')\n",
    "print('=== Best RandomSeachCV SVM-SD Metrics ===\\n')\n",
    "print('Best Score: ', random_result.best_score_) \n",
    "print('Best Params: ', random_result.best_params_)\n",
    "print('Best Time (seconds): ', random_result.refit_time_)\n",
    "print(classification_report(olist_test_y_range, yhat_rand_svm, zero_division=0))\n",
    "\n",
    "### <span style='color:blue'> **Discssion** </span>\n"
   ]
  },
  {
   "cell_type": "markdown",
   "id": "b4e56f2a",
   "metadata": {},
   "source": [
    "# <span style='color:blue'> 3. Interpret Feature Importance (30 points) </span>\n",
    "\n",
    "- Use the weights from logistic regression to interpret the importance of different features for the classification task.\n",
    "- Explain your interpretation in detail. Why do you think some variables are more important?\n",
    "-<span style='color:blue'> We realized once we got to this point in the project that the weights can only be interpreted for binary classification because multinomial requires interpreting quite a bit of other statistical measures we aren't quite familiar with. We did make an attempt at several of them. </span>"
   ]
  },
  {
   "cell_type": "markdown",
   "id": "33a422ad",
   "metadata": {},
   "source": [
    "#### Interpret the weights\n",
    "\n",
    "- An odds ratio less than 1 indicates that the likelihood of an outcome occurring would decrease as the variable increases, while an odds ratio of greater than 1 would indicate that there is a greater likelihood of an outcome occurring as the variable increases.\n",
    " \n",
    "- Unsurprisingly, the customer’s city had the largest impact on whether a customer receives their order early or late, given that the other variables in the model are held constant. We predicted this would be the case since certain areas of Brazil are extremely remote and difficult for carriers to deliver to. The odds of getting a package early given the customer’s city relative to other customers’ cities would be expected to decrease by a factor of 0.0053 for every increase of 1 when all other factors are held constant.  \n",
    "\n",
    "- Order approved at is the time stamp when the payment was approved. It had the next highest weight, which is interesting since a time stamp shouldn’t necessarily be correlated to the length of time a package arrives before or after an estimated delivery date. It would be interesting if this is highly correlated due to large holidays of natural disasters that affect all packages ordered around a certain point in time. The odds of getting a package early given the order approved at increasing by 1 would be expected to decrease by a factor of 0.042, all other factors held constant.  \n",
    "\n",
    "- The freight value had the third highest weight. This makes sense because a higher freight value could indicate a higher shipping priority, which would be highly correlated to the estimated delivery time and thus the delivery discrepancies. Unfortunately we don’t have data to confirm that this correlation is due to shipping priority, but we could possibly account for the package dimensions and weight to try to determine if higher cost freight value is dependent on the 3rd factor of shipping priority.  The odds of getting a package early given the freight value increasing by 1 would be expected to increase by a factor of 2.305, all other factors held constant.  \n",
    "\n",
    "- It appears that review scores are not heavily correlated with the actual delivery duration, meaning customers may not have a preference for faster shipping, or may not necessarily post polarized reviews due to shipping. We would need to run a different test to determine whether reviews are correlated to the delivery discrepancy. \n",
    "\n",
    "\n"
   ]
  },
  {
   "cell_type": "code",
   "execution_count": 93,
   "id": "7d32a50f",
   "metadata": {},
   "outputs": [
    {
     "name": "stdout",
     "output_type": "stream",
     "text": [
      "payment_sequential has weight of -0.13084004686179967\n",
      "product_category_english has weight of -0.03534961810672845\n",
      "seller_zip_code_prefix has weight of -0.06387222701398564\n",
      "seller_city has weight of 0.11571955797379954\n",
      "tot_order_amt has weight of 0.04782415247409077\n",
      "freight_value has weight of 0.8354169284167732\n",
      "product_dimensions has weight of -0.20157579701052292\n",
      "review_score_class has weight of -0.6338483151512078\n",
      "product_weight_g has weight of -0.4815554858695193\n",
      "customer_city has weight of -5.231658915935248\n",
      "customer_zip_code_prefix has weight of -0.16933532811479401\n",
      "order_approved_at has weight of -3.16006236961991\n"
     ]
    }
   ],
   "source": [
    "# iterate over the coefficients\n",
    "weights = logr_clf.coef_.T # take transpose to make a column vector\n",
    "variable_names = olist_train_noY.columns\n",
    "for coef, name in zip(weights,variable_names):\n",
    "    print(name, 'has weight of', coef[0])"
   ]
  },
  {
   "cell_type": "code",
   "execution_count": 94,
   "id": "1880cc25",
   "metadata": {},
   "outputs": [
    {
     "name": "stdout",
     "output_type": "stream",
     "text": [
      "payment_sequential has odds ratios of 0.877358099349352\n",
      "product_category_english has odds ratios of 0.9652678821275477\n",
      "seller_zip_code_prefix has odds ratios of 0.9381248588876469\n",
      "seller_city has odds ratios of 1.1226809810518692\n",
      "tot_order_amt has odds ratios of 1.0489861774809368\n",
      "freight_value has odds ratios of 2.305775191109076\n",
      "product_dimensions has odds ratios of 0.8174416155811239\n",
      "review_score_class has odds ratios of 0.5305461585726431\n",
      "product_weight_g has odds ratios of 0.6178216311803427\n",
      "customer_city has odds ratios of 0.005344651616610198\n",
      "customer_zip_code_prefix has odds ratios of 0.8442257632826068\n",
      "order_approved_at has odds ratios of 0.04242309508568149\n"
     ]
    }
   ],
   "source": [
    "# iterate over the coefficients\n",
    "weights = np.exp(logr_clf.coef_).T # take transpose to make a column vector\n",
    "variable_names = olist_train_noY.columns\n",
    "for coef, name in zip(weights,variable_names):\n",
    "    print(name, 'has odds ratios of', coef[0])"
   ]
  },
  {
   "cell_type": "code",
   "execution_count": 138,
   "id": "d6c72d7e",
   "metadata": {},
   "outputs": [
    {
     "data": {
      "image/png": "[encoded data removed]",
      "text/plain": [
       "<Figure size 720x360 with 1 Axes>"
      ]
     },
     "metadata": {
      "needs_background": "light"
     },
     "output_type": "display_data"
    }
   ],
   "source": [
    "# now let's make a pandas Series with the names and values, and plot them\n",
    "from matplotlib import pyplot as plt\n",
    "import matplotlib as mpl\n",
    "import seaborn as sns\n",
    "%matplotlib inline\n",
    "# boxplot of continuous variables\n",
    "fig, ax = plt.subplots(figsize=(10,5)) #creat plot area\n",
    "\n",
    "plt.style.use('ggplot')\n",
    "\n",
    "weights = pd.Series(logr_clf.coef_[0][0:12],index=olist_train_noY.columns)\n",
    "ax = weights.plot(kind='bar')\n",
    "ax.set_facecolor('white') # sets background to white\n",
    "ax.set_xlabel('Features', fontsize='14') # x label\n",
    "ax.set_ylabel('Weights', fontsize='14') # y label\n",
    "ax.set_title('Features by Coef Weights', fontsize='14') # graph name\n",
    "ax.grid(b=True,color='lightgrey')\n",
    "plt.xticks(rotation=45, ha=\"right\")\n",
    "\n",
    "\n",
    "plt.show()"
   ]
  },
  {
   "cell_type": "code",
   "execution_count": 137,
   "id": "aa27568d",
   "metadata": {
    "scrolled": true
   },
   "outputs": [
    {
     "data": {
      "image/png": "[encoded data removed]",
      "text/plain": [
       "<Figure size 720x720 with 2 Axes>"
      ]
     },
     "metadata": {},
     "output_type": "display_data"
    },
    {
     "name": "stdout",
     "output_type": "stream",
     "text": [
      "Correlation heatmap that shows linear relationship between delivery_estimate_discrepancy and other numerical attributes in the Olist dataset.\n"
     ]
    }
   ],
   "source": [
    "#Correlations\n",
    "# let's try a heatmap\n",
    "# plot the correlation matrix using seaborn \n",
    "sns.set(style=\"darkgrid\") # one of the many styles to plot using\n",
    "\n",
    "cmap = sns.diverging_palette(210, 10, as_cmap=True) # one of the many color mappings\n",
    "\n",
    "f, ax = plt.subplots(figsize=(10,10))\n",
    "\n",
    "sns.heatmap(olist_class2.corr(), cmap=cmap, annot=True)\n",
    "plt.yticks(rotation=0)\n",
    "plt.xticks(rotation=45, ha=\"right\")\n",
    "plt.show()\n",
    "print(\"Correlation heatmap that shows linear relationship between delivery_estimate_discrepancy and other numerical attributes in the Olist dataset.\")"
   ]
  },
  {
   "cell_type": "markdown",
   "id": "356bd1da",
   "metadata": {},
   "source": []
  },
  {
   "cell_type": "code",
   "execution_count": null,
   "id": "536cd817",
   "metadata": {
    "scrolled": true
   },
   "outputs": [],
   "source": [
    "# look at the support vectors\n",
    "print(svc_clf.support_vectors_.shape)\n",
    "print(svc_clf.support_.shape)\n",
    "print(svc_clf.n_support_ )"
   ]
  },
  {
   "cell_type": "code",
   "execution_count": null,
   "id": "429eef72",
   "metadata": {
    "scrolled": true
   },
   "outputs": [],
   "source": [
    "print(svc_clf.support_vectors_)"
   ]
  },
  {
   "cell_type": "code",
   "execution_count": null,
   "id": "ec9f3a41",
   "metadata": {},
   "outputs": [],
   "source": [
    "olist_train.info()"
   ]
  },
  {
   "cell_type": "markdown",
   "id": "118a1cf7",
   "metadata": {},
   "source": [
    "# <span style='color:blue'> 4. Interpret support vectors </span>\n",
    "\n",
    "- Look at the chosen support vectors for the classification task. \n",
    "- Do these provide any insight into the data? Explain. \n",
    "- If you used stochastic gradient descent (and therefore did not explicitly solve for support vectors), try subsampling your data to train the SVC model\n",
    "    - then analyze the support vectors from the subsampled dataset.\n",
    "    -- <span style='color:red'>We used stochastic gradient descent, but had issues trying to re-create the training dataframe and then add back in the categorical column for graphing</span>"
   ]
  },
  {
   "cell_type": "code",
   "execution_count": 212,
   "id": "286612e9",
   "metadata": {},
   "outputs": [
    {
     "data": {
      "text/plain": [
       "(9600, 13)"
      ]
     },
     "execution_count": 212,
     "metadata": {},
     "output_type": "execute_result"
    }
   ],
   "source": [
    "X = X_train_class\n",
    "y = olist_train_y_range\n",
    "X_test = X_test_class \n",
    "y_test = olist_test_y_range\n",
    "X.shape"
   ]
  },
  {
   "cell_type": "code",
   "execution_count": 231,
   "id": "8e460976",
   "metadata": {},
   "outputs": [
    {
     "name": "stdout",
     "output_type": "stream",
     "text": [
      "accuracy: 0.8820833333333333\n",
      "[[   0    0  156]\n",
      " [   0    0  125]\n",
      " [   2    0 2117]]\n"
     ]
    }
   ],
   "source": [
    "# lets investigate SVMs on the data and play with the parameters and kernels\n",
    "from sklearn.svm import SVC\n",
    "from sklearn import metrics as mt\n",
    "\n",
    "# train the model just as before\n",
    "svm_clf = SVC(kernel=\"poly\") # get object\n",
    "svm_clf.fit(X, y)  # train object\n",
    "\n",
    "y_hat = svm_clf.predict(X_test) # get test set precitions\n",
    "\n",
    "acc = mt.accuracy_score(y_test,y_hat)\n",
    "conf = mt.confusion_matrix(y_test,y_hat)\n",
    "print('accuracy:', acc )\n",
    "print(conf)"
   ]
  },
  {
   "cell_type": "code",
   "execution_count": 232,
   "id": "016607db",
   "metadata": {},
   "outputs": [
    {
     "name": "stdout",
     "output_type": "stream",
     "text": [
      "(2051, 13)\n",
      "(2051,)\n",
      "[554 513 984]\n"
     ]
    }
   ],
   "source": [
    "# look at the support vectors\n",
    "print(svm_clf.support_vectors_.shape)\n",
    "print(svm_clf.support_.shape)\n",
    "print(svm_clf.n_support_ )"
   ]
  },
  {
   "cell_type": "code",
   "execution_count": 233,
   "id": "cc9e3a3a",
   "metadata": {},
   "outputs": [
    {
     "name": "stdout",
     "output_type": "stream",
     "text": [
      "accuracy: 0.8775\n",
      "[[  13    0  143]\n",
      " [   1    0  124]\n",
      " [  26    0 2093]]\n"
     ]
    }
   ],
   "source": [
    "# lets investigate SVMs on the data and play with the parameters and kernels\n",
    "from sklearn.svm import SVC\n",
    "from sklearn import metrics as mt\n",
    "\n",
    "# train the model just as before\n",
    "svm_clf = SVC(kernel=\"linear\") # get object\n",
    "svm_clf.fit(X, y)  # train object\n",
    "\n",
    "y_hat = svm_clf.predict(X_test) # get test set precitions\n",
    "\n",
    "acc = mt.accuracy_score(y_test,y_hat)\n",
    "conf = mt.confusion_matrix(y_test,y_hat)\n",
    "print('accuracy:', acc )\n",
    "print(conf)"
   ]
  },
  {
   "cell_type": "code",
   "execution_count": 234,
   "id": "d75f9ed2",
   "metadata": {},
   "outputs": [
    {
     "name": "stdout",
     "output_type": "stream",
     "text": [
      "(1758, 13)\n",
      "(1758,)\n",
      "[413 514 831]\n"
     ]
    }
   ],
   "source": [
    "# look at the support vectors\n",
    "print(svm_clf.support_vectors_.shape)\n",
    "print(svm_clf.support_.shape)\n",
    "print(svm_clf.n_support_ )"
   ]
  },
  {
   "cell_type": "code",
   "execution_count": 257,
   "id": "193fa2be",
   "metadata": {},
   "outputs": [
    {
     "name": "stdout",
     "output_type": "stream",
     "text": [
      "[10, 30, 38, 43, 60, 69, 70, 71, 79, 80, 101, 136, 163, 167, 185, 238, 257, 267, 273, 277, 286, 291, 320, 324, 349, 352, 355, 382, 387, 393, 403, 444, 445, 466, 468, 492, 509, 525, 554, 566, 567, 578, 611, 613, 617, 633, 638, 645, 651, 653, 659, 677, 695, 696, 698, 723, 754, 760, 779, 792, 827, 829, 846, 870, 875, 882, 893, 909, 911, 917, 923, 929, 952, 979, 992, 1006, 1007, 1019, 1027, 1034, 1053, 1056, 1057, 1060, 1068, 1069, 1079, 1082, 1106, 1119, 1122, 1132, 1149, 1151, 1168, 1176, 1177, 1243, 1296, 1298, 1304, 1325, 1328, 1329, 1355, 1368, 1384, 1395, 1413, 1446, 1450, 1458, 1464, 1478, 1482, 1484, 1486, 1493, 1519, 1520, 1526, 1555, 1561, 1573, 1584, 1586, 1587, 1589, 1590, 1597, 1610, 1619, 1635, 1652, 1665, 1677, 1687, 1692, 1694, 1696, 1734, 1735, 1743, 1780, 1781, 1794, 1810, 1816, 1824, 1851, 1860, 1905, 1906, 1939, 1949, 1952, 1964, 1979, 1983, 1987, 1998, 2003, 2013, 2016, 2023, 2024, 2034, 2057, 2069, 2075, 2096, 2110, 2158, 2163, 2165, 2172, 2178, 2185, 2203, 2206, 2207, 2223, 2254, 2258, 2286, 2295, 2301, 2304, 2305, 2306, 2318, 2327, 2334, 2341, 2347, 2386, 2390, 2414, 2415, 2450, 2451, 2454, 2488, 2493, 2494, 2507, 2512, 2527, 2534, 2542, 2551, 2556, 2576, 2592, 2605, 2606, 2613, 2617, 2626, 2654, 2681, 2682, 2684, 2690, 2696, 2702, 2707, 2725, 2734, 2737, 2741, 2753, 2757, 2763, 2765, 2771, 2773, 2793, 2803, 2813, 2815, 2816, 2824, 2831, 2832, 2834, 2835, 2868, 2897, 2901, 2948, 2981, 2982, 3012, 3036, 3046, 3054, 3060, 3062, 3084, 3089, 3097, 3140, 3145, 3147, 3148, 3155, 3179, 3180, 3182, 3187, 3188, 3193, 3223, 3231, 3235, 3238, 3256, 3258, 3267, 3293, 3306, 3318, 3321, 3347, 3350, 3359, 3363, 3384, 3416, 3422, 3492, 3498, 3509, 3531, 3537, 3561, 3563, 3564, 3576, 3615, 3616, 3692, 3694, 3695, 3706, 3732, 3751, 3849, 3857, 3861, 3865, 3871, 3899, 3903, 3905, 3907, 3910, 3928, 3959, 3963, 3977, 3997, 4004, 4040, 4059, 4085, 4086, 4121, 4126, 4129, 4133, 4143, 4149, 4159, 4170, 4178, 4198, 4220, 4221, 4250, 4270, 4294, 4301, 4303, 4311, 4320, 4321, 4329, 4330, 4361, 4395, 4399, 4400, 4404, 4411, 4432, 4433, 4453, 4479, 4491, 4500, 4527, 4535, 4559, 4598, 4613, 4629, 4633, 4642, 4661, 4664, 4666, 4667, 4674, 4682, 4683, 4697, 4706, 4718, 4730, 4732, 4734, 4760, 4763, 4778, 4788, 4845, 4868, 4873, 4876, 4898, 4914, 4917, 4921, 4940, 4941, 4951, 4976, 4986, 4990, 4991, 5003, 5005, 5038, 5052, 5054, 5068, 5098, 5118, 5147, 5153, 5166, 5167, 5172, 5173, 5179, 5187, 5201, 5222, 5223, 5253, 5256, 5279, 5293, 5307, 5308, 5319, 5335, 5338, 5361, 5364, 5390, 5392, 5394, 5395, 5428, 5439, 5446, 5464, 5478, 5486, 5525, 5542, 5549, 5564, 5579, 5580, 5588, 5627, 5632, 5676, 5688, 5706, 5722, 5731, 5738, 5742, 5747, 5756, 5757, 5777, 5813, 5833, 5851, 5858, 5861, 5868, 5873, 5880, 5888, 5899, 5901, 5912, 5918, 5927, 5936, 5938, 5964, 5966, 5969, 5971, 5982, 5995, 5997, 6000, 6031, 6052, 6053, 6059, 6083, 6094, 6107, 6115, 6121, 6136, 6159, 6160, 6166, 6188, 6194, 6212, 6217, 6219, 6224, 6227, 6234, 6236, 6242, 6246, 6254, 6257, 6269, 6280, 6282, 6284, 6302, 6310, 6316, 6323, 6324, 6332, 6337, 6380, 6407, 6415, 6419, 6437, 6442, 6474, 6475, 6476, 6503, 6525, 6528, 6563, 6570, 6572, 6576, 6583, 6608, 6629, 6637, 6647, 6673, 6697, 6730, 6739, 6749, 6754, 6767, 6768, 6773, 6800, 6815, 6839, 6844, 6851, 6859, 6868, 6890, 6892, 6893, 6933, 6935, 6948, 6976, 6982, 6984, 6995, 7015, 7017, 7029, 7034, 7039, 7046, 7049, 7064, 7071, 7076, 7077, 7079, 7090, 7120, 7126, 7151, 7159, 7162, 7173, 7176, 7186, 7210, 7214, 7221, 7244, 7245, 7249, 7251, 7261, 7263, 7286, 7289, 7312, 7317, 7329, 7330, 7337, 7351, 7368, 7389, 7396, 7413, 7432, 7436, 7471, 7474, 7475, 7480, 7483, 7487, 7490, 7492, 7500, 7505, 7514, 7521, 7534, 7537, 7587, 7596, 7608, 7614, 7622, 7625, 7631, 7637, 7670, 7690, 7704, 7710, 7718, 7722, 7729, 7738, 7743, 7775, 7778, 7785, 7790, 7791, 7796, 7799, 7822, 7824, 7851, 7855, 7863, 7889, 7905, 7921, 7950, 7953, 7960, 7974, 7975, 7989, 7990, 7992, 8002, 8033, 8051, 8054, 8067, 8068, 8085, 8092, 8098, 8121, 8142, 8152, 8153, 8154, 8166, 8168, 8179, 8183, 8189, 8197, 8198, 8202, 8212, 8216, 8225, 8231, 8232, 8249, 8266, 8288, 8296, 8304, 8316, 8317, 8323, 8327, 8368, 8373, 8375, 8395, 8401, 8424, 8431, 8443, 8453, 8457, 8459, 8469, 8482, 8486, 8493, 8501, 8507, 8509, 8520, 8552, 8565, 8567, 8592, 8621, 8628, 8655, 8664, 8688, 8704, 8718, 8721, 8737, 8753, 8779, 8790, 8792, 8793, 8803, 8806, 8816, 8878, 8881, 8898, 8912, 8933, 8945, 8950, 8955, 8956, 8970, 8978, 8997, 9000, 9004, 9007, 9035, 9041, 9050, 9053, 9055, 9057, 9061, 9075, 9108, 9130, 9134, 9148, 9163, 9201, 9223, 9236, 9297, 9304, 9307, 9319, 9364, 9370, 9390, 9408, 9422, 9441, 9450, 9455, 9479, 9498, 9499, 9502, 9510, 9525, 9526, 9530, 9550, 9583, 9603, 9606, 9608, 9628, 9629, 9643, 9672, 9692, 9699, 9706, 9707, 9724, 9762, 9773, 9807, 9813, 9824, 9835, 9845, 9846, 9865, 9867, 9873, 9884, 9894, 9896, 9907, 9921, 9943, 9960, 9982, 9985, 10001, 10007, 10015, 10039, 10056, 10059, 10064, 10073, 10095, 10112, 10119, 10138, 10139, 10151, 10162, 10163, 10164, 10177, 10197, 10210, 10214, 10225, 10234, 10250, 10260, 10264, 10274, 10304, 10306, 10315, 10319, 10323, 10337, 10346, 10361, 10369, 10381, 10385, 10392, 10408, 10411, 10416, 10421, 10437, 10440, 10443, 10452, 10458, 10471, 10484, 10485, 10510, 10520, 10526, 10529, 10533, 10538, 10541, 10546, 10548, 10549, 10552, 10570, 10575, 10581, 10616, 10631, 10654, 10669, 10683, 10689, 10699, 10705, 10708, 10721, 10735, 10753, 10760, 10762, 10789, 10794, 10798, 10842, 10851, 10870, 10882, 10885, 10925, 10947, 10953, 10973, 10998, 11019, 11026, 11034, 11041, 11050, 11052, 11055, 11057, 11066, 11106, 11116, 11122, 11144, 11154, 11165, 11166, 11180, 11195, 11204, 11243, 11253, 11279, 11281, 11286, 11292, 11294, 11310, 11321, 11326, 11345, 11362, 11385, 11392, 11393, 11402, 11405, 11407, 11421, 11428, 11459, 11472, 11476, 11525, 11539, 11541, 11545, 11549, 11551, 11555, 11562, 11569, 11575, 11589, 11591, 11617, 11619, 11625, 11627, 11630, 11647, 11657, 11674, 11684, 11693, 11739, 11753, 11763, 11770, 11779, 11805, 11813, 11816, 11825, 11850, 11856, 11857, 11864, 11882, 11902, 11907, 11912, 11921, 11932, 11933, 11935, 11970, 11995, 11999, 12011, 12013, 12016, 12020, 12023, 12037, 12045, 12053, 12059, 12068, 12071, 12075, 12086, 12119, 12126, 12128, 12166, 12182, 12211, 12212, 12218, 12221, 12236, 12243, 12248, 12293, 12325, 12360, 12375, 12378, 12383, 12388, 12389, 12398, 12406, 12412, 12447, 12448, 12488, 12489, 12492, 12506, 12536, 12547, 12557, 12566, 12593, 12601, 12607, 12609, 12612, 12626, 12635, 12640, 12644, 12656, 12657, 12671, 12675, 12687, 12695, 12705, 12708, 12713, 12747, 12748, 12749, 12768, 12771, 12792, 12799, 12828, 12844, 12851, 12855, 12857, 12896, 12897, 12901, 12913, 12924, 12938, 12950, 12958, 12967, 12979, 12980, 12996, 13006, 13019, 13027, 13042, 13048, 13064, 13068, 13069, 13071, 13099, 13110, 13122, 13130, 13133, 13134, 13171, 13194, 13195, 13196, 13198, 13205, 13215, 13216, 13243, 13244, 13256, 13260, 13274, 13282, 13290, 13300, 13301, 13309, 13312, 13327, 13381, 13384, 13408, 13420, 13428, 13447, 13450, 13465, 13478, 13488, 13492, 13511, 13524, 13529, 13544, 13561, 13564, 13574, 13599, 13605, 13612, 13657, 13675, 13682, 13704, 13710, 13715, 13732, 13744, 13767, 13772, 13775, 13784, 13794, 13805, 13806, 13808, 13820, 13840, 13858, 13882, 13899, 13917, 13925, 13942, 13969, 13988, 13994, 14022, 14026, 14027, 14028, 14034, 14043, 14048, 14054, 14091, 14098, 14113, 14128, 14134, 14142, 14144, 14150, 14159, 14173, 14187, 14205, 14207, 14227, 14229, 14250, 14255, 14258, 14263, 14266, 14273, 14280, 14304, 14307, 14324, 14348, 14354, 14360, 14374, 14376, 14388, 14403, 14411, 14412, 14416, 14484, 14499, 14509, 14520, 14530, 14537, 14549, 14556, 14558, 14559, 14577, 14582, 14593, 14622, 14662, 14670, 14692, 14693, 14705, 14709, 14712, 14721, 14736, 14745, 14769, 14772, 14784, 14799, 14803, 14812, 14833, 14869, 14888, 14896, 14903, 14906, 14921, 14931, 14933, 14943, 14946, 14956, 14961, 14963, 14967, 14968, 14983, 14996, 14997, 15009, 15010, 15027, 15053, 15064, 15072, 15078, 15081, 15094, 15112, 15140, 15146, 15161, 15162, 15175, 15181, 15201, 15224, 15238, 15245, 15248, 15293, 15327, 15330, 15345, 15403, 15419, 15432, 15455, 15456, 15458, 15469, 15472, 15482, 15487, 15490, 15506, 15519, 15533, 15536, 15552, 15584, 15596, 15598, 15618, 15632, 15645, 15674, 15684, 15687, 15733, 15739, 15751, 15767, 15800, 15816, 15844, 15866, 15874, 15876, 15898, 15906, 15908, 15915, 15933, 15935, 15936, 15937, 15946, 15959, 15967, 15969, 15989, 16009, 16012, 16019, 16021, 16096, 16103, 16107, 16109, 16119, 16140, 16143, 16155, 16158, 16164, 16171, 16186, 16212, 16224, 16236, 16254, 16257, 16261, 16264, 16265, 16283, 16286, 16299, 16303, 16308, 16309, 16332, 16362, 16363, 16367, 16372, 16379, 16382, 16411, 16437, 16440, 16455, 16456, 16465, 16467, 16481, 16496, 16500, 16562, 16564, 16573, 16579, 16588, 16600, 16605, 16607, 16611, 16624, 16625, 16626, 16645, 16646, 16668, 16676, 16689, 16694, 16710, 16741, 16795, 16809, 16819, 16826, 16827, 16836, 16838, 16844, 16852, 16865, 16873, 16878, 16879, 16883, 16927, 16966, 16987, 16991, 17004, 17005, 17009, 17043, 17046, 17049, 17050, 17056, 17062, 17073, 17094, 17104, 17113, 17128, 17129, 17142, 17167, 17236, 17244, 17245, 17255, 17258, 17274, 17278, 17279, 17284, 17293, 17295, 17302, 17306, 17313, 17324, 17334, 17335, 17349, 17351, 17359, 17363, 17371, 17404, 17407, 17436, 17479, 17489, 17522, 17534, 17536, 17540, 17559, 17581, 17596, 17599, 17601, 17611, 17621, 17635, 17642, 17649, 17650, 17660, 17676, 17683, 17685, 17714, 17727, 17746, 17756, 17788, 17806, 17819, 17829, 17830, 17841, 17871, 17873, 17886, 17887, 17889, 17899, 17914, 17961, 17963, 17971, 17979, 17987, 18005, 18009, 18016, 18023, 18041, 18060, 18062, 18064, 18069, 18071, 18082, 18084, 18091, 18093, 18102, 18109, 18137, 18142, 18145, 18155, 18162, 18167, 18168, 18177, 18180, 18191, 18228, 18244, 18259, 18269, 18274, 18275, 18314, 18316, 18323, 18329, 18340, 18377, 18393, 18397, 18420, 18453, 18455, 18488, 18494, 18513, 18514, 18522, 18539, 18551, 18560, 18565, 18568, 18578, 18580, 18585, 18596, 18633, 18637, 18653, 18658, 18677, 18693, 18696, 18701, 18705, 18707, 18717, 18731, 18750, 18754, 18756, 18760, 18765, 18779, 18780, 18813, 18828, 18837, 18838, 18847, 18849, 18857, 18878, 18885, 18887, 18888, 18893, 18895, 18908, 18910, 18913, 18974, 18985, 18986, 18990, 18999, 19006, 19010, 19016, 19017, 19018, 19026, 19034, 19040, 19048, 19061, 19066, 19076, 19101, 19118, 19131, 19147, 19164, 19178, 19182, 19203, 19234, 19238, 19246, 19263, 19265, 19274, 19276, 19298, 19331, 19340, 19343, 19344, 19352, 19357, 19362, 19372, 19394, 19412, 19417, 19425, 19428, 19473, 19483, 19497, 19499, 19525, 19532, 19553, 19562, 19567, 19589, 19591, 19619, 19628, 19637, 19661, 19708, 19715, 19720, 19723, 19730, 19734, 19749, 19764, 19769, 19777, 19781, 19785, 19790, 19793, 19795, 19805, 19814, 19843, 19860, 19861, 19867, 19883, 19893, 19901, 19913, 19934, 19941, 19942, 19943, 19947, 19973, 19976, 20019, 20022, 20049, 20054, 20058, 20073, 20081, 20110, 20121, 20162, 20171, 20180, 20189, 20199, 20257, 20266, 20275, 20279, 20285, 20304, 20317, 20319, 20324, 20328, 20332, 20344, 20353, 20360, 20366, 20369, 20370, 20376, 20388, 20416, 20419, 20421, 20473, 20478, 20485, 20499, 20501, 20509, 20521, 20522, 20535, 20539, 20541, 20556, 20561, 20599, 20601, 20614, 20620, 20626, 20638, 20646, 20695, 20699, 20702, 20725, 20744, 20752, 20755, 20764, 20773, 20794, 20806, 20807, 20820, 20846, 20871, 20880, 20889, 20904, 20914, 20934, 20943, 20947, 21000, 21011, 21018, 21050, 21084, 21085, 21088, 21115, 21130, 21172, 21176, 21192, 21198, 21199, 21242, 21257, 21260, 21290, 21296, 21304, 21319, 21321, 21323, 21342, 21343, 21367, 21369, 21377, 21382, 21386, 21403, 21459, 21461, 21471, 21473, 21489, 21495, 21499, 21509, 21513, 21520, 21526, 21527, 21536, 21544, 21563, 21566, 21569, 21572, 21595, 21596, 21605, 21633, 21728, 21730, 21731, 21732, 21745, 21746, 21748, 21771, 21772, 21776, 21788, 21793, 21796, 21826, 21835, 21842, 21858, 21873, 21884, 21885, 21904, 21913, 21936, 21943, 21957, 21960, 21966, 21969, 21978, 21993, 21997, 22003, 22005, 22022, 22025, 22031, 22041, 22044, 22045, 22072, 22085, 22127, 22132, 22134, 22145, 22152, 22155, 22159, 22211, 22219, 22242, 22244, 22287, 22290, 22292, 22300, 22306, 22324, 22393, 22409, 22415, 22436, 22442, 22465, 22489, 22490, 22491, 22496, 22497, 22556, 22563, 22575, 22629, 22631, 22660, 22683, 22694, 22697, 22703, 22710, 22711, 22728, 22739, 22741, 22742, 22744, 22754, 22771, 22774, 22803, 22824, 22827, 22849, 22852, 22855, 22884, 22887, 22902, 22922, 22923, 22948, 22961, 22971, 22988, 23021, 23052, 23054, 23070, 23075, 23076, 23129, 23138, 23140, 23146, 23155, 23177, 23196, 23207, 23212, 23214, 23220, 23226, 23231, 23233, 23234, 23236, 23238, 23247, 23248, 23257, 23278, 23331, 23332, 23345, 23350, 23361, 23371, 23376, 23379, 23388, 23394, 23417, 23432, 23436, 23442, 23465, 23480, 23484, 23486, 23490, 23527, 23546, 23559, 23578, 23591, 23597, 23607, 23615, 23617, 23628, 23631, 23654, 23655, 23657, 23658, 23679, 23683, 23684, 23685, 23686, 23688, 23689, 23694, 23697, 23710, 23715, 23733, 23771, 23788, 23790, 23810, 23816, 23839, 23847, 23864, 23898, 23936, 23939, 23970, 23986, 23988, 23998, 24003, 24009, 24020, 24048, 24050, 24051, 24061, 24065, 24075, 24080, 24085, 24117, 24124, 24135, 24141, 24143, 24172, 24197, 24198, 24200, 24202, 24212, 24215, 24221, 24231, 24238, 24249, 24261, 24281, 24301, 24317, 24335, 24341, 24342, 24347, 24356, 24376, 24384, 24385, 24394, 24408, 24412, 24428, 24441, 24444, 24450, 24469, 24473, 24483, 24484, 24494, 24499, 24500, 24521, 24522, 24534, 24537, 24544, 24562, 24586, 24593, 24615, 24631, 24649, 24652, 24668, 24669, 24670, 24676, 24678, 24683, 24690, 24691, 24702, 24706, 24717, 24722, 24745, 24754, 24781, 24790, 24802, 24822, 24832, 24833, 24850, 24853, 24857, 24867, 24880, 24882, 24890, 24932, 24934, 24973, 25043, 25059, 25060, 25076, 25077, 25112, 25117, 25142, 25167, 25173, 25184, 25185, 25209, 25214, 25222, 25225, 25240, 25245, 25252, 25264, 25270, 25291, 25338, 25404, 25411, 25414, 25451, 25457, 25472, 25491, 25505, 25545, 25553, 25558, 25572, 25582, 25583, 25591, 25607, 25613, 25616, 25623, 25629, 25631, 25641, 25650, 25685, 25686, 25693, 25730, 25754, 25776, 25781, 25800, 25802, 25827, 25838, 25884, 25888, 25889, 25896, 25900, 25905, 25909, 25931, 25935, 25940, 25947, 25958, 25976, 25978, 25995, 26023, 26035, 26047, 26065, 26069, 26086, 26097, 26098, 26104, 26107, 26118, 26134, 26144, 26155, 26182, 26187, 26199, 26205, 26211, 26224, 26226, 26231, 26238, 26258, 26276, 26295, 26298, 26313, 26325, 26335, 26348, 26358, 26393, 26399, 26403, 26404, 26412, 26425, 26467, 26495, 26503, 26508, 26521, 26535, 26544, 26556, 26570, 26581, 26595, 26606, 26609, 26622, 26636, 26638, 26643, 26644, 26653, 26654, 26660, 26678, 26699, 26706, 26722, 26725, 26737, 26744, 26748, 26763, 26771, 26796, 26804, 26815, 26820, 26827, 26837, 26847, 26852, 26860, 26877, 26878, 26892, 26911, 26919, 26929, 26932, 26951, 26956, 26978, 26983, 27006, 27007, 27032, 27033, 27063, 27072, 27093, 27106, 27128, 27131, 27135, 27152, 27155, 27191, 27196, 27209, 27212, 27226, 27268, 27272, 27295, 27308, 27316, 27328, 27351, 27357, 27384, 27391, 27392, 27412, 27413, 27429, 27431, 27437, 27487, 27517, 27522, 27540, 27566, 27578, 27591, 27595, 27605, 27608, 27614, 27616, 27627, 27669, 27676, 27685, 27687, 27694, 27704, 27709, 27713, 27769, 27772, 27779, 27826, 27827, 27835, 27846, 27869, 27877, 27880, 27888, 27889, 27895, 27896, 27926, 27935, 27949, 27993, 27996, 28006, 28011, 28028, 28049, 28064, 28065, 28069, 28084, 28095, 28097, 28105, 28108, 28118, 28123, 28137, 28153, 28155, 28165, 28167, 28176, 28193, 28234, 28240, 28259, 28262, 28281, 28282, 28305, 28313, 28319, 28331, 28333, 28342, 28354, 28369, 28377, 28387, 28401, 28413, 28441, 28459, 28503, 28512, 28519, 28523, 28538, 28580, 28594, 28607, 28627, 28629, 28646, 28658, 28668, 28675, 28690, 28711, 28732, 28742, 28746, 28748, 28753, 28755, 28774, 28781, 28796, 28797, 28803, 28807, 28818, 28820, 28857, 28861, 28911, 28915, 28926, 28938, 28967, 28976, 28985, 28986, 28988, 28993, 28995, 29011, 29024, 29026, 29036, 29046, 29054, 29088, 29096, 29104, 29109, 29131, 29137, 29146, 29159, 29164, 29175, 29192, 29206, 29207, 29222, 29224, 29235, 29239, 29264, 29284, 29307, 29344, 29358, 29361, 29373, 29385, 29387, 29399, 29422, 29454, 29472, 29492, 29500, 29503, 29528, 29530, 29535, 29555, 29618, 29632, 29640, 29644, 29647, 29651, 29656, 29658, 29681, 29729, 29730, 29799, 29800, 29812, 29820, 29842, 29859, 29866, 29885, 29886, 29909, 29921, 29932, 29955, 29970, 29972, 29991, 29999, 30005, 30034, 30036, 30050, 30071, 30072, 30078, 30089, 30098, 30106, 30142, 30152, 30164, 30166, 30176, 30177, 30203, 30212, 30213, 30233, 30260, 30261, 30265, 30268, 30283, 30301, 30313, 30328, 30332, 30334, 30344, 30345, 30382, 30387, 30414, 30424, 30441, 30446, 30464, 30471, 30478, 30485, 30491, 30499, 30525, 30528, 30529, 30550, 30552, 30554, 30561, 30569, 30573, 30594, 30606, 30609, 30612, 30618, 30628, 30633, 30655, 30671, 30680, 30681, 30713, 30715, 30716, 30717, 30752, 30757, 30770, 30776, 30783, 30799, 30809, 30814, 30829, 30834, 30835, 30843, 30846, 30886, 30897, 30909, 30911, 30926, 30943, 30950, 30963, 30969, 30972, 30973, 30977, 30978, 30990, 30992, 31005, 31012, 31016, 31043, 31064, 31068, 31073, 31076, 31077, 31078, 31099, 31115, 31133, 31142, 31143, 31149, 31151, 31166, 31174, 31178, 31193, 31194, 31220, 31221, 31230, 31232, 31233, 31239, 31245, 31246, 31274, 31279, 31287, 31293, 31296, 31302, 31312, 31327, 31328, 31335, 31339, 31340, 31392, 31408, 31412, 31441, 31448, 31453, 31463, 31492, 31504, 31515, 31517, 31534, 31535, 31547, 31561, 31574, 31593, 31594, 31615, 31631, 31654, 31658, 31672, 31681, 31711, 31714, 31715, 31721, 31724, 31727, 31731, 31766, 31784, 31785, 31786, 31788, 31807, 31809, 31811, 31815, 31840, 31844, 31859, 31891, 31900, 31912, 31928, 31929, 31945, 31950, 31955, 31962, 31968, 31991, 31996, 31998, 32012, 32016, 32028, 32031, 32040, 32042, 32061, 32084, 32086, 32099, 32107, 32118, 32132, 32136, 32137, 32147, 32164, 32189, 32193, 32200, 32206, 32210, 32235, 32254, 32256, 32267, 32269, 32280, 32286, 32308, 32332, 32340, 32351, 32385, 32387, 32408, 32412, 32416, 32424, 32443, 32449, 32453, 32462, 32472, 32493, 32500, 32508, 32513, 32544, 32557, 32575, 32579, 32584, 32595, 32613, 32635, 32645, 32670, 32681, 32688, 32701, 32714, 32768, 32776, 32791, 32793, 32816, 32837, 32842, 32864, 32873, 32878, 32881, 32891, 32922, 32925, 32932, 32967, 32982, 32999, 33024, 33051, 33065, 33067, 33078, 33107, 33133, 33144, 33151, 33155, 33161, 33172, 33176, 33191, 33218, 33229, 33262, 33268, 33298, 33302, 33304, 33312, 33316, 33324, 33327, 33347, 33353, 33363, 33371, 33374, 33396, 33403, 33404, 33405, 33407, 33410, 33413, 33476, 33486, 33488, 33524, 33528, 33532, 33536, 33544, 33552, 33559, 33568, 33590, 33598, 33608, 33626, 33629, 33653, 33685, 33690, 33724, 33729, 33733, 33744, 33763, 33775, 33800, 33801, 33812, 33820, 33867, 33871, 33883, 33893, 33899, 33900, 33903, 33919, 33920, 33925, 33937, 33949, 33972, 33984, 33997, 34002, 34010, 34026, 34035, 34043, 34049, 34053, 34076, 34082, 34089, 34114, 34116, 34122, 34128, 34132, 34175, 34188, 34199, 34209, 34254, 34255, 34263, 34286, 34288, 34290, 34300, 34315, 34321, 34330, 34347, 34356, 34368, 34385, 34387, 34393, 34405, 34406, 34412, 34441, 34442, 34452, 34471, 34475, 34516, 34519, 34528, 34531, 34542, 34556, 34572, 34601, 34625, 34630, 34636, 34638, 34663, 34667, 34706, 34716, 34717, 34730, 34770, 34793, 34826, 34827, 34828, 34834, 34846, 34871, 34876, 34891, 34895, 34910, 34924, 34936, 34953, 34969, 34975, 34986, 34988, 35010, 35012, 35014, 35015, 35028, 35030, 35054, 35092, 35154, 35200, 35201, 35203, 35210, 35217, 35219, 35226, 35234, 35260, 35272, 35286, 35299, 35304, 35313, 35321, 35340, 35349, 35351, 35352, 35372, 35378, 35381, 35395, 35399, 35407, 35429, 35447, 35450, 35452, 35454, 35460, 35477, 35486, 35488, 35532, 35548, 35572, 35573, 35593, 35596, 35602, 35615, 35655, 35657, 35662, 35678, 35680, 35706, 35708, 35710, 35728, 35729, 35732, 35750, 35777, 35785, 35801, 35832, 35841, 35843, 35844, 35850, 35852, 35862, 35863, 35866, 35909, 35916, 35926, 36007, 36011, 36016, 36030, 36037, 36048, 36052, 36057, 36071, 36073, 36077, 36107, 36130, 36131, 36132, 36133, 36143, 36144, 36161, 36180, 36183, 36186, 36193, 36194, 36212, 36213, 36232, 36235, 36246, 36283, 36292, 36295, 36304, 36313, 36315, 36332, 36339, 36345, 36357, 36358, 36361, 36363, 36373, 36401, 36418, 36422, 36454, 36458, 36462, 36482, 36518, 36530, 36533, 36537, 36539, 36547, 36566, 36611, 36622, 36632, 36639, 36653, 36655, 36676, 36679, 36684, 36685, 36686, 36712, 36725, 36740, 36752, 36753, 36756, 36775, 36776, 36780, 36792, 36812, 36814, 36815, 36823, 36829, 36831, 36840, 36857, 36865, 36871, 36886, 36888, 36914, 36953, 36968, 36974, 36982, 36983, 36985, 36991, 37000, 37003, 37030, 37058, 37086, 37104, 37107, 37122, 37127, 37131, 37147, 37150, 37152, 37156, 37170, 37193, 37210, 37248, 37257, 37321, 37324, 37330, 37337, 37353, 37359, 37363, 37365, 37379, 37412, 37415, 37425, 37433, 37443, 37461, 37474, 37487, 37489, 37494, 37496, 37501, 37523, 37527, 37538, 37543, 37547, 37549, 37564, 37599, 37621, 37637, 37650, 37670, 37698, 37704, 37716, 37739, 37742, 37759, 37760, 37774, 37779, 37787, 37791, 37805, 37808, 37811, 37826, 37849, 37850, 37854, 37865, 37876, 37883, 37884, 37893, 37926, 37942, 37944, 37947, 37994, 37999, 38012, 38015, 38036, 38047, 38048, 38079, 38084, 38085, 38094, 38105, 38107, 38120, 38124, 38129, 38131, 38149, 38151, 38152, 38158, 38181, 38191, 38198, 38210, 38236, 38238, 38241, 38242, 38251, 38257, 38278, 38307, 38317, 38370, 38383, 38405, 38421, 38426, 38446, 38448, 38462, 38467, 38499, 38506, 38509, 38513, 38519, 38534, 38563, 38593, 38655, 38661, 38678, 38685, 38687, 38692, 38703, 38713, 38714, 38727, 38731, 38748, 38774, 38776, 38814, 38823, 38824, 38828, 38830, 38831, 38842, 38861, 38884, 38888, 38901, 38902, 38904, 38908, 38957, 38960, 38963, 38966, 38977, 38984, 38988, 38989, 38992, 39017, 39055, 39071, 39081, 39084, 39089, 39103, 39109, 39112, 39117, 39120, 39126, 39137, 39142, 39147, 39165, 39177, 39191, 39194, 39213, 39233, 39238, 39249, 39254, 39291, 39353, 39358, 39366, 39374, 39388, 39390, 39396, 39397, 39401, 39411, 39418, 39423, 39431, 39448, 39454, 39457, 39472, 39480, 39490, 39500, 39527, 39532, 39545, 39550, 39553, 39559, 39562, 39577, 39603, 39631, 39642, 39644, 39657, 39659, 39697, 39705, 39720, 39728, 39739, 39746, 39748, 39769, 39776, 39786, 39807, 39815, 39817, 39831, 39834, 39855, 39858, 39861, 39870, 39886, 39895, 39903, 39911, 39915, 39921, 39922, 39936, 39938, 39944, 39950, 39954, 39965, 39977, 39981, 40002, 40007, 40024, 40043, 40048, 40052, 40058, 40068, 40088, 40100, 40103, 40109, 40141, 40143, 40146, 40147, 40148, 40151, 40184, 40191, 40197, 40198, 40200, 40211, 40234, 40251, 40260, 40273, 40278, 40284, 40316, 40347, 40366, 40385, 40389, 40396, 40398, 40404, 40406, 40408, 40409, 40410, 40412, 40430, 40434, 40435, 40439, 40453, 40464, 40466, 40469, 40472, 40474, 40476, 40481, 40491, 40495, 40505, 40519, 40528, 40534, 40537, 40540, 40554, 40560, 40566, 40567, 40568, 40577, 40583, 40594, 40595, 40610, 40612, 40613, 40627, 40640, 40669, 40681, 40713, 40771, 40802, 40824, 40826, 40837, 40849, 40851, 40862, 40863, 40871, 40879, 40883, 40901, 40909, 40914, 40922, 40938, 40948, 40970, 40972, 40974, 40984, 40985, 40993, 40994, 40995, 40997, 41000, 41005, 41042, 41067, 41082, 41087, 41098, 41100, 41125, 41141, 41146, 41167, 41170, 41178, 41198, 41200, 41211, 41215, 41233, 41240, 41259, 41276, 41306, 41314, 41339, 41397, 41423, 41447, 41449, 41451, 41458, 41459, 41465, 41473, 41479, 41481, 41488, 41511, 41518, 41548, 41559, 41564, 41568, 41569, 41570, 41579, 41598, 41623, 41625, 41627, 41630, 41632, 41640, 41656, 41680, 41693, 41711, 41712, 41716, 41718, 41719, 41748, 41749, 41750, 41754, 41803, 41808, 41817, 41819, 41831, 41835, 41849, 41873, 41928, 41933, 41941, 41979, 41982, 41987, 41992, 42000, 42003, 42034, 42037, 42042, 42046, 42064, 42079, 42081, 42082, 42111, 42112, 42131, 42158, 42192, 42196, 42198, 42217, 42232, 42240, 42246, 42257, 42300, 42315, 42320, 42329, 42343, 42348, 42356, 42365, 42373, 42376, 42388, 42389, 42399, 42404, 42408, 42415, 42422, 42444, 42465, 42474, 42481, 42493, 42509, 42515, 42534, 42553, 42556, 42559, 42566, 42568, 42646, 42657, 42672, 42688, 42689, 42693, 42701, 42707, 42737, 42742, 42743, 42747, 42749, 42784, 42802, 42806, 42807, 42811, 42817, 42820, 42826, 42849, 42855, 42860, 42871, 42875, 42882, 42888, 42896, 42898, 42908, 42918, 42943, 42949, 42973, 42978, 42982, 42989, 42997, 43003, 43011, 43015, 43017, 43021, 43058, 43082, 43093, 43095, 43107, 43110, 43126, 43128, 43159, 43170, 43181, 43183, 43186, 43192, 43203, 43246, 43262, 43263, 43279, 43282, 43293, 43300, 43356, 43366, 43372, 43385, 43392, 43396, 43404, 43415, 43427, 43436, 43441, 43443, 43449, 43456, 43463, 43494, 43495, 43531, 43532, 43536, 43550, 43551, 43558, 43575, 43578, 43603, 43606, 43610, 43615, 43644, 43649, 43650, 43674, 43686, 43689, 43708, 43709, 43712, 43715, 43720, 43767, 43781, 43798, 43802, 43803, 43805, 43810, 43811, 43812, 43840, 43845, 43853, 43855, 43860, 43861, 43871, 43872, 43894, 43904, 43977, 43982, 43997, 43999, 44000, 44003, 44008, 44034, 44043, 44048, 44059, 44063, 44069, 44071, 44072, 44076, 44078, 44081, 44100, 44123, 44124, 44133, 44137, 44184, 44206, 44217, 44219, 44224, 44227, 44232, 44239, 44244, 44275, 44311, 44314, 44325, 44337, 44373, 44376, 44420, 44431, 44454, 44470, 44472, 44491, 44530, 44577, 44601, 44609, 44619, 44645, 44646, 44671, 44681, 44695, 44696, 44698, 44719, 44730, 44737, 44744, 44747, 44755, 44758, 44768, 44769, 44787, 44791, 44821, 44828, 44833, 44850, 44856, 44866, 44877, 44879, 44910, 44911, 44912, 44929, 44930, 44936, 44947, 44953, 44966, 44983, 44993, 45009, 45017, 45021, 45025, 45027, 45050, 45067, 45073, 45101, 45117, 45122, 45153, 45177, 45189, 45194, 45200, 45221, 45224, 45235, 45243, 45249, 45253, 45262, 45270, 45273, 45281, 45282, 45320, 45323, 45370, 45379, 45384, 45440, 45450, 45484, 45487, 45504, 45510, 45513, 45518, 45526, 45532, 45544, 45547, 45589, 45600, 45616, 45634, 45637, 45657, 45664, 45681, 45687, 45691, 45696, 45706, 45716, 45725, 45735, 45750, 45751, 45756, 45777, 45782, 45783, 45798, 45799, 45815, 45828, 45844, 45848, 45923, 45932, 45937, 45939, 45941, 45956, 45978, 45982, 45988, 45994, 46019, 46039, 46042, 46053, 46134, 46143, 46155, 46168, 46172, 46188, 46197, 46204, 46208, 46215, 46219, 46224, 46247, 46274, 46276, 46280, 46281, 46289, 46292, 46297, 46306, 46328, 46331, 46345, 46348, 46384, 46393, 46396, 46401, 46406, 46450, 46465, 46478, 46483, 46511, 46519, 46544, 46550, 46557, 46560, 46566, 46568, 46588, 46591, 46592, 46597, 46635, 46654, 46659, 46661, 46711, 46738, 46741, 46745, 46766, 46767, 46779, 46784, 46791, 46806, 46814, 46821, 46851, 46852, 46853, 46867, 46871, 46872, 46903, 46952, 46953, 46954, 46972, 46978, 46986, 46987, 46996, 47007, 47010, 47014, 47024, 47030, 47049, 47053, 47057, 47074, 47081, 47084, 47114, 47117, 47128, 47130, 47139, 47143, 47144, 47158, 47180, 47262, 47266, 47275, 47282, 47318, 47356, 47360, 47375, 47378, 47393, 47395, 47400, 47417, 47420, 47421, 47430, 47438, 47440, 47442, 47451, 47460, 47476, 47481, 47484, 47508, 47514, 47522, 47531, 47543, 47545, 47552, 47553, 47573, 47582, 47594, 47616, 47628, 47629, 47646, 47656, 47667, 47676, 47683, 47711, 47719, 47804, 47834, 47844, 47852, 47860, 47862, 47873, 47883, 47885, 47890, 47891, 47897, 47900, 47902, 47909, 47916, 47919, 47935, 47947, 47952, 47972, 47973, 47985, 47991, 47992, 48004, 48015, 48018, 48025, 48028, 48053, 48055, 48086, 48091, 48113, 48120, 48124, 48129, 48130, 48141, 48151, 48165, 48182, 48190, 48197, 48214, 48225, 48246, 48258, 48268, 48270, 48271, 48277, 48283, 48289, 48311, 48316, 48330, 48343, 48357, 48378, 48394, 48411, 48440, 48452, 48482, 48513, 48557, 48562, 48575, 48587, 48594, 48624, 48633, 48636, 48644, 48658, 48675, 48685, 48688, 48692, 48694, 48702, 48712, 48732, 48733, 48734, 48738, 48741, 48746, 48778, 48791, 48800, 48823, 48868, 48879, 48882, 48895, 48908, 48918, 48943, 48952, 48957, 48970, 48994, 49013, 49015, 49017, 49025, 49034, 49038, 49060, 49130, 49141, 49142, 49155, 49168, 49175, 49261, 49275, 49276, 49280, 49286, 49311, 49322, 49336, 49338, 49344, 49353, 49363, 49371, 49377, 49401, 49405, 49409, 49410, 49412, 49437, 49440, 49458, 49468, 49471, 49491, 49501, 49504, 49513, 49529, 49536, 49565, 49574, 49581, 49595, 49596, 49597, 49603, 49604, 49617, 49618, 49631, 49657, 49659, 49665, 49681, 49682, 49690, 49695, 49696, 49707, 49724, 49730, 49733, 49766, 49772, 49783, 49790, 49812, 49823, 49835, 49840, 49846, 49847, 49862, 49868, 49872, 49879, 49883, 49900, 49903, 49930, 49943, 49950, 49963, 49968, 49983, 49989, 49992, 49994, 50001, 50021, 50023, 50034, 50042, 50048, 50054, 50074, 50108, 50111, 50124, 50130, 50137, 50146, 50157, 50159, 50176, 50182, 50212, 50225, 50236, 50241, 50263, 50264, 50266, 50271, 50279, 50289, 50292, 50309, 50312, 50335, 50350, 50353, 50362, 50375, 50445, 50466, 50480, 50487, 50518, 50552, 50576, 50589, 50607, 50610, 50633, 50634, 50645, 50661, 50682, 50687, 50690, 50712, 50713, 50724, 50735, 50740, 50744, 50748, 50755, 50768, 50776, 50785, 50794, 50798, 50811, 50814, 50821, 50850, 50858, 50864, 50874, 50879, 50890, 50893, 50906, 50912, 50916, 50924, 50931, 50954, 50955, 50957, 50964, 50980, 50988, 51041, 51045, 51046, 51049, 51063, 51066, 51075, 51076, 51079, 51081, 51087, 51092, 51113, 51129, 51147, 51244, 51255, 51259, 51298, 51310, 51327, 51338, 51368, 51397, 51405, 51411, 51425, 51426, 51427, 51429, 51444, 51451, 51455, 51459, 51470, 51474, 51488, 51506, 51511, 51513, 51523, 51527, 51528, 51529, 51531, 51532, 51558, 51559, 51563, 51564, 51596, 51636, 51639, 51647, 51670, 51722, 51729, 51737, 51749, 51763, 51770, 51773, 51783, 51792, 51809, 51817, 51820, 51865, 51891, 51893, 51910, 51933, 51959, 51973, 51996, 52014, 52032, 52049, 52051, 52059, 52065, 52066, 52078, 52081, 52085, 52102, 52120, 52125, 52151, 52174, 52181, 52187, 52191, 52192, 52195, 52214, 52224, 52232, 52240, 52241, 52256, 52281, 52314, 52317, 52321, 52329, 52332, 52338, 52340, 52352, 52416, 52417, 52418, 52427, 52440, 52443, 52447, 52452, 52458, 52466, 52501, 52503, 52506, 52509, 52517, 52522, 52563, 52592, 52632, 52637, 52646, 52664, 52679, 52686, 52700, 52730, 52750, 52751, 52793, 52814, 52816, 52820, 52829, 52838, 52849, 52893, 52899, 52902, 52903, 52909, 52935, 52947, 52964, 52983, 53004, 53016, 53038, 53045, 53055, 53086, 53107, 53111, 53117, 53129, 53151, 53189, 53192, 53201, 53205, 53220, 53225, 53264, 53265, 53269, 53277, 53279, 53305, 53312, 53320, 53327, 53349, 53350, 53357, 53360, 53368, 53375, 53399, 53407, 53436, 53438, 53440, 53448, 53459, 53462, 53464, 53471, 53475, 53486, 53519, 53522, 53534, 53541, 53555, 53556, 53566, 53581, 53593, 53595, 53604, 53606, 53612, 53633, 53647, 53669, 53676, 53679, 53725, 53733, 53758, 53772, 53776, 53783, 53787, 53792, 53798, 53825, 53826, 53847, 53854, 53862, 53887, 53898, 53899, 53910, 53916, 53917, 53922, 53929, 53944, 53950, 53957, 53984, 54024, 54043, 54055, 54060, 54061, 54063, 54085, 54086, 54093, 54100, 54110, 54112, 54118, 54128, 54130, 54132, 54148, 54155, 54163, 54164, 54184, 54214, 54232, 54242, 54245, 54255, 54268, 54312, 54324, 54328, 54335, 54336, 54339, 54350, 54379, 54417, 54433, 54451, 54462, 54464, 54469, 54475, 54476, 54480, 54487, 54508, 54515, 54527, 54544, 54546, 54605, 54620, 54630, 54666, 54674, 54676, 54682, 54685, 54691, 54698, 54713, 54721, 54726, 54731, 54736, 54740, 54743, 54756, 54794, 54800, 54832, 54835, 54844, 54850, 54870, 54873, 54880, 54892, 54908, 54911, 54912, 54914, 54928, 54935, 54963, 54975, 54990, 55019, 55084, 55092, 55095, 55102, 55103, 55105, 55107, 55114, 55135, 55140, 55145, 55160, 55182, 55189, 55198, 55202, 55216, 55223, 55231, 55238, 55263, 55264, 55270, 55302, 55305, 55316, 55319, 55328, 55336, 55340, 55357, 55367, 55408, 55411, 55437, 55451, 55457, 55492, 55499, 55503, 55514, 55561, 55565, 55577, 55581, 55587, 55603, 55626, 55646, 55663, 55664, 55674, 55697, 55705, 55709, 55710, 55723, 55739, 55767, 55782, 55799, 55800, 55802, 55807, 55811, 55826, 55852, 55853, 55865, 55881, 55892, 55902, 55907, 55914, 55915, 55919, 55920, 55924, 55930, 55936, 55957, 55967, 55974, 55993, 56006, 56043, 56068, 56073, 56078, 56094, 56109, 56110, 56111, 56114, 56115, 56127, 56146, 56180, 56189, 56209, 56260, 56261, 56271, 56275, 56276, 56284, 56286, 56294, 56303, 56315, 56322, 56335, 56362, 56370, 56380, 56386, 56388, 56403, 56406, 56418, 56445, 56448, 56471, 56472, 56473, 56475, 56493, 56494, 56498, 56513, 56527, 56532, 56548, 56561, 56565, 56568, 56575, 56579, 56587, 56621, 56642, 56645, 56646, 56647, 56652, 56660, 56665, 56687, 56689, 56692, 56701, 56711, 56720, 56731, 56736, 56737, 56754, 56770, 56778, 56781, 56791, 56796, 56814, 56817, 56832, 56835, 56842, 56856, 56859, 56860, 56869, 56874, 56880, 56883, 56890, 56921, 56944, 56948, 56957, 56962, 56975, 56976, 56986, 56992, 56999, 57000, 57021, 57026, 57027, 57032, 57063, 57069, 57070, 57071, 57083, 57100, 57109, 57115, 57126, 57132, 57157, 57158, 57179, 57183, 57192, 57227, 57235, 57243, 57268, 57274, 57294, 57296, 57297, 57310, 57312, 57314, 57325, 57326, 57349, 57352, 57357, 57374, 57396, 57399, 57435, 57437, 57445, 57464, 57475, 57490, 57512, 57530, 57535, 57567, 57586, 57590, 57631, 57640, 57680, 57697, 57707, 57719, 57722, 57730, 57738, 57747, 57750, 57761, 57765, 57777, 57796, 57818, 57824, 57856, 57859, 57860, 57862, 57890, 57919, 57955, 57964, 57979, 57990, 58035, 58046, 58083, 58132, 58151, 58195, 58211, 58228, 58238, 58247, 58251, 58267, 58302, 58322, 58367, 58405, 58410, 58413, 58426, 58439, 58445, 58453, 58465, 58475, 58477, 58478, 58479, 58514, 58519, 58530, 58545, 58557, 58558, 58559, 58561, 58563, 58578, 58585, 58589, 58600, 58619, 58631, 58632, 58636, 58646, 58655, 58661, 58666, 58700, 58738, 58749, 58774, 58780, 58781, 58808, 58816, 58817, 58864, 58883, 58886, 58903, 58915, 58931, 58936, 58940, 58942, 58949, 58968, 58971, 58972, 58976, 58978, 58992, 58993, 59012, 59015, 59030, 59051, 59076, 59096, 59099, 59106, 59112, 59116, 59118, 59119, 59127, 59129, 59132, 59144, 59158, 59159, 59160, 59186, 59191, 59193, 59196, 59230, 59244, 59294, 59304, 59326, 59331, 59336, 59390, 59405, 59406, 59438, 59454, 59462, 59485, 59530, 59583, 59598, 59621, 59623, 59628, 59633, 59647, 59651, 59665, 59668, 59672, 59695, 59699, 59721, 59724, 59725, 59748, 59765, 59800, 59813, 59826, 59827, 59833, 59835, 59839, 59843, 59862, 59863, 59882, 59890, 59893, 59904, 59905, 59913, 59917, 59920, 59922, 59925, 59946, 59957, 59959, 59988, 59990, 59995, 59997, 60003, 60010, 60018, 60030, 60031, 60065, 60069, 60070, 60082, 60088, 60097, 60099, 60116, 60118, 60119, 60121, 60124, 60130, 60147, 60148, 60151, 60156, 60164, 60172, 60177, 60184, 60195, 60212, 60217, 60219, 60225, 60252, 60259, 60266, 60277, 60289, 60296, 60300, 60305, 60317, 60330, 60369, 60389, 60412, 60413, 60414, 60415, 60417, 60418, 60421, 60430, 60434, 60445, 60450, 60456, 60458, 60464, 60473, 60479, 60486, 60490, 60494, 60507, 60523, 60529, 60535, 60536, 60538, 60644, 60649, 60677, 60716, 60718, 60726, 60727, 60748, 60750, 60752, 60769, 60772, 60788, 60797, 60798, 60807, 60811, 60818, 60825, 60837, 60851, 60874, 60878, 60893, 60940, 60958, 60966, 60978, 60981, 60984, 60987, 60991, 61080, 61082, 61083, 61084, 61085, 61100, 61101, 61145, 61156, 61189, 61199, 61211, 61221, 61251, 61266, 61281, 61291, 61320, 61328, 61337, 61342, 61355, 61358, 61365, 61372, 61379, 61380, 61391, 61400, 61431, 61441, 61458, 61471, 61474, 61484, 61485, 61501, 61530, 61579, 61595, 61602, 61638, 61656, 61657, 61666, 61686, 61690, 61710, 61721, 61726, 61749, 61787, 61834, 61847, 61859, 61869, 61870, 61875, 61898, 61936, 61950, 61965, 61993, 62006, 62014, 62019, 62029, 62039, 62052, 62059, 62093, 62138, 62139, 62158, 62160, 62168, 62180, 62185, 62188, 62225, 62232, 62271, 62272, 62273, 62295, 62314, 62336, 62347, 62355, 62357, 62361, 62368, 62370, 62374, 62382, 62401, 62426, 62427, 62431, 62465, 62473, 62486, 62490, 62494, 62539, 62541, 62559, 62562, 62563, 62571, 62587, 62603, 62613, 62643, 62646, 62651, 62655, 62671, 62672, 62695, 62699, 62703, 62728, 62736, 62748, 62749, 62755, 62768, 62779, 62790, 62792, 62794, 62796, 62800, 62801, 62822, 62828, 62857, 62860, 62861, 62866, 62870, 62871, 62873, 62886, 62892, 62900, 62906, 62907, 62913, 62917, 62935, 62964, 62975, 62986, 63005, 63016, 63030, 63033, 63049, 63056, 63083, 63107, 63134, 63138, 63146, 63152, 63160, 63176, 63183, 63197, 63201, 63204, 63213, 63229, 63236, 63238, 63239, 63240, 63248, 63250, 63262, 63265, 63273, 63299, 63364, 63371, 63409, 63449, 63453, 63460, 63471, 63473, 63492, 63494, 63505, 63524, 63528, 63534, 63561, 63563, 63581, 63593, 63638, 63666, 63667, 63675, 63696, 63701, 63714, 63720, 63723, 63726, 63728, 63732, 63777, 63786, 63793, 63796, 63809, 63819, 63835, 63868, 63888, 63893, 63900, 63923, 63925, 63926, 63940, 63945, 63973, 63985, 63998, 64008, 64013, 64024, 64057, 64077, 64095, 64100, 64110, 64115, 64116, 64130, 64174, 64180, 64183, 64194, 64210, 64213, 64227, 64233, 64260, 64276, 64306, 64351, 64358, 64363, 64368, 64371, 64374, 64411, 64419, 64435, 64437, 64448, 64475, 64488, 64521, 64527, 64537, 64539, 64551, 64552, 64588, 64589, 64595, 64659, 64669, 64675, 64702, 64723, 64735, 64739, 64740, 64761, 64763, 64765, 64767, 64778, 64808, 64816, 64823, 64858, 64876, 64882, 64893, 64903, 64905, 64917, 64927, 64948, 64950, 65003, 65011, 65033, 65036, 65054, 65062, 65067, 65072, 65098, 65136, 65158, 65166, 65174, 65227, 65233, 65237, 65243, 65256, 65260, 65264, 65275, 65281, 65285, 65294, 65331, 65333, 65338, 65339, 65341, 65382, 65384, 65385, 65389, 65392, 65395, 65405, 65407, 65416, 65468, 65490, 65496, 65503, 65509, 65516, 65538, 65564, 65576, 65580, 65581, 65595, 65601, 65606, 65612, 65625, 65627, 65629, 65635, 65647, 65725, 65778, 65779, 65787, 65799, 65811, 65828, 65841, 65849, 65854, 65860, 65864, 65867, 65870, 65878, 65882, 65891, 65900, 65913, 65939, 65953, 65966, 65968, 65977, 65992, 65996, 65998, 66013, 66019, 66064, 66086, 66115, 66126, 66142, 66146, 66151, 66156, 66158, 66168, 66182, 66184, 66185, 66186, 66197, 66204, 66207, 66211, 66232, 66236, 66299, 66307, 66318, 66325, 66337, 66345, 66359, 66369, 66376, 66382, 66402, 66405, 66425, 66429, 66432, 66440, 66441, 66443, 66450, 66467, 66469, 66486, 66498, 66503, 66506, 66507, 66546, 66556, 66582, 66598, 66602, 66603, 66606, 66609, 66610, 66619, 66624, 66629, 66651, 66657, 66666, 66679, 66688, 66716, 66727, 66744, 66795, 66846, 66857, 66869, 66876, 66877, 66907, 66930, 66938, 66943, 66953, 66954, 66981, 66989, 66990, 67000, 67003, 67046, 67059, 67065, 67072, 67089, 67099, 67102, 67104, 67113, 67114, 67123, 67137, 67140, 67141, 67167, 67172, 67183, 67195, 67199, 67206, 67211, 67214, 67225, 67237, 67247, 67256, 67269, 67282, 67295, 67302, 67334, 67338, 67361, 67366, 67369, 67382, 67434, 67442, 67469, 67537, 67549, 67583, 67588, 67598, 67604, 67627, 67637, 67647, 67658, 67698, 67699, 67700, 67737, 67750, 67755, 67771, 67776, 67786, 67791, 67799, 67803, 67810, 67814, 67816, 67823, 67830, 67837, 67844, 67856, 67879, 67890, 67894, 67896, 67898, 67901, 67911, 67915, 67923, 67924, 67937, 67938, 67940, 67944, 67948, 67982, 68004, 68005, 68060, 68075, 68080, 68112, 68113, 68132, 68143, 68148, 68171, 68188, 68221, 68228, 68247, 68261, 68269, 68282, 68288, 68289, 68307, 68319, 68322, 68342, 68345, 68351, 68357, 68358, 68369, 68372, 68380, 68381, 68398, 68402, 68405, 68416, 68421, 68445, 68452, 68453, 68471, 68504, 68509, 68518, 68520, 68528, 68530, 68536, 68537, 68555, 68577, 68588, 68610, 68655, 68662, 68670, 68679, 68685, 68701, 68705, 68708, 68717, 68721, 68722, 68735, 68742, 68752, 68760, 68774, 68786, 68805, 68811, 68815, 68823, 68829, 68842, 68866, 68867, 68880, 68893, 68899, 68916, 68919, 68927, 68955, 68956, 68958, 68972, 68976, 69004, 69015, 69016, 69020, 69021, 69028, 69038, 69046, 69070, 69089, 69100, 69115, 69118, 69129, 69133, 69143, 69150, 69156, 69166, 69167, 69171, 69193, 69202, 69206, 69221, 69222, 69228, 69234, 69239, 69243, 69262, 69276, 69277, 69281, 69290, 69334, 69340, 69352, 69360, 69386, 69437, 69453, 69455, 69458, 69474, 69483, 69491, 69503, 69507, 69524, 69526, 69547, 69550, 69562, 69569, 69575, 69590, 69591, 69611, 69661, 69726, 69754, 69757, 69774, 69804, 69807, 69809, 69823, 69846, 69865, 69868, 69870, 69871, 69872, 69874, 69882, 69885, 69900, 69901, 69924, 69951, 69955, 69975, 69979, 69995, 70018, 70027, 70031, 70048, 70049, 70064, 70078, 70083, 70085, 70108, 70113, 70130, 70142, 70144, 70148, 70156, 70159, 70167, 70185, 70189, 70197, 70204, 70226, 70233, 70235, 70236, 70239, 70241, 70249, 70253, 70261, 70291, 70295, 70308, 70334, 70343, 70350, 70364, 70377, 70380, 70381, 70383, 70392, 70393, 70399, 70402, 70403, 70409, 70412, 70422, 70430, 70434, 70440, 70448, 70468, 70469, 70476, 70486, 70488, 70510, 70518, 70535, 70577, 70578, 70583, 70597, 70606, 70607, 70609, 70615, 70638, 70646, 70659, 70672, 70677, 70679, 70681, 70688, 70699, 70703, 70706, 70735, 70743, 70750, 70768, 70778, 70784, 70786, 70794, 70796, 70804, 70807, 70825, 70838, 70846, 70848, 70899, 70900, 70904, 70909, 70912, 70916, 70922, 70926, 70951, 70954, 70970, 70991, 71014, 71085, 71102, 71111, 71129, 71140, 71145, 71153, 71158, 71173, 71177, 71207, 71228, 71246, 71253, 71268, 71276, 71281, 71282, 71284, 71320, 71335, 71344, 71364, 71378, 71380, 71382, 71383, 71403, 71421, 71426, 71465, 71468, 71495, 71500, 71526, 71539, 71555, 71560, 71567, 71577, 71583, 71594, 71600, 71610, 71619, 71631, 71644, 71652, 71653, 71661, 71670, 71686, 71699, 71706, 71711, 71717, 71735, 71740, 71781, 71798, 71799, 71809, 71871, 71877, 71882, 71905, 71944, 71945, 71950, 71951, 71956, 71959, 71977, 71981, 72028, 72033, 72045, 72092, 72095, 72098, 72112, 72123, 72125, 72147, 72162, 72165, 72170, 72178, 72181, 72220, 72229, 72237, 72246, 72254, 72256, 72279, 72293, 72303, 72312, 72323, 72332, 72345, 72378, 72385, 72411, 72417, 72438, 72449, 72452, 72472, 72503, 72508, 72517, 72527, 72549, 72553, 72573, 72591, 72597, 72612, 72617, 72618, 72619, 72623, 72723, 72729, 72746, 72766, 72776, 72783, 72796, 72800, 72827, 72849, 72856, 72859, 72872, 72893, 72906, 72916, 72923, 72954, 72958, 72979, 73023, 73027, 73044, 73065, 73090, 73122, 73125, 73189, 73221, 73240, 73268, 73274, 73284, 73297, 73302, 73345, 73377, 73383, 73389, 73390, 73391, 73399, 73404, 73435, 73457, 73476, 73477, 73502, 73519, 73526, 73551, 73552, 73557, 73565, 73579, 73593, 73596, 73599, 73602, 73604, 73607, 73641, 73643, 73741, 73743, 73748, 73756, 73757, 73770, 73774, 73792, 73795, 73809, 73833, 73838, 73849, 73862, 73883, 73887, 73897, 73898, 73902, 73922, 73932, 73938, 73961, 73967, 73972, 73974, 73985, 74000, 74004, 74010, 74014, 74015, 74016, 74061, 74074, 74075, 74080, 74091, 74143, 74174, 74187, 74190, 74193, 74194, 74199, 74203, 74209, 74219, 74222, 74257, 74259, 74278, 74303, 74321, 74337, 74355, 74373, 74374, 74410, 74412, 74418, 74424, 74425, 74461, 74462, 74463, 74466, 74472, 74479, 74498, 74509, 74510, 74512, 74527, 74562, 74564, 74577, 74581, 74588, 74591, 74596, 74597, 74607, 74612, 74616, 74620, 74622, 74623, 74670, 74677, 74698, 74699, 74701, 74711, 74721, 74740, 74741, 74763, 74773, 74787, 74789, 74793, 74802, 74822, 74829, 74832, 74845, 74849, 74861, 74862, 74865, 74876, 74878, 74880, 74896, 74952, 74955, 74967, 74989, 74990, 74991, 74992, 75016, 75022, 75034, 75043, 75054, 75058, 75063, 75073, 75101, 75112, 75114, 75117, 75134, 75150, 75165, 75183, 75218, 75230, 75231, 75263, 75271, 75273, 75277, 75280, 75285, 75334, 75338, 75345, 75357, 75372, 75373, 75374, 75380, 75388, 75429, 75438, 75439, 75443, 75452, 75461, 75466, 75471, 75496, 75497, 75513, 75516, 75531, 75532, 75533, 75535, 75536, 75539, 75546, 75548, 75560, 75563, 75574, 75581, 75584, 75593, 75652, 75667, 75690, 75691, 75695, 75701, 75727, 75734, 75741, 75793, 75797, 75816, 75855, 75863, 75873, 75892, 75897, 75911, 75935, 75953, 75954, 75968, 75975, 75980, 75995, 75997, 76001, 76022, 76030, 76033, 76034, 76048, 76055, 76089, 76112, 76135, 76210, 76212, 76214, 76233, 76244, 76258, 76268, 76274, 76276, 76279, 76289, 76350, 76358, 76367, 76378, 76382, 76389, 76396, 76397, 76413, 76420, 76439, 76447, 76449, 76458, 76463, 76480, 76497, 76500, 76502, 76506, 76512, 76536, 76563, 76572, 76586, 76588, 76592, 76594, 76612, 76626, 76631, 76641, 76647, 76652, 76663, 76665, 76666, 76668, 76672, 76691, 76716, 76727, 76751, 76787, 76788, 76789, 76809, 76812, 76823, 76827, 76834, 76841, 76854, 76857, 76899, 76900, 76918, 76965, 76969, 76983, 76987, 76997, 77016, 77041, 77055, 77082, 77110, 77120, 77122, 77153, 77168, 77183, 77187, 77188, 77196, 77198, 77213, 77223, 77240, 77246, 77251, 77257, 77279, 77282, 77295, 77303, 77307, 77324, 77336, 77356, 77364, 77372, 77373, 77407, 77412, 77452, 77462, 77465, 77478, 77489, 77510, 77524, 77554, 77558, 77579, 77593, 77603, 77608, 77613, 77619, 77625, 77631, 77635, 77640, 77641, 77657, 77662, 77664, 77675, 77676, 77689, 77699, 77707, 77718, 77728, 77740, 77747, 77755, 77761, 77770, 77786, 77830, 77852, 77873, 77886, 77909, 77911, 77930, 77938, 77951, 77958, 77984, 77993, 78001, 78016, 78022, 78047, 78050, 78052, 78083, 78084, 78094, 78097, 78106, 78114, 78118, 78128, 78136, 78167, 78172, 78196, 78197, 78224, 78231, 78236, 78256, 78261, 78291, 78320, 78359, 78369, 78402, 78419, 78424, 78439, 78451, 78458, 78468, 78510, 78517, 78523, 78528, 78543, 78559, 78570, 78571, 78581, 78593, 78608, 78619, 78620, 78640, 78652, 78669, 78676, 78695, 78700, 78728, 78742, 78747, 78750, 78770, 78787, 78803, 78812, 78815, 78832, 78839, 78854, 78858, 78859, 78867, 78870, 78896, 78921, 78924, 78928, 78950, 78958, 78960, 78975, 78982, 78986, 78987, 78993, 79006, 79041, 79058, 79082, 79093, 79096, 79102, 79112, 79145, 79148, 79155, 79203, 79228, 79241, 79247, 79263, 79273, 79277, 79310, 79313, 79330, 79334, 79347, 79349, 79350, 79365, 79383, 79387, 79389, 79399, 79409, 79411, 79417, 79419, 79461, 79473, 79474, 79489, 79504, 79506, 79511, 79521, 79524, 79544, 79562, 79569, 79570, 79572, 79592, 79598, 79606, 79608, 79613, 79616, 79617, 79624, 79661, 79664, 79698, 79705, 79735, 79756, 79781, 79789, 79803, 79824, 79825, 79831, 79868, 79875, 79904, 79914, 79915, 79935, 79949, 79966, 79971, 79976, 79984, 79992, 79996, 79997, 80029, 80034, 80056, 80057, 80060, 80063, 80084, 80102, 80110, 80128, 80129, 80132, 80164, 80183, 80226, 80242, 80251, 80256, 80264, 80273, 80280, 80286, 80292, 80293, 80295, 80307, 80310, 80312, 80336, 80341, 80361, 80384, 80385, 80394, 80412, 80418, 80429, 80437, 80444, 80455, 80462, 80468, 80473, 80478, 80482, 80485, 80507, 80521, 80529, 80530, 80561, 80579, 80599, 80602, 80612, 80646, 80648, 80651, 80656, 80659, 80670, 80677, 80696, 80718, 80738, 80739, 80752, 80756, 80778, 80793, 80798, 80861, 80885, 80896, 80905, 80916, 80925, 80941, 81014, 81016, 81023, 81030, 81050, 81061, 81082, 81090, 81097, 81110, 81117, 81126, 81127, 81129, 81159, 81197, 81206, 81208, 81215, 81243, 81253, 81269, 81298, 81301, 81324, 81339, 81361, 81364, 81383, 81400, 81402, 81417, 81423, 81431, 81433, 81446, 81456, 81458, 81493, 81503, 81505, 81506, 81534, 81537, 81538, 81541, 81545, 81553, 81571, 81577, 81578, 81632, 81641, 81643, 81645, 81659, 81661, 81671, 81673, 81708, 81724, 81727, 81734, 81746, 81755, 81769, 81777, 81794, 81825, 81848, 81880, 81913, 81931, 81946, 81948, 81980, 81992, 82026, 82032, 82034, 82039, 82040, 82056, 82061, 82075, 82081, 82087, 82104, 82125, 82142, 82147, 82155, 82176, 82194, 82201, 82210, 82224, 82225, 82247, 82250, 82251, 82265, 82293, 82304, 82305, 82320, 82331, 82335, 82345, 82362, 82364, 82372, 82384, 82416, 82418, 82423, 82446, 82494, 82495, 82508, 82509, 82527, 82543, 82546, 82553, 82574, 82578, 82579, 82583, 82588, 82595, 82612, 82614, 82627, 82636, 82646, 82653, 82664, 82671, 82717, 82732, 82739, 82741, 82753, 82780, 82795, 82800, 82813, 82827, 82878, 82887, 82896, 82897, 82924, 82925, 82929, 82936, 82954, 83000, 83002, 83003, 83007, 83008, 83010, 83020, 83032, 83033, 83048, 83055, 83076, 83093, 83104, 83107, 83122, 83128, 83144, 83150, 83159, 83165, 83180, 83185, 83189, 83223, 83235, 83271, 83273, 83275, 83333, 83336, 83358, 83359, 83375, 83384, 83426, 83427, 83433, 83434, 83435, 83438, 83462, 83473, 83475, 83483, 83492, 83503, 83504, 83511, 83524, 83528, 83531, 83550, 83555, 83569, 83573, 83574, 83578, 83605, 83612, 83675, 83678, 83679, 83686, 83687, 83690, 83691, 83694, 83700, 83755, 83765, 83777, 83787, 83797, 83804, 83842, 83846, 83853, 83861, 83868, 83878, 83892, 83900, 83923, 83927, 83929, 83944, 83947, 83961, 84003, 84039, 84044, 84050, 84054, 84058, 84063, 84073, 84074, 84080, 84091, 84098, 84131, 84139, 84145, 84157, 84170, 84184, 84186, 84211, 84214, 84239, 84249, 84258, 84272, 84294, 84298, 84309, 84329, 84330, 84331, 84334, 84341, 84344, 84370, 84372, 84409, 84410, 84422, 84431, 84442, 84465, 84495, 84509, 84543, 84553, 84586, 84605, 84613, 84634, 84641, 84651, 84662, 84681, 84689, 84720, 84739, 84743, 84779, 84822, 84828, 84829, 84842, 84859, 84872, 84877, 84896, 84897, 84928, 84947, 84952, 84953, 84960, 84987, 84997, 85002, 85013, 85037, 85038, 85057, 85096, 85116, 85130, 85148, 85159, 85182, 85183, 85184, 85185, 85199, 85208, 85210, 85220, 85227, 85249, 85253, 85254, 85255, 85261, 85271, 85276, 85277, 85288, 85289, 85299, 85312, 85320, 85340, 85355, 85367, 85392, 85395, 85410, 85413, 85414, 85430, 85433, 85483, 85488, 85494, 85497, 85501, 85517, 85518, 85523, 85534, 85547, 85553, 85566, 85588, 85608, 85646, 85647, 85670, 85705, 85712, 85713, 85718, 85730, 85773, 85776, 85786, 85788, 85792, 85807, 85817, 85828, 85890, 85903, 85917, 85947, 85952, 85955, 85962, 85985, 85992, 86023, 86040, 86053, 86062, 86069, 86074, 86076, 86092, 86099, 86109, 86111, 86132, 86154, 86193, 86206, 86219, 86230, 86231, 86243, 86245, 86246, 86249, 86293, 86310, 86311, 86326, 86368, 86373, 86379, 86390, 86398, 86408, 86448, 86475, 86476, 86478, 86486, 86511, 86529, 86534, 86538, 86540, 86546, 86559, 86580, 86617, 86643, 86652, 86659, 86673, 86698, 86703, 86711, 86728, 86735, 86757, 86759, 86789, 86799, 86825, 86841, 86846, 86847, 86867, 86868, 86870, 86874, 86884, 86886, 86911, 86912, 86918, 86954, 86955, 86958, 86961, 86963, 86970, 86995, 86996, 87004, 87017, 87020, 87027, 87033, 87050, 87051, 87062, 87071, 87078, 87081, 87086, 87102, 87104, 87108, 87116, 87127, 87130, 87149, 87154, 87157, 87180, 87185, 87207, 87224, 87236, 87243, 87244, 87295, 87342, 87357, 87367, 87368, 87382, 87408, 87411, 87415, 87418, 87436, 87481, 87483, 87496, 87498, 87506, 87513, 87526, 87544, 87554, 87564, 87565, 87578, 87594, 87599, 87602, 87607, 87618, 87633, 87636, 87644, 87650, 87652, 87687, 87692, 87711, 87718, 87745, 87779, 87790, 87797, 87816, 87822, 87833, 87840, 87846, 87865, 87872, 87889, 87892, 87925, 87937, 87946, 87954, 87970, 87982, 87990, 88024, 88040, 88048, 88063, 88069, 88094, 88099, 88102, 88116, 88127, 88129, 88133, 88156, 88188, 88219, 88224, 88233, 88244, 88249, 88260, 88320, 88361, 88363, 88364, 88385, 88396, 88412, 88434, 88439, 88460, 88473, 88474, 88481, 88484, 88487, 88531, 88532, 88536, 88543, 88552, 88577, 88584, 88585, 88586, 88615, 88631, 88632, 88651, 88652, 88659, 88663, 88684, 88686, 88694, 88695, 88703, 88750, 88753, 88762, 88781, 88788, 88798, 88810, 88834, 88863, 88874, 88890, 88901, 88913, 88914, 88944, 88946, 88947, 88960, 88963, 88964, 88995, 89001, 89036, 89056, 89063, 89092, 89096, 89097, 89104, 89113, 89124, 89133, 89142, 89146, 89152, 89158, 89164, 89189, 89196, 89208, 89229, 89263, 89265, 89279, 89281, 89323, 89334, 89343, 89364, 89401, 89403, 89417, 89427, 89432, 89445, 89448, 89461, 89500, 89520, 89529, 89543, 89544, 89566, 89584, 89602, 89611, 89617, 89627, 89650, 89652, 89658, 89708, 89737, 89762, 89781, 89783, 89787, 89803, 89816, 89820, 89821, 89823, 89824, 89832, 89848, 89853, 89892, 89893, 89894, 89895, 89899, 89905, 89908, 89911, 89920, 89960, 89988, 90000, 90021, 90036, 90046, 90053, 90054, 90056, 90076, 90083, 90106, 90132, 90152, 90156, 90166, 90168, 90193, 90202, 90219, 90245, 90284, 90299, 90303, 90306, 90307, 90346, 90352, 90360, 90362, 90376, 90382, 90396, 90409, 90413, 90414, 90418, 90419, 90449, 90482, 90487, 90491, 90498, 90513, 90515, 90517, 90521, 90554, 90572, 90598, 90609, 90614, 90622, 90632, 90637, 90638, 90646, 90656, 90702, 90705, 90718, 90731, 90733, 90735, 90741, 90743, 90751, 90770, 90772, 90779, 90785, 90792, 90833, 90837, 90843, 90860, 90864, 90896, 90901, 90913, 90914, 90922, 90932, 90935, 90953, 90962, 90965, 90969, 90972, 90980, 90981, 91002, 91009, 91031, 91033, 91040, 91047, 91056, 91073, 91087, 91097, 91106, 91108, 91139, 91175, 91183, 91187, 91206, 91231, 91234, 91241, 91264, 91269, 91283, 91296, 91300, 91312, 91321, 91322, 91346, 91349, 91364, 91377, 91395, 91399, 91415, 91419, 91424, 91426, 91438, 91451, 91462, 91485, 91495, 91499, 91509, 91537, 91569, 91574, 91586, 91591, 91614, 91621, 91623, 91627, 91637, 91665, 91678, 91680, 91694, 91720, 91725, 91738, 91739, 91753, 91801, 91812, 91817, 91861, 91868, 91870, 91871, 91873, 91883, 91894, 91902, 91908, 91912, 91914, 91927, 91957, 91972, 91979, 91991, 91995, 92006, 92007, 92035, 92110, 92117, 92142, 92150, 92159, 92169, 92193, 92196, 92203, 92210, 92213, 92217, 92225, 92226, 92229, 92247, 92250, 92280, 92302, 92315, 92324, 92340, 92341, 92352, 92360, 92381, 92385, 92392, 92425, 92427, 92469, 92473, 92482, 92559, 92566, 92572, 92586, 92588, 92607, 92623, 92627, 92643, 92672, 92674, 92680, 92689, 92692, 92697, 92716, 92721, 92723, 92725, 92732, 92756, 92773, 92792, 92870, 92871, 92876, 92881, 92894, 92931, 92936, 92941, 92951, 92953, 92961, 92963, 92969, 92974, 92989, 92994, 92995, 92998, 92999, 93012, 93030, 93042, 93065, 93092, 93098, 93112, 93113, 93123, 93130, 93140, 93141, 93147, 93151, 93157, 93171, 93178, 93181, 93211, 93212, 93227, 93234, 93237, 93244, 93266, 93268, 93284, 93287, 93306, 93309, 93318, 93333, 93348, 93361, 93377, 93395, 93410, 93419, 93430, 93431, 93442, 93453, 93461, 93480, 93496, 93504, 93519, 93542, 93553, 93557, 93558, 93588, 93590, 93600, 93615, 93638, 93657, 93666, 93690, 93704, 93707, 93709, 93711, 93733, 93741, 93742, 93774, 93787, 93794, 93808, 93822, 93829, 93834, 93850, 93857, 93871, 93883, 93889, 93890, 93902, 93908, 93928, 93932, 93944, 93946, 93955, 93959, 93975, 93983, 94002, 94010, 94022, 94032, 94034, 94041, 94066, 94097, 94098, 94109, 94111, 94112, 94119, 94129, 94142, 94153, 94160, 94163, 94179, 94195, 94211, 94217, 94219, 94223, 94231, 94276, 94278, 94280, 94285, 94304, 94307, 94340, 94346, 94349, 94354, 94377, 94383, 94392, 94398, 94400, 94401, 94418, 94425, 94428, 94432, 94434, 94438, 94453, 94501, 94514, 94552, 94569, 94571, 94576, 94598, 94603, 94622, 94628, 94634, 94662, 94665, 94667, 94708, 94709, 94714, 94715, 94752, 94770, 94792, 94796, 94805, 94809, 94810, 94844, 94846, 94870, 94891, 94903, 94919, 94924, 94927, 94935, 94947, 94955, 94964, 95001, 95006, 95040, 95079, 95091, 95092, 95103, 95106, 95134, 95136, 95145, 95146, 95161, 95176, 95179, 95194, 95195, 95211, 95225, 95235, 95256, 95261, 95262, 95293, 95314, 95362, 95386, 95388, 95394, 95396, 95401, 95413, 95425, 95426, 95433, 95443, 95444, 95445, 95485, 95501, 95508, 95518, 95536, 95542, 95551, 95559, 95575, 95589, 95593, 95596, 95598, 95613, 95616, 95617, 95621, 95623, 95633, 95635, 95637, 95648, 95660, 95693, 95703, 95705, 95709, 95713, 95716, 95718, 95731, 95740, 95745, 95755, 95772, 95774, 95788, 95798, 95803, 95809, 95815, 95843, 95857, 95858, 95880, 95883, 95901, 95941, 95950, 95952, 95987, 96006, 96012, 96049, 96053, 96081, 96087, 96090, 96103, 96111, 96123, 96125, 96129, 96156, 96160, 96188, 96229, 96233, 96241, 96242, 96269, 96277, 96290, 96307, 96333, 96335, 96357, 96368, 96370, 96372, 96385, 96387, 96397, 96399, 96413, 96423, 96425, 96456, 96467, 96477, 96482, 96487, 96488, 96498, 96502, 96516, 96527, 96528, 96533, 96539, 96544, 96556, 96560, 96561, 96577, 96587, 96590, 96593, 96613, 96616, 96620, 96628, 96636, 96639, 96645, 96677, 96678, 96691, 96703, 96709, 96718, 96719, 96739, 96748, 96777, 96797, 96805, 96809, 96812, 96832, 96851, 96860, 96864, 96866, 96867, 96884, 96891, 96893, 96910, 96924, 96943, 96945, 96975, 96976, 96977, 96997, 97001, 97003, 97014, 97046, 97059, 97066, 97067, 97073, 97074, 97082, 97083, 97091, 97093, 97099, 97121, 97144, 97147, 97175, 97194, 97219, 97246, 97257, 97281, 97286, 97288, 97293, 97310, 97323, 97342, 97343, 97389, 97394, 97396, 97397, 97418, 97439, 97444, 97470, 97474, 97475, 97508, 97518, 97537, 97538, 97548, 97562, 97566, 97583, 97588, 97631, 97648, 97651, 97653, 97683, 97689, 97690, 97720, 97726, 97727, 97789, 97807, 97811, 97820, 97827, 97844, 97855, 97857, 97863, 97883, 97900, 97903, 97913, 97941, 97957, 97965, 97973, 97976, 98002, 98012, 98031, 98032, 98039, 98076, 98082, 98083, 98092, 98098, 98108, 98115, 98116, 98128, 98129, 98142, 98162, 98165, 98166, 98183, 98184, 98201, 98210, 98237, 98258, 98259, 98265, 98275, 98276, 98285, 98289, 98297, 98301, 98303, 98314, 98326, 98327, 98328, 98377, 98388, 98403, 98413, 98414, 98427, 98430, 98437, 98446, 98452, 98478, 98510, 98523, 98541, 98549, 98592, 98594, 98611, 98616, 98655, 98657, 98658, 98662, 98674, 98688, 98703, 98724, 98725, 98726, 98731, 98745, 98777, 98782, 98801, 98807, 98811, 98834, 98840, 98854, 98864, 98865, 98868, 98881, 98888, 98893, 98917, 98923, 98945, 98962, 98994, 98995, 99012, 99022, 99028, 99041, 99066, 99072, 99095, 99100, 99119, 99134, 99140, 99160, 99191, 99217, 99233, 99235, 99269, 99296, 99311, 99365, 99368, 99383, 99405, 99406, 99414, 99417, 99439, 99458, 99461, 99462, 99463, 99464, 99466, 99477, 99481, 99490, 99496, 99497, 99544, 99597, 99643, 99646, 99657, 99681, 99717, 99739, 99741, 99743, 99762, 99767, 99778, 99786, 99789, 99792, 99800, 99805, 99813, 99814, 99815, 99832, 99855, 99856, 99890, 99899, 99906, 99914, 99933, 99935, 99943, 99960, 99966, 100023, 100025, 100027, 100029, 100037, 100069, 100076, 100077, 100097, 100101, 100115, 100120, 100141, 100147, 100215, 100223, 100236, 100259, 100263, 100269, 100299, 100318, 100323, 100326, 100340, 100343, 100352, 100370, 100382, 100393, 100404, 100428, 100433, 100448, 100450, 100455, 100457, 100463, 100465, 100466, 100486, 100500, 100501, 100521, 100524, 100528, 100537, 100543, 100548, 100552, 100554, 100573, 100576, 100580, 100590, 100630, 100632, 100657, 100682, 100708, 100722, 100747, 100756, 100780, 100789, 100792, 100805, 100809, 100830, 100871, 100874, 100875, 100929, 100934, 100951, 100960, 100970, 100975, 100984, 101006, 101008, 101022, 101027, 101032, 101044, 101047, 101048, 101061, 101069, 101090, 101099, 101121, 101124, 101160, 101161, 101164, 101182, 101187, 101188, 101214, 101222, 101225, 101247, 101259, 101284, 101289, 101340, 101343, 101417, 101435, 101476, 101481, 101512, 101517, 101534, 101535, 101536, 101543, 101552, 101571, 101576, 101591, 101595, 101625, 101626, 101649, 101651, 101662, 101665, 101685, 101696, 101718, 101723, 101724, 101736, 101739, 101744, 101772, 101783, 101786, 101788, 101811, 101817, 101822, 101825, 101855, 101864, 101887, 101909, 101918, 101919, 101925, 101949, 101973, 102001, 102005, 102011, 102034, 102040, 102041, 102074, 102083, 102093, 102102, 102119, 102132, 102137, 102145, 102151, 102153, 102175, 102189, 102225, 102241, 102244, 102262, 102282, 102294, 102296, 102305, 102317, 102320, 102342, 102371, 102380, 102390, 102394, 102444, 102450, 102463, 102470, 102493, 102495, 102539, 102559, 102571, 102575, 102589, 102620, 102661, 102669, 102673, 102674, 102677, 102683, 102703, 102707, 102710, 102716, 102722, 102742, 102743, 102745, 102778, 102805, 102806, 102821, 102823, 102843, 102844, 102855, 102863, 102884, 102909, 102913, 102960, 102975, 102984, 102985, 102986, 103003, 103015, 103020, 103022, 103038, 103048, 103068, 103081, 103093, 103094, 103101, 103108, 103120, 103128, 103158, 103159, 103191, 103193, 103198, 103213, 103214, 103223, 103231, 103261, 103267, 103275, 103291, 103292, 103293, 103307, 103308, 103315, 103351, 103358, 103400, 103427, 103430, 103431, 103437, 103449, 103463, 103479, 103511, 103514, 103519, 103543, 103545, 103561, 103579, 103588, 103618, 103619, 103623, 103626, 103627, 103641, 103643, 103666, 103681, 103684, 103688, 103707, 103734, 103737, 103754, 103764, 103784, 103803, 103816, 103826, 103831, 103848, 103856, 103860, 103870, 103887, 103892, 103909, 103917, 103919, 103924, 103925, 103927, 103940, 103952, 103959, 103960, 103962, 103966, 103992, 103997, 104004, 104023, 104044, 104055, 104059, 104082, 104105, 104107, 104113, 104136, 104139, 104140, 104150, 104153, 104159, 104175, 104179, 104181, 104183, 104199, 104219, 104222, 104227, 104239, 104243, 104249, 104257, 104274, 104322, 104336, 104341, 104344, 104353, 104358, 104359, 104362, 104377, 104388, 104410, 104435, 104454, 104465, 104469, 104475, 104476, 104484, 104501, 104504, 104535, 104550, 104557, 104559, 104565, 104574, 104579, 104590, 104593, 104594, 104595, 104622, 104632, 104640, 104651, 104653, 104659, 104675, 104690, 104691, 104698, 104703, 104720, 104731, 104751, 104757, 104776, 104787, 104788, 104790, 104800, 104802, 104826, 104874, 104875, 104889, 104899, 104900, 104902, 104909, 104966, 104971, 104977, 104979, 105003, 105009, 105010, 105013, 105015, 105020, 105034, 105046, 105049, 105053, 105057, 105075, 105078, 105088, 105093, 105096, 105099, 105140, 105144, 105151, 105170, 105182, 105187, 105191, 105212, 105223, 105228, 105241, 105276, 105293, 105310, 105322, 105339, 105350, 105361, 105367, 105373, 105396, 105399, 105426, 105427, 105435, 105460, 105473, 105482, 105512, 105524, 105548, 105562, 105563, 105570, 105576, 105582, 105586, 105593, 105595, 105616, 105657, 105660, 105682, 105686, 105695, 105697, 105709, 105723, 105737, 105770, 105772, 105774, 105776, 105787, 105818, 105853, 105861, 105870, 105873, 105876, 105877, 105895, 105908, 105919, 105930, 105970, 105983, 105985, 105987, 105988, 105989, 105992, 106019, 106047, 106055, 106071, 106073, 106075, 106107, 106114, 106133, 106134, 106136, 106146, 106148, 106150, 106153, 106155, 106166, 106174, 106185, 106213, 106233, 106275, 106287, 106292, 106294, 106299, 106300, 106304, 106305, 106306, 106321, 106322, 106346, 106360, 106366, 106376, 106398, 106441, 106445, 106472, 106474, 106483, 106490, 106500, 106502, 106508, 106542, 106546, 106549, 106567, 106579, 106582, 106584, 106587, 106598, 106605, 106670, 106682, 106688, 106697, 106707, 106716, 106717, 106733, 106737, 106768, 106796, 106803, 106806, 106840, 106864, 106887, 106911, 106920, 106930, 106934, 106935, 106938, 106947, 106963, 106965, 106966, 106967, 106972, 106982, 106984, 106991, 107018, 107020, 107032, 107035, 107047, 107053, 107075, 107101, 107105, 107108, 107128, 107142, 107149, 107196, 107201, 107214, 107218, 107224, 107226, 107237, 107239, 107248, 107253, 107281, 107299, 107303, 107342, 107343, 107344, 107350, 107363, 107373, 107398, 107426, 107463, 107466, 107527, 107530, 107531, 107547, 107558, 107562, 107566, 107578, 107579, 107588, 107592, 107604, 107607, 107618, 107620, 107625, 107640, 107643, 107650, 107654, 107658, 107666, 107700, 107747, 107764, 107765, 107769, 107772, 107781, 107787, 107800, 107812, 107816, 107817, 107818, 107867, 107868, 107872, 107887, 107891, 107902, 107911, 107938, 107940, 107967, 107970, 107977, 107990, 108001, 108013, 108016, 108044, 108047, 108055, 108059, 108070, 108094, 108124, 108135, 108141, 108149, 108157, 108199, 108202, 108210, 108220, 108224, 108275, 108297, 108311, 108321, 108327, 108354, 108384, 108412, 108424, 108432, 108470, 108475, 108479, 108486, 108517, 108538, 108561, 108568, 108570, 108573, 108575, 108585, 108588, 108589, 108614, 108622, 108643, 108657, 108682, 108700, 108726, 108729, 108732, 108733, 108742, 108744, 108756, 108761, 108770, 108789, 108804, 108806, 108807, 108808, 108813, 108849, 108856, 108872, 108876, 108887, 108901, 108909, 108910, 108958, 108968, 108976, 108983, 108991, 109005, 109019, 109027, 109048, 109074, 109108, 109109, 109114, 109115, 109121, 109135, 109144, 109164, 109178, 109189, 109190, 109207, 109228, 109229, 109230, 109239, 109246, 109257, 109278, 109279, 109285, 109287, 109312, 109338, 109359, 109363, 109369, 109372, 109374, 109384, 109385, 109411, 109432, 109445, 109457, 109478, 109479, 109487, 109495, 109505, 109532, 109539, 109599, 109613, 109621, 109631, 109634, 109659, 109660, 109662, 109675, 109678, 109704, 109726, 109733, 109735, 109738, 109748, 109749, 109757, 109784, 109791, 109795, 109800, 109806, 109807, 109811, 109812, 109815, 109826, 109829, 109848, 109856, 109861, 109867, 109874, 109879, 109887, 109904, 109910, 109924, 109939, 109947, 109958, 109967, 110000, 110032, 110081, 110084, 110095, 110099, 110117, 110127, 110143, 110155, 110190, 110199, 110231, 110232, 110235, 110242, 110267, 110269, 110279, 110297, 110315, 110324, 110330, 110335, 110365, 110370, 110394, 110423, 110424, 110437, 110441, 110442, 110470, 110481, 110488, 110493, 110498, 110514, 110516, 110532, 110544, 110546, 110550, 110578, 110593, 110624, 110631, 110634, 110642, 110665, 110667, 110673, 110702, 110723, 110724, 110728, 110733, 110739, 110756, 110792, 110794, 110805, 110809, 110814, 110826, 110827, 110829, 110858, 110868, 110875, 110883, 110902, 110920, 110933, 110934, 110949, 110952, 110973, 110987, 111012, 111013, 111021, 111029, 111049, 111050, 111063, 111078, 111089, 111111, 111141, 111184, 111190, 111193, 111202, 111209, 111211, 111214, 111222, 111227, 111230, 111232, 111238, 111239, 111275, 111278, 111281, 111300, 111309, 111337, 111382, 111394, 111431, 111435, 111455, 111464, 111471, 111480, 111484, 111494, 111501, 111509, 111513, 111517, 111520, 111547, 111551, 111553, 111590, 111607, 111608, 111621, 111627, 111629, 111631, 111632, 111654, 111669, 111698, 111699, 111738, 111751, 111757, 111777, 111786, 111804, 111831, 111837, 111849, 111882, 111891, 111903, 111934, 111942, 111947, 111948, 111949, 111966, 111979, 111998, 111999, 112009, 112025, 112035, 112050, 112053, 112067, 112077, 112088, 112094, 112107, 112122, 112123, 112124, 112128, 112133, 112141, 112143, 112146, 112147, 112153, 112159, 112185, 112186, 112187, 112193, 112194, 112196, 112197, 112203, 112224, 112237, 112238, 112259, 112260, 112290, 112301, 112303, 112313, 112347, 112358, 112366, 112414, 112417, 112419, 112432, 112459, 112471, 112472, 112474, 112496, 112502, 112516, 112528, 112531, 112550, 112553, 112555, 112560, 112563, 112569, 112572, 112594, 112597, 112598, 112605, 112612, 112614, 112618, 112619, 112621, 112623, 112628, 112634, 112635, 112656, 112665, 112680, 112716, 112724, 112748, 112749, 112753, 112761, 112768, 112771, 112777, 112811, 112819, 112841, 112889, 112922, 112947, 112960, 112975, 112989, 113006, 113018, 113019, 113035, 113037, 113047, 113048, 113050, 113056, 113058, 113077, 113090, 113104, 113111, 113160, 113175, 113198, 113200, 113207, 113217, 113229, 113237, 113239, 113240, 113249, 113256, 113257, 113270, 113276, 113292, 113314, 113315, 113325, 113348, 113349, 113350, 113356, 113363, 113378, 113390, 113417, 113418, 113422, 113439, 113440, 113459, 113464, 113466, 113487, 113490, 113501, 113503, 113522, 113527, 113544, 113560, 113576, 113591, 113601, 113626, 113628, 113638, 113644, 113653, 113654, 113656, 113663, 113665, 113669, 113675, 113706, 113719, 113726, 113727, 113728, 113750, 113753, 113773, 113777, 113805, 113811, 113815, 113823, 113826, 113828, 113841, 113849, 113873, 113905, 113927, 113944, 113949, 113960, 113980, 113991, 113994, 114010, 114013, 114017, 114026, 114029, 114031, 114032, 114038]\n",
      "(12000,)\n"
     ]
    }
   ],
   "source": [
    "train_indicies = sorted(train_indicies)\n",
    "print(train_indicies)\n",
    "print(olist_class2.index.shape)\n",
    "#print(olist_class.iloc[70488])"
   ]
  },
  {
   "cell_type": "code",
   "execution_count": 256,
   "id": "a4aa5b42",
   "metadata": {},
   "outputs": [
    {
     "ename": "IndexingError",
     "evalue": "Too many indexers",
     "output_type": "error",
     "traceback": [
      "\u001b[1;31m---------------------------------------------------------------------------\u001b[0m",
      "\u001b[1;31mIndexingError\u001b[0m                             Traceback (most recent call last)",
      "\u001b[1;32m<ipython-input-256-55e11041ada9>\u001b[0m in \u001b[0;36m<module>\u001b[1;34m\u001b[0m\n\u001b[0;32m      6\u001b[0m \u001b[1;33m\u001b[0m\u001b[0m\n\u001b[0;32m      7\u001b[0m \u001b[1;31m# make a dataframe of the training data\u001b[0m\u001b[1;33m\u001b[0m\u001b[1;33m\u001b[0m\u001b[1;33m\u001b[0m\u001b[0m\n\u001b[1;32m----> 8\u001b[1;33m \u001b[0mdf_tested_on\u001b[0m \u001b[1;33m=\u001b[0m  \u001b[0molist_class2\u001b[0m\u001b[1;33m.\u001b[0m\u001b[0miloc\u001b[0m\u001b[1;33m[\u001b[0m\u001b[0mtrain_indices\u001b[0m\u001b[1;33m,\u001b[0m\u001b[1;33m:\u001b[0m\u001b[1;33m]\u001b[0m\u001b[1;33m.\u001b[0m\u001b[0mcopy\u001b[0m\u001b[1;33m(\u001b[0m\u001b[1;33m)\u001b[0m \u001b[1;31m# saved from above, the indices chosen for training\u001b[0m\u001b[1;33m\u001b[0m\u001b[1;33m\u001b[0m\u001b[0m\n\u001b[0m\u001b[0;32m      9\u001b[0m \u001b[1;31m# now get the support vectors from the trained model\u001b[0m\u001b[1;33m\u001b[0m\u001b[1;33m\u001b[0m\u001b[1;33m\u001b[0m\u001b[0m\n\u001b[0;32m     10\u001b[0m \u001b[0mdf_support\u001b[0m \u001b[1;33m=\u001b[0m \u001b[0mdf_tested_on\u001b[0m\u001b[1;33m.\u001b[0m\u001b[0miloc\u001b[0m\u001b[1;33m[\u001b[0m\u001b[0msvm_clf\u001b[0m\u001b[1;33m.\u001b[0m\u001b[0msupport_\u001b[0m\u001b[1;33m,\u001b[0m\u001b[1;33m:\u001b[0m\u001b[1;33m]\u001b[0m\u001b[1;33m.\u001b[0m\u001b[0mcopy\u001b[0m\u001b[1;33m(\u001b[0m\u001b[1;33m)\u001b[0m\u001b[1;33m\u001b[0m\u001b[1;33m\u001b[0m\u001b[0m\n",
      "\u001b[1;32m~\\anaconda3\\envs\\ML\\lib\\site-packages\\pandas\\core\\indexing.py\u001b[0m in \u001b[0;36m__getitem__\u001b[1;34m(self, key)\u001b[0m\n\u001b[0;32m    887\u001b[0m                     \u001b[1;31m# AttributeError for IntervalTree get_value\u001b[0m\u001b[1;33m\u001b[0m\u001b[1;33m\u001b[0m\u001b[1;33m\u001b[0m\u001b[0m\n\u001b[0;32m    888\u001b[0m                     \u001b[1;32mreturn\u001b[0m \u001b[0mself\u001b[0m\u001b[1;33m.\u001b[0m\u001b[0mobj\u001b[0m\u001b[1;33m.\u001b[0m\u001b[0m_get_value\u001b[0m\u001b[1;33m(\u001b[0m\u001b[1;33m*\u001b[0m\u001b[0mkey\u001b[0m\u001b[1;33m,\u001b[0m \u001b[0mtakeable\u001b[0m\u001b[1;33m=\u001b[0m\u001b[0mself\u001b[0m\u001b[1;33m.\u001b[0m\u001b[0m_takeable\u001b[0m\u001b[1;33m)\u001b[0m\u001b[1;33m\u001b[0m\u001b[1;33m\u001b[0m\u001b[0m\n\u001b[1;32m--> 889\u001b[1;33m             \u001b[1;32mreturn\u001b[0m \u001b[0mself\u001b[0m\u001b[1;33m.\u001b[0m\u001b[0m_getitem_tuple\u001b[0m\u001b[1;33m(\u001b[0m\u001b[0mkey\u001b[0m\u001b[1;33m)\u001b[0m\u001b[1;33m\u001b[0m\u001b[1;33m\u001b[0m\u001b[0m\n\u001b[0m\u001b[0;32m    890\u001b[0m         \u001b[1;32melse\u001b[0m\u001b[1;33m:\u001b[0m\u001b[1;33m\u001b[0m\u001b[1;33m\u001b[0m\u001b[0m\n\u001b[0;32m    891\u001b[0m             \u001b[1;31m# we by definition only have the 0th axis\u001b[0m\u001b[1;33m\u001b[0m\u001b[1;33m\u001b[0m\u001b[1;33m\u001b[0m\u001b[0m\n",
      "\u001b[1;32m~\\anaconda3\\envs\\ML\\lib\\site-packages\\pandas\\core\\indexing.py\u001b[0m in \u001b[0;36m_getitem_tuple\u001b[1;34m(self, tup)\u001b[0m\n\u001b[0;32m   1448\u001b[0m     \u001b[1;32mdef\u001b[0m \u001b[0m_getitem_tuple\u001b[0m\u001b[1;33m(\u001b[0m\u001b[0mself\u001b[0m\u001b[1;33m,\u001b[0m \u001b[0mtup\u001b[0m\u001b[1;33m:\u001b[0m \u001b[0mTuple\u001b[0m\u001b[1;33m)\u001b[0m\u001b[1;33m:\u001b[0m\u001b[1;33m\u001b[0m\u001b[1;33m\u001b[0m\u001b[0m\n\u001b[0;32m   1449\u001b[0m \u001b[1;33m\u001b[0m\u001b[0m\n\u001b[1;32m-> 1450\u001b[1;33m         \u001b[0mself\u001b[0m\u001b[1;33m.\u001b[0m\u001b[0m_has_valid_tuple\u001b[0m\u001b[1;33m(\u001b[0m\u001b[0mtup\u001b[0m\u001b[1;33m)\u001b[0m\u001b[1;33m\u001b[0m\u001b[1;33m\u001b[0m\u001b[0m\n\u001b[0m\u001b[0;32m   1451\u001b[0m         \u001b[1;32mwith\u001b[0m \u001b[0msuppress\u001b[0m\u001b[1;33m(\u001b[0m\u001b[0mIndexingError\u001b[0m\u001b[1;33m)\u001b[0m\u001b[1;33m:\u001b[0m\u001b[1;33m\u001b[0m\u001b[1;33m\u001b[0m\u001b[0m\n\u001b[0;32m   1452\u001b[0m             \u001b[1;32mreturn\u001b[0m \u001b[0mself\u001b[0m\u001b[1;33m.\u001b[0m\u001b[0m_getitem_lowerdim\u001b[0m\u001b[1;33m(\u001b[0m\u001b[0mtup\u001b[0m\u001b[1;33m)\u001b[0m\u001b[1;33m\u001b[0m\u001b[1;33m\u001b[0m\u001b[0m\n",
      "\u001b[1;32m~\\anaconda3\\envs\\ML\\lib\\site-packages\\pandas\\core\\indexing.py\u001b[0m in \u001b[0;36m_has_valid_tuple\u001b[1;34m(self, key)\u001b[0m\n\u001b[0;32m    721\u001b[0m         \u001b[1;32mfor\u001b[0m \u001b[0mi\u001b[0m\u001b[1;33m,\u001b[0m \u001b[0mk\u001b[0m \u001b[1;32min\u001b[0m \u001b[0menumerate\u001b[0m\u001b[1;33m(\u001b[0m\u001b[0mkey\u001b[0m\u001b[1;33m)\u001b[0m\u001b[1;33m:\u001b[0m\u001b[1;33m\u001b[0m\u001b[1;33m\u001b[0m\u001b[0m\n\u001b[0;32m    722\u001b[0m             \u001b[1;32mtry\u001b[0m\u001b[1;33m:\u001b[0m\u001b[1;33m\u001b[0m\u001b[1;33m\u001b[0m\u001b[0m\n\u001b[1;32m--> 723\u001b[1;33m                 \u001b[0mself\u001b[0m\u001b[1;33m.\u001b[0m\u001b[0m_validate_key\u001b[0m\u001b[1;33m(\u001b[0m\u001b[0mk\u001b[0m\u001b[1;33m,\u001b[0m \u001b[0mi\u001b[0m\u001b[1;33m)\u001b[0m\u001b[1;33m\u001b[0m\u001b[1;33m\u001b[0m\u001b[0m\n\u001b[0m\u001b[0;32m    724\u001b[0m             \u001b[1;32mexcept\u001b[0m \u001b[0mValueError\u001b[0m \u001b[1;32mas\u001b[0m \u001b[0merr\u001b[0m\u001b[1;33m:\u001b[0m\u001b[1;33m\u001b[0m\u001b[1;33m\u001b[0m\u001b[0m\n\u001b[0;32m    725\u001b[0m                 raise ValueError(\n",
      "\u001b[1;32m~\\anaconda3\\envs\\ML\\lib\\site-packages\\pandas\\core\\indexing.py\u001b[0m in \u001b[0;36m_validate_key\u001b[1;34m(self, key, axis)\u001b[0m\n\u001b[0;32m   1360\u001b[0m             \u001b[1;31m# a tuple should already have been caught by this point\u001b[0m\u001b[1;33m\u001b[0m\u001b[1;33m\u001b[0m\u001b[1;33m\u001b[0m\u001b[0m\n\u001b[0;32m   1361\u001b[0m             \u001b[1;31m# so don't treat a tuple as a valid indexer\u001b[0m\u001b[1;33m\u001b[0m\u001b[1;33m\u001b[0m\u001b[1;33m\u001b[0m\u001b[0m\n\u001b[1;32m-> 1362\u001b[1;33m             \u001b[1;32mraise\u001b[0m \u001b[0mIndexingError\u001b[0m\u001b[1;33m(\u001b[0m\u001b[1;34m\"Too many indexers\"\u001b[0m\u001b[1;33m)\u001b[0m\u001b[1;33m\u001b[0m\u001b[1;33m\u001b[0m\u001b[0m\n\u001b[0m\u001b[0;32m   1363\u001b[0m         \u001b[1;32melif\u001b[0m \u001b[0mis_list_like_indexer\u001b[0m\u001b[1;33m(\u001b[0m\u001b[0mkey\u001b[0m\u001b[1;33m)\u001b[0m\u001b[1;33m:\u001b[0m\u001b[1;33m\u001b[0m\u001b[1;33m\u001b[0m\u001b[0m\n\u001b[0;32m   1364\u001b[0m             \u001b[0marr\u001b[0m \u001b[1;33m=\u001b[0m \u001b[0mnp\u001b[0m\u001b[1;33m.\u001b[0m\u001b[0marray\u001b[0m\u001b[1;33m(\u001b[0m\u001b[0mkey\u001b[0m\u001b[1;33m)\u001b[0m\u001b[1;33m\u001b[0m\u001b[1;33m\u001b[0m\u001b[0m\n",
      "\u001b[1;31mIndexingError\u001b[0m: Too many indexers"
     ]
    }
   ],
   "source": [
    "import numpy as np\n",
    "# Now let's do some different analysis with the SVM and look at the instances that were chosen as support vectors\n",
    "\n",
    "# now lets look at the support for the vectors and see if we they are indicative of anything\n",
    "# grabe the rows that were selected as support vectors (these are usually instances that are hard to classify)\n",
    "\n",
    "# make a dataframe of the training data\n",
    "df_tested_on =  olist_class2.iloc[train_indices,:].copy() # saved from above, the indices chosen for training\n",
    "# now get the support vectors from the trained model\n",
    "df_support = df_tested_on.iloc[svm_clf.support_,:].copy()\n",
    "\n",
    "df_support['delivery_estimate_discrepancy'] = y[svm_clf.support_] # add back in the 'Survived' Column to the pandas dataframe\n",
    "X['delivery_estimate_discrepancy'] = y # also add it back in for the original data\n",
    "df_support.info()"
   ]
  }
 ],
 "metadata": {
  "kernelspec": {
   "display_name": "Python 3",
   "language": "python",
   "name": "python3"
  },
  "language_info": {
   "codemirror_mode": {
    "name": "ipython",
    "version": 3
   },
   "file_extension": ".py",
   "mimetype": "text/x-python",
   "name": "python",
   "nbconvert_exporter": "python",
   "pygments_lexer": "ipython3",
   "version": "3.8.10"
  }
 },
 "nbformat": 4,
 "nbformat_minor": 5
}
