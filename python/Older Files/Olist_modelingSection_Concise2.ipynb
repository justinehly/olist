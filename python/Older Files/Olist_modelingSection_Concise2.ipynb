{
 "cells": [
  {
   "cell_type": "markdown",
   "id": "531f89ba",
   "metadata": {},
   "source": [
    "# Metadata\n",
    "\n",
    "This exercise seeks to fit **logistic**  and **Support Vector Machine** model to the *Olist e-commerce* dataset. We will develop a base classifier for this model and subsequently tune the hyperparameters for possible improvement to the performance metrics (i.e. Accuracy, Precision, F-Score and Sensitivity).\n",
    "This modeling phase will utilize the 'clean' dataset that was processed for the visualization task. The **derived** response for the objective is actual delivery duration. Therefore the predictive model will predict actual delivery duration with performance measured on the held out test set. "
   ]
  },
  {
   "cell_type": "code",
   "execution_count": 1,
   "id": "d91a2400",
   "metadata": {},
   "outputs": [],
   "source": [
    "# set up environment\n",
    "import numpy as np\n",
    "import pandas as pd\n",
    "import os\n",
    "from datetime import datetime as dt\n",
    "import matplotlib.pyplot as plt\n",
    "import seaborn as sns\n"
   ]
  },
  {
   "cell_type": "code",
   "execution_count": 2,
   "id": "d13f2be2",
   "metadata": {},
   "outputs": [
    {
     "data": {
      "text/plain": [
       "'C:\\\\Users\\\\olani\\\\OneDrive\\\\Documents\\\\Data Science\\\\SMU-Data Science\\\\Machine Learning 1\\\\Olist_Dataset'"
      ]
     },
     "execution_count": 2,
     "metadata": {},
     "output_type": "execute_result"
    }
   ],
   "source": [
    "# change working directory\n",
    "os.chdir(r\"C:\\Users\\olani\\OneDrive\\Documents\\Data Science\\SMU-Data Science\\Machine Learning 1\\Olist_Dataset\")\n",
    "#\"C:\\Users\\olani\\OneDrive\\Documents\\Data Science\\SMU-Data Science\\Machine Learning 1\\Olist_Dataset\"\n",
    "\n",
    "# get current working directory\n",
    "os.getcwd()"
   ]
  },
  {
   "cell_type": "code",
   "execution_count": 3,
   "id": "ffb0e8bd",
   "metadata": {},
   "outputs": [],
   "source": [
    "# set up some colors and text attributes to markdown\n",
    "class color:\n",
    "   PURPLE = '\\033[95m'\n",
    "   CYAN = '\\033[96m'\n",
    "   DARKCYAN = '\\033[36m'\n",
    "   BLUE = '\\033[94m'\n",
    "   GREEN = '\\033[92m'\n",
    "   YELLOW = '\\033[93m'\n",
    "   RED = '\\033[91m'\n",
    "   BOLD = '\\033[1m'\n",
    "   UNDERLINE = '\\033[4m'\n",
    "   END = '\\033[0m'"
   ]
  },
  {
   "cell_type": "code",
   "execution_count": 4,
   "id": "1139924b",
   "metadata": {},
   "outputs": [
    {
     "data": {
      "text/html": [
       "<div>\n",
       "<style scoped>\n",
       "    .dataframe tbody tr th:only-of-type {\n",
       "        vertical-align: middle;\n",
       "    }\n",
       "\n",
       "    .dataframe tbody tr th {\n",
       "        vertical-align: top;\n",
       "    }\n",
       "\n",
       "    .dataframe thead th {\n",
       "        text-align: right;\n",
       "    }\n",
       "</style>\n",
       "<table border=\"1\" class=\"dataframe\">\n",
       "  <thead>\n",
       "    <tr style=\"text-align: right;\">\n",
       "      <th></th>\n",
       "      <th>order_id</th>\n",
       "      <th>customer_id</th>\n",
       "      <th>order_purchase_timestamp</th>\n",
       "      <th>order_approved_at</th>\n",
       "      <th>order_delivered_carrier_date</th>\n",
       "      <th>order_delivered_customer_date</th>\n",
       "      <th>order_estimated_delivery_date</th>\n",
       "      <th>customer_unique_id</th>\n",
       "      <th>customer_zip_code_prefix</th>\n",
       "      <th>customer_city</th>\n",
       "      <th>...</th>\n",
       "      <th>seller_state</th>\n",
       "      <th>tot_order_amt</th>\n",
       "      <th>purchase_wk_day</th>\n",
       "      <th>purchase_month</th>\n",
       "      <th>order_delivery_actual_duration</th>\n",
       "      <th>order_delivery_estimated_duration</th>\n",
       "      <th>delivery_estimate_discrepancy</th>\n",
       "      <th>product_dimensions</th>\n",
       "      <th>delivery_est_discrepancy_range</th>\n",
       "      <th>review_score_class</th>\n",
       "    </tr>\n",
       "  </thead>\n",
       "  <tbody>\n",
       "    <tr>\n",
       "      <th>0</th>\n",
       "      <td>b81ef226f3fe1789b1e8b2acac839d17</td>\n",
       "      <td>0a8556ac6be836b46b3e89920d59291c</td>\n",
       "      <td>2018-04-25 22:01:49</td>\n",
       "      <td>2018-04-25 22:15:09</td>\n",
       "      <td>2018-05-02 15:20:00</td>\n",
       "      <td>2018-05-09 17:36:51</td>\n",
       "      <td>2018-05-22 00:00:00</td>\n",
       "      <td>708ab75d2a007f0564aedd11139c7708</td>\n",
       "      <td>39801</td>\n",
       "      <td>teofilo otoni</td>\n",
       "      <td>...</td>\n",
       "      <td>SP</td>\n",
       "      <td>99.33</td>\n",
       "      <td>Wednesday</td>\n",
       "      <td>April</td>\n",
       "      <td>13</td>\n",
       "      <td>26</td>\n",
       "      <td>13</td>\n",
       "      <td>7803.0</td>\n",
       "      <td>too early</td>\n",
       "      <td>bad</td>\n",
       "    </tr>\n",
       "    <tr>\n",
       "      <th>1</th>\n",
       "      <td>a9810da82917af2d9aefd1278f1dcfa0</td>\n",
       "      <td>f2c7fc58a9de810828715166c672f10a</td>\n",
       "      <td>2018-06-26 11:01:38</td>\n",
       "      <td>2018-06-26 11:18:58</td>\n",
       "      <td>2018-06-28 14:18:00</td>\n",
       "      <td>2018-06-29 20:32:09</td>\n",
       "      <td>2018-07-16 00:00:00</td>\n",
       "      <td>a8b9d3a27068454b1c98cc67d4e31e6f</td>\n",
       "      <td>2422</td>\n",
       "      <td>sao paulo</td>\n",
       "      <td>...</td>\n",
       "      <td>SP</td>\n",
       "      <td>24.39</td>\n",
       "      <td>Tuesday</td>\n",
       "      <td>June</td>\n",
       "      <td>3</td>\n",
       "      <td>19</td>\n",
       "      <td>16</td>\n",
       "      <td>1056.0</td>\n",
       "      <td>too early</td>\n",
       "      <td>good</td>\n",
       "    </tr>\n",
       "    <tr>\n",
       "      <th>2</th>\n",
       "      <td>25e8ea4e93396b6fa0d3dd708e76c1bd</td>\n",
       "      <td>25b14b69de0b6e184ae6fe2755e478f9</td>\n",
       "      <td>2017-12-12 11:19:55</td>\n",
       "      <td>2017-12-14 09:52:34</td>\n",
       "      <td>2017-12-15 20:13:22</td>\n",
       "      <td>2017-12-18 17:24:41</td>\n",
       "      <td>2018-01-04 00:00:00</td>\n",
       "      <td>6f70c0b2f7552832ba46eb57b1c5651e</td>\n",
       "      <td>2652</td>\n",
       "      <td>sao paulo</td>\n",
       "      <td>...</td>\n",
       "      <td>SP</td>\n",
       "      <td>65.71</td>\n",
       "      <td>Tuesday</td>\n",
       "      <td>December</td>\n",
       "      <td>4</td>\n",
       "      <td>20</td>\n",
       "      <td>16</td>\n",
       "      <td>3360.0</td>\n",
       "      <td>too early</td>\n",
       "      <td>good</td>\n",
       "    </tr>\n",
       "    <tr>\n",
       "      <th>3</th>\n",
       "      <td>ba78997921bbcdc1373bb41e913ab953</td>\n",
       "      <td>7a5d8efaaa1081f800628c30d2b0728f</td>\n",
       "      <td>2017-12-06 12:04:06</td>\n",
       "      <td>2017-12-06 12:13:20</td>\n",
       "      <td>2017-12-07 20:28:28</td>\n",
       "      <td>2017-12-21 01:35:51</td>\n",
       "      <td>2018-01-04 00:00:00</td>\n",
       "      <td>87695ed086ebd36f20404c82d20fca87</td>\n",
       "      <td>36060</td>\n",
       "      <td>juiz de fora</td>\n",
       "      <td>...</td>\n",
       "      <td>SP</td>\n",
       "      <td>107.78</td>\n",
       "      <td>Wednesday</td>\n",
       "      <td>December</td>\n",
       "      <td>14</td>\n",
       "      <td>28</td>\n",
       "      <td>14</td>\n",
       "      <td>3080.0</td>\n",
       "      <td>too early</td>\n",
       "      <td>good</td>\n",
       "    </tr>\n",
       "    <tr>\n",
       "      <th>4</th>\n",
       "      <td>ba78997921bbcdc1373bb41e913ab953</td>\n",
       "      <td>7a5d8efaaa1081f800628c30d2b0728f</td>\n",
       "      <td>2017-12-06 12:04:06</td>\n",
       "      <td>2017-12-06 12:13:20</td>\n",
       "      <td>2017-12-07 20:28:28</td>\n",
       "      <td>2017-12-21 01:35:51</td>\n",
       "      <td>2018-01-04 00:00:00</td>\n",
       "      <td>87695ed086ebd36f20404c82d20fca87</td>\n",
       "      <td>36060</td>\n",
       "      <td>juiz de fora</td>\n",
       "      <td>...</td>\n",
       "      <td>SP</td>\n",
       "      <td>107.78</td>\n",
       "      <td>Wednesday</td>\n",
       "      <td>December</td>\n",
       "      <td>14</td>\n",
       "      <td>28</td>\n",
       "      <td>14</td>\n",
       "      <td>3080.0</td>\n",
       "      <td>too early</td>\n",
       "      <td>good</td>\n",
       "    </tr>\n",
       "  </tbody>\n",
       "</table>\n",
       "<p>5 rows × 47 columns</p>\n",
       "</div>"
      ],
      "text/plain": [
       "                           order_id                       customer_id  \\\n",
       "0  b81ef226f3fe1789b1e8b2acac839d17  0a8556ac6be836b46b3e89920d59291c   \n",
       "1  a9810da82917af2d9aefd1278f1dcfa0  f2c7fc58a9de810828715166c672f10a   \n",
       "2  25e8ea4e93396b6fa0d3dd708e76c1bd  25b14b69de0b6e184ae6fe2755e478f9   \n",
       "3  ba78997921bbcdc1373bb41e913ab953  7a5d8efaaa1081f800628c30d2b0728f   \n",
       "4  ba78997921bbcdc1373bb41e913ab953  7a5d8efaaa1081f800628c30d2b0728f   \n",
       "\n",
       "  order_purchase_timestamp    order_approved_at order_delivered_carrier_date  \\\n",
       "0      2018-04-25 22:01:49  2018-04-25 22:15:09          2018-05-02 15:20:00   \n",
       "1      2018-06-26 11:01:38  2018-06-26 11:18:58          2018-06-28 14:18:00   \n",
       "2      2017-12-12 11:19:55  2017-12-14 09:52:34          2017-12-15 20:13:22   \n",
       "3      2017-12-06 12:04:06  2017-12-06 12:13:20          2017-12-07 20:28:28   \n",
       "4      2017-12-06 12:04:06  2017-12-06 12:13:20          2017-12-07 20:28:28   \n",
       "\n",
       "  order_delivered_customer_date order_estimated_delivery_date  \\\n",
       "0           2018-05-09 17:36:51           2018-05-22 00:00:00   \n",
       "1           2018-06-29 20:32:09           2018-07-16 00:00:00   \n",
       "2           2017-12-18 17:24:41           2018-01-04 00:00:00   \n",
       "3           2017-12-21 01:35:51           2018-01-04 00:00:00   \n",
       "4           2017-12-21 01:35:51           2018-01-04 00:00:00   \n",
       "\n",
       "                 customer_unique_id  customer_zip_code_prefix  customer_city  \\\n",
       "0  708ab75d2a007f0564aedd11139c7708                     39801  teofilo otoni   \n",
       "1  a8b9d3a27068454b1c98cc67d4e31e6f                      2422      sao paulo   \n",
       "2  6f70c0b2f7552832ba46eb57b1c5651e                      2652      sao paulo   \n",
       "3  87695ed086ebd36f20404c82d20fca87                     36060   juiz de fora   \n",
       "4  87695ed086ebd36f20404c82d20fca87                     36060   juiz de fora   \n",
       "\n",
       "   ... seller_state tot_order_amt  purchase_wk_day purchase_month  \\\n",
       "0  ...           SP         99.33        Wednesday          April   \n",
       "1  ...           SP         24.39          Tuesday           June   \n",
       "2  ...           SP         65.71          Tuesday       December   \n",
       "3  ...           SP        107.78        Wednesday       December   \n",
       "4  ...           SP        107.78        Wednesday       December   \n",
       "\n",
       "  order_delivery_actual_duration order_delivery_estimated_duration  \\\n",
       "0                             13                                26   \n",
       "1                              3                                19   \n",
       "2                              4                                20   \n",
       "3                             14                                28   \n",
       "4                             14                                28   \n",
       "\n",
       "  delivery_estimate_discrepancy  product_dimensions  \\\n",
       "0                            13              7803.0   \n",
       "1                            16              1056.0   \n",
       "2                            16              3360.0   \n",
       "3                            14              3080.0   \n",
       "4                            14              3080.0   \n",
       "\n",
       "  delivery_est_discrepancy_range  review_score_class  \n",
       "0                      too early                 bad  \n",
       "1                      too early                good  \n",
       "2                      too early                good  \n",
       "3                      too early                good  \n",
       "4                      too early                good  \n",
       "\n",
       "[5 rows x 47 columns]"
      ]
     },
     "execution_count": 4,
     "metadata": {},
     "output_type": "execute_result"
    }
   ],
   "source": [
    "olist = pd.read_csv('olist_clean.csv')\n",
    "olist.head()"
   ]
  },
  {
   "cell_type": "code",
   "execution_count": 5,
   "id": "1631c4a5",
   "metadata": {},
   "outputs": [
    {
     "name": "stdout",
     "output_type": "stream",
     "text": [
      "<class 'pandas.core.frame.DataFrame'>\n",
      "RangeIndex: 114067 entries, 0 to 114066\n",
      "Data columns (total 47 columns):\n",
      " #   Column                             Non-Null Count   Dtype  \n",
      "---  ------                             --------------   -----  \n",
      " 0   order_id                           114067 non-null  object \n",
      " 1   customer_id                        114067 non-null  object \n",
      " 2   order_purchase_timestamp           114067 non-null  object \n",
      " 3   order_approved_at                  114067 non-null  object \n",
      " 4   order_delivered_carrier_date       114067 non-null  object \n",
      " 5   order_delivered_customer_date      114067 non-null  object \n",
      " 6   order_estimated_delivery_date      114067 non-null  object \n",
      " 7   customer_unique_id                 114067 non-null  object \n",
      " 8   customer_zip_code_prefix           114067 non-null  int64  \n",
      " 9   customer_city                      114067 non-null  object \n",
      " 10  customer_state                     114067 non-null  object \n",
      " 11  review_id                          114067 non-null  object \n",
      " 12  review_score                       114067 non-null  float64\n",
      " 13  review_comment_title               13661 non-null   object \n",
      " 14  review_comment_message             48220 non-null   object \n",
      " 15  review_creation_date               114067 non-null  object \n",
      " 16  review_answer_timestamp            114067 non-null  object \n",
      " 17  payment_sequential                 114067 non-null  float64\n",
      " 18  payment_type                       114067 non-null  object \n",
      " 19  payment_installments               114067 non-null  float64\n",
      " 20  payment_value                      114067 non-null  float64\n",
      " 21  order_item_id                      114067 non-null  float64\n",
      " 22  product_id                         114067 non-null  object \n",
      " 23  seller_id                          114067 non-null  object \n",
      " 24  shipping_limit_date                114067 non-null  object \n",
      " 25  price                              114067 non-null  float64\n",
      " 26  freight_value                      114067 non-null  float64\n",
      " 27  product_name_lenght                114067 non-null  float64\n",
      " 28  product_description_lenght         114067 non-null  float64\n",
      " 29  product_photos_qty                 114067 non-null  float64\n",
      " 30  product_weight_g                   114066 non-null  float64\n",
      " 31  product_length_cm                  114066 non-null  float64\n",
      " 32  product_height_cm                  114066 non-null  float64\n",
      " 33  product_width_cm                   114066 non-null  float64\n",
      " 34  product_category_english           114067 non-null  object \n",
      " 35  seller_zip_code_prefix             114067 non-null  float64\n",
      " 36  seller_city                        114067 non-null  object \n",
      " 37  seller_state                       114067 non-null  object \n",
      " 38  tot_order_amt                      114067 non-null  float64\n",
      " 39  purchase_wk_day                    114067 non-null  object \n",
      " 40  purchase_month                     114067 non-null  object \n",
      " 41  order_delivery_actual_duration     114067 non-null  int64  \n",
      " 42  order_delivery_estimated_duration  114067 non-null  int64  \n",
      " 43  delivery_estimate_discrepancy      114067 non-null  int64  \n",
      " 44  product_dimensions                 114066 non-null  float64\n",
      " 45  delivery_est_discrepancy_range     114067 non-null  object \n",
      " 46  review_score_class                 114067 non-null  object \n",
      "dtypes: float64(17), int64(4), object(26)\n",
      "memory usage: 40.9+ MB\n"
     ]
    }
   ],
   "source": [
    "olist.info()"
   ]
  },
  {
   "cell_type": "markdown",
   "id": "ed429468",
   "metadata": {},
   "source": [
    "# 1. Create Model (50 points)\n",
    "\n",
    "- Create a **logistic regression model** and a **support vector machine model** for the **classification task** involved with your dataset. \n",
    "- Assess how well each model performs (use 80/20 training/testing split for your data).\n",
    "\n",
    "- Adjust parameters of the models to make them more accurate. If your dataset size requires the use of stochastic gradient descent, then linear kernel only is fine to use. \n",
    "    - That is, the SGDClassifier is fine to use for optimizing logistic regression and linear support vector machines.\n",
    "            -For many problems, SGD will be required in order to train the SVM model in a reasonable timeframe."
   ]
  },
  {
   "cell_type": "code",
   "execution_count": 6,
   "id": "d7d66bca",
   "metadata": {},
   "outputs": [
    {
     "data": {
      "text/html": [
       "<div>\n",
       "<style scoped>\n",
       "    .dataframe tbody tr th:only-of-type {\n",
       "        vertical-align: middle;\n",
       "    }\n",
       "\n",
       "    .dataframe tbody tr th {\n",
       "        vertical-align: top;\n",
       "    }\n",
       "\n",
       "    .dataframe thead th {\n",
       "        text-align: right;\n",
       "    }\n",
       "</style>\n",
       "<table border=\"1\" class=\"dataframe\">\n",
       "  <thead>\n",
       "    <tr style=\"text-align: right;\">\n",
       "      <th></th>\n",
       "      <th>order_id</th>\n",
       "      <th>customer_id</th>\n",
       "      <th>order_purchase_timestamp</th>\n",
       "      <th>order_approved_at</th>\n",
       "      <th>order_delivered_carrier_date</th>\n",
       "      <th>order_delivered_customer_date</th>\n",
       "      <th>order_estimated_delivery_date</th>\n",
       "      <th>customer_unique_id</th>\n",
       "      <th>customer_zip_code_prefix</th>\n",
       "      <th>customer_city</th>\n",
       "      <th>...</th>\n",
       "      <th>seller_state</th>\n",
       "      <th>tot_order_amt</th>\n",
       "      <th>purchase_wk_day</th>\n",
       "      <th>purchase_month</th>\n",
       "      <th>order_delivery_actual_duration</th>\n",
       "      <th>order_delivery_estimated_duration</th>\n",
       "      <th>delivery_estimate_discrepancy</th>\n",
       "      <th>product_dimensions</th>\n",
       "      <th>delivery_est_discrepancy_range</th>\n",
       "      <th>review_score_class</th>\n",
       "    </tr>\n",
       "  </thead>\n",
       "  <tbody>\n",
       "    <tr>\n",
       "      <th>0</th>\n",
       "      <td>b81ef226f3fe1789b1e8b2acac839d17</td>\n",
       "      <td>0a8556ac6be836b46b3e89920d59291c</td>\n",
       "      <td>2018-04-25 22:01:49</td>\n",
       "      <td>2018-04-25 22:15:09</td>\n",
       "      <td>2018-05-02 15:20:00</td>\n",
       "      <td>2018-05-09 17:36:51</td>\n",
       "      <td>2018-05-22 00:00:00</td>\n",
       "      <td>708ab75d2a007f0564aedd11139c7708</td>\n",
       "      <td>39801</td>\n",
       "      <td>teofilo otoni</td>\n",
       "      <td>...</td>\n",
       "      <td>SP</td>\n",
       "      <td>99.33</td>\n",
       "      <td>Wednesday</td>\n",
       "      <td>April</td>\n",
       "      <td>13</td>\n",
       "      <td>26</td>\n",
       "      <td>13</td>\n",
       "      <td>7803.0</td>\n",
       "      <td>too early</td>\n",
       "      <td>bad</td>\n",
       "    </tr>\n",
       "    <tr>\n",
       "      <th>1</th>\n",
       "      <td>a9810da82917af2d9aefd1278f1dcfa0</td>\n",
       "      <td>f2c7fc58a9de810828715166c672f10a</td>\n",
       "      <td>2018-06-26 11:01:38</td>\n",
       "      <td>2018-06-26 11:18:58</td>\n",
       "      <td>2018-06-28 14:18:00</td>\n",
       "      <td>2018-06-29 20:32:09</td>\n",
       "      <td>2018-07-16 00:00:00</td>\n",
       "      <td>a8b9d3a27068454b1c98cc67d4e31e6f</td>\n",
       "      <td>2422</td>\n",
       "      <td>sao paulo</td>\n",
       "      <td>...</td>\n",
       "      <td>SP</td>\n",
       "      <td>24.39</td>\n",
       "      <td>Tuesday</td>\n",
       "      <td>June</td>\n",
       "      <td>3</td>\n",
       "      <td>19</td>\n",
       "      <td>16</td>\n",
       "      <td>1056.0</td>\n",
       "      <td>too early</td>\n",
       "      <td>good</td>\n",
       "    </tr>\n",
       "    <tr>\n",
       "      <th>2</th>\n",
       "      <td>25e8ea4e93396b6fa0d3dd708e76c1bd</td>\n",
       "      <td>25b14b69de0b6e184ae6fe2755e478f9</td>\n",
       "      <td>2017-12-12 11:19:55</td>\n",
       "      <td>2017-12-14 09:52:34</td>\n",
       "      <td>2017-12-15 20:13:22</td>\n",
       "      <td>2017-12-18 17:24:41</td>\n",
       "      <td>2018-01-04 00:00:00</td>\n",
       "      <td>6f70c0b2f7552832ba46eb57b1c5651e</td>\n",
       "      <td>2652</td>\n",
       "      <td>sao paulo</td>\n",
       "      <td>...</td>\n",
       "      <td>SP</td>\n",
       "      <td>65.71</td>\n",
       "      <td>Tuesday</td>\n",
       "      <td>December</td>\n",
       "      <td>4</td>\n",
       "      <td>20</td>\n",
       "      <td>16</td>\n",
       "      <td>3360.0</td>\n",
       "      <td>too early</td>\n",
       "      <td>good</td>\n",
       "    </tr>\n",
       "    <tr>\n",
       "      <th>3</th>\n",
       "      <td>ba78997921bbcdc1373bb41e913ab953</td>\n",
       "      <td>7a5d8efaaa1081f800628c30d2b0728f</td>\n",
       "      <td>2017-12-06 12:04:06</td>\n",
       "      <td>2017-12-06 12:13:20</td>\n",
       "      <td>2017-12-07 20:28:28</td>\n",
       "      <td>2017-12-21 01:35:51</td>\n",
       "      <td>2018-01-04 00:00:00</td>\n",
       "      <td>87695ed086ebd36f20404c82d20fca87</td>\n",
       "      <td>36060</td>\n",
       "      <td>juiz de fora</td>\n",
       "      <td>...</td>\n",
       "      <td>SP</td>\n",
       "      <td>107.78</td>\n",
       "      <td>Wednesday</td>\n",
       "      <td>December</td>\n",
       "      <td>14</td>\n",
       "      <td>28</td>\n",
       "      <td>14</td>\n",
       "      <td>3080.0</td>\n",
       "      <td>too early</td>\n",
       "      <td>good</td>\n",
       "    </tr>\n",
       "    <tr>\n",
       "      <th>4</th>\n",
       "      <td>ba78997921bbcdc1373bb41e913ab953</td>\n",
       "      <td>7a5d8efaaa1081f800628c30d2b0728f</td>\n",
       "      <td>2017-12-06 12:04:06</td>\n",
       "      <td>2017-12-06 12:13:20</td>\n",
       "      <td>2017-12-07 20:28:28</td>\n",
       "      <td>2017-12-21 01:35:51</td>\n",
       "      <td>2018-01-04 00:00:00</td>\n",
       "      <td>87695ed086ebd36f20404c82d20fca87</td>\n",
       "      <td>36060</td>\n",
       "      <td>juiz de fora</td>\n",
       "      <td>...</td>\n",
       "      <td>SP</td>\n",
       "      <td>107.78</td>\n",
       "      <td>Wednesday</td>\n",
       "      <td>December</td>\n",
       "      <td>14</td>\n",
       "      <td>28</td>\n",
       "      <td>14</td>\n",
       "      <td>3080.0</td>\n",
       "      <td>too early</td>\n",
       "      <td>good</td>\n",
       "    </tr>\n",
       "  </tbody>\n",
       "</table>\n",
       "<p>5 rows × 47 columns</p>\n",
       "</div>"
      ],
      "text/plain": [
       "                           order_id                       customer_id  \\\n",
       "0  b81ef226f3fe1789b1e8b2acac839d17  0a8556ac6be836b46b3e89920d59291c   \n",
       "1  a9810da82917af2d9aefd1278f1dcfa0  f2c7fc58a9de810828715166c672f10a   \n",
       "2  25e8ea4e93396b6fa0d3dd708e76c1bd  25b14b69de0b6e184ae6fe2755e478f9   \n",
       "3  ba78997921bbcdc1373bb41e913ab953  7a5d8efaaa1081f800628c30d2b0728f   \n",
       "4  ba78997921bbcdc1373bb41e913ab953  7a5d8efaaa1081f800628c30d2b0728f   \n",
       "\n",
       "  order_purchase_timestamp    order_approved_at order_delivered_carrier_date  \\\n",
       "0      2018-04-25 22:01:49  2018-04-25 22:15:09          2018-05-02 15:20:00   \n",
       "1      2018-06-26 11:01:38  2018-06-26 11:18:58          2018-06-28 14:18:00   \n",
       "2      2017-12-12 11:19:55  2017-12-14 09:52:34          2017-12-15 20:13:22   \n",
       "3      2017-12-06 12:04:06  2017-12-06 12:13:20          2017-12-07 20:28:28   \n",
       "4      2017-12-06 12:04:06  2017-12-06 12:13:20          2017-12-07 20:28:28   \n",
       "\n",
       "  order_delivered_customer_date order_estimated_delivery_date  \\\n",
       "0           2018-05-09 17:36:51           2018-05-22 00:00:00   \n",
       "1           2018-06-29 20:32:09           2018-07-16 00:00:00   \n",
       "2           2017-12-18 17:24:41           2018-01-04 00:00:00   \n",
       "3           2017-12-21 01:35:51           2018-01-04 00:00:00   \n",
       "4           2017-12-21 01:35:51           2018-01-04 00:00:00   \n",
       "\n",
       "                 customer_unique_id  customer_zip_code_prefix  customer_city  \\\n",
       "0  708ab75d2a007f0564aedd11139c7708                     39801  teofilo otoni   \n",
       "1  a8b9d3a27068454b1c98cc67d4e31e6f                      2422      sao paulo   \n",
       "2  6f70c0b2f7552832ba46eb57b1c5651e                      2652      sao paulo   \n",
       "3  87695ed086ebd36f20404c82d20fca87                     36060   juiz de fora   \n",
       "4  87695ed086ebd36f20404c82d20fca87                     36060   juiz de fora   \n",
       "\n",
       "   ... seller_state tot_order_amt  purchase_wk_day purchase_month  \\\n",
       "0  ...           SP         99.33        Wednesday          April   \n",
       "1  ...           SP         24.39          Tuesday           June   \n",
       "2  ...           SP         65.71          Tuesday       December   \n",
       "3  ...           SP        107.78        Wednesday       December   \n",
       "4  ...           SP        107.78        Wednesday       December   \n",
       "\n",
       "  order_delivery_actual_duration order_delivery_estimated_duration  \\\n",
       "0                             13                                26   \n",
       "1                              3                                19   \n",
       "2                              4                                20   \n",
       "3                             14                                28   \n",
       "4                             14                                28   \n",
       "\n",
       "  delivery_estimate_discrepancy  product_dimensions  \\\n",
       "0                            13              7803.0   \n",
       "1                            16              1056.0   \n",
       "2                            16              3360.0   \n",
       "3                            14              3080.0   \n",
       "4                            14              3080.0   \n",
       "\n",
       "  delivery_est_discrepancy_range  review_score_class  \n",
       "0                      too early                 bad  \n",
       "1                      too early                good  \n",
       "2                      too early                good  \n",
       "3                      too early                good  \n",
       "4                      too early                good  \n",
       "\n",
       "[5 rows x 47 columns]"
      ]
     },
     "execution_count": 6,
     "metadata": {},
     "output_type": "execute_result"
    }
   ],
   "source": [
    "#Create a working dataframe from the copy of original\n",
    "import copy\n",
    "olist_class = copy.deepcopy(olist)\n",
    "olist_class.head()"
   ]
  },
  {
   "cell_type": "code",
   "execution_count": 7,
   "id": "18174a86",
   "metadata": {},
   "outputs": [],
   "source": [
    "#Modify datatypes\n",
    "#changing attributes data types\n",
    "continuous_features = ['price','freight_value', 'payment_sequential','payment_installments','payment_value',\n",
    "                      'product_name_lenght','product_description_lenght', 'product_photos_qty','product_weight_g',\n",
    "                      'product_length_cm','product_height_cm','product_width_cm', 'review_score',\n",
    "                       'order_delivery_actual_duration', 'order_delivery_estimated_duration',\n",
    "                       'delivery_estimate_discrepancy', 'product_dimensions', 'tot_order_amt'] \n",
    "\n",
    "cat_features = ['customer_city', 'customer_state', 'customer_zip_code_prefix', 'seller_zip_code_prefix', \n",
    "                'seller_city', 'seller_state', 'product_category_english','review_id',\n",
    "               'review_comment_title','review_comment_message','payment_type',\n",
    "               'order_item_id', 'product_id','seller_id','order_id', 'customer_id', 'purchase_wk_day', 'purchase_month',\n",
    "               'delivery_est_discrepancy_range', 'review_score_class', 'customer_unique_id'] \n",
    "\n",
    "date_features = ['order_purchase_timestamp', 'order_approved_at', 'order_delivered_carrier_date', 'order_delivered_customer_date',\n",
    "                 'order_estimated_delivery_date', 'shipping_limit_date', 'review_creation_date', 'review_answer_timestamp'] \n",
    "\n"
   ]
  },
  {
   "cell_type": "code",
   "execution_count": 8,
   "id": "dc4d2f49",
   "metadata": {},
   "outputs": [
    {
     "name": "stdout",
     "output_type": "stream",
     "text": [
      "<class 'pandas.core.frame.DataFrame'>\n",
      "RangeIndex: 114067 entries, 0 to 114066\n",
      "Data columns (total 47 columns):\n",
      " #   Column                             Non-Null Count   Dtype   \n",
      "---  ------                             --------------   -----   \n",
      " 0   order_id                           114067 non-null  category\n",
      " 1   customer_id                        114067 non-null  category\n",
      " 2   order_purchase_timestamp           114067 non-null  object  \n",
      " 3   order_approved_at                  114067 non-null  object  \n",
      " 4   order_delivered_carrier_date       114067 non-null  object  \n",
      " 5   order_delivered_customer_date      114067 non-null  object  \n",
      " 6   order_estimated_delivery_date      114067 non-null  object  \n",
      " 7   customer_unique_id                 114067 non-null  category\n",
      " 8   customer_zip_code_prefix           114067 non-null  category\n",
      " 9   customer_city                      114067 non-null  category\n",
      " 10  customer_state                     114067 non-null  category\n",
      " 11  review_id                          114067 non-null  category\n",
      " 12  review_score                       114067 non-null  float64 \n",
      " 13  review_comment_title               13661 non-null   category\n",
      " 14  review_comment_message             48220 non-null   category\n",
      " 15  review_creation_date               114067 non-null  object  \n",
      " 16  review_answer_timestamp            114067 non-null  object  \n",
      " 17  payment_sequential                 114067 non-null  float64 \n",
      " 18  payment_type                       114067 non-null  category\n",
      " 19  payment_installments               114067 non-null  float64 \n",
      " 20  payment_value                      114067 non-null  float64 \n",
      " 21  order_item_id                      114067 non-null  category\n",
      " 22  product_id                         114067 non-null  category\n",
      " 23  seller_id                          114067 non-null  category\n",
      " 24  shipping_limit_date                114067 non-null  object  \n",
      " 25  price                              114067 non-null  float64 \n",
      " 26  freight_value                      114067 non-null  float64 \n",
      " 27  product_name_lenght                114067 non-null  float64 \n",
      " 28  product_description_lenght         114067 non-null  float64 \n",
      " 29  product_photos_qty                 114067 non-null  float64 \n",
      " 30  product_weight_g                   114066 non-null  float64 \n",
      " 31  product_length_cm                  114066 non-null  float64 \n",
      " 32  product_height_cm                  114066 non-null  float64 \n",
      " 33  product_width_cm                   114066 non-null  float64 \n",
      " 34  product_category_english           114067 non-null  category\n",
      " 35  seller_zip_code_prefix             114067 non-null  category\n",
      " 36  seller_city                        114067 non-null  category\n",
      " 37  seller_state                       114067 non-null  category\n",
      " 38  tot_order_amt                      114067 non-null  float64 \n",
      " 39  purchase_wk_day                    114067 non-null  category\n",
      " 40  purchase_month                     114067 non-null  category\n",
      " 41  order_delivery_actual_duration     114067 non-null  float64 \n",
      " 42  order_delivery_estimated_duration  114067 non-null  float64 \n",
      " 43  delivery_estimate_discrepancy      114067 non-null  float64 \n",
      " 44  product_dimensions                 114066 non-null  float64 \n",
      " 45  delivery_est_discrepancy_range     114067 non-null  category\n",
      " 46  review_score_class                 114067 non-null  category\n",
      "dtypes: category(21), float64(18), object(8)\n",
      "memory usage: 41.9+ MB\n"
     ]
    }
   ],
   "source": [
    "# use the \"astype\" function to change the variable type\n",
    "olist_class[continuous_features] = olist_class.copy()[continuous_features].astype(np.float64)\n",
    "olist_class[cat_features] = olist_class.copy()[cat_features].astype(\"category\")\n",
    "#olist_class[date_features] = pd.to_datetime(olist_class.copy()[date_features])\n",
    "olist_class.info()"
   ]
  },
  {
   "cell_type": "code",
   "execution_count": 9,
   "id": "bf052fa0",
   "metadata": {},
   "outputs": [],
   "source": [
    "# fix dates\n",
    "for i in date_features:\n",
    "    olist_class.loc[:,i] = pd.to_datetime(olist_class.copy().loc[:,i], errors=\"coerce\")"
   ]
  },
  {
   "cell_type": "code",
   "execution_count": 10,
   "id": "d8d8e6ce",
   "metadata": {},
   "outputs": [
    {
     "name": "stdout",
     "output_type": "stream",
     "text": [
      "<class 'pandas.core.frame.DataFrame'>\n",
      "RangeIndex: 114067 entries, 0 to 114066\n",
      "Data columns (total 47 columns):\n",
      " #   Column                             Non-Null Count   Dtype         \n",
      "---  ------                             --------------   -----         \n",
      " 0   order_id                           114067 non-null  category      \n",
      " 1   customer_id                        114067 non-null  category      \n",
      " 2   order_purchase_timestamp           114067 non-null  datetime64[ns]\n",
      " 3   order_approved_at                  114067 non-null  datetime64[ns]\n",
      " 4   order_delivered_carrier_date       114067 non-null  datetime64[ns]\n",
      " 5   order_delivered_customer_date      114067 non-null  datetime64[ns]\n",
      " 6   order_estimated_delivery_date      114067 non-null  datetime64[ns]\n",
      " 7   customer_unique_id                 114067 non-null  category      \n",
      " 8   customer_zip_code_prefix           114067 non-null  category      \n",
      " 9   customer_city                      114067 non-null  category      \n",
      " 10  customer_state                     114067 non-null  category      \n",
      " 11  review_id                          114067 non-null  category      \n",
      " 12  review_score                       114067 non-null  float64       \n",
      " 13  review_comment_title               13661 non-null   category      \n",
      " 14  review_comment_message             48220 non-null   category      \n",
      " 15  review_creation_date               114067 non-null  datetime64[ns]\n",
      " 16  review_answer_timestamp            114067 non-null  datetime64[ns]\n",
      " 17  payment_sequential                 114067 non-null  float64       \n",
      " 18  payment_type                       114067 non-null  category      \n",
      " 19  payment_installments               114067 non-null  float64       \n",
      " 20  payment_value                      114067 non-null  float64       \n",
      " 21  order_item_id                      114067 non-null  category      \n",
      " 22  product_id                         114067 non-null  category      \n",
      " 23  seller_id                          114067 non-null  category      \n",
      " 24  shipping_limit_date                114067 non-null  datetime64[ns]\n",
      " 25  price                              114067 non-null  float64       \n",
      " 26  freight_value                      114067 non-null  float64       \n",
      " 27  product_name_lenght                114067 non-null  float64       \n",
      " 28  product_description_lenght         114067 non-null  float64       \n",
      " 29  product_photos_qty                 114067 non-null  float64       \n",
      " 30  product_weight_g                   114066 non-null  float64       \n",
      " 31  product_length_cm                  114066 non-null  float64       \n",
      " 32  product_height_cm                  114066 non-null  float64       \n",
      " 33  product_width_cm                   114066 non-null  float64       \n",
      " 34  product_category_english           114067 non-null  category      \n",
      " 35  seller_zip_code_prefix             114067 non-null  category      \n",
      " 36  seller_city                        114067 non-null  category      \n",
      " 37  seller_state                       114067 non-null  category      \n",
      " 38  tot_order_amt                      114067 non-null  float64       \n",
      " 39  purchase_wk_day                    114067 non-null  category      \n",
      " 40  purchase_month                     114067 non-null  category      \n",
      " 41  order_delivery_actual_duration     114067 non-null  float64       \n",
      " 42  order_delivery_estimated_duration  114067 non-null  float64       \n",
      " 43  delivery_estimate_discrepancy      114067 non-null  float64       \n",
      " 44  product_dimensions                 114066 non-null  float64       \n",
      " 45  delivery_est_discrepancy_range     114067 non-null  category      \n",
      " 46  review_score_class                 114067 non-null  category      \n",
      "dtypes: category(21), datetime64[ns](8), float64(18)\n",
      "memory usage: 41.9 MB\n"
     ]
    }
   ],
   "source": [
    "olist_class.info()"
   ]
  },
  {
   "cell_type": "code",
   "execution_count": 11,
   "id": "35525fb8",
   "metadata": {},
   "outputs": [
    {
     "data": {
      "text/plain": [
       "Text(0.5, 1.0, 'Distribution of Discrepancy')"
      ]
     },
     "execution_count": 11,
     "metadata": {},
     "output_type": "execute_result"
    },
    {
     "data": {
      "image/png": "[encoded data removed]",
      "text/plain": [
       "<Figure size 432x288 with 1 Axes>"
      ]
     },
     "metadata": {
      "needs_background": "light"
     },
     "output_type": "display_data"
    }
   ],
   "source": [
    "plt.boxplot(x=olist.order_delivery_estimated_duration)\n",
    "plt.ylabel('Days_diff.Actual_Estimate')\n",
    "plt.title('Distribution of Discrepancy') #labels"
   ]
  },
  {
   "cell_type": "code",
   "execution_count": 12,
   "id": "1324c6f1",
   "metadata": {},
   "outputs": [
    {
     "data": {
      "text/plain": [
       "38.0"
      ]
     },
     "execution_count": 12,
     "metadata": {},
     "output_type": "execute_result"
    }
   ],
   "source": [
    "olist.copy()['order_delivery_estimated_duration'].quantile(0.95)"
   ]
  },
  {
   "cell_type": "code",
   "execution_count": 13,
   "id": "3888b912",
   "metadata": {},
   "outputs": [
    {
     "data": {
      "text/plain": [
       "(108875, 5192, 0.9544828916338643)"
      ]
     },
     "execution_count": 13,
     "metadata": {},
     "output_type": "execute_result"
    }
   ],
   "source": [
    "estimate_delivery = []\n",
    "estimate_delivery_out = []\n",
    "\n",
    "thresh = np.quantile(olist.copy()['order_delivery_estimated_duration'], 0.95)\n",
    "[estimate_delivery.append(i)\n",
    " if abs(i) <= thresh else estimate_delivery_out.append(i)\n",
    " for i in olist.copy()['order_delivery_estimated_duration']]\n",
    "#y = np.array(y)\n",
    "\n",
    "len(estimate_delivery), len(estimate_delivery_out), (len(estimate_delivery)/olist.shape[0])\n"
   ]
  },
  {
   "cell_type": "code",
   "execution_count": 14,
   "id": "5d4f2164",
   "metadata": {},
   "outputs": [
    {
     "data": {
      "text/plain": [
       "Text(0.5, 1.0, 'Distribution of Discrepancy')"
      ]
     },
     "execution_count": 14,
     "metadata": {},
     "output_type": "execute_result"
    },
    {
     "data": {
      "image/png": "[encoded data removed]",
      "text/plain": [
       "<Figure size 432x288 with 1 Axes>"
      ]
     },
     "metadata": {
      "needs_background": "light"
     },
     "output_type": "display_data"
    }
   ],
   "source": [
    "plt.violinplot(olist.order_delivery_actual_duration, showmeans=True)\n",
    "plt.ylabel('days_diff.Actual_Estimate')\n",
    "plt.title('Distribution of Discrepancy') #labels"
   ]
  },
  {
   "cell_type": "code",
   "execution_count": 15,
   "id": "dd0fb88c",
   "metadata": {},
   "outputs": [
    {
     "name": "stdout",
     "output_type": "stream",
     "text": [
      "<class 'pandas.core.frame.DataFrame'>\n",
      "RangeIndex: 114067 entries, 0 to 114066\n",
      "Data columns (total 13 columns):\n",
      " #   Column                          Non-Null Count   Dtype         \n",
      "---  ------                          --------------   -----         \n",
      " 0   payment_sequential              114067 non-null  float64       \n",
      " 1   product_category_english        114067 non-null  category      \n",
      " 2   seller_zip_code_prefix          114067 non-null  category      \n",
      " 3   seller_city                     114067 non-null  category      \n",
      " 4   tot_order_amt                   114067 non-null  float64       \n",
      " 5   freight_value                   114067 non-null  float64       \n",
      " 6   product_dimensions              114066 non-null  float64       \n",
      " 7   review_score_class              114067 non-null  category      \n",
      " 8   product_weight_g                114066 non-null  float64       \n",
      " 9   customer_city                   114067 non-null  category      \n",
      " 10  customer_zip_code_prefix        114067 non-null  category      \n",
      " 11  order_approved_at               114067 non-null  datetime64[ns]\n",
      " 12  order_delivery_actual_duration  114067 non-null  float64       \n",
      "dtypes: category(6), datetime64[ns](1), float64(6)\n",
      "memory usage: 8.1 MB\n"
     ]
    }
   ],
   "source": [
    "olist_class2 = olist_class[['payment_sequential', 'product_category_english', \n",
    "                            'seller_zip_code_prefix','seller_city', 'tot_order_amt', \n",
    "                            'freight_value', 'product_dimensions', 'review_score_class', 'product_weight_g', 'customer_city',\n",
    "                            'customer_zip_code_prefix','order_approved_at', 'order_delivery_actual_duration']]\n",
    "olist_class2.info()"
   ]
  },
  {
   "cell_type": "code",
   "execution_count": 16,
   "id": "40ecc078",
   "metadata": {},
   "outputs": [
    {
     "name": "stderr",
     "output_type": "stream",
     "text": [
      "C:\\Users\\olani\\anaconda3\\envs\\Machine Learning 1\\lib\\site-packages\\ipykernel_launcher.py:1: SettingWithCopyWarning: \n",
      "A value is trying to be set on a copy of a slice from a DataFrame\n",
      "\n",
      "See the caveats in the documentation: https://pandas.pydata.org/pandas-docs/stable/user_guide/indexing.html#returning-a-view-versus-a-copy\n",
      "  \"\"\"Entry point for launching an IPython kernel.\n"
     ]
    }
   ],
   "source": [
    "olist_class2.dropna(inplace=True)"
   ]
  },
  {
   "cell_type": "code",
   "execution_count": 17,
   "id": "7cb34a2a",
   "metadata": {},
   "outputs": [
    {
     "name": "stdout",
     "output_type": "stream",
     "text": [
      "<class 'pandas.core.frame.DataFrame'>\n",
      "Int64Index: 114066 entries, 0 to 114066\n",
      "Data columns (total 13 columns):\n",
      " #   Column                          Non-Null Count   Dtype         \n",
      "---  ------                          --------------   -----         \n",
      " 0   payment_sequential              114066 non-null  float64       \n",
      " 1   product_category_english        114066 non-null  category      \n",
      " 2   seller_zip_code_prefix          114066 non-null  category      \n",
      " 3   seller_city                     114066 non-null  category      \n",
      " 4   tot_order_amt                   114066 non-null  float64       \n",
      " 5   freight_value                   114066 non-null  float64       \n",
      " 6   product_dimensions              114066 non-null  float64       \n",
      " 7   review_score_class              114066 non-null  category      \n",
      " 8   product_weight_g                114066 non-null  float64       \n",
      " 9   customer_city                   114066 non-null  category      \n",
      " 10  customer_zip_code_prefix        114066 non-null  category      \n",
      " 11  order_approved_at               114066 non-null  datetime64[ns]\n",
      " 12  order_delivery_actual_duration  114066 non-null  float64       \n",
      "dtypes: category(6), datetime64[ns](1), float64(6)\n",
      "memory usage: 8.9 MB\n"
     ]
    },
    {
     "data": {
      "text/plain": [
       "((114066, 13), None)"
      ]
     },
     "execution_count": 17,
     "metadata": {},
     "output_type": "execute_result"
    }
   ],
   "source": [
    "olist_class2.shape, olist_class2.info()"
   ]
  },
  {
   "cell_type": "code",
   "execution_count": 18,
   "id": "c2aa0411",
   "metadata": {},
   "outputs": [
    {
     "data": {
      "text/html": [
       "<div>\n",
       "<style scoped>\n",
       "    .dataframe tbody tr th:only-of-type {\n",
       "        vertical-align: middle;\n",
       "    }\n",
       "\n",
       "    .dataframe tbody tr th {\n",
       "        vertical-align: top;\n",
       "    }\n",
       "\n",
       "    .dataframe thead th {\n",
       "        text-align: right;\n",
       "    }\n",
       "</style>\n",
       "<table border=\"1\" class=\"dataframe\">\n",
       "  <thead>\n",
       "    <tr style=\"text-align: right;\">\n",
       "      <th></th>\n",
       "      <th>payment_sequential</th>\n",
       "      <th>product_category_english</th>\n",
       "      <th>seller_zip_code_prefix</th>\n",
       "      <th>seller_city</th>\n",
       "      <th>tot_order_amt</th>\n",
       "      <th>freight_value</th>\n",
       "      <th>product_dimensions</th>\n",
       "      <th>review_score_class</th>\n",
       "      <th>product_weight_g</th>\n",
       "      <th>customer_city</th>\n",
       "      <th>customer_zip_code_prefix</th>\n",
       "      <th>order_approved_at</th>\n",
       "      <th>order_delivery_actual_duration</th>\n",
       "    </tr>\n",
       "  </thead>\n",
       "  <tbody>\n",
       "    <tr>\n",
       "      <th>0</th>\n",
       "      <td>1.0</td>\n",
       "      <td>home_construction</td>\n",
       "      <td>13321.0</td>\n",
       "      <td>salto</td>\n",
       "      <td>99.33</td>\n",
       "      <td>19.53</td>\n",
       "      <td>7803.0</td>\n",
       "      <td>bad</td>\n",
       "      <td>800.0</td>\n",
       "      <td>teofilo otoni</td>\n",
       "      <td>39801</td>\n",
       "      <td>2018-04-25 22:15:09</td>\n",
       "      <td>13.0</td>\n",
       "    </tr>\n",
       "    <tr>\n",
       "      <th>1</th>\n",
       "      <td>1.0</td>\n",
       "      <td>auto</td>\n",
       "      <td>4660.0</td>\n",
       "      <td>sao paulo</td>\n",
       "      <td>24.39</td>\n",
       "      <td>7.39</td>\n",
       "      <td>1056.0</td>\n",
       "      <td>good</td>\n",
       "      <td>150.0</td>\n",
       "      <td>sao paulo</td>\n",
       "      <td>2422</td>\n",
       "      <td>2018-06-26 11:18:58</td>\n",
       "      <td>3.0</td>\n",
       "    </tr>\n",
       "    <tr>\n",
       "      <th>2</th>\n",
       "      <td>1.0</td>\n",
       "      <td>perfumery</td>\n",
       "      <td>9015.0</td>\n",
       "      <td>santo andre</td>\n",
       "      <td>65.71</td>\n",
       "      <td>8.72</td>\n",
       "      <td>3360.0</td>\n",
       "      <td>good</td>\n",
       "      <td>250.0</td>\n",
       "      <td>sao paulo</td>\n",
       "      <td>2652</td>\n",
       "      <td>2017-12-14 09:52:34</td>\n",
       "      <td>4.0</td>\n",
       "    </tr>\n",
       "    <tr>\n",
       "      <th>3</th>\n",
       "      <td>1.0</td>\n",
       "      <td>bed_bath_table</td>\n",
       "      <td>13405.0</td>\n",
       "      <td>piracicaba</td>\n",
       "      <td>107.78</td>\n",
       "      <td>17.88</td>\n",
       "      <td>3080.0</td>\n",
       "      <td>good</td>\n",
       "      <td>1200.0</td>\n",
       "      <td>juiz de fora</td>\n",
       "      <td>36060</td>\n",
       "      <td>2017-12-06 12:13:20</td>\n",
       "      <td>14.0</td>\n",
       "    </tr>\n",
       "    <tr>\n",
       "      <th>4</th>\n",
       "      <td>1.0</td>\n",
       "      <td>bed_bath_table</td>\n",
       "      <td>13405.0</td>\n",
       "      <td>piracicaba</td>\n",
       "      <td>107.78</td>\n",
       "      <td>17.88</td>\n",
       "      <td>3080.0</td>\n",
       "      <td>good</td>\n",
       "      <td>1200.0</td>\n",
       "      <td>juiz de fora</td>\n",
       "      <td>36060</td>\n",
       "      <td>2017-12-06 12:13:20</td>\n",
       "      <td>14.0</td>\n",
       "    </tr>\n",
       "  </tbody>\n",
       "</table>\n",
       "</div>"
      ],
      "text/plain": [
       "   payment_sequential product_category_english seller_zip_code_prefix  \\\n",
       "0                 1.0        home_construction                13321.0   \n",
       "1                 1.0                     auto                 4660.0   \n",
       "2                 1.0                perfumery                 9015.0   \n",
       "3                 1.0           bed_bath_table                13405.0   \n",
       "4                 1.0           bed_bath_table                13405.0   \n",
       "\n",
       "   seller_city  tot_order_amt  freight_value  product_dimensions  \\\n",
       "0        salto          99.33          19.53              7803.0   \n",
       "1    sao paulo          24.39           7.39              1056.0   \n",
       "2  santo andre          65.71           8.72              3360.0   \n",
       "3   piracicaba         107.78          17.88              3080.0   \n",
       "4   piracicaba         107.78          17.88              3080.0   \n",
       "\n",
       "  review_score_class  product_weight_g  customer_city  \\\n",
       "0                bad             800.0  teofilo otoni   \n",
       "1               good             150.0      sao paulo   \n",
       "2               good             250.0      sao paulo   \n",
       "3               good            1200.0   juiz de fora   \n",
       "4               good            1200.0   juiz de fora   \n",
       "\n",
       "  customer_zip_code_prefix   order_approved_at  order_delivery_actual_duration  \n",
       "0                    39801 2018-04-25 22:15:09                            13.0  \n",
       "1                     2422 2018-06-26 11:18:58                             3.0  \n",
       "2                     2652 2017-12-14 09:52:34                             4.0  \n",
       "3                    36060 2017-12-06 12:13:20                            14.0  \n",
       "4                    36060 2017-12-06 12:13:20                            14.0  "
      ]
     },
     "execution_count": 18,
     "metadata": {},
     "output_type": "execute_result"
    }
   ],
   "source": [
    "#olist_class2.loc[olist_class2.order_delivery_actual_duration > 50, ('order_delivery_actual_duration')]= np.NaN\n",
    "olist_class2.head()"
   ]
  },
  {
   "cell_type": "code",
   "execution_count": 19,
   "id": "af2b3b0c",
   "metadata": {},
   "outputs": [
    {
     "name": "stdout",
     "output_type": "stream",
     "text": [
      "Unique value counts for payment_sequential attribute is: = 26\n",
      "Unique value counts for product_category_english attribute is: = 73\n",
      "Unique value counts for seller_zip_code_prefix attribute is: = 2136\n",
      "Unique value counts for seller_city attribute is: = 588\n",
      "Unique value counts for tot_order_amt attribute is: = 26460\n",
      "Unique value counts for freight_value attribute is: = 6902\n",
      "Unique value counts for product_dimensions attribute is: = 4416\n",
      "Unique value counts for review_score_class attribute is: = 3\n",
      "Unique value counts for product_weight_g attribute is: = 2167\n",
      "Unique value counts for customer_city attribute is: = 4073\n",
      "Unique value counts for customer_zip_code_prefix attribute is: = 14844\n",
      "Unique value counts for order_approved_at attribute is: = 87124\n",
      "Unique value counts for order_delivery_actual_duration attribute is: = 147\n"
     ]
    }
   ],
   "source": [
    "for i in olist_class2:\n",
    "    print('Unique value counts for ' + i + ' attribute is: =', olist_class2[i].nunique())"
   ]
  },
  {
   "cell_type": "code",
   "execution_count": 20,
   "id": "a7321a82",
   "metadata": {},
   "outputs": [
    {
     "data": {
      "text/plain": [
       "good    87129\n",
       "bad     17295\n",
       "fair     9642\n",
       "Name: review_score_class, dtype: int64"
      ]
     },
     "execution_count": 20,
     "metadata": {},
     "output_type": "execute_result"
    }
   ],
   "source": [
    "#review class is an important attribut \n",
    "#but with class imbalance so we split the dataset \n",
    "#to ensure that samples are representatinve of the class levels\n",
    "olist_class2['review_score_class'].value_counts()"
   ]
  },
  {
   "cell_type": "code",
   "execution_count": 21,
   "id": "1900d71c",
   "metadata": {},
   "outputs": [
    {
     "name": "stdout",
     "output_type": "stream",
     "text": [
      "<class 'pandas.core.frame.DataFrame'>\n",
      "Int64Index: 114066 entries, 0 to 114066\n",
      "Data columns (total 13 columns):\n",
      " #   Column                          Non-Null Count   Dtype         \n",
      "---  ------                          --------------   -----         \n",
      " 0   payment_sequential              114066 non-null  float64       \n",
      " 1   product_category_english        114066 non-null  category      \n",
      " 2   seller_zip_code_prefix          114066 non-null  category      \n",
      " 3   seller_city                     114066 non-null  category      \n",
      " 4   tot_order_amt                   114066 non-null  float64       \n",
      " 5   freight_value                   114066 non-null  float64       \n",
      " 6   product_dimensions              114066 non-null  float64       \n",
      " 7   review_score_class              114066 non-null  category      \n",
      " 8   product_weight_g                114066 non-null  float64       \n",
      " 9   customer_city                   114066 non-null  category      \n",
      " 10  customer_zip_code_prefix        114066 non-null  category      \n",
      " 11  order_approved_at               114066 non-null  datetime64[ns]\n",
      " 12  order_delivery_actual_duration  114066 non-null  float64       \n",
      "dtypes: category(6), datetime64[ns](1), float64(6)\n",
      "memory usage: 8.9 MB\n"
     ]
    }
   ],
   "source": [
    "olist_class2.info()"
   ]
  },
  {
   "cell_type": "code",
   "execution_count": 22,
   "id": "ddee33e4",
   "metadata": {},
   "outputs": [],
   "source": [
    "from sklearn.datasets import make_regression\n",
    "from sklearn.model_selection import cross_val_score\n",
    "from sklearn.model_selection import RepeatedKFold\n",
    "from sklearn.feature_selection import RFE\n",
    "from sklearn.tree import DecisionTreeRegressor\n",
    "from sklearn.pipeline import Pipeline\n",
    "from sklearn.model_selection import RepeatedStratifiedKFold\n",
    "from sklearn.feature_selection import RFECV\n",
    "from sklearn.linear_model import LogisticRegression\n",
    "from sklearn.linear_model import Perceptron\n",
    "from sklearn.ensemble import RandomForestClassifier\n",
    "from sklearn.ensemble import RandomForestRegressor\n",
    "from sklearn.ensemble import GradientBoostingClassifier\n",
    "from sklearn.linear_model import SGDRegressor\n",
    "from sklearn.ensemble import GradientBoostingRegressor\n",
    "from sklearn.preprocessing import OneHotEncoder\n",
    "from sklearn.preprocessing import StandardScaler\n",
    "from sklearn.compose import ColumnTransformer\n",
    "from sklearn.linear_model import LinearRegression\n",
    "from matplotlib import pyplot"
   ]
  },
  {
   "cell_type": "code",
   "execution_count": 23,
   "id": "f5eb3e86",
   "metadata": {},
   "outputs": [],
   "source": [
    "#Simple train test split\n",
    "\n",
    "from sklearn.model_selection import train_test_split\n",
    "olist_train, olist_test = train_test_split(olist_class2, test_size=0.2,random_state=100)"
   ]
  },
  {
   "cell_type": "code",
   "execution_count": 24,
   "id": "2f9397f3",
   "metadata": {
    "scrolled": true
   },
   "outputs": [
    {
     "name": "stdout",
     "output_type": "stream",
     "text": [
      "<class 'pandas.core.frame.DataFrame'>\n",
      "Int64Index: 91252 entries, 18821 to 38408\n",
      "Data columns (total 13 columns):\n",
      " #   Column                          Non-Null Count  Dtype         \n",
      "---  ------                          --------------  -----         \n",
      " 0   payment_sequential              91252 non-null  float64       \n",
      " 1   product_category_english        91252 non-null  category      \n",
      " 2   seller_zip_code_prefix          91252 non-null  category      \n",
      " 3   seller_city                     91252 non-null  category      \n",
      " 4   tot_order_amt                   91252 non-null  float64       \n",
      " 5   freight_value                   91252 non-null  float64       \n",
      " 6   product_dimensions              91252 non-null  float64       \n",
      " 7   review_score_class              91252 non-null  category      \n",
      " 8   product_weight_g                91252 non-null  float64       \n",
      " 9   customer_city                   91252 non-null  category      \n",
      " 10  customer_zip_code_prefix        91252 non-null  category      \n",
      " 11  order_approved_at               91252 non-null  datetime64[ns]\n",
      " 12  order_delivery_actual_duration  91252 non-null  float64       \n",
      "dtypes: category(6), datetime64[ns](1), float64(6)\n",
      "memory usage: 7.3 MB\n"
     ]
    }
   ],
   "source": [
    "olist_train.info()"
   ]
  },
  {
   "cell_type": "code",
   "execution_count": 25,
   "id": "1fd1944a",
   "metadata": {},
   "outputs": [
    {
     "name": "stdout",
     "output_type": "stream",
     "text": [
      "<class 'pandas.core.frame.DataFrame'>\n",
      "Int64Index: 22814 entries, 74667 to 35877\n",
      "Data columns (total 13 columns):\n",
      " #   Column                          Non-Null Count  Dtype         \n",
      "---  ------                          --------------  -----         \n",
      " 0   payment_sequential              22814 non-null  float64       \n",
      " 1   product_category_english        22814 non-null  category      \n",
      " 2   seller_zip_code_prefix          22814 non-null  category      \n",
      " 3   seller_city                     22814 non-null  category      \n",
      " 4   tot_order_amt                   22814 non-null  float64       \n",
      " 5   freight_value                   22814 non-null  float64       \n",
      " 6   product_dimensions              22814 non-null  float64       \n",
      " 7   review_score_class              22814 non-null  category      \n",
      " 8   product_weight_g                22814 non-null  float64       \n",
      " 9   customer_city                   22814 non-null  category      \n",
      " 10  customer_zip_code_prefix        22814 non-null  category      \n",
      " 11  order_approved_at               22814 non-null  datetime64[ns]\n",
      " 12  order_delivery_actual_duration  22814 non-null  float64       \n",
      "dtypes: category(6), datetime64[ns](1), float64(6)\n",
      "memory usage: 2.5 MB\n"
     ]
    }
   ],
   "source": [
    "olist_test.info()"
   ]
  },
  {
   "cell_type": "code",
   "execution_count": 26,
   "id": "d99bad52",
   "metadata": {},
   "outputs": [
    {
     "data": {
      "text/plain": [
       "91252"
      ]
     },
     "execution_count": 26,
     "metadata": {},
     "output_type": "execute_result"
    }
   ],
   "source": [
    "#Target variable\n",
    "olist_train_y = olist_train.order_delivery_actual_duration\n",
    "len(olist_train_y)"
   ]
  },
  {
   "cell_type": "code",
   "execution_count": 27,
   "id": "2adcba04",
   "metadata": {},
   "outputs": [
    {
     "name": "stdout",
     "output_type": "stream",
     "text": [
      "<class 'pandas.core.frame.DataFrame'>\n",
      "Int64Index: 91252 entries, 18821 to 38408\n",
      "Data columns (total 12 columns):\n",
      " #   Column                    Non-Null Count  Dtype         \n",
      "---  ------                    --------------  -----         \n",
      " 0   payment_sequential        91252 non-null  float64       \n",
      " 1   product_category_english  91252 non-null  category      \n",
      " 2   seller_zip_code_prefix    91252 non-null  category      \n",
      " 3   seller_city               91252 non-null  category      \n",
      " 4   tot_order_amt             91252 non-null  float64       \n",
      " 5   freight_value             91252 non-null  float64       \n",
      " 6   product_dimensions        91252 non-null  float64       \n",
      " 7   review_score_class        91252 non-null  category      \n",
      " 8   product_weight_g          91252 non-null  float64       \n",
      " 9   customer_city             91252 non-null  category      \n",
      " 10  customer_zip_code_prefix  91252 non-null  category      \n",
      " 11  order_approved_at         91252 non-null  datetime64[ns]\n",
      "dtypes: category(6), datetime64[ns](1), float64(5)\n",
      "memory usage: 6.6 MB\n"
     ]
    }
   ],
   "source": [
    "#All predictor attributes\n",
    "olist_train_noY = olist_train.copy().drop('order_delivery_actual_duration', axis=1)\n",
    "olist_train_noY.info()"
   ]
  },
  {
   "cell_type": "markdown",
   "id": "8f6510ae",
   "metadata": {},
   "source": [
    "### Preprocess the test for prediction"
   ]
  },
  {
   "cell_type": "code",
   "execution_count": 28,
   "id": "a7c3bd92",
   "metadata": {},
   "outputs": [
    {
     "name": "stdout",
     "output_type": "stream",
     "text": [
      "<class 'pandas.core.frame.DataFrame'>\n",
      "Int64Index: 22814 entries, 74667 to 35877\n",
      "Data columns (total 12 columns):\n",
      " #   Column                    Non-Null Count  Dtype         \n",
      "---  ------                    --------------  -----         \n",
      " 0   payment_sequential        22814 non-null  float64       \n",
      " 1   product_category_english  22814 non-null  category      \n",
      " 2   seller_zip_code_prefix    22814 non-null  category      \n",
      " 3   seller_city               22814 non-null  category      \n",
      " 4   tot_order_amt             22814 non-null  float64       \n",
      " 5   freight_value             22814 non-null  float64       \n",
      " 6   product_dimensions        22814 non-null  float64       \n",
      " 7   review_score_class        22814 non-null  category      \n",
      " 8   product_weight_g          22814 non-null  float64       \n",
      " 9   customer_city             22814 non-null  category      \n",
      " 10  customer_zip_code_prefix  22814 non-null  category      \n",
      " 11  order_approved_at         22814 non-null  datetime64[ns]\n",
      "dtypes: category(6), datetime64[ns](1), float64(5)\n",
      "memory usage: 2.3 MB\n"
     ]
    }
   ],
   "source": [
    "#All predictor attributes\n",
    "olist_test_noY = olist_test.copy().drop('order_delivery_actual_duration', axis=1)\n",
    "olist_test_noY.info()"
   ]
  },
  {
   "cell_type": "code",
   "execution_count": 29,
   "id": "d4c1da9d",
   "metadata": {},
   "outputs": [
    {
     "data": {
      "text/plain": [
       "22814"
      ]
     },
     "execution_count": 29,
     "metadata": {},
     "output_type": "execute_result"
    }
   ],
   "source": [
    "#Target variable\n",
    "olist_test_y = olist_test.order_delivery_actual_duration\n",
    "len(olist_test_y)"
   ]
  },
  {
   "cell_type": "markdown",
   "id": "9ed0f428",
   "metadata": {},
   "source": [
    "### Advanced linear model\n",
    "https://www.kaggle.com/kylegilde/building-columntransformers-dynamically"
   ]
  },
  {
   "cell_type": "code",
   "execution_count": 30,
   "id": "b02f69ba",
   "metadata": {},
   "outputs": [],
   "source": [
    "from sklearn.compose import ColumnTransformer, make_column_selector\n",
    "from sklearn.pipeline import make_pipeline\n",
    "import multiprocessing\n",
    "from sklearn.impute import SimpleImputer"
   ]
  },
  {
   "cell_type": "markdown",
   "id": "35eacdd8",
   "metadata": {},
   "source": [
    "listing 79 features in the code or a configuration file seems is a tedious and unnecessary task. What if there was a way to logically bucket these features by their characteristics?\n",
    "\n",
    "The key insight that allows you to dynamically construct a ColumnTransformer is understanding that there are 3 broad types of features in non-textual, non-time series datasets:\n",
    "\n",
    "- numerical\n",
    "- categorical with moderate-to-low cardinality\n",
    "- categorical with high cardinality"
   ]
  },
  {
   "cell_type": "code",
   "execution_count": 31,
   "id": "df34f8ea",
   "metadata": {},
   "outputs": [
    {
     "name": "stdout",
     "output_type": "stream",
     "text": [
      "N numeric_features: 5 \n",
      "\n",
      "payment_sequential, tot_order_amt, freight_value, product_dimensions, product_weight_g\n"
     ]
    }
   ],
   "source": [
    "#select features with logical conditions instead of listing every single column in the code\n",
    "select_numeric_features = make_column_selector(dtype_include=np.number)\n",
    "numeric_features = select_numeric_features(olist_train_noY)\n",
    "print(f'N numeric_features: {len(numeric_features)} \\n')\n",
    "print(', '.join(numeric_features))"
   ]
  },
  {
   "cell_type": "markdown",
   "id": "5d1d4a84",
   "metadata": {},
   "source": [
    "#### Categorical  with moderate-to-low cardinality\n",
    "\n",
    "One-hot (OH) encoding, where an indicator column is created for each unique value, is the most common method. However, the OH transformation may not be suitable for features with high cardinality. OH encoding features with many unique values may create too many columns with very low variance, which may take up too much memory or have a negative impact on the performance of linear models. Hence, we may want to limit the features we select for this encoding to ones below a certain threshold of unique values. \n",
    "\n",
    "Since the *make_column_selector* isn't capable of detecting cardinality, I've developed my own *select_oh_features* custom function. It consists of a piping of pandas methods that do the following:\n",
    "\n",
    "- Selects the object and category dtypes from the pandas DataFrame\n",
    "\n",
    "- Counts the number of unique values for those columns\n",
    "\n",
    "- Subsets the unique value counts if they are less than or equal to MAX_OH_CARDINALITY using an anonymous lambda function within the loc method\n",
    "\n",
    "- Extracts the column names from the index and returns them as a list"
   ]
  },
  {
   "cell_type": "code",
   "execution_count": 32,
   "id": "e4a7c965",
   "metadata": {},
   "outputs": [
    {
     "name": "stdout",
     "output_type": "stream",
     "text": [
      "N oh_features: 1 \n",
      "\n",
      "review_score_class\n"
     ]
    }
   ],
   "source": [
    "MAX_OH_CARDINALITY = 10\n",
    "\n",
    "def select_oh_features(df):\n",
    "    \n",
    "    hc_features =\\\n",
    "        df\\\n",
    "        .select_dtypes(['object', 'category'])\\\n",
    "        .apply(lambda col: col.nunique())\\\n",
    "        .loc[lambda x: x <= MAX_OH_CARDINALITY]\\\n",
    "        .index\\\n",
    "        .tolist()\n",
    "        \n",
    "    return hc_features\n",
    "\n",
    "oh_features = select_oh_features(olist_train_noY)\n",
    "\n",
    "print(f'N oh_features: {len(oh_features)} \\n')\n",
    "print(', '.join(oh_features))"
   ]
  },
  {
   "cell_type": "code",
   "execution_count": 33,
   "id": "302ef306",
   "metadata": {},
   "outputs": [],
   "source": [
    "#oh_pipeline = make_pipeline(SimpleImputer(strategy='constant'), OneHotEncoder(handle_unknown='ignore'))"
   ]
  },
  {
   "cell_type": "code",
   "execution_count": 58,
   "id": "68538abf",
   "metadata": {},
   "outputs": [],
   "source": [
    "#Try without imputer\n",
    "oh_pipeline1 = make_pipeline(OneHotEncoder(handle_unknown='ignore'))"
   ]
  },
  {
   "cell_type": "markdown",
   "id": "3c7cee7e",
   "metadata": {},
   "source": [
    "#### Categorical with high cardinality\n",
    "To select the features with high cardinality, I've created a similar function that selects the object and category features with unique value counts greater than the threshold. It selects three features that meet these criteria."
   ]
  },
  {
   "cell_type": "markdown",
   "id": "6f382dcd",
   "metadata": {},
   "source": [
    "#### Categorical with high cardinality\n",
    "To select the features with high cardinality, I've created a similar function that selects the object and category features with unique value counts greater than the threshold. It selects three features that meet these criteria."
   ]
  },
  {
   "cell_type": "code",
   "execution_count": 35,
   "id": "33fdbdb5",
   "metadata": {},
   "outputs": [
    {
     "name": "stdout",
     "output_type": "stream",
     "text": [
      "N hc_features: 5 \n",
      "\n",
      "product_category_english, seller_zip_code_prefix, seller_city, customer_city, customer_zip_code_prefix\n"
     ]
    }
   ],
   "source": [
    "def select_hc_features(df):\n",
    "    \n",
    "    hc_features =\\\n",
    "        df\\\n",
    "        .select_dtypes(['object', 'category'])\\\n",
    "        .apply(lambda col: col.nunique())\\\n",
    "        .loc[lambda x: x > MAX_OH_CARDINALITY]\\\n",
    "        .index\\\n",
    "        .tolist()\n",
    "        \n",
    "    return hc_features\n",
    "\n",
    "\n",
    "hc_features = select_hc_features(olist_train_noY)\n",
    "\n",
    "print(f'N hc_features: {len(hc_features)} \\n')\n",
    "print(', '.join(hc_features))"
   ]
  },
  {
   "cell_type": "markdown",
   "id": "dd9ddf30",
   "metadata": {},
   "source": [
    "#### Generalized Linear Mixed Model Encoder\n",
    "\n",
    "To transform our features with high cardinality, I could have gone with a more basic approach and used Scikit-Learn's native LabelEncoder or OrdinalEncoder preprocessor. However, in many cases, these methods are likely to perform suboptimally in your model unless you are dealing with ordinal data. I prefer to use the Category Encoder package, which has more than a dozen ways of intelligently encoding highly cardinal features. This post provides an overview of several of these methods. Most of these are supervised techniques, which use the dependent variable to transform the nominal values into numerical ones. The TargetEncoder is probably the easiest method to understand, but I prefer to use the Generalized Linear Mixed Model Encoder, which has \"solid statistical theory behind [it]\" and \"no hyperparameters to tune.\" Without diving into the details of GLMMs, at its core, this method encodes the nominal values as the coefficents from a one-hot-encoded linear model. The Category Encoder methods handle missing and unknown values by setting them to zero or the mean of the dependent variable. "
   ]
  },
  {
   "cell_type": "code",
   "execution_count": 36,
   "id": "0fa5ce92",
   "metadata": {},
   "outputs": [],
   "source": [
    "import category_encoders as ce\n",
    "hc_pipeline = make_pipeline(ce.GLMMEncoder())"
   ]
  },
  {
   "cell_type": "code",
   "execution_count": 37,
   "id": "478e4e0f",
   "metadata": {},
   "outputs": [],
   "source": [
    "numeric_pipeline = make_pipeline(StandardScaler()) "
   ]
  },
  {
   "cell_type": "code",
   "execution_count": 38,
   "id": "1c18f458",
   "metadata": {},
   "outputs": [],
   "source": [
    "column_transformer = ColumnTransformer(transformers=\\\n",
    "                                       [('numeric_pipeline', numeric_pipeline, select_numeric_features),\\\n",
    "                                        ('oh_pipeline', oh_pipeline1, select_oh_features),\\\n",
    "                                        ('hc_pipeline', hc_pipeline, select_hc_features)],                                       \n",
    "                                       remainder='drop')"
   ]
  },
  {
   "cell_type": "code",
   "execution_count": 39,
   "id": "f2448346",
   "metadata": {},
   "outputs": [],
   "source": [
    "# let's break up the Discrepancy variable\n",
    "#But needs outliers to be removed\n",
    "#olist_train_y_class = pd.cut(olist_train_y, [0, 2, 3, 5], 3, labels=['bad','fair','good']) # this creates a new variable\n",
    "#olist_train_y_class = olist_train_y_class.astype(\"category\")"
   ]
  },
  {
   "cell_type": "code",
   "execution_count": 40,
   "id": "0467bcc9",
   "metadata": {
    "scrolled": true
   },
   "outputs": [
    {
     "data": {
      "text/plain": [
       "count    91252.000000\n",
       "mean        11.566453\n",
       "std          9.415850\n",
       "min         -6.000000\n",
       "25%          6.000000\n",
       "50%          9.000000\n",
       "75%         15.000000\n",
       "max        208.000000\n",
       "Name: order_delivery_actual_duration, dtype: float64"
      ]
     },
     "execution_count": 40,
     "metadata": {},
     "output_type": "execute_result"
    }
   ],
   "source": [
    "olist_train_y.describe()"
   ]
  },
  {
   "cell_type": "code",
   "execution_count": 41,
   "id": "ef450b67",
   "metadata": {},
   "outputs": [
    {
     "data": {
      "text/plain": [
       "28.0"
      ]
     },
     "execution_count": 41,
     "metadata": {},
     "output_type": "execute_result"
    }
   ],
   "source": [
    "olist_train_y.quantile(0.95)"
   ]
  },
  {
   "cell_type": "code",
   "execution_count": 42,
   "id": "59fbee52",
   "metadata": {},
   "outputs": [
    {
     "data": {
      "text/plain": [
       "{'bodies': [<matplotlib.collections.PolyCollection at 0x1d1a2fb4708>],\n",
       " 'cmeans': <matplotlib.collections.LineCollection at 0x1d1a260c4c8>,\n",
       " 'cmaxes': <matplotlib.collections.LineCollection at 0x1d1a2fdf9c8>,\n",
       " 'cmins': <matplotlib.collections.LineCollection at 0x1d1a2fe9b08>,\n",
       " 'cbars': <matplotlib.collections.LineCollection at 0x1d19e006fc8>}"
      ]
     },
     "execution_count": 42,
     "metadata": {},
     "output_type": "execute_result"
    },
    {
     "data": {
      "image/png": "[encoded data removed]",
      "text/plain": [
       "<Figure size 432x288 with 1 Axes>"
      ]
     },
     "metadata": {
      "needs_background": "light"
     },
     "output_type": "display_data"
    }
   ],
   "source": [
    "plt.violinplot(olist_train_y, showmeans=True)"
   ]
  },
  {
   "cell_type": "markdown",
   "id": "6c049f7c",
   "metadata": {},
   "source": [
    "### Create response class labels\n",
    "- Break the response variable into classes\n",
    "*Note that most machine learning algorithms are more compatible with numerical values.*\n",
    "- The labels are created as:\n",
    "    - 'late' = 1, 'on target' = 2, 'early' = 3"
   ]
  },
  {
   "cell_type": "code",
   "execution_count": 43,
   "id": "764b1821",
   "metadata": {},
   "outputs": [
    {
     "data": {
      "text/plain": [
       "count     91252\n",
       "unique        3\n",
       "top           3\n",
       "freq      76591\n",
       "Name: order_delivery_actual_duration, dtype: int64"
      ]
     },
     "execution_count": 43,
     "metadata": {},
     "output_type": "execute_result"
    }
   ],
   "source": [
    "olist_train_y_range = pd.cut(olist_train_y, [-7, -4, 4, 210], 3, labels=[1,2,3]) # this creates a new variable\n",
    "olist_train_y_range.describe()\n",
    "#'late' = 1,'on target' = 2, 'early' = 3"
   ]
  },
  {
   "cell_type": "code",
   "execution_count": 178,
   "id": "41866e77",
   "metadata": {},
   "outputs": [
    {
     "data": {
      "text/plain": [
       "3    76591\n",
       "2    14647\n",
       "1       14\n",
       "Name: order_delivery_actual_duration, dtype: int64"
      ]
     },
     "execution_count": 178,
     "metadata": {},
     "output_type": "execute_result"
    }
   ],
   "source": [
    "#Sanity check for any null values as a result of the cut process.\n",
    "olist_train_y_range.value_counts()"
   ]
  },
  {
   "cell_type": "code",
   "execution_count": 45,
   "id": "f19a6e4d",
   "metadata": {},
   "outputs": [
    {
     "data": {
      "text/plain": [
       "count     22814\n",
       "unique        3\n",
       "top           3\n",
       "freq      19115\n",
       "Name: order_delivery_actual_duration, dtype: int64"
      ]
     },
     "execution_count": 45,
     "metadata": {},
     "output_type": "execute_result"
    }
   ],
   "source": [
    "olist_test_y_range = pd.cut(olist_test_y, [-10, -4, 4, 250], 3, labels=[1,2,3]) # this creates a new variable\n",
    "olist_test_y_range.describe()\n",
    "#'late' = 1,'on target' = 2, 'early' = 3"
   ]
  },
  {
   "cell_type": "code",
   "execution_count": 46,
   "id": "596a3874",
   "metadata": {},
   "outputs": [
    {
     "data": {
      "text/plain": [
       "0"
      ]
     },
     "execution_count": 46,
     "metadata": {},
     "output_type": "execute_result"
    }
   ],
   "source": [
    "olist_test_y_range.isna().sum()"
   ]
  },
  {
   "cell_type": "code",
   "execution_count": 47,
   "id": "1d810c21",
   "metadata": {},
   "outputs": [
    {
     "name": "stderr",
     "output_type": "stream",
     "text": [
      "C:\\Users\\olani\\anaconda3\\envs\\Machine Learning 1\\lib\\site-packages\\category_encoders\\utils.py:21: FutureWarning: is_categorical is deprecated and will be removed in a future version.  Use is_categorical_dtype instead\n",
      "  elif pd.api.types.is_categorical(cols):\n"
     ]
    }
   ],
   "source": [
    "#Make Y classification\n",
    "X_train_class = column_transformer.fit_transform(olist_train_noY, olist_train_y_range)\n",
    "X_test_class = column_transformer.transform(olist_test_noY)"
   ]
  },
  {
   "cell_type": "code",
   "execution_count": 48,
   "id": "54956f48",
   "metadata": {},
   "outputs": [
    {
     "name": "stdout",
     "output_type": "stream",
     "text": [
      "(91252, 13)\n",
      "(22814, 13)\n"
     ]
    }
   ],
   "source": [
    "print(X_train_class.shape)\n",
    "print(X_test_class.shape)"
   ]
  },
  {
   "cell_type": "markdown",
   "id": "6c9cbf22",
   "metadata": {},
   "source": [
    "#### Classification"
   ]
  },
  {
   "cell_type": "code",
   "execution_count": 49,
   "id": "11513cc5",
   "metadata": {},
   "outputs": [
    {
     "data": {
      "text/plain": [
       "SGDClassifier(random_state=42)"
      ]
     },
     "execution_count": 49,
     "metadata": {},
     "output_type": "execute_result"
    }
   ],
   "source": [
    "from sklearn.linear_model import SGDClassifier\n",
    "sgd_clf = SGDClassifier(random_state=42)\n",
    "sgd_clf.fit(X_train_class,olist_train_y_range)"
   ]
  },
  {
   "cell_type": "code",
   "execution_count": 50,
   "id": "90649ecd",
   "metadata": {},
   "outputs": [],
   "source": [
    "#y_train_pred_class = sgd_clf.predict(X_train_class)\n",
    "y_test_pred_class = sgd_clf.predict(X_test_class)"
   ]
  },
  {
   "cell_type": "code",
   "execution_count": 51,
   "id": "6bcfc6ae",
   "metadata": {},
   "outputs": [
    {
     "name": "stderr",
     "output_type": "stream",
     "text": [
      "C:\\Users\\olani\\anaconda3\\envs\\Machine Learning 1\\lib\\site-packages\\sklearn\\linear_model\\_sag.py:329: ConvergenceWarning: The max_iter was reached which means the coef_ did not converge\n",
      "  \"the coef_ did not converge\", ConvergenceWarning)\n"
     ]
    },
    {
     "data": {
      "text/plain": [
       "LogisticRegression(C=0.05, class_weight='balanced', multi_class='multinomial',\n",
       "                   random_state=42, solver='saga')"
      ]
     },
     "execution_count": 51,
     "metadata": {},
     "output_type": "execute_result"
    }
   ],
   "source": [
    "#Logitstic regression\n",
    "logr_clf = LogisticRegression(penalty='l2', C=0.05, class_weight='balanced', solver='saga', \n",
    "                              multi_class='multinomial', random_state=42) # get object\n",
    "logr_clf.fit(X_train_class,olist_train_y_range)"
   ]
  },
  {
   "cell_type": "code",
   "execution_count": 118,
   "id": "806cc535",
   "metadata": {},
   "outputs": [
    {
     "name": "stderr",
     "output_type": "stream",
     "text": [
      "C:\\Users\\olani\\anaconda3\\envs\\Machine Learning 1\\lib\\site-packages\\sklearn\\svm\\_base.py:986: ConvergenceWarning: Liblinear failed to converge, increase the number of iterations.\n",
      "  \"the number of iterations.\", ConvergenceWarning)\n"
     ]
    },
    {
     "data": {
      "text/plain": [
       "LinearSVC(C=0.5, loss='hinge')"
      ]
     },
     "execution_count": 118,
     "metadata": {},
     "output_type": "execute_result"
    }
   ],
   "source": [
    "#Support Vector Machine Classifyer\n",
    "from sklearn.svm import LinearSVC\n",
    "svm_clf = LinearSVC(C=0.5, loss=\"hinge\")\n",
    "svm_clf.fit(X_train_class,olist_train_y_range)"
   ]
  },
  {
   "cell_type": "code",
   "execution_count": 97,
   "id": "cbd6b2f2",
   "metadata": {},
   "outputs": [
    {
     "data": {
      "text/plain": [
       "SVC(C=0.5, gamma='auto')"
      ]
     },
     "execution_count": 97,
     "metadata": {},
     "output_type": "execute_result"
    }
   ],
   "source": [
    "# lets investigate SVMs on the data and play with the parameters and kernels\n",
    "from sklearn.svm import SVC\n",
    "\n",
    "# train the model just as before\n",
    "svc_clf = SVC(C=0.5, kernel='rbf', degree=3, gamma='auto') # get object\n",
    "svc_clf.fit(X_train_class,olist_train_y_range)  # train object\n",
    "\n",
    "\n",
    "#acc = mt.accuracy_score(y_test,y_hat)\n",
    "#conf = mt.confusion_matrix(y_test,y_hat)\n",
    "#print('accuracy:', acc )\n",
    "#print(conf)"
   ]
  },
  {
   "cell_type": "code",
   "execution_count": 98,
   "id": "af568d99",
   "metadata": {},
   "outputs": [],
   "source": [
    "#Predict SVc\n",
    "y_test_pred_svc = svc_clf.predict(X_test_class)"
   ]
  },
  {
   "cell_type": "markdown",
   "id": "a66ed7cb",
   "metadata": {},
   "source": [
    "#### Grid search for the hyperparameters\n",
    "\n"
   ]
  },
  {
   "cell_type": "code",
   "execution_count": 52,
   "id": "6ff2e290",
   "metadata": {},
   "outputs": [
    {
     "ename": "ValueError",
     "evalue": "Invalid parameter solver for estimator SGDClassifier(). Check the list of available parameters with `estimator.get_params().keys()`.",
     "output_type": "error",
     "traceback": [
      "\u001b[1;31m---------------------------------------------------------------------------\u001b[0m",
      "\u001b[1;31mValueError\u001b[0m                                Traceback (most recent call last)",
      "\u001b[1;32m<ipython-input-52-0ed8585d3371>\u001b[0m in \u001b[0;36m<module>\u001b[1;34m\u001b[0m\n\u001b[0;32m     12\u001b[0m \u001b[1;31m#X = data[:, 1:]  # all rows, no label\u001b[0m\u001b[1;33m\u001b[0m\u001b[1;33m\u001b[0m\u001b[1;33m\u001b[0m\u001b[0m\n\u001b[0;32m     13\u001b[0m \u001b[1;31m#y = data[:, 0]  # all rows, label only\u001b[0m\u001b[1;33m\u001b[0m\u001b[1;33m\u001b[0m\u001b[1;33m\u001b[0m\u001b[0m\n\u001b[1;32m---> 14\u001b[1;33m \u001b[0mclf\u001b[0m\u001b[1;33m.\u001b[0m\u001b[0mfit\u001b[0m\u001b[1;33m(\u001b[0m\u001b[0mX_train_class\u001b[0m\u001b[1;33m,\u001b[0m\u001b[0molist_train_y_range\u001b[0m\u001b[1;33m)\u001b[0m\u001b[1;33m\u001b[0m\u001b[1;33m\u001b[0m\u001b[0m\n\u001b[0m\u001b[0;32m     15\u001b[0m \u001b[0mprint\u001b[0m\u001b[1;33m(\u001b[0m\u001b[0mclf\u001b[0m\u001b[1;33m.\u001b[0m\u001b[0mbest_score_\u001b[0m\u001b[1;33m)\u001b[0m\u001b[1;33m\u001b[0m\u001b[1;33m\u001b[0m\u001b[0m\n",
      "\u001b[1;32m~\\anaconda3\\envs\\Machine Learning 1\\lib\\site-packages\\sklearn\\utils\\validation.py\u001b[0m in \u001b[0;36minner_f\u001b[1;34m(*args, **kwargs)\u001b[0m\n\u001b[0;32m     61\u001b[0m             \u001b[0mextra_args\u001b[0m \u001b[1;33m=\u001b[0m \u001b[0mlen\u001b[0m\u001b[1;33m(\u001b[0m\u001b[0margs\u001b[0m\u001b[1;33m)\u001b[0m \u001b[1;33m-\u001b[0m \u001b[0mlen\u001b[0m\u001b[1;33m(\u001b[0m\u001b[0mall_args\u001b[0m\u001b[1;33m)\u001b[0m\u001b[1;33m\u001b[0m\u001b[1;33m\u001b[0m\u001b[0m\n\u001b[0;32m     62\u001b[0m             \u001b[1;32mif\u001b[0m \u001b[0mextra_args\u001b[0m \u001b[1;33m<=\u001b[0m \u001b[1;36m0\u001b[0m\u001b[1;33m:\u001b[0m\u001b[1;33m\u001b[0m\u001b[1;33m\u001b[0m\u001b[0m\n\u001b[1;32m---> 63\u001b[1;33m                 \u001b[1;32mreturn\u001b[0m \u001b[0mf\u001b[0m\u001b[1;33m(\u001b[0m\u001b[1;33m*\u001b[0m\u001b[0margs\u001b[0m\u001b[1;33m,\u001b[0m \u001b[1;33m**\u001b[0m\u001b[0mkwargs\u001b[0m\u001b[1;33m)\u001b[0m\u001b[1;33m\u001b[0m\u001b[1;33m\u001b[0m\u001b[0m\n\u001b[0m\u001b[0;32m     64\u001b[0m \u001b[1;33m\u001b[0m\u001b[0m\n\u001b[0;32m     65\u001b[0m             \u001b[1;31m# extra_args > 0\u001b[0m\u001b[1;33m\u001b[0m\u001b[1;33m\u001b[0m\u001b[1;33m\u001b[0m\u001b[0m\n",
      "\u001b[1;32m~\\anaconda3\\envs\\Machine Learning 1\\lib\\site-packages\\sklearn\\model_selection\\_search.py\u001b[0m in \u001b[0;36mfit\u001b[1;34m(self, X, y, groups, **fit_params)\u001b[0m\n\u001b[0;32m    839\u001b[0m                 \u001b[1;32mreturn\u001b[0m \u001b[0mresults\u001b[0m\u001b[1;33m\u001b[0m\u001b[1;33m\u001b[0m\u001b[0m\n\u001b[0;32m    840\u001b[0m \u001b[1;33m\u001b[0m\u001b[0m\n\u001b[1;32m--> 841\u001b[1;33m             \u001b[0mself\u001b[0m\u001b[1;33m.\u001b[0m\u001b[0m_run_search\u001b[0m\u001b[1;33m(\u001b[0m\u001b[0mevaluate_candidates\u001b[0m\u001b[1;33m)\u001b[0m\u001b[1;33m\u001b[0m\u001b[1;33m\u001b[0m\u001b[0m\n\u001b[0m\u001b[0;32m    842\u001b[0m \u001b[1;33m\u001b[0m\u001b[0m\n\u001b[0;32m    843\u001b[0m             \u001b[1;31m# multimetric is determined here because in the case of a callable\u001b[0m\u001b[1;33m\u001b[0m\u001b[1;33m\u001b[0m\u001b[1;33m\u001b[0m\u001b[0m\n",
      "\u001b[1;32m~\\anaconda3\\envs\\Machine Learning 1\\lib\\site-packages\\sklearn\\model_selection\\_search.py\u001b[0m in \u001b[0;36m_run_search\u001b[1;34m(self, evaluate_candidates)\u001b[0m\n\u001b[0;32m   1286\u001b[0m     \u001b[1;32mdef\u001b[0m \u001b[0m_run_search\u001b[0m\u001b[1;33m(\u001b[0m\u001b[0mself\u001b[0m\u001b[1;33m,\u001b[0m \u001b[0mevaluate_candidates\u001b[0m\u001b[1;33m)\u001b[0m\u001b[1;33m:\u001b[0m\u001b[1;33m\u001b[0m\u001b[1;33m\u001b[0m\u001b[0m\n\u001b[0;32m   1287\u001b[0m         \u001b[1;34m\"\"\"Search all candidates in param_grid\"\"\"\u001b[0m\u001b[1;33m\u001b[0m\u001b[1;33m\u001b[0m\u001b[0m\n\u001b[1;32m-> 1288\u001b[1;33m         \u001b[0mevaluate_candidates\u001b[0m\u001b[1;33m(\u001b[0m\u001b[0mParameterGrid\u001b[0m\u001b[1;33m(\u001b[0m\u001b[0mself\u001b[0m\u001b[1;33m.\u001b[0m\u001b[0mparam_grid\u001b[0m\u001b[1;33m)\u001b[0m\u001b[1;33m)\u001b[0m\u001b[1;33m\u001b[0m\u001b[1;33m\u001b[0m\u001b[0m\n\u001b[0m\u001b[0;32m   1289\u001b[0m \u001b[1;33m\u001b[0m\u001b[0m\n\u001b[0;32m   1290\u001b[0m \u001b[1;33m\u001b[0m\u001b[0m\n",
      "\u001b[1;32m~\\anaconda3\\envs\\Machine Learning 1\\lib\\site-packages\\sklearn\\model_selection\\_search.py\u001b[0m in \u001b[0;36mevaluate_candidates\u001b[1;34m(candidate_params, cv, more_results)\u001b[0m\n\u001b[0;32m    807\u001b[0m                                    (split_idx, (train, test)) in product(\n\u001b[0;32m    808\u001b[0m                                    \u001b[0menumerate\u001b[0m\u001b[1;33m(\u001b[0m\u001b[0mcandidate_params\u001b[0m\u001b[1;33m)\u001b[0m\u001b[1;33m,\u001b[0m\u001b[1;33m\u001b[0m\u001b[1;33m\u001b[0m\u001b[0m\n\u001b[1;32m--> 809\u001b[1;33m                                    enumerate(cv.split(X, y, groups))))\n\u001b[0m\u001b[0;32m    810\u001b[0m \u001b[1;33m\u001b[0m\u001b[0m\n\u001b[0;32m    811\u001b[0m                 \u001b[1;32mif\u001b[0m \u001b[0mlen\u001b[0m\u001b[1;33m(\u001b[0m\u001b[0mout\u001b[0m\u001b[1;33m)\u001b[0m \u001b[1;33m<\u001b[0m \u001b[1;36m1\u001b[0m\u001b[1;33m:\u001b[0m\u001b[1;33m\u001b[0m\u001b[1;33m\u001b[0m\u001b[0m\n",
      "\u001b[1;32m~\\anaconda3\\envs\\Machine Learning 1\\lib\\site-packages\\joblib\\parallel.py\u001b[0m in \u001b[0;36m__call__\u001b[1;34m(self, iterable)\u001b[0m\n\u001b[0;32m   1039\u001b[0m             \u001b[1;31m# remaining jobs.\u001b[0m\u001b[1;33m\u001b[0m\u001b[1;33m\u001b[0m\u001b[1;33m\u001b[0m\u001b[0m\n\u001b[0;32m   1040\u001b[0m             \u001b[0mself\u001b[0m\u001b[1;33m.\u001b[0m\u001b[0m_iterating\u001b[0m \u001b[1;33m=\u001b[0m \u001b[1;32mFalse\u001b[0m\u001b[1;33m\u001b[0m\u001b[1;33m\u001b[0m\u001b[0m\n\u001b[1;32m-> 1041\u001b[1;33m             \u001b[1;32mif\u001b[0m \u001b[0mself\u001b[0m\u001b[1;33m.\u001b[0m\u001b[0mdispatch_one_batch\u001b[0m\u001b[1;33m(\u001b[0m\u001b[0miterator\u001b[0m\u001b[1;33m)\u001b[0m\u001b[1;33m:\u001b[0m\u001b[1;33m\u001b[0m\u001b[1;33m\u001b[0m\u001b[0m\n\u001b[0m\u001b[0;32m   1042\u001b[0m                 \u001b[0mself\u001b[0m\u001b[1;33m.\u001b[0m\u001b[0m_iterating\u001b[0m \u001b[1;33m=\u001b[0m \u001b[0mself\u001b[0m\u001b[1;33m.\u001b[0m\u001b[0m_original_iterator\u001b[0m \u001b[1;32mis\u001b[0m \u001b[1;32mnot\u001b[0m \u001b[1;32mNone\u001b[0m\u001b[1;33m\u001b[0m\u001b[1;33m\u001b[0m\u001b[0m\n\u001b[0;32m   1043\u001b[0m \u001b[1;33m\u001b[0m\u001b[0m\n",
      "\u001b[1;32m~\\anaconda3\\envs\\Machine Learning 1\\lib\\site-packages\\joblib\\parallel.py\u001b[0m in \u001b[0;36mdispatch_one_batch\u001b[1;34m(self, iterator)\u001b[0m\n\u001b[0;32m    857\u001b[0m                 \u001b[1;32mreturn\u001b[0m \u001b[1;32mFalse\u001b[0m\u001b[1;33m\u001b[0m\u001b[1;33m\u001b[0m\u001b[0m\n\u001b[0;32m    858\u001b[0m             \u001b[1;32melse\u001b[0m\u001b[1;33m:\u001b[0m\u001b[1;33m\u001b[0m\u001b[1;33m\u001b[0m\u001b[0m\n\u001b[1;32m--> 859\u001b[1;33m                 \u001b[0mself\u001b[0m\u001b[1;33m.\u001b[0m\u001b[0m_dispatch\u001b[0m\u001b[1;33m(\u001b[0m\u001b[0mtasks\u001b[0m\u001b[1;33m)\u001b[0m\u001b[1;33m\u001b[0m\u001b[1;33m\u001b[0m\u001b[0m\n\u001b[0m\u001b[0;32m    860\u001b[0m                 \u001b[1;32mreturn\u001b[0m \u001b[1;32mTrue\u001b[0m\u001b[1;33m\u001b[0m\u001b[1;33m\u001b[0m\u001b[0m\n\u001b[0;32m    861\u001b[0m \u001b[1;33m\u001b[0m\u001b[0m\n",
      "\u001b[1;32m~\\anaconda3\\envs\\Machine Learning 1\\lib\\site-packages\\joblib\\parallel.py\u001b[0m in \u001b[0;36m_dispatch\u001b[1;34m(self, batch)\u001b[0m\n\u001b[0;32m    775\u001b[0m         \u001b[1;32mwith\u001b[0m \u001b[0mself\u001b[0m\u001b[1;33m.\u001b[0m\u001b[0m_lock\u001b[0m\u001b[1;33m:\u001b[0m\u001b[1;33m\u001b[0m\u001b[1;33m\u001b[0m\u001b[0m\n\u001b[0;32m    776\u001b[0m             \u001b[0mjob_idx\u001b[0m \u001b[1;33m=\u001b[0m \u001b[0mlen\u001b[0m\u001b[1;33m(\u001b[0m\u001b[0mself\u001b[0m\u001b[1;33m.\u001b[0m\u001b[0m_jobs\u001b[0m\u001b[1;33m)\u001b[0m\u001b[1;33m\u001b[0m\u001b[1;33m\u001b[0m\u001b[0m\n\u001b[1;32m--> 777\u001b[1;33m             \u001b[0mjob\u001b[0m \u001b[1;33m=\u001b[0m \u001b[0mself\u001b[0m\u001b[1;33m.\u001b[0m\u001b[0m_backend\u001b[0m\u001b[1;33m.\u001b[0m\u001b[0mapply_async\u001b[0m\u001b[1;33m(\u001b[0m\u001b[0mbatch\u001b[0m\u001b[1;33m,\u001b[0m \u001b[0mcallback\u001b[0m\u001b[1;33m=\u001b[0m\u001b[0mcb\u001b[0m\u001b[1;33m)\u001b[0m\u001b[1;33m\u001b[0m\u001b[1;33m\u001b[0m\u001b[0m\n\u001b[0m\u001b[0;32m    778\u001b[0m             \u001b[1;31m# A job can complete so quickly than its callback is\u001b[0m\u001b[1;33m\u001b[0m\u001b[1;33m\u001b[0m\u001b[1;33m\u001b[0m\u001b[0m\n\u001b[0;32m    779\u001b[0m             \u001b[1;31m# called before we get here, causing self._jobs to\u001b[0m\u001b[1;33m\u001b[0m\u001b[1;33m\u001b[0m\u001b[1;33m\u001b[0m\u001b[0m\n",
      "\u001b[1;32m~\\anaconda3\\envs\\Machine Learning 1\\lib\\site-packages\\joblib\\_parallel_backends.py\u001b[0m in \u001b[0;36mapply_async\u001b[1;34m(self, func, callback)\u001b[0m\n\u001b[0;32m    206\u001b[0m     \u001b[1;32mdef\u001b[0m \u001b[0mapply_async\u001b[0m\u001b[1;33m(\u001b[0m\u001b[0mself\u001b[0m\u001b[1;33m,\u001b[0m \u001b[0mfunc\u001b[0m\u001b[1;33m,\u001b[0m \u001b[0mcallback\u001b[0m\u001b[1;33m=\u001b[0m\u001b[1;32mNone\u001b[0m\u001b[1;33m)\u001b[0m\u001b[1;33m:\u001b[0m\u001b[1;33m\u001b[0m\u001b[1;33m\u001b[0m\u001b[0m\n\u001b[0;32m    207\u001b[0m         \u001b[1;34m\"\"\"Schedule a func to be run\"\"\"\u001b[0m\u001b[1;33m\u001b[0m\u001b[1;33m\u001b[0m\u001b[0m\n\u001b[1;32m--> 208\u001b[1;33m         \u001b[0mresult\u001b[0m \u001b[1;33m=\u001b[0m \u001b[0mImmediateResult\u001b[0m\u001b[1;33m(\u001b[0m\u001b[0mfunc\u001b[0m\u001b[1;33m)\u001b[0m\u001b[1;33m\u001b[0m\u001b[1;33m\u001b[0m\u001b[0m\n\u001b[0m\u001b[0;32m    209\u001b[0m         \u001b[1;32mif\u001b[0m \u001b[0mcallback\u001b[0m\u001b[1;33m:\u001b[0m\u001b[1;33m\u001b[0m\u001b[1;33m\u001b[0m\u001b[0m\n\u001b[0;32m    210\u001b[0m             \u001b[0mcallback\u001b[0m\u001b[1;33m(\u001b[0m\u001b[0mresult\u001b[0m\u001b[1;33m)\u001b[0m\u001b[1;33m\u001b[0m\u001b[1;33m\u001b[0m\u001b[0m\n",
      "\u001b[1;32m~\\anaconda3\\envs\\Machine Learning 1\\lib\\site-packages\\joblib\\_parallel_backends.py\u001b[0m in \u001b[0;36m__init__\u001b[1;34m(self, batch)\u001b[0m\n\u001b[0;32m    570\u001b[0m         \u001b[1;31m# Don't delay the application, to avoid keeping the input\u001b[0m\u001b[1;33m\u001b[0m\u001b[1;33m\u001b[0m\u001b[1;33m\u001b[0m\u001b[0m\n\u001b[0;32m    571\u001b[0m         \u001b[1;31m# arguments in memory\u001b[0m\u001b[1;33m\u001b[0m\u001b[1;33m\u001b[0m\u001b[1;33m\u001b[0m\u001b[0m\n\u001b[1;32m--> 572\u001b[1;33m         \u001b[0mself\u001b[0m\u001b[1;33m.\u001b[0m\u001b[0mresults\u001b[0m \u001b[1;33m=\u001b[0m \u001b[0mbatch\u001b[0m\u001b[1;33m(\u001b[0m\u001b[1;33m)\u001b[0m\u001b[1;33m\u001b[0m\u001b[1;33m\u001b[0m\u001b[0m\n\u001b[0m\u001b[0;32m    573\u001b[0m \u001b[1;33m\u001b[0m\u001b[0m\n\u001b[0;32m    574\u001b[0m     \u001b[1;32mdef\u001b[0m \u001b[0mget\u001b[0m\u001b[1;33m(\u001b[0m\u001b[0mself\u001b[0m\u001b[1;33m)\u001b[0m\u001b[1;33m:\u001b[0m\u001b[1;33m\u001b[0m\u001b[1;33m\u001b[0m\u001b[0m\n",
      "\u001b[1;32m~\\anaconda3\\envs\\Machine Learning 1\\lib\\site-packages\\joblib\\parallel.py\u001b[0m in \u001b[0;36m__call__\u001b[1;34m(self)\u001b[0m\n\u001b[0;32m    261\u001b[0m         \u001b[1;32mwith\u001b[0m \u001b[0mparallel_backend\u001b[0m\u001b[1;33m(\u001b[0m\u001b[0mself\u001b[0m\u001b[1;33m.\u001b[0m\u001b[0m_backend\u001b[0m\u001b[1;33m,\u001b[0m \u001b[0mn_jobs\u001b[0m\u001b[1;33m=\u001b[0m\u001b[0mself\u001b[0m\u001b[1;33m.\u001b[0m\u001b[0m_n_jobs\u001b[0m\u001b[1;33m)\u001b[0m\u001b[1;33m:\u001b[0m\u001b[1;33m\u001b[0m\u001b[1;33m\u001b[0m\u001b[0m\n\u001b[0;32m    262\u001b[0m             return [func(*args, **kwargs)\n\u001b[1;32m--> 263\u001b[1;33m                     for func, args, kwargs in self.items]\n\u001b[0m\u001b[0;32m    264\u001b[0m \u001b[1;33m\u001b[0m\u001b[0m\n\u001b[0;32m    265\u001b[0m     \u001b[1;32mdef\u001b[0m \u001b[0m__reduce__\u001b[0m\u001b[1;33m(\u001b[0m\u001b[0mself\u001b[0m\u001b[1;33m)\u001b[0m\u001b[1;33m:\u001b[0m\u001b[1;33m\u001b[0m\u001b[1;33m\u001b[0m\u001b[0m\n",
      "\u001b[1;32m~\\anaconda3\\envs\\Machine Learning 1\\lib\\site-packages\\joblib\\parallel.py\u001b[0m in \u001b[0;36m<listcomp>\u001b[1;34m(.0)\u001b[0m\n\u001b[0;32m    261\u001b[0m         \u001b[1;32mwith\u001b[0m \u001b[0mparallel_backend\u001b[0m\u001b[1;33m(\u001b[0m\u001b[0mself\u001b[0m\u001b[1;33m.\u001b[0m\u001b[0m_backend\u001b[0m\u001b[1;33m,\u001b[0m \u001b[0mn_jobs\u001b[0m\u001b[1;33m=\u001b[0m\u001b[0mself\u001b[0m\u001b[1;33m.\u001b[0m\u001b[0m_n_jobs\u001b[0m\u001b[1;33m)\u001b[0m\u001b[1;33m:\u001b[0m\u001b[1;33m\u001b[0m\u001b[1;33m\u001b[0m\u001b[0m\n\u001b[0;32m    262\u001b[0m             return [func(*args, **kwargs)\n\u001b[1;32m--> 263\u001b[1;33m                     for func, args, kwargs in self.items]\n\u001b[0m\u001b[0;32m    264\u001b[0m \u001b[1;33m\u001b[0m\u001b[0m\n\u001b[0;32m    265\u001b[0m     \u001b[1;32mdef\u001b[0m \u001b[0m__reduce__\u001b[0m\u001b[1;33m(\u001b[0m\u001b[0mself\u001b[0m\u001b[1;33m)\u001b[0m\u001b[1;33m:\u001b[0m\u001b[1;33m\u001b[0m\u001b[1;33m\u001b[0m\u001b[0m\n",
      "\u001b[1;32m~\\anaconda3\\envs\\Machine Learning 1\\lib\\site-packages\\sklearn\\utils\\fixes.py\u001b[0m in \u001b[0;36m__call__\u001b[1;34m(self, *args, **kwargs)\u001b[0m\n\u001b[0;32m    220\u001b[0m     \u001b[1;32mdef\u001b[0m \u001b[0m__call__\u001b[0m\u001b[1;33m(\u001b[0m\u001b[0mself\u001b[0m\u001b[1;33m,\u001b[0m \u001b[1;33m*\u001b[0m\u001b[0margs\u001b[0m\u001b[1;33m,\u001b[0m \u001b[1;33m**\u001b[0m\u001b[0mkwargs\u001b[0m\u001b[1;33m)\u001b[0m\u001b[1;33m:\u001b[0m\u001b[1;33m\u001b[0m\u001b[1;33m\u001b[0m\u001b[0m\n\u001b[0;32m    221\u001b[0m         \u001b[1;32mwith\u001b[0m \u001b[0mconfig_context\u001b[0m\u001b[1;33m(\u001b[0m\u001b[1;33m**\u001b[0m\u001b[0mself\u001b[0m\u001b[1;33m.\u001b[0m\u001b[0mconfig\u001b[0m\u001b[1;33m)\u001b[0m\u001b[1;33m:\u001b[0m\u001b[1;33m\u001b[0m\u001b[1;33m\u001b[0m\u001b[0m\n\u001b[1;32m--> 222\u001b[1;33m             \u001b[1;32mreturn\u001b[0m \u001b[0mself\u001b[0m\u001b[1;33m.\u001b[0m\u001b[0mfunction\u001b[0m\u001b[1;33m(\u001b[0m\u001b[1;33m*\u001b[0m\u001b[0margs\u001b[0m\u001b[1;33m,\u001b[0m \u001b[1;33m**\u001b[0m\u001b[0mkwargs\u001b[0m\u001b[1;33m)\u001b[0m\u001b[1;33m\u001b[0m\u001b[1;33m\u001b[0m\u001b[0m\n\u001b[0m",
      "\u001b[1;32m~\\anaconda3\\envs\\Machine Learning 1\\lib\\site-packages\\sklearn\\model_selection\\_validation.py\u001b[0m in \u001b[0;36m_fit_and_score\u001b[1;34m(estimator, X, y, scorer, train, test, verbose, parameters, fit_params, return_train_score, return_parameters, return_n_test_samples, return_times, return_estimator, split_progress, candidate_progress, error_score)\u001b[0m\n\u001b[0;32m    579\u001b[0m             \u001b[0mcloned_parameters\u001b[0m\u001b[1;33m[\u001b[0m\u001b[0mk\u001b[0m\u001b[1;33m]\u001b[0m \u001b[1;33m=\u001b[0m \u001b[0mclone\u001b[0m\u001b[1;33m(\u001b[0m\u001b[0mv\u001b[0m\u001b[1;33m,\u001b[0m \u001b[0msafe\u001b[0m\u001b[1;33m=\u001b[0m\u001b[1;32mFalse\u001b[0m\u001b[1;33m)\u001b[0m\u001b[1;33m\u001b[0m\u001b[1;33m\u001b[0m\u001b[0m\n\u001b[0;32m    580\u001b[0m \u001b[1;33m\u001b[0m\u001b[0m\n\u001b[1;32m--> 581\u001b[1;33m         \u001b[0mestimator\u001b[0m \u001b[1;33m=\u001b[0m \u001b[0mestimator\u001b[0m\u001b[1;33m.\u001b[0m\u001b[0mset_params\u001b[0m\u001b[1;33m(\u001b[0m\u001b[1;33m**\u001b[0m\u001b[0mcloned_parameters\u001b[0m\u001b[1;33m)\u001b[0m\u001b[1;33m\u001b[0m\u001b[1;33m\u001b[0m\u001b[0m\n\u001b[0m\u001b[0;32m    582\u001b[0m \u001b[1;33m\u001b[0m\u001b[0m\n\u001b[0;32m    583\u001b[0m     \u001b[0mstart_time\u001b[0m \u001b[1;33m=\u001b[0m \u001b[0mtime\u001b[0m\u001b[1;33m.\u001b[0m\u001b[0mtime\u001b[0m\u001b[1;33m(\u001b[0m\u001b[1;33m)\u001b[0m\u001b[1;33m\u001b[0m\u001b[1;33m\u001b[0m\u001b[0m\n",
      "\u001b[1;32m~\\anaconda3\\envs\\Machine Learning 1\\lib\\site-packages\\sklearn\\linear_model\\_stochastic_gradient.py\u001b[0m in \u001b[0;36mset_params\u001b[1;34m(self, **kwargs)\u001b[0m\n\u001b[0;32m    115\u001b[0m             \u001b[0mEstimator\u001b[0m \u001b[0minstance\u001b[0m\u001b[1;33m.\u001b[0m\u001b[1;33m\u001b[0m\u001b[1;33m\u001b[0m\u001b[0m\n\u001b[0;32m    116\u001b[0m         \"\"\"\n\u001b[1;32m--> 117\u001b[1;33m         \u001b[0msuper\u001b[0m\u001b[1;33m(\u001b[0m\u001b[1;33m)\u001b[0m\u001b[1;33m.\u001b[0m\u001b[0mset_params\u001b[0m\u001b[1;33m(\u001b[0m\u001b[1;33m**\u001b[0m\u001b[0mkwargs\u001b[0m\u001b[1;33m)\u001b[0m\u001b[1;33m\u001b[0m\u001b[1;33m\u001b[0m\u001b[0m\n\u001b[0m\u001b[0;32m    118\u001b[0m         \u001b[0mself\u001b[0m\u001b[1;33m.\u001b[0m\u001b[0m_validate_params\u001b[0m\u001b[1;33m(\u001b[0m\u001b[1;33m)\u001b[0m\u001b[1;33m\u001b[0m\u001b[1;33m\u001b[0m\u001b[0m\n\u001b[0;32m    119\u001b[0m         \u001b[1;32mreturn\u001b[0m \u001b[0mself\u001b[0m\u001b[1;33m\u001b[0m\u001b[1;33m\u001b[0m\u001b[0m\n",
      "\u001b[1;32m~\\anaconda3\\envs\\Machine Learning 1\\lib\\site-packages\\sklearn\\base.py\u001b[0m in \u001b[0;36mset_params\u001b[1;34m(self, **params)\u001b[0m\n\u001b[0;32m    231\u001b[0m                                  \u001b[1;34m'Check the list of available parameters '\u001b[0m\u001b[1;33m\u001b[0m\u001b[1;33m\u001b[0m\u001b[0m\n\u001b[0;32m    232\u001b[0m                                  \u001b[1;34m'with `estimator.get_params().keys()`.'\u001b[0m \u001b[1;33m%\u001b[0m\u001b[1;33m\u001b[0m\u001b[1;33m\u001b[0m\u001b[0m\n\u001b[1;32m--> 233\u001b[1;33m                                  (key, self))\n\u001b[0m\u001b[0;32m    234\u001b[0m \u001b[1;33m\u001b[0m\u001b[0m\n\u001b[0;32m    235\u001b[0m             \u001b[1;32mif\u001b[0m \u001b[0mdelim\u001b[0m\u001b[1;33m:\u001b[0m\u001b[1;33m\u001b[0m\u001b[1;33m\u001b[0m\u001b[0m\n",
      "\u001b[1;31mValueError\u001b[0m: Invalid parameter solver for estimator SGDClassifier(). Check the list of available parameters with `estimator.get_params().keys()`."
     ]
    }
   ],
   "source": [
    "from sklearn.model_selection import GridSearchCV\n",
    "\n",
    "params = {\n",
    "    \"loss\" : [\"hinge\", \"log\", \"squared_hinge\", \"modified_huber\"],\n",
    "    \"alpha\" : [0.0001, 0.001, 0.01, 0.1],\n",
    "    \"penalty\" : [\"l2\", \"l1\", \"none\"],\n",
    "    \"solver\" : [\"\"]\n",
    "}\n",
    "\n",
    "model = SGDClassifier(max_iter=1000)\n",
    "clf = GridSearchCV(model, param_grid=params)\n",
    "#X = data[:, 1:]  # all rows, no label\n",
    "#y = data[:, 0]  # all rows, label only\n",
    "clf.fit(X_train_class,olist_train_y_range)\n",
    "print(clf.best_score_)"
   ]
  },
  {
   "cell_type": "code",
   "execution_count": 59,
   "id": "4946a90f",
   "metadata": {},
   "outputs": [],
   "source": [
    "#Search method 2\n",
    "from sklearn.linear_model import SGDClassifier \n",
    "from sklearn.model_selection import RandomizedSearchCV \n",
    "loss = ['hinge', 'log', 'modified_huber', 'squared_hinge']\n",
    "penalty = ['l1', 'l2', 'elasticnet'] \n",
    "alpha = [0.0001, 0.001, 0.01, 0.1, 1, 10, 100, 1000] \n",
    "learning_rate = ['constant', 'optimal', 'invscaling', 'adaptive'] \n",
    "#class_weight = [{1:0.5, 0:0.5}, {1:0.4, 0:0.6}, {1:0.6, 0:0.4}, {1:0.7, 0:0.3}]\n",
    "eta0 = [1, 10, 100] \n",
    "param_distributions = dict(loss=loss, \n",
    "penalty=penalty, \n",
    "alpha=alpha, \n",
    "learning_rate=learning_rate, \n",
    "eta0=eta0) "
   ]
  },
  {
   "cell_type": "code",
   "execution_count": 60,
   "id": "6336dc7a",
   "metadata": {
    "scrolled": true
   },
   "outputs": [
    {
     "name": "stdout",
     "output_type": "stream",
     "text": [
      "Fitting 5 folds for each of 1000 candidates, totalling 5000 fits\n"
     ]
    },
    {
     "name": "stderr",
     "output_type": "stream",
     "text": [
      "C:\\Users\\olani\\anaconda3\\envs\\Machine Learning 1\\lib\\site-packages\\sklearn\\model_selection\\_search.py:921: UserWarning: One or more of the test scores are non-finite: [nan nan nan nan nan nan nan nan nan nan nan nan nan nan nan nan nan nan\n",
      " nan nan nan nan nan nan nan nan nan nan nan nan nan nan nan nan nan nan\n",
      " nan nan nan nan nan nan nan nan nan nan nan nan nan nan nan nan nan nan\n",
      " nan nan nan nan nan nan nan nan nan nan nan nan nan nan nan nan nan nan\n",
      " nan nan nan nan nan nan nan nan nan nan nan nan nan nan nan nan nan nan\n",
      " nan nan nan nan nan nan nan nan nan nan nan nan nan nan nan nan nan nan\n",
      " nan nan nan nan nan nan nan nan nan nan nan nan nan nan nan nan nan nan\n",
      " nan nan nan nan nan nan nan nan nan nan nan nan nan nan nan nan nan nan\n",
      " nan nan nan nan nan nan nan nan nan nan nan nan nan nan nan nan nan nan\n",
      " nan nan nan nan nan nan nan nan nan nan nan nan nan nan nan nan nan nan\n",
      " nan nan nan nan nan nan nan nan nan nan nan nan nan nan nan nan nan nan\n",
      " nan nan nan nan nan nan nan nan nan nan nan nan nan nan nan nan nan nan\n",
      " nan nan nan nan nan nan nan nan nan nan nan nan nan nan nan nan nan nan\n",
      " nan nan nan nan nan nan nan nan nan nan nan nan nan nan nan nan nan nan\n",
      " nan nan nan nan nan nan nan nan nan nan nan nan nan nan nan nan nan nan\n",
      " nan nan nan nan nan nan nan nan nan nan nan nan nan nan nan nan nan nan\n",
      " nan nan nan nan nan nan nan nan nan nan nan nan nan nan nan nan nan nan\n",
      " nan nan nan nan nan nan nan nan nan nan nan nan nan nan nan nan nan nan\n",
      " nan nan nan nan nan nan nan nan nan nan nan nan nan nan nan nan nan nan\n",
      " nan nan nan nan nan nan nan nan nan nan nan nan nan nan nan nan nan nan\n",
      " nan nan nan nan nan nan nan nan nan nan nan nan nan nan nan nan nan nan\n",
      " nan nan nan nan nan nan nan nan nan nan nan nan nan nan nan nan nan nan\n",
      " nan nan nan nan nan nan nan nan nan nan nan nan nan nan nan nan nan nan\n",
      " nan nan nan nan nan nan nan nan nan nan nan nan nan nan nan nan nan nan\n",
      " nan nan nan nan nan nan nan nan nan nan nan nan nan nan nan nan nan nan\n",
      " nan nan nan nan nan nan nan nan nan nan nan nan nan nan nan nan nan nan\n",
      " nan nan nan nan nan nan nan nan nan nan nan nan nan nan nan nan nan nan\n",
      " nan nan nan nan nan nan nan nan nan nan nan nan nan nan nan nan nan nan\n",
      " nan nan nan nan nan nan nan nan nan nan nan nan nan nan nan nan nan nan\n",
      " nan nan nan nan nan nan nan nan nan nan nan nan nan nan nan nan nan nan\n",
      " nan nan nan nan nan nan nan nan nan nan nan nan nan nan nan nan nan nan\n",
      " nan nan nan nan nan nan nan nan nan nan nan nan nan nan nan nan nan nan\n",
      " nan nan nan nan nan nan nan nan nan nan nan nan nan nan nan nan nan nan\n",
      " nan nan nan nan nan nan nan nan nan nan nan nan nan nan nan nan nan nan\n",
      " nan nan nan nan nan nan nan nan nan nan nan nan nan nan nan nan nan nan\n",
      " nan nan nan nan nan nan nan nan nan nan nan nan nan nan nan nan nan nan\n",
      " nan nan nan nan nan nan nan nan nan nan nan nan nan nan nan nan nan nan\n",
      " nan nan nan nan nan nan nan nan nan nan nan nan nan nan nan nan nan nan\n",
      " nan nan nan nan nan nan nan nan nan nan nan nan nan nan nan nan nan nan\n",
      " nan nan nan nan nan nan nan nan nan nan nan nan nan nan nan nan nan nan\n",
      " nan nan nan nan nan nan nan nan nan nan nan nan nan nan nan nan nan nan\n",
      " nan nan nan nan nan nan nan nan nan nan nan nan nan nan nan nan nan nan\n",
      " nan nan nan nan nan nan nan nan nan nan nan nan nan nan nan nan nan nan\n",
      " nan nan nan nan nan nan nan nan nan nan nan nan nan nan nan nan nan nan\n",
      " nan nan nan nan nan nan nan nan nan nan nan nan nan nan nan nan nan nan\n",
      " nan nan nan nan nan nan nan nan nan nan nan nan nan nan nan nan nan nan\n",
      " nan nan nan nan nan nan nan nan nan nan nan nan nan nan nan nan nan nan\n",
      " nan nan nan nan nan nan nan nan nan nan nan nan nan nan nan nan nan nan\n",
      " nan nan nan nan nan nan nan nan nan nan nan nan nan nan nan nan nan nan\n",
      " nan nan nan nan nan nan nan nan nan nan nan nan nan nan nan nan nan nan\n",
      " nan nan nan nan nan nan nan nan nan nan nan nan nan nan nan nan nan nan\n",
      " nan nan nan nan nan nan nan nan nan nan nan nan nan nan nan nan nan nan\n",
      " nan nan nan nan nan nan nan nan nan nan nan nan nan nan nan nan nan nan\n",
      " nan nan nan nan nan nan nan nan nan nan nan nan nan nan nan nan nan nan\n",
      " nan nan nan nan nan nan nan nan nan nan nan nan nan nan nan nan nan nan\n",
      " nan nan nan nan nan nan nan nan nan nan]\n",
      "  category=UserWarning\n"
     ]
    },
    {
     "name": "stdout",
     "output_type": "stream",
     "text": [
      "Best Score:  nan\n",
      "Best Params:  {'penalty': 'l2', 'loss': 'modified_huber', 'learning_rate': 'adaptive', 'eta0': 1, 'alpha': 100}\n"
     ]
    }
   ],
   "source": [
    "sgd = SGDClassifier(early_stopping=True, validation_fraction=0.15, max_iter=1000, class_weight = \"balanced\") \n",
    "random = RandomizedSearchCV(estimator=sgd, \n",
    "param_distributions=param_distributions, \n",
    "scoring='roc_auc', \n",
    "verbose=1, n_jobs=-1, \n",
    "n_iter=1000) \n",
    "random_result = random.fit(X_train_class,olist_train_y_range) \n",
    "print('Best Score: ', random_result.best_score_) \n",
    "print('Best Params: ', random_result.best_params_) "
   ]
  },
  {
   "cell_type": "code",
   "execution_count": 61,
   "id": "f82f0288",
   "metadata": {},
   "outputs": [
    {
     "data": {
      "text/plain": [
       "SGDClassifier(alpha=0.1, eta0=1, learning_rate='invscaling',\n",
       "              loss='modified_huber', random_state=42)"
      ]
     },
     "execution_count": 61,
     "metadata": {},
     "output_type": "execute_result"
    }
   ],
   "source": [
    "from sklearn.linear_model import SGDClassifier\n",
    "sgd_clf_search = SGDClassifier(loss='modified_huber', penalty='l2',\n",
    "                               learning_rate='invscaling', eta0=1, alpha=0.1, random_state=42)\n",
    "sgd_clf_search.fit(X_train_class,olist_train_y_range)"
   ]
  },
  {
   "cell_type": "code",
   "execution_count": 62,
   "id": "992b2839",
   "metadata": {},
   "outputs": [],
   "source": [
    "#y_train_pred_class = sgd_clf_search.predict(X_train_class)\n",
    "y_test_pred_class_sdg_search = sgd_clf_search.predict(X_test_class)"
   ]
  },
  {
   "cell_type": "code",
   "execution_count": 63,
   "id": "8948c292",
   "metadata": {},
   "outputs": [],
   "source": [
    "#y_train_pred_class = sgd_clf_search.predict(X_train_class)\n",
    "y_test_pred_class_lr = logr_clf.predict(X_test_class)"
   ]
  },
  {
   "cell_type": "code",
   "execution_count": 119,
   "id": "14e9b273",
   "metadata": {},
   "outputs": [],
   "source": [
    "#Predict SVM\n",
    "y_test_pred_svm_lr = svm_clf.predict(X_test_class)"
   ]
  },
  {
   "cell_type": "code",
   "execution_count": 64,
   "id": "3d4a57b3",
   "metadata": {},
   "outputs": [],
   "source": [
    "#Accuracy\n",
    "from sklearn.metrics import accuracy_score\n",
    "from sklearn.metrics import precision_recall_fscore_support"
   ]
  },
  {
   "cell_type": "code",
   "execution_count": 65,
   "id": "92c69627",
   "metadata": {},
   "outputs": [
    {
     "data": {
      "text/plain": [
       "0.8026211975103007"
      ]
     },
     "execution_count": 65,
     "metadata": {},
     "output_type": "execute_result"
    }
   ],
   "source": [
    "#Train-test log R, accuracy\n",
    "accuracy_score(olist_test_y_range, y_test_pred_class_lr)"
   ]
  },
  {
   "cell_type": "code",
   "execution_count": 66,
   "id": "68e41a0a",
   "metadata": {},
   "outputs": [
    {
     "data": {
      "text/plain": [
       "(0.8549719148586454, 0.8026211975103007, 0.8278851913220535, None)"
      ]
     },
     "execution_count": 66,
     "metadata": {},
     "output_type": "execute_result"
    }
   ],
   "source": [
    "#Train-test log R\n",
    "precision_recall_fscore_support(olist_test_y_range, y_test_pred_class_lr, average='weighted')"
   ]
  },
  {
   "cell_type": "code",
   "execution_count": 67,
   "id": "01ff716b",
   "metadata": {
    "scrolled": true
   },
   "outputs": [
    {
     "name": "stderr",
     "output_type": "stream",
     "text": [
      "C:\\Users\\olani\\anaconda3\\envs\\Machine Learning 1\\lib\\site-packages\\sklearn\\metrics\\_classification.py:1245: UndefinedMetricWarning: Precision and F-score are ill-defined and being set to 0.0 in labels with no predicted samples. Use `zero_division` parameter to control this behavior.\n",
      "  _warn_prf(average, modifier, msg_start, len(result))\n"
     ]
    },
    {
     "data": {
      "text/plain": [
       "(0.845448882212208, 0.8384325414219339, 0.7654848595649958, None)"
      ]
     },
     "execution_count": 67,
     "metadata": {},
     "output_type": "execute_result"
    }
   ],
   "source": [
    "#Train-test SGD search\n",
    "precision_recall_fscore_support(olist_test_y_range, y_test_pred_class_sdg_search, average='weighted')"
   ]
  },
  {
   "cell_type": "code",
   "execution_count": 121,
   "id": "fd932daa",
   "metadata": {
    "scrolled": false
   },
   "outputs": [
    {
     "name": "stderr",
     "output_type": "stream",
     "text": [
      "C:\\Users\\olani\\anaconda3\\envs\\Machine Learning 1\\lib\\site-packages\\sklearn\\metrics\\_classification.py:1245: UndefinedMetricWarning: Precision and F-score are ill-defined and being set to 0.0 in labels with no predicted samples. Use `zero_division` parameter to control this behavior.\n",
      "  _warn_prf(average, modifier, msg_start, len(result))\n"
     ]
    },
    {
     "data": {
      "text/plain": [
       "(0.8527003723173464, 0.8678881388621023, 0.8543832402541341, None)"
      ]
     },
     "execution_count": 121,
     "metadata": {},
     "output_type": "execute_result"
    }
   ],
   "source": [
    "#Performance metric for SVM\n",
    "precision_recall_fscore_support(olist_test_y_range, y_test_pred_svm_lr, average='weighted')"
   ]
  },
  {
   "cell_type": "code",
   "execution_count": 99,
   "id": "0dd4d7d4",
   "metadata": {},
   "outputs": [
    {
     "name": "stderr",
     "output_type": "stream",
     "text": [
      "C:\\Users\\olani\\anaconda3\\envs\\Machine Learning 1\\lib\\site-packages\\sklearn\\metrics\\_classification.py:1245: UndefinedMetricWarning: Precision and F-score are ill-defined and being set to 0.0 in labels with no predicted samples. Use `zero_division` parameter to control this behavior.\n",
      "  _warn_prf(average, modifier, msg_start, len(result))\n"
     ]
    },
    {
     "data": {
      "text/plain": [
       "(0.85792913094114, 0.8722714122906987, 0.8575511839855111, None)"
      ]
     },
     "execution_count": 99,
     "metadata": {},
     "output_type": "execute_result"
    }
   ],
   "source": [
    "#Performance metric for SVC\n",
    "precision_recall_fscore_support(olist_test_y_range, y_test_pred_svc, average='weighted')"
   ]
  },
  {
   "cell_type": "code",
   "execution_count": 122,
   "id": "e716024c",
   "metadata": {},
   "outputs": [
    {
     "name": "stdout",
     "output_type": "stream",
     "text": [
      "[[ 1.17395862e-07  2.57699627e-07 -1.32144473e-07  3.91568957e-08\n",
      "  -2.14878526e-07 -2.50000499e-01 -2.50000778e-01 -2.50000469e-01\n",
      "   2.54048484e-05  2.51527509e-07 -4.31458809e-06  7.50251248e-06\n",
      "  -6.55467252e-06]\n",
      " [-6.82228209e-02  5.03006425e-02 -6.04258820e-01  5.19933961e-02\n",
      "   1.03731771e-01 -5.55163833e-01 -4.93607915e-01 -2.62445432e-01\n",
      "  -9.20992666e-01 -3.88075822e+00 -1.53830522e+00 -1.16860815e-01\n",
      "  -5.38172504e+00]\n",
      " [ 7.90686752e-02 -4.98514314e-02  6.02180221e-01 -5.19839665e-02\n",
      "  -1.03141362e-01  5.55456045e-01  4.89913877e-01  2.63636095e-01\n",
      "   9.11458928e-01  3.86956956e+00  1.55415321e+00  1.06062607e-01\n",
      "   5.39469746e+00]]\n"
     ]
    },
    {
     "data": {
      "text/plain": [
       "<AxesSubplot:>"
      ]
     },
     "execution_count": 122,
     "metadata": {},
     "output_type": "execute_result"
    },
    {
     "data": {
      "image/png": "[encoded data removed]",
      "text/plain": [
       "<Figure size 432x288 with 1 Axes>"
      ]
     },
     "metadata": {},
     "output_type": "display_data"
    }
   ],
   "source": [
    "print(svm_clf.coef_)\n",
    "weights = pd.Series(svm_clf.coef_[0],index=olist_class2.columns)\n",
    "weights.plot(kind='bar')"
   ]
  },
  {
   "cell_type": "code",
   "execution_count": 101,
   "id": "ce767e1f",
   "metadata": {
    "scrolled": true
   },
   "outputs": [
    {
     "name": "stdout",
     "output_type": "stream",
     "text": [
      "(24442, 13)\n",
      "(24442,)\n",
      "[   14 12107 12321]\n"
     ]
    }
   ],
   "source": [
    "# look at the support vectors\n",
    "print(svc_clf.support_vectors_.shape)\n",
    "print(svc_clf.support_.shape)\n",
    "print(svc_clf.n_support_ )"
   ]
  },
  {
   "cell_type": "code",
   "execution_count": 110,
   "id": "d76ac73e",
   "metadata": {
    "scrolled": true
   },
   "outputs": [
    {
     "name": "stdout",
     "output_type": "stream",
     "text": [
      "[[-0.13139922  0.19569267  0.23908008 ... -0.10153828 -0.30989105\n",
      "  -0.17830046]\n",
      " [-0.13139922  1.7515616  -0.05465764 ... -0.00516953 -0.16871443\n",
      "  -0.36214181]\n",
      " [-0.13139922 -0.46071702 -0.31159884 ... -0.10153828 -0.05341599\n",
      "  -0.35923743]\n",
      " ...\n",
      " [-0.13139922  0.18162446 -0.37250342 ...  0.08278839 -0.2340178\n",
      "  -0.28949483]\n",
      " [-0.13139922 -0.33575511 -0.511442   ...  0.00901272 -0.30989105\n",
      "  -0.24806786]\n",
      " [-0.13139922  1.74223609 -0.19740275 ... -0.10153828 -0.01072491\n",
      "   0.0666128 ]]\n"
     ]
    }
   ],
   "source": [
    "print(svc_clf.support_vectors_)"
   ]
  },
  {
   "cell_type": "code",
   "execution_count": 104,
   "id": "10516332",
   "metadata": {},
   "outputs": [
    {
     "name": "stdout",
     "output_type": "stream",
     "text": [
      "<class 'pandas.core.frame.DataFrame'>\n",
      "Int64Index: 91252 entries, 18821 to 38408\n",
      "Data columns (total 13 columns):\n",
      " #   Column                          Non-Null Count  Dtype         \n",
      "---  ------                          --------------  -----         \n",
      " 0   payment_sequential              91252 non-null  float64       \n",
      " 1   product_category_english        91252 non-null  category      \n",
      " 2   seller_zip_code_prefix          91252 non-null  category      \n",
      " 3   seller_city                     91252 non-null  category      \n",
      " 4   tot_order_amt                   91252 non-null  float64       \n",
      " 5   freight_value                   91252 non-null  float64       \n",
      " 6   product_dimensions              91252 non-null  float64       \n",
      " 7   review_score_class              91252 non-null  category      \n",
      " 8   product_weight_g                91252 non-null  float64       \n",
      " 9   customer_city                   91252 non-null  category      \n",
      " 10  customer_zip_code_prefix        91252 non-null  category      \n",
      " 11  order_approved_at               91252 non-null  datetime64[ns]\n",
      " 12  order_delivery_actual_duration  91252 non-null  float64       \n",
      "dtypes: category(6), datetime64[ns](1), float64(6)\n",
      "memory usage: 7.3 MB\n"
     ]
    }
   ],
   "source": [
    "olist_train.info()"
   ]
  },
  {
   "cell_type": "code",
   "execution_count": 123,
   "id": "099eaafd",
   "metadata": {},
   "outputs": [
    {
     "data": {
      "image/png": "[encoded data removed]",
      "text/plain": [
       "<Figure size 432x288 with 1 Axes>"
      ]
     },
     "metadata": {},
     "output_type": "display_data"
    }
   ],
   "source": [
    "plt.scatter(X_train_class[:, 4], X_train_class[:, 5], c=olist_train_y_range, s=50, cmap='autumn')\n",
    "plt.scatter(svc_clf.support_vectors_[:,4], svc_clf.support_vectors_[:,5], color='red')\n",
    "plt.title('Linearly separable data with support vectors')\n",
    "#plt.xlabel('X1')\n",
    "#plt.ylabel('X2')\n",
    "plt.show()"
   ]
  },
  {
   "cell_type": "markdown",
   "id": "db2725b5",
   "metadata": {},
   "source": [
    "#### SVM Visualiations"
   ]
  },
  {
   "cell_type": "code",
   "execution_count": null,
   "id": "54d78eb5",
   "metadata": {},
   "outputs": [],
   "source": [
    "#Set up the train and test\n",
    "#We do not need to scale our data since we want plot the support vectors"
   ]
  },
  {
   "cell_type": "code",
   "execution_count": 154,
   "id": "39165929",
   "metadata": {},
   "outputs": [
    {
     "name": "stdout",
     "output_type": "stream",
     "text": [
      "<class 'pandas.core.frame.DataFrame'>\n",
      "Int64Index: 91252 entries, 18821 to 38408\n",
      "Data columns (total 12 columns):\n",
      " #   Column                    Non-Null Count  Dtype         \n",
      "---  ------                    --------------  -----         \n",
      " 0   payment_sequential        91252 non-null  float64       \n",
      " 1   product_category_english  91252 non-null  category      \n",
      " 2   seller_zip_code_prefix    91252 non-null  category      \n",
      " 3   seller_city               91252 non-null  category      \n",
      " 4   tot_order_amt             91252 non-null  float64       \n",
      " 5   freight_value             91252 non-null  float64       \n",
      " 6   product_dimensions        91252 non-null  float64       \n",
      " 7   review_score_class        91252 non-null  category      \n",
      " 8   product_weight_g          91252 non-null  float64       \n",
      " 9   customer_city             91252 non-null  category      \n",
      " 10  customer_zip_code_prefix  91252 non-null  category      \n",
      " 11  order_approved_at         91252 non-null  datetime64[ns]\n",
      "dtypes: category(6), datetime64[ns](1), float64(5)\n",
      "memory usage: 8.6 MB\n"
     ]
    }
   ],
   "source": [
    "olist_train_noY.info()"
   ]
  },
  {
   "cell_type": "code",
   "execution_count": null,
   "id": "13b3a248",
   "metadata": {},
   "outputs": [],
   "source": []
  },
  {
   "cell_type": "code",
   "execution_count": 155,
   "id": "93bbbacc",
   "metadata": {},
   "outputs": [
    {
     "data": {
      "text/html": [
       "<div>\n",
       "<style scoped>\n",
       "    .dataframe tbody tr th:only-of-type {\n",
       "        vertical-align: middle;\n",
       "    }\n",
       "\n",
       "    .dataframe tbody tr th {\n",
       "        vertical-align: top;\n",
       "    }\n",
       "\n",
       "    .dataframe thead th {\n",
       "        text-align: right;\n",
       "    }\n",
       "</style>\n",
       "<table border=\"1\" class=\"dataframe\">\n",
       "  <thead>\n",
       "    <tr style=\"text-align: right;\">\n",
       "      <th></th>\n",
       "      <th>payment_sequential</th>\n",
       "      <th>product_category_english</th>\n",
       "      <th>seller_zip_code_prefix</th>\n",
       "      <th>seller_city</th>\n",
       "      <th>tot_order_amt</th>\n",
       "      <th>freight_value</th>\n",
       "      <th>product_dimensions</th>\n",
       "      <th>review_score_class</th>\n",
       "      <th>product_weight_g</th>\n",
       "      <th>customer_city</th>\n",
       "      <th>customer_zip_code_prefix</th>\n",
       "      <th>order_approved_at</th>\n",
       "    </tr>\n",
       "  </thead>\n",
       "  <tbody>\n",
       "    <tr>\n",
       "      <th>18821</th>\n",
       "      <td>1.0</td>\n",
       "      <td>pet_shop</td>\n",
       "      <td>38700.0</td>\n",
       "      <td>patos de minas</td>\n",
       "      <td>119.57</td>\n",
       "      <td>19.67</td>\n",
       "      <td>5130.0</td>\n",
       "      <td>good</td>\n",
       "      <td>850.0</td>\n",
       "      <td>cajamar</td>\n",
       "      <td>7791</td>\n",
       "      <td>2018-06-07 16:41:20</td>\n",
       "    </tr>\n",
       "    <tr>\n",
       "      <th>49882</th>\n",
       "      <td>1.0</td>\n",
       "      <td>bed_bath_table</td>\n",
       "      <td>14940.0</td>\n",
       "      <td>ibitinga</td>\n",
       "      <td>136.69</td>\n",
       "      <td>43.79</td>\n",
       "      <td>20944.0</td>\n",
       "      <td>good</td>\n",
       "      <td>1825.0</td>\n",
       "      <td>redencao</td>\n",
       "      <td>68552</td>\n",
       "      <td>2018-03-26 11:47:50</td>\n",
       "    </tr>\n",
       "    <tr>\n",
       "      <th>42080</th>\n",
       "      <td>1.0</td>\n",
       "      <td>watches_gifts</td>\n",
       "      <td>14840.0</td>\n",
       "      <td>guariba</td>\n",
       "      <td>591.00</td>\n",
       "      <td>18.10</td>\n",
       "      <td>3458.0</td>\n",
       "      <td>good</td>\n",
       "      <td>710.0</td>\n",
       "      <td>sao paulo</td>\n",
       "      <td>4551</td>\n",
       "      <td>2018-04-01 19:10:09</td>\n",
       "    </tr>\n",
       "    <tr>\n",
       "      <th>43892</th>\n",
       "      <td>1.0</td>\n",
       "      <td>computers_accessories</td>\n",
       "      <td>30882.0</td>\n",
       "      <td>belo horizonte</td>\n",
       "      <td>59.22</td>\n",
       "      <td>19.32</td>\n",
       "      <td>2210.0</td>\n",
       "      <td>fair</td>\n",
       "      <td>285.0</td>\n",
       "      <td>birigui</td>\n",
       "      <td>16200</td>\n",
       "      <td>2018-05-11 03:50:17</td>\n",
       "    </tr>\n",
       "    <tr>\n",
       "      <th>58593</th>\n",
       "      <td>1.0</td>\n",
       "      <td>furniture_living_room</td>\n",
       "      <td>15014.0</td>\n",
       "      <td>s jose do rio preto</td>\n",
       "      <td>164.41</td>\n",
       "      <td>60.42</td>\n",
       "      <td>37260.0</td>\n",
       "      <td>bad</td>\n",
       "      <td>9750.0</td>\n",
       "      <td>alagoinhas</td>\n",
       "      <td>48040</td>\n",
       "      <td>2017-02-02 23:35:17</td>\n",
       "    </tr>\n",
       "  </tbody>\n",
       "</table>\n",
       "</div>"
      ],
      "text/plain": [
       "       payment_sequential product_category_english seller_zip_code_prefix  \\\n",
       "18821                 1.0                 pet_shop                38700.0   \n",
       "49882                 1.0           bed_bath_table                14940.0   \n",
       "42080                 1.0            watches_gifts                14840.0   \n",
       "43892                 1.0    computers_accessories                30882.0   \n",
       "58593                 1.0    furniture_living_room                15014.0   \n",
       "\n",
       "               seller_city  tot_order_amt  freight_value  product_dimensions  \\\n",
       "18821       patos de minas         119.57          19.67              5130.0   \n",
       "49882             ibitinga         136.69          43.79             20944.0   \n",
       "42080              guariba         591.00          18.10              3458.0   \n",
       "43892       belo horizonte          59.22          19.32              2210.0   \n",
       "58593  s jose do rio preto         164.41          60.42             37260.0   \n",
       "\n",
       "      review_score_class  product_weight_g customer_city  \\\n",
       "18821               good             850.0       cajamar   \n",
       "49882               good            1825.0      redencao   \n",
       "42080               good             710.0     sao paulo   \n",
       "43892               fair             285.0       birigui   \n",
       "58593                bad            9750.0    alagoinhas   \n",
       "\n",
       "      customer_zip_code_prefix   order_approved_at  \n",
       "18821                     7791 2018-06-07 16:41:20  \n",
       "49882                    68552 2018-03-26 11:47:50  \n",
       "42080                     4551 2018-04-01 19:10:09  \n",
       "43892                    16200 2018-05-11 03:50:17  \n",
       "58593                    48040 2017-02-02 23:35:17  "
      ]
     },
     "execution_count": 155,
     "metadata": {},
     "output_type": "execute_result"
    }
   ],
   "source": [
    "olist_train_noY.head()"
   ]
  },
  {
   "cell_type": "code",
   "execution_count": 161,
   "id": "ceec88b2",
   "metadata": {},
   "outputs": [],
   "source": [
    "olist_train_cat = ['product_category_english', 'seller_city', 'review_score_class', 'customer_city']\n",
    "olist_train_cat_num = ['product_category_english_num', 'seller_city_num', 'review_score_class_num', 'customer_city_num']"
   ]
  },
  {
   "cell_type": "code",
   "execution_count": null,
   "id": "646237a9",
   "metadata": {},
   "outputs": [],
   "source": [
    "olist_class2 = olist_class[['payment_sequential', 'product_category_english', \n",
    "                            'seller_zip_code_prefix','seller_city', 'tot_order_amt', \n",
    "                            'freight_value', 'product_dimensions', 'review_score_class', 'product_weight_g', 'customer_city',\n",
    "                            'customer_zip_code_prefix','order_approved_at', 'order_delivery_actual_duration']]"
   ]
  },
  {
   "cell_type": "code",
   "execution_count": 162,
   "id": "d5544783",
   "metadata": {},
   "outputs": [],
   "source": [
    "olist_train_noY2 = olist_train_noY.copy()"
   ]
  },
  {
   "cell_type": "code",
   "execution_count": 164,
   "id": "4f54044d",
   "metadata": {},
   "outputs": [],
   "source": [
    "for i in olist_train_cat:\n",
    "    for j in olist_train_cat_num:\n",
    "        olist_train_noY2[j] = olist_train_noY2[i].copy().astype(\"category\").cat.codes\n",
    "        "
   ]
  },
  {
   "cell_type": "code",
   "execution_count": 172,
   "id": "0648ba81",
   "metadata": {},
   "outputs": [],
   "source": [
    "olist_train_noY2['order_approved_at_num'] = olist_train_noY2['order_approved_at'].copy().astype(\"category\").cat.codes"
   ]
  },
  {
   "cell_type": "code",
   "execution_count": 174,
   "id": "45174556",
   "metadata": {},
   "outputs": [
    {
     "data": {
      "text/html": [
       "<div>\n",
       "<style scoped>\n",
       "    .dataframe tbody tr th:only-of-type {\n",
       "        vertical-align: middle;\n",
       "    }\n",
       "\n",
       "    .dataframe tbody tr th {\n",
       "        vertical-align: top;\n",
       "    }\n",
       "\n",
       "    .dataframe thead th {\n",
       "        text-align: right;\n",
       "    }\n",
       "</style>\n",
       "<table border=\"1\" class=\"dataframe\">\n",
       "  <thead>\n",
       "    <tr style=\"text-align: right;\">\n",
       "      <th></th>\n",
       "      <th>payment_sequential</th>\n",
       "      <th>seller_zip_code_prefix</th>\n",
       "      <th>tot_order_amt</th>\n",
       "      <th>freight_value</th>\n",
       "      <th>product_dimensions</th>\n",
       "      <th>product_weight_g</th>\n",
       "      <th>customer_zip_code_prefix</th>\n",
       "      <th>product_category_english_num</th>\n",
       "      <th>seller_city_num</th>\n",
       "      <th>review_score_class_num</th>\n",
       "      <th>customer_city_num</th>\n",
       "      <th>order_approved_at_num</th>\n",
       "    </tr>\n",
       "  </thead>\n",
       "  <tbody>\n",
       "    <tr>\n",
       "      <th>18821</th>\n",
       "      <td>1.0</td>\n",
       "      <td>38700.0</td>\n",
       "      <td>119.57</td>\n",
       "      <td>19.67</td>\n",
       "      <td>5130.0</td>\n",
       "      <td>850.0</td>\n",
       "      <td>7791</td>\n",
       "      <td>647</td>\n",
       "      <td>647</td>\n",
       "      <td>647</td>\n",
       "      <td>647</td>\n",
       "      <td>59948</td>\n",
       "    </tr>\n",
       "    <tr>\n",
       "      <th>49882</th>\n",
       "      <td>1.0</td>\n",
       "      <td>14940.0</td>\n",
       "      <td>136.69</td>\n",
       "      <td>43.79</td>\n",
       "      <td>20944.0</td>\n",
       "      <td>1825.0</td>\n",
       "      <td>68552</td>\n",
       "      <td>3051</td>\n",
       "      <td>3051</td>\n",
       "      <td>3051</td>\n",
       "      <td>3051</td>\n",
       "      <td>48124</td>\n",
       "    </tr>\n",
       "    <tr>\n",
       "      <th>42080</th>\n",
       "      <td>1.0</td>\n",
       "      <td>14840.0</td>\n",
       "      <td>591.00</td>\n",
       "      <td>18.10</td>\n",
       "      <td>3458.0</td>\n",
       "      <td>710.0</td>\n",
       "      <td>4551</td>\n",
       "      <td>3554</td>\n",
       "      <td>3554</td>\n",
       "      <td>3554</td>\n",
       "      <td>3554</td>\n",
       "      <td>49082</td>\n",
       "    </tr>\n",
       "    <tr>\n",
       "      <th>43892</th>\n",
       "      <td>1.0</td>\n",
       "      <td>30882.0</td>\n",
       "      <td>59.22</td>\n",
       "      <td>19.32</td>\n",
       "      <td>2210.0</td>\n",
       "      <td>285.0</td>\n",
       "      <td>16200</td>\n",
       "      <td>471</td>\n",
       "      <td>471</td>\n",
       "      <td>471</td>\n",
       "      <td>471</td>\n",
       "      <td>56043</td>\n",
       "    </tr>\n",
       "    <tr>\n",
       "      <th>58593</th>\n",
       "      <td>1.0</td>\n",
       "      <td>15014.0</td>\n",
       "      <td>164.41</td>\n",
       "      <td>60.42</td>\n",
       "      <td>37260.0</td>\n",
       "      <td>9750.0</td>\n",
       "      <td>48040</td>\n",
       "      <td>69</td>\n",
       "      <td>69</td>\n",
       "      <td>69</td>\n",
       "      <td>69</td>\n",
       "      <td>900</td>\n",
       "    </tr>\n",
       "  </tbody>\n",
       "</table>\n",
       "</div>"
      ],
      "text/plain": [
       "       payment_sequential seller_zip_code_prefix  tot_order_amt  \\\n",
       "18821                 1.0                38700.0         119.57   \n",
       "49882                 1.0                14940.0         136.69   \n",
       "42080                 1.0                14840.0         591.00   \n",
       "43892                 1.0                30882.0          59.22   \n",
       "58593                 1.0                15014.0         164.41   \n",
       "\n",
       "       freight_value  product_dimensions  product_weight_g  \\\n",
       "18821          19.67              5130.0             850.0   \n",
       "49882          43.79             20944.0            1825.0   \n",
       "42080          18.10              3458.0             710.0   \n",
       "43892          19.32              2210.0             285.0   \n",
       "58593          60.42             37260.0            9750.0   \n",
       "\n",
       "      customer_zip_code_prefix product_category_english_num seller_city_num  \\\n",
       "18821                     7791                          647             647   \n",
       "49882                    68552                         3051            3051   \n",
       "42080                     4551                         3554            3554   \n",
       "43892                    16200                          471             471   \n",
       "58593                    48040                           69              69   \n",
       "\n",
       "      review_score_class_num customer_city_num  order_approved_at_num  \n",
       "18821                    647               647                  59948  \n",
       "49882                   3051              3051                  48124  \n",
       "42080                   3554              3554                  49082  \n",
       "43892                    471               471                  56043  \n",
       "58593                     69                69                    900  "
      ]
     },
     "execution_count": 174,
     "metadata": {},
     "output_type": "execute_result"
    }
   ],
   "source": [
    "del olist_train_noY2['order_approved_at']\n",
    "olist_train_noY2.head()"
   ]
  },
  {
   "cell_type": "code",
   "execution_count": 166,
   "id": "233c5fc2",
   "metadata": {},
   "outputs": [],
   "source": [
    "for i in olist_train_cat:\n",
    "    if i in olist_train_noY2:\n",
    "        del olist_train_noY2[i]"
   ]
  },
  {
   "cell_type": "code",
   "execution_count": 167,
   "id": "ab49753d",
   "metadata": {},
   "outputs": [
    {
     "data": {
      "text/html": [
       "<div>\n",
       "<style scoped>\n",
       "    .dataframe tbody tr th:only-of-type {\n",
       "        vertical-align: middle;\n",
       "    }\n",
       "\n",
       "    .dataframe tbody tr th {\n",
       "        vertical-align: top;\n",
       "    }\n",
       "\n",
       "    .dataframe thead th {\n",
       "        text-align: right;\n",
       "    }\n",
       "</style>\n",
       "<table border=\"1\" class=\"dataframe\">\n",
       "  <thead>\n",
       "    <tr style=\"text-align: right;\">\n",
       "      <th></th>\n",
       "      <th>payment_sequential</th>\n",
       "      <th>seller_zip_code_prefix</th>\n",
       "      <th>tot_order_amt</th>\n",
       "      <th>freight_value</th>\n",
       "      <th>product_dimensions</th>\n",
       "      <th>product_weight_g</th>\n",
       "      <th>customer_zip_code_prefix</th>\n",
       "      <th>order_approved_at</th>\n",
       "      <th>product_category_english_num</th>\n",
       "      <th>seller_city_num</th>\n",
       "      <th>review_score_class_num</th>\n",
       "      <th>customer_city_num</th>\n",
       "    </tr>\n",
       "  </thead>\n",
       "  <tbody>\n",
       "    <tr>\n",
       "      <th>18821</th>\n",
       "      <td>1.0</td>\n",
       "      <td>38700.0</td>\n",
       "      <td>119.57</td>\n",
       "      <td>19.67</td>\n",
       "      <td>5130.0</td>\n",
       "      <td>850.0</td>\n",
       "      <td>7791</td>\n",
       "      <td>2018-06-07 16:41:20</td>\n",
       "      <td>647</td>\n",
       "      <td>647</td>\n",
       "      <td>647</td>\n",
       "      <td>647</td>\n",
       "    </tr>\n",
       "    <tr>\n",
       "      <th>49882</th>\n",
       "      <td>1.0</td>\n",
       "      <td>14940.0</td>\n",
       "      <td>136.69</td>\n",
       "      <td>43.79</td>\n",
       "      <td>20944.0</td>\n",
       "      <td>1825.0</td>\n",
       "      <td>68552</td>\n",
       "      <td>2018-03-26 11:47:50</td>\n",
       "      <td>3051</td>\n",
       "      <td>3051</td>\n",
       "      <td>3051</td>\n",
       "      <td>3051</td>\n",
       "    </tr>\n",
       "    <tr>\n",
       "      <th>42080</th>\n",
       "      <td>1.0</td>\n",
       "      <td>14840.0</td>\n",
       "      <td>591.00</td>\n",
       "      <td>18.10</td>\n",
       "      <td>3458.0</td>\n",
       "      <td>710.0</td>\n",
       "      <td>4551</td>\n",
       "      <td>2018-04-01 19:10:09</td>\n",
       "      <td>3554</td>\n",
       "      <td>3554</td>\n",
       "      <td>3554</td>\n",
       "      <td>3554</td>\n",
       "    </tr>\n",
       "    <tr>\n",
       "      <th>43892</th>\n",
       "      <td>1.0</td>\n",
       "      <td>30882.0</td>\n",
       "      <td>59.22</td>\n",
       "      <td>19.32</td>\n",
       "      <td>2210.0</td>\n",
       "      <td>285.0</td>\n",
       "      <td>16200</td>\n",
       "      <td>2018-05-11 03:50:17</td>\n",
       "      <td>471</td>\n",
       "      <td>471</td>\n",
       "      <td>471</td>\n",
       "      <td>471</td>\n",
       "    </tr>\n",
       "    <tr>\n",
       "      <th>58593</th>\n",
       "      <td>1.0</td>\n",
       "      <td>15014.0</td>\n",
       "      <td>164.41</td>\n",
       "      <td>60.42</td>\n",
       "      <td>37260.0</td>\n",
       "      <td>9750.0</td>\n",
       "      <td>48040</td>\n",
       "      <td>2017-02-02 23:35:17</td>\n",
       "      <td>69</td>\n",
       "      <td>69</td>\n",
       "      <td>69</td>\n",
       "      <td>69</td>\n",
       "    </tr>\n",
       "  </tbody>\n",
       "</table>\n",
       "</div>"
      ],
      "text/plain": [
       "       payment_sequential seller_zip_code_prefix  tot_order_amt  \\\n",
       "18821                 1.0                38700.0         119.57   \n",
       "49882                 1.0                14940.0         136.69   \n",
       "42080                 1.0                14840.0         591.00   \n",
       "43892                 1.0                30882.0          59.22   \n",
       "58593                 1.0                15014.0         164.41   \n",
       "\n",
       "       freight_value  product_dimensions  product_weight_g  \\\n",
       "18821          19.67              5130.0             850.0   \n",
       "49882          43.79             20944.0            1825.0   \n",
       "42080          18.10              3458.0             710.0   \n",
       "43892          19.32              2210.0             285.0   \n",
       "58593          60.42             37260.0            9750.0   \n",
       "\n",
       "      customer_zip_code_prefix   order_approved_at  \\\n",
       "18821                     7791 2018-06-07 16:41:20   \n",
       "49882                    68552 2018-03-26 11:47:50   \n",
       "42080                     4551 2018-04-01 19:10:09   \n",
       "43892                    16200 2018-05-11 03:50:17   \n",
       "58593                    48040 2017-02-02 23:35:17   \n",
       "\n",
       "       product_category_english_num  seller_city_num  review_score_class_num  \\\n",
       "18821                           647              647                     647   \n",
       "49882                          3051             3051                    3051   \n",
       "42080                          3554             3554                    3554   \n",
       "43892                           471              471                     471   \n",
       "58593                            69               69                      69   \n",
       "\n",
       "       customer_city_num  \n",
       "18821                647  \n",
       "49882               3051  \n",
       "42080               3554  \n",
       "43892                471  \n",
       "58593                 69  "
      ]
     },
     "execution_count": 167,
     "metadata": {},
     "output_type": "execute_result"
    }
   ],
   "source": [
    "olist_train_noY2.head()"
   ]
  },
  {
   "cell_type": "code",
   "execution_count": 168,
   "id": "be25dcfc",
   "metadata": {},
   "outputs": [
    {
     "name": "stdout",
     "output_type": "stream",
     "text": [
      "<class 'pandas.core.frame.DataFrame'>\n",
      "Int64Index: 91252 entries, 18821 to 38408\n",
      "Data columns (total 12 columns):\n",
      " #   Column                        Non-Null Count  Dtype         \n",
      "---  ------                        --------------  -----         \n",
      " 0   payment_sequential            91252 non-null  float64       \n",
      " 1   seller_zip_code_prefix        91252 non-null  category      \n",
      " 2   tot_order_amt                 91252 non-null  float64       \n",
      " 3   freight_value                 91252 non-null  float64       \n",
      " 4   product_dimensions            91252 non-null  float64       \n",
      " 5   product_weight_g              91252 non-null  float64       \n",
      " 6   customer_zip_code_prefix      91252 non-null  category      \n",
      " 7   order_approved_at             91252 non-null  datetime64[ns]\n",
      " 8   product_category_english_num  91252 non-null  int16         \n",
      " 9   seller_city_num               91252 non-null  int16         \n",
      " 10  review_score_class_num        91252 non-null  int16         \n",
      " 11  customer_city_num             91252 non-null  int16         \n",
      "dtypes: category(2), datetime64[ns](1), float64(5), int16(4)\n",
      "memory usage: 8.6 MB\n"
     ]
    }
   ],
   "source": [
    "olist_train_noY2.info()"
   ]
  },
  {
   "cell_type": "code",
   "execution_count": 169,
   "id": "104bc3ff",
   "metadata": {},
   "outputs": [],
   "source": [
    "#Convert the new to categories as normal\n",
    "for j in olist_train_cat_num:\n",
    "    olist_train_noY2[j] = olist_train_noY2[j].astype(\"category\")"
   ]
  },
  {
   "cell_type": "code",
   "execution_count": 170,
   "id": "f8c9e417",
   "metadata": {},
   "outputs": [
    {
     "name": "stdout",
     "output_type": "stream",
     "text": [
      "<class 'pandas.core.frame.DataFrame'>\n",
      "Int64Index: 91252 entries, 18821 to 38408\n",
      "Data columns (total 12 columns):\n",
      " #   Column                        Non-Null Count  Dtype         \n",
      "---  ------                        --------------  -----         \n",
      " 0   payment_sequential            91252 non-null  float64       \n",
      " 1   seller_zip_code_prefix        91252 non-null  category      \n",
      " 2   tot_order_amt                 91252 non-null  float64       \n",
      " 3   freight_value                 91252 non-null  float64       \n",
      " 4   product_dimensions            91252 non-null  float64       \n",
      " 5   product_weight_g              91252 non-null  float64       \n",
      " 6   customer_zip_code_prefix      91252 non-null  category      \n",
      " 7   order_approved_at             91252 non-null  datetime64[ns]\n",
      " 8   product_category_english_num  91252 non-null  category      \n",
      " 9   seller_city_num               91252 non-null  category      \n",
      " 10  review_score_class_num        91252 non-null  category      \n",
      " 11  customer_city_num             91252 non-null  category      \n",
      "dtypes: category(6), datetime64[ns](1), float64(5)\n",
      "memory usage: 9.3 MB\n"
     ]
    }
   ],
   "source": [
    "olist_train_noY2.info()"
   ]
  },
  {
   "cell_type": "code",
   "execution_count": 175,
   "id": "5ed05b64",
   "metadata": {},
   "outputs": [
    {
     "data": {
      "text/plain": [
       "SVC(C=0.5, gamma='auto')"
      ]
     },
     "execution_count": 175,
     "metadata": {},
     "output_type": "execute_result"
    }
   ],
   "source": [
    "# lets investigate SVMs on the data and play with the parameters and kernels\n",
    "from sklearn.svm import SVC\n",
    "\n",
    "# train the model just as before\n",
    "svm_clf = SVC(C=0.5, kernel='rbf', degree=3, gamma='auto') # get object\n",
    "svm_clf.fit(olist_train_noY2, olist_train_y_range)  # train object"
   ]
  },
  {
   "cell_type": "code",
   "execution_count": null,
   "id": "c4422911",
   "metadata": {},
   "outputs": [],
   "source": []
  },
  {
   "cell_type": "code",
   "execution_count": null,
   "id": "b356c4da",
   "metadata": {},
   "outputs": [],
   "source": []
  },
  {
   "cell_type": "code",
   "execution_count": null,
   "id": "c10d9a23",
   "metadata": {},
   "outputs": [],
   "source": []
  },
  {
   "cell_type": "code",
   "execution_count": null,
   "id": "19bd0176",
   "metadata": {},
   "outputs": [],
   "source": []
  },
  {
   "cell_type": "markdown",
   "id": "676213be",
   "metadata": {},
   "source": [
    "## 2. Model Advantages (10 points)\n",
    "Discuss the advantages of each model for each classification task. Does one type of model offer superior performance over another in terms of prediction accuracy? In terms of training time or efficiency? Explain in detail.\n",
    "\n",
    "- Accuracy increased significantly when I manually reduced the C value from 1 to 0.05.\n",
    "- There was no significant changes when I reduced it to 0.5\n",
    "\n",
    "### Comment on Parameter search\n",
    "The Best Parameters suggested by the search produced a better recall at the expense of F-score.\n",
    "The grid search method took almost 2 hours to complete but I did not get a significant improvement to the performance metrics\n"
   ]
  },
  {
   "cell_type": "markdown",
   "id": "43349b04",
   "metadata": {},
   "source": [
    "# 3. Interpret Feature Importance (30 points)\n",
    "\n",
    "- Use the weights from logistic regression to interpret the importance of different features for the classification task.\n",
    "- Explain your interpretation in detail. Why do you think some variables are more important?"
   ]
  },
  {
   "cell_type": "code",
   "execution_count": 185,
   "id": "8e5259ab",
   "metadata": {},
   "outputs": [
    {
     "name": "stdout",
     "output_type": "stream",
     "text": [
      "payment_sequential has an odd ratio of 0.014357995393943916\n",
      "product_category_english has an odd ratio of 6.4181999425219365\n",
      "seller_zip_code_prefix has an odd ratio of 0.012500490718502877\n",
      "seller_city has an odd ratio of 31.260759696031283\n",
      "tot_order_amt has an odd ratio of 0.6142610245863809\n",
      "freight_value has an odd ratio of 284.58035336218893\n",
      "product_dimensions has an odd ratio of 0.007962062225687126\n",
      "review_score_class has an odd ratio of 0.15967547280070057\n",
      "product_weight_g has an odd ratio of 3.0929766340339624\n",
      "customer_city has an odd ratio of 11.085614220189438\n",
      "customer_zip_code_prefix has an odd ratio of 0.7508591623141151\n",
      "order_approved_at has an odd ratio of 965.4663888749528\n"
     ]
    }
   ],
   "source": [
    "# iterate over the coefficients\n",
    "weights = np.exp(logr_clf.coef_).T # take transpose to make a column vector\n",
    "variable_names = olist_train_noY.columns\n",
    "for coef, name in zip(weights,variable_names):\n",
    "    print(name, 'has an odd ratio of', (coef[0])) #np.exp(clf.coef_)"
   ]
  },
  {
   "cell_type": "code",
   "execution_count": 183,
   "id": "b17c2a49",
   "metadata": {},
   "outputs": [
    {
     "data": {
      "text/plain": [
       "array([[ -4.24344832,   1.8591377 ,  -4.38198738,   3.44236363,\n",
       "         -0.48733532,   5.65101565,  -4.83306724,  -1.83461182,\n",
       "          1.12913394,   2.40564825,  -0.28653718,   6.87261129,\n",
       "        -19.11905826],\n",
       "       [  2.23199354,  -1.75089731,   1.44134883,  -2.8906967 ,\n",
       "          1.21423217,  -6.81651229,   2.79761941,   2.41908261,\n",
       "         -3.19358897,  -6.5134088 ,  -0.90848849,  -4.84590322,\n",
       "          2.30931167],\n",
       "       [  2.01145478,  -0.10824038,   2.94063855,  -0.55166693,\n",
       "         -0.72689685,   1.16549664,   2.03544783,  -0.58447079,\n",
       "          2.06445503,   4.10776055,   1.19502567,  -2.02670807,\n",
       "         16.8097466 ]])"
      ]
     },
     "execution_count": 183,
     "metadata": {},
     "output_type": "execute_result"
    }
   ],
   "source": [
    "logr_clf.coef_"
   ]
  },
  {
   "cell_type": "code",
   "execution_count": 182,
   "id": "84186569",
   "metadata": {},
   "outputs": [
    {
     "ename": "TypeError",
     "evalue": "only size-1 arrays can be converted to Python scalars",
     "output_type": "error",
     "traceback": [
      "\u001b[1;31m---------------------------------------------------------------------------\u001b[0m",
      "\u001b[1;31mTypeError\u001b[0m                                 Traceback (most recent call last)",
      "\u001b[1;32m<ipython-input-182-4cbfcd13777f>\u001b[0m in \u001b[0;36m<module>\u001b[1;34m\u001b[0m\n\u001b[0;32m      2\u001b[0m \u001b[1;31m# summarize feature importance\u001b[0m\u001b[1;33m\u001b[0m\u001b[1;33m\u001b[0m\u001b[1;33m\u001b[0m\u001b[0m\n\u001b[0;32m      3\u001b[0m \u001b[1;32mfor\u001b[0m \u001b[0mi\u001b[0m \u001b[1;32min\u001b[0m \u001b[0menumerate\u001b[0m\u001b[1;33m(\u001b[0m\u001b[0mimportance\u001b[0m\u001b[1;33m)\u001b[0m\u001b[1;33m:\u001b[0m\u001b[1;33m\u001b[0m\u001b[1;33m\u001b[0m\u001b[0m\n\u001b[1;32m----> 4\u001b[1;33m     \u001b[0mprint\u001b[0m\u001b[1;33m(\u001b[0m\u001b[1;34m'Feature: %0d, Score: %.5f'\u001b[0m \u001b[1;33m%\u001b[0m \u001b[1;33m(\u001b[0m\u001b[0mi\u001b[0m\u001b[1;33m)\u001b[0m\u001b[1;33m)\u001b[0m\u001b[1;33m\u001b[0m\u001b[1;33m\u001b[0m\u001b[0m\n\u001b[0m\u001b[0;32m      5\u001b[0m     \u001b[1;31m# plot feature importance\u001b[0m\u001b[1;33m\u001b[0m\u001b[1;33m\u001b[0m\u001b[1;33m\u001b[0m\u001b[0m\n\u001b[0;32m      6\u001b[0m \u001b[0mpyplot\u001b[0m\u001b[1;33m.\u001b[0m\u001b[0mbar\u001b[0m\u001b[1;33m(\u001b[0m\u001b[1;33m[\u001b[0m\u001b[0mx\u001b[0m \u001b[1;32mfor\u001b[0m \u001b[0mx\u001b[0m \u001b[1;32min\u001b[0m \u001b[0mrange\u001b[0m\u001b[1;33m(\u001b[0m\u001b[0mlen\u001b[0m\u001b[1;33m(\u001b[0m\u001b[0mimportance\u001b[0m\u001b[1;33m)\u001b[0m\u001b[1;33m)\u001b[0m\u001b[1;33m]\u001b[0m\u001b[1;33m,\u001b[0m \u001b[0mimportance\u001b[0m\u001b[1;33m)\u001b[0m\u001b[1;33m\u001b[0m\u001b[1;33m\u001b[0m\u001b[0m\n",
      "\u001b[1;31mTypeError\u001b[0m: only size-1 arrays can be converted to Python scalars"
     ]
    }
   ],
   "source": [
    "importance = logr_clf.coef_\n",
    "# summarize feature importance\n",
    "for i in enumerate(importance):\n",
    "    print('Feature: %0d, Score: %.5f' % (i))\n",
    "    # plot feature importance\n",
    "pyplot.bar([x for x in range(len(importance))], importance)\n",
    "pyplot.show()"
   ]
  },
  {
   "cell_type": "code",
   "execution_count": 86,
   "id": "29d9a683",
   "metadata": {},
   "outputs": [
    {
     "ename": "ValueError",
     "evalue": "Length of passed values is 13, index implies 12.",
     "output_type": "error",
     "traceback": [
      "\u001b[1;31m---------------------------------------------------------------------------\u001b[0m",
      "\u001b[1;31mValueError\u001b[0m                                Traceback (most recent call last)",
      "\u001b[1;32m<ipython-input-86-03e39d999d83>\u001b[0m in \u001b[0;36m<module>\u001b[1;34m\u001b[0m\n\u001b[0;32m      5\u001b[0m \u001b[1;33m\u001b[0m\u001b[0m\n\u001b[0;32m      6\u001b[0m \u001b[1;33m\u001b[0m\u001b[0m\n\u001b[1;32m----> 7\u001b[1;33m \u001b[0mweights\u001b[0m \u001b[1;33m=\u001b[0m \u001b[0mpd\u001b[0m\u001b[1;33m.\u001b[0m\u001b[0mSeries\u001b[0m\u001b[1;33m(\u001b[0m\u001b[0mlogr_clf\u001b[0m\u001b[1;33m.\u001b[0m\u001b[0mcoef_\u001b[0m\u001b[1;33m[\u001b[0m\u001b[1;36m0\u001b[0m\u001b[1;33m]\u001b[0m\u001b[1;33m,\u001b[0m\u001b[0mindex\u001b[0m\u001b[1;33m=\u001b[0m\u001b[1;33m[\u001b[0m\u001b[0molist_train_noY\u001b[0m\u001b[1;33m.\u001b[0m\u001b[0mcolumns\u001b[0m\u001b[1;33m]\u001b[0m\u001b[1;33m)\u001b[0m\u001b[1;33m\u001b[0m\u001b[1;33m\u001b[0m\u001b[0m\n\u001b[0m\u001b[0;32m      8\u001b[0m \u001b[0mweights\u001b[0m\u001b[1;33m.\u001b[0m\u001b[0mplot\u001b[0m\u001b[1;33m(\u001b[0m\u001b[0mkind\u001b[0m\u001b[1;33m=\u001b[0m\u001b[1;34m'bar'\u001b[0m\u001b[1;33m)\u001b[0m\u001b[1;33m\u001b[0m\u001b[1;33m\u001b[0m\u001b[0m\n\u001b[0;32m      9\u001b[0m \u001b[0mplt\u001b[0m\u001b[1;33m.\u001b[0m\u001b[0mshow\u001b[0m\u001b[1;33m(\u001b[0m\u001b[1;33m)\u001b[0m\u001b[1;33m\u001b[0m\u001b[1;33m\u001b[0m\u001b[0m\n",
      "\u001b[1;32m~\\anaconda3\\envs\\Machine Learning 1\\lib\\site-packages\\pandas\\core\\series.py\u001b[0m in \u001b[0;36m__init__\u001b[1;34m(self, data, index, dtype, name, copy, fastpath)\u001b[0m\n\u001b[0;32m    349\u001b[0m                     \u001b[1;32mif\u001b[0m \u001b[0mlen\u001b[0m\u001b[1;33m(\u001b[0m\u001b[0mindex\u001b[0m\u001b[1;33m)\u001b[0m \u001b[1;33m!=\u001b[0m \u001b[0mlen\u001b[0m\u001b[1;33m(\u001b[0m\u001b[0mdata\u001b[0m\u001b[1;33m)\u001b[0m\u001b[1;33m:\u001b[0m\u001b[1;33m\u001b[0m\u001b[1;33m\u001b[0m\u001b[0m\n\u001b[0;32m    350\u001b[0m                         raise ValueError(\n\u001b[1;32m--> 351\u001b[1;33m                             \u001b[1;34mf\"Length of passed values is {len(data)}, \"\u001b[0m\u001b[1;33m\u001b[0m\u001b[1;33m\u001b[0m\u001b[0m\n\u001b[0m\u001b[0;32m    352\u001b[0m                             \u001b[1;34mf\"index implies {len(index)}.\"\u001b[0m\u001b[1;33m\u001b[0m\u001b[1;33m\u001b[0m\u001b[0m\n\u001b[0;32m    353\u001b[0m                         )\n",
      "\u001b[1;31mValueError\u001b[0m: Length of passed values is 13, index implies 12."
     ]
    }
   ],
   "source": [
    "# now let's make a pandas Series with the names and values, and plot them\n",
    "from matplotlib import pyplot as plt\n",
    "%matplotlib inline\n",
    "plt.style.use('ggplot')\n",
    "\n",
    "\n",
    "weights = pd.Series(logr_clf.coef_[0],index=[olist_train_noY.columns])\n",
    "weights.plot(kind='bar')\n",
    "plt.show()"
   ]
  },
  {
   "cell_type": "code",
   "execution_count": 87,
   "id": "8b72104e",
   "metadata": {
    "scrolled": true
   },
   "outputs": [
    {
     "data": {
      "text/plain": [
       "array([ -4.24344832,   1.8591377 ,  -4.38198738,   3.44236363,\n",
       "        -0.48733532,   5.65101565,  -4.83306724,  -1.83461182,\n",
       "         1.12913394,   2.40564825,  -0.28653718,   6.87261129,\n",
       "       -19.11905826])"
      ]
     },
     "execution_count": 87,
     "metadata": {},
     "output_type": "execute_result"
    }
   ],
   "source": [
    "logr_clf.coef_[0]"
   ]
  },
  {
   "cell_type": "code",
   "execution_count": 94,
   "id": "c2ab03fa",
   "metadata": {},
   "outputs": [
    {
     "name": "stdout",
     "output_type": "stream",
     "text": [
      "<class 'pandas.core.frame.DataFrame'>\n",
      "Int64Index: 91252 entries, 18821 to 38408\n",
      "Data columns (total 12 columns):\n",
      " #   Column                    Non-Null Count  Dtype         \n",
      "---  ------                    --------------  -----         \n",
      " 0   payment_sequential        91252 non-null  float64       \n",
      " 1   product_category_english  91252 non-null  category      \n",
      " 2   seller_zip_code_prefix    91252 non-null  category      \n",
      " 3   seller_city               91252 non-null  category      \n",
      " 4   tot_order_amt             91252 non-null  float64       \n",
      " 5   freight_value             91252 non-null  float64       \n",
      " 6   product_dimensions        91252 non-null  float64       \n",
      " 7   review_score_class        91252 non-null  category      \n",
      " 8   product_weight_g          91252 non-null  float64       \n",
      " 9   customer_city             91252 non-null  category      \n",
      " 10  customer_zip_code_prefix  91252 non-null  category      \n",
      " 11  order_approved_at         91252 non-null  datetime64[ns]\n",
      "dtypes: category(6), datetime64[ns](1), float64(5)\n",
      "memory usage: 6.6 MB\n"
     ]
    }
   ],
   "source": [
    "olist_train_noY.info()"
   ]
  },
  {
   "cell_type": "code",
   "execution_count": 92,
   "id": "8a448fb8",
   "metadata": {},
   "outputs": [
    {
     "name": "stdout",
     "output_type": "stream",
     "text": [
      "Warning: Maximum number of iterations has been exceeded.\n",
      "         Current function value: 0.266757\n",
      "         Iterations: 35\n"
     ]
    },
    {
     "name": "stderr",
     "output_type": "stream",
     "text": [
      "C:\\Users\\olani\\anaconda3\\envs\\Machine Learning 1\\lib\\site-packages\\statsmodels\\base\\model.py:568: ConvergenceWarning: Maximum Likelihood optimization failed to converge. Check mle_retvals\n",
      "  ConvergenceWarning)\n"
     ]
    },
    {
     "data": {
      "text/html": [
       "<table class=\"simpletable\">\n",
       "<caption>MNLogit Regression Results</caption>\n",
       "<tr>\n",
       "  <th>Dep. Variable:</th>   <td>order_delivery_actual_duration</td> <th>  No. Observations:  </th>  <td> 91252</td> \n",
       "</tr>\n",
       "<tr>\n",
       "  <th>Model:</th>                       <td>MNLogit</td>            <th>  Df Residuals:      </th>  <td> 91226</td> \n",
       "</tr>\n",
       "<tr>\n",
       "  <th>Method:</th>                        <td>MLE</td>              <th>  Df Model:          </th>  <td>    24</td> \n",
       "</tr>\n",
       "<tr>\n",
       "  <th>Date:</th>                   <td>Sat, 05 Jun 2021</td>        <th>  Pseudo R-squ.:     </th>  <td>0.3965</td> \n",
       "</tr>\n",
       "<tr>\n",
       "  <th>Time:</th>                       <td>21:19:01</td>            <th>  Log-Likelihood:    </th> <td> -24342.</td>\n",
       "</tr>\n",
       "<tr>\n",
       "  <th>converged:</th>                    <td>False</td>             <th>  LL-Null:           </th> <td> -40333.</td>\n",
       "</tr>\n",
       "<tr>\n",
       "  <th>Covariance Type:</th>            <td>nonrobust</td>           <th>  LLR p-value:       </th>  <td> 0.000</td> \n",
       "</tr>\n",
       "</table>\n",
       "<table class=\"simpletable\">\n",
       "<tr>\n",
       "  <th>order_delivery_actual_duration=2</th>    <th>coef</th>     <th>std err</th>      <th>z</th>      <th>P>|z|</th>  <th>[0.025</th>    <th>0.975]</th>  \n",
       "</tr>\n",
       "<tr>\n",
       "  <th>x1</th>                               <td>   12.2826</td> <td> 8006.662</td> <td>    0.002</td> <td> 0.999</td> <td>-1.57e+04</td> <td> 1.57e+04</td>\n",
       "</tr>\n",
       "<tr>\n",
       "  <th>x2</th>                               <td>   -0.1266</td> <td>    0.137</td> <td>   -0.922</td> <td> 0.356</td> <td>   -0.396</td> <td>    0.142</td>\n",
       "</tr>\n",
       "<tr>\n",
       "  <th>x3</th>                               <td>   -0.5160</td> <td>    0.502</td> <td>   -1.028</td> <td> 0.304</td> <td>   -1.500</td> <td>    0.467</td>\n",
       "</tr>\n",
       "<tr>\n",
       "  <th>x4</th>                               <td>   -0.3756</td> <td>    0.352</td> <td>   -1.067</td> <td> 0.286</td> <td>   -1.066</td> <td>    0.314</td>\n",
       "</tr>\n",
       "<tr>\n",
       "  <th>x5</th>                               <td>    0.4836</td> <td>    0.460</td> <td>    1.050</td> <td> 0.294</td> <td>   -0.419</td> <td>    1.386</td>\n",
       "</tr>\n",
       "<tr>\n",
       "  <th>x6</th>                               <td>    7.6253</td> <td> 1052.069</td> <td>    0.007</td> <td> 0.994</td> <td>-2054.393</td> <td> 2069.643</td>\n",
       "</tr>\n",
       "<tr>\n",
       "  <th>x7</th>                               <td>   14.9591</td> <td> 1052.452</td> <td>    0.014</td> <td> 0.989</td> <td>-2047.809</td> <td> 2077.728</td>\n",
       "</tr>\n",
       "<tr>\n",
       "  <th>x8</th>                               <td>    8.6727</td> <td> 1052.069</td> <td>    0.008</td> <td> 0.993</td> <td>-2053.345</td> <td> 2070.691</td>\n",
       "</tr>\n",
       "<tr>\n",
       "  <th>x9</th>                               <td>   -7.4868</td> <td>    6.826</td> <td>   -1.097</td> <td> 0.273</td> <td>  -20.865</td> <td>    5.892</td>\n",
       "</tr>\n",
       "<tr>\n",
       "  <th>x10</th>                              <td>   -1.8023</td> <td>    3.075</td> <td>   -0.586</td> <td> 0.558</td> <td>   -7.830</td> <td>    4.225</td>\n",
       "</tr>\n",
       "<tr>\n",
       "  <th>x11</th>                              <td>    1.8162</td> <td>    4.658</td> <td>    0.390</td> <td> 0.697</td> <td>   -7.313</td> <td>   10.946</td>\n",
       "</tr>\n",
       "<tr>\n",
       "  <th>x12</th>                              <td>   -9.9793</td> <td>    2.785</td> <td>   -3.583</td> <td> 0.000</td> <td>  -15.439</td> <td>   -4.520</td>\n",
       "</tr>\n",
       "<tr>\n",
       "  <th>x13</th>                              <td>    9.2956</td> <td>    2.039</td> <td>    4.559</td> <td> 0.000</td> <td>    5.300</td> <td>   13.292</td>\n",
       "</tr>\n",
       "<tr>\n",
       "  <th>order_delivery_actual_duration=3</th>    <th>coef</th>     <th>std err</th>      <th>z</th>      <th>P>|z|</th>  <th>[0.025</th>    <th>0.975]</th>  \n",
       "</tr>\n",
       "<tr>\n",
       "  <th>x1</th>                               <td>   12.4079</td> <td> 8006.662</td> <td>    0.002</td> <td> 0.999</td> <td>-1.57e+04</td> <td> 1.57e+04</td>\n",
       "</tr>\n",
       "<tr>\n",
       "  <th>x2</th>                               <td>   -0.2364</td> <td>    0.137</td> <td>   -1.721</td> <td> 0.085</td> <td>   -0.506</td> <td>    0.033</td>\n",
       "</tr>\n",
       "<tr>\n",
       "  <th>x3</th>                               <td>    0.4492</td> <td>    0.502</td> <td>    0.896</td> <td> 0.370</td> <td>   -0.534</td> <td>    1.432</td>\n",
       "</tr>\n",
       "<tr>\n",
       "  <th>x4</th>                               <td>   -0.4671</td> <td>    0.352</td> <td>   -1.327</td> <td> 0.184</td> <td>   -1.157</td> <td>    0.223</td>\n",
       "</tr>\n",
       "<tr>\n",
       "  <th>x5</th>                               <td>    0.2816</td> <td>    0.460</td> <td>    0.612</td> <td> 0.541</td> <td>   -0.621</td> <td>    1.184</td>\n",
       "</tr>\n",
       "<tr>\n",
       "  <th>x6</th>                               <td>   10.6591</td> <td> 1052.069</td> <td>    0.010</td> <td> 0.992</td> <td>-2051.359</td> <td> 2072.677</td>\n",
       "</tr>\n",
       "<tr>\n",
       "  <th>x7</th>                               <td>   17.8769</td> <td> 1052.452</td> <td>    0.017</td> <td> 0.986</td> <td>-2044.892</td> <td> 2080.645</td>\n",
       "</tr>\n",
       "<tr>\n",
       "  <th>x8</th>                               <td>   11.1770</td> <td> 1052.069</td> <td>    0.011</td> <td> 0.992</td> <td>-2050.841</td> <td> 2073.195</td>\n",
       "</tr>\n",
       "<tr>\n",
       "  <th>x9</th>                               <td>   -5.5868</td> <td>    6.827</td> <td>   -0.818</td> <td> 0.413</td> <td>  -18.968</td> <td>    7.794</td>\n",
       "</tr>\n",
       "<tr>\n",
       "  <th>x10</th>                              <td>    5.0829</td> <td>    3.077</td> <td>    1.652</td> <td> 0.099</td> <td>   -0.947</td> <td>   11.113</td>\n",
       "</tr>\n",
       "<tr>\n",
       "  <th>x11</th>                              <td>    2.8181</td> <td>    4.659</td> <td>    0.605</td> <td> 0.545</td> <td>   -6.313</td> <td>   11.949</td>\n",
       "</tr>\n",
       "<tr>\n",
       "  <th>x12</th>                              <td>   -9.5333</td> <td>    2.786</td> <td>   -3.422</td> <td> 0.001</td> <td>  -14.993</td> <td>   -4.073</td>\n",
       "</tr>\n",
       "<tr>\n",
       "  <th>x13</th>                              <td>   18.3274</td> <td>    2.041</td> <td>    8.980</td> <td> 0.000</td> <td>   14.327</td> <td>   22.327</td>\n",
       "</tr>\n",
       "</table>"
      ],
      "text/plain": [
       "<class 'statsmodels.iolib.summary.Summary'>\n",
       "\"\"\"\n",
       "                                MNLogit Regression Results                                \n",
       "==========================================================================================\n",
       "Dep. Variable:     order_delivery_actual_duration   No. Observations:                91252\n",
       "Model:                                    MNLogit   Df Residuals:                    91226\n",
       "Method:                                       MLE   Df Model:                           24\n",
       "Date:                            Sat, 05 Jun 2021   Pseudo R-squ.:                  0.3965\n",
       "Time:                                    21:19:01   Log-Likelihood:                -24342.\n",
       "converged:                                  False   LL-Null:                       -40333.\n",
       "Covariance Type:                        nonrobust   LLR p-value:                     0.000\n",
       "====================================================================================================\n",
       "order_delivery_actual_duration=2       coef    std err          z      P>|z|      [0.025      0.975]\n",
       "----------------------------------------------------------------------------------------------------\n",
       "x1                                  12.2826   8006.662      0.002      0.999   -1.57e+04    1.57e+04\n",
       "x2                                  -0.1266      0.137     -0.922      0.356      -0.396       0.142\n",
       "x3                                  -0.5160      0.502     -1.028      0.304      -1.500       0.467\n",
       "x4                                  -0.3756      0.352     -1.067      0.286      -1.066       0.314\n",
       "x5                                   0.4836      0.460      1.050      0.294      -0.419       1.386\n",
       "x6                                   7.6253   1052.069      0.007      0.994   -2054.393    2069.643\n",
       "x7                                  14.9591   1052.452      0.014      0.989   -2047.809    2077.728\n",
       "x8                                   8.6727   1052.069      0.008      0.993   -2053.345    2070.691\n",
       "x9                                  -7.4868      6.826     -1.097      0.273     -20.865       5.892\n",
       "x10                                 -1.8023      3.075     -0.586      0.558      -7.830       4.225\n",
       "x11                                  1.8162      4.658      0.390      0.697      -7.313      10.946\n",
       "x12                                 -9.9793      2.785     -3.583      0.000     -15.439      -4.520\n",
       "x13                                  9.2956      2.039      4.559      0.000       5.300      13.292\n",
       "----------------------------------------------------------------------------------------------------\n",
       "order_delivery_actual_duration=3       coef    std err          z      P>|z|      [0.025      0.975]\n",
       "----------------------------------------------------------------------------------------------------\n",
       "x1                                  12.4079   8006.662      0.002      0.999   -1.57e+04    1.57e+04\n",
       "x2                                  -0.2364      0.137     -1.721      0.085      -0.506       0.033\n",
       "x3                                   0.4492      0.502      0.896      0.370      -0.534       1.432\n",
       "x4                                  -0.4671      0.352     -1.327      0.184      -1.157       0.223\n",
       "x5                                   0.2816      0.460      0.612      0.541      -0.621       1.184\n",
       "x6                                  10.6591   1052.069      0.010      0.992   -2051.359    2072.677\n",
       "x7                                  17.8769   1052.452      0.017      0.986   -2044.892    2080.645\n",
       "x8                                  11.1770   1052.069      0.011      0.992   -2050.841    2073.195\n",
       "x9                                  -5.5868      6.827     -0.818      0.413     -18.968       7.794\n",
       "x10                                  5.0829      3.077      1.652      0.099      -0.947      11.113\n",
       "x11                                  2.8181      4.659      0.605      0.545      -6.313      11.949\n",
       "x12                                 -9.5333      2.786     -3.422      0.001     -14.993      -4.073\n",
       "x13                                 18.3274      2.041      8.980      0.000      14.327      22.327\n",
       "====================================================================================================\n",
       "\"\"\""
      ]
     },
     "execution_count": 92,
     "metadata": {},
     "output_type": "execute_result"
    }
   ],
   "source": [
    "# importing libraries\n",
    "import statsmodels.api as sm\n",
    "log_reg = sm.MNLogit(olist_train_y_range, X_train_class).fit()\n",
    "log_reg.summary()"
   ]
  },
  {
   "cell_type": "markdown",
   "id": "118a1cf7",
   "metadata": {},
   "source": [
    "# 4. Interpret support vectors\n",
    "\n",
    "- Look at the chosen support vectors for the classification task. \n",
    "- Do these provide any insight into the data? Explain. \n",
    "- If you used stochastic gradient descent (and therefore did not explicitly solve for support vectors), try subsampling your data to train the SVC model\n",
    "    - then analyze the support vectors from the subsampled dataset."
   ]
  },
  {
   "cell_type": "markdown",
   "id": "4c208e80",
   "metadata": {},
   "source": [
    "### SVM\n",
    "- Weights\n",
    "Freight Value, product_dimensions and review_score_class have the highest weight in determining the separating hyperplane of the fitted dataset with respect to the actual_delivery_duration class labels.\n",
    "- This is agreeable with business factors that influence the delivery of an order and the previously identifed customer satisfaction metric.\n",
    "- Note that the previosly, linear correlation heatmap show that review score has the strongest correlation with actual_delivery_duration.\n",
    "- The dimension of a package and freight_value might have multi-colinearity issues but both could easily have effect on the logistics of a package delivery.\n",
    "- I am surprised that Seller and customer zip codes do not have as high weights as well."
   ]
  },
  {
   "cell_type": "code",
   "execution_count": null,
   "id": "a4aa5b42",
   "metadata": {},
   "outputs": [],
   "source": []
  },
  {
   "cell_type": "code",
   "execution_count": null,
   "id": "12a1c5ea",
   "metadata": {},
   "outputs": [],
   "source": []
  },
  {
   "cell_type": "code",
   "execution_count": null,
   "id": "810809aa",
   "metadata": {},
   "outputs": [],
   "source": []
  },
  {
   "cell_type": "code",
   "execution_count": null,
   "id": "8fea0be2",
   "metadata": {},
   "outputs": [],
   "source": []
  },
  {
   "cell_type": "code",
   "execution_count": null,
   "id": "64c72c9a",
   "metadata": {},
   "outputs": [],
   "source": []
  },
  {
   "cell_type": "code",
   "execution_count": null,
   "id": "68f5b2c6",
   "metadata": {},
   "outputs": [],
   "source": []
  },
  {
   "cell_type": "code",
   "execution_count": null,
   "id": "a62f0c33",
   "metadata": {},
   "outputs": [],
   "source": []
  },
  {
   "cell_type": "code",
   "execution_count": null,
   "id": "e57c475b",
   "metadata": {},
   "outputs": [],
   "source": []
  }
 ],
 "metadata": {
  "kernelspec": {
   "display_name": "Python 3",
   "language": "python",
   "name": "python3"
  },
  "language_info": {
   "codemirror_mode": {
    "name": "ipython",
    "version": 3
   },
   "file_extension": ".py",
   "mimetype": "text/x-python",
   "name": "python",
   "nbconvert_exporter": "python",
   "pygments_lexer": "ipython3",
   "version": "3.7.10"
  }
 },
 "nbformat": 4,
 "nbformat_minor": 5
}
