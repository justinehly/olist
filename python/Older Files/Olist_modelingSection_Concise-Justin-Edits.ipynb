{
 "cells": [
  {
   "cell_type": "markdown",
   "id": "6e0664f2",
   "metadata": {},
   "source": [
    "# Mini Lab\n",
    "\n",
    "## Group Members\n",
    "- Helene Barrera\n",
    "- Feby Thomas\n",
    "- John Olanipekun\n",
    "- Justin Ehly\n",
    "\n",
    "## <span style='color:blue'> Mini Lab Executive Summary </span>\n",
    "* This exercise seeks to fit **logistic regression**  and **Support Vector Machine** models to our groups dataset: *Olist E-Commerce* dataset. \n",
    "* We will develop a base classifier that determines if a package is <span style='color:red'> **'late', 'on time' or 'early'**</span> and subsequently tune the hyperparameters for possible improvement to the performance metrics (i.e. Accuracy, Precision, F-Score and Sensitivity).\n",
    "* This modeling phase will utilize the 'clean' dataset that was processed for the visualization task, but still needs some data preprocessing due to the transfer from one project to the next using a CSV file. \n",
    "* The **derived** response for the objective is actual delivery duration. Therefore the predictive model will predict actual delivery duration with performance measured on the held out test set. "
   ]
  },
  {
   "cell_type": "code",
   "execution_count": 1,
   "id": "3c3e6926",
   "metadata": {},
   "outputs": [],
   "source": [
    "# set up environment\n",
    "import numpy as np\n",
    "import pandas as pd\n",
    "import os\n",
    "from datetime import datetime as dt\n",
    "import matplotlib.pyplot as plt\n",
    "import seaborn as sns\n"
   ]
  },
  {
   "cell_type": "code",
   "execution_count": 2,
   "id": "cea471d9",
   "metadata": {},
   "outputs": [
    {
     "data": {
      "text/plain": [
       "'C:\\\\Users\\\\justi\\\\GitHub\\\\olist\\\\python'"
      ]
     },
     "execution_count": 2,
     "metadata": {},
     "output_type": "execute_result"
    }
   ],
   "source": [
    "# change working directory\n",
    "# os.chdir(r\"C:\\Users\\olani\\OneDrive\\Documents\\Data Science\\SMU-Data Science\\Machine Learning 1\\Olist_Dataset\")\n",
    "#\"C:\\Users\\olani\\OneDrive\\Documents\\Data Science\\SMU-Data Science\\Machine Learning 1\\Olist_Dataset\"\n",
    "\n",
    "os.chdir(r\"C:\\Users\\justi\\GitHub\\olist\\python\")\n",
    "# get current working directory\n",
    "os.getcwd()"
   ]
  },
  {
   "cell_type": "code",
   "execution_count": 3,
   "id": "184e65e6",
   "metadata": {},
   "outputs": [
    {
     "data": {
      "text/html": [
       "<div>\n",
       "<style scoped>\n",
       "    .dataframe tbody tr th:only-of-type {\n",
       "        vertical-align: middle;\n",
       "    }\n",
       "\n",
       "    .dataframe tbody tr th {\n",
       "        vertical-align: top;\n",
       "    }\n",
       "\n",
       "    .dataframe thead th {\n",
       "        text-align: right;\n",
       "    }\n",
       "</style>\n",
       "<table border=\"1\" class=\"dataframe\">\n",
       "  <thead>\n",
       "    <tr style=\"text-align: right;\">\n",
       "      <th></th>\n",
       "      <th>order_id</th>\n",
       "      <th>customer_id</th>\n",
       "      <th>order_purchase_timestamp</th>\n",
       "      <th>order_approved_at</th>\n",
       "      <th>order_delivered_carrier_date</th>\n",
       "      <th>order_delivered_customer_date</th>\n",
       "      <th>order_estimated_delivery_date</th>\n",
       "      <th>customer_unique_id</th>\n",
       "      <th>customer_zip_code_prefix</th>\n",
       "      <th>customer_city</th>\n",
       "      <th>...</th>\n",
       "      <th>seller_state</th>\n",
       "      <th>tot_order_amt</th>\n",
       "      <th>purchase_wk_day</th>\n",
       "      <th>purchase_month</th>\n",
       "      <th>order_delivery_actual_duration</th>\n",
       "      <th>order_delivery_estimated_duration</th>\n",
       "      <th>delivery_estimate_discrepancy</th>\n",
       "      <th>product_dimensions</th>\n",
       "      <th>delivery_est_discrepancy_range</th>\n",
       "      <th>review_score_class</th>\n",
       "    </tr>\n",
       "  </thead>\n",
       "  <tbody>\n",
       "    <tr>\n",
       "      <th>0</th>\n",
       "      <td>b81ef226f3fe1789b1e8b2acac839d17</td>\n",
       "      <td>0a8556ac6be836b46b3e89920d59291c</td>\n",
       "      <td>2018-04-25 22:01:49</td>\n",
       "      <td>2018-04-25 22:15:09</td>\n",
       "      <td>2018-05-02 15:20:00</td>\n",
       "      <td>2018-05-09 17:36:51</td>\n",
       "      <td>2018-05-22 00:00:00</td>\n",
       "      <td>708ab75d2a007f0564aedd11139c7708</td>\n",
       "      <td>39801</td>\n",
       "      <td>teofilo otoni</td>\n",
       "      <td>...</td>\n",
       "      <td>SP</td>\n",
       "      <td>99.33</td>\n",
       "      <td>Wednesday</td>\n",
       "      <td>April</td>\n",
       "      <td>13</td>\n",
       "      <td>26</td>\n",
       "      <td>13</td>\n",
       "      <td>7803.0</td>\n",
       "      <td>too early</td>\n",
       "      <td>bad</td>\n",
       "    </tr>\n",
       "    <tr>\n",
       "      <th>1</th>\n",
       "      <td>a9810da82917af2d9aefd1278f1dcfa0</td>\n",
       "      <td>f2c7fc58a9de810828715166c672f10a</td>\n",
       "      <td>2018-06-26 11:01:38</td>\n",
       "      <td>2018-06-26 11:18:58</td>\n",
       "      <td>2018-06-28 14:18:00</td>\n",
       "      <td>2018-06-29 20:32:09</td>\n",
       "      <td>2018-07-16 00:00:00</td>\n",
       "      <td>a8b9d3a27068454b1c98cc67d4e31e6f</td>\n",
       "      <td>2422</td>\n",
       "      <td>sao paulo</td>\n",
       "      <td>...</td>\n",
       "      <td>SP</td>\n",
       "      <td>24.39</td>\n",
       "      <td>Tuesday</td>\n",
       "      <td>June</td>\n",
       "      <td>3</td>\n",
       "      <td>19</td>\n",
       "      <td>16</td>\n",
       "      <td>1056.0</td>\n",
       "      <td>too early</td>\n",
       "      <td>good</td>\n",
       "    </tr>\n",
       "    <tr>\n",
       "      <th>2</th>\n",
       "      <td>25e8ea4e93396b6fa0d3dd708e76c1bd</td>\n",
       "      <td>25b14b69de0b6e184ae6fe2755e478f9</td>\n",
       "      <td>2017-12-12 11:19:55</td>\n",
       "      <td>2017-12-14 09:52:34</td>\n",
       "      <td>2017-12-15 20:13:22</td>\n",
       "      <td>2017-12-18 17:24:41</td>\n",
       "      <td>2018-01-04 00:00:00</td>\n",
       "      <td>6f70c0b2f7552832ba46eb57b1c5651e</td>\n",
       "      <td>2652</td>\n",
       "      <td>sao paulo</td>\n",
       "      <td>...</td>\n",
       "      <td>SP</td>\n",
       "      <td>65.71</td>\n",
       "      <td>Tuesday</td>\n",
       "      <td>December</td>\n",
       "      <td>4</td>\n",
       "      <td>20</td>\n",
       "      <td>16</td>\n",
       "      <td>3360.0</td>\n",
       "      <td>too early</td>\n",
       "      <td>good</td>\n",
       "    </tr>\n",
       "    <tr>\n",
       "      <th>3</th>\n",
       "      <td>ba78997921bbcdc1373bb41e913ab953</td>\n",
       "      <td>7a5d8efaaa1081f800628c30d2b0728f</td>\n",
       "      <td>2017-12-06 12:04:06</td>\n",
       "      <td>2017-12-06 12:13:20</td>\n",
       "      <td>2017-12-07 20:28:28</td>\n",
       "      <td>2017-12-21 01:35:51</td>\n",
       "      <td>2018-01-04 00:00:00</td>\n",
       "      <td>87695ed086ebd36f20404c82d20fca87</td>\n",
       "      <td>36060</td>\n",
       "      <td>juiz de fora</td>\n",
       "      <td>...</td>\n",
       "      <td>SP</td>\n",
       "      <td>107.78</td>\n",
       "      <td>Wednesday</td>\n",
       "      <td>December</td>\n",
       "      <td>14</td>\n",
       "      <td>28</td>\n",
       "      <td>14</td>\n",
       "      <td>3080.0</td>\n",
       "      <td>too early</td>\n",
       "      <td>good</td>\n",
       "    </tr>\n",
       "    <tr>\n",
       "      <th>4</th>\n",
       "      <td>ba78997921bbcdc1373bb41e913ab953</td>\n",
       "      <td>7a5d8efaaa1081f800628c30d2b0728f</td>\n",
       "      <td>2017-12-06 12:04:06</td>\n",
       "      <td>2017-12-06 12:13:20</td>\n",
       "      <td>2017-12-07 20:28:28</td>\n",
       "      <td>2017-12-21 01:35:51</td>\n",
       "      <td>2018-01-04 00:00:00</td>\n",
       "      <td>87695ed086ebd36f20404c82d20fca87</td>\n",
       "      <td>36060</td>\n",
       "      <td>juiz de fora</td>\n",
       "      <td>...</td>\n",
       "      <td>SP</td>\n",
       "      <td>107.78</td>\n",
       "      <td>Wednesday</td>\n",
       "      <td>December</td>\n",
       "      <td>14</td>\n",
       "      <td>28</td>\n",
       "      <td>14</td>\n",
       "      <td>3080.0</td>\n",
       "      <td>too early</td>\n",
       "      <td>good</td>\n",
       "    </tr>\n",
       "  </tbody>\n",
       "</table>\n",
       "<p>5 rows × 47 columns</p>\n",
       "</div>"
      ],
      "text/plain": [
       "                           order_id                       customer_id  \\\n",
       "0  b81ef226f3fe1789b1e8b2acac839d17  0a8556ac6be836b46b3e89920d59291c   \n",
       "1  a9810da82917af2d9aefd1278f1dcfa0  f2c7fc58a9de810828715166c672f10a   \n",
       "2  25e8ea4e93396b6fa0d3dd708e76c1bd  25b14b69de0b6e184ae6fe2755e478f9   \n",
       "3  ba78997921bbcdc1373bb41e913ab953  7a5d8efaaa1081f800628c30d2b0728f   \n",
       "4  ba78997921bbcdc1373bb41e913ab953  7a5d8efaaa1081f800628c30d2b0728f   \n",
       "\n",
       "  order_purchase_timestamp    order_approved_at order_delivered_carrier_date  \\\n",
       "0      2018-04-25 22:01:49  2018-04-25 22:15:09          2018-05-02 15:20:00   \n",
       "1      2018-06-26 11:01:38  2018-06-26 11:18:58          2018-06-28 14:18:00   \n",
       "2      2017-12-12 11:19:55  2017-12-14 09:52:34          2017-12-15 20:13:22   \n",
       "3      2017-12-06 12:04:06  2017-12-06 12:13:20          2017-12-07 20:28:28   \n",
       "4      2017-12-06 12:04:06  2017-12-06 12:13:20          2017-12-07 20:28:28   \n",
       "\n",
       "  order_delivered_customer_date order_estimated_delivery_date  \\\n",
       "0           2018-05-09 17:36:51           2018-05-22 00:00:00   \n",
       "1           2018-06-29 20:32:09           2018-07-16 00:00:00   \n",
       "2           2017-12-18 17:24:41           2018-01-04 00:00:00   \n",
       "3           2017-12-21 01:35:51           2018-01-04 00:00:00   \n",
       "4           2017-12-21 01:35:51           2018-01-04 00:00:00   \n",
       "\n",
       "                 customer_unique_id  customer_zip_code_prefix  customer_city  \\\n",
       "0  708ab75d2a007f0564aedd11139c7708                     39801  teofilo otoni   \n",
       "1  a8b9d3a27068454b1c98cc67d4e31e6f                      2422      sao paulo   \n",
       "2  6f70c0b2f7552832ba46eb57b1c5651e                      2652      sao paulo   \n",
       "3  87695ed086ebd36f20404c82d20fca87                     36060   juiz de fora   \n",
       "4  87695ed086ebd36f20404c82d20fca87                     36060   juiz de fora   \n",
       "\n",
       "   ... seller_state tot_order_amt  purchase_wk_day purchase_month  \\\n",
       "0  ...           SP         99.33        Wednesday          April   \n",
       "1  ...           SP         24.39          Tuesday           June   \n",
       "2  ...           SP         65.71          Tuesday       December   \n",
       "3  ...           SP        107.78        Wednesday       December   \n",
       "4  ...           SP        107.78        Wednesday       December   \n",
       "\n",
       "  order_delivery_actual_duration order_delivery_estimated_duration  \\\n",
       "0                             13                                26   \n",
       "1                              3                                19   \n",
       "2                              4                                20   \n",
       "3                             14                                28   \n",
       "4                             14                                28   \n",
       "\n",
       "  delivery_estimate_discrepancy  product_dimensions  \\\n",
       "0                            13              7803.0   \n",
       "1                            16              1056.0   \n",
       "2                            16              3360.0   \n",
       "3                            14              3080.0   \n",
       "4                            14              3080.0   \n",
       "\n",
       "  delivery_est_discrepancy_range  review_score_class  \n",
       "0                      too early                 bad  \n",
       "1                      too early                good  \n",
       "2                      too early                good  \n",
       "3                      too early                good  \n",
       "4                      too early                good  \n",
       "\n",
       "[5 rows x 47 columns]"
      ]
     },
     "execution_count": 3,
     "metadata": {},
     "output_type": "execute_result"
    }
   ],
   "source": [
    "olist = pd.read_csv('olist_clean.csv')\n",
    "olist.head()"
   ]
  },
  {
   "cell_type": "code",
   "execution_count": 4,
   "id": "cc4c8be6",
   "metadata": {},
   "outputs": [
    {
     "name": "stdout",
     "output_type": "stream",
     "text": [
      "<class 'pandas.core.frame.DataFrame'>\n",
      "RangeIndex: 114067 entries, 0 to 114066\n",
      "Data columns (total 47 columns):\n",
      " #   Column                             Non-Null Count   Dtype  \n",
      "---  ------                             --------------   -----  \n",
      " 0   order_id                           114067 non-null  object \n",
      " 1   customer_id                        114067 non-null  object \n",
      " 2   order_purchase_timestamp           114067 non-null  object \n",
      " 3   order_approved_at                  114067 non-null  object \n",
      " 4   order_delivered_carrier_date       114067 non-null  object \n",
      " 5   order_delivered_customer_date      114067 non-null  object \n",
      " 6   order_estimated_delivery_date      114067 non-null  object \n",
      " 7   customer_unique_id                 114067 non-null  object \n",
      " 8   customer_zip_code_prefix           114067 non-null  int64  \n",
      " 9   customer_city                      114067 non-null  object \n",
      " 10  customer_state                     114067 non-null  object \n",
      " 11  review_id                          114067 non-null  object \n",
      " 12  review_score                       114067 non-null  float64\n",
      " 13  review_comment_title               13661 non-null   object \n",
      " 14  review_comment_message             48220 non-null   object \n",
      " 15  review_creation_date               114067 non-null  object \n",
      " 16  review_answer_timestamp            114067 non-null  object \n",
      " 17  payment_sequential                 114067 non-null  float64\n",
      " 18  payment_type                       114067 non-null  object \n",
      " 19  payment_installments               114067 non-null  float64\n",
      " 20  payment_value                      114067 non-null  float64\n",
      " 21  order_item_id                      114067 non-null  float64\n",
      " 22  product_id                         114067 non-null  object \n",
      " 23  seller_id                          114067 non-null  object \n",
      " 24  shipping_limit_date                114067 non-null  object \n",
      " 25  price                              114067 non-null  float64\n",
      " 26  freight_value                      114067 non-null  float64\n",
      " 27  product_name_lenght                114067 non-null  float64\n",
      " 28  product_description_lenght         114067 non-null  float64\n",
      " 29  product_photos_qty                 114067 non-null  float64\n",
      " 30  product_weight_g                   114066 non-null  float64\n",
      " 31  product_length_cm                  114066 non-null  float64\n",
      " 32  product_height_cm                  114066 non-null  float64\n",
      " 33  product_width_cm                   114066 non-null  float64\n",
      " 34  product_category_english           114067 non-null  object \n",
      " 35  seller_zip_code_prefix             114067 non-null  float64\n",
      " 36  seller_city                        114067 non-null  object \n",
      " 37  seller_state                       114067 non-null  object \n",
      " 38  tot_order_amt                      114067 non-null  float64\n",
      " 39  purchase_wk_day                    114067 non-null  object \n",
      " 40  purchase_month                     114067 non-null  object \n",
      " 41  order_delivery_actual_duration     114067 non-null  int64  \n",
      " 42  order_delivery_estimated_duration  114067 non-null  int64  \n",
      " 43  delivery_estimate_discrepancy      114067 non-null  int64  \n",
      " 44  product_dimensions                 114066 non-null  float64\n",
      " 45  delivery_est_discrepancy_range     114067 non-null  object \n",
      " 46  review_score_class                 114067 non-null  object \n",
      "dtypes: float64(17), int64(4), object(26)\n",
      "memory usage: 40.9+ MB\n"
     ]
    }
   ],
   "source": [
    "olist.info()"
   ]
  },
  {
   "cell_type": "markdown",
   "id": "3566340d",
   "metadata": {},
   "source": [
    "## <span style='color:blue'> **Data Preprocessing** </span>"
   ]
  },
  {
   "cell_type": "code",
   "execution_count": 5,
   "id": "0049b03c",
   "metadata": {},
   "outputs": [
    {
     "data": {
      "text/html": [
       "<div>\n",
       "<style scoped>\n",
       "    .dataframe tbody tr th:only-of-type {\n",
       "        vertical-align: middle;\n",
       "    }\n",
       "\n",
       "    .dataframe tbody tr th {\n",
       "        vertical-align: top;\n",
       "    }\n",
       "\n",
       "    .dataframe thead th {\n",
       "        text-align: right;\n",
       "    }\n",
       "</style>\n",
       "<table border=\"1\" class=\"dataframe\">\n",
       "  <thead>\n",
       "    <tr style=\"text-align: right;\">\n",
       "      <th></th>\n",
       "      <th>order_id</th>\n",
       "      <th>customer_id</th>\n",
       "      <th>order_purchase_timestamp</th>\n",
       "      <th>order_approved_at</th>\n",
       "      <th>order_delivered_carrier_date</th>\n",
       "      <th>order_delivered_customer_date</th>\n",
       "      <th>order_estimated_delivery_date</th>\n",
       "      <th>customer_unique_id</th>\n",
       "      <th>customer_zip_code_prefix</th>\n",
       "      <th>customer_city</th>\n",
       "      <th>...</th>\n",
       "      <th>seller_state</th>\n",
       "      <th>tot_order_amt</th>\n",
       "      <th>purchase_wk_day</th>\n",
       "      <th>purchase_month</th>\n",
       "      <th>order_delivery_actual_duration</th>\n",
       "      <th>order_delivery_estimated_duration</th>\n",
       "      <th>delivery_estimate_discrepancy</th>\n",
       "      <th>product_dimensions</th>\n",
       "      <th>delivery_est_discrepancy_range</th>\n",
       "      <th>review_score_class</th>\n",
       "    </tr>\n",
       "  </thead>\n",
       "  <tbody>\n",
       "    <tr>\n",
       "      <th>0</th>\n",
       "      <td>b81ef226f3fe1789b1e8b2acac839d17</td>\n",
       "      <td>0a8556ac6be836b46b3e89920d59291c</td>\n",
       "      <td>2018-04-25 22:01:49</td>\n",
       "      <td>2018-04-25 22:15:09</td>\n",
       "      <td>2018-05-02 15:20:00</td>\n",
       "      <td>2018-05-09 17:36:51</td>\n",
       "      <td>2018-05-22 00:00:00</td>\n",
       "      <td>708ab75d2a007f0564aedd11139c7708</td>\n",
       "      <td>39801</td>\n",
       "      <td>teofilo otoni</td>\n",
       "      <td>...</td>\n",
       "      <td>SP</td>\n",
       "      <td>99.33</td>\n",
       "      <td>Wednesday</td>\n",
       "      <td>April</td>\n",
       "      <td>13</td>\n",
       "      <td>26</td>\n",
       "      <td>13</td>\n",
       "      <td>7803.0</td>\n",
       "      <td>too early</td>\n",
       "      <td>bad</td>\n",
       "    </tr>\n",
       "    <tr>\n",
       "      <th>1</th>\n",
       "      <td>a9810da82917af2d9aefd1278f1dcfa0</td>\n",
       "      <td>f2c7fc58a9de810828715166c672f10a</td>\n",
       "      <td>2018-06-26 11:01:38</td>\n",
       "      <td>2018-06-26 11:18:58</td>\n",
       "      <td>2018-06-28 14:18:00</td>\n",
       "      <td>2018-06-29 20:32:09</td>\n",
       "      <td>2018-07-16 00:00:00</td>\n",
       "      <td>a8b9d3a27068454b1c98cc67d4e31e6f</td>\n",
       "      <td>2422</td>\n",
       "      <td>sao paulo</td>\n",
       "      <td>...</td>\n",
       "      <td>SP</td>\n",
       "      <td>24.39</td>\n",
       "      <td>Tuesday</td>\n",
       "      <td>June</td>\n",
       "      <td>3</td>\n",
       "      <td>19</td>\n",
       "      <td>16</td>\n",
       "      <td>1056.0</td>\n",
       "      <td>too early</td>\n",
       "      <td>good</td>\n",
       "    </tr>\n",
       "    <tr>\n",
       "      <th>2</th>\n",
       "      <td>25e8ea4e93396b6fa0d3dd708e76c1bd</td>\n",
       "      <td>25b14b69de0b6e184ae6fe2755e478f9</td>\n",
       "      <td>2017-12-12 11:19:55</td>\n",
       "      <td>2017-12-14 09:52:34</td>\n",
       "      <td>2017-12-15 20:13:22</td>\n",
       "      <td>2017-12-18 17:24:41</td>\n",
       "      <td>2018-01-04 00:00:00</td>\n",
       "      <td>6f70c0b2f7552832ba46eb57b1c5651e</td>\n",
       "      <td>2652</td>\n",
       "      <td>sao paulo</td>\n",
       "      <td>...</td>\n",
       "      <td>SP</td>\n",
       "      <td>65.71</td>\n",
       "      <td>Tuesday</td>\n",
       "      <td>December</td>\n",
       "      <td>4</td>\n",
       "      <td>20</td>\n",
       "      <td>16</td>\n",
       "      <td>3360.0</td>\n",
       "      <td>too early</td>\n",
       "      <td>good</td>\n",
       "    </tr>\n",
       "    <tr>\n",
       "      <th>3</th>\n",
       "      <td>ba78997921bbcdc1373bb41e913ab953</td>\n",
       "      <td>7a5d8efaaa1081f800628c30d2b0728f</td>\n",
       "      <td>2017-12-06 12:04:06</td>\n",
       "      <td>2017-12-06 12:13:20</td>\n",
       "      <td>2017-12-07 20:28:28</td>\n",
       "      <td>2017-12-21 01:35:51</td>\n",
       "      <td>2018-01-04 00:00:00</td>\n",
       "      <td>87695ed086ebd36f20404c82d20fca87</td>\n",
       "      <td>36060</td>\n",
       "      <td>juiz de fora</td>\n",
       "      <td>...</td>\n",
       "      <td>SP</td>\n",
       "      <td>107.78</td>\n",
       "      <td>Wednesday</td>\n",
       "      <td>December</td>\n",
       "      <td>14</td>\n",
       "      <td>28</td>\n",
       "      <td>14</td>\n",
       "      <td>3080.0</td>\n",
       "      <td>too early</td>\n",
       "      <td>good</td>\n",
       "    </tr>\n",
       "    <tr>\n",
       "      <th>4</th>\n",
       "      <td>ba78997921bbcdc1373bb41e913ab953</td>\n",
       "      <td>7a5d8efaaa1081f800628c30d2b0728f</td>\n",
       "      <td>2017-12-06 12:04:06</td>\n",
       "      <td>2017-12-06 12:13:20</td>\n",
       "      <td>2017-12-07 20:28:28</td>\n",
       "      <td>2017-12-21 01:35:51</td>\n",
       "      <td>2018-01-04 00:00:00</td>\n",
       "      <td>87695ed086ebd36f20404c82d20fca87</td>\n",
       "      <td>36060</td>\n",
       "      <td>juiz de fora</td>\n",
       "      <td>...</td>\n",
       "      <td>SP</td>\n",
       "      <td>107.78</td>\n",
       "      <td>Wednesday</td>\n",
       "      <td>December</td>\n",
       "      <td>14</td>\n",
       "      <td>28</td>\n",
       "      <td>14</td>\n",
       "      <td>3080.0</td>\n",
       "      <td>too early</td>\n",
       "      <td>good</td>\n",
       "    </tr>\n",
       "  </tbody>\n",
       "</table>\n",
       "<p>5 rows × 47 columns</p>\n",
       "</div>"
      ],
      "text/plain": [
       "                           order_id                       customer_id  \\\n",
       "0  b81ef226f3fe1789b1e8b2acac839d17  0a8556ac6be836b46b3e89920d59291c   \n",
       "1  a9810da82917af2d9aefd1278f1dcfa0  f2c7fc58a9de810828715166c672f10a   \n",
       "2  25e8ea4e93396b6fa0d3dd708e76c1bd  25b14b69de0b6e184ae6fe2755e478f9   \n",
       "3  ba78997921bbcdc1373bb41e913ab953  7a5d8efaaa1081f800628c30d2b0728f   \n",
       "4  ba78997921bbcdc1373bb41e913ab953  7a5d8efaaa1081f800628c30d2b0728f   \n",
       "\n",
       "  order_purchase_timestamp    order_approved_at order_delivered_carrier_date  \\\n",
       "0      2018-04-25 22:01:49  2018-04-25 22:15:09          2018-05-02 15:20:00   \n",
       "1      2018-06-26 11:01:38  2018-06-26 11:18:58          2018-06-28 14:18:00   \n",
       "2      2017-12-12 11:19:55  2017-12-14 09:52:34          2017-12-15 20:13:22   \n",
       "3      2017-12-06 12:04:06  2017-12-06 12:13:20          2017-12-07 20:28:28   \n",
       "4      2017-12-06 12:04:06  2017-12-06 12:13:20          2017-12-07 20:28:28   \n",
       "\n",
       "  order_delivered_customer_date order_estimated_delivery_date  \\\n",
       "0           2018-05-09 17:36:51           2018-05-22 00:00:00   \n",
       "1           2018-06-29 20:32:09           2018-07-16 00:00:00   \n",
       "2           2017-12-18 17:24:41           2018-01-04 00:00:00   \n",
       "3           2017-12-21 01:35:51           2018-01-04 00:00:00   \n",
       "4           2017-12-21 01:35:51           2018-01-04 00:00:00   \n",
       "\n",
       "                 customer_unique_id  customer_zip_code_prefix  customer_city  \\\n",
       "0  708ab75d2a007f0564aedd11139c7708                     39801  teofilo otoni   \n",
       "1  a8b9d3a27068454b1c98cc67d4e31e6f                      2422      sao paulo   \n",
       "2  6f70c0b2f7552832ba46eb57b1c5651e                      2652      sao paulo   \n",
       "3  87695ed086ebd36f20404c82d20fca87                     36060   juiz de fora   \n",
       "4  87695ed086ebd36f20404c82d20fca87                     36060   juiz de fora   \n",
       "\n",
       "   ... seller_state tot_order_amt  purchase_wk_day purchase_month  \\\n",
       "0  ...           SP         99.33        Wednesday          April   \n",
       "1  ...           SP         24.39          Tuesday           June   \n",
       "2  ...           SP         65.71          Tuesday       December   \n",
       "3  ...           SP        107.78        Wednesday       December   \n",
       "4  ...           SP        107.78        Wednesday       December   \n",
       "\n",
       "  order_delivery_actual_duration order_delivery_estimated_duration  \\\n",
       "0                             13                                26   \n",
       "1                              3                                19   \n",
       "2                              4                                20   \n",
       "3                             14                                28   \n",
       "4                             14                                28   \n",
       "\n",
       "  delivery_estimate_discrepancy  product_dimensions  \\\n",
       "0                            13              7803.0   \n",
       "1                            16              1056.0   \n",
       "2                            16              3360.0   \n",
       "3                            14              3080.0   \n",
       "4                            14              3080.0   \n",
       "\n",
       "  delivery_est_discrepancy_range  review_score_class  \n",
       "0                      too early                 bad  \n",
       "1                      too early                good  \n",
       "2                      too early                good  \n",
       "3                      too early                good  \n",
       "4                      too early                good  \n",
       "\n",
       "[5 rows x 47 columns]"
      ]
     },
     "execution_count": 5,
     "metadata": {},
     "output_type": "execute_result"
    }
   ],
   "source": [
    "#Create a working dataframe from the copy of original\n",
    "import copy\n",
    "olist_class = copy.deepcopy(olist)  \n",
    "olist_class.head()"
   ]
  },
  {
   "cell_type": "code",
   "execution_count": 6,
   "id": "74e2cbce",
   "metadata": {},
   "outputs": [],
   "source": [
    "#Modify datatypes\n",
    "#changing attributes data types\n",
    "continuous_features = ['price','freight_value', 'payment_sequential','payment_installments','payment_value',\n",
    "                      'product_name_lenght','product_description_lenght', 'product_photos_qty','product_weight_g',\n",
    "                      'product_length_cm','product_height_cm','product_width_cm', 'review_score',\n",
    "                       'order_delivery_actual_duration', 'order_delivery_estimated_duration',\n",
    "                       'delivery_estimate_discrepancy', 'product_dimensions', 'tot_order_amt'] \n",
    "\n",
    "cat_features = ['customer_city', 'customer_state', 'customer_zip_code_prefix', 'seller_zip_code_prefix', \n",
    "                'seller_city', 'seller_state', 'product_category_english','review_id',\n",
    "               'review_comment_title','review_comment_message','payment_type',\n",
    "               'order_item_id', 'product_id','seller_id','order_id', 'customer_id', 'purchase_wk_day', 'purchase_month',\n",
    "               'delivery_est_discrepancy_range', 'review_score_class', 'customer_unique_id'] \n",
    "\n",
    "date_features = ['order_purchase_timestamp', 'order_approved_at', 'order_delivered_carrier_date', 'order_delivered_customer_date',\n",
    "                 'order_estimated_delivery_date', 'shipping_limit_date', 'review_creation_date', 'review_answer_timestamp'] \n",
    "\n"
   ]
  },
  {
   "cell_type": "code",
   "execution_count": 67,
   "id": "48502475",
   "metadata": {},
   "outputs": [],
   "source": [
    "# use the \"astype\" function to change the variable type\n",
    "olist_class[continuous_features] = olist_class.copy()[continuous_features].astype(np.float64)\n",
    "olist_class[cat_features] = olist_class.copy()[cat_features].astype(\"category\")\n",
    "#olist_class[date_features] = pd.to_datetime(olist_class.copy()[date_features])\n",
    "#olist_class.info()"
   ]
  },
  {
   "cell_type": "code",
   "execution_count": 8,
   "id": "4e1e5fe0",
   "metadata": {},
   "outputs": [],
   "source": [
    "# fix dates\n",
    "for i in date_features:\n",
    "    olist_class.loc[:,i] = pd.to_datetime(olist_class.copy().loc[:,i], errors=\"coerce\")"
   ]
  },
  {
   "cell_type": "code",
   "execution_count": 9,
   "id": "c6bd4857",
   "metadata": {},
   "outputs": [
    {
     "name": "stdout",
     "output_type": "stream",
     "text": [
      "<class 'pandas.core.frame.DataFrame'>\n",
      "RangeIndex: 114067 entries, 0 to 114066\n",
      "Data columns (total 47 columns):\n",
      " #   Column                             Non-Null Count   Dtype         \n",
      "---  ------                             --------------   -----         \n",
      " 0   order_id                           114067 non-null  category      \n",
      " 1   customer_id                        114067 non-null  category      \n",
      " 2   order_purchase_timestamp           114067 non-null  datetime64[ns]\n",
      " 3   order_approved_at                  114067 non-null  datetime64[ns]\n",
      " 4   order_delivered_carrier_date       114067 non-null  datetime64[ns]\n",
      " 5   order_delivered_customer_date      114067 non-null  datetime64[ns]\n",
      " 6   order_estimated_delivery_date      114067 non-null  datetime64[ns]\n",
      " 7   customer_unique_id                 114067 non-null  category      \n",
      " 8   customer_zip_code_prefix           114067 non-null  category      \n",
      " 9   customer_city                      114067 non-null  category      \n",
      " 10  customer_state                     114067 non-null  category      \n",
      " 11  review_id                          114067 non-null  category      \n",
      " 12  review_score                       114067 non-null  float64       \n",
      " 13  review_comment_title               13661 non-null   category      \n",
      " 14  review_comment_message             48220 non-null   category      \n",
      " 15  review_creation_date               114067 non-null  datetime64[ns]\n",
      " 16  review_answer_timestamp            114067 non-null  datetime64[ns]\n",
      " 17  payment_sequential                 114067 non-null  float64       \n",
      " 18  payment_type                       114067 non-null  category      \n",
      " 19  payment_installments               114067 non-null  float64       \n",
      " 20  payment_value                      114067 non-null  float64       \n",
      " 21  order_item_id                      114067 non-null  category      \n",
      " 22  product_id                         114067 non-null  category      \n",
      " 23  seller_id                          114067 non-null  category      \n",
      " 24  shipping_limit_date                114067 non-null  datetime64[ns]\n",
      " 25  price                              114067 non-null  float64       \n",
      " 26  freight_value                      114067 non-null  float64       \n",
      " 27  product_name_lenght                114067 non-null  float64       \n",
      " 28  product_description_lenght         114067 non-null  float64       \n",
      " 29  product_photos_qty                 114067 non-null  float64       \n",
      " 30  product_weight_g                   114066 non-null  float64       \n",
      " 31  product_length_cm                  114066 non-null  float64       \n",
      " 32  product_height_cm                  114066 non-null  float64       \n",
      " 33  product_width_cm                   114066 non-null  float64       \n",
      " 34  product_category_english           114067 non-null  category      \n",
      " 35  seller_zip_code_prefix             114067 non-null  category      \n",
      " 36  seller_city                        114067 non-null  category      \n",
      " 37  seller_state                       114067 non-null  category      \n",
      " 38  tot_order_amt                      114067 non-null  float64       \n",
      " 39  purchase_wk_day                    114067 non-null  category      \n",
      " 40  purchase_month                     114067 non-null  category      \n",
      " 41  order_delivery_actual_duration     114067 non-null  float64       \n",
      " 42  order_delivery_estimated_duration  114067 non-null  float64       \n",
      " 43  delivery_estimate_discrepancy      114067 non-null  float64       \n",
      " 44  product_dimensions                 114066 non-null  float64       \n",
      " 45  delivery_est_discrepancy_range     114067 non-null  category      \n",
      " 46  review_score_class                 114067 non-null  category      \n",
      "dtypes: category(21), datetime64[ns](8), float64(18)\n",
      "memory usage: 41.9 MB\n"
     ]
    }
   ],
   "source": [
    "olist_class.info()"
   ]
  },
  {
   "cell_type": "code",
   "execution_count": 10,
   "id": "fb34a2a0",
   "metadata": {},
   "outputs": [
    {
     "data": {
      "image/png": "[encoded data removed]",
      "text/plain": [
       "<Figure size 432x288 with 1 Axes>"
      ]
     },
     "metadata": {
      "needs_background": "light"
     },
     "output_type": "display_data"
    }
   ],
   "source": [
    "plt.boxplot(x=olist.order_delivery_estimated_duration)\n",
    "plt.ylabel('Days_diff.Actual_Estimate')\n",
    "plt.title('Distribution of Discrepancy') #labels\n",
    "plt.show()"
   ]
  },
  {
   "cell_type": "code",
   "execution_count": 11,
   "id": "b32c5d07",
   "metadata": {},
   "outputs": [
    {
     "data": {
      "text/plain": [
       "38.0"
      ]
     },
     "execution_count": 11,
     "metadata": {},
     "output_type": "execute_result"
    }
   ],
   "source": [
    "olist.copy()['order_delivery_estimated_duration'].quantile(0.95)"
   ]
  },
  {
   "cell_type": "code",
   "execution_count": 12,
   "id": "029a0c0e",
   "metadata": {},
   "outputs": [
    {
     "data": {
      "text/plain": [
       "(108875, 5192, 0.9544828916338643)"
      ]
     },
     "execution_count": 12,
     "metadata": {},
     "output_type": "execute_result"
    }
   ],
   "source": [
    "estimate_delivery = []\n",
    "estimate_delivery_out = []\n",
    "\n",
    "thresh = np.quantile(olist.copy()['order_delivery_estimated_duration'], 0.95)\n",
    "[estimate_delivery.append(i)\n",
    " if abs(i) <= thresh else estimate_delivery_out.append(i)\n",
    " for i in olist.copy()['order_delivery_estimated_duration']]\n",
    "#y = np.array(y)\n",
    "\n",
    "len(estimate_delivery), len(estimate_delivery_out), (len(estimate_delivery)/olist.shape[0])\n"
   ]
  },
  {
   "cell_type": "code",
   "execution_count": 13,
   "id": "4286031e",
   "metadata": {},
   "outputs": [
    {
     "data": {
      "image/png": "[encoded data removed]",
      "text/plain": [
       "<Figure size 432x288 with 1 Axes>"
      ]
     },
     "metadata": {
      "needs_background": "light"
     },
     "output_type": "display_data"
    }
   ],
   "source": [
    "plt.violinplot(olist.order_delivery_actual_duration, showmeans=True)\n",
    "plt.ylabel('days_diff.Actual_Estimate')\n",
    "plt.title('Distribution of Discrepancy') #labels\n",
    "plt.show()"
   ]
  },
  {
   "cell_type": "markdown",
   "id": "a252c86d",
   "metadata": {},
   "source": [
    "### <span style='color:blue'> Subset the dataset </span>\n",
    "\n",
    "Using an intuitive approach to what might cause a package to be categorized as delivered early, on time or late we subset the preprocessed dataset. This also will allow us more flexibility in running multiple iterations of our classifiers to determine the most efficient runing parameters."
   ]
  },
  {
   "cell_type": "code",
   "execution_count": 14,
   "id": "626bb720",
   "metadata": {},
   "outputs": [
    {
     "name": "stdout",
     "output_type": "stream",
     "text": [
      "<class 'pandas.core.frame.DataFrame'>\n",
      "RangeIndex: 114067 entries, 0 to 114066\n",
      "Data columns (total 17 columns):\n",
      " #   Column                          Non-Null Count   Dtype         \n",
      "---  ------                          --------------   -----         \n",
      " 0   payment_sequential              114067 non-null  float64       \n",
      " 1   product_category_english        114067 non-null  category      \n",
      " 2   seller_zip_code_prefix          114067 non-null  category      \n",
      " 3   seller_city                     114067 non-null  category      \n",
      " 4   tot_order_amt                   114067 non-null  float64       \n",
      " 5   freight_value                   114067 non-null  float64       \n",
      " 6   product_dimensions              114066 non-null  float64       \n",
      " 7   review_score_class              114067 non-null  category      \n",
      " 8   product_weight_g                114066 non-null  float64       \n",
      " 9   customer_city                   114067 non-null  category      \n",
      " 10  customer_zip_code_prefix        114067 non-null  category      \n",
      " 11  order_approved_at               114067 non-null  datetime64[ns]\n",
      " 12  order_delivery_actual_duration  114067 non-null  float64       \n",
      " 13  delivery_estimate_discrepancy   114067 non-null  float64       \n",
      " 14  purchase_month                  114067 non-null  category      \n",
      " 15  purchase_wk_day                 114067 non-null  category      \n",
      " 16  price                           114067 non-null  float64       \n",
      "dtypes: category(8), datetime64[ns](1), float64(8)\n",
      "memory usage: 10.0 MB\n"
     ]
    }
   ],
   "source": [
    "olist_class2 = copy.deepcopy(olist_class[['payment_sequential', 'product_category_english', \n",
    "                                          'seller_zip_code_prefix','seller_city', 'tot_order_amt', \n",
    "                                          'freight_value', 'product_dimensions', 'review_score_class', \n",
    "                                          'product_weight_g', 'customer_city',\n",
    "                                          'customer_zip_code_prefix','order_approved_at', 'order_delivery_actual_duration', \n",
    "                                          'delivery_estimate_discrepancy','purchase_month', 'purchase_wk_day', 'price']])\n",
    "olist_class2.info()"
   ]
  },
  {
   "cell_type": "code",
   "execution_count": 15,
   "id": "956868d8",
   "metadata": {},
   "outputs": [],
   "source": [
    "olist_class2.dropna(inplace=True)"
   ]
  },
  {
   "cell_type": "code",
   "execution_count": 16,
   "id": "76ed1ee3",
   "metadata": {},
   "outputs": [
    {
     "name": "stdout",
     "output_type": "stream",
     "text": [
      "<class 'pandas.core.frame.DataFrame'>\n",
      "Int64Index: 114066 entries, 0 to 114066\n",
      "Data columns (total 17 columns):\n",
      " #   Column                          Non-Null Count   Dtype         \n",
      "---  ------                          --------------   -----         \n",
      " 0   payment_sequential              114066 non-null  float64       \n",
      " 1   product_category_english        114066 non-null  category      \n",
      " 2   seller_zip_code_prefix          114066 non-null  category      \n",
      " 3   seller_city                     114066 non-null  category      \n",
      " 4   tot_order_amt                   114066 non-null  float64       \n",
      " 5   freight_value                   114066 non-null  float64       \n",
      " 6   product_dimensions              114066 non-null  float64       \n",
      " 7   review_score_class              114066 non-null  category      \n",
      " 8   product_weight_g                114066 non-null  float64       \n",
      " 9   customer_city                   114066 non-null  category      \n",
      " 10  customer_zip_code_prefix        114066 non-null  category      \n",
      " 11  order_approved_at               114066 non-null  datetime64[ns]\n",
      " 12  order_delivery_actual_duration  114066 non-null  float64       \n",
      " 13  delivery_estimate_discrepancy   114066 non-null  float64       \n",
      " 14  purchase_month                  114066 non-null  category      \n",
      " 15  purchase_wk_day                 114066 non-null  category      \n",
      " 16  price                           114066 non-null  float64       \n",
      "dtypes: category(8), datetime64[ns](1), float64(8)\n",
      "memory usage: 10.9 MB\n"
     ]
    },
    {
     "data": {
      "text/plain": [
       "((114066, 17), None)"
      ]
     },
     "execution_count": 16,
     "metadata": {},
     "output_type": "execute_result"
    }
   ],
   "source": [
    "olist_class2.shape, olist_class2.info()"
   ]
  },
  {
   "cell_type": "code",
   "execution_count": 17,
   "id": "aaf83f34",
   "metadata": {},
   "outputs": [
    {
     "data": {
      "text/html": [
       "<div>\n",
       "<style scoped>\n",
       "    .dataframe tbody tr th:only-of-type {\n",
       "        vertical-align: middle;\n",
       "    }\n",
       "\n",
       "    .dataframe tbody tr th {\n",
       "        vertical-align: top;\n",
       "    }\n",
       "\n",
       "    .dataframe thead th {\n",
       "        text-align: right;\n",
       "    }\n",
       "</style>\n",
       "<table border=\"1\" class=\"dataframe\">\n",
       "  <thead>\n",
       "    <tr style=\"text-align: right;\">\n",
       "      <th></th>\n",
       "      <th>payment_sequential</th>\n",
       "      <th>product_category_english</th>\n",
       "      <th>seller_zip_code_prefix</th>\n",
       "      <th>seller_city</th>\n",
       "      <th>tot_order_amt</th>\n",
       "      <th>freight_value</th>\n",
       "      <th>product_dimensions</th>\n",
       "      <th>review_score_class</th>\n",
       "      <th>product_weight_g</th>\n",
       "      <th>customer_city</th>\n",
       "      <th>customer_zip_code_prefix</th>\n",
       "      <th>order_approved_at</th>\n",
       "      <th>order_delivery_actual_duration</th>\n",
       "      <th>delivery_estimate_discrepancy</th>\n",
       "      <th>purchase_month</th>\n",
       "      <th>purchase_wk_day</th>\n",
       "      <th>price</th>\n",
       "    </tr>\n",
       "  </thead>\n",
       "  <tbody>\n",
       "    <tr>\n",
       "      <th>0</th>\n",
       "      <td>1.0</td>\n",
       "      <td>home_construction</td>\n",
       "      <td>13321.0</td>\n",
       "      <td>salto</td>\n",
       "      <td>99.33</td>\n",
       "      <td>19.53</td>\n",
       "      <td>7803.0</td>\n",
       "      <td>bad</td>\n",
       "      <td>800.0</td>\n",
       "      <td>teofilo otoni</td>\n",
       "      <td>39801</td>\n",
       "      <td>2018-04-25 22:15:09</td>\n",
       "      <td>13.0</td>\n",
       "      <td>13.0</td>\n",
       "      <td>April</td>\n",
       "      <td>Wednesday</td>\n",
       "      <td>79.80</td>\n",
       "    </tr>\n",
       "    <tr>\n",
       "      <th>1</th>\n",
       "      <td>1.0</td>\n",
       "      <td>auto</td>\n",
       "      <td>4660.0</td>\n",
       "      <td>sao paulo</td>\n",
       "      <td>24.39</td>\n",
       "      <td>7.39</td>\n",
       "      <td>1056.0</td>\n",
       "      <td>good</td>\n",
       "      <td>150.0</td>\n",
       "      <td>sao paulo</td>\n",
       "      <td>2422</td>\n",
       "      <td>2018-06-26 11:18:58</td>\n",
       "      <td>3.0</td>\n",
       "      <td>16.0</td>\n",
       "      <td>June</td>\n",
       "      <td>Tuesday</td>\n",
       "      <td>17.00</td>\n",
       "    </tr>\n",
       "    <tr>\n",
       "      <th>2</th>\n",
       "      <td>1.0</td>\n",
       "      <td>perfumery</td>\n",
       "      <td>9015.0</td>\n",
       "      <td>santo andre</td>\n",
       "      <td>65.71</td>\n",
       "      <td>8.72</td>\n",
       "      <td>3360.0</td>\n",
       "      <td>good</td>\n",
       "      <td>250.0</td>\n",
       "      <td>sao paulo</td>\n",
       "      <td>2652</td>\n",
       "      <td>2017-12-14 09:52:34</td>\n",
       "      <td>4.0</td>\n",
       "      <td>16.0</td>\n",
       "      <td>December</td>\n",
       "      <td>Tuesday</td>\n",
       "      <td>56.99</td>\n",
       "    </tr>\n",
       "    <tr>\n",
       "      <th>3</th>\n",
       "      <td>1.0</td>\n",
       "      <td>bed_bath_table</td>\n",
       "      <td>13405.0</td>\n",
       "      <td>piracicaba</td>\n",
       "      <td>107.78</td>\n",
       "      <td>17.88</td>\n",
       "      <td>3080.0</td>\n",
       "      <td>good</td>\n",
       "      <td>1200.0</td>\n",
       "      <td>juiz de fora</td>\n",
       "      <td>36060</td>\n",
       "      <td>2017-12-06 12:13:20</td>\n",
       "      <td>14.0</td>\n",
       "      <td>14.0</td>\n",
       "      <td>December</td>\n",
       "      <td>Wednesday</td>\n",
       "      <td>89.90</td>\n",
       "    </tr>\n",
       "    <tr>\n",
       "      <th>4</th>\n",
       "      <td>1.0</td>\n",
       "      <td>bed_bath_table</td>\n",
       "      <td>13405.0</td>\n",
       "      <td>piracicaba</td>\n",
       "      <td>107.78</td>\n",
       "      <td>17.88</td>\n",
       "      <td>3080.0</td>\n",
       "      <td>good</td>\n",
       "      <td>1200.0</td>\n",
       "      <td>juiz de fora</td>\n",
       "      <td>36060</td>\n",
       "      <td>2017-12-06 12:13:20</td>\n",
       "      <td>14.0</td>\n",
       "      <td>14.0</td>\n",
       "      <td>December</td>\n",
       "      <td>Wednesday</td>\n",
       "      <td>89.90</td>\n",
       "    </tr>\n",
       "  </tbody>\n",
       "</table>\n",
       "</div>"
      ],
      "text/plain": [
       "   payment_sequential product_category_english seller_zip_code_prefix  \\\n",
       "0                 1.0        home_construction                13321.0   \n",
       "1                 1.0                     auto                 4660.0   \n",
       "2                 1.0                perfumery                 9015.0   \n",
       "3                 1.0           bed_bath_table                13405.0   \n",
       "4                 1.0           bed_bath_table                13405.0   \n",
       "\n",
       "   seller_city  tot_order_amt  freight_value  product_dimensions  \\\n",
       "0        salto          99.33          19.53              7803.0   \n",
       "1    sao paulo          24.39           7.39              1056.0   \n",
       "2  santo andre          65.71           8.72              3360.0   \n",
       "3   piracicaba         107.78          17.88              3080.0   \n",
       "4   piracicaba         107.78          17.88              3080.0   \n",
       "\n",
       "  review_score_class  product_weight_g  customer_city  \\\n",
       "0                bad             800.0  teofilo otoni   \n",
       "1               good             150.0      sao paulo   \n",
       "2               good             250.0      sao paulo   \n",
       "3               good            1200.0   juiz de fora   \n",
       "4               good            1200.0   juiz de fora   \n",
       "\n",
       "  customer_zip_code_prefix   order_approved_at  \\\n",
       "0                    39801 2018-04-25 22:15:09   \n",
       "1                     2422 2018-06-26 11:18:58   \n",
       "2                     2652 2017-12-14 09:52:34   \n",
       "3                    36060 2017-12-06 12:13:20   \n",
       "4                    36060 2017-12-06 12:13:20   \n",
       "\n",
       "   order_delivery_actual_duration  delivery_estimate_discrepancy  \\\n",
       "0                            13.0                           13.0   \n",
       "1                             3.0                           16.0   \n",
       "2                             4.0                           16.0   \n",
       "3                            14.0                           14.0   \n",
       "4                            14.0                           14.0   \n",
       "\n",
       "  purchase_month purchase_wk_day  price  \n",
       "0          April       Wednesday  79.80  \n",
       "1           June         Tuesday  17.00  \n",
       "2       December         Tuesday  56.99  \n",
       "3       December       Wednesday  89.90  \n",
       "4       December       Wednesday  89.90  "
      ]
     },
     "execution_count": 17,
     "metadata": {},
     "output_type": "execute_result"
    }
   ],
   "source": [
    "#olist_class2.loc[olist_class2.order_delivery_actual_duration > 50, ('order_delivery_actual_duration')]= np.NaN\n",
    "olist_class2.head()"
   ]
  },
  {
   "cell_type": "code",
   "execution_count": 18,
   "id": "ec8a5698",
   "metadata": {},
   "outputs": [
    {
     "name": "stdout",
     "output_type": "stream",
     "text": [
      "Unique value counts for payment_sequential attribute is: = 26\n",
      "Unique value counts for product_category_english attribute is: = 73\n",
      "Unique value counts for seller_zip_code_prefix attribute is: = 2136\n",
      "Unique value counts for seller_city attribute is: = 588\n",
      "Unique value counts for tot_order_amt attribute is: = 26460\n",
      "Unique value counts for freight_value attribute is: = 6902\n",
      "Unique value counts for product_dimensions attribute is: = 4416\n",
      "Unique value counts for review_score_class attribute is: = 3\n",
      "Unique value counts for product_weight_g attribute is: = 2167\n",
      "Unique value counts for customer_city attribute is: = 4073\n",
      "Unique value counts for customer_zip_code_prefix attribute is: = 14844\n",
      "Unique value counts for order_approved_at attribute is: = 87124\n",
      "Unique value counts for order_delivery_actual_duration attribute is: = 147\n",
      "Unique value counts for delivery_estimate_discrepancy attribute is: = 197\n",
      "Unique value counts for purchase_month attribute is: = 12\n",
      "Unique value counts for purchase_wk_day attribute is: = 7\n",
      "Unique value counts for price attribute is: = 5792\n"
     ]
    }
   ],
   "source": [
    "for i in olist_class2:\n",
    "    print('Unique value counts for ' + i + ' attribute is: =', olist_class2[i].nunique())"
   ]
  },
  {
   "cell_type": "code",
   "execution_count": 19,
   "id": "052c2ad3",
   "metadata": {},
   "outputs": [
    {
     "data": {
      "text/plain": [
       "good    87129\n",
       "bad     17295\n",
       "fair     9642\n",
       "Name: review_score_class, dtype: int64"
      ]
     },
     "execution_count": 19,
     "metadata": {},
     "output_type": "execute_result"
    }
   ],
   "source": [
    "#review class is an important attribute \n",
    "#but with class imbalance so we split the dataset \n",
    "#to ensure that samples are representatinve of the class levels\n",
    "olist_class2['review_score_class'].value_counts()"
   ]
  },
  {
   "cell_type": "code",
   "execution_count": 20,
   "id": "5380071f",
   "metadata": {},
   "outputs": [
    {
     "name": "stdout",
     "output_type": "stream",
     "text": [
      "<class 'pandas.core.frame.DataFrame'>\n",
      "Int64Index: 114066 entries, 0 to 114066\n",
      "Data columns (total 17 columns):\n",
      " #   Column                          Non-Null Count   Dtype         \n",
      "---  ------                          --------------   -----         \n",
      " 0   payment_sequential              114066 non-null  float64       \n",
      " 1   product_category_english        114066 non-null  category      \n",
      " 2   seller_zip_code_prefix          114066 non-null  category      \n",
      " 3   seller_city                     114066 non-null  category      \n",
      " 4   tot_order_amt                   114066 non-null  float64       \n",
      " 5   freight_value                   114066 non-null  float64       \n",
      " 6   product_dimensions              114066 non-null  float64       \n",
      " 7   review_score_class              114066 non-null  category      \n",
      " 8   product_weight_g                114066 non-null  float64       \n",
      " 9   customer_city                   114066 non-null  category      \n",
      " 10  customer_zip_code_prefix        114066 non-null  category      \n",
      " 11  order_approved_at               114066 non-null  datetime64[ns]\n",
      " 12  order_delivery_actual_duration  114066 non-null  float64       \n",
      " 13  delivery_estimate_discrepancy   114066 non-null  float64       \n",
      " 14  purchase_month                  114066 non-null  category      \n",
      " 15  purchase_wk_day                 114066 non-null  category      \n",
      " 16  price                           114066 non-null  float64       \n",
      "dtypes: category(8), datetime64[ns](1), float64(8)\n",
      "memory usage: 10.9 MB\n"
     ]
    }
   ],
   "source": [
    "olist_class2.info()"
   ]
  },
  {
   "cell_type": "code",
   "execution_count": 21,
   "id": "c6b4ec9e",
   "metadata": {},
   "outputs": [],
   "source": [
    "from sklearn.datasets import make_regression\n",
    "from sklearn.model_selection import cross_val_score\n",
    "from sklearn.model_selection import RepeatedKFold\n",
    "from sklearn.feature_selection import RFE\n",
    "from sklearn.tree import DecisionTreeRegressor\n",
    "from sklearn.pipeline import Pipeline\n",
    "from sklearn.model_selection import RepeatedStratifiedKFold\n",
    "from sklearn.feature_selection import RFECV\n",
    "from sklearn.linear_model import LogisticRegression\n",
    "from sklearn.linear_model import Perceptron\n",
    "from sklearn.ensemble import RandomForestClassifier\n",
    "from sklearn.ensemble import RandomForestRegressor\n",
    "from sklearn.ensemble import GradientBoostingClassifier\n",
    "from sklearn.linear_model import SGDRegressor\n",
    "from sklearn.ensemble import GradientBoostingRegressor\n",
    "from sklearn.preprocessing import OneHotEncoder\n",
    "from sklearn.preprocessing import StandardScaler\n",
    "from sklearn.compose import ColumnTransformer\n",
    "from sklearn.linear_model import LinearRegression\n",
    "from matplotlib import pyplot"
   ]
  },
  {
   "cell_type": "markdown",
   "id": "f4f167a7",
   "metadata": {},
   "source": [
    "### <span style='color:blue'> === 80:20 Train:Test Split of the dataset === </span>"
   ]
  },
  {
   "cell_type": "code",
   "execution_count": 22,
   "id": "52e281ad",
   "metadata": {},
   "outputs": [],
   "source": [
    "#Simple train test split\n",
    "\n",
    "from sklearn.model_selection import train_test_split\n",
    "olist_train, olist_test = train_test_split(olist_class2, test_size=0.2,random_state=100)"
   ]
  },
  {
   "cell_type": "code",
   "execution_count": 23,
   "id": "7e1ff00e",
   "metadata": {
    "scrolled": true
   },
   "outputs": [
    {
     "name": "stdout",
     "output_type": "stream",
     "text": [
      "<class 'pandas.core.frame.DataFrame'>\n",
      "Int64Index: 91252 entries, 18821 to 38408\n",
      "Data columns (total 17 columns):\n",
      " #   Column                          Non-Null Count  Dtype         \n",
      "---  ------                          --------------  -----         \n",
      " 0   payment_sequential              91252 non-null  float64       \n",
      " 1   product_category_english        91252 non-null  category      \n",
      " 2   seller_zip_code_prefix          91252 non-null  category      \n",
      " 3   seller_city                     91252 non-null  category      \n",
      " 4   tot_order_amt                   91252 non-null  float64       \n",
      " 5   freight_value                   91252 non-null  float64       \n",
      " 6   product_dimensions              91252 non-null  float64       \n",
      " 7   review_score_class              91252 non-null  category      \n",
      " 8   product_weight_g                91252 non-null  float64       \n",
      " 9   customer_city                   91252 non-null  category      \n",
      " 10  customer_zip_code_prefix        91252 non-null  category      \n",
      " 11  order_approved_at               91252 non-null  datetime64[ns]\n",
      " 12  order_delivery_actual_duration  91252 non-null  float64       \n",
      " 13  delivery_estimate_discrepancy   91252 non-null  float64       \n",
      " 14  purchase_month                  91252 non-null  category      \n",
      " 15  purchase_wk_day                 91252 non-null  category      \n",
      " 16  price                           91252 non-null  float64       \n",
      "dtypes: category(8), datetime64[ns](1), float64(8)\n",
      "memory usage: 8.9 MB\n"
     ]
    }
   ],
   "source": [
    "olist_train.info()"
   ]
  },
  {
   "cell_type": "code",
   "execution_count": 24,
   "id": "d1ec9298",
   "metadata": {},
   "outputs": [
    {
     "name": "stdout",
     "output_type": "stream",
     "text": [
      "<class 'pandas.core.frame.DataFrame'>\n",
      "Int64Index: 22814 entries, 74667 to 35877\n",
      "Data columns (total 17 columns):\n",
      " #   Column                          Non-Null Count  Dtype         \n",
      "---  ------                          --------------  -----         \n",
      " 0   payment_sequential              22814 non-null  float64       \n",
      " 1   product_category_english        22814 non-null  category      \n",
      " 2   seller_zip_code_prefix          22814 non-null  category      \n",
      " 3   seller_city                     22814 non-null  category      \n",
      " 4   tot_order_amt                   22814 non-null  float64       \n",
      " 5   freight_value                   22814 non-null  float64       \n",
      " 6   product_dimensions              22814 non-null  float64       \n",
      " 7   review_score_class              22814 non-null  category      \n",
      " 8   product_weight_g                22814 non-null  float64       \n",
      " 9   customer_city                   22814 non-null  category      \n",
      " 10  customer_zip_code_prefix        22814 non-null  category      \n",
      " 11  order_approved_at               22814 non-null  datetime64[ns]\n",
      " 12  order_delivery_actual_duration  22814 non-null  float64       \n",
      " 13  delivery_estimate_discrepancy   22814 non-null  float64       \n",
      " 14  purchase_month                  22814 non-null  category      \n",
      " 15  purchase_wk_day                 22814 non-null  category      \n",
      " 16  price                           22814 non-null  float64       \n",
      "dtypes: category(8), datetime64[ns](1), float64(8)\n",
      "memory usage: 2.9 MB\n"
     ]
    }
   ],
   "source": [
    "olist_test.info()"
   ]
  },
  {
   "cell_type": "code",
   "execution_count": 25,
   "id": "2c54f4c8",
   "metadata": {},
   "outputs": [
    {
     "data": {
      "text/plain": [
       "91252"
      ]
     },
     "execution_count": 25,
     "metadata": {},
     "output_type": "execute_result"
    }
   ],
   "source": [
    "#Target variable\n",
    "olist_train_y = olist_train.delivery_estimate_discrepancy\n",
    "len(olist_train_y)"
   ]
  },
  {
   "cell_type": "code",
   "execution_count": 26,
   "id": "a65e2d11",
   "metadata": {},
   "outputs": [
    {
     "name": "stdout",
     "output_type": "stream",
     "text": [
      "<class 'pandas.core.frame.DataFrame'>\n",
      "Int64Index: 91252 entries, 18821 to 38408\n",
      "Data columns (total 16 columns):\n",
      " #   Column                          Non-Null Count  Dtype         \n",
      "---  ------                          --------------  -----         \n",
      " 0   payment_sequential              91252 non-null  float64       \n",
      " 1   product_category_english        91252 non-null  category      \n",
      " 2   seller_zip_code_prefix          91252 non-null  category      \n",
      " 3   seller_city                     91252 non-null  category      \n",
      " 4   tot_order_amt                   91252 non-null  float64       \n",
      " 5   freight_value                   91252 non-null  float64       \n",
      " 6   product_dimensions              91252 non-null  float64       \n",
      " 7   review_score_class              91252 non-null  category      \n",
      " 8   product_weight_g                91252 non-null  float64       \n",
      " 9   customer_city                   91252 non-null  category      \n",
      " 10  customer_zip_code_prefix        91252 non-null  category      \n",
      " 11  order_approved_at               91252 non-null  datetime64[ns]\n",
      " 12  order_delivery_actual_duration  91252 non-null  float64       \n",
      " 13  purchase_month                  91252 non-null  category      \n",
      " 14  purchase_wk_day                 91252 non-null  category      \n",
      " 15  price                           91252 non-null  float64       \n",
      "dtypes: category(8), datetime64[ns](1), float64(7)\n",
      "memory usage: 8.2 MB\n"
     ]
    }
   ],
   "source": [
    "#All predictor attributes\n",
    "olist_train_noY = olist_train.copy().drop('delivery_estimate_discrepancy', axis=1)\n",
    "olist_train_noY.info()"
   ]
  },
  {
   "cell_type": "markdown",
   "id": "bb07b04e",
   "metadata": {},
   "source": [
    "### Preprocess the test for prediction"
   ]
  },
  {
   "cell_type": "code",
   "execution_count": 27,
   "id": "b67d755a",
   "metadata": {},
   "outputs": [
    {
     "name": "stdout",
     "output_type": "stream",
     "text": [
      "<class 'pandas.core.frame.DataFrame'>\n",
      "Int64Index: 22814 entries, 74667 to 35877\n",
      "Data columns (total 16 columns):\n",
      " #   Column                          Non-Null Count  Dtype         \n",
      "---  ------                          --------------  -----         \n",
      " 0   payment_sequential              22814 non-null  float64       \n",
      " 1   product_category_english        22814 non-null  category      \n",
      " 2   seller_zip_code_prefix          22814 non-null  category      \n",
      " 3   seller_city                     22814 non-null  category      \n",
      " 4   tot_order_amt                   22814 non-null  float64       \n",
      " 5   freight_value                   22814 non-null  float64       \n",
      " 6   product_dimensions              22814 non-null  float64       \n",
      " 7   review_score_class              22814 non-null  category      \n",
      " 8   product_weight_g                22814 non-null  float64       \n",
      " 9   customer_city                   22814 non-null  category      \n",
      " 10  customer_zip_code_prefix        22814 non-null  category      \n",
      " 11  order_approved_at               22814 non-null  datetime64[ns]\n",
      " 12  order_delivery_actual_duration  22814 non-null  float64       \n",
      " 13  purchase_month                  22814 non-null  category      \n",
      " 14  purchase_wk_day                 22814 non-null  category      \n",
      " 15  price                           22814 non-null  float64       \n",
      "dtypes: category(8), datetime64[ns](1), float64(7)\n",
      "memory usage: 2.7 MB\n"
     ]
    }
   ],
   "source": [
    "#All predictor attributes\n",
    "olist_test_noY = olist_test.copy().drop('delivery_estimate_discrepancy', axis=1)\n",
    "olist_test_noY.info()"
   ]
  },
  {
   "cell_type": "code",
   "execution_count": 28,
   "id": "2a8bc655",
   "metadata": {},
   "outputs": [
    {
     "data": {
      "text/plain": [
       "22814"
      ]
     },
     "execution_count": 28,
     "metadata": {},
     "output_type": "execute_result"
    }
   ],
   "source": [
    "#Target variable\n",
    "olist_test_y = olist_test.delivery_estimate_discrepancy\n",
    "len(olist_test_y)"
   ]
  },
  {
   "cell_type": "markdown",
   "id": "5e5edac1",
   "metadata": {},
   "source": [
    "\n",
    "https://www.kaggle.com/kylegilde/building-columntransformers-dynamically"
   ]
  },
  {
   "cell_type": "code",
   "execution_count": 29,
   "id": "3cf6c1e0",
   "metadata": {},
   "outputs": [],
   "source": [
    "from sklearn.compose import ColumnTransformer, make_column_selector\n",
    "from sklearn.pipeline import make_pipeline\n",
    "import multiprocessing\n",
    "from sklearn.impute import SimpleImputer\n",
    "from sklearn.metrics import accuracy_score\n",
    "from sklearn.metrics import precision_recall_fscore_support\n",
    "from sklearn.metrics import precision_score"
   ]
  },
  {
   "cell_type": "markdown",
   "id": "1dee2727",
   "metadata": {},
   "source": [
    "listing 79 features in the code or a configuration file seems is a tedious and unnecessary task. What if there was a way to logically bucket these features by their characteristics?\n",
    "\n",
    "The key insight that allows you to dynamically construct a ColumnTransformer is understanding that there are 3 broad types of features in non-textual, non-time series datasets:\n",
    "\n",
    "- numerical\n",
    "- categorical with moderate-to-low cardinality\n",
    "- categorical with high cardinality"
   ]
  },
  {
   "cell_type": "code",
   "execution_count": 30,
   "id": "dbb4252e",
   "metadata": {},
   "outputs": [
    {
     "name": "stdout",
     "output_type": "stream",
     "text": [
      "N numeric_features: 7 \n",
      "\n",
      "payment_sequential, tot_order_amt, freight_value, product_dimensions, product_weight_g, order_delivery_actual_duration, price\n"
     ]
    }
   ],
   "source": [
    "#select features with logical conditions instead of listing every single column in the code\n",
    "select_numeric_features = make_column_selector(dtype_include=np.number)\n",
    "numeric_features = select_numeric_features(olist_train_noY)\n",
    "print(f'N numeric_features: {len(numeric_features)} \\n')\n",
    "print(', '.join(numeric_features))"
   ]
  },
  {
   "cell_type": "markdown",
   "id": "7b61cc51",
   "metadata": {},
   "source": [
    "#### Categorical  with moderate-to-low cardinality\n",
    "\n",
    "One-hot (OH) encoding, where an indicator column is created for each unique value, is the most common method. However, the OH transformation may not be suitable for features with high cardinality. OH encoding features with many unique values may create too many columns with very low variance, which may take up too much memory or have a negative impact on the performance of linear models. Hence, we may want to limit the features we select for this encoding to ones below a certain threshold of unique values. \n",
    "\n",
    "Since the *make_column_selector* isn't capable of detecting cardinality, I've developed my own *select_oh_features* custom function. It consists of a piping of pandas methods that do the following:\n",
    "\n",
    "- Selects the object and category dtypes from the pandas DataFrame\n",
    "\n",
    "- Counts the number of unique values for those columns\n",
    "\n",
    "- Subsets the unique value counts if they are less than or equal to MAX_OH_CARDINALITY using an anonymous lambda function within the loc method\n",
    "\n",
    "- Extracts the column names from the index and returns them as a list"
   ]
  },
  {
   "cell_type": "code",
   "execution_count": 31,
   "id": "c30d6e75",
   "metadata": {},
   "outputs": [
    {
     "name": "stdout",
     "output_type": "stream",
     "text": [
      "N oh_features: 2 \n",
      "\n",
      "review_score_class, purchase_wk_day\n"
     ]
    }
   ],
   "source": [
    "MAX_OH_CARDINALITY = 10\n",
    "\n",
    "def select_oh_features(df):\n",
    "    \n",
    "    hc_features =\\\n",
    "        df\\\n",
    "        .select_dtypes(['object', 'category'])\\\n",
    "        .apply(lambda col: col.nunique())\\\n",
    "        .loc[lambda x: x <= MAX_OH_CARDINALITY]\\\n",
    "        .index\\\n",
    "        .tolist()\n",
    "        \n",
    "    return hc_features\n",
    "\n",
    "oh_features = select_oh_features(olist_train_noY)\n",
    "\n",
    "print(f'N oh_features: {len(oh_features)} \\n')\n",
    "print(', '.join(oh_features))"
   ]
  },
  {
   "cell_type": "code",
   "execution_count": 32,
   "id": "d5042ae0",
   "metadata": {},
   "outputs": [],
   "source": [
    "#oh_pipeline = make_pipeline(SimpleImputer(strategy='constant'), OneHotEncoder(handle_unknown='ignore'))"
   ]
  },
  {
   "cell_type": "code",
   "execution_count": 33,
   "id": "2caf9bb7",
   "metadata": {},
   "outputs": [],
   "source": [
    "#Try without imputer\n",
    "oh_pipeline1 = make_pipeline(OneHotEncoder(handle_unknown='ignore'))"
   ]
  },
  {
   "cell_type": "markdown",
   "id": "32dd3cea",
   "metadata": {},
   "source": [
    "#### Categorical with high cardinality\n",
    "To select the features with high cardinality, I've created a similar function that selects the object and category features with unique value counts greater than the threshold. It selects three features that meet these criteria."
   ]
  },
  {
   "cell_type": "code",
   "execution_count": 34,
   "id": "67a057f9",
   "metadata": {},
   "outputs": [
    {
     "name": "stdout",
     "output_type": "stream",
     "text": [
      "N hc_features: 6 \n",
      "\n",
      "product_category_english, seller_zip_code_prefix, seller_city, customer_city, customer_zip_code_prefix, purchase_month\n"
     ]
    }
   ],
   "source": [
    "def select_hc_features(df):\n",
    "    \n",
    "    hc_features =\\\n",
    "        df\\\n",
    "        .select_dtypes(['object', 'category'])\\\n",
    "        .apply(lambda col: col.nunique())\\\n",
    "        .loc[lambda x: x > MAX_OH_CARDINALITY]\\\n",
    "        .index\\\n",
    "        .tolist()\n",
    "        \n",
    "    return hc_features\n",
    "\n",
    "\n",
    "hc_features = select_hc_features(olist_train_noY)\n",
    "\n",
    "print(f'N hc_features: {len(hc_features)} \\n')\n",
    "print(', '.join(hc_features))"
   ]
  },
  {
   "cell_type": "markdown",
   "id": "a6916e94",
   "metadata": {},
   "source": [
    "#### Generalized Linear Mixed Model Encoder\n",
    "\n",
    "To transform our features with high cardinality, I could have gone with a more basic approach and used Scikit-Learn's native LabelEncoder or OrdinalEncoder preprocessor. However, in many cases, these methods are likely to perform suboptimally in your model unless you are dealing with ordinal data. I prefer to use the Category Encoder package, which has more than a dozen ways of intelligently encoding highly cardinal features. This post provides an overview of several of these methods. Most of these are supervised techniques, which use the dependent variable to transform the nominal values into numerical ones. The TargetEncoder is probably the easiest method to understand, but I prefer to use the Generalized Linear Mixed Model Encoder, which has \"solid statistical theory behind [it]\" and \"no hyperparameters to tune.\" Without diving into the details of GLMMs, at its core, this method encodes the nominal values as the coefficents from a one-hot-encoded linear model. The Category Encoder methods handle missing and unknown values by setting them to zero or the mean of the dependent variable. "
   ]
  },
  {
   "cell_type": "code",
   "execution_count": 35,
   "id": "2635c2a6",
   "metadata": {},
   "outputs": [],
   "source": [
    "import category_encoders as ce\n",
    "hc_pipeline = make_pipeline(ce.GLMMEncoder())"
   ]
  },
  {
   "cell_type": "code",
   "execution_count": 36,
   "id": "e43169ae",
   "metadata": {},
   "outputs": [],
   "source": [
    "numeric_pipeline = make_pipeline(StandardScaler()) "
   ]
  },
  {
   "cell_type": "code",
   "execution_count": 37,
   "id": "2a3c7729",
   "metadata": {},
   "outputs": [],
   "source": [
    "column_transformer = ColumnTransformer(transformers=\\\n",
    "                                       [('numeric_pipeline', numeric_pipeline, select_numeric_features),\\\n",
    "                                        ('oh_pipeline', oh_pipeline1, select_oh_features),\\\n",
    "                                        ('hc_pipeline', hc_pipeline, select_hc_features)],                                       \n",
    "                                       remainder='drop')"
   ]
  },
  {
   "cell_type": "code",
   "execution_count": 38,
   "id": "05c533fd",
   "metadata": {
    "scrolled": true
   },
   "outputs": [
    {
     "data": {
      "text/plain": [
       "count    91252.000000\n",
       "mean        11.401043\n",
       "std         10.158797\n",
       "min       -189.000000\n",
       "25%          7.000000\n",
       "50%         12.000000\n",
       "75%         16.000000\n",
       "max        146.000000\n",
       "Name: delivery_estimate_discrepancy, dtype: float64"
      ]
     },
     "execution_count": 38,
     "metadata": {},
     "output_type": "execute_result"
    }
   ],
   "source": [
    "olist_train_y.describe()"
   ]
  },
  {
   "cell_type": "code",
   "execution_count": 39,
   "id": "a218e23d",
   "metadata": {},
   "outputs": [
    {
     "data": {
      "text/plain": [
       "26.0"
      ]
     },
     "execution_count": 39,
     "metadata": {},
     "output_type": "execute_result"
    }
   ],
   "source": [
    "olist_train_y.quantile(0.95)"
   ]
  },
  {
   "cell_type": "code",
   "execution_count": 40,
   "id": "265ae0c8",
   "metadata": {},
   "outputs": [
    {
     "data": {
      "image/png": "[encoded data removed]",
      "text/plain": [
       "<Figure size 432x288 with 1 Axes>"
      ]
     },
     "metadata": {
      "needs_background": "light"
     },
     "output_type": "display_data"
    }
   ],
   "source": [
    "plt.violinplot(olist_train_y, showmeans=True)\n",
    "plt.show()"
   ]
  },
  {
   "cell_type": "code",
   "execution_count": 41,
   "id": "85133402",
   "metadata": {},
   "outputs": [
    {
     "data": {
      "text/plain": [
       "count    91252.000000\n",
       "mean        11.401043\n",
       "std         10.158797\n",
       "min       -189.000000\n",
       "25%          7.000000\n",
       "50%         12.000000\n",
       "75%         16.000000\n",
       "max        146.000000\n",
       "Name: delivery_estimate_discrepancy, dtype: float64"
      ]
     },
     "execution_count": 41,
     "metadata": {},
     "output_type": "execute_result"
    }
   ],
   "source": [
    "olist_train_y.describe()"
   ]
  },
  {
   "cell_type": "markdown",
   "id": "9a34acc5",
   "metadata": {},
   "source": [
    "---\n",
    "#### <span style='color:blue'>Create the categorical y training variable of customer reviews to be either 'late' = 1,'on time' = 2, 'early' = 3</span>"
   ]
  },
  {
   "cell_type": "code",
   "execution_count": 42,
   "id": "04b70c2c",
   "metadata": {},
   "outputs": [
    {
     "data": {
      "text/plain": [
       "count     91252\n",
       "unique        3\n",
       "top           3\n",
       "freq      83292\n",
       "Name: delivery_estimate_discrepancy, dtype: int64"
      ]
     },
     "execution_count": 42,
     "metadata": {},
     "output_type": "execute_result"
    }
   ],
   "source": [
    "olist_train_y_range = pd.cut(olist_train_y, [-200, -1, 0, 146], 3, labels=[1,2,3]) # this creates a new variable\n",
    "olist_train_y_range.describe()\n",
    "#'late' = 1,'on time' = 2, 'early' = 3"
   ]
  },
  {
   "cell_type": "code",
   "execution_count": 43,
   "id": "8daa88a8",
   "metadata": {},
   "outputs": [
    {
     "data": {
      "text/plain": [
       "[3, 1, 2]\n",
       "Categories (3, int64): [1 < 2 < 3]"
      ]
     },
     "execution_count": 43,
     "metadata": {},
     "output_type": "execute_result"
    }
   ],
   "source": [
    "olist_train_y_range.unique()"
   ]
  },
  {
   "cell_type": "code",
   "execution_count": 44,
   "id": "1f0d1d1b",
   "metadata": {},
   "outputs": [
    {
     "data": {
      "text/plain": [
       "18821    3\n",
       "49882    3\n",
       "42080    3\n",
       "43892    3\n",
       "58593    3\n",
       "        ..\n",
       "65616    3\n",
       "77656    3\n",
       "79684    3\n",
       "56089    3\n",
       "38408    1\n",
       "Name: delivery_estimate_discrepancy, Length: 91252, dtype: category\n",
       "Categories (3, int64): [1 < 2 < 3]"
      ]
     },
     "execution_count": 44,
     "metadata": {},
     "output_type": "execute_result"
    }
   ],
   "source": [
    "olist_train_y_range"
   ]
  },
  {
   "cell_type": "markdown",
   "id": "e4276e3d",
   "metadata": {},
   "source": [
    "---\n",
    "#### <span style='color:blue'>Create the categorical y test variable of customer reviews to be either 'late' = 1,'on time' = 2, 'early' = 3</span>"
   ]
  },
  {
   "cell_type": "code",
   "execution_count": 45,
   "id": "7286dfb4",
   "metadata": {},
   "outputs": [
    {
     "data": {
      "text/plain": [
       "count     22814\n",
       "unique        3\n",
       "top           3\n",
       "freq      20773\n",
       "Name: delivery_estimate_discrepancy, dtype: int64"
      ]
     },
     "execution_count": 45,
     "metadata": {},
     "output_type": "execute_result"
    }
   ],
   "source": [
    "olist_test_y_range = pd.cut(olist_test_y, [-200, -1, 0, 250], 3, labels=[1,2,3]) # this creates a new variable\n",
    "olist_test_y_range.describe()\n",
    "#'late' = 1,'on time' = 2, 'early' = 3"
   ]
  },
  {
   "cell_type": "code",
   "execution_count": 46,
   "id": "98c3fc80",
   "metadata": {},
   "outputs": [
    {
     "data": {
      "text/plain": [
       "0"
      ]
     },
     "execution_count": 46,
     "metadata": {},
     "output_type": "execute_result"
    }
   ],
   "source": [
    "olist_test_y_range.isna().sum()"
   ]
  },
  {
   "cell_type": "code",
   "execution_count": 47,
   "id": "bc038b23",
   "metadata": {},
   "outputs": [
    {
     "data": {
      "text/plain": [
       "3    83292\n",
       "1     6732\n",
       "2     1228\n",
       "Name: delivery_estimate_discrepancy, dtype: int64"
      ]
     },
     "execution_count": 47,
     "metadata": {},
     "output_type": "execute_result"
    }
   ],
   "source": [
    "olist_train_y_range.value_counts()"
   ]
  },
  {
   "cell_type": "markdown",
   "id": "4f6daabf",
   "metadata": {},
   "source": [
    "### Normalize the feature values so that all the attributes are on the same dynamic range"
   ]
  },
  {
   "cell_type": "code",
   "execution_count": 48,
   "id": "78892b60",
   "metadata": {},
   "outputs": [
    {
     "name": "stderr",
     "output_type": "stream",
     "text": [
      "C:\\Users\\justi\\anaconda3\\envs\\ML\\lib\\site-packages\\category_encoders\\utils.py:21: FutureWarning: is_categorical is deprecated and will be removed in a future version.  Use is_categorical_dtype instead\n",
      "  elif pd.api.types.is_categorical(cols):\n"
     ]
    }
   ],
   "source": [
    "#Make Y classification\n",
    "X_train_class = column_transformer.fit_transform(olist_train_noY, olist_train_y_range)\n",
    "X_test_class = column_transformer.transform(olist_test_noY)"
   ]
  },
  {
   "cell_type": "code",
   "execution_count": 49,
   "id": "f8ce4c5b",
   "metadata": {},
   "outputs": [
    {
     "name": "stdout",
     "output_type": "stream",
     "text": [
      "(91252, 23)\n",
      "(22814, 23)\n"
     ]
    }
   ],
   "source": [
    "print(X_train_class.shape)\n",
    "print(X_test_class.shape)"
   ]
  },
  {
   "cell_type": "markdown",
   "id": "91abbb4f",
   "metadata": {},
   "source": [
    "---\n",
    "# <span style='color:blue'> **1. Create Model (50 points)** </span>\n",
    "---\n",
    "\n",
    "- Create a **logistic regression model** and a **support vector machine model** for the **classification task** involved with your dataset.  \n",
    "\n",
    "- Assess how well each model performs (use 80/20 training/testing split for your data).\n",
    "    - <span style='color:green'> ***80/20 Split performed during preprocessing above***</span>\n",
    "\n",
    "- Adjust parameters of the models to make them more accurate. If your dataset size requires the use of stochastic gradient descent, then linear kernel only is fine to use. \n",
    "    - That is, the SGDClassifier is fine to use for optimizing logistic regression and linear support vector machines.\n",
    "            -For many problems, SGD will be required in order to train the SVM model in a reasonable timeframe."
   ]
  },
  {
   "cell_type": "markdown",
   "id": "e1d97fb8",
   "metadata": {},
   "source": [
    "## <span style='color:blue'> Create a Logistic Regression classifier </span>\n"
   ]
  },
  {
   "cell_type": "code",
   "execution_count": 50,
   "id": "727b2e53",
   "metadata": {},
   "outputs": [
    {
     "name": "stdout",
     "output_type": "stream",
     "text": [
      "Logistic Regression Metrics:\n",
      "LogisticRegression(C=1, class_weight='balanced', multi_class='multinomial',\n",
      "                   random_state=42, solver='newton-cg')\n",
      "              precision    recall  f1-score   support\n",
      "\n",
      "           1       0.64      0.67      0.66      1727\n",
      "           2       0.03      0.53      0.06       314\n",
      "           3       0.98      0.76      0.86     20773\n",
      "\n",
      "    accuracy                           0.75     22814\n",
      "   macro avg       0.55      0.65      0.52     22814\n",
      "weighted avg       0.94      0.75      0.83     22814\n",
      "\n"
     ]
    }
   ],
   "source": [
    "from sklearn.metrics import classification_report\n",
    "\n",
    "#Logistic regression\n",
    "logr_clf = LogisticRegression(penalty='l2', #default\n",
    "                              C=1, #default \n",
    "                              class_weight='balanced', # use with imbalanced dataset\n",
    "                              solver='newton-cg', # only solver that works with this dataset\n",
    "                              multi_class='multinomial', \n",
    "                              random_state=42) \n",
    "logr_clf.fit(X_train_class,olist_train_y_range)\n",
    "\n",
    "# Note: For multiclass problems, only ‘newton-cg’, ‘sag’, ‘saga’ and ‘lbfgs’ handle multinomial loss; \n",
    "# ‘liblinear’ is limited to one-versus-rest schemes.\n",
    "# Note: solver default lbfgs, sag and saga did not work, we hit max_iter and even set at 4000 it still did not work\n",
    "# Note: only newton-cg works\n",
    "\n",
    "#y_train_pred_class = sgd_clf.predict(X_train_class)\n",
    "yhat_lr = logr_clf.predict(X_test_class)\n",
    "\n",
    "print('Logistic Regression Metrics:')\n",
    "print(logr_clf)\n",
    "print(classification_report(olist_test_y_range, yhat_lr))"
   ]
  },
  {
   "cell_type": "markdown",
   "id": "b4ab8236",
   "metadata": {},
   "source": [
    "## <span style='color:blue'>Utilize RandomizedSearchCV to tune our Logistic Regression Model</span>\n",
    "\n",
    "source: https://chrisalbon.com/machine_learning/model_selection/hyperparameter_tuning_using_random_search/"
   ]
  },
  {
   "cell_type": "code",
   "execution_count": 51,
   "id": "107d07f5",
   "metadata": {},
   "outputs": [],
   "source": [
    "from scipy.stats import uniform\n",
    "from sklearn.model_selection import RandomizedSearchCV\n",
    "X = X_train_class\n",
    "y = olist_train_y_range\n",
    "# create logistic Regression\n",
    "lgr = LogisticRegression(solver='newton-cg')\n",
    "\n",
    "# create regularization penalty space\n",
    "penalty = ['l2','none']  #only penalties that work with newton-cg\n",
    "\n",
    "# create regulatization hyperparameter distribution using uniform distribution\n",
    "C = uniform(loc=0, scale=4) \n",
    "\n",
    "# create hyperparameter options\n",
    "hyp = dict(C=C, penalty=penalty)\n",
    "\n",
    "# create random search, 5fold CV, 100 iterations\n",
    "clf = RandomizedSearchCV(lgr, hyp, random_state=42, n_iter=10, cv=5, verbose=0, n_jobs=-1)\n",
    "\n",
    "#fit random search\n",
    "best_model = clf.fit(X,y)"
   ]
  },
  {
   "cell_type": "code",
   "execution_count": 77,
   "id": "e4217ee8",
   "metadata": {},
   "outputs": [
    {
     "name": "stdout",
     "output_type": "stream",
     "text": [
      "Best Penalty: l2\n",
      "Best C: 1.49816047538945\n",
      "Best Score:  0.9527681554698072\n",
      "Best Params:  {'C': 1.49816047538945, 'penalty': 'l2'}\n",
      "Best Time (seconds):  9.085591793060303\n"
     ]
    }
   ],
   "source": [
    "# view hyperparameter values of best model\n",
    "print('Best Penalty:', best_model.best_estimator_.get_params()['penalty'])\n",
    "print('Best C:', best_model.best_estimator_.get_params()['C'])\n",
    "print('Best Score: ', best_model.best_score_) \n",
    "print('Best Params: ', best_model.best_params_)\n",
    "print('Best Time (seconds): ', best_model.refit_time_)"
   ]
  },
  {
   "cell_type": "code",
   "execution_count": 53,
   "id": "44522dd1",
   "metadata": {},
   "outputs": [
    {
     "name": "stdout",
     "output_type": "stream",
     "text": [
      "Best Random Logistic Regression Metrics:\n",
      "              precision    recall  f1-score   support\n",
      "\n",
      "           1       0.79      0.55      0.65      1727\n",
      "           2       0.00      0.00      0.00       314\n",
      "           3       0.95      0.99      0.97     20773\n",
      "\n",
      "    accuracy                           0.94     22814\n",
      "   macro avg       0.58      0.51      0.54     22814\n",
      "weighted avg       0.93      0.94      0.93     22814\n",
      "\n"
     ]
    }
   ],
   "source": [
    "# predict using best model\n",
    "yhat = best_model.predict(X_test_class)\n",
    "\n",
    "print('Best RandomSearchCV Logistic Regression Metrics:')\n",
    "print(classification_report(olist_test_y_range, yhat, zero_division=0))"
   ]
  },
  {
   "cell_type": "markdown",
   "id": "cc11a484",
   "metadata": {},
   "source": [
    "## <span style='color:blue'> A-2. Create a linear SVM classifier with stochastic descent </span>"
   ]
  },
  {
   "cell_type": "code",
   "execution_count": 54,
   "id": "6f737157",
   "metadata": {},
   "outputs": [],
   "source": [
    "# Basic SVM Model\n",
    "from sklearn.linear_model import SGDClassifier\n",
    "\n",
    "sgd_clf = SGDClassifier(random_state=42)\n",
    "sgd_clf.fit(X_train_class, olist_train_y_range)\n",
    "\n",
    "#y_train_pred_class = sgd_clf.predict(X_train_class)\n",
    "yhat_svm = sgd_clf.predict(X_test_class)\n"
   ]
  },
  {
   "cell_type": "code",
   "execution_count": 55,
   "id": "c4c016e8",
   "metadata": {},
   "outputs": [
    {
     "name": "stdout",
     "output_type": "stream",
     "text": [
      "Logistic Regression Metrics:\n",
      "SGDClassifier(random_state=42)\n",
      "              precision    recall  f1-score   support\n",
      "\n",
      "           1       0.85      0.51      0.63      1727\n",
      "           2       0.00      0.00      0.00       314\n",
      "           3       0.95      0.99      0.97     20773\n",
      "\n",
      "    accuracy                           0.94     22814\n",
      "   macro avg       0.60      0.50      0.53     22814\n",
      "weighted avg       0.93      0.94      0.93     22814\n",
      "\n"
     ]
    }
   ],
   "source": [
    "# SVM with SD Metrics\n",
    "print('Logistic Regression Metrics:')\n",
    "print(sgd_clf)\n",
    "print(classification_report(olist_test_y_range, yhat_svm, zero_division=0))"
   ]
  },
  {
   "cell_type": "markdown",
   "id": "6d415553",
   "metadata": {},
   "source": [
    "## <span style='color:blue'>Utilize RandomizedSearchCV to tune our SVM Model</span>"
   ]
  },
  {
   "cell_type": "code",
   "execution_count": 56,
   "id": "4237e8af",
   "metadata": {},
   "outputs": [
    {
     "name": "stdout",
     "output_type": "stream",
     "text": [
      "Fitting 5 folds for each of 100 candidates, totalling 500 fits\n",
      "Best Score:  0.9463573394739864\n",
      "Best Params:  {'penalty': 'l2', 'loss': 'hinge', 'learning_rate': 'invscaling', 'eta0': 1, 'alpha': 0.1}\n"
     ]
    }
   ],
   "source": [
    "from sklearn.linear_model import SGDClassifier \n",
    "from sklearn.model_selection import RandomizedSearchCV \n",
    "\n",
    "# create variable dictionaries\n",
    "loss = ['hinge', 'log', 'modified_huber', 'squared_hinge']\n",
    "penalty = ['l1', 'l2', 'elasticnet'] \n",
    "alpha = [0.0001, 0.001, 0.01, 0.1, 1, 10, 100, 1000] \n",
    "learning_rate = ['constant', 'optimal', 'invscaling', 'adaptive'] \n",
    "eta0 = [1, 10, 100] \n",
    "\n",
    "# create hyperparameter options\n",
    "param_distributions = dict(loss=loss, \n",
    "                           penalty=penalty, \n",
    "                           alpha=alpha, \n",
    "                           learning_rate=learning_rate, \n",
    "                           eta0=eta0)\n",
    "\n",
    "# create the classifier\n",
    "sgd = SGDClassifier(early_stopping=True, validation_fraction=0.15, max_iter=100, class_weight = \"balanced\") \n",
    "\n",
    "# create RandomizedSearchCV\n",
    "random = RandomizedSearchCV(estimator=sgd,\n",
    "                            param_distributions=param_distributions, \n",
    "                            verbose=1, \n",
    "                            n_iter=100, \n",
    "                            n_jobs=-1) \n",
    "random_result = random.fit(X_train_class,olist_train_y_range) \n",
    "\n"
   ]
  },
  {
   "cell_type": "code",
   "execution_count": 63,
   "id": "9d64adee",
   "metadata": {},
   "outputs": [
    {
     "name": "stdout",
     "output_type": "stream",
     "text": [
      "Best Score:  0.9463573394739864\n",
      "Best Params:  {'penalty': 'l2', 'loss': 'hinge', 'learning_rate': 'invscaling', 'eta0': 1, 'alpha': 0.1}\n",
      "Best Time (seconds):  0.7191619873046875\n"
     ]
    }
   ],
   "source": [
    "# Print Best Results\n",
    "print('Best Score: ', random_result.best_score_) \n",
    "print('Best Params: ', random_result.best_params_)\n",
    "print('Best Time (seconds): ', random_result.refit_time_)"
   ]
  },
  {
   "cell_type": "code",
   "execution_count": 68,
   "id": "b70eaaa3",
   "metadata": {},
   "outputs": [
    {
     "name": "stdout",
     "output_type": "stream",
     "text": [
      "Best Random SVM SD Metrics:\n",
      "              precision    recall  f1-score   support\n",
      "\n",
      "           1       0.75      0.62      0.68      1727\n",
      "           2       0.00      0.00      0.00       314\n",
      "           3       0.96      0.99      0.97     20773\n",
      "\n",
      "    accuracy                           0.94     22814\n",
      "   macro avg       0.57      0.53      0.55     22814\n",
      "weighted avg       0.93      0.94      0.94     22814\n",
      "\n"
     ]
    }
   ],
   "source": [
    "# predict using best model\n",
    "yhat_rand_svm = random_result.predict(X_test_class)\n",
    "\n",
    "print('Best Random SVM SD Metrics:')\n",
    "print(classification_report(olist_test_y_range, yhat_rand_svm, zero_division=0))"
   ]
  },
  {
   "cell_type": "markdown",
   "id": "42fe917c",
   "metadata": {},
   "source": [
    "## <span style='color:blue'> Model Advantages (10 points) </span>\n",
    "Discuss the advantages of each model for each classification task. Does one type of model offer superior performance over another in terms of prediction accuracy? In terms of training time or efficiency? Explain in detail.\n",
    "\n",
    "**Discussion:**\n",
    "* We ran 2 basic models using only minimal tuning for multinomial classification and 2 refitted models using RandonSearchCV for tuning.\n",
    "* We used multinomial classification \n",
    "* Basic Logistical Regression is the only model that was able to categorize deliveries that were made on-time (value #2) with a precision of 3%. \n",
    "* Refitted Logistical Regression: Once we tuned the model using RandomizedSearchCV with a 5-fold validation, the best model did not correctly classify any on time deliveries; however, the best fit model did increase the precision for classifying late deliveries from 64% to 79%! We also found the best model increased overall accuracy from 75% to 94%, but again, not correctly categorizing any of the on time deliveries. \n",
    "* SVM with Stochastic Descent with minor tuning to handle multinormial classification returned an overall accuracy of 94%, but failed to correctly classify any on time packages. This model did present the best precision for categorizing late deliveries at 85%, but fell short of the classification on early deliveries to the basic logistical regression model 95% to 98%.\n",
    "* Reffited SVM with Stochastic Descent: we again utilized RandomSearchCV to tune our SVM with stochastic decent and found that the resulting best model had the fastest time of 0.72seconds, while maintaining an overall accuracy of 94% that was in line with both the refitted logistical regression model and the initial SVM stochastic descent model. This model was also not able to correctly categorize on time deliveries and fell short of the untuned SVM model's precision of late deliveries...it did have better recall on the SVM's categorization of late deliveries. This model also had the best overall performance of identifying early deliveries based on the ratio between the precision and the recall that was rounded in this report, but from looking at the raw numbers it has a slightly better ratio than the other models.\n",
    "* Time - we found the best time was the best fit SVM stochastic descent model at 0.71seconds compared to the best fit Logistical Regression model at just over 9 seconds.\n",
    "* Overall the best performing model was the refit SVM stochastic descent model, even thought it failed to correctly categorize any ontime deliveries. To improve this performance we should probaly look at breaking the categories into more equal sizes that cover a similiar time frame in terms of days.\n",
    "\n"
   ]
  },
  {
   "cell_type": "code",
   "execution_count": 80,
   "id": "c194438d",
   "metadata": {},
   "outputs": [
    {
     "name": "stdout",
     "output_type": "stream",
     "text": [
      "\n",
      "================================================================\n",
      "\n",
      "=== Logistic Regression Metrics using minor tuning for class_weight, solver ===\n",
      "LogisticRegression(C=1, class_weight='balanced', multi_class='multinomial',\n",
      "                   random_state=42, solver='newton-cg')\n",
      "              precision    recall  f1-score   support\n",
      "\n",
      "           1       0.64      0.67      0.66      1727\n",
      "           2       0.03      0.53      0.06       314\n",
      "           3       0.98      0.76      0.86     20773\n",
      "\n",
      "    accuracy                           0.75     22814\n",
      "   macro avg       0.55      0.65      0.52     22814\n",
      "weighted avg       0.94      0.75      0.83     22814\n",
      "\n",
      "\n",
      "================================================================\n",
      "\n",
      "=== Best RandomSearchCV Logistic Regression Metrics ===\n",
      "\n",
      "Best Penalty: l2\n",
      "Best C: 1.49816047538945\n",
      "Best Score:  0.9527681554698072\n",
      "Best Params:  {'C': 1.49816047538945, 'penalty': 'l2'}\n",
      "Best Time (seconds):  9.085591793060303\n",
      "              precision    recall  f1-score   support\n",
      "\n",
      "           1       0.79      0.55      0.65      1727\n",
      "           2       0.00      0.00      0.00       314\n",
      "           3       0.95      0.99      0.97     20773\n",
      "\n",
      "    accuracy                           0.94     22814\n",
      "   macro avg       0.58      0.51      0.54     22814\n",
      "weighted avg       0.93      0.94      0.93     22814\n",
      "\n",
      "\n",
      "================================================================\n",
      "\n",
      "=== SVM with Stochastic Descent  Metrics ===\n",
      "\n",
      "              precision    recall  f1-score   support\n",
      "\n",
      "           1       0.85      0.51      0.63      1727\n",
      "           2       0.00      0.00      0.00       314\n",
      "           3       0.95      0.99      0.97     20773\n",
      "\n",
      "    accuracy                           0.94     22814\n",
      "   macro avg       0.60      0.50      0.53     22814\n",
      "weighted avg       0.93      0.94      0.93     22814\n",
      "\n",
      "\n",
      "================================================================\n",
      "\n",
      "=== Best RandomSeachCV SVM-SD Metrics ===\n",
      "\n",
      "Best Score:  0.9463573394739864\n",
      "Best Params:  {'penalty': 'l2', 'loss': 'hinge', 'learning_rate': 'invscaling', 'eta0': 1, 'alpha': 0.1}\n",
      "Best Time (seconds):  0.7191619873046875\n",
      "              precision    recall  f1-score   support\n",
      "\n",
      "           1       0.75      0.62      0.68      1727\n",
      "           2       0.00      0.00      0.00       314\n",
      "           3       0.96      0.99      0.97     20773\n",
      "\n",
      "    accuracy                           0.94     22814\n",
      "   macro avg       0.57      0.53      0.55     22814\n",
      "weighted avg       0.93      0.94      0.94     22814\n",
      "\n"
     ]
    }
   ],
   "source": [
    "print('\\n================================================================\\n')\n",
    "print('=== Logistic Regression Metrics using minor tuning for class_weight, solver ===')\n",
    "print(logr_clf)\n",
    "print(classification_report(olist_test_y_range, yhat_lr))\n",
    "\n",
    "print('\\n================================================================\\n')\n",
    "print('=== Best RandomSearchCV Logistic Regression Metrics ===\\n')\n",
    "print('Best Penalty:', best_model.best_estimator_.get_params()['penalty'])\n",
    "print('Best C:', best_model.best_estimator_.get_params()['C'])\n",
    "print('Best Score: ', best_model.best_score_) \n",
    "print('Best Params: ', best_model.best_params_)\n",
    "print('Best Time (seconds): ', best_model.refit_time_)\n",
    "print(classification_report(olist_test_y_range, yhat, zero_division=0))\n",
    "\n",
    "print('\\n================================================================\\n')\n",
    "print('=== SVM with Stochastic Descent  Metrics ===\\n')\n",
    "print(classification_report(olist_test_y_range, yhat_svm, zero_division=0))\n",
    "\n",
    "print('\\n================================================================\\n')\n",
    "print('=== Best RandomSeachCV SVM-SD Metrics ===\\n')\n",
    "print('Best Score: ', random_result.best_score_) \n",
    "print('Best Params: ', random_result.best_params_)\n",
    "print('Best Time (seconds): ', random_result.refit_time_)\n",
    "print(classification_report(olist_test_y_range, yhat_rand_svm, zero_division=0))\n",
    "\n",
    "### <span style='color:blue'> **Discssion** </span>\n"
   ]
  },
  {
   "cell_type": "markdown",
   "id": "b08810e5",
   "metadata": {},
   "source": [
    "# <span style='color:blue'> 3. Interpret Feature Importance (30 points) </span>\n",
    "\n",
    "- Use the weights from logistic regression to interpret the importance of different features for the classification task.\n",
    "- Explain your interpretation in detail. Why do you think some variables are more important?"
   ]
  },
  {
   "cell_type": "code",
   "execution_count": 58,
   "id": "bef31c2c",
   "metadata": {},
   "outputs": [
    {
     "name": "stdout",
     "output_type": "stream",
     "text": [
      "payment_sequential has abs(weight) of 0.17599209836490676\n",
      "product_category_english has abs(weight) of 0.006333977817338498\n",
      "seller_zip_code_prefix has abs(weight) of 0.2506250757934505\n",
      "seller_city has abs(weight) of 0.03399521351660196\n",
      "tot_order_amt has abs(weight) of 0.07439034959702669\n",
      "freight_value has abs(weight) of 1.0219627328979335\n",
      "product_dimensions has abs(weight) of 0.015292582301533526\n",
      "review_score_class has abs(weight) of 0.5156891986547839\n",
      "product_weight_g has abs(weight) of 0.11732492379344346\n",
      "customer_city has abs(weight) of 0.3983642748683727\n",
      "customer_zip_code_prefix has abs(weight) of 0.022479565915453935\n",
      "order_approved_at has abs(weight) of 0.12306315009513842\n",
      "order_delivery_actual_duration has abs(weight) of 0.14975372495543116\n",
      "purchase_month has abs(weight) of 0.015405374775135452\n",
      "purchase_wk_day has abs(weight) of 0.021280261582777803\n",
      "price has abs(weight) of 0.14975994526518038\n"
     ]
    }
   ],
   "source": [
    "# iterate over the coefficients\n",
    "weights = logr_clf.coef_.T # take transpose to make a column vector\n",
    "variable_names = olist_train_noY.columns\n",
    "for coef, name in zip(weights,variable_names):\n",
    "    print(name, 'has abs(weight) of', abs(coef[0]))"
   ]
  },
  {
   "cell_type": "code",
   "execution_count": 59,
   "id": "63b110e0",
   "metadata": {},
   "outputs": [
    {
     "data": {
      "text/plain": [
       "[0.006333977817338498,\n",
       " 0.015292582301533526,\n",
       " 0.015405374775135452,\n",
       " 0.021280261582777803,\n",
       " 0.022479565915453935,\n",
       " 0.03399521351660196,\n",
       " 0.06390416814056006,\n",
       " 0.07439034959702669,\n",
       " 0.11732492379344346,\n",
       " 0.12306315009513842,\n",
       " 0.14975372495543116,\n",
       " 0.14975994526518038,\n",
       " 0.17599209836490676,\n",
       " 0.2506250757934505,\n",
       " 0.3983642748683727,\n",
       " 0.5156891986547839,\n",
       " 1.0219627328979335]"
      ]
     },
     "execution_count": 59,
     "metadata": {},
     "output_type": "execute_result"
    }
   ],
   "source": [
    "# sort these attributes and spit them out\n",
    "zip_vars = zip(logr_clf.coef_.T, olist_class2.columns) # combine attributes\n",
    "zip_vars =list(zip_vars)\n",
    "\n",
    "\n",
    "wts = pd.Series([item[0][0] for item in zip_vars],\n",
    "               index = [item[1] for item in zip_vars])\n",
    "wts = sorted(abs(wts))\n",
    "wts\n",
    "#for coef, name in zip_vars:\n",
    " #   print(name, 'has weight of', coef[0]) # now print them out"
   ]
  },
  {
   "cell_type": "markdown",
   "id": "7dbcfb63",
   "metadata": {},
   "source": [
    "# <span style='color:blue'> 4. Interpret support vectors </span>\n",
    "\n",
    "- Look at the chosen support vectors for the classification task. \n",
    "- Do these provide any insight into the data? Explain. \n",
    "- If you used stochastic gradient descent (and therefore did not explicitly solve for support vectors), try subsampling your data to train the SVC model\n",
    "    - then analyze the support vectors from the subsampled dataset."
   ]
  },
  {
   "cell_type": "code",
   "execution_count": null,
   "id": "8c32f2c4",
   "metadata": {},
   "outputs": [],
   "source": []
  },
  {
   "cell_type": "code",
   "execution_count": null,
   "id": "df4c30d4",
   "metadata": {},
   "outputs": [],
   "source": []
  },
  {
   "cell_type": "code",
   "execution_count": null,
   "id": "f69ac196",
   "metadata": {},
   "outputs": [],
   "source": []
  },
  {
   "cell_type": "code",
   "execution_count": null,
   "id": "4e75f4bc",
   "metadata": {},
   "outputs": [],
   "source": []
  },
  {
   "cell_type": "code",
   "execution_count": null,
   "id": "4d4752c3",
   "metadata": {},
   "outputs": [],
   "source": []
  },
  {
   "cell_type": "code",
   "execution_count": null,
   "id": "a046b6e3",
   "metadata": {},
   "outputs": [],
   "source": []
  },
  {
   "cell_type": "code",
   "execution_count": null,
   "id": "a6f459a2",
   "metadata": {},
   "outputs": [],
   "source": []
  },
  {
   "cell_type": "code",
   "execution_count": null,
   "id": "c3ae5cd9",
   "metadata": {},
   "outputs": [],
   "source": []
  }
 ],
 "metadata": {
  "kernelspec": {
   "display_name": "Python 3",
   "language": "python",
   "name": "python3"
  },
  "language_info": {
   "codemirror_mode": {
    "name": "ipython",
    "version": 3
   },
   "file_extension": ".py",
   "mimetype": "text/x-python",
   "name": "python",
   "nbconvert_exporter": "python",
   "pygments_lexer": "ipython3",
   "version": "3.8.10"
  }
 },
 "nbformat": 4,
 "nbformat_minor": 5
}
