{
  "nbformat": 4,
  "nbformat_minor": 0,
  "metadata": {
    "colab": {
      "name": "Machine Learning 1_new.ipynb",
      "provenance": [],
      "collapsed_sections": []
    },
    "kernelspec": {
      "name": "python3",
      "display_name": "Python 3"
    },
    "language_info": {
      "name": "python"
    }
  },
  "cells": [
    {
      "cell_type": "markdown",
      "metadata": {
        "id": "I4HjHK5vJoXZ"
      },
      "source": [
        "Visualization Task: Due May 16"
      ]
    },
    {
      "cell_type": "markdown",
      "metadata": {
        "id": "yL1d0--MMzhJ"
      },
      "source": [
        "References:\n",
        "* Access to Kaggle dataset on Googledrive:\n",
        "* https://towardsdatascience.com/downloading-kaggle-datasets-directly-into-google-colab-c8f0f407d73a\n",
        "\n",
        "* Accessing zipped folder and merging needed files:\n",
        "* https://www.kaggle.com/carolinemnard/customer-segmentation\n",
        "\n",
        "* EDA:\n",
        "My idea\n",
        "\n"
      ]
    },
    {
      "cell_type": "code",
      "metadata": {
        "id": "t8MstUAd8kdY"
      },
      "source": [
        "from google.colab import drive\n",
        "drive.mount('/content/drive')"
      ],
      "execution_count": null,
      "outputs": []
    },
    {
      "cell_type": "markdown",
      "metadata": {
        "id": "zKodP0dIELmR"
      },
      "source": [
        "Configure a ‘Kaggle Environment’ using OS. This will store the API key and value as an OS environ object/variable. When you run Kaggle terminal commands (in the next step), your machine will be linked to your account through your API token. Linking to the private directory in your Drive ensures that your token information will remain hidden to those you may choose to share notebooks with."
      ]
    },
    {
      "cell_type": "code",
      "metadata": {
        "id": "Ul92WNdv_GT0"
      },
      "source": [
        ""
      ],
      "execution_count": null,
      "outputs": []
    },
    {
      "cell_type": "code",
      "metadata": {
        "id": "l_xh7f4O_GQr"
      },
      "source": [
        "# Import OS for navigation and environment set up\n",
        "import os\n",
        "# Check current location, '/content' is the Colab virtual machine\n",
        "os.getcwd()\n",
        "# Enable the Kaggle environment, use the path to the directory your Kaggle API JSON is stored in\n",
        "os.environ['KAGGLE_CONFIG_DIR'] = '/content/drive/MyDrive/kaggle'"
      ],
      "execution_count": null,
      "outputs": []
    },
    {
      "cell_type": "markdown",
      "metadata": {
        "id": "MWzdoY1c_0vg"
      },
      "source": [
        "Install the Kaggle library to enable Kaggle terminal commands (such as downloading data or kernels, see official documentation)."
      ]
    },
    {
      "cell_type": "code",
      "metadata": {
        "colab": {
          "base_uri": "https://localhost:8080/"
        },
        "id": "pixQzq-5_GXI",
        "outputId": "91a677b4-ecde-42d3-8ef1-e8b668bb69fd"
      },
      "source": [
        "!pip install kaggle"
      ],
      "execution_count": null,
      "outputs": [
        {
          "output_type": "stream",
          "text": [
            "Requirement already satisfied: kaggle in /usr/local/lib/python3.7/dist-packages (1.5.12)\n",
            "Requirement already satisfied: six>=1.10 in /usr/local/lib/python3.7/dist-packages (from kaggle) (1.15.0)\n",
            "Requirement already satisfied: urllib3 in /usr/local/lib/python3.7/dist-packages (from kaggle) (1.24.3)\n",
            "Requirement already satisfied: python-dateutil in /usr/local/lib/python3.7/dist-packages (from kaggle) (2.8.1)\n",
            "Requirement already satisfied: certifi in /usr/local/lib/python3.7/dist-packages (from kaggle) (2020.12.5)\n",
            "Requirement already satisfied: tqdm in /usr/local/lib/python3.7/dist-packages (from kaggle) (4.41.1)\n",
            "Requirement already satisfied: requests in /usr/local/lib/python3.7/dist-packages (from kaggle) (2.23.0)\n",
            "Requirement already satisfied: python-slugify in /usr/local/lib/python3.7/dist-packages (from kaggle) (4.0.1)\n",
            "Requirement already satisfied: idna<3,>=2.5 in /usr/local/lib/python3.7/dist-packages (from requests->kaggle) (2.10)\n",
            "Requirement already satisfied: chardet<4,>=3.0.2 in /usr/local/lib/python3.7/dist-packages (from requests->kaggle) (3.0.4)\n",
            "Requirement already satisfied: text-unidecode>=1.3 in /usr/local/lib/python3.7/dist-packages (from python-slugify->kaggle) (1.3)\n"
          ],
          "name": "stdout"
        }
      ]
    },
    {
      "cell_type": "code",
      "metadata": {
        "id": "lXHmtY7K_GaI"
      },
      "source": [
        ""
      ],
      "execution_count": null,
      "outputs": []
    },
    {
      "cell_type": "markdown",
      "metadata": {
        "id": "y7iKxs1___nt"
      },
      "source": [
        "Go to the competition page for your data. Copy the pre-formatted API command from the dataset page you wish to download (for example, this Xray image set)."
      ]
    },
    {
      "cell_type": "code",
      "metadata": {
        "id": "eXanALS8_70y"
      },
      "source": [
        ""
      ],
      "execution_count": null,
      "outputs": []
    },
    {
      "cell_type": "markdown",
      "metadata": {
        "id": "0Y9U8-LsAmJb"
      },
      "source": [
        "Navigate into the directory where you would like to store the data. Paste the API command. Keep the file zipped to save space on your Drive and to import to Colab more efficiently."
      ]
    },
    {
      "cell_type": "code",
      "metadata": {
        "colab": {
          "base_uri": "https://localhost:8080/",
          "height": 231
        },
        "id": "luIn0HOa_74K",
        "outputId": "3748eff0-19d8-4d98-fa46-fa38c57f63fd"
      },
      "source": [
        "# Navigate into Drive where you want to store your Kaggle data\n",
        "os.chdir('/content/drive/MyDrive/kaggle')\n",
        "# Paste and run the copied API command, the data will download to the current directory\n",
        "!kaggle datasets download -d olistbr/brazilian-ecommerce\n",
        "\n",
        "\n",
        "# Check contents of directory, you should see the .zip file for the competition in your Drive\n",
        "os.listdir()"
      ],
      "execution_count": null,
      "outputs": [
        {
          "output_type": "error",
          "ename": "FileNotFoundError",
          "evalue": "ignored",
          "traceback": [
            "\u001b[0;31m---------------------------------------------------------------------------\u001b[0m",
            "\u001b[0;31mFileNotFoundError\u001b[0m                         Traceback (most recent call last)",
            "\u001b[0;32m<ipython-input-3-1543abf215f2>\u001b[0m in \u001b[0;36m<module>\u001b[0;34m()\u001b[0m\n\u001b[1;32m      1\u001b[0m \u001b[0;31m# Navigate into Drive where you want to store your Kaggle data\u001b[0m\u001b[0;34m\u001b[0m\u001b[0;34m\u001b[0m\u001b[0;34m\u001b[0m\u001b[0m\n\u001b[0;32m----> 2\u001b[0;31m \u001b[0mos\u001b[0m\u001b[0;34m.\u001b[0m\u001b[0mchdir\u001b[0m\u001b[0;34m(\u001b[0m\u001b[0;34m'/content/drive/MyDrive/kaggle'\u001b[0m\u001b[0;34m)\u001b[0m\u001b[0;34m\u001b[0m\u001b[0;34m\u001b[0m\u001b[0m\n\u001b[0m\u001b[1;32m      3\u001b[0m \u001b[0;31m# Paste and run the copied API command, the data will download to the current directory\u001b[0m\u001b[0;34m\u001b[0m\u001b[0;34m\u001b[0m\u001b[0;34m\u001b[0m\u001b[0m\n\u001b[1;32m      4\u001b[0m \u001b[0mget_ipython\u001b[0m\u001b[0;34m(\u001b[0m\u001b[0;34m)\u001b[0m\u001b[0;34m.\u001b[0m\u001b[0msystem\u001b[0m\u001b[0;34m(\u001b[0m\u001b[0;34m'kaggle datasets download -d olistbr/brazilian-ecommerce'\u001b[0m\u001b[0;34m)\u001b[0m\u001b[0;34m\u001b[0m\u001b[0;34m\u001b[0m\u001b[0m\n\u001b[1;32m      5\u001b[0m \u001b[0;34m\u001b[0m\u001b[0m\n",
            "\u001b[0;31mFileNotFoundError\u001b[0m: [Errno 2] No such file or directory: '/content/drive/MyDrive/kaggle'"
          ]
        }
      ]
    },
    {
      "cell_type": "markdown",
      "metadata": {
        "id": "wZ96STZXDkLf"
      },
      "source": [
        "When you are ready to use the data in Colab, you will need to copy it from long term storage location on your Drive (‘/gdrive/’) to the temporary virtual machine ('/content') at the start of each session."
      ]
    },
    {
      "cell_type": "markdown",
      "metadata": {
        "id": "7StSipVoDrYU"
      },
      "source": [
        "1. In the project notebook where you will be using the data, mount a connection to Drive as shown above.\n",
        "1. Copy the compressed file to the virtual machine and unzip it to access the data. Do not remove the original zip from your Drive after copying. You will need to copy it at the start of each session while working with Colab."
      ]
    },
    {
      "cell_type": "code",
      "metadata": {
        "colab": {
          "base_uri": "https://localhost:8080/"
        },
        "id": "xVJNrZET_77s",
        "outputId": "2cc0cb6b-1e75-42bf-c7f2-af069b3b51b7"
      },
      "source": [
        "# Complete path to storage location of the .zip file of data\n",
        "zip_path = '../gdrive/content/MyDrive/kaggle/brazilian-ecommerce.zip'\n",
        "# Check current directory (be sure you're in the directory where Colab operates: '/content')\n",
        "os.getcwd()\n",
        "# Copy the .zip file into the present directory\n",
        "!cp '{zip_path}' .\n",
        "# Unzip quietly \n",
        "!unzip -q 'brazilian-ecommerce.zip'\n",
        "\n",
        "# View the unzipped contents in the virtual machine\n",
        "os.listdir()"
      ],
      "execution_count": null,
      "outputs": [
        {
          "output_type": "stream",
          "text": [
            "cp: cannot stat '../gdrive/content/MyDrive/kaggle/brazilian-ecommerce.zip': No such file or directory\n",
            "replace olist_customers_dataset.csv? [y]es, [n]o, [A]ll, [N]one, [r]ename: "
          ],
          "name": "stdout"
        },
        {
          "output_type": "execute_result",
          "data": {
            "text/plain": [
              "['olist_customers_dataset.csv',\n",
              " 'olist_geolocation_dataset.csv',\n",
              " 'olist_order_payments_dataset.csv',\n",
              " 'olist_order_items_dataset.csv',\n",
              " 'olist_orders_dataset.csv',\n",
              " 'olist_order_reviews_dataset.csv',\n",
              " 'olist_products_dataset.csv',\n",
              " 'product_category_name_translation.csv',\n",
              " 'olist_sellers_dataset.csv',\n",
              " 'kaggle.json',\n",
              " 'brazilian-ecommerce.zip',\n",
              " 'brazil_ecomm_unzipped']"
            ]
          },
          "metadata": {
            "tags": []
          },
          "execution_count": 5
        }
      ]
    },
    {
      "cell_type": "code",
      "metadata": {
        "id": "2mMsxtqe_7-v"
      },
      "source": [
        "import numpy as np # linear algebra\n",
        "import pandas as pd # data processing, CSV file I/O (e.g. pd.read_csv)\n",
        "import datetime as dt\n",
        "#import geopandas as gpd\n",
        "import matplotlib.pyplot as plt\n",
        "import seaborn as sns\n",
        "#from shapely.geometry import Polygon, Point, MultiPolygon"
      ],
      "execution_count": null,
      "outputs": []
    },
    {
      "cell_type": "code",
      "metadata": {
        "colab": {
          "base_uri": "https://localhost:8080/"
        },
        "id": "Fw5J1E96_8Bz",
        "outputId": "efd4a6eb-f7e9-47d5-8d2a-fc19fd06c9f1"
      },
      "source": [
        "import os\n",
        "for dirname, _, filenames in os.walk(\"/content/drive/MyDrive/kaggle\"):\n",
        "    for filename in filenames:\n",
        "        print(os.path.join(dirname, filename))"
      ],
      "execution_count": null,
      "outputs": [
        {
          "output_type": "stream",
          "text": [
            "/content/drive/MyDrive/kaggle/olist_customers_dataset.csv\n",
            "/content/drive/MyDrive/kaggle/olist_geolocation_dataset.csv\n",
            "/content/drive/MyDrive/kaggle/olist_order_payments_dataset.csv\n",
            "/content/drive/MyDrive/kaggle/olist_order_items_dataset.csv\n",
            "/content/drive/MyDrive/kaggle/olist_orders_dataset.csv\n",
            "/content/drive/MyDrive/kaggle/olist_order_reviews_dataset.csv\n",
            "/content/drive/MyDrive/kaggle/olist_products_dataset.csv\n",
            "/content/drive/MyDrive/kaggle/product_category_name_translation.csv\n",
            "/content/drive/MyDrive/kaggle/olist_sellers_dataset.csv\n",
            "/content/drive/MyDrive/kaggle/kaggle.json\n",
            "/content/drive/MyDrive/kaggle/brazilian-ecommerce.zip\n",
            "/content/drive/MyDrive/kaggle/brazil_ecomm_unzipped/olist_customers_dataset.csv\n",
            "/content/drive/MyDrive/kaggle/brazil_ecomm_unzipped/olist_geolocation_dataset.csv\n",
            "/content/drive/MyDrive/kaggle/brazil_ecomm_unzipped/olist_order_items_dataset.csv\n",
            "/content/drive/MyDrive/kaggle/brazil_ecomm_unzipped/olist_order_payments_dataset.csv\n",
            "/content/drive/MyDrive/kaggle/brazil_ecomm_unzipped/olist_orders_dataset.csv\n",
            "/content/drive/MyDrive/kaggle/brazil_ecomm_unzipped/olist_order_reviews_dataset.csv\n",
            "/content/drive/MyDrive/kaggle/brazil_ecomm_unzipped/olist_products_dataset.csv\n",
            "/content/drive/MyDrive/kaggle/brazil_ecomm_unzipped/olist_sellers_dataset.csv\n",
            "/content/drive/MyDrive/kaggle/brazil_ecomm_unzipped/product_category_name_translation.csv\n"
          ],
          "name": "stdout"
        }
      ]
    },
    {
      "cell_type": "code",
      "metadata": {
        "colab": {
          "base_uri": "https://localhost:8080/"
        },
        "id": "rV2NNH8MKLAb",
        "outputId": "127e5d54-8d07-4a03-bb9e-3908f27b1190"
      },
      "source": [
        "!ls"
      ],
      "execution_count": null,
      "outputs": [
        {
          "output_type": "stream",
          "text": [
            "brazil_ecomm_unzipped\t       olist_order_payments_dataset.csv\n",
            "brazilian-ecommerce.zip        olist_order_reviews_dataset.csv\n",
            "kaggle.json\t\t       olist_orders_dataset.csv\n",
            "olist_customers_dataset.csv    olist_products_dataset.csv\n",
            "olist_geolocation_dataset.csv  olist_sellers_dataset.csv\n",
            "olist_order_items_dataset.csv  product_category_name_translation.csv\n"
          ],
          "name": "stdout"
        }
      ]
    },
    {
      "cell_type": "code",
      "metadata": {
        "id": "cBUUOZJbL3bu"
      },
      "source": [
        "root_path = '/content/drive/MyDrive/kaggle/'\n",
        "\n",
        "customers_df = pd.read_csv(root_path + 'olist_customers_dataset.csv')\n",
        "items_df = pd.read_csv(root_path + 'olist_order_items_dataset.csv')\n",
        "payments_df = pd.read_csv(root_path + 'olist_order_payments_dataset.csv')\n",
        "orders_df = pd.read_csv(root_path + 'olist_orders_dataset.csv')\n",
        "products_df = pd.read_csv(root_path + 'olist_products_dataset.csv')\n",
        "sellers_df = pd.read_csv(root_path + 'olist_sellers_dataset.csv')\n",
        "categories_df = pd.read_csv(root_path + 'product_category_name_translation.csv')"
      ],
      "execution_count": null,
      "outputs": []
    },
    {
      "cell_type": "code",
      "metadata": {
        "id": "wZBkyEwp0_63"
      },
      "source": [
        "reviews_df = pd.read_csv(root_path + 'olist_order_reviews_dataset.csv')"
      ],
      "execution_count": null,
      "outputs": []
    },
    {
      "cell_type": "code",
      "metadata": {
        "colab": {
          "base_uri": "https://localhost:8080/"
        },
        "id": "XW97wks-L3ya",
        "outputId": "938b0687-afb8-4808-cd85-700581884b1e"
      },
      "source": [
        "the_df = {'customers': customers_df,\n",
        "              'items': items_df, \n",
        "              'payments': payments_df, \n",
        "              'orders': orders_df, \n",
        "              'products': products_df, \n",
        "              'sellers': sellers_df, \n",
        "              'categories': categories_df}\n",
        "print(\"_______________________________________________________________________________________________\")\n",
        "print(\"Description of the {} dataframes\".format(len(the_df)))\n",
        "print(\"_______________________________________________________________________________________________\")\n",
        "for i, j in the_df.items():\n",
        "    print('{} dataframe:      {} rows and {} columns'.format(str(i),j.shape[0],j.shape[1]))\n",
        "    print(list(j.columns))\n",
        "    print(\"\")\n",
        "print(\"________________________________________________________________________________________________\")"
      ],
      "execution_count": null,
      "outputs": [
        {
          "output_type": "stream",
          "text": [
            "_______________________________________________________________________________________________\n",
            "Description of the 7 dataframes\n",
            "_______________________________________________________________________________________________\n",
            "customers dataframe:      99441 rows and 5 columns\n",
            "['customer_id', 'customer_unique_id', 'customer_zip_code_prefix', 'customer_city', 'customer_state']\n",
            "\n",
            "items dataframe:      112650 rows and 7 columns\n",
            "['order_id', 'order_item_id', 'product_id', 'seller_id', 'shipping_limit_date', 'price', 'freight_value']\n",
            "\n",
            "payments dataframe:      103886 rows and 5 columns\n",
            "['order_id', 'payment_sequential', 'payment_type', 'payment_installments', 'payment_value']\n",
            "\n",
            "orders dataframe:      99441 rows and 8 columns\n",
            "['order_id', 'customer_id', 'order_status', 'order_purchase_timestamp', 'order_approved_at', 'order_delivered_carrier_date', 'order_delivered_customer_date', 'order_estimated_delivery_date']\n",
            "\n",
            "products dataframe:      32951 rows and 9 columns\n",
            "['product_id', 'product_category_name', 'product_name_lenght', 'product_description_lenght', 'product_photos_qty', 'product_weight_g', 'product_length_cm', 'product_height_cm', 'product_width_cm']\n",
            "\n",
            "sellers dataframe:      3095 rows and 4 columns\n",
            "['seller_id', 'seller_zip_code_prefix', 'seller_city', 'seller_state']\n",
            "\n",
            "categories dataframe:      71 rows and 2 columns\n",
            "['product_category_name', 'product_category_name_english']\n",
            "\n",
            "________________________________________________________________________________________________\n"
          ],
          "name": "stdout"
        }
      ]
    },
    {
      "cell_type": "code",
      "metadata": {
        "colab": {
          "base_uri": "https://localhost:8080/",
          "height": 551
        },
        "id": "uClYz8gzMnfk",
        "outputId": "1f2c9a3b-dda6-4639-a3c4-640b7a62b5e9"
      },
      "source": [
        "#Merge order dataframe together\n",
        "df2 = pd.merge(orders_df, customers_df, on='customer_id')\n",
        "df2 = df2.merge(items_df, on='order_id')\n",
        "df2 = df2.merge(payments_df, on='order_id')\n",
        "df2 = df2.merge(sellers_df, on='seller_id')\n",
        "df2.head(15)\n"
      ],
      "execution_count": null,
      "outputs": [
        {
          "output_type": "execute_result",
          "data": {
            "text/html": [
              "<div>\n",
              "<style scoped>\n",
              "    .dataframe tbody tr th:only-of-type {\n",
              "        vertical-align: middle;\n",
              "    }\n",
              "\n",
              "    .dataframe tbody tr th {\n",
              "        vertical-align: top;\n",
              "    }\n",
              "\n",
              "    .dataframe thead th {\n",
              "        text-align: right;\n",
              "    }\n",
              "</style>\n",
              "<table border=\"1\" class=\"dataframe\">\n",
              "  <thead>\n",
              "    <tr style=\"text-align: right;\">\n",
              "      <th></th>\n",
              "      <th>order_id</th>\n",
              "      <th>customer_id</th>\n",
              "      <th>order_status</th>\n",
              "      <th>order_purchase_timestamp</th>\n",
              "      <th>order_approved_at</th>\n",
              "      <th>order_delivered_carrier_date</th>\n",
              "      <th>order_delivered_customer_date</th>\n",
              "      <th>order_estimated_delivery_date</th>\n",
              "      <th>customer_unique_id</th>\n",
              "      <th>customer_zip_code_prefix</th>\n",
              "      <th>customer_city</th>\n",
              "      <th>customer_state</th>\n",
              "      <th>order_item_id</th>\n",
              "      <th>product_id</th>\n",
              "      <th>seller_id</th>\n",
              "      <th>shipping_limit_date</th>\n",
              "      <th>price</th>\n",
              "      <th>freight_value</th>\n",
              "      <th>payment_sequential</th>\n",
              "      <th>payment_type</th>\n",
              "      <th>payment_installments</th>\n",
              "      <th>payment_value</th>\n",
              "      <th>seller_zip_code_prefix</th>\n",
              "      <th>seller_city</th>\n",
              "      <th>seller_state</th>\n",
              "    </tr>\n",
              "  </thead>\n",
              "  <tbody>\n",
              "    <tr>\n",
              "      <th>0</th>\n",
              "      <td>e481f51cbdc54678b7cc49136f2d6af7</td>\n",
              "      <td>9ef432eb6251297304e76186b10a928d</td>\n",
              "      <td>delivered</td>\n",
              "      <td>2017-10-02 10:56:33</td>\n",
              "      <td>2017-10-02 11:07:15</td>\n",
              "      <td>2017-10-04 19:55:00</td>\n",
              "      <td>2017-10-10 21:25:13</td>\n",
              "      <td>2017-10-18 00:00:00</td>\n",
              "      <td>7c396fd4830fd04220f754e42b4e5bff</td>\n",
              "      <td>3149</td>\n",
              "      <td>sao paulo</td>\n",
              "      <td>SP</td>\n",
              "      <td>1</td>\n",
              "      <td>87285b34884572647811a353c7ac498a</td>\n",
              "      <td>3504c0cb71d7fa48d967e0e4c94d59d9</td>\n",
              "      <td>2017-10-06 11:07:15</td>\n",
              "      <td>29.99</td>\n",
              "      <td>8.72</td>\n",
              "      <td>1</td>\n",
              "      <td>credit_card</td>\n",
              "      <td>1</td>\n",
              "      <td>18.12</td>\n",
              "      <td>9350</td>\n",
              "      <td>maua</td>\n",
              "      <td>SP</td>\n",
              "    </tr>\n",
              "    <tr>\n",
              "      <th>1</th>\n",
              "      <td>e481f51cbdc54678b7cc49136f2d6af7</td>\n",
              "      <td>9ef432eb6251297304e76186b10a928d</td>\n",
              "      <td>delivered</td>\n",
              "      <td>2017-10-02 10:56:33</td>\n",
              "      <td>2017-10-02 11:07:15</td>\n",
              "      <td>2017-10-04 19:55:00</td>\n",
              "      <td>2017-10-10 21:25:13</td>\n",
              "      <td>2017-10-18 00:00:00</td>\n",
              "      <td>7c396fd4830fd04220f754e42b4e5bff</td>\n",
              "      <td>3149</td>\n",
              "      <td>sao paulo</td>\n",
              "      <td>SP</td>\n",
              "      <td>1</td>\n",
              "      <td>87285b34884572647811a353c7ac498a</td>\n",
              "      <td>3504c0cb71d7fa48d967e0e4c94d59d9</td>\n",
              "      <td>2017-10-06 11:07:15</td>\n",
              "      <td>29.99</td>\n",
              "      <td>8.72</td>\n",
              "      <td>3</td>\n",
              "      <td>voucher</td>\n",
              "      <td>1</td>\n",
              "      <td>2.00</td>\n",
              "      <td>9350</td>\n",
              "      <td>maua</td>\n",
              "      <td>SP</td>\n",
              "    </tr>\n",
              "    <tr>\n",
              "      <th>2</th>\n",
              "      <td>e481f51cbdc54678b7cc49136f2d6af7</td>\n",
              "      <td>9ef432eb6251297304e76186b10a928d</td>\n",
              "      <td>delivered</td>\n",
              "      <td>2017-10-02 10:56:33</td>\n",
              "      <td>2017-10-02 11:07:15</td>\n",
              "      <td>2017-10-04 19:55:00</td>\n",
              "      <td>2017-10-10 21:25:13</td>\n",
              "      <td>2017-10-18 00:00:00</td>\n",
              "      <td>7c396fd4830fd04220f754e42b4e5bff</td>\n",
              "      <td>3149</td>\n",
              "      <td>sao paulo</td>\n",
              "      <td>SP</td>\n",
              "      <td>1</td>\n",
              "      <td>87285b34884572647811a353c7ac498a</td>\n",
              "      <td>3504c0cb71d7fa48d967e0e4c94d59d9</td>\n",
              "      <td>2017-10-06 11:07:15</td>\n",
              "      <td>29.99</td>\n",
              "      <td>8.72</td>\n",
              "      <td>2</td>\n",
              "      <td>voucher</td>\n",
              "      <td>1</td>\n",
              "      <td>18.59</td>\n",
              "      <td>9350</td>\n",
              "      <td>maua</td>\n",
              "      <td>SP</td>\n",
              "    </tr>\n",
              "    <tr>\n",
              "      <th>3</th>\n",
              "      <td>8736140c61ea584cb4250074756d8f3b</td>\n",
              "      <td>ab8844663ae049fda8baf15fc928f47f</td>\n",
              "      <td>delivered</td>\n",
              "      <td>2017-08-10 13:35:55</td>\n",
              "      <td>2017-08-10 13:50:09</td>\n",
              "      <td>2017-08-11 13:52:35</td>\n",
              "      <td>2017-08-16 19:03:36</td>\n",
              "      <td>2017-08-23 00:00:00</td>\n",
              "      <td>02c9e0c05a817d4562ec0e8c90f29dba</td>\n",
              "      <td>8577</td>\n",
              "      <td>itaquaquecetuba</td>\n",
              "      <td>SP</td>\n",
              "      <td>1</td>\n",
              "      <td>b00a32a0b42fd65efb58a5822009f629</td>\n",
              "      <td>3504c0cb71d7fa48d967e0e4c94d59d9</td>\n",
              "      <td>2017-08-16 13:50:09</td>\n",
              "      <td>75.90</td>\n",
              "      <td>7.79</td>\n",
              "      <td>1</td>\n",
              "      <td>credit_card</td>\n",
              "      <td>1</td>\n",
              "      <td>83.69</td>\n",
              "      <td>9350</td>\n",
              "      <td>maua</td>\n",
              "      <td>SP</td>\n",
              "    </tr>\n",
              "    <tr>\n",
              "      <th>4</th>\n",
              "      <td>a0151737f2f0c6c0a5fd69d45f66ceea</td>\n",
              "      <td>fc2697314ab7fbeda62bb6f1afa4efcd</td>\n",
              "      <td>delivered</td>\n",
              "      <td>2017-07-12 14:11:58</td>\n",
              "      <td>2017-07-12 14:30:18</td>\n",
              "      <td>2017-07-13 12:47:05</td>\n",
              "      <td>2017-07-18 16:24:42</td>\n",
              "      <td>2017-07-25 00:00:00</td>\n",
              "      <td>bdd30e6e39cc70dde8665187b57af402</td>\n",
              "      <td>13820</td>\n",
              "      <td>jaguariuna</td>\n",
              "      <td>SP</td>\n",
              "      <td>1</td>\n",
              "      <td>725cbfcaff95a4d43742fdf13cf43c75</td>\n",
              "      <td>3504c0cb71d7fa48d967e0e4c94d59d9</td>\n",
              "      <td>2017-07-18 14:30:18</td>\n",
              "      <td>44.99</td>\n",
              "      <td>7.78</td>\n",
              "      <td>1</td>\n",
              "      <td>credit_card</td>\n",
              "      <td>2</td>\n",
              "      <td>52.77</td>\n",
              "      <td>9350</td>\n",
              "      <td>maua</td>\n",
              "      <td>SP</td>\n",
              "    </tr>\n",
              "    <tr>\n",
              "      <th>5</th>\n",
              "      <td>a3bf941183211246f0d42ad757cba127</td>\n",
              "      <td>3718e1873d5dc3e8d96c0ab783278b02</td>\n",
              "      <td>delivered</td>\n",
              "      <td>2017-07-24 22:16:25</td>\n",
              "      <td>2017-07-25 22:25:11</td>\n",
              "      <td>2017-07-26 14:57:42</td>\n",
              "      <td>2017-07-28 19:06:46</td>\n",
              "      <td>2017-08-04 00:00:00</td>\n",
              "      <td>1bcb517dc3cc80868d2fa941174f386c</td>\n",
              "      <td>6298</td>\n",
              "      <td>osasco</td>\n",
              "      <td>SP</td>\n",
              "      <td>1</td>\n",
              "      <td>725cbfcaff95a4d43742fdf13cf43c75</td>\n",
              "      <td>3504c0cb71d7fa48d967e0e4c94d59d9</td>\n",
              "      <td>2017-07-31 22:25:11</td>\n",
              "      <td>44.99</td>\n",
              "      <td>7.78</td>\n",
              "      <td>1</td>\n",
              "      <td>credit_card</td>\n",
              "      <td>2</td>\n",
              "      <td>52.77</td>\n",
              "      <td>9350</td>\n",
              "      <td>maua</td>\n",
              "      <td>SP</td>\n",
              "    </tr>\n",
              "    <tr>\n",
              "      <th>6</th>\n",
              "      <td>1462290799412b71be32dd880eaf4e1b</td>\n",
              "      <td>220e4b027f0294fd79d2869ef67e7db6</td>\n",
              "      <td>delivered</td>\n",
              "      <td>2017-08-19 14:06:58</td>\n",
              "      <td>2017-08-22 04:10:55</td>\n",
              "      <td>2017-08-23 13:54:29</td>\n",
              "      <td>2017-08-29 19:35:06</td>\n",
              "      <td>2017-09-15 00:00:00</td>\n",
              "      <td>123ae28184c9e80638e71d40e37adc27</td>\n",
              "      <td>94130</td>\n",
              "      <td>gravatai</td>\n",
              "      <td>RS</td>\n",
              "      <td>1</td>\n",
              "      <td>d7faab3fa0091d1220a8ada9cae1bab3</td>\n",
              "      <td>3504c0cb71d7fa48d967e0e4c94d59d9</td>\n",
              "      <td>2017-08-28 04:10:55</td>\n",
              "      <td>29.90</td>\n",
              "      <td>14.10</td>\n",
              "      <td>1</td>\n",
              "      <td>boleto</td>\n",
              "      <td>1</td>\n",
              "      <td>44.00</td>\n",
              "      <td>9350</td>\n",
              "      <td>maua</td>\n",
              "      <td>SP</td>\n",
              "    </tr>\n",
              "    <tr>\n",
              "      <th>7</th>\n",
              "      <td>60d13096e69ace88a0c5b8c3805010ca</td>\n",
              "      <td>54bd7edf8250e9e67794e9df507e3720</td>\n",
              "      <td>delivered</td>\n",
              "      <td>2017-11-06 13:48:10</td>\n",
              "      <td>2017-11-07 07:30:35</td>\n",
              "      <td>2017-11-10 14:24:33</td>\n",
              "      <td>2017-11-18 12:21:41</td>\n",
              "      <td>2017-11-28 00:00:00</td>\n",
              "      <td>581c85ba0bfacbdb3f21e5ac6fd2187a</td>\n",
              "      <td>28016</td>\n",
              "      <td>campos dos goytacazes</td>\n",
              "      <td>RJ</td>\n",
              "      <td>1</td>\n",
              "      <td>605050407239c811cf987c99fbabaf4d</td>\n",
              "      <td>3504c0cb71d7fa48d967e0e4c94d59d9</td>\n",
              "      <td>2017-11-13 04:26:31</td>\n",
              "      <td>24.90</td>\n",
              "      <td>16.11</td>\n",
              "      <td>1</td>\n",
              "      <td>boleto</td>\n",
              "      <td>1</td>\n",
              "      <td>41.01</td>\n",
              "      <td>9350</td>\n",
              "      <td>maua</td>\n",
              "      <td>SP</td>\n",
              "    </tr>\n",
              "    <tr>\n",
              "      <th>8</th>\n",
              "      <td>e8f1a30189522698bfce82adf60472e7</td>\n",
              "      <td>945080eedd200e670d94e8b707422871</td>\n",
              "      <td>delivered</td>\n",
              "      <td>2017-07-05 11:58:33</td>\n",
              "      <td>2017-07-05 17:38:31</td>\n",
              "      <td>2017-07-06 11:04:07</td>\n",
              "      <td>2017-07-07 20:44:41</td>\n",
              "      <td>2017-07-18 00:00:00</td>\n",
              "      <td>0e78d5d8e92c4454512d545b10be8585</td>\n",
              "      <td>13211</td>\n",
              "      <td>jundiai</td>\n",
              "      <td>SP</td>\n",
              "      <td>1</td>\n",
              "      <td>725cbfcaff95a4d43742fdf13cf43c75</td>\n",
              "      <td>3504c0cb71d7fa48d967e0e4c94d59d9</td>\n",
              "      <td>2017-07-11 17:28:13</td>\n",
              "      <td>44.99</td>\n",
              "      <td>7.78</td>\n",
              "      <td>1</td>\n",
              "      <td>credit_card</td>\n",
              "      <td>2</td>\n",
              "      <td>52.77</td>\n",
              "      <td>9350</td>\n",
              "      <td>maua</td>\n",
              "      <td>SP</td>\n",
              "    </tr>\n",
              "    <tr>\n",
              "      <th>9</th>\n",
              "      <td>a30b65719297f5afcb931bcad170cb7d</td>\n",
              "      <td>d2d82b8e87143477f9a27e005f4b87f3</td>\n",
              "      <td>delivered</td>\n",
              "      <td>2017-08-31 17:49:40</td>\n",
              "      <td>2017-08-31 18:05:11</td>\n",
              "      <td>2017-09-01 17:32:30</td>\n",
              "      <td>2017-09-06 18:33:03</td>\n",
              "      <td>2017-09-19 00:00:00</td>\n",
              "      <td>3c601cdf47f343edf04dbd987a837a2a</td>\n",
              "      <td>11250</td>\n",
              "      <td>bertioga</td>\n",
              "      <td>SP</td>\n",
              "      <td>1</td>\n",
              "      <td>c6d0daec0037d0ac4ee036ddff197b35</td>\n",
              "      <td>3504c0cb71d7fa48d967e0e4c94d59d9</td>\n",
              "      <td>2017-09-06 18:05:11</td>\n",
              "      <td>48.90</td>\n",
              "      <td>13.37</td>\n",
              "      <td>1</td>\n",
              "      <td>credit_card</td>\n",
              "      <td>6</td>\n",
              "      <td>62.27</td>\n",
              "      <td>9350</td>\n",
              "      <td>maua</td>\n",
              "      <td>SP</td>\n",
              "    </tr>\n",
              "    <tr>\n",
              "      <th>10</th>\n",
              "      <td>0010b2e5201cc5f1ae7e9c6cc8f5bd00</td>\n",
              "      <td>57ef317d4818cb42680fc9dfd13867ce</td>\n",
              "      <td>delivered</td>\n",
              "      <td>2017-09-11 17:39:33</td>\n",
              "      <td>2017-09-11 18:04:37</td>\n",
              "      <td>2017-09-12 17:02:57</td>\n",
              "      <td>2017-09-23 13:21:21</td>\n",
              "      <td>2017-09-27 00:00:00</td>\n",
              "      <td>e883f26917e2095c439f70c2cf8c914b</td>\n",
              "      <td>22461</td>\n",
              "      <td>rio de janeiro</td>\n",
              "      <td>RJ</td>\n",
              "      <td>1</td>\n",
              "      <td>5a419dbf24a8c9718fe522b81c69f61a</td>\n",
              "      <td>3504c0cb71d7fa48d967e0e4c94d59d9</td>\n",
              "      <td>2017-09-15 18:04:37</td>\n",
              "      <td>48.90</td>\n",
              "      <td>16.60</td>\n",
              "      <td>1</td>\n",
              "      <td>credit_card</td>\n",
              "      <td>3</td>\n",
              "      <td>65.50</td>\n",
              "      <td>9350</td>\n",
              "      <td>maua</td>\n",
              "      <td>SP</td>\n",
              "    </tr>\n",
              "    <tr>\n",
              "      <th>11</th>\n",
              "      <td>44905b3e611d2f738de87a2cca4961b2</td>\n",
              "      <td>93a705448fbbe8d2c10f151c0510cd0c</td>\n",
              "      <td>delivered</td>\n",
              "      <td>2017-08-06 21:03:00</td>\n",
              "      <td>2017-08-06 21:15:17</td>\n",
              "      <td>2017-08-07 15:12:13</td>\n",
              "      <td>2017-08-14 19:36:05</td>\n",
              "      <td>2017-08-29 00:00:00</td>\n",
              "      <td>1bbae4260b7887325fccae14a592c130</td>\n",
              "      <td>39100</td>\n",
              "      <td>diamantina</td>\n",
              "      <td>MG</td>\n",
              "      <td>1</td>\n",
              "      <td>5a419dbf24a8c9718fe522b81c69f61a</td>\n",
              "      <td>3504c0cb71d7fa48d967e0e4c94d59d9</td>\n",
              "      <td>2017-08-10 21:15:17</td>\n",
              "      <td>44.49</td>\n",
              "      <td>15.10</td>\n",
              "      <td>1</td>\n",
              "      <td>credit_card</td>\n",
              "      <td>5</td>\n",
              "      <td>59.59</td>\n",
              "      <td>9350</td>\n",
              "      <td>maua</td>\n",
              "      <td>SP</td>\n",
              "    </tr>\n",
              "    <tr>\n",
              "      <th>12</th>\n",
              "      <td>88407c8c6e12493ff6e845df39540112</td>\n",
              "      <td>e902cb9d9992a69a267f69dec57aa3a3</td>\n",
              "      <td>delivered</td>\n",
              "      <td>2017-08-15 02:03:01</td>\n",
              "      <td>2017-08-15 02:15:13</td>\n",
              "      <td>2017-08-16 15:52:29</td>\n",
              "      <td>2017-08-25 21:59:26</td>\n",
              "      <td>2017-08-28 00:00:00</td>\n",
              "      <td>28adbfbaf0b9c5e5a0555a8c853a7534</td>\n",
              "      <td>13060</td>\n",
              "      <td>campinas</td>\n",
              "      <td>SP</td>\n",
              "      <td>1</td>\n",
              "      <td>b00a32a0b42fd65efb58a5822009f629</td>\n",
              "      <td>3504c0cb71d7fa48d967e0e4c94d59d9</td>\n",
              "      <td>2017-08-21 02:15:13</td>\n",
              "      <td>75.90</td>\n",
              "      <td>7.79</td>\n",
              "      <td>1</td>\n",
              "      <td>credit_card</td>\n",
              "      <td>2</td>\n",
              "      <td>83.69</td>\n",
              "      <td>9350</td>\n",
              "      <td>maua</td>\n",
              "      <td>SP</td>\n",
              "    </tr>\n",
              "    <tr>\n",
              "      <th>13</th>\n",
              "      <td>e71fb32bec49dd4112bcbcc19126d388</td>\n",
              "      <td>f6c383cc79b182ce1550bc57504941c3</td>\n",
              "      <td>delivered</td>\n",
              "      <td>2017-08-02 22:12:03</td>\n",
              "      <td>2017-08-02 22:25:18</td>\n",
              "      <td>2017-08-04 13:39:51</td>\n",
              "      <td>2017-08-08 17:56:12</td>\n",
              "      <td>2017-08-15 00:00:00</td>\n",
              "      <td>59b5158dcd4ab8fce908aba30ea36cc9</td>\n",
              "      <td>2919</td>\n",
              "      <td>sao paulo</td>\n",
              "      <td>SP</td>\n",
              "      <td>1</td>\n",
              "      <td>725cbfcaff95a4d43742fdf13cf43c75</td>\n",
              "      <td>3504c0cb71d7fa48d967e0e4c94d59d9</td>\n",
              "      <td>2017-08-08 22:25:18</td>\n",
              "      <td>44.99</td>\n",
              "      <td>7.78</td>\n",
              "      <td>1</td>\n",
              "      <td>credit_card</td>\n",
              "      <td>1</td>\n",
              "      <td>2.77</td>\n",
              "      <td>9350</td>\n",
              "      <td>maua</td>\n",
              "      <td>SP</td>\n",
              "    </tr>\n",
              "    <tr>\n",
              "      <th>14</th>\n",
              "      <td>e71fb32bec49dd4112bcbcc19126d388</td>\n",
              "      <td>f6c383cc79b182ce1550bc57504941c3</td>\n",
              "      <td>delivered</td>\n",
              "      <td>2017-08-02 22:12:03</td>\n",
              "      <td>2017-08-02 22:25:18</td>\n",
              "      <td>2017-08-04 13:39:51</td>\n",
              "      <td>2017-08-08 17:56:12</td>\n",
              "      <td>2017-08-15 00:00:00</td>\n",
              "      <td>59b5158dcd4ab8fce908aba30ea36cc9</td>\n",
              "      <td>2919</td>\n",
              "      <td>sao paulo</td>\n",
              "      <td>SP</td>\n",
              "      <td>1</td>\n",
              "      <td>725cbfcaff95a4d43742fdf13cf43c75</td>\n",
              "      <td>3504c0cb71d7fa48d967e0e4c94d59d9</td>\n",
              "      <td>2017-08-08 22:25:18</td>\n",
              "      <td>44.99</td>\n",
              "      <td>7.78</td>\n",
              "      <td>2</td>\n",
              "      <td>voucher</td>\n",
              "      <td>1</td>\n",
              "      <td>50.00</td>\n",
              "      <td>9350</td>\n",
              "      <td>maua</td>\n",
              "      <td>SP</td>\n",
              "    </tr>\n",
              "  </tbody>\n",
              "</table>\n",
              "</div>"
            ],
            "text/plain": [
              "                            order_id  ... seller_state\n",
              "0   e481f51cbdc54678b7cc49136f2d6af7  ...           SP\n",
              "1   e481f51cbdc54678b7cc49136f2d6af7  ...           SP\n",
              "2   e481f51cbdc54678b7cc49136f2d6af7  ...           SP\n",
              "3   8736140c61ea584cb4250074756d8f3b  ...           SP\n",
              "4   a0151737f2f0c6c0a5fd69d45f66ceea  ...           SP\n",
              "5   a3bf941183211246f0d42ad757cba127  ...           SP\n",
              "6   1462290799412b71be32dd880eaf4e1b  ...           SP\n",
              "7   60d13096e69ace88a0c5b8c3805010ca  ...           SP\n",
              "8   e8f1a30189522698bfce82adf60472e7  ...           SP\n",
              "9   a30b65719297f5afcb931bcad170cb7d  ...           SP\n",
              "10  0010b2e5201cc5f1ae7e9c6cc8f5bd00  ...           SP\n",
              "11  44905b3e611d2f738de87a2cca4961b2  ...           SP\n",
              "12  88407c8c6e12493ff6e845df39540112  ...           SP\n",
              "13  e71fb32bec49dd4112bcbcc19126d388  ...           SP\n",
              "14  e71fb32bec49dd4112bcbcc19126d388  ...           SP\n",
              "\n",
              "[15 rows x 25 columns]"
            ]
          },
          "metadata": {
            "tags": []
          },
          "execution_count": 13
        }
      ]
    },
    {
      "cell_type": "code",
      "metadata": {
        "id": "BoktVFA60zFr"
      },
      "source": [
        "df3 = df2.merge(reviews_df, on = 'order_id')\n"
      ],
      "execution_count": null,
      "outputs": []
    },
    {
      "cell_type": "code",
      "metadata": {
        "colab": {
          "base_uri": "https://localhost:8080/",
          "height": 498
        },
        "id": "YWyapsb_1qcL",
        "outputId": "01aa61c6-a66f-43d1-9e2a-c7d4e429e55b"
      },
      "source": [
        "df3.head(10)"
      ],
      "execution_count": null,
      "outputs": [
        {
          "output_type": "execute_result",
          "data": {
            "text/html": [
              "<div>\n",
              "<style scoped>\n",
              "    .dataframe tbody tr th:only-of-type {\n",
              "        vertical-align: middle;\n",
              "    }\n",
              "\n",
              "    .dataframe tbody tr th {\n",
              "        vertical-align: top;\n",
              "    }\n",
              "\n",
              "    .dataframe thead th {\n",
              "        text-align: right;\n",
              "    }\n",
              "</style>\n",
              "<table border=\"1\" class=\"dataframe\">\n",
              "  <thead>\n",
              "    <tr style=\"text-align: right;\">\n",
              "      <th></th>\n",
              "      <th>order_id</th>\n",
              "      <th>customer_id</th>\n",
              "      <th>order_status</th>\n",
              "      <th>order_purchase_timestamp</th>\n",
              "      <th>order_approved_at</th>\n",
              "      <th>order_delivered_carrier_date</th>\n",
              "      <th>order_delivered_customer_date</th>\n",
              "      <th>order_estimated_delivery_date</th>\n",
              "      <th>customer_unique_id</th>\n",
              "      <th>customer_zip_code_prefix</th>\n",
              "      <th>customer_city</th>\n",
              "      <th>customer_state</th>\n",
              "      <th>order_item_id</th>\n",
              "      <th>product_id</th>\n",
              "      <th>seller_id</th>\n",
              "      <th>shipping_limit_date</th>\n",
              "      <th>price</th>\n",
              "      <th>freight_value</th>\n",
              "      <th>payment_sequential</th>\n",
              "      <th>payment_type</th>\n",
              "      <th>payment_installments</th>\n",
              "      <th>payment_value</th>\n",
              "      <th>seller_zip_code_prefix</th>\n",
              "      <th>seller_city</th>\n",
              "      <th>seller_state</th>\n",
              "      <th>review_id</th>\n",
              "      <th>review_score</th>\n",
              "      <th>review_comment_title</th>\n",
              "      <th>review_comment_message</th>\n",
              "      <th>review_creation_date</th>\n",
              "      <th>review_answer_timestamp</th>\n",
              "    </tr>\n",
              "  </thead>\n",
              "  <tbody>\n",
              "    <tr>\n",
              "      <th>0</th>\n",
              "      <td>e481f51cbdc54678b7cc49136f2d6af7</td>\n",
              "      <td>9ef432eb6251297304e76186b10a928d</td>\n",
              "      <td>delivered</td>\n",
              "      <td>2017-10-02 10:56:33</td>\n",
              "      <td>2017-10-02 11:07:15</td>\n",
              "      <td>2017-10-04 19:55:00</td>\n",
              "      <td>2017-10-10 21:25:13</td>\n",
              "      <td>2017-10-18 00:00:00</td>\n",
              "      <td>7c396fd4830fd04220f754e42b4e5bff</td>\n",
              "      <td>3149</td>\n",
              "      <td>sao paulo</td>\n",
              "      <td>SP</td>\n",
              "      <td>1</td>\n",
              "      <td>87285b34884572647811a353c7ac498a</td>\n",
              "      <td>3504c0cb71d7fa48d967e0e4c94d59d9</td>\n",
              "      <td>2017-10-06 11:07:15</td>\n",
              "      <td>29.99</td>\n",
              "      <td>8.72</td>\n",
              "      <td>1</td>\n",
              "      <td>credit_card</td>\n",
              "      <td>1</td>\n",
              "      <td>18.12</td>\n",
              "      <td>9350</td>\n",
              "      <td>maua</td>\n",
              "      <td>SP</td>\n",
              "      <td>a54f0611adc9ed256b57ede6b6eb5114</td>\n",
              "      <td>4</td>\n",
              "      <td>NaN</td>\n",
              "      <td>Não testei o produto ainda, mas ele veio corre...</td>\n",
              "      <td>2017-10-11 00:00:00</td>\n",
              "      <td>2017-10-12 03:43:48</td>\n",
              "    </tr>\n",
              "    <tr>\n",
              "      <th>1</th>\n",
              "      <td>e481f51cbdc54678b7cc49136f2d6af7</td>\n",
              "      <td>9ef432eb6251297304e76186b10a928d</td>\n",
              "      <td>delivered</td>\n",
              "      <td>2017-10-02 10:56:33</td>\n",
              "      <td>2017-10-02 11:07:15</td>\n",
              "      <td>2017-10-04 19:55:00</td>\n",
              "      <td>2017-10-10 21:25:13</td>\n",
              "      <td>2017-10-18 00:00:00</td>\n",
              "      <td>7c396fd4830fd04220f754e42b4e5bff</td>\n",
              "      <td>3149</td>\n",
              "      <td>sao paulo</td>\n",
              "      <td>SP</td>\n",
              "      <td>1</td>\n",
              "      <td>87285b34884572647811a353c7ac498a</td>\n",
              "      <td>3504c0cb71d7fa48d967e0e4c94d59d9</td>\n",
              "      <td>2017-10-06 11:07:15</td>\n",
              "      <td>29.99</td>\n",
              "      <td>8.72</td>\n",
              "      <td>3</td>\n",
              "      <td>voucher</td>\n",
              "      <td>1</td>\n",
              "      <td>2.00</td>\n",
              "      <td>9350</td>\n",
              "      <td>maua</td>\n",
              "      <td>SP</td>\n",
              "      <td>a54f0611adc9ed256b57ede6b6eb5114</td>\n",
              "      <td>4</td>\n",
              "      <td>NaN</td>\n",
              "      <td>Não testei o produto ainda, mas ele veio corre...</td>\n",
              "      <td>2017-10-11 00:00:00</td>\n",
              "      <td>2017-10-12 03:43:48</td>\n",
              "    </tr>\n",
              "    <tr>\n",
              "      <th>2</th>\n",
              "      <td>e481f51cbdc54678b7cc49136f2d6af7</td>\n",
              "      <td>9ef432eb6251297304e76186b10a928d</td>\n",
              "      <td>delivered</td>\n",
              "      <td>2017-10-02 10:56:33</td>\n",
              "      <td>2017-10-02 11:07:15</td>\n",
              "      <td>2017-10-04 19:55:00</td>\n",
              "      <td>2017-10-10 21:25:13</td>\n",
              "      <td>2017-10-18 00:00:00</td>\n",
              "      <td>7c396fd4830fd04220f754e42b4e5bff</td>\n",
              "      <td>3149</td>\n",
              "      <td>sao paulo</td>\n",
              "      <td>SP</td>\n",
              "      <td>1</td>\n",
              "      <td>87285b34884572647811a353c7ac498a</td>\n",
              "      <td>3504c0cb71d7fa48d967e0e4c94d59d9</td>\n",
              "      <td>2017-10-06 11:07:15</td>\n",
              "      <td>29.99</td>\n",
              "      <td>8.72</td>\n",
              "      <td>2</td>\n",
              "      <td>voucher</td>\n",
              "      <td>1</td>\n",
              "      <td>18.59</td>\n",
              "      <td>9350</td>\n",
              "      <td>maua</td>\n",
              "      <td>SP</td>\n",
              "      <td>a54f0611adc9ed256b57ede6b6eb5114</td>\n",
              "      <td>4</td>\n",
              "      <td>NaN</td>\n",
              "      <td>Não testei o produto ainda, mas ele veio corre...</td>\n",
              "      <td>2017-10-11 00:00:00</td>\n",
              "      <td>2017-10-12 03:43:48</td>\n",
              "    </tr>\n",
              "    <tr>\n",
              "      <th>3</th>\n",
              "      <td>8736140c61ea584cb4250074756d8f3b</td>\n",
              "      <td>ab8844663ae049fda8baf15fc928f47f</td>\n",
              "      <td>delivered</td>\n",
              "      <td>2017-08-10 13:35:55</td>\n",
              "      <td>2017-08-10 13:50:09</td>\n",
              "      <td>2017-08-11 13:52:35</td>\n",
              "      <td>2017-08-16 19:03:36</td>\n",
              "      <td>2017-08-23 00:00:00</td>\n",
              "      <td>02c9e0c05a817d4562ec0e8c90f29dba</td>\n",
              "      <td>8577</td>\n",
              "      <td>itaquaquecetuba</td>\n",
              "      <td>SP</td>\n",
              "      <td>1</td>\n",
              "      <td>b00a32a0b42fd65efb58a5822009f629</td>\n",
              "      <td>3504c0cb71d7fa48d967e0e4c94d59d9</td>\n",
              "      <td>2017-08-16 13:50:09</td>\n",
              "      <td>75.90</td>\n",
              "      <td>7.79</td>\n",
              "      <td>1</td>\n",
              "      <td>credit_card</td>\n",
              "      <td>1</td>\n",
              "      <td>83.69</td>\n",
              "      <td>9350</td>\n",
              "      <td>maua</td>\n",
              "      <td>SP</td>\n",
              "      <td>b8238c6515192f8129081e17dc57d169</td>\n",
              "      <td>5</td>\n",
              "      <td>NaN</td>\n",
              "      <td>custo beneficio, simples de usar e rápido</td>\n",
              "      <td>2017-08-17 00:00:00</td>\n",
              "      <td>2017-08-21 12:43:27</td>\n",
              "    </tr>\n",
              "    <tr>\n",
              "      <th>4</th>\n",
              "      <td>a0151737f2f0c6c0a5fd69d45f66ceea</td>\n",
              "      <td>fc2697314ab7fbeda62bb6f1afa4efcd</td>\n",
              "      <td>delivered</td>\n",
              "      <td>2017-07-12 14:11:58</td>\n",
              "      <td>2017-07-12 14:30:18</td>\n",
              "      <td>2017-07-13 12:47:05</td>\n",
              "      <td>2017-07-18 16:24:42</td>\n",
              "      <td>2017-07-25 00:00:00</td>\n",
              "      <td>bdd30e6e39cc70dde8665187b57af402</td>\n",
              "      <td>13820</td>\n",
              "      <td>jaguariuna</td>\n",
              "      <td>SP</td>\n",
              "      <td>1</td>\n",
              "      <td>725cbfcaff95a4d43742fdf13cf43c75</td>\n",
              "      <td>3504c0cb71d7fa48d967e0e4c94d59d9</td>\n",
              "      <td>2017-07-18 14:30:18</td>\n",
              "      <td>44.99</td>\n",
              "      <td>7.78</td>\n",
              "      <td>1</td>\n",
              "      <td>credit_card</td>\n",
              "      <td>2</td>\n",
              "      <td>52.77</td>\n",
              "      <td>9350</td>\n",
              "      <td>maua</td>\n",
              "      <td>SP</td>\n",
              "      <td>fa5bf792d42ed25f80c54d18aeaa83de</td>\n",
              "      <td>4</td>\n",
              "      <td>NaN</td>\n",
              "      <td>NaN</td>\n",
              "      <td>2017-07-19 00:00:00</td>\n",
              "      <td>2017-07-24 13:59:59</td>\n",
              "    </tr>\n",
              "    <tr>\n",
              "      <th>5</th>\n",
              "      <td>a3bf941183211246f0d42ad757cba127</td>\n",
              "      <td>3718e1873d5dc3e8d96c0ab783278b02</td>\n",
              "      <td>delivered</td>\n",
              "      <td>2017-07-24 22:16:25</td>\n",
              "      <td>2017-07-25 22:25:11</td>\n",
              "      <td>2017-07-26 14:57:42</td>\n",
              "      <td>2017-07-28 19:06:46</td>\n",
              "      <td>2017-08-04 00:00:00</td>\n",
              "      <td>1bcb517dc3cc80868d2fa941174f386c</td>\n",
              "      <td>6298</td>\n",
              "      <td>osasco</td>\n",
              "      <td>SP</td>\n",
              "      <td>1</td>\n",
              "      <td>725cbfcaff95a4d43742fdf13cf43c75</td>\n",
              "      <td>3504c0cb71d7fa48d967e0e4c94d59d9</td>\n",
              "      <td>2017-07-31 22:25:11</td>\n",
              "      <td>44.99</td>\n",
              "      <td>7.78</td>\n",
              "      <td>1</td>\n",
              "      <td>credit_card</td>\n",
              "      <td>2</td>\n",
              "      <td>52.77</td>\n",
              "      <td>9350</td>\n",
              "      <td>maua</td>\n",
              "      <td>SP</td>\n",
              "      <td>5fe3f65882f521f0fbc41e59b9fbff24</td>\n",
              "      <td>4</td>\n",
              "      <td>NaN</td>\n",
              "      <td>NaN</td>\n",
              "      <td>2017-07-29 00:00:00</td>\n",
              "      <td>2017-08-01 20:06:40</td>\n",
              "    </tr>\n",
              "    <tr>\n",
              "      <th>6</th>\n",
              "      <td>1462290799412b71be32dd880eaf4e1b</td>\n",
              "      <td>220e4b027f0294fd79d2869ef67e7db6</td>\n",
              "      <td>delivered</td>\n",
              "      <td>2017-08-19 14:06:58</td>\n",
              "      <td>2017-08-22 04:10:55</td>\n",
              "      <td>2017-08-23 13:54:29</td>\n",
              "      <td>2017-08-29 19:35:06</td>\n",
              "      <td>2017-09-15 00:00:00</td>\n",
              "      <td>123ae28184c9e80638e71d40e37adc27</td>\n",
              "      <td>94130</td>\n",
              "      <td>gravatai</td>\n",
              "      <td>RS</td>\n",
              "      <td>1</td>\n",
              "      <td>d7faab3fa0091d1220a8ada9cae1bab3</td>\n",
              "      <td>3504c0cb71d7fa48d967e0e4c94d59d9</td>\n",
              "      <td>2017-08-28 04:10:55</td>\n",
              "      <td>29.90</td>\n",
              "      <td>14.10</td>\n",
              "      <td>1</td>\n",
              "      <td>boleto</td>\n",
              "      <td>1</td>\n",
              "      <td>44.00</td>\n",
              "      <td>9350</td>\n",
              "      <td>maua</td>\n",
              "      <td>SP</td>\n",
              "      <td>36f6f70dc5e67e8e43b109cae0e92d40</td>\n",
              "      <td>4</td>\n",
              "      <td>NaN</td>\n",
              "      <td>É garantido e de confiança .</td>\n",
              "      <td>2017-08-30 00:00:00</td>\n",
              "      <td>2017-08-31 02:21:39</td>\n",
              "    </tr>\n",
              "    <tr>\n",
              "      <th>7</th>\n",
              "      <td>60d13096e69ace88a0c5b8c3805010ca</td>\n",
              "      <td>54bd7edf8250e9e67794e9df507e3720</td>\n",
              "      <td>delivered</td>\n",
              "      <td>2017-11-06 13:48:10</td>\n",
              "      <td>2017-11-07 07:30:35</td>\n",
              "      <td>2017-11-10 14:24:33</td>\n",
              "      <td>2017-11-18 12:21:41</td>\n",
              "      <td>2017-11-28 00:00:00</td>\n",
              "      <td>581c85ba0bfacbdb3f21e5ac6fd2187a</td>\n",
              "      <td>28016</td>\n",
              "      <td>campos dos goytacazes</td>\n",
              "      <td>RJ</td>\n",
              "      <td>1</td>\n",
              "      <td>605050407239c811cf987c99fbabaf4d</td>\n",
              "      <td>3504c0cb71d7fa48d967e0e4c94d59d9</td>\n",
              "      <td>2017-11-13 04:26:31</td>\n",
              "      <td>24.90</td>\n",
              "      <td>16.11</td>\n",
              "      <td>1</td>\n",
              "      <td>boleto</td>\n",
              "      <td>1</td>\n",
              "      <td>41.01</td>\n",
              "      <td>9350</td>\n",
              "      <td>maua</td>\n",
              "      <td>SP</td>\n",
              "      <td>567f7936fdc67fde7d86f36e8295fc88</td>\n",
              "      <td>5</td>\n",
              "      <td>NaN</td>\n",
              "      <td>Tudo certo conforme descrito! Gostei muito! Re...</td>\n",
              "      <td>2017-11-19 00:00:00</td>\n",
              "      <td>2017-11-19 16:31:28</td>\n",
              "    </tr>\n",
              "    <tr>\n",
              "      <th>8</th>\n",
              "      <td>e8f1a30189522698bfce82adf60472e7</td>\n",
              "      <td>945080eedd200e670d94e8b707422871</td>\n",
              "      <td>delivered</td>\n",
              "      <td>2017-07-05 11:58:33</td>\n",
              "      <td>2017-07-05 17:38:31</td>\n",
              "      <td>2017-07-06 11:04:07</td>\n",
              "      <td>2017-07-07 20:44:41</td>\n",
              "      <td>2017-07-18 00:00:00</td>\n",
              "      <td>0e78d5d8e92c4454512d545b10be8585</td>\n",
              "      <td>13211</td>\n",
              "      <td>jundiai</td>\n",
              "      <td>SP</td>\n",
              "      <td>1</td>\n",
              "      <td>725cbfcaff95a4d43742fdf13cf43c75</td>\n",
              "      <td>3504c0cb71d7fa48d967e0e4c94d59d9</td>\n",
              "      <td>2017-07-11 17:28:13</td>\n",
              "      <td>44.99</td>\n",
              "      <td>7.78</td>\n",
              "      <td>1</td>\n",
              "      <td>credit_card</td>\n",
              "      <td>2</td>\n",
              "      <td>52.77</td>\n",
              "      <td>9350</td>\n",
              "      <td>maua</td>\n",
              "      <td>SP</td>\n",
              "      <td>f08ff01cc53b9e3acd39659fd8008cb4</td>\n",
              "      <td>5</td>\n",
              "      <td>NaN</td>\n",
              "      <td>NaN</td>\n",
              "      <td>2017-07-08 00:00:00</td>\n",
              "      <td>2017-07-10 11:36:23</td>\n",
              "    </tr>\n",
              "    <tr>\n",
              "      <th>9</th>\n",
              "      <td>a30b65719297f5afcb931bcad170cb7d</td>\n",
              "      <td>d2d82b8e87143477f9a27e005f4b87f3</td>\n",
              "      <td>delivered</td>\n",
              "      <td>2017-08-31 17:49:40</td>\n",
              "      <td>2017-08-31 18:05:11</td>\n",
              "      <td>2017-09-01 17:32:30</td>\n",
              "      <td>2017-09-06 18:33:03</td>\n",
              "      <td>2017-09-19 00:00:00</td>\n",
              "      <td>3c601cdf47f343edf04dbd987a837a2a</td>\n",
              "      <td>11250</td>\n",
              "      <td>bertioga</td>\n",
              "      <td>SP</td>\n",
              "      <td>1</td>\n",
              "      <td>c6d0daec0037d0ac4ee036ddff197b35</td>\n",
              "      <td>3504c0cb71d7fa48d967e0e4c94d59d9</td>\n",
              "      <td>2017-09-06 18:05:11</td>\n",
              "      <td>48.90</td>\n",
              "      <td>13.37</td>\n",
              "      <td>1</td>\n",
              "      <td>credit_card</td>\n",
              "      <td>6</td>\n",
              "      <td>62.27</td>\n",
              "      <td>9350</td>\n",
              "      <td>maua</td>\n",
              "      <td>SP</td>\n",
              "      <td>e3af9663a7385b2109c41b87bdf78b44</td>\n",
              "      <td>5</td>\n",
              "      <td>NaN</td>\n",
              "      <td>NaN</td>\n",
              "      <td>2017-09-07 00:00:00</td>\n",
              "      <td>2017-09-08 01:37:01</td>\n",
              "    </tr>\n",
              "  </tbody>\n",
              "</table>\n",
              "</div>"
            ],
            "text/plain": [
              "                           order_id  ... review_answer_timestamp\n",
              "0  e481f51cbdc54678b7cc49136f2d6af7  ...     2017-10-12 03:43:48\n",
              "1  e481f51cbdc54678b7cc49136f2d6af7  ...     2017-10-12 03:43:48\n",
              "2  e481f51cbdc54678b7cc49136f2d6af7  ...     2017-10-12 03:43:48\n",
              "3  8736140c61ea584cb4250074756d8f3b  ...     2017-08-21 12:43:27\n",
              "4  a0151737f2f0c6c0a5fd69d45f66ceea  ...     2017-07-24 13:59:59\n",
              "5  a3bf941183211246f0d42ad757cba127  ...     2017-08-01 20:06:40\n",
              "6  1462290799412b71be32dd880eaf4e1b  ...     2017-08-31 02:21:39\n",
              "7  60d13096e69ace88a0c5b8c3805010ca  ...     2017-11-19 16:31:28\n",
              "8  e8f1a30189522698bfce82adf60472e7  ...     2017-07-10 11:36:23\n",
              "9  a30b65719297f5afcb931bcad170cb7d  ...     2017-09-08 01:37:01\n",
              "\n",
              "[10 rows x 31 columns]"
            ]
          },
          "metadata": {
            "tags": []
          },
          "execution_count": 17
        }
      ]
    },
    {
      "cell_type": "code",
      "metadata": {
        "colab": {
          "base_uri": "https://localhost:8080/",
          "height": 164
        },
        "id": "cAdrL4W3NVSG",
        "outputId": "00dd3b0b-7621-4001-c9b1-07491f7d6e49"
      },
      "source": [
        "df3.info()"
      ],
      "execution_count": null,
      "outputs": [
        {
          "output_type": "error",
          "ename": "NameError",
          "evalue": "ignored",
          "traceback": [
            "\u001b[0;31m---------------------------------------------------------------------------\u001b[0m",
            "\u001b[0;31mNameError\u001b[0m                                 Traceback (most recent call last)",
            "\u001b[0;32m<ipython-input-1-f06a64702c91>\u001b[0m in \u001b[0;36m<module>\u001b[0;34m()\u001b[0m\n\u001b[0;32m----> 1\u001b[0;31m \u001b[0mdf3\u001b[0m\u001b[0;34m.\u001b[0m\u001b[0minfo\u001b[0m\u001b[0;34m(\u001b[0m\u001b[0;34m)\u001b[0m\u001b[0;34m\u001b[0m\u001b[0;34m\u001b[0m\u001b[0m\n\u001b[0m",
            "\u001b[0;31mNameError\u001b[0m: name 'df3' is not defined"
          ]
        }
      ]
    },
    {
      "cell_type": "code",
      "metadata": {
        "id": "VMlfE50a_8Hl",
        "colab": {
          "base_uri": "https://localhost:8080/"
        },
        "outputId": "1b28508b-0881-4e62-99d4-53f2a4a58b61"
      },
      "source": [
        "#Translate Portuguese to English\n",
        "!pip install langdetect"
      ],
      "execution_count": null,
      "outputs": [
        {
          "output_type": "stream",
          "text": [
            "Collecting langdetect\n",
            "\u001b[?25l  Downloading https://files.pythonhosted.org/packages/56/a3/8407c1e62d5980188b4acc45ef3d94b933d14a2ebc9ef3505f22cf772570/langdetect-1.0.8.tar.gz (981kB)\n",
            "\r\u001b[K     |▍                               | 10kB 13.9MB/s eta 0:00:01\r\u001b[K     |▊                               | 20kB 19.7MB/s eta 0:00:01\r\u001b[K     |█                               | 30kB 10.2MB/s eta 0:00:01\r\u001b[K     |█▍                              | 40kB 10.1MB/s eta 0:00:01\r\u001b[K     |█▊                              | 51kB 8.2MB/s eta 0:00:01\r\u001b[K     |██                              | 61kB 8.5MB/s eta 0:00:01\r\u001b[K     |██▍                             | 71kB 7.9MB/s eta 0:00:01\r\u001b[K     |██▊                             | 81kB 8.2MB/s eta 0:00:01\r\u001b[K     |███                             | 92kB 7.9MB/s eta 0:00:01\r\u001b[K     |███▍                            | 102kB 8.1MB/s eta 0:00:01\r\u001b[K     |███▊                            | 112kB 8.1MB/s eta 0:00:01\r\u001b[K     |████                            | 122kB 8.1MB/s eta 0:00:01\r\u001b[K     |████▍                           | 133kB 8.1MB/s eta 0:00:01\r\u001b[K     |████▊                           | 143kB 8.1MB/s eta 0:00:01\r\u001b[K     |█████                           | 153kB 8.1MB/s eta 0:00:01\r\u001b[K     |█████▍                          | 163kB 8.1MB/s eta 0:00:01\r\u001b[K     |█████▊                          | 174kB 8.1MB/s eta 0:00:01\r\u001b[K     |██████                          | 184kB 8.1MB/s eta 0:00:01\r\u001b[K     |██████▍                         | 194kB 8.1MB/s eta 0:00:01\r\u001b[K     |██████▊                         | 204kB 8.1MB/s eta 0:00:01\r\u001b[K     |███████                         | 215kB 8.1MB/s eta 0:00:01\r\u001b[K     |███████▍                        | 225kB 8.1MB/s eta 0:00:01\r\u001b[K     |███████▊                        | 235kB 8.1MB/s eta 0:00:01\r\u001b[K     |████████                        | 245kB 8.1MB/s eta 0:00:01\r\u001b[K     |████████▍                       | 256kB 8.1MB/s eta 0:00:01\r\u001b[K     |████████▊                       | 266kB 8.1MB/s eta 0:00:01\r\u001b[K     |█████████                       | 276kB 8.1MB/s eta 0:00:01\r\u001b[K     |█████████▍                      | 286kB 8.1MB/s eta 0:00:01\r\u001b[K     |█████████▊                      | 296kB 8.1MB/s eta 0:00:01\r\u001b[K     |██████████                      | 307kB 8.1MB/s eta 0:00:01\r\u001b[K     |██████████▍                     | 317kB 8.1MB/s eta 0:00:01\r\u001b[K     |██████████▊                     | 327kB 8.1MB/s eta 0:00:01\r\u001b[K     |███████████                     | 337kB 8.1MB/s eta 0:00:01\r\u001b[K     |███████████▍                    | 348kB 8.1MB/s eta 0:00:01\r\u001b[K     |███████████▊                    | 358kB 8.1MB/s eta 0:00:01\r\u001b[K     |████████████                    | 368kB 8.1MB/s eta 0:00:01\r\u001b[K     |████████████▍                   | 378kB 8.1MB/s eta 0:00:01\r\u001b[K     |████████████▊                   | 389kB 8.1MB/s eta 0:00:01\r\u001b[K     |█████████████                   | 399kB 8.1MB/s eta 0:00:01\r\u001b[K     |█████████████▍                  | 409kB 8.1MB/s eta 0:00:01\r\u001b[K     |█████████████▊                  | 419kB 8.1MB/s eta 0:00:01\r\u001b[K     |██████████████                  | 430kB 8.1MB/s eta 0:00:01\r\u001b[K     |██████████████▍                 | 440kB 8.1MB/s eta 0:00:01\r\u001b[K     |██████████████▊                 | 450kB 8.1MB/s eta 0:00:01\r\u001b[K     |███████████████                 | 460kB 8.1MB/s eta 0:00:01\r\u001b[K     |███████████████▍                | 471kB 8.1MB/s eta 0:00:01\r\u001b[K     |███████████████▊                | 481kB 8.1MB/s eta 0:00:01\r\u001b[K     |████████████████                | 491kB 8.1MB/s eta 0:00:01\r\u001b[K     |████████████████▍               | 501kB 8.1MB/s eta 0:00:01\r\u001b[K     |████████████████▊               | 512kB 8.1MB/s eta 0:00:01\r\u001b[K     |█████████████████               | 522kB 8.1MB/s eta 0:00:01\r\u001b[K     |█████████████████▍              | 532kB 8.1MB/s eta 0:00:01\r\u001b[K     |█████████████████▊              | 542kB 8.1MB/s eta 0:00:01\r\u001b[K     |██████████████████              | 552kB 8.1MB/s eta 0:00:01\r\u001b[K     |██████████████████▍             | 563kB 8.1MB/s eta 0:00:01\r\u001b[K     |██████████████████▊             | 573kB 8.1MB/s eta 0:00:01\r\u001b[K     |███████████████████             | 583kB 8.1MB/s eta 0:00:01\r\u001b[K     |███████████████████▍            | 593kB 8.1MB/s eta 0:00:01\r\u001b[K     |███████████████████▊            | 604kB 8.1MB/s eta 0:00:01\r\u001b[K     |████████████████████            | 614kB 8.1MB/s eta 0:00:01\r\u001b[K     |████████████████████▍           | 624kB 8.1MB/s eta 0:00:01\r\u001b[K     |████████████████████▊           | 634kB 8.1MB/s eta 0:00:01\r\u001b[K     |█████████████████████           | 645kB 8.1MB/s eta 0:00:01\r\u001b[K     |█████████████████████▍          | 655kB 8.1MB/s eta 0:00:01\r\u001b[K     |█████████████████████▊          | 665kB 8.1MB/s eta 0:00:01\r\u001b[K     |██████████████████████          | 675kB 8.1MB/s eta 0:00:01\r\u001b[K     |██████████████████████▍         | 686kB 8.1MB/s eta 0:00:01\r\u001b[K     |██████████████████████▊         | 696kB 8.1MB/s eta 0:00:01\r\u001b[K     |███████████████████████         | 706kB 8.1MB/s eta 0:00:01\r\u001b[K     |███████████████████████▍        | 716kB 8.1MB/s eta 0:00:01\r\u001b[K     |███████████████████████▊        | 727kB 8.1MB/s eta 0:00:01\r\u001b[K     |████████████████████████        | 737kB 8.1MB/s eta 0:00:01\r\u001b[K     |████████████████████████▍       | 747kB 8.1MB/s eta 0:00:01\r\u001b[K     |████████████████████████▊       | 757kB 8.1MB/s eta 0:00:01\r\u001b[K     |█████████████████████████       | 768kB 8.1MB/s eta 0:00:01\r\u001b[K     |█████████████████████████▍      | 778kB 8.1MB/s eta 0:00:01\r\u001b[K     |█████████████████████████▊      | 788kB 8.1MB/s eta 0:00:01\r\u001b[K     |██████████████████████████      | 798kB 8.1MB/s eta 0:00:01\r\u001b[K     |██████████████████████████▍     | 808kB 8.1MB/s eta 0:00:01\r\u001b[K     |██████████████████████████▊     | 819kB 8.1MB/s eta 0:00:01\r\u001b[K     |███████████████████████████     | 829kB 8.1MB/s eta 0:00:01\r\u001b[K     |███████████████████████████▍    | 839kB 8.1MB/s eta 0:00:01\r\u001b[K     |███████████████████████████▊    | 849kB 8.1MB/s eta 0:00:01\r\u001b[K     |████████████████████████████    | 860kB 8.1MB/s eta 0:00:01\r\u001b[K     |████████████████████████████▍   | 870kB 8.1MB/s eta 0:00:01\r\u001b[K     |████████████████████████████▊   | 880kB 8.1MB/s eta 0:00:01\r\u001b[K     |█████████████████████████████   | 890kB 8.1MB/s eta 0:00:01\r\u001b[K     |█████████████████████████████▍  | 901kB 8.1MB/s eta 0:00:01\r\u001b[K     |█████████████████████████████▊  | 911kB 8.1MB/s eta 0:00:01\r\u001b[K     |██████████████████████████████  | 921kB 8.1MB/s eta 0:00:01\r\u001b[K     |██████████████████████████████▍ | 931kB 8.1MB/s eta 0:00:01\r\u001b[K     |██████████████████████████████▊ | 942kB 8.1MB/s eta 0:00:01\r\u001b[K     |███████████████████████████████ | 952kB 8.1MB/s eta 0:00:01\r\u001b[K     |███████████████████████████████▍| 962kB 8.1MB/s eta 0:00:01\r\u001b[K     |███████████████████████████████▊| 972kB 8.1MB/s eta 0:00:01\r\u001b[K     |████████████████████████████████| 983kB 8.1MB/s \n",
            "\u001b[?25hRequirement already satisfied: six in /usr/local/lib/python3.7/dist-packages (from langdetect) (1.15.0)\n",
            "Building wheels for collected packages: langdetect\n",
            "  Building wheel for langdetect (setup.py) ... \u001b[?25l\u001b[?25hdone\n",
            "  Created wheel for langdetect: filename=langdetect-1.0.8-cp37-none-any.whl size=993193 sha256=33076e933f2cc572de2ecbc4fd3449a4c0859606ee8da3a216fe7c01c70bff97\n",
            "  Stored in directory: /root/.cache/pip/wheels/8d/b3/aa/6d99de9f3841d7d3d40a60ea06e6d669e8e5012e6c8b947a57\n",
            "Successfully built langdetect\n",
            "Installing collected packages: langdetect\n",
            "Successfully installed langdetect-1.0.8\n"
          ],
          "name": "stdout"
        }
      ]
    },
    {
      "cell_type": "code",
      "metadata": {
        "id": "Pj7NFHCX_8KR",
        "colab": {
          "base_uri": "https://localhost:8080/"
        },
        "outputId": "2237fdd0-78c9-463f-d0c3-f42d5bd16741"
      },
      "source": [
        "from langdetect import detect\n",
        "\n",
        "sentence = df3.iloc[1,28]\n",
        "\n",
        "print(detect(sentence)) # output 'pt' which is portuguese"
      ],
      "execution_count": null,
      "outputs": [
        {
          "output_type": "stream",
          "text": [
            "pt\n"
          ],
          "name": "stdout"
        }
      ]
    },
    {
      "cell_type": "code",
      "metadata": {
        "colab": {
          "base_uri": "https://localhost:8080/"
        },
        "id": "G9VrJxJ-5GGE",
        "outputId": "b972d9c6-72ad-42e9-ec33-181ff2a848b9"
      },
      "source": [
        "!pip install google_trans_new # Installing the translate API\n",
        "import google_trans_new # Importing the package\n",
        "print(google_trans_new.LANGUAGES) # Checking the list of languages that are supported"
      ],
      "execution_count": null,
      "outputs": [
        {
          "output_type": "stream",
          "text": [
            "Collecting google_trans_new\n",
            "  Downloading https://files.pythonhosted.org/packages/f9/7b/9f136106dc5824dc98185c97991d3cd9b53e70a197154dd49f7b899128f6/google_trans_new-1.1.9-py3-none-any.whl\n",
            "Installing collected packages: google-trans-new\n",
            "Successfully installed google-trans-new-1.1.9\n",
            "{'af': 'afrikaans', 'sq': 'albanian', 'am': 'amharic', 'ar': 'arabic', 'hy': 'armenian', 'az': 'azerbaijani', 'eu': 'basque', 'be': 'belarusian', 'bn': 'bengali', 'bs': 'bosnian', 'bg': 'bulgarian', 'ca': 'catalan', 'ceb': 'cebuano', 'ny': 'chichewa', 'zh-cn': 'chinese (simplified)', 'zh-tw': 'chinese (traditional)', 'co': 'corsican', 'hr': 'croatian', 'cs': 'czech', 'da': 'danish', 'nl': 'dutch', 'en': 'english', 'eo': 'esperanto', 'et': 'estonian', 'tl': 'filipino', 'fi': 'finnish', 'fr': 'french', 'fy': 'frisian', 'gl': 'galician', 'ka': 'georgian', 'de': 'german', 'el': 'greek', 'gu': 'gujarati', 'ht': 'haitian creole', 'ha': 'hausa', 'haw': 'hawaiian', 'iw': 'hebrew', 'he': 'hebrew', 'hi': 'hindi', 'hmn': 'hmong', 'hu': 'hungarian', 'is': 'icelandic', 'ig': 'igbo', 'id': 'indonesian', 'ga': 'irish', 'it': 'italian', 'ja': 'japanese', 'jw': 'javanese', 'kn': 'kannada', 'kk': 'kazakh', 'km': 'khmer', 'ko': 'korean', 'ku': 'kurdish (kurmanji)', 'ky': 'kyrgyz', 'lo': 'lao', 'la': 'latin', 'lv': 'latvian', 'lt': 'lithuanian', 'lb': 'luxembourgish', 'mk': 'macedonian', 'mg': 'malagasy', 'ms': 'malay', 'ml': 'malayalam', 'mt': 'maltese', 'mi': 'maori', 'mr': 'marathi', 'mn': 'mongolian', 'my': 'myanmar (burmese)', 'ne': 'nepali', 'no': 'norwegian', 'or': 'odia', 'ps': 'pashto', 'fa': 'persian', 'pl': 'polish', 'pt': 'portuguese', 'pa': 'punjabi', 'ro': 'romanian', 'ru': 'russian', 'sm': 'samoan', 'gd': 'scots gaelic', 'sr': 'serbian', 'st': 'sesotho', 'sn': 'shona', 'sd': 'sindhi', 'si': 'sinhala', 'sk': 'slovak', 'sl': 'slovenian', 'so': 'somali', 'es': 'spanish', 'su': 'sundanese', 'sw': 'swahili', 'sv': 'swedish', 'tg': 'tajik', 'ta': 'tamil', 'te': 'telugu', 'th': 'thai', 'tr': 'turkish', 'tk': 'turkmen', 'uk': 'ukrainian', 'ur': 'urdu', 'ug': 'uyghur', 'uz': 'uzbek', 'vi': 'vietnamese', 'cy': 'welsh', 'xh': 'xhosa', 'yi': 'yiddish', 'yo': 'yoruba', 'zu': 'zulu'}\n"
          ],
          "name": "stdout"
        }
      ]
    },
    {
      "cell_type": "code",
      "metadata": {
        "id": "E01PNeQ35ZL-"
      },
      "source": [
        "# Running an example of google translate(from portuguese to english), Data Connnection is required.\n",
        "from google_trans_new import google_translator\n",
        "translator = google_translator()\n"
      ],
      "execution_count": null,
      "outputs": []
    },
    {
      "cell_type": "code",
      "metadata": {
        "colab": {
          "base_uri": "https://localhost:8080/"
        },
        "id": "8mtzKGGQ5ZXv",
        "outputId": "27baaa90-5782-492d-f94b-f219fb107afa"
      },
      "source": [
        "translate_text = translator.translate(sentence, lang_tgt='en',lang_src='pt' )\n",
        "print(translate_text)"
      ],
      "execution_count": null,
      "outputs": [
        {
          "output_type": "stream",
          "text": [
            "I did not test the product yet, but it came right and in good condition. Only the box that came well kneaded and damaged, which will become annoying, for it is a gift. \n"
          ],
          "name": "stdout"
        }
      ]
    },
    {
      "cell_type": "code",
      "metadata": {
        "colab": {
          "base_uri": "https://localhost:8080/"
        },
        "id": "OW1MkBj1EKFa",
        "outputId": "1c761dfc-544c-4268-c05a-a5282feb995f"
      },
      "source": [
        "df3.iloc[:2].dtypes"
      ],
      "execution_count": null,
      "outputs": [
        {
          "output_type": "execute_result",
          "data": {
            "text/plain": [
              "order_id                          object\n",
              "customer_id                       object\n",
              "order_status                      object\n",
              "order_purchase_timestamp          object\n",
              "order_approved_at                 object\n",
              "order_delivered_carrier_date      object\n",
              "order_delivered_customer_date     object\n",
              "order_estimated_delivery_date     object\n",
              "customer_unique_id                object\n",
              "customer_zip_code_prefix           int64\n",
              "customer_city                     object\n",
              "customer_state                    object\n",
              "order_item_id                      int64\n",
              "product_id                        object\n",
              "seller_id                         object\n",
              "shipping_limit_date               object\n",
              "price                            float64\n",
              "freight_value                    float64\n",
              "payment_sequential                 int64\n",
              "payment_type                      object\n",
              "payment_installments               int64\n",
              "payment_value                    float64\n",
              "seller_zip_code_prefix             int64\n",
              "seller_city                       object\n",
              "seller_state                      object\n",
              "review_id                         object\n",
              "review_score                       int64\n",
              "review_comment_title              object\n",
              "review_comment_message            object\n",
              "review_creation_date              object\n",
              "review_answer_timestamp           object\n",
              "dtype: object"
            ]
          },
          "metadata": {
            "tags": []
          },
          "execution_count": 38
        }
      ]
    },
    {
      "cell_type": "code",
      "metadata": {
        "colab": {
          "base_uri": "https://localhost:8080/",
          "height": 562
        },
        "id": "kwPMqrnXDGXW",
        "outputId": "aba42fd9-c8ac-41d3-de04-d63b3d2ec920"
      },
      "source": [
        "list(df3[1, 2, 3].dtypes())"
      ],
      "execution_count": null,
      "outputs": [
        {
          "output_type": "error",
          "ename": "KeyError",
          "evalue": "ignored",
          "traceback": [
            "\u001b[0;31m---------------------------------------------------------------------------\u001b[0m",
            "\u001b[0;31mKeyError\u001b[0m                                  Traceback (most recent call last)",
            "\u001b[0;32m/usr/local/lib/python3.7/dist-packages/pandas/core/indexes/base.py\u001b[0m in \u001b[0;36mget_loc\u001b[0;34m(self, key, method, tolerance)\u001b[0m\n\u001b[1;32m   2897\u001b[0m             \u001b[0;32mtry\u001b[0m\u001b[0;34m:\u001b[0m\u001b[0;34m\u001b[0m\u001b[0;34m\u001b[0m\u001b[0m\n\u001b[0;32m-> 2898\u001b[0;31m                 \u001b[0;32mreturn\u001b[0m \u001b[0mself\u001b[0m\u001b[0;34m.\u001b[0m\u001b[0m_engine\u001b[0m\u001b[0;34m.\u001b[0m\u001b[0mget_loc\u001b[0m\u001b[0;34m(\u001b[0m\u001b[0mcasted_key\u001b[0m\u001b[0;34m)\u001b[0m\u001b[0;34m\u001b[0m\u001b[0;34m\u001b[0m\u001b[0m\n\u001b[0m\u001b[1;32m   2899\u001b[0m             \u001b[0;32mexcept\u001b[0m \u001b[0mKeyError\u001b[0m \u001b[0;32mas\u001b[0m \u001b[0merr\u001b[0m\u001b[0;34m:\u001b[0m\u001b[0;34m\u001b[0m\u001b[0;34m\u001b[0m\u001b[0m\n",
            "\u001b[0;32mpandas/_libs/index.pyx\u001b[0m in \u001b[0;36mpandas._libs.index.IndexEngine.get_loc\u001b[0;34m()\u001b[0m\n",
            "\u001b[0;32mpandas/_libs/index.pyx\u001b[0m in \u001b[0;36mpandas._libs.index.IndexEngine.get_loc\u001b[0;34m()\u001b[0m\n",
            "\u001b[0;32mpandas/_libs/hashtable_class_helper.pxi\u001b[0m in \u001b[0;36mpandas._libs.hashtable.PyObjectHashTable.get_item\u001b[0;34m()\u001b[0m\n",
            "\u001b[0;32mpandas/_libs/hashtable_class_helper.pxi\u001b[0m in \u001b[0;36mpandas._libs.hashtable.PyObjectHashTable.get_item\u001b[0;34m()\u001b[0m\n",
            "\u001b[0;31mKeyError\u001b[0m: (1, 2, 3)",
            "\nThe above exception was the direct cause of the following exception:\n",
            "\u001b[0;31mKeyError\u001b[0m                                  Traceback (most recent call last)",
            "\u001b[0;32m<ipython-input-32-ad8c6f42634c>\u001b[0m in \u001b[0;36m<module>\u001b[0;34m()\u001b[0m\n\u001b[0;32m----> 1\u001b[0;31m \u001b[0mlist\u001b[0m\u001b[0;34m(\u001b[0m\u001b[0mdf3\u001b[0m\u001b[0;34m[\u001b[0m\u001b[0;36m1\u001b[0m\u001b[0;34m,\u001b[0m \u001b[0;36m2\u001b[0m\u001b[0;34m,\u001b[0m \u001b[0;36m3\u001b[0m\u001b[0;34m]\u001b[0m\u001b[0;34m.\u001b[0m\u001b[0mdtypes\u001b[0m\u001b[0;34m(\u001b[0m\u001b[0;34m)\u001b[0m\u001b[0;34m)\u001b[0m\u001b[0;34m\u001b[0m\u001b[0;34m\u001b[0m\u001b[0m\n\u001b[0m",
            "\u001b[0;32m/usr/local/lib/python3.7/dist-packages/pandas/core/frame.py\u001b[0m in \u001b[0;36m__getitem__\u001b[0;34m(self, key)\u001b[0m\n\u001b[1;32m   2904\u001b[0m             \u001b[0;32mif\u001b[0m \u001b[0mself\u001b[0m\u001b[0;34m.\u001b[0m\u001b[0mcolumns\u001b[0m\u001b[0;34m.\u001b[0m\u001b[0mnlevels\u001b[0m \u001b[0;34m>\u001b[0m \u001b[0;36m1\u001b[0m\u001b[0;34m:\u001b[0m\u001b[0;34m\u001b[0m\u001b[0;34m\u001b[0m\u001b[0m\n\u001b[1;32m   2905\u001b[0m                 \u001b[0;32mreturn\u001b[0m \u001b[0mself\u001b[0m\u001b[0;34m.\u001b[0m\u001b[0m_getitem_multilevel\u001b[0m\u001b[0;34m(\u001b[0m\u001b[0mkey\u001b[0m\u001b[0;34m)\u001b[0m\u001b[0;34m\u001b[0m\u001b[0;34m\u001b[0m\u001b[0m\n\u001b[0;32m-> 2906\u001b[0;31m             \u001b[0mindexer\u001b[0m \u001b[0;34m=\u001b[0m \u001b[0mself\u001b[0m\u001b[0;34m.\u001b[0m\u001b[0mcolumns\u001b[0m\u001b[0;34m.\u001b[0m\u001b[0mget_loc\u001b[0m\u001b[0;34m(\u001b[0m\u001b[0mkey\u001b[0m\u001b[0;34m)\u001b[0m\u001b[0;34m\u001b[0m\u001b[0;34m\u001b[0m\u001b[0m\n\u001b[0m\u001b[1;32m   2907\u001b[0m             \u001b[0;32mif\u001b[0m \u001b[0mis_integer\u001b[0m\u001b[0;34m(\u001b[0m\u001b[0mindexer\u001b[0m\u001b[0;34m)\u001b[0m\u001b[0;34m:\u001b[0m\u001b[0;34m\u001b[0m\u001b[0;34m\u001b[0m\u001b[0m\n\u001b[1;32m   2908\u001b[0m                 \u001b[0mindexer\u001b[0m \u001b[0;34m=\u001b[0m \u001b[0;34m[\u001b[0m\u001b[0mindexer\u001b[0m\u001b[0;34m]\u001b[0m\u001b[0;34m\u001b[0m\u001b[0;34m\u001b[0m\u001b[0m\n",
            "\u001b[0;32m/usr/local/lib/python3.7/dist-packages/pandas/core/indexes/base.py\u001b[0m in \u001b[0;36mget_loc\u001b[0;34m(self, key, method, tolerance)\u001b[0m\n\u001b[1;32m   2898\u001b[0m                 \u001b[0;32mreturn\u001b[0m \u001b[0mself\u001b[0m\u001b[0;34m.\u001b[0m\u001b[0m_engine\u001b[0m\u001b[0;34m.\u001b[0m\u001b[0mget_loc\u001b[0m\u001b[0;34m(\u001b[0m\u001b[0mcasted_key\u001b[0m\u001b[0;34m)\u001b[0m\u001b[0;34m\u001b[0m\u001b[0;34m\u001b[0m\u001b[0m\n\u001b[1;32m   2899\u001b[0m             \u001b[0;32mexcept\u001b[0m \u001b[0mKeyError\u001b[0m \u001b[0;32mas\u001b[0m \u001b[0merr\u001b[0m\u001b[0;34m:\u001b[0m\u001b[0;34m\u001b[0m\u001b[0;34m\u001b[0m\u001b[0m\n\u001b[0;32m-> 2900\u001b[0;31m                 \u001b[0;32mraise\u001b[0m \u001b[0mKeyError\u001b[0m\u001b[0;34m(\u001b[0m\u001b[0mkey\u001b[0m\u001b[0;34m)\u001b[0m \u001b[0;32mfrom\u001b[0m \u001b[0merr\u001b[0m\u001b[0;34m\u001b[0m\u001b[0;34m\u001b[0m\u001b[0m\n\u001b[0m\u001b[1;32m   2901\u001b[0m \u001b[0;34m\u001b[0m\u001b[0m\n\u001b[1;32m   2902\u001b[0m         \u001b[0;32mif\u001b[0m \u001b[0mtolerance\u001b[0m \u001b[0;32mis\u001b[0m \u001b[0;32mnot\u001b[0m \u001b[0;32mNone\u001b[0m\u001b[0;34m:\u001b[0m\u001b[0;34m\u001b[0m\u001b[0;34m\u001b[0m\u001b[0m\n",
            "\u001b[0;31mKeyError\u001b[0m: (1, 2, 3)"
          ]
        }
      ]
    }
  ]
}