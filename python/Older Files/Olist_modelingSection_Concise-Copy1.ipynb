{
 "cells": [
  {
   "cell_type": "markdown",
   "id": "531f89ba",
   "metadata": {},
   "source": [
    "# Mini Lab\n",
    "\n",
    "## Group Members\n",
    "- Helene Barrera\n",
    "- Feby Thomas\n",
    "- John Olanipekun\n",
    "- Justin Ehly\n",
    "\n",
    "## <span style='color:blue'> Mini Lab Executive Summary </span>\n",
    "* This exercise seeks to fit **logistic regression**  and **Support Vector Machine** models to our groups dataset: *Olist E-Commerce* dataset. \n",
    "* We will develop a base classifier that determines if a package is <span style='color:red'> **'late', 'on time' or 'early'**</span> and subsequently tune the hyperparameters for possible improvement to the performance metrics (i.e. Accuracy, Precision, F-Score and Sensitivity).\n",
    "* This modeling phase will utilize the 'clean' dataset that was processed for the visualization task, but still needs some data preprocessing due to the transfer from one project to the next using a CSV file. \n",
    "* The **derived** response for the objective is actual delivery duration. Therefore the predictive model will predict actual delivery duration with performance measured on the held out test set. "
   ]
  },
  {
   "cell_type": "code",
   "execution_count": 1,
   "id": "d91a2400",
   "metadata": {},
   "outputs": [],
   "source": [
    "# set up environment\n",
    "import numpy as np\n",
    "import pandas as pd\n",
    "import os\n",
    "from datetime import datetime as dt\n",
    "import matplotlib.pyplot as plt\n",
    "import seaborn as sns\n"
   ]
  },
  {
   "cell_type": "code",
   "execution_count": 2,
   "id": "d13f2be2",
   "metadata": {},
   "outputs": [
    {
     "data": {
      "text/plain": [
       "'C:\\\\Users\\\\justi\\\\GitHub\\\\olist\\\\python'"
      ]
     },
     "execution_count": 2,
     "metadata": {},
     "output_type": "execute_result"
    }
   ],
   "source": [
    "# change working directory\n",
    "#os.chdir(r\"C:\\Users\\olani\\OneDrive\\Documents\\Data Science\\SMU-Data Science\\Machine Learning 1\\Olist_Dataset\")\n",
    "#\"C:\\Users\\olani\\OneDrive\\Documents\\Data Science\\SMU-Data Science\\Machine Learning 1\\Olist_Dataset\"\n",
    "os.chdir(r\"C:\\Users\\justi\\GitHub\\olist\\python\")\n",
    "# get current working directory\n",
    "os.getcwd()"
   ]
  },
  {
   "cell_type": "code",
   "execution_count": 3,
   "id": "ffb0e8bd",
   "metadata": {},
   "outputs": [],
   "source": [
    "# set up some colors and text attributes to markdown\n",
    "class color:\n",
    "   PURPLE = '\\033[95m'\n",
    "   CYAN = '\\033[96m'\n",
    "   DARKCYAN = '\\033[36m'\n",
    "   BLUE = '\\033[94m'\n",
    "   GREEN = '\\033[92m'\n",
    "   YELLOW = '\\033[93m'\n",
    "   RED = '\\033[91m'\n",
    "   BOLD = '\\033[1m'\n",
    "   UNDERLINE = '\\033[4m'\n",
    "   END = '\\033[0m'"
   ]
  },
  {
   "cell_type": "code",
   "execution_count": 4,
   "id": "1139924b",
   "metadata": {},
   "outputs": [
    {
     "data": {
      "text/html": [
       "<div>\n",
       "<style scoped>\n",
       "    .dataframe tbody tr th:only-of-type {\n",
       "        vertical-align: middle;\n",
       "    }\n",
       "\n",
       "    .dataframe tbody tr th {\n",
       "        vertical-align: top;\n",
       "    }\n",
       "\n",
       "    .dataframe thead th {\n",
       "        text-align: right;\n",
       "    }\n",
       "</style>\n",
       "<table border=\"1\" class=\"dataframe\">\n",
       "  <thead>\n",
       "    <tr style=\"text-align: right;\">\n",
       "      <th></th>\n",
       "      <th>order_id</th>\n",
       "      <th>customer_id</th>\n",
       "      <th>order_purchase_timestamp</th>\n",
       "      <th>order_approved_at</th>\n",
       "      <th>order_delivered_carrier_date</th>\n",
       "      <th>order_delivered_customer_date</th>\n",
       "      <th>order_estimated_delivery_date</th>\n",
       "      <th>customer_unique_id</th>\n",
       "      <th>customer_zip_code_prefix</th>\n",
       "      <th>customer_city</th>\n",
       "      <th>...</th>\n",
       "      <th>seller_state</th>\n",
       "      <th>tot_order_amt</th>\n",
       "      <th>purchase_wk_day</th>\n",
       "      <th>purchase_month</th>\n",
       "      <th>order_delivery_actual_duration</th>\n",
       "      <th>order_delivery_estimated_duration</th>\n",
       "      <th>delivery_estimate_discrepancy</th>\n",
       "      <th>product_dimensions</th>\n",
       "      <th>delivery_est_discrepancy_range</th>\n",
       "      <th>review_score_class</th>\n",
       "    </tr>\n",
       "  </thead>\n",
       "  <tbody>\n",
       "    <tr>\n",
       "      <th>0</th>\n",
       "      <td>b81ef226f3fe1789b1e8b2acac839d17</td>\n",
       "      <td>0a8556ac6be836b46b3e89920d59291c</td>\n",
       "      <td>2018-04-25 22:01:49</td>\n",
       "      <td>2018-04-25 22:15:09</td>\n",
       "      <td>2018-05-02 15:20:00</td>\n",
       "      <td>2018-05-09 17:36:51</td>\n",
       "      <td>2018-05-22 00:00:00</td>\n",
       "      <td>708ab75d2a007f0564aedd11139c7708</td>\n",
       "      <td>39801</td>\n",
       "      <td>teofilo otoni</td>\n",
       "      <td>...</td>\n",
       "      <td>SP</td>\n",
       "      <td>99.33</td>\n",
       "      <td>Wednesday</td>\n",
       "      <td>April</td>\n",
       "      <td>13</td>\n",
       "      <td>26</td>\n",
       "      <td>13</td>\n",
       "      <td>7803.0</td>\n",
       "      <td>too early</td>\n",
       "      <td>bad</td>\n",
       "    </tr>\n",
       "    <tr>\n",
       "      <th>1</th>\n",
       "      <td>a9810da82917af2d9aefd1278f1dcfa0</td>\n",
       "      <td>f2c7fc58a9de810828715166c672f10a</td>\n",
       "      <td>2018-06-26 11:01:38</td>\n",
       "      <td>2018-06-26 11:18:58</td>\n",
       "      <td>2018-06-28 14:18:00</td>\n",
       "      <td>2018-06-29 20:32:09</td>\n",
       "      <td>2018-07-16 00:00:00</td>\n",
       "      <td>a8b9d3a27068454b1c98cc67d4e31e6f</td>\n",
       "      <td>2422</td>\n",
       "      <td>sao paulo</td>\n",
       "      <td>...</td>\n",
       "      <td>SP</td>\n",
       "      <td>24.39</td>\n",
       "      <td>Tuesday</td>\n",
       "      <td>June</td>\n",
       "      <td>3</td>\n",
       "      <td>19</td>\n",
       "      <td>16</td>\n",
       "      <td>1056.0</td>\n",
       "      <td>too early</td>\n",
       "      <td>good</td>\n",
       "    </tr>\n",
       "    <tr>\n",
       "      <th>2</th>\n",
       "      <td>25e8ea4e93396b6fa0d3dd708e76c1bd</td>\n",
       "      <td>25b14b69de0b6e184ae6fe2755e478f9</td>\n",
       "      <td>2017-12-12 11:19:55</td>\n",
       "      <td>2017-12-14 09:52:34</td>\n",
       "      <td>2017-12-15 20:13:22</td>\n",
       "      <td>2017-12-18 17:24:41</td>\n",
       "      <td>2018-01-04 00:00:00</td>\n",
       "      <td>6f70c0b2f7552832ba46eb57b1c5651e</td>\n",
       "      <td>2652</td>\n",
       "      <td>sao paulo</td>\n",
       "      <td>...</td>\n",
       "      <td>SP</td>\n",
       "      <td>65.71</td>\n",
       "      <td>Tuesday</td>\n",
       "      <td>December</td>\n",
       "      <td>4</td>\n",
       "      <td>20</td>\n",
       "      <td>16</td>\n",
       "      <td>3360.0</td>\n",
       "      <td>too early</td>\n",
       "      <td>good</td>\n",
       "    </tr>\n",
       "    <tr>\n",
       "      <th>3</th>\n",
       "      <td>ba78997921bbcdc1373bb41e913ab953</td>\n",
       "      <td>7a5d8efaaa1081f800628c30d2b0728f</td>\n",
       "      <td>2017-12-06 12:04:06</td>\n",
       "      <td>2017-12-06 12:13:20</td>\n",
       "      <td>2017-12-07 20:28:28</td>\n",
       "      <td>2017-12-21 01:35:51</td>\n",
       "      <td>2018-01-04 00:00:00</td>\n",
       "      <td>87695ed086ebd36f20404c82d20fca87</td>\n",
       "      <td>36060</td>\n",
       "      <td>juiz de fora</td>\n",
       "      <td>...</td>\n",
       "      <td>SP</td>\n",
       "      <td>107.78</td>\n",
       "      <td>Wednesday</td>\n",
       "      <td>December</td>\n",
       "      <td>14</td>\n",
       "      <td>28</td>\n",
       "      <td>14</td>\n",
       "      <td>3080.0</td>\n",
       "      <td>too early</td>\n",
       "      <td>good</td>\n",
       "    </tr>\n",
       "    <tr>\n",
       "      <th>4</th>\n",
       "      <td>ba78997921bbcdc1373bb41e913ab953</td>\n",
       "      <td>7a5d8efaaa1081f800628c30d2b0728f</td>\n",
       "      <td>2017-12-06 12:04:06</td>\n",
       "      <td>2017-12-06 12:13:20</td>\n",
       "      <td>2017-12-07 20:28:28</td>\n",
       "      <td>2017-12-21 01:35:51</td>\n",
       "      <td>2018-01-04 00:00:00</td>\n",
       "      <td>87695ed086ebd36f20404c82d20fca87</td>\n",
       "      <td>36060</td>\n",
       "      <td>juiz de fora</td>\n",
       "      <td>...</td>\n",
       "      <td>SP</td>\n",
       "      <td>107.78</td>\n",
       "      <td>Wednesday</td>\n",
       "      <td>December</td>\n",
       "      <td>14</td>\n",
       "      <td>28</td>\n",
       "      <td>14</td>\n",
       "      <td>3080.0</td>\n",
       "      <td>too early</td>\n",
       "      <td>good</td>\n",
       "    </tr>\n",
       "  </tbody>\n",
       "</table>\n",
       "<p>5 rows × 47 columns</p>\n",
       "</div>"
      ],
      "text/plain": [
       "                           order_id                       customer_id  \\\n",
       "0  b81ef226f3fe1789b1e8b2acac839d17  0a8556ac6be836b46b3e89920d59291c   \n",
       "1  a9810da82917af2d9aefd1278f1dcfa0  f2c7fc58a9de810828715166c672f10a   \n",
       "2  25e8ea4e93396b6fa0d3dd708e76c1bd  25b14b69de0b6e184ae6fe2755e478f9   \n",
       "3  ba78997921bbcdc1373bb41e913ab953  7a5d8efaaa1081f800628c30d2b0728f   \n",
       "4  ba78997921bbcdc1373bb41e913ab953  7a5d8efaaa1081f800628c30d2b0728f   \n",
       "\n",
       "  order_purchase_timestamp    order_approved_at order_delivered_carrier_date  \\\n",
       "0      2018-04-25 22:01:49  2018-04-25 22:15:09          2018-05-02 15:20:00   \n",
       "1      2018-06-26 11:01:38  2018-06-26 11:18:58          2018-06-28 14:18:00   \n",
       "2      2017-12-12 11:19:55  2017-12-14 09:52:34          2017-12-15 20:13:22   \n",
       "3      2017-12-06 12:04:06  2017-12-06 12:13:20          2017-12-07 20:28:28   \n",
       "4      2017-12-06 12:04:06  2017-12-06 12:13:20          2017-12-07 20:28:28   \n",
       "\n",
       "  order_delivered_customer_date order_estimated_delivery_date  \\\n",
       "0           2018-05-09 17:36:51           2018-05-22 00:00:00   \n",
       "1           2018-06-29 20:32:09           2018-07-16 00:00:00   \n",
       "2           2017-12-18 17:24:41           2018-01-04 00:00:00   \n",
       "3           2017-12-21 01:35:51           2018-01-04 00:00:00   \n",
       "4           2017-12-21 01:35:51           2018-01-04 00:00:00   \n",
       "\n",
       "                 customer_unique_id  customer_zip_code_prefix  customer_city  \\\n",
       "0  708ab75d2a007f0564aedd11139c7708                     39801  teofilo otoni   \n",
       "1  a8b9d3a27068454b1c98cc67d4e31e6f                      2422      sao paulo   \n",
       "2  6f70c0b2f7552832ba46eb57b1c5651e                      2652      sao paulo   \n",
       "3  87695ed086ebd36f20404c82d20fca87                     36060   juiz de fora   \n",
       "4  87695ed086ebd36f20404c82d20fca87                     36060   juiz de fora   \n",
       "\n",
       "   ... seller_state tot_order_amt  purchase_wk_day purchase_month  \\\n",
       "0  ...           SP         99.33        Wednesday          April   \n",
       "1  ...           SP         24.39          Tuesday           June   \n",
       "2  ...           SP         65.71          Tuesday       December   \n",
       "3  ...           SP        107.78        Wednesday       December   \n",
       "4  ...           SP        107.78        Wednesday       December   \n",
       "\n",
       "  order_delivery_actual_duration order_delivery_estimated_duration  \\\n",
       "0                             13                                26   \n",
       "1                              3                                19   \n",
       "2                              4                                20   \n",
       "3                             14                                28   \n",
       "4                             14                                28   \n",
       "\n",
       "  delivery_estimate_discrepancy  product_dimensions  \\\n",
       "0                            13              7803.0   \n",
       "1                            16              1056.0   \n",
       "2                            16              3360.0   \n",
       "3                            14              3080.0   \n",
       "4                            14              3080.0   \n",
       "\n",
       "  delivery_est_discrepancy_range  review_score_class  \n",
       "0                      too early                 bad  \n",
       "1                      too early                good  \n",
       "2                      too early                good  \n",
       "3                      too early                good  \n",
       "4                      too early                good  \n",
       "\n",
       "[5 rows x 47 columns]"
      ]
     },
     "execution_count": 4,
     "metadata": {},
     "output_type": "execute_result"
    }
   ],
   "source": [
    "olist = pd.read_csv('olist_clean.csv')\n",
    "olist.head()"
   ]
  },
  {
   "cell_type": "code",
   "execution_count": 5,
   "id": "1631c4a5",
   "metadata": {},
   "outputs": [
    {
     "name": "stdout",
     "output_type": "stream",
     "text": [
      "<class 'pandas.core.frame.DataFrame'>\n",
      "RangeIndex: 114067 entries, 0 to 114066\n",
      "Data columns (total 47 columns):\n",
      " #   Column                             Non-Null Count   Dtype  \n",
      "---  ------                             --------------   -----  \n",
      " 0   order_id                           114067 non-null  object \n",
      " 1   customer_id                        114067 non-null  object \n",
      " 2   order_purchase_timestamp           114067 non-null  object \n",
      " 3   order_approved_at                  114067 non-null  object \n",
      " 4   order_delivered_carrier_date       114067 non-null  object \n",
      " 5   order_delivered_customer_date      114067 non-null  object \n",
      " 6   order_estimated_delivery_date      114067 non-null  object \n",
      " 7   customer_unique_id                 114067 non-null  object \n",
      " 8   customer_zip_code_prefix           114067 non-null  int64  \n",
      " 9   customer_city                      114067 non-null  object \n",
      " 10  customer_state                     114067 non-null  object \n",
      " 11  review_id                          114067 non-null  object \n",
      " 12  review_score                       114067 non-null  float64\n",
      " 13  review_comment_title               13661 non-null   object \n",
      " 14  review_comment_message             48220 non-null   object \n",
      " 15  review_creation_date               114067 non-null  object \n",
      " 16  review_answer_timestamp            114067 non-null  object \n",
      " 17  payment_sequential                 114067 non-null  float64\n",
      " 18  payment_type                       114067 non-null  object \n",
      " 19  payment_installments               114067 non-null  float64\n",
      " 20  payment_value                      114067 non-null  float64\n",
      " 21  order_item_id                      114067 non-null  float64\n",
      " 22  product_id                         114067 non-null  object \n",
      " 23  seller_id                          114067 non-null  object \n",
      " 24  shipping_limit_date                114067 non-null  object \n",
      " 25  price                              114067 non-null  float64\n",
      " 26  freight_value                      114067 non-null  float64\n",
      " 27  product_name_lenght                114067 non-null  float64\n",
      " 28  product_description_lenght         114067 non-null  float64\n",
      " 29  product_photos_qty                 114067 non-null  float64\n",
      " 30  product_weight_g                   114066 non-null  float64\n",
      " 31  product_length_cm                  114066 non-null  float64\n",
      " 32  product_height_cm                  114066 non-null  float64\n",
      " 33  product_width_cm                   114066 non-null  float64\n",
      " 34  product_category_english           114067 non-null  object \n",
      " 35  seller_zip_code_prefix             114067 non-null  float64\n",
      " 36  seller_city                        114067 non-null  object \n",
      " 37  seller_state                       114067 non-null  object \n",
      " 38  tot_order_amt                      114067 non-null  float64\n",
      " 39  purchase_wk_day                    114067 non-null  object \n",
      " 40  purchase_month                     114067 non-null  object \n",
      " 41  order_delivery_actual_duration     114067 non-null  int64  \n",
      " 42  order_delivery_estimated_duration  114067 non-null  int64  \n",
      " 43  delivery_estimate_discrepancy      114067 non-null  int64  \n",
      " 44  product_dimensions                 114066 non-null  float64\n",
      " 45  delivery_est_discrepancy_range     114067 non-null  object \n",
      " 46  review_score_class                 114067 non-null  object \n",
      "dtypes: float64(17), int64(4), object(26)\n",
      "memory usage: 40.9+ MB\n"
     ]
    }
   ],
   "source": [
    "olist.info()"
   ]
  },
  {
   "cell_type": "markdown",
   "id": "ed429468",
   "metadata": {},
   "source": [
    "## <span style='color:blue'> **Data Preprocessing** </span>"
   ]
  },
  {
   "cell_type": "code",
   "execution_count": 6,
   "id": "d7d66bca",
   "metadata": {},
   "outputs": [
    {
     "data": {
      "text/html": [
       "<div>\n",
       "<style scoped>\n",
       "    .dataframe tbody tr th:only-of-type {\n",
       "        vertical-align: middle;\n",
       "    }\n",
       "\n",
       "    .dataframe tbody tr th {\n",
       "        vertical-align: top;\n",
       "    }\n",
       "\n",
       "    .dataframe thead th {\n",
       "        text-align: right;\n",
       "    }\n",
       "</style>\n",
       "<table border=\"1\" class=\"dataframe\">\n",
       "  <thead>\n",
       "    <tr style=\"text-align: right;\">\n",
       "      <th></th>\n",
       "      <th>order_id</th>\n",
       "      <th>customer_id</th>\n",
       "      <th>order_purchase_timestamp</th>\n",
       "      <th>order_approved_at</th>\n",
       "      <th>order_delivered_carrier_date</th>\n",
       "      <th>order_delivered_customer_date</th>\n",
       "      <th>order_estimated_delivery_date</th>\n",
       "      <th>customer_unique_id</th>\n",
       "      <th>customer_zip_code_prefix</th>\n",
       "      <th>customer_city</th>\n",
       "      <th>...</th>\n",
       "      <th>seller_state</th>\n",
       "      <th>tot_order_amt</th>\n",
       "      <th>purchase_wk_day</th>\n",
       "      <th>purchase_month</th>\n",
       "      <th>order_delivery_actual_duration</th>\n",
       "      <th>order_delivery_estimated_duration</th>\n",
       "      <th>delivery_estimate_discrepancy</th>\n",
       "      <th>product_dimensions</th>\n",
       "      <th>delivery_est_discrepancy_range</th>\n",
       "      <th>review_score_class</th>\n",
       "    </tr>\n",
       "  </thead>\n",
       "  <tbody>\n",
       "    <tr>\n",
       "      <th>0</th>\n",
       "      <td>b81ef226f3fe1789b1e8b2acac839d17</td>\n",
       "      <td>0a8556ac6be836b46b3e89920d59291c</td>\n",
       "      <td>2018-04-25 22:01:49</td>\n",
       "      <td>2018-04-25 22:15:09</td>\n",
       "      <td>2018-05-02 15:20:00</td>\n",
       "      <td>2018-05-09 17:36:51</td>\n",
       "      <td>2018-05-22 00:00:00</td>\n",
       "      <td>708ab75d2a007f0564aedd11139c7708</td>\n",
       "      <td>39801</td>\n",
       "      <td>teofilo otoni</td>\n",
       "      <td>...</td>\n",
       "      <td>SP</td>\n",
       "      <td>99.33</td>\n",
       "      <td>Wednesday</td>\n",
       "      <td>April</td>\n",
       "      <td>13</td>\n",
       "      <td>26</td>\n",
       "      <td>13</td>\n",
       "      <td>7803.0</td>\n",
       "      <td>too early</td>\n",
       "      <td>bad</td>\n",
       "    </tr>\n",
       "    <tr>\n",
       "      <th>1</th>\n",
       "      <td>a9810da82917af2d9aefd1278f1dcfa0</td>\n",
       "      <td>f2c7fc58a9de810828715166c672f10a</td>\n",
       "      <td>2018-06-26 11:01:38</td>\n",
       "      <td>2018-06-26 11:18:58</td>\n",
       "      <td>2018-06-28 14:18:00</td>\n",
       "      <td>2018-06-29 20:32:09</td>\n",
       "      <td>2018-07-16 00:00:00</td>\n",
       "      <td>a8b9d3a27068454b1c98cc67d4e31e6f</td>\n",
       "      <td>2422</td>\n",
       "      <td>sao paulo</td>\n",
       "      <td>...</td>\n",
       "      <td>SP</td>\n",
       "      <td>24.39</td>\n",
       "      <td>Tuesday</td>\n",
       "      <td>June</td>\n",
       "      <td>3</td>\n",
       "      <td>19</td>\n",
       "      <td>16</td>\n",
       "      <td>1056.0</td>\n",
       "      <td>too early</td>\n",
       "      <td>good</td>\n",
       "    </tr>\n",
       "    <tr>\n",
       "      <th>2</th>\n",
       "      <td>25e8ea4e93396b6fa0d3dd708e76c1bd</td>\n",
       "      <td>25b14b69de0b6e184ae6fe2755e478f9</td>\n",
       "      <td>2017-12-12 11:19:55</td>\n",
       "      <td>2017-12-14 09:52:34</td>\n",
       "      <td>2017-12-15 20:13:22</td>\n",
       "      <td>2017-12-18 17:24:41</td>\n",
       "      <td>2018-01-04 00:00:00</td>\n",
       "      <td>6f70c0b2f7552832ba46eb57b1c5651e</td>\n",
       "      <td>2652</td>\n",
       "      <td>sao paulo</td>\n",
       "      <td>...</td>\n",
       "      <td>SP</td>\n",
       "      <td>65.71</td>\n",
       "      <td>Tuesday</td>\n",
       "      <td>December</td>\n",
       "      <td>4</td>\n",
       "      <td>20</td>\n",
       "      <td>16</td>\n",
       "      <td>3360.0</td>\n",
       "      <td>too early</td>\n",
       "      <td>good</td>\n",
       "    </tr>\n",
       "    <tr>\n",
       "      <th>3</th>\n",
       "      <td>ba78997921bbcdc1373bb41e913ab953</td>\n",
       "      <td>7a5d8efaaa1081f800628c30d2b0728f</td>\n",
       "      <td>2017-12-06 12:04:06</td>\n",
       "      <td>2017-12-06 12:13:20</td>\n",
       "      <td>2017-12-07 20:28:28</td>\n",
       "      <td>2017-12-21 01:35:51</td>\n",
       "      <td>2018-01-04 00:00:00</td>\n",
       "      <td>87695ed086ebd36f20404c82d20fca87</td>\n",
       "      <td>36060</td>\n",
       "      <td>juiz de fora</td>\n",
       "      <td>...</td>\n",
       "      <td>SP</td>\n",
       "      <td>107.78</td>\n",
       "      <td>Wednesday</td>\n",
       "      <td>December</td>\n",
       "      <td>14</td>\n",
       "      <td>28</td>\n",
       "      <td>14</td>\n",
       "      <td>3080.0</td>\n",
       "      <td>too early</td>\n",
       "      <td>good</td>\n",
       "    </tr>\n",
       "    <tr>\n",
       "      <th>4</th>\n",
       "      <td>ba78997921bbcdc1373bb41e913ab953</td>\n",
       "      <td>7a5d8efaaa1081f800628c30d2b0728f</td>\n",
       "      <td>2017-12-06 12:04:06</td>\n",
       "      <td>2017-12-06 12:13:20</td>\n",
       "      <td>2017-12-07 20:28:28</td>\n",
       "      <td>2017-12-21 01:35:51</td>\n",
       "      <td>2018-01-04 00:00:00</td>\n",
       "      <td>87695ed086ebd36f20404c82d20fca87</td>\n",
       "      <td>36060</td>\n",
       "      <td>juiz de fora</td>\n",
       "      <td>...</td>\n",
       "      <td>SP</td>\n",
       "      <td>107.78</td>\n",
       "      <td>Wednesday</td>\n",
       "      <td>December</td>\n",
       "      <td>14</td>\n",
       "      <td>28</td>\n",
       "      <td>14</td>\n",
       "      <td>3080.0</td>\n",
       "      <td>too early</td>\n",
       "      <td>good</td>\n",
       "    </tr>\n",
       "  </tbody>\n",
       "</table>\n",
       "<p>5 rows × 47 columns</p>\n",
       "</div>"
      ],
      "text/plain": [
       "                           order_id                       customer_id  \\\n",
       "0  b81ef226f3fe1789b1e8b2acac839d17  0a8556ac6be836b46b3e89920d59291c   \n",
       "1  a9810da82917af2d9aefd1278f1dcfa0  f2c7fc58a9de810828715166c672f10a   \n",
       "2  25e8ea4e93396b6fa0d3dd708e76c1bd  25b14b69de0b6e184ae6fe2755e478f9   \n",
       "3  ba78997921bbcdc1373bb41e913ab953  7a5d8efaaa1081f800628c30d2b0728f   \n",
       "4  ba78997921bbcdc1373bb41e913ab953  7a5d8efaaa1081f800628c30d2b0728f   \n",
       "\n",
       "  order_purchase_timestamp    order_approved_at order_delivered_carrier_date  \\\n",
       "0      2018-04-25 22:01:49  2018-04-25 22:15:09          2018-05-02 15:20:00   \n",
       "1      2018-06-26 11:01:38  2018-06-26 11:18:58          2018-06-28 14:18:00   \n",
       "2      2017-12-12 11:19:55  2017-12-14 09:52:34          2017-12-15 20:13:22   \n",
       "3      2017-12-06 12:04:06  2017-12-06 12:13:20          2017-12-07 20:28:28   \n",
       "4      2017-12-06 12:04:06  2017-12-06 12:13:20          2017-12-07 20:28:28   \n",
       "\n",
       "  order_delivered_customer_date order_estimated_delivery_date  \\\n",
       "0           2018-05-09 17:36:51           2018-05-22 00:00:00   \n",
       "1           2018-06-29 20:32:09           2018-07-16 00:00:00   \n",
       "2           2017-12-18 17:24:41           2018-01-04 00:00:00   \n",
       "3           2017-12-21 01:35:51           2018-01-04 00:00:00   \n",
       "4           2017-12-21 01:35:51           2018-01-04 00:00:00   \n",
       "\n",
       "                 customer_unique_id  customer_zip_code_prefix  customer_city  \\\n",
       "0  708ab75d2a007f0564aedd11139c7708                     39801  teofilo otoni   \n",
       "1  a8b9d3a27068454b1c98cc67d4e31e6f                      2422      sao paulo   \n",
       "2  6f70c0b2f7552832ba46eb57b1c5651e                      2652      sao paulo   \n",
       "3  87695ed086ebd36f20404c82d20fca87                     36060   juiz de fora   \n",
       "4  87695ed086ebd36f20404c82d20fca87                     36060   juiz de fora   \n",
       "\n",
       "   ... seller_state tot_order_amt  purchase_wk_day purchase_month  \\\n",
       "0  ...           SP         99.33        Wednesday          April   \n",
       "1  ...           SP         24.39          Tuesday           June   \n",
       "2  ...           SP         65.71          Tuesday       December   \n",
       "3  ...           SP        107.78        Wednesday       December   \n",
       "4  ...           SP        107.78        Wednesday       December   \n",
       "\n",
       "  order_delivery_actual_duration order_delivery_estimated_duration  \\\n",
       "0                             13                                26   \n",
       "1                              3                                19   \n",
       "2                              4                                20   \n",
       "3                             14                                28   \n",
       "4                             14                                28   \n",
       "\n",
       "  delivery_estimate_discrepancy  product_dimensions  \\\n",
       "0                            13              7803.0   \n",
       "1                            16              1056.0   \n",
       "2                            16              3360.0   \n",
       "3                            14              3080.0   \n",
       "4                            14              3080.0   \n",
       "\n",
       "  delivery_est_discrepancy_range  review_score_class  \n",
       "0                      too early                 bad  \n",
       "1                      too early                good  \n",
       "2                      too early                good  \n",
       "3                      too early                good  \n",
       "4                      too early                good  \n",
       "\n",
       "[5 rows x 47 columns]"
      ]
     },
     "execution_count": 6,
     "metadata": {},
     "output_type": "execute_result"
    }
   ],
   "source": [
    "#Create a working dataframe from the copy of original\n",
    "import copy\n",
    "olist_class = copy.deepcopy(olist)\n",
    "olist_class.head()"
   ]
  },
  {
   "cell_type": "code",
   "execution_count": 7,
   "id": "18174a86",
   "metadata": {},
   "outputs": [],
   "source": [
    "#Modify datatypes\n",
    "#changing attributes data types\n",
    "continuous_features = ['price','freight_value', 'payment_sequential','payment_installments','payment_value',\n",
    "                      'product_name_lenght','product_description_lenght', 'product_photos_qty','product_weight_g',\n",
    "                      'product_length_cm','product_height_cm','product_width_cm', 'review_score',\n",
    "                       'order_delivery_actual_duration', 'order_delivery_estimated_duration',\n",
    "                       'delivery_estimate_discrepancy', 'product_dimensions', 'tot_order_amt'] \n",
    "\n",
    "cat_features = ['customer_city', 'customer_state', 'customer_zip_code_prefix', 'seller_zip_code_prefix', \n",
    "                'seller_city', 'seller_state', 'product_category_english','review_id',\n",
    "               'review_comment_title','review_comment_message','payment_type',\n",
    "               'order_item_id', 'product_id','seller_id','order_id', 'customer_id', 'purchase_wk_day', 'purchase_month',\n",
    "               'delivery_est_discrepancy_range', 'review_score_class', 'customer_unique_id'] \n",
    "\n",
    "date_features = ['order_purchase_timestamp', 'order_approved_at', 'order_delivered_carrier_date', 'order_delivered_customer_date',\n",
    "                 'order_estimated_delivery_date', 'shipping_limit_date', 'review_creation_date', 'review_answer_timestamp'] \n",
    "\n"
   ]
  },
  {
   "cell_type": "code",
   "execution_count": 8,
   "id": "dc4d2f49",
   "metadata": {},
   "outputs": [
    {
     "name": "stdout",
     "output_type": "stream",
     "text": [
      "<class 'pandas.core.frame.DataFrame'>\n",
      "RangeIndex: 114067 entries, 0 to 114066\n",
      "Data columns (total 47 columns):\n",
      " #   Column                             Non-Null Count   Dtype   \n",
      "---  ------                             --------------   -----   \n",
      " 0   order_id                           114067 non-null  category\n",
      " 1   customer_id                        114067 non-null  category\n",
      " 2   order_purchase_timestamp           114067 non-null  object  \n",
      " 3   order_approved_at                  114067 non-null  object  \n",
      " 4   order_delivered_carrier_date       114067 non-null  object  \n",
      " 5   order_delivered_customer_date      114067 non-null  object  \n",
      " 6   order_estimated_delivery_date      114067 non-null  object  \n",
      " 7   customer_unique_id                 114067 non-null  category\n",
      " 8   customer_zip_code_prefix           114067 non-null  category\n",
      " 9   customer_city                      114067 non-null  category\n",
      " 10  customer_state                     114067 non-null  category\n",
      " 11  review_id                          114067 non-null  category\n",
      " 12  review_score                       114067 non-null  float64 \n",
      " 13  review_comment_title               13661 non-null   category\n",
      " 14  review_comment_message             48220 non-null   category\n",
      " 15  review_creation_date               114067 non-null  object  \n",
      " 16  review_answer_timestamp            114067 non-null  object  \n",
      " 17  payment_sequential                 114067 non-null  float64 \n",
      " 18  payment_type                       114067 non-null  category\n",
      " 19  payment_installments               114067 non-null  float64 \n",
      " 20  payment_value                      114067 non-null  float64 \n",
      " 21  order_item_id                      114067 non-null  category\n",
      " 22  product_id                         114067 non-null  category\n",
      " 23  seller_id                          114067 non-null  category\n",
      " 24  shipping_limit_date                114067 non-null  object  \n",
      " 25  price                              114067 non-null  float64 \n",
      " 26  freight_value                      114067 non-null  float64 \n",
      " 27  product_name_lenght                114067 non-null  float64 \n",
      " 28  product_description_lenght         114067 non-null  float64 \n",
      " 29  product_photos_qty                 114067 non-null  float64 \n",
      " 30  product_weight_g                   114066 non-null  float64 \n",
      " 31  product_length_cm                  114066 non-null  float64 \n",
      " 32  product_height_cm                  114066 non-null  float64 \n",
      " 33  product_width_cm                   114066 non-null  float64 \n",
      " 34  product_category_english           114067 non-null  category\n",
      " 35  seller_zip_code_prefix             114067 non-null  category\n",
      " 36  seller_city                        114067 non-null  category\n",
      " 37  seller_state                       114067 non-null  category\n",
      " 38  tot_order_amt                      114067 non-null  float64 \n",
      " 39  purchase_wk_day                    114067 non-null  category\n",
      " 40  purchase_month                     114067 non-null  category\n",
      " 41  order_delivery_actual_duration     114067 non-null  float64 \n",
      " 42  order_delivery_estimated_duration  114067 non-null  float64 \n",
      " 43  delivery_estimate_discrepancy      114067 non-null  float64 \n",
      " 44  product_dimensions                 114066 non-null  float64 \n",
      " 45  delivery_est_discrepancy_range     114067 non-null  category\n",
      " 46  review_score_class                 114067 non-null  category\n",
      "dtypes: category(21), float64(18), object(8)\n",
      "memory usage: 41.9+ MB\n"
     ]
    }
   ],
   "source": [
    "# use the \"astype\" function to change the variable type\n",
    "olist_class[continuous_features] = olist_class.copy()[continuous_features].astype(np.float64)\n",
    "olist_class[cat_features] = olist_class.copy()[cat_features].astype(\"category\")\n",
    "#olist_class[date_features] = pd.to_datetime(olist_class.copy()[date_features])\n",
    "olist_class.info()"
   ]
  },
  {
   "cell_type": "code",
   "execution_count": 9,
   "id": "bf052fa0",
   "metadata": {},
   "outputs": [],
   "source": [
    "# fix dates\n",
    "for i in date_features:\n",
    "    olist_class.loc[:,i] = pd.to_datetime(olist_class.copy().loc[:,i], errors=\"coerce\")"
   ]
  },
  {
   "cell_type": "code",
   "execution_count": 10,
   "id": "d8d8e6ce",
   "metadata": {},
   "outputs": [
    {
     "name": "stdout",
     "output_type": "stream",
     "text": [
      "<class 'pandas.core.frame.DataFrame'>\n",
      "RangeIndex: 114067 entries, 0 to 114066\n",
      "Data columns (total 47 columns):\n",
      " #   Column                             Non-Null Count   Dtype         \n",
      "---  ------                             --------------   -----         \n",
      " 0   order_id                           114067 non-null  category      \n",
      " 1   customer_id                        114067 non-null  category      \n",
      " 2   order_purchase_timestamp           114067 non-null  datetime64[ns]\n",
      " 3   order_approved_at                  114067 non-null  datetime64[ns]\n",
      " 4   order_delivered_carrier_date       114067 non-null  datetime64[ns]\n",
      " 5   order_delivered_customer_date      114067 non-null  datetime64[ns]\n",
      " 6   order_estimated_delivery_date      114067 non-null  datetime64[ns]\n",
      " 7   customer_unique_id                 114067 non-null  category      \n",
      " 8   customer_zip_code_prefix           114067 non-null  category      \n",
      " 9   customer_city                      114067 non-null  category      \n",
      " 10  customer_state                     114067 non-null  category      \n",
      " 11  review_id                          114067 non-null  category      \n",
      " 12  review_score                       114067 non-null  float64       \n",
      " 13  review_comment_title               13661 non-null   category      \n",
      " 14  review_comment_message             48220 non-null   category      \n",
      " 15  review_creation_date               114067 non-null  datetime64[ns]\n",
      " 16  review_answer_timestamp            114067 non-null  datetime64[ns]\n",
      " 17  payment_sequential                 114067 non-null  float64       \n",
      " 18  payment_type                       114067 non-null  category      \n",
      " 19  payment_installments               114067 non-null  float64       \n",
      " 20  payment_value                      114067 non-null  float64       \n",
      " 21  order_item_id                      114067 non-null  category      \n",
      " 22  product_id                         114067 non-null  category      \n",
      " 23  seller_id                          114067 non-null  category      \n",
      " 24  shipping_limit_date                114067 non-null  datetime64[ns]\n",
      " 25  price                              114067 non-null  float64       \n",
      " 26  freight_value                      114067 non-null  float64       \n",
      " 27  product_name_lenght                114067 non-null  float64       \n",
      " 28  product_description_lenght         114067 non-null  float64       \n",
      " 29  product_photos_qty                 114067 non-null  float64       \n",
      " 30  product_weight_g                   114066 non-null  float64       \n",
      " 31  product_length_cm                  114066 non-null  float64       \n",
      " 32  product_height_cm                  114066 non-null  float64       \n",
      " 33  product_width_cm                   114066 non-null  float64       \n",
      " 34  product_category_english           114067 non-null  category      \n",
      " 35  seller_zip_code_prefix             114067 non-null  category      \n",
      " 36  seller_city                        114067 non-null  category      \n",
      " 37  seller_state                       114067 non-null  category      \n",
      " 38  tot_order_amt                      114067 non-null  float64       \n",
      " 39  purchase_wk_day                    114067 non-null  category      \n",
      " 40  purchase_month                     114067 non-null  category      \n",
      " 41  order_delivery_actual_duration     114067 non-null  float64       \n",
      " 42  order_delivery_estimated_duration  114067 non-null  float64       \n",
      " 43  delivery_estimate_discrepancy      114067 non-null  float64       \n",
      " 44  product_dimensions                 114066 non-null  float64       \n",
      " 45  delivery_est_discrepancy_range     114067 non-null  category      \n",
      " 46  review_score_class                 114067 non-null  category      \n",
      "dtypes: category(21), datetime64[ns](8), float64(18)\n",
      "memory usage: 41.9 MB\n"
     ]
    }
   ],
   "source": [
    "olist_class.info()"
   ]
  },
  {
   "cell_type": "code",
   "execution_count": 11,
   "id": "35525fb8",
   "metadata": {},
   "outputs": [
    {
     "data": {
      "text/plain": [
       "Text(0.5, 1.0, 'Distribution of Discrepancy')"
      ]
     },
     "execution_count": 11,
     "metadata": {},
     "output_type": "execute_result"
    },
    {
     "data": {
      "image/png": "[encoded data removed]",
      "text/plain": [
       "<Figure size 432x288 with 1 Axes>"
      ]
     },
     "metadata": {
      "needs_background": "light"
     },
     "output_type": "display_data"
    }
   ],
   "source": [
    "plt.boxplot(x=olist.order_delivery_estimated_duration)\n",
    "plt.ylabel('Days_diff.Actual_Estimate')\n",
    "plt.title('Distribution of Discrepancy') #labels"
   ]
  },
  {
   "cell_type": "code",
   "execution_count": 12,
   "id": "1324c6f1",
   "metadata": {},
   "outputs": [
    {
     "data": {
      "text/plain": [
       "38.0"
      ]
     },
     "execution_count": 12,
     "metadata": {},
     "output_type": "execute_result"
    }
   ],
   "source": [
    "olist.copy()['order_delivery_estimated_duration'].quantile(0.95)"
   ]
  },
  {
   "cell_type": "code",
   "execution_count": 13,
   "id": "3888b912",
   "metadata": {},
   "outputs": [
    {
     "data": {
      "text/plain": [
       "(108875, 5192, 0.9544828916338643)"
      ]
     },
     "execution_count": 13,
     "metadata": {},
     "output_type": "execute_result"
    }
   ],
   "source": [
    "estimate_delivery = []\n",
    "estimate_delivery_out = []\n",
    "\n",
    "thresh = np.quantile(olist.copy()['order_delivery_estimated_duration'], 0.95)\n",
    "[estimate_delivery.append(i)\n",
    " if abs(i) <= thresh else estimate_delivery_out.append(i)\n",
    " for i in olist.copy()['order_delivery_estimated_duration']]\n",
    "#y = np.array(y)\n",
    "\n",
    "len(estimate_delivery), len(estimate_delivery_out), (len(estimate_delivery)/olist.shape[0])\n"
   ]
  },
  {
   "cell_type": "code",
   "execution_count": 14,
   "id": "5d4f2164",
   "metadata": {},
   "outputs": [
    {
     "data": {
      "text/plain": [
       "Text(0.5, 1.0, 'Distribution of Discrepancy')"
      ]
     },
     "execution_count": 14,
     "metadata": {},
     "output_type": "execute_result"
    },
    {
     "data": {
      "image/png": "[encoded data removed]",
      "text/plain": [
       "<Figure size 432x288 with 1 Axes>"
      ]
     },
     "metadata": {
      "needs_background": "light"
     },
     "output_type": "display_data"
    }
   ],
   "source": [
    "plt.violinplot(olist.order_delivery_actual_duration, showmeans=True)\n",
    "plt.ylabel('days_diff.Actual_Estimate')\n",
    "plt.title('Distribution of Discrepancy') #labels"
   ]
  },
  {
   "cell_type": "markdown",
   "id": "e443e1ce",
   "metadata": {},
   "source": [
    "### <span style='color:blue'> Subset the dataset </span>\n",
    "\n",
    "Using an intuitive approach to what might cause a package to be categorized as delivered early, on time or late we subset the preprocessed dataset. This also will allow us more flexibility in running multiple iterations of our classifiers to determine the most efficient runing parameters."
   ]
  },
  {
   "cell_type": "code",
   "execution_count": 15,
   "id": "dd0fb88c",
   "metadata": {},
   "outputs": [
    {
     "name": "stdout",
     "output_type": "stream",
     "text": [
      "<class 'pandas.core.frame.DataFrame'>\n",
      "RangeIndex: 114067 entries, 0 to 114066\n",
      "Data columns (total 13 columns):\n",
      " #   Column                         Non-Null Count   Dtype         \n",
      "---  ------                         --------------   -----         \n",
      " 0   payment_sequential             114067 non-null  float64       \n",
      " 1   product_category_english       114067 non-null  category      \n",
      " 2   seller_zip_code_prefix         114067 non-null  category      \n",
      " 3   seller_city                    114067 non-null  category      \n",
      " 4   tot_order_amt                  114067 non-null  float64       \n",
      " 5   freight_value                  114067 non-null  float64       \n",
      " 6   product_dimensions             114066 non-null  float64       \n",
      " 7   review_score_class             114067 non-null  category      \n",
      " 8   product_weight_g               114066 non-null  float64       \n",
      " 9   customer_city                  114067 non-null  category      \n",
      " 10  customer_zip_code_prefix       114067 non-null  category      \n",
      " 11  order_approved_at              114067 non-null  datetime64[ns]\n",
      " 12  delivery_estimate_discrepancy  114067 non-null  float64       \n",
      "dtypes: category(6), datetime64[ns](1), float64(6)\n",
      "memory usage: 8.1 MB\n"
     ]
    }
   ],
   "source": [
    "olist_class2 = olist_class[['payment_sequential', 'product_category_english', \n",
    "                            'seller_zip_code_prefix','seller_city', 'tot_order_amt', \n",
    "                            'freight_value', 'product_dimensions', 'review_score_class', 'product_weight_g', 'customer_city',\n",
    "                            'customer_zip_code_prefix','order_approved_at', 'delivery_estimate_discrepancy']]\n",
    "olist_class2.info()"
   ]
  },
  {
   "cell_type": "code",
   "execution_count": 16,
   "id": "40ecc078",
   "metadata": {},
   "outputs": [
    {
     "name": "stderr",
     "output_type": "stream",
     "text": [
      "<ipython-input-16-19656a7c3fe9>:1: SettingWithCopyWarning: \n",
      "A value is trying to be set on a copy of a slice from a DataFrame\n",
      "\n",
      "See the caveats in the documentation: https://pandas.pydata.org/pandas-docs/stable/user_guide/indexing.html#returning-a-view-versus-a-copy\n",
      "  olist_class2.dropna(inplace=True)\n"
     ]
    }
   ],
   "source": [
    "olist_class2.dropna(inplace=True)"
   ]
  },
  {
   "cell_type": "code",
   "execution_count": 17,
   "id": "7cb34a2a",
   "metadata": {},
   "outputs": [
    {
     "name": "stdout",
     "output_type": "stream",
     "text": [
      "<class 'pandas.core.frame.DataFrame'>\n",
      "Int64Index: 114066 entries, 0 to 114066\n",
      "Data columns (total 13 columns):\n",
      " #   Column                         Non-Null Count   Dtype         \n",
      "---  ------                         --------------   -----         \n",
      " 0   payment_sequential             114066 non-null  float64       \n",
      " 1   product_category_english       114066 non-null  category      \n",
      " 2   seller_zip_code_prefix         114066 non-null  category      \n",
      " 3   seller_city                    114066 non-null  category      \n",
      " 4   tot_order_amt                  114066 non-null  float64       \n",
      " 5   freight_value                  114066 non-null  float64       \n",
      " 6   product_dimensions             114066 non-null  float64       \n",
      " 7   review_score_class             114066 non-null  category      \n",
      " 8   product_weight_g               114066 non-null  float64       \n",
      " 9   customer_city                  114066 non-null  category      \n",
      " 10  customer_zip_code_prefix       114066 non-null  category      \n",
      " 11  order_approved_at              114066 non-null  datetime64[ns]\n",
      " 12  delivery_estimate_discrepancy  114066 non-null  float64       \n",
      "dtypes: category(6), datetime64[ns](1), float64(6)\n",
      "memory usage: 8.9 MB\n"
     ]
    },
    {
     "data": {
      "text/plain": [
       "((114066, 13), None)"
      ]
     },
     "execution_count": 17,
     "metadata": {},
     "output_type": "execute_result"
    }
   ],
   "source": [
    "olist_class2.shape, olist_class2.info()"
   ]
  },
  {
   "cell_type": "code",
   "execution_count": 18,
   "id": "c2aa0411",
   "metadata": {},
   "outputs": [
    {
     "data": {
      "text/html": [
       "<div>\n",
       "<style scoped>\n",
       "    .dataframe tbody tr th:only-of-type {\n",
       "        vertical-align: middle;\n",
       "    }\n",
       "\n",
       "    .dataframe tbody tr th {\n",
       "        vertical-align: top;\n",
       "    }\n",
       "\n",
       "    .dataframe thead th {\n",
       "        text-align: right;\n",
       "    }\n",
       "</style>\n",
       "<table border=\"1\" class=\"dataframe\">\n",
       "  <thead>\n",
       "    <tr style=\"text-align: right;\">\n",
       "      <th></th>\n",
       "      <th>payment_sequential</th>\n",
       "      <th>product_category_english</th>\n",
       "      <th>seller_zip_code_prefix</th>\n",
       "      <th>seller_city</th>\n",
       "      <th>tot_order_amt</th>\n",
       "      <th>freight_value</th>\n",
       "      <th>product_dimensions</th>\n",
       "      <th>review_score_class</th>\n",
       "      <th>product_weight_g</th>\n",
       "      <th>customer_city</th>\n",
       "      <th>customer_zip_code_prefix</th>\n",
       "      <th>order_approved_at</th>\n",
       "      <th>delivery_estimate_discrepancy</th>\n",
       "    </tr>\n",
       "  </thead>\n",
       "  <tbody>\n",
       "    <tr>\n",
       "      <th>0</th>\n",
       "      <td>1.0</td>\n",
       "      <td>home_construction</td>\n",
       "      <td>13321.0</td>\n",
       "      <td>salto</td>\n",
       "      <td>99.33</td>\n",
       "      <td>19.53</td>\n",
       "      <td>7803.0</td>\n",
       "      <td>bad</td>\n",
       "      <td>800.0</td>\n",
       "      <td>teofilo otoni</td>\n",
       "      <td>39801</td>\n",
       "      <td>2018-04-25 22:15:09</td>\n",
       "      <td>13.0</td>\n",
       "    </tr>\n",
       "    <tr>\n",
       "      <th>1</th>\n",
       "      <td>1.0</td>\n",
       "      <td>auto</td>\n",
       "      <td>4660.0</td>\n",
       "      <td>sao paulo</td>\n",
       "      <td>24.39</td>\n",
       "      <td>7.39</td>\n",
       "      <td>1056.0</td>\n",
       "      <td>good</td>\n",
       "      <td>150.0</td>\n",
       "      <td>sao paulo</td>\n",
       "      <td>2422</td>\n",
       "      <td>2018-06-26 11:18:58</td>\n",
       "      <td>16.0</td>\n",
       "    </tr>\n",
       "    <tr>\n",
       "      <th>2</th>\n",
       "      <td>1.0</td>\n",
       "      <td>perfumery</td>\n",
       "      <td>9015.0</td>\n",
       "      <td>santo andre</td>\n",
       "      <td>65.71</td>\n",
       "      <td>8.72</td>\n",
       "      <td>3360.0</td>\n",
       "      <td>good</td>\n",
       "      <td>250.0</td>\n",
       "      <td>sao paulo</td>\n",
       "      <td>2652</td>\n",
       "      <td>2017-12-14 09:52:34</td>\n",
       "      <td>16.0</td>\n",
       "    </tr>\n",
       "    <tr>\n",
       "      <th>3</th>\n",
       "      <td>1.0</td>\n",
       "      <td>bed_bath_table</td>\n",
       "      <td>13405.0</td>\n",
       "      <td>piracicaba</td>\n",
       "      <td>107.78</td>\n",
       "      <td>17.88</td>\n",
       "      <td>3080.0</td>\n",
       "      <td>good</td>\n",
       "      <td>1200.0</td>\n",
       "      <td>juiz de fora</td>\n",
       "      <td>36060</td>\n",
       "      <td>2017-12-06 12:13:20</td>\n",
       "      <td>14.0</td>\n",
       "    </tr>\n",
       "    <tr>\n",
       "      <th>4</th>\n",
       "      <td>1.0</td>\n",
       "      <td>bed_bath_table</td>\n",
       "      <td>13405.0</td>\n",
       "      <td>piracicaba</td>\n",
       "      <td>107.78</td>\n",
       "      <td>17.88</td>\n",
       "      <td>3080.0</td>\n",
       "      <td>good</td>\n",
       "      <td>1200.0</td>\n",
       "      <td>juiz de fora</td>\n",
       "      <td>36060</td>\n",
       "      <td>2017-12-06 12:13:20</td>\n",
       "      <td>14.0</td>\n",
       "    </tr>\n",
       "  </tbody>\n",
       "</table>\n",
       "</div>"
      ],
      "text/plain": [
       "   payment_sequential product_category_english seller_zip_code_prefix  \\\n",
       "0                 1.0        home_construction                13321.0   \n",
       "1                 1.0                     auto                 4660.0   \n",
       "2                 1.0                perfumery                 9015.0   \n",
       "3                 1.0           bed_bath_table                13405.0   \n",
       "4                 1.0           bed_bath_table                13405.0   \n",
       "\n",
       "   seller_city  tot_order_amt  freight_value  product_dimensions  \\\n",
       "0        salto          99.33          19.53              7803.0   \n",
       "1    sao paulo          24.39           7.39              1056.0   \n",
       "2  santo andre          65.71           8.72              3360.0   \n",
       "3   piracicaba         107.78          17.88              3080.0   \n",
       "4   piracicaba         107.78          17.88              3080.0   \n",
       "\n",
       "  review_score_class  product_weight_g  customer_city  \\\n",
       "0                bad             800.0  teofilo otoni   \n",
       "1               good             150.0      sao paulo   \n",
       "2               good             250.0      sao paulo   \n",
       "3               good            1200.0   juiz de fora   \n",
       "4               good            1200.0   juiz de fora   \n",
       "\n",
       "  customer_zip_code_prefix   order_approved_at  delivery_estimate_discrepancy  \n",
       "0                    39801 2018-04-25 22:15:09                           13.0  \n",
       "1                     2422 2018-06-26 11:18:58                           16.0  \n",
       "2                     2652 2017-12-14 09:52:34                           16.0  \n",
       "3                    36060 2017-12-06 12:13:20                           14.0  \n",
       "4                    36060 2017-12-06 12:13:20                           14.0  "
      ]
     },
     "execution_count": 18,
     "metadata": {},
     "output_type": "execute_result"
    }
   ],
   "source": [
    "#olist_class2.loc[olist_class2.order_delivery_actual_duration > 50, ('order_delivery_actual_duration')]= np.NaN\n",
    "olist_class2.head()"
   ]
  },
  {
   "cell_type": "code",
   "execution_count": 19,
   "id": "af2b3b0c",
   "metadata": {},
   "outputs": [
    {
     "name": "stdout",
     "output_type": "stream",
     "text": [
      "Unique value counts for payment_sequential attribute is: = 26\n",
      "Unique value counts for product_category_english attribute is: = 73\n",
      "Unique value counts for seller_zip_code_prefix attribute is: = 2136\n",
      "Unique value counts for seller_city attribute is: = 588\n",
      "Unique value counts for tot_order_amt attribute is: = 26460\n",
      "Unique value counts for freight_value attribute is: = 6902\n",
      "Unique value counts for product_dimensions attribute is: = 4416\n",
      "Unique value counts for review_score_class attribute is: = 3\n",
      "Unique value counts for product_weight_g attribute is: = 2167\n",
      "Unique value counts for customer_city attribute is: = 4073\n",
      "Unique value counts for customer_zip_code_prefix attribute is: = 14844\n",
      "Unique value counts for order_approved_at attribute is: = 87124\n",
      "Unique value counts for delivery_estimate_discrepancy attribute is: = 197\n"
     ]
    }
   ],
   "source": [
    "for i in olist_class2:\n",
    "    print('Unique value counts for ' + i + ' attribute is: =', olist_class2[i].nunique())"
   ]
  },
  {
   "cell_type": "code",
   "execution_count": 20,
   "id": "a7321a82",
   "metadata": {},
   "outputs": [
    {
     "data": {
      "text/plain": [
       "good    87129\n",
       "bad     17295\n",
       "fair     9642\n",
       "Name: review_score_class, dtype: int64"
      ]
     },
     "execution_count": 20,
     "metadata": {},
     "output_type": "execute_result"
    }
   ],
   "source": [
    "#review class is an important attribut \n",
    "#but with class imbalance so we split the dataset \n",
    "#to ensure that samples are representatinve of the class levels\n",
    "olist_class2['review_score_class'].value_counts()"
   ]
  },
  {
   "cell_type": "code",
   "execution_count": 21,
   "id": "1900d71c",
   "metadata": {},
   "outputs": [
    {
     "name": "stdout",
     "output_type": "stream",
     "text": [
      "<class 'pandas.core.frame.DataFrame'>\n",
      "Int64Index: 114066 entries, 0 to 114066\n",
      "Data columns (total 13 columns):\n",
      " #   Column                         Non-Null Count   Dtype         \n",
      "---  ------                         --------------   -----         \n",
      " 0   payment_sequential             114066 non-null  float64       \n",
      " 1   product_category_english       114066 non-null  category      \n",
      " 2   seller_zip_code_prefix         114066 non-null  category      \n",
      " 3   seller_city                    114066 non-null  category      \n",
      " 4   tot_order_amt                  114066 non-null  float64       \n",
      " 5   freight_value                  114066 non-null  float64       \n",
      " 6   product_dimensions             114066 non-null  float64       \n",
      " 7   review_score_class             114066 non-null  category      \n",
      " 8   product_weight_g               114066 non-null  float64       \n",
      " 9   customer_city                  114066 non-null  category      \n",
      " 10  customer_zip_code_prefix       114066 non-null  category      \n",
      " 11  order_approved_at              114066 non-null  datetime64[ns]\n",
      " 12  delivery_estimate_discrepancy  114066 non-null  float64       \n",
      "dtypes: category(6), datetime64[ns](1), float64(6)\n",
      "memory usage: 8.9 MB\n"
     ]
    }
   ],
   "source": [
    "olist_class2.info()"
   ]
  },
  {
   "cell_type": "code",
   "execution_count": 22,
   "id": "ddee33e4",
   "metadata": {},
   "outputs": [],
   "source": [
    "from sklearn.datasets import make_regression\n",
    "from sklearn.model_selection import cross_val_score\n",
    "from sklearn.model_selection import RepeatedKFold\n",
    "from sklearn.feature_selection import RFE\n",
    "from sklearn.tree import DecisionTreeRegressor\n",
    "from sklearn.pipeline import Pipeline\n",
    "from sklearn.model_selection import RepeatedStratifiedKFold\n",
    "from sklearn.feature_selection import RFECV\n",
    "from sklearn.linear_model import LogisticRegression\n",
    "from sklearn.linear_model import Perceptron\n",
    "from sklearn.ensemble import RandomForestClassifier\n",
    "from sklearn.ensemble import RandomForestRegressor\n",
    "from sklearn.ensemble import GradientBoostingClassifier\n",
    "from sklearn.linear_model import SGDRegressor\n",
    "from sklearn.ensemble import GradientBoostingRegressor\n",
    "from sklearn.preprocessing import OneHotEncoder\n",
    "from sklearn.preprocessing import StandardScaler\n",
    "from sklearn.compose import ColumnTransformer\n",
    "from sklearn.linear_model import LinearRegression\n",
    "from matplotlib import pyplot"
   ]
  },
  {
   "cell_type": "code",
   "execution_count": 54,
   "id": "9ae1c8d9",
   "metadata": {},
   "outputs": [],
   "source": [
    "olist_class2 = olist_class2.sample(n=12000)"
   ]
  },
  {
   "cell_type": "markdown",
   "id": "5e2d498a",
   "metadata": {},
   "source": [
    "### <span style='color:blue'> === 80:20 Train:Test Split of the dataset === </span>"
   ]
  },
  {
   "cell_type": "code",
   "execution_count": 55,
   "id": "f5eb3e86",
   "metadata": {},
   "outputs": [],
   "source": [
    "#Simple train test split\n",
    "\n",
    "from sklearn.model_selection import train_test_split\n",
    "olist_train, olist_test = train_test_split(olist_class2, test_size=0.2,random_state=100)"
   ]
  },
  {
   "cell_type": "code",
   "execution_count": 56,
   "id": "2f9397f3",
   "metadata": {
    "scrolled": true
   },
   "outputs": [
    {
     "name": "stdout",
     "output_type": "stream",
     "text": [
      "<class 'pandas.core.frame.DataFrame'>\n",
      "Int64Index: 9600 entries, 17683 to 63973\n",
      "Data columns (total 13 columns):\n",
      " #   Column                         Non-Null Count  Dtype         \n",
      "---  ------                         --------------  -----         \n",
      " 0   payment_sequential             9600 non-null   float64       \n",
      " 1   product_category_english       9600 non-null   category      \n",
      " 2   seller_zip_code_prefix         9600 non-null   category      \n",
      " 3   seller_city                    9600 non-null   category      \n",
      " 4   tot_order_amt                  9600 non-null   float64       \n",
      " 5   freight_value                  9600 non-null   float64       \n",
      " 6   product_dimensions             9600 non-null   float64       \n",
      " 7   review_score_class             9600 non-null   category      \n",
      " 8   product_weight_g               9600 non-null   float64       \n",
      " 9   customer_city                  9600 non-null   category      \n",
      " 10  customer_zip_code_prefix       9600 non-null   category      \n",
      " 11  order_approved_at              9600 non-null   datetime64[ns]\n",
      " 12  delivery_estimate_discrepancy  9600 non-null   float64       \n",
      "dtypes: category(6), datetime64[ns](1), float64(6)\n",
      "memory usage: 1.6 MB\n"
     ]
    }
   ],
   "source": [
    "olist_train.info()"
   ]
  },
  {
   "cell_type": "code",
   "execution_count": 57,
   "id": "1fd1944a",
   "metadata": {},
   "outputs": [
    {
     "name": "stdout",
     "output_type": "stream",
     "text": [
      "<class 'pandas.core.frame.DataFrame'>\n",
      "Int64Index: 2400 entries, 77200 to 47131\n",
      "Data columns (total 13 columns):\n",
      " #   Column                         Non-Null Count  Dtype         \n",
      "---  ------                         --------------  -----         \n",
      " 0   payment_sequential             2400 non-null   float64       \n",
      " 1   product_category_english       2400 non-null   category      \n",
      " 2   seller_zip_code_prefix         2400 non-null   category      \n",
      " 3   seller_city                    2400 non-null   category      \n",
      " 4   tot_order_amt                  2400 non-null   float64       \n",
      " 5   freight_value                  2400 non-null   float64       \n",
      " 6   product_dimensions             2400 non-null   float64       \n",
      " 7   review_score_class             2400 non-null   category      \n",
      " 8   product_weight_g               2400 non-null   float64       \n",
      " 9   customer_city                  2400 non-null   category      \n",
      " 10  customer_zip_code_prefix       2400 non-null   category      \n",
      " 11  order_approved_at              2400 non-null   datetime64[ns]\n",
      " 12  delivery_estimate_discrepancy  2400 non-null   float64       \n",
      "dtypes: category(6), datetime64[ns](1), float64(6)\n",
      "memory usage: 1.0 MB\n"
     ]
    }
   ],
   "source": [
    "olist_test.info()"
   ]
  },
  {
   "cell_type": "code",
   "execution_count": 58,
   "id": "d99bad52",
   "metadata": {},
   "outputs": [
    {
     "data": {
      "text/plain": [
       "9600"
      ]
     },
     "execution_count": 58,
     "metadata": {},
     "output_type": "execute_result"
    }
   ],
   "source": [
    "#Target variable\n",
    "olist_train_y = olist_train.delivery_estimate_discrepancy\n",
    "len(olist_train_y)"
   ]
  },
  {
   "cell_type": "code",
   "execution_count": 59,
   "id": "2adcba04",
   "metadata": {},
   "outputs": [
    {
     "name": "stdout",
     "output_type": "stream",
     "text": [
      "<class 'pandas.core.frame.DataFrame'>\n",
      "Int64Index: 9600 entries, 17683 to 63973\n",
      "Data columns (total 12 columns):\n",
      " #   Column                    Non-Null Count  Dtype         \n",
      "---  ------                    --------------  -----         \n",
      " 0   payment_sequential        9600 non-null   float64       \n",
      " 1   product_category_english  9600 non-null   category      \n",
      " 2   seller_zip_code_prefix    9600 non-null   category      \n",
      " 3   seller_city               9600 non-null   category      \n",
      " 4   tot_order_amt             9600 non-null   float64       \n",
      " 5   freight_value             9600 non-null   float64       \n",
      " 6   product_dimensions        9600 non-null   float64       \n",
      " 7   review_score_class        9600 non-null   category      \n",
      " 8   product_weight_g          9600 non-null   float64       \n",
      " 9   customer_city             9600 non-null   category      \n",
      " 10  customer_zip_code_prefix  9600 non-null   category      \n",
      " 11  order_approved_at         9600 non-null   datetime64[ns]\n",
      "dtypes: category(6), datetime64[ns](1), float64(5)\n",
      "memory usage: 1.5 MB\n"
     ]
    }
   ],
   "source": [
    "#All predictor attributes\n",
    "olist_train_noY = olist_train.copy().drop('delivery_estimate_discrepancy', axis=1)\n",
    "olist_train_noY.info()"
   ]
  },
  {
   "cell_type": "markdown",
   "id": "8f6510ae",
   "metadata": {},
   "source": [
    "### Preprocess the test for prediction"
   ]
  },
  {
   "cell_type": "code",
   "execution_count": 60,
   "id": "d4c1da9d",
   "metadata": {},
   "outputs": [
    {
     "data": {
      "text/plain": [
       "2400"
      ]
     },
     "execution_count": 60,
     "metadata": {},
     "output_type": "execute_result"
    }
   ],
   "source": [
    "#Target variable\n",
    "olist_test_y = olist_test.delivery_estimate_discrepancy\n",
    "len(olist_test_y)"
   ]
  },
  {
   "cell_type": "code",
   "execution_count": 61,
   "id": "a7c3bd92",
   "metadata": {},
   "outputs": [
    {
     "name": "stdout",
     "output_type": "stream",
     "text": [
      "<class 'pandas.core.frame.DataFrame'>\n",
      "Int64Index: 2400 entries, 77200 to 47131\n",
      "Data columns (total 12 columns):\n",
      " #   Column                    Non-Null Count  Dtype         \n",
      "---  ------                    --------------  -----         \n",
      " 0   payment_sequential        2400 non-null   float64       \n",
      " 1   product_category_english  2400 non-null   category      \n",
      " 2   seller_zip_code_prefix    2400 non-null   category      \n",
      " 3   seller_city               2400 non-null   category      \n",
      " 4   tot_order_amt             2400 non-null   float64       \n",
      " 5   freight_value             2400 non-null   float64       \n",
      " 6   product_dimensions        2400 non-null   float64       \n",
      " 7   review_score_class        2400 non-null   category      \n",
      " 8   product_weight_g          2400 non-null   float64       \n",
      " 9   customer_city             2400 non-null   category      \n",
      " 10  customer_zip_code_prefix  2400 non-null   category      \n",
      " 11  order_approved_at         2400 non-null   datetime64[ns]\n",
      "dtypes: category(6), datetime64[ns](1), float64(5)\n",
      "memory usage: 1.0 MB\n"
     ]
    }
   ],
   "source": [
    "#All predictor attributes\n",
    "olist_test_noY = olist_test.copy().drop('delivery_estimate_discrepancy', axis=1)\n",
    "olist_test_noY.info()"
   ]
  },
  {
   "cell_type": "markdown",
   "id": "9ed0f428",
   "metadata": {},
   "source": [
    "\n",
    "https://www.kaggle.com/kylegilde/building-columntransformers-dynamically"
   ]
  },
  {
   "cell_type": "code",
   "execution_count": 62,
   "id": "b02f69ba",
   "metadata": {},
   "outputs": [],
   "source": [
    "from sklearn.compose import ColumnTransformer, make_column_selector\n",
    "from sklearn.pipeline import make_pipeline\n",
    "import multiprocessing\n",
    "from sklearn.impute import SimpleImputer"
   ]
  },
  {
   "cell_type": "markdown",
   "id": "35eacdd8",
   "metadata": {},
   "source": [
    "listing 79 features in the code or a configuration file seems is a tedious and unnecessary task. What if there was a way to logically bucket these features by their characteristics?\n",
    "\n",
    "The key insight that allows you to dynamically construct a ColumnTransformer is understanding that there are 3 broad types of features in non-textual, non-time series datasets:\n",
    "\n",
    "- numerical\n",
    "- categorical with moderate-to-low cardinality\n",
    "- categorical with high cardinality"
   ]
  },
  {
   "cell_type": "code",
   "execution_count": 63,
   "id": "df34f8ea",
   "metadata": {},
   "outputs": [
    {
     "name": "stdout",
     "output_type": "stream",
     "text": [
      "N numeric_features: 5 \n",
      "\n",
      "payment_sequential, tot_order_amt, freight_value, product_dimensions, product_weight_g\n"
     ]
    }
   ],
   "source": [
    "#select features with logical conditions instead of listing every single column in the code\n",
    "select_numeric_features = make_column_selector(dtype_include=np.number)\n",
    "numeric_features = select_numeric_features(olist_train_noY)\n",
    "print(f'N numeric_features: {len(numeric_features)} \\n')\n",
    "print(', '.join(numeric_features))"
   ]
  },
  {
   "cell_type": "markdown",
   "id": "5d1d4a84",
   "metadata": {},
   "source": [
    "#### Categorical  with moderate-to-low cardinality\n",
    "\n",
    "One-hot (OH) encoding, where an indicator column is created for each unique value, is the most common method. However, the OH transformation may not be suitable for features with high cardinality. OH encoding features with many unique values may create too many columns with very low variance, which may take up too much memory or have a negative impact on the performance of linear models. Hence, we may want to limit the features we select for this encoding to ones below a certain threshold of unique values. \n",
    "\n",
    "Since the *make_column_selector* isn't capable of detecting cardinality, I've developed my own *select_oh_features* custom function. It consists of a piping of pandas methods that do the following:\n",
    "\n",
    "- Selects the object and category dtypes from the pandas DataFrame\n",
    "\n",
    "- Counts the number of unique values for those columns\n",
    "\n",
    "- Subsets the unique value counts if they are less than or equal to MAX_OH_CARDINALITY using an anonymous lambda function within the loc method\n",
    "\n",
    "- Extracts the column names from the index and returns them as a list"
   ]
  },
  {
   "cell_type": "code",
   "execution_count": 64,
   "id": "e4a7c965",
   "metadata": {},
   "outputs": [
    {
     "name": "stdout",
     "output_type": "stream",
     "text": [
      "N oh_features: 1 \n",
      "\n",
      "review_score_class\n"
     ]
    }
   ],
   "source": [
    "MAX_OH_CARDINALITY = 10\n",
    "\n",
    "def select_oh_features(df):\n",
    "    \n",
    "    hc_features =\\\n",
    "        df\\\n",
    "        .select_dtypes(['object', 'category'])\\\n",
    "        .apply(lambda col: col.nunique())\\\n",
    "        .loc[lambda x: x <= MAX_OH_CARDINALITY]\\\n",
    "        .index\\\n",
    "        .tolist()\n",
    "        \n",
    "    return hc_features\n",
    "\n",
    "oh_features = select_oh_features(olist_train_noY)\n",
    "\n",
    "print(f'N oh_features: {len(oh_features)} \\n')\n",
    "print(', '.join(oh_features))"
   ]
  },
  {
   "cell_type": "code",
   "execution_count": 65,
   "id": "302ef306",
   "metadata": {},
   "outputs": [],
   "source": [
    "#oh_pipeline = make_pipeline(SimpleImputer(strategy='constant'), OneHotEncoder(handle_unknown='ignore'))"
   ]
  },
  {
   "cell_type": "code",
   "execution_count": 66,
   "id": "68538abf",
   "metadata": {},
   "outputs": [],
   "source": [
    "#Try without imputer\n",
    "oh_pipeline1 = make_pipeline(OneHotEncoder(handle_unknown='ignore'))"
   ]
  },
  {
   "cell_type": "markdown",
   "id": "3c7cee7e",
   "metadata": {},
   "source": [
    "#### Categorical with high cardinality\n",
    "To select the features with high cardinality, I've created a similar function that selects the object and category features with unique value counts greater than the threshold. It selects three features that meet these criteria."
   ]
  },
  {
   "cell_type": "code",
   "execution_count": 67,
   "id": "33fdbdb5",
   "metadata": {},
   "outputs": [
    {
     "name": "stdout",
     "output_type": "stream",
     "text": [
      "N hc_features: 5 \n",
      "\n",
      "product_category_english, seller_zip_code_prefix, seller_city, customer_city, customer_zip_code_prefix\n"
     ]
    }
   ],
   "source": [
    "def select_hc_features(df):\n",
    "    \n",
    "    hc_features =\\\n",
    "        df\\\n",
    "        .select_dtypes(['object', 'category'])\\\n",
    "        .apply(lambda col: col.nunique())\\\n",
    "        .loc[lambda x: x > MAX_OH_CARDINALITY]\\\n",
    "        .index\\\n",
    "        .tolist()\n",
    "        \n",
    "    return hc_features\n",
    "\n",
    "\n",
    "hc_features = select_hc_features(olist_train_noY)\n",
    "\n",
    "print(f'N hc_features: {len(hc_features)} \\n')\n",
    "print(', '.join(hc_features))"
   ]
  },
  {
   "cell_type": "markdown",
   "id": "dd9ddf30",
   "metadata": {},
   "source": [
    "#### Generalized Linear Mixed Model Encoder\n",
    "\n",
    "To transform our features with high cardinality, I could have gone with a more basic approach and used Scikit-Learn's native LabelEncoder or OrdinalEncoder preprocessor. However, in many cases, these methods are likely to perform suboptimally in your model unless you are dealing with ordinal data. I prefer to use the Category Encoder package, which has more than a dozen ways of intelligently encoding highly cardinal features. This post provides an overview of several of these methods. Most of these are supervised techniques, which use the dependent variable to transform the nominal values into numerical ones. The TargetEncoder is probably the easiest method to understand, but I prefer to use the Generalized Linear Mixed Model Encoder, which has \"solid statistical theory behind [it]\" and \"no hyperparameters to tune.\" Without diving into the details of GLMMs, at its core, this method encodes the nominal values as the coefficents from a one-hot-encoded linear model. The Category Encoder methods handle missing and unknown values by setting them to zero or the mean of the dependent variable. "
   ]
  },
  {
   "cell_type": "code",
   "execution_count": 68,
   "id": "0fa5ce92",
   "metadata": {},
   "outputs": [],
   "source": [
    "import category_encoders as ce\n",
    "hc_pipeline = make_pipeline(ce.GLMMEncoder())"
   ]
  },
  {
   "cell_type": "code",
   "execution_count": 69,
   "id": "478e4e0f",
   "metadata": {},
   "outputs": [],
   "source": [
    "numeric_pipeline = make_pipeline(StandardScaler()) "
   ]
  },
  {
   "cell_type": "code",
   "execution_count": 70,
   "id": "1c18f458",
   "metadata": {},
   "outputs": [],
   "source": [
    "column_transformer = ColumnTransformer(transformers=\\\n",
    "                                       [('numeric_pipeline', numeric_pipeline, select_numeric_features),\\\n",
    "                                        ('oh_pipeline', oh_pipeline1, select_oh_features),\\\n",
    "                                        ('hc_pipeline', hc_pipeline, select_hc_features)],                                       \n",
    "                                       remainder='drop')"
   ]
  },
  {
   "cell_type": "code",
   "execution_count": 71,
   "id": "f2448346",
   "metadata": {},
   "outputs": [],
   "source": [
    "# let's break up the Discrepancy variable\n",
    "#But needs outliers to be removed\n",
    "#olist_train_y_class = pd.cut(olist_train_y, [0, 2, 3, 5], 3, labels=['bad','fair','good']) # this creates a new variable\n",
    "#olist_train_y_class = olist_train_y_class.astype(\"category\")"
   ]
  },
  {
   "cell_type": "code",
   "execution_count": 72,
   "id": "0467bcc9",
   "metadata": {
    "scrolled": true
   },
   "outputs": [
    {
     "data": {
      "text/plain": [
       "count    9600.000000\n",
       "mean       11.381979\n",
       "std        10.049074\n",
       "min      -182.000000\n",
       "25%         7.000000\n",
       "50%        12.000000\n",
       "75%        16.000000\n",
       "max       139.000000\n",
       "Name: delivery_estimate_discrepancy, dtype: float64"
      ]
     },
     "execution_count": 72,
     "metadata": {},
     "output_type": "execute_result"
    }
   ],
   "source": [
    "olist_train_y.describe()"
   ]
  },
  {
   "cell_type": "code",
   "execution_count": 73,
   "id": "ef450b67",
   "metadata": {},
   "outputs": [
    {
     "data": {
      "text/plain": [
       "26.0"
      ]
     },
     "execution_count": 73,
     "metadata": {},
     "output_type": "execute_result"
    }
   ],
   "source": [
    "olist_train_y.quantile(0.95)"
   ]
  },
  {
   "cell_type": "code",
   "execution_count": 74,
   "id": "59fbee52",
   "metadata": {},
   "outputs": [
    {
     "data": {
      "text/plain": [
       "{'bodies': [<matplotlib.collections.PolyCollection at 0x201eeb41460>],\n",
       " 'cmeans': <matplotlib.collections.LineCollection at 0x201eeb1f1c0>,\n",
       " 'cmaxes': <matplotlib.collections.LineCollection at 0x201eeb086d0>,\n",
       " 'cmins': <matplotlib.collections.LineCollection at 0x201eeb08040>,\n",
       " 'cbars': <matplotlib.collections.LineCollection at 0x201eeb02df0>}"
      ]
     },
     "execution_count": 74,
     "metadata": {},
     "output_type": "execute_result"
    },
    {
     "data": {
      "image/png": "[encoded data removed]",
      "text/plain": [
       "<Figure size 432x288 with 1 Axes>"
      ]
     },
     "metadata": {
      "needs_background": "light"
     },
     "output_type": "display_data"
    }
   ],
   "source": [
    "plt.violinplot(olist_train_y, showmeans=True)"
   ]
  },
  {
   "cell_type": "markdown",
   "id": "8df9fdb6",
   "metadata": {},
   "source": [
    "#### <span style='color:blue'>Create the categorical y training variable of customer reviews to be either 'late' = 1,'on time' = 2, 'early' = 3</span>"
   ]
  },
  {
   "cell_type": "code",
   "execution_count": 75,
   "id": "764b1821",
   "metadata": {},
   "outputs": [
    {
     "data": {
      "text/plain": [
       "count     9600\n",
       "unique       3\n",
       "top          3\n",
       "freq      8513\n",
       "Name: delivery_estimate_discrepancy, dtype: int64"
      ]
     },
     "execution_count": 75,
     "metadata": {},
     "output_type": "execute_result"
    }
   ],
   "source": [
    "olist_train_y_range = pd.cut(olist_train_y, [-200, -2, 2, 210], 3, labels=[1,2,3]) # this creates a new variable\n",
    "olist_train_y_range.describe()\n",
    "#'late' = 1,'on target' = 2, 'early' = 3"
   ]
  },
  {
   "cell_type": "code",
   "execution_count": 76,
   "id": "41866e77",
   "metadata": {},
   "outputs": [
    {
     "data": {
      "text/plain": [
       "3    8513\n",
       "1     573\n",
       "2     514\n",
       "Name: delivery_estimate_discrepancy, dtype: int64"
      ]
     },
     "execution_count": 76,
     "metadata": {},
     "output_type": "execute_result"
    }
   ],
   "source": [
    "#Sanity check for any null values as a result of the cut process.\n",
    "olist_train_y_range.value_counts()"
   ]
  },
  {
   "cell_type": "markdown",
   "id": "7397eaf9",
   "metadata": {},
   "source": [
    "---\n",
    "#### <span style='color:blue'>Create the categorical y test variable of customer reviews to be either 'late' = 1,'on time' = 2, 'early' = 3</span>"
   ]
  },
  {
   "cell_type": "code",
   "execution_count": 77,
   "id": "f19a6e4d",
   "metadata": {},
   "outputs": [
    {
     "data": {
      "text/plain": [
       "count     2400\n",
       "unique       3\n",
       "top          3\n",
       "freq      2119\n",
       "Name: delivery_estimate_discrepancy, dtype: int64"
      ]
     },
     "execution_count": 77,
     "metadata": {},
     "output_type": "execute_result"
    }
   ],
   "source": [
    "olist_test_y_range = pd.cut(olist_test_y, [-200, -2, 2, 250], 3, labels=[1,2,3]) # this creates a new variable\n",
    "olist_test_y_range.describe()\n",
    "#'late' = 1,'on target' = 2, 'early' = 3"
   ]
  },
  {
   "cell_type": "code",
   "execution_count": 78,
   "id": "596a3874",
   "metadata": {},
   "outputs": [
    {
     "data": {
      "text/plain": [
       "0"
      ]
     },
     "execution_count": 78,
     "metadata": {},
     "output_type": "execute_result"
    }
   ],
   "source": [
    "olist_test_y_range.isna().sum()"
   ]
  },
  {
   "cell_type": "code",
   "execution_count": 79,
   "id": "b7138ca3",
   "metadata": {},
   "outputs": [
    {
     "data": {
      "text/plain": [
       "3    2119\n",
       "1     156\n",
       "2     125\n",
       "Name: delivery_estimate_discrepancy, dtype: int64"
      ]
     },
     "execution_count": 79,
     "metadata": {},
     "output_type": "execute_result"
    }
   ],
   "source": [
    "#Sanity check for any null values as a result of the cut process.\n",
    "olist_test_y_range.value_counts()"
   ]
  },
  {
   "cell_type": "markdown",
   "id": "a802eecb",
   "metadata": {},
   "source": [
    "### Normalize the feature values so that all the attributes are on the same dynamic range\n"
   ]
  },
  {
   "cell_type": "code",
   "execution_count": 80,
   "id": "1d810c21",
   "metadata": {},
   "outputs": [
    {
     "name": "stderr",
     "output_type": "stream",
     "text": [
      "C:\\Users\\justi\\anaconda3\\envs\\ML\\lib\\site-packages\\category_encoders\\utils.py:21: FutureWarning: is_categorical is deprecated and will be removed in a future version.  Use is_categorical_dtype instead\n",
      "  elif pd.api.types.is_categorical(cols):\n"
     ]
    }
   ],
   "source": [
    "#Make Y classification\n",
    "X_train_class = column_transformer.fit_transform(olist_train_noY, olist_train_y_range)\n",
    "X_test_class = column_transformer.transform(olist_test_noY)"
   ]
  },
  {
   "cell_type": "code",
   "execution_count": 81,
   "id": "54956f48",
   "metadata": {},
   "outputs": [
    {
     "name": "stdout",
     "output_type": "stream",
     "text": [
      "(9600, 13)\n",
      "(2400, 13)\n"
     ]
    }
   ],
   "source": [
    "print(X_train_class.shape)\n",
    "print(X_test_class.shape)"
   ]
  },
  {
   "cell_type": "markdown",
   "id": "6c9cbf22",
   "metadata": {},
   "source": [
    "---\n",
    "# <span style='color:blue'> **1. Create Model (50 points)** </span>\n",
    "---\n",
    "\n",
    "- Create a **logistic regression model** and a **support vector machine model** for the **classification task** involved with your dataset.  \n",
    "\n",
    "- Assess how well each model performs (use 80/20 training/testing split for your data).\n",
    "    - <span style='color:green'> ***80/20 Split performed during preprocessing above***</span>\n",
    "\n",
    "- Adjust parameters of the models to make them more accurate. If your dataset size requires the use of stochastic gradient descent, then linear kernel only is fine to use. \n",
    "    - That is, the SGDClassifier is fine to use for optimizing logistic regression and linear support vector machines.\n",
    "            -For many problems, SGD will be required in order to train the SVM model in a reasonable timeframe."
   ]
  },
  {
   "cell_type": "markdown",
   "id": "1b21b2ba",
   "metadata": {},
   "source": [
    "## <span style='color:blue'> Create a Logistic Regression classifier </span>\n"
   ]
  },
  {
   "cell_type": "code",
   "execution_count": 101,
   "id": "a283be29",
   "metadata": {},
   "outputs": [
    {
     "name": "stdout",
     "output_type": "stream",
     "text": [
      "Logistic Regression Metrics:\n",
      "LogisticRegression(C=1, class_weight='balanced', multi_class='multinomial',\n",
      "                   random_state=42, solver='newton-cg')\n",
      "              precision    recall  f1-score   support\n",
      "\n",
      "           1       0.26      0.15      0.19       156\n",
      "           2       0.06      0.14      0.08       125\n",
      "           3       0.89      0.83      0.86      2119\n",
      "\n",
      "    accuracy                           0.75      2400\n",
      "   macro avg       0.40      0.37      0.37      2400\n",
      "weighted avg       0.80      0.75      0.77      2400\n",
      "\n",
      "Wall time: 349 ms\n"
     ]
    }
   ],
   "source": [
    "%%time\n",
    "from sklearn.metrics import classification_report\n",
    "\n",
    "#Logistic regression\n",
    "logr_clf = LogisticRegression(penalty='l2', #default\n",
    "                              C=1, #default \n",
    "                              class_weight='balanced', # use with imbalanced dataset\n",
    "                              solver='newton-cg', # only solver that works with this dataset\n",
    "                              multi_class='multinomial', \n",
    "                              random_state=42) \n",
    "logr_clf.fit(X_train_class,olist_train_y_range)\n",
    "\n",
    "# Note: For multiclass problems, only ‘newton-cg’, ‘sag’, ‘saga’ and ‘lbfgs’ handle multinomial loss; \n",
    "# ‘liblinear’ is limited to one-versus-rest schemes.\n",
    "# Note: solver default lbfgs, sag and saga did not work, we hit max_iter and even set at 4000 it still did not work\n",
    "# Note: only newton-cg works\n",
    "\n",
    "#y_train_pred_class = sgd_clf.predict(X_train_class)\n",
    "yhat_lr = logr_clf.predict(X_test_class)\n",
    "\n",
    "print('Logistic Regression Metrics:')\n",
    "print(logr_clf)\n",
    "print(classification_report(olist_test_y_range, yhat_lr))"
   ]
  },
  {
   "cell_type": "markdown",
   "id": "813eb087",
   "metadata": {},
   "source": [
    "## <span style='color:blue'>Utilize RandomizedSearchCV to tune our Logistic Regression Model</span>\n",
    "\n",
    "source: https://chrisalbon.com/machine_learning/model_selection/hyperparameter_tuning_using_random_search/"
   ]
  },
  {
   "cell_type": "code",
   "execution_count": 100,
   "id": "c3f160cd",
   "metadata": {},
   "outputs": [
    {
     "name": "stdout",
     "output_type": "stream",
     "text": [
      "Wall time: 3.4 s\n"
     ]
    }
   ],
   "source": [
    "%%time\n",
    "from scipy.stats import uniform\n",
    "from sklearn.model_selection import RandomizedSearchCV\n",
    "X = X_train_class\n",
    "y = olist_train_y_range\n",
    "# create logistic Regression\n",
    "lgr = LogisticRegression(solver='newton-cg')\n",
    "\n",
    "# create regularization penalty space\n",
    "penalty = ['l2','none']  #only penalties that work with newton-cg\n",
    "\n",
    "# create regulatization hyperparameter distribution using uniform distribution\n",
    "C = uniform(loc=0, scale=4) \n",
    "\n",
    "# create hyperparameter options\n",
    "hyp = dict(C=C, penalty=penalty)\n",
    "\n",
    "# create random search, 5fold CV, 100 iterations\n",
    "clf = RandomizedSearchCV(lgr, hyp, random_state=42, n_iter=10, cv=5, verbose=0, n_jobs=-1)\n",
    "\n"
   ]
  },
  {
   "cell_type": "code",
   "execution_count": 103,
   "id": "ba403ae2",
   "metadata": {},
   "outputs": [
    {
     "name": "stdout",
     "output_type": "stream",
     "text": [
      "Wall time: 7.09 s\n"
     ]
    }
   ],
   "source": [
    "%%time\n",
    "#fit random search\n",
    "best_model = clf.fit(X,y)"
   ]
  },
  {
   "cell_type": "code",
   "execution_count": 84,
   "id": "90e40a73",
   "metadata": {},
   "outputs": [
    {
     "name": "stdout",
     "output_type": "stream",
     "text": [
      "Best Penalty: l2\n",
      "Best C: 1.7833310114143646\n",
      "Best Score:  0.9219791666666668\n",
      "Best Params:  {'C': 1.7833310114143646, 'penalty': 'l2'}\n",
      "Best Time (seconds):  0.34209752082824707\n"
     ]
    }
   ],
   "source": [
    "# view hyperparameter values of best model\n",
    "print('Best Penalty:', best_model.best_estimator_.get_params()['penalty'])\n",
    "print('Best C:', best_model.best_estimator_.get_params()['C'])\n",
    "print('Best Score: ', best_model.best_score_) \n",
    "print('Best Params: ', best_model.best_params_)\n",
    "print('Best Time (seconds): ', best_model.refit_time_)"
   ]
  },
  {
   "cell_type": "code",
   "execution_count": 85,
   "id": "f3c2f52d",
   "metadata": {},
   "outputs": [
    {
     "name": "stdout",
     "output_type": "stream",
     "text": [
      "Best RandomSearchCV Logistic Regression Metrics:\n",
      "              precision    recall  f1-score   support\n",
      "\n",
      "           1       0.32      0.08      0.13       156\n",
      "           2       0.06      0.01      0.01       125\n",
      "           3       0.89      0.98      0.93      2119\n",
      "\n",
      "    accuracy                           0.87      2400\n",
      "   macro avg       0.42      0.36      0.36      2400\n",
      "weighted avg       0.81      0.87      0.83      2400\n",
      "\n"
     ]
    }
   ],
   "source": [
    "# predict using best model\n",
    "yhat = best_model.predict(X_test_class)\n",
    "\n",
    "print('Best RandomSearchCV Logistic Regression Metrics:')\n",
    "print(classification_report(olist_test_y_range, yhat, zero_division=0))"
   ]
  },
  {
   "cell_type": "markdown",
   "id": "7fa01a34",
   "metadata": {},
   "source": [
    "## <span style='color:blue'> Basic SVM Model</span>"
   ]
  },
  {
   "cell_type": "code",
   "execution_count": 96,
   "id": "ea550a33",
   "metadata": {},
   "outputs": [
    {
     "name": "stdout",
     "output_type": "stream",
     "text": [
      "Wall time: 51.5 ms\n"
     ]
    }
   ],
   "source": [
    "%%time\n",
    "# Basic SVM Model\n",
    "\n",
    "from sklearn.linear_model import SGDClassifier\n",
    "\n",
    "sgd_clf = SGDClassifier(random_state=42)\n",
    "sgd_clf.fit(X_train_class, olist_train_y_range)\n",
    "\n",
    "#y_train_pred_class = sgd_clf.predict(X_train_class)\n",
    "yhat_svm = sgd_clf.predict(X_test_class)"
   ]
  },
  {
   "cell_type": "code",
   "execution_count": 87,
   "id": "0792ba40",
   "metadata": {},
   "outputs": [
    {
     "name": "stdout",
     "output_type": "stream",
     "text": [
      "Logistic Regression Metrics:\n",
      "SGDClassifier(random_state=42)\n",
      "              precision    recall  f1-score   support\n",
      "\n",
      "           1       0.26      0.09      0.13       156\n",
      "           2       0.00      0.00      0.00       125\n",
      "           3       0.89      0.98      0.93      2119\n",
      "\n",
      "    accuracy                           0.87      2400\n",
      "   macro avg       0.38      0.36      0.36      2400\n",
      "weighted avg       0.80      0.87      0.83      2400\n",
      "\n"
     ]
    }
   ],
   "source": [
    "# SVM with SD Metrics\n",
    "print('Logistic Regression Metrics:')\n",
    "print(sgd_clf)\n",
    "print(classification_report(olist_test_y_range, yhat_svm, zero_division=0))"
   ]
  },
  {
   "cell_type": "markdown",
   "id": "978b8c54",
   "metadata": {},
   "source": [
    "## <span style='color:blue'>Utilize RandomizedSearchCV to tune our SVM Model</span>"
   ]
  },
  {
   "cell_type": "code",
   "execution_count": 97,
   "id": "f0734330",
   "metadata": {},
   "outputs": [
    {
     "name": "stdout",
     "output_type": "stream",
     "text": [
      "Fitting 5 folds for each of 100 candidates, totalling 500 fits\n",
      "Wall time: 12.9 s\n"
     ]
    }
   ],
   "source": [
    "%%time\n",
    "from sklearn.linear_model import SGDClassifier \n",
    "from sklearn.model_selection import RandomizedSearchCV \n",
    "\n",
    "# create variable dictionaries\n",
    "loss = ['hinge', 'log', 'modified_huber', 'squared_hinge']\n",
    "penalty = ['l1', 'l2', 'elasticnet'] \n",
    "alpha = [0.0001, 0.001, 0.01, 0.1, 1, 10, 100, 1000] \n",
    "learning_rate = ['constant', 'optimal', 'invscaling', 'adaptive'] \n",
    "eta0 = [1, 10, 100] \n",
    "\n",
    "# create hyperparameter options\n",
    "param_distributions = dict(loss=loss, \n",
    "                           penalty=penalty, \n",
    "                           alpha=alpha, \n",
    "                           learning_rate=learning_rate, \n",
    "                           eta0=eta0)\n",
    "\n",
    "# create the classifier\n",
    "sgd = SGDClassifier(early_stopping=True, validation_fraction=0.15, max_iter=100, class_weight = \"balanced\") \n",
    "\n",
    "# create RandomizedSearchCV\n",
    "random = RandomizedSearchCV(estimator=sgd,\n",
    "                            param_distributions=param_distributions, \n",
    "                            verbose=1, \n",
    "                            n_iter=100, \n",
    "                            n_jobs=-1) \n",
    "random_result = random.fit(X_train_class,olist_train_y_range) "
   ]
  },
  {
   "cell_type": "code",
   "execution_count": 98,
   "id": "c721accf",
   "metadata": {},
   "outputs": [
    {
     "name": "stdout",
     "output_type": "stream",
     "text": [
      "Best Score:  0.9135416666666666\n",
      "Best Params:  {'penalty': 'elasticnet', 'loss': 'log', 'learning_rate': 'optimal', 'eta0': 1, 'alpha': 0.001}\n",
      "Best Time (seconds):  0.06302404403686523\n",
      "Wall time: 0 ns\n"
     ]
    }
   ],
   "source": [
    "%%time\n",
    "# Print Best Results\n",
    "print('Best Score: ', random_result.best_score_) \n",
    "print('Best Params: ', random_result.best_params_)\n",
    "print('Best Time (seconds): ', random_result.refit_time_)"
   ]
  },
  {
   "cell_type": "code",
   "execution_count": 99,
   "id": "2505fc1e",
   "metadata": {},
   "outputs": [
    {
     "name": "stdout",
     "output_type": "stream",
     "text": [
      "Best Random SVM SD Metrics:\n",
      "              precision    recall  f1-score   support\n",
      "\n",
      "           1       0.30      0.17      0.22       156\n",
      "           2       0.00      0.00      0.00       125\n",
      "           3       0.89      0.96      0.93      2119\n",
      "\n",
      "    accuracy                           0.86      2400\n",
      "   macro avg       0.40      0.38      0.38      2400\n",
      "weighted avg       0.81      0.86      0.83      2400\n",
      "\n",
      "Wall time: 9.02 ms\n"
     ]
    }
   ],
   "source": [
    "%%time\n",
    "# predict using best model\n",
    "yhat_rand_svm = random_result.predict(X_test_class)\n",
    "\n",
    "print('Best Random SVM SD Metrics:')\n",
    "print(classification_report(olist_test_y_range, yhat_rand_svm, zero_division=0))"
   ]
  },
  {
   "cell_type": "markdown",
   "id": "cd39e12b",
   "metadata": {},
   "source": [
    "## <span style='color:blue'> Model Advantages (10 points) </span>\n",
    "Discuss the advantages of each model for each classification task. Does one type of model offer superior performance over another in terms of prediction accuracy? In terms of training time or efficiency? Explain in detail.\n",
    "\n",
    "**Discussion:**\n",
    "* In order to save time, we sampled 12,000 of our original 114,066 records.\n",
    "* We utilized and 80/20 test-train split\n",
    "* We used intuitive feature reduction prior to training the model to reduce computational resources and time and put some thought into what features would ideally contribute to a product arriving by it’s estimated arrival date. While it may seem intuitive to just assume comparing the estimated arrival date and the actual arrival date would suffice, we thought about how people perceive estimated delivery times from couriers. For example, if I can pay for a package to be overnighted from Dallas to Austin and pay a premium rate; however, I also know that generally I can just pay the ground shipping rate the and the package will show up with 1-2 days rather than the estimated 5-7 days, so that is why we wanted to really have features that contributed to determining if a package was truly late, on time or early.\n",
    "* We ran 2 basic models using only minimal tuning for multinomial classification and 2 refitted models using RandomizedSearchCV for tuning.\n",
    "* We used multinomial classification to classify if packages were late, on time or early to olist customers\n",
    "* Basic Logistical Regression is the only model that was able to categorize deliveries that were made on-time (value #2) with a precision of 6%. It also had precision of 26% for late deliveries and 89% for early deliveries which makes sense since early deliveries had the largest representation in the dataset, followed by late deliveries and then on time deliveries. The overall precision was 75%. \n",
    "* Refitted using RandomizedSearchCV Logistical Regression: Once we tuned the model using RandomizedSearchCV with a 5-fold validation, the best model also correctly classifies on time deliveries 6% of the time, late deliveries 32% of the time and early deliveries 89% with and overall accuracy of 87%. So we saw some improvement with correctly categorizing the late deliveries and the overall accuracy.\n",
    " * SVM with Stochastic Descent with minor tuning to handle multinomial classification returned an overall accuracy of 87%, but failed to correctly classify any on time packages. This model had the same precision for late deliveries – 26% and early deliveries- 89%, but saw an increase in the recall for early deliveries, signaling an overfit at 98% with only 9% recall for late deliveries and no recall for on time deliveries. The overall accuracy was 87% and on par with the overall accuracy from the tuned logistal regression model (also at 87%).\n",
    "* Reffited SVM with Stochastic Descent: we again utilized RandomizedSearchCV to tune our SVM with stochastic decent that  maintaining an overall accuracy of 86% that was slightly lower than the untraining SVM (87% accuracy) and the training logistical regression model (87%). The precision was better for categorizing late deliveries (30%) compared to the untrained SVM (26%), but lower than the training logistic regression model (32%); however, the recall for late deliveries classification was the highest for the trained SVM (17%) compared to the 2nd best recall for late deliveries (15%) from the untrained logistical regression model.\n",
    "* Time - we found the best time for a model was the RandomizedSearchCV trained SVM at 0.06 seconds compared to 0.33 seconds for the best trained logistical regression model that also used RandomizedSearchCV. \n",
    "\n",
    "\n"
   ]
  },
  {
   "cell_type": "code",
   "execution_count": 102,
   "id": "8161ffc9",
   "metadata": {},
   "outputs": [
    {
     "name": "stdout",
     "output_type": "stream",
     "text": [
      "\n",
      "================================================================\n",
      "\n",
      "=== Logistic Regression Metrics using minor tuning for class_weight, solver ===\n",
      "LogisticRegression(C=1, class_weight='balanced', multi_class='multinomial',\n",
      "                   random_state=42, solver='newton-cg')\n",
      "              precision    recall  f1-score   support\n",
      "\n",
      "           1       0.26      0.15      0.19       156\n",
      "           2       0.06      0.14      0.08       125\n",
      "           3       0.89      0.83      0.86      2119\n",
      "\n",
      "    accuracy                           0.75      2400\n",
      "   macro avg       0.40      0.37      0.37      2400\n",
      "weighted avg       0.80      0.75      0.77      2400\n",
      "\n",
      "\n",
      "================================================================\n",
      "\n",
      "=== Best RandomSearchCV Logistic Regression Metrics ===\n",
      "\n",
      "Best Penalty: l2\n",
      "Best C: 1.7833310114143646\n",
      "Best Score:  0.9219791666666668\n",
      "Best Params:  {'C': 1.7833310114143646, 'penalty': 'l2'}\n",
      "Best Time (seconds):  0.33106517791748047\n",
      "              precision    recall  f1-score   support\n",
      "\n",
      "           1       0.32      0.08      0.13       156\n",
      "           2       0.06      0.01      0.01       125\n",
      "           3       0.89      0.98      0.93      2119\n",
      "\n",
      "    accuracy                           0.87      2400\n",
      "   macro avg       0.42      0.36      0.36      2400\n",
      "weighted avg       0.81      0.87      0.83      2400\n",
      "\n",
      "\n",
      "================================================================\n",
      "\n",
      "=== SVM with Stochastic Descent  Metrics ===\n",
      "\n",
      "              precision    recall  f1-score   support\n",
      "\n",
      "           1       0.26      0.09      0.13       156\n",
      "           2       0.00      0.00      0.00       125\n",
      "           3       0.89      0.98      0.93      2119\n",
      "\n",
      "    accuracy                           0.87      2400\n",
      "   macro avg       0.38      0.36      0.36      2400\n",
      "weighted avg       0.80      0.87      0.83      2400\n",
      "\n",
      "\n",
      "================================================================\n",
      "\n",
      "=== Best RandomSeachCV SVM-SD Metrics ===\n",
      "\n",
      "Best Score:  0.9135416666666666\n",
      "Best Params:  {'penalty': 'elasticnet', 'loss': 'log', 'learning_rate': 'optimal', 'eta0': 1, 'alpha': 0.001}\n",
      "Best Time (seconds):  0.06302404403686523\n",
      "              precision    recall  f1-score   support\n",
      "\n",
      "           1       0.30      0.17      0.22       156\n",
      "           2       0.00      0.00      0.00       125\n",
      "           3       0.89      0.96      0.93      2119\n",
      "\n",
      "    accuracy                           0.86      2400\n",
      "   macro avg       0.40      0.38      0.38      2400\n",
      "weighted avg       0.81      0.86      0.83      2400\n",
      "\n"
     ]
    }
   ],
   "source": [
    "print('\\n================================================================\\n')\n",
    "print('=== Logistic Regression Metrics using minor tuning for class_weight, solver ===')\n",
    "print(logr_clf)\n",
    "print(classification_report(olist_test_y_range, yhat_lr))\n",
    "\n",
    "print('\\n================================================================\\n')\n",
    "print('=== Best RandomSearchCV Logistic Regression Metrics ===\\n')\n",
    "print('Best Penalty:', best_model.best_estimator_.get_params()['penalty'])\n",
    "print('Best C:', best_model.best_estimator_.get_params()['C'])\n",
    "print('Best Score: ', best_model.best_score_) \n",
    "print('Best Params: ', best_model.best_params_)\n",
    "print('Best Time (seconds): ', best_model.refit_time_)\n",
    "print(classification_report(olist_test_y_range, yhat, zero_division=0))\n",
    "\n",
    "print('\\n================================================================\\n')\n",
    "print('=== SVM with Stochastic Descent  Metrics ===\\n')\n",
    "print(classification_report(olist_test_y_range, yhat_svm, zero_division=0))\n",
    "\n",
    "print('\\n================================================================\\n')\n",
    "print('=== Best RandomSeachCV SVM-SD Metrics ===\\n')\n",
    "print('Best Score: ', random_result.best_score_) \n",
    "print('Best Params: ', random_result.best_params_)\n",
    "print('Best Time (seconds): ', random_result.refit_time_)\n",
    "print(classification_report(olist_test_y_range, yhat_rand_svm, zero_division=0))\n",
    "\n",
    "### <span style='color:blue'> **Discssion** </span>\n"
   ]
  },
  {
   "cell_type": "markdown",
   "id": "2c7348f2",
   "metadata": {},
   "source": [
    "# <span style='color:blue'> 3. Interpret Feature Importance (30 points) </span>\n",
    "\n",
    "- Use the weights from logistic regression to interpret the importance of different features for the classification task.\n",
    "- Explain your interpretation in detail. Why do you think some variables are more important?"
   ]
  },
  {
   "cell_type": "code",
   "execution_count": 93,
   "id": "7106de18",
   "metadata": {},
   "outputs": [
    {
     "name": "stdout",
     "output_type": "stream",
     "text": [
      "payment_sequential has weight of -0.13084004686179967\n",
      "product_category_english has weight of -0.03534961810672845\n",
      "seller_zip_code_prefix has weight of -0.06387222701398564\n",
      "seller_city has weight of 0.11571955797379954\n",
      "tot_order_amt has weight of 0.04782415247409077\n",
      "freight_value has weight of 0.8354169284167732\n",
      "product_dimensions has weight of -0.20157579701052292\n",
      "review_score_class has weight of -0.6338483151512078\n",
      "product_weight_g has weight of -0.4815554858695193\n",
      "customer_city has weight of -5.231658915935248\n",
      "customer_zip_code_prefix has weight of -0.16933532811479401\n",
      "order_approved_at has weight of -3.16006236961991\n"
     ]
    }
   ],
   "source": [
    "# iterate over the coefficients\n",
    "weights = logr_clf.coef_.T # take transpose to make a column vector\n",
    "variable_names = olist_train_noY.columns\n",
    "for coef, name in zip(weights,variable_names):\n",
    "    print(name, 'has weight of', coef[0])"
   ]
  },
  {
   "cell_type": "code",
   "execution_count": 94,
   "id": "46a52cf5",
   "metadata": {},
   "outputs": [
    {
     "name": "stdout",
     "output_type": "stream",
     "text": [
      "payment_sequential has odds ratios of 0.877358099349352\n",
      "product_category_english has odds ratios of 0.9652678821275477\n",
      "seller_zip_code_prefix has odds ratios of 0.9381248588876469\n",
      "seller_city has odds ratios of 1.1226809810518692\n",
      "tot_order_amt has odds ratios of 1.0489861774809368\n",
      "freight_value has odds ratios of 2.305775191109076\n",
      "product_dimensions has odds ratios of 0.8174416155811239\n",
      "review_score_class has odds ratios of 0.5305461585726431\n",
      "product_weight_g has odds ratios of 0.6178216311803427\n",
      "customer_city has odds ratios of 0.005344651616610198\n",
      "customer_zip_code_prefix has odds ratios of 0.8442257632826068\n",
      "order_approved_at has odds ratios of 0.04242309508568149\n"
     ]
    }
   ],
   "source": [
    "# iterate over the coefficients\n",
    "weights = np.exp(logr_clf.coef_).T # take transpose to make a column vector\n",
    "variable_names = olist_train_noY.columns\n",
    "for coef, name in zip(weights,variable_names):\n",
    "    print(name, 'has odds ratios of', coef[0])"
   ]
  },
  {
   "cell_type": "code",
   "execution_count": null,
   "id": "11513cc5",
   "metadata": {},
   "outputs": [],
   "source": [
    "from sklearn.linear_model import SGDClassifier\n",
    "sgd_clf = SGDClassifier(random_state=42)\n",
    "sgd_clf.fit(X_train_class,olist_train_y_range)"
   ]
  },
  {
   "cell_type": "code",
   "execution_count": null,
   "id": "90649ecd",
   "metadata": {},
   "outputs": [],
   "source": [
    "#y_train_pred_class = sgd_clf.predict(X_train_class)\n",
    "y_test_pred_class = sgd_clf.predict(X_test_class)"
   ]
  },
  {
   "cell_type": "code",
   "execution_count": null,
   "id": "6bcfc6ae",
   "metadata": {},
   "outputs": [],
   "source": [
    "#Logitstic regression\n",
    "logr_clf = LogisticRegression(penalty='l2', C=0.05, class_weight='balanced', solver='saga', \n",
    "                              multi_class='multinomial', random_state=42) # get object\n",
    "logr_clf.fit(X_train_class,olist_train_y_range)"
   ]
  },
  {
   "cell_type": "code",
   "execution_count": null,
   "id": "406274fb",
   "metadata": {},
   "outputs": [],
   "source": [
    "#Support Vector Machine Classifyer\n",
    "from sklearn.svm import LinearSVC\n",
    "svm_clf = LinearSVC(C=0.5, loss=\"hinge\")\n",
    "svm_clf.fit(X_train_class,olist_train_y_range)"
   ]
  },
  {
   "cell_type": "code",
   "execution_count": null,
   "id": "501c7660",
   "metadata": {},
   "outputs": [],
   "source": [
    "# lets investigate SVMs on the data and play with the parameters and kernels\n",
    "from sklearn.svm import SVC\n",
    "\n",
    "# train the model just as before\n",
    "svc_clf = SVC(C=0.5, kernel='rbf', degree=3, gamma='auto') # get object\n",
    "svc_clf.fit(X_train_class,olist_train_y_range)  # train object\n",
    "\n",
    "\n",
    "#acc = mt.accuracy_score(y_test,y_hat)\n",
    "#conf = mt.confusion_matrix(y_test,y_hat)\n",
    "#print('accuracy:', acc )\n",
    "#print(conf)"
   ]
  },
  {
   "cell_type": "code",
   "execution_count": null,
   "id": "8a4aefbd",
   "metadata": {},
   "outputs": [],
   "source": [
    "#Predict SVc\n",
    "y_test_pred_svc = svc_clf.predict(X_test_class)"
   ]
  },
  {
   "cell_type": "markdown",
   "id": "a66ed7cb",
   "metadata": {},
   "source": [
    "#### Grid search for the hyperparameters\n",
    "\n"
   ]
  },
  {
   "cell_type": "code",
   "execution_count": null,
   "id": "6ff2e290",
   "metadata": {},
   "outputs": [],
   "source": [
    "from sklearn.model_selection import GridSearchCV\n",
    "\n",
    "params = {\n",
    "    \"loss\" : [\"hinge\", \"log\", \"squared_hinge\", \"modified_huber\"],\n",
    "    \"alpha\" : [0.0001, 0.001, 0.01, 0.1],\n",
    "    \"penalty\" : [\"l2\", \"l1\", \"none\"],\n",
    "    \"solver\" : [\"\"]\n",
    "}\n",
    "\n",
    "model = SGDClassifier(max_iter=1000)\n",
    "clf = GridSearchCV(model, param_grid=params)\n",
    "#X = data[:, 1:]  # all rows, no label\n",
    "#y = data[:, 0]  # all rows, label only\n",
    "clf.fit(X_train_class,olist_train_y_range)\n",
    "print(clf.best_score_)"
   ]
  },
  {
   "cell_type": "code",
   "execution_count": null,
   "id": "4946a90f",
   "metadata": {},
   "outputs": [],
   "source": [
    "#Search method 2\n",
    "from sklearn.linear_model import SGDClassifier \n",
    "from sklearn.model_selection import RandomizedSearchCV \n",
    "loss = ['hinge', 'log', 'modified_huber', 'squared_hinge']\n",
    "penalty = ['l1', 'l2', 'elasticnet'] \n",
    "alpha = [0.0001, 0.001, 0.01, 0.1, 1, 10, 100, 1000] \n",
    "learning_rate = ['constant', 'optimal', 'invscaling', 'adaptive'] \n",
    "#class_weight = [{1:0.5, 0:0.5}, {1:0.4, 0:0.6}, {1:0.6, 0:0.4}, {1:0.7, 0:0.3}]\n",
    "eta0 = [1, 10, 100] \n",
    "param_distributions = dict(loss=loss, \n",
    "penalty=penalty, \n",
    "alpha=alpha, \n",
    "learning_rate=learning_rate, \n",
    "eta0=eta0) "
   ]
  },
  {
   "cell_type": "code",
   "execution_count": null,
   "id": "6336dc7a",
   "metadata": {
    "scrolled": true
   },
   "outputs": [],
   "source": [
    "sgd = SGDClassifier(early_stopping=True, validation_fraction=0.15, max_iter=1000, class_weight = \"balanced\") \n",
    "random = RandomizedSearchCV(estimator=sgd, \n",
    "param_distributions=param_distributions, \n",
    "scoring='roc_auc', \n",
    "verbose=1, n_jobs=-1, \n",
    "n_iter=1000) \n",
    "random_result = random.fit(X_train_class,olist_train_y_range) \n",
    "print('Best Score: ', random_result.best_score_) \n",
    "print('Best Params: ', random_result.best_params_) "
   ]
  },
  {
   "cell_type": "code",
   "execution_count": null,
   "id": "f82f0288",
   "metadata": {},
   "outputs": [],
   "source": [
    "from sklearn.linear_model import SGDClassifier\n",
    "sgd_clf_search = SGDClassifier(loss='modified_huber', penalty='l2',\n",
    "                               learning_rate='invscaling', eta0=1, alpha=0.1, random_state=42)\n",
    "sgd_clf_search.fit(X_train_class,olist_train_y_range)"
   ]
  },
  {
   "cell_type": "code",
   "execution_count": null,
   "id": "992b2839",
   "metadata": {},
   "outputs": [],
   "source": [
    "#y_train_pred_class = sgd_clf_search.predict(X_train_class)\n",
    "y_test_pred_class_sdg_search = sgd_clf_search.predict(X_test_class)"
   ]
  },
  {
   "cell_type": "code",
   "execution_count": null,
   "id": "8948c292",
   "metadata": {},
   "outputs": [],
   "source": [
    "#y_train_pred_class = sgd_clf_search.predict(X_train_class)\n",
    "y_test_pred_class_lr = logr_clf.predict(X_test_class)"
   ]
  },
  {
   "cell_type": "code",
   "execution_count": null,
   "id": "e322239d",
   "metadata": {},
   "outputs": [],
   "source": [
    "#Predict SVM\n",
    "y_test_pred_svm_lr = svm_clf.predict(X_test_class)"
   ]
  },
  {
   "cell_type": "code",
   "execution_count": null,
   "id": "3d4a57b3",
   "metadata": {},
   "outputs": [],
   "source": [
    "#Accuracy\n",
    "from sklearn.metrics import accuracy_score\n",
    "from sklearn.metrics import precision_recall_fscore_support"
   ]
  },
  {
   "cell_type": "code",
   "execution_count": null,
   "id": "92c69627",
   "metadata": {},
   "outputs": [],
   "source": [
    "#Train-test log R, accuracy\n",
    "accuracy_score(olist_test_y_range, y_test_pred_class_lr)"
   ]
  },
  {
   "cell_type": "code",
   "execution_count": null,
   "id": "68e41a0a",
   "metadata": {},
   "outputs": [],
   "source": [
    "#Train-test log R\n",
    "precision_recall_fscore_support(olist_test_y_range, y_test_pred_class_lr, average='weighted')"
   ]
  },
  {
   "cell_type": "code",
   "execution_count": null,
   "id": "01ff716b",
   "metadata": {
    "scrolled": true
   },
   "outputs": [],
   "source": [
    "#Train-test SGD search\n",
    "precision_recall_fscore_support(olist_test_y_range, y_test_pred_class_sdg_search, average='weighted')"
   ]
  },
  {
   "cell_type": "code",
   "execution_count": null,
   "id": "e4b37740",
   "metadata": {
    "scrolled": false
   },
   "outputs": [],
   "source": [
    "#Performance metric for SVM\n",
    "precision_recall_fscore_support(olist_test_y_range, y_test_pred_svm_lr, average='weighted')"
   ]
  },
  {
   "cell_type": "code",
   "execution_count": null,
   "id": "72fa6c8f",
   "metadata": {},
   "outputs": [],
   "source": [
    "#Performance metric for SVC\n",
    "precision_recall_fscore_support(olist_test_y_range, y_test_pred_svc, average='weighted')"
   ]
  },
  {
   "cell_type": "code",
   "execution_count": null,
   "id": "c59af39a",
   "metadata": {},
   "outputs": [],
   "source": [
    "print(svm_clf.coef_)\n",
    "weights = pd.Series(svm_clf.coef_[0],index=olist_class2.columns)\n",
    "weights.plot(kind='bar')"
   ]
  },
  {
   "cell_type": "code",
   "execution_count": null,
   "id": "536cd817",
   "metadata": {
    "scrolled": true
   },
   "outputs": [],
   "source": [
    "# look at the support vectors\n",
    "print(svc_clf.support_vectors_.shape)\n",
    "print(svc_clf.support_.shape)\n",
    "print(svc_clf.n_support_ )"
   ]
  },
  {
   "cell_type": "code",
   "execution_count": null,
   "id": "429eef72",
   "metadata": {
    "scrolled": true
   },
   "outputs": [],
   "source": [
    "print(svc_clf.support_vectors_)"
   ]
  },
  {
   "cell_type": "code",
   "execution_count": null,
   "id": "ec9f3a41",
   "metadata": {},
   "outputs": [],
   "source": [
    "olist_train.info()"
   ]
  },
  {
   "cell_type": "markdown",
   "id": "118a1cf7",
   "metadata": {},
   "source": [
    "# <span style='color:blue'> 4. Interpret support vectors </span>\n",
    "\n",
    "- Look at the chosen support vectors for the classification task. \n",
    "- Do these provide any insight into the data? Explain. \n",
    "- If you used stochastic gradient descent (and therefore did not explicitly solve for support vectors), try subsampling your data to train the SVC model\n",
    "    - then analyze the support vectors from the subsampled dataset."
   ]
  },
  {
   "cell_type": "markdown",
   "id": "34efcf64",
   "metadata": {},
   "source": [
    "### SVM\n",
    "\n",
    "- Weights  \n",
    "*Freight Value*, *product_dimensions* and *review_score_class* have the highest weight in determining the separating hyperplane of the fitted dataset with respect to the actual_delivery_duration class labels.\n",
    "- This is agreeable with business factors that influence the delivery of an order and the previously identifed customer satisfaction metric.\n",
    "- Note that the previosly, linear correlation heatmap show that review score has the strongest correlation with actual_delivery_duration.\n",
    "- The dimension of a package and freight_value might have multi-colinearity issues but both could easily have effect on the logistics of a package delivery.\n",
    "- I am surprised that Seller's city, zip code and customer zip codes do not have as high weights as well. Especially given that logistic regression model preorted significant odds ratios for these factors."
   ]
  },
  {
   "cell_type": "code",
   "execution_count": null,
   "id": "295f052d",
   "metadata": {},
   "outputs": [],
   "source": []
  },
  {
   "cell_type": "markdown",
   "id": "144e411c",
   "metadata": {},
   "source": [
    "##### Another attempt at SVM for visualization purpose\n",
    "- Here is attempt to pre-process the dataset another to see I can obtain some intuitive SVM support vector plots."
   ]
  },
  {
   "cell_type": "code",
   "execution_count": null,
   "id": "de714976",
   "metadata": {
    "scrolled": true
   },
   "outputs": [],
   "source": [
    "olist_train_noY.info()"
   ]
  },
  {
   "cell_type": "code",
   "execution_count": null,
   "id": "3a4c1f28",
   "metadata": {},
   "outputs": [],
   "source": []
  },
  {
   "cell_type": "code",
   "execution_count": null,
   "id": "85900798",
   "metadata": {},
   "outputs": [],
   "source": [
    "olist_train_noY.head()"
   ]
  },
  {
   "cell_type": "code",
   "execution_count": null,
   "id": "9bcfb6b3",
   "metadata": {},
   "outputs": [],
   "source": [
    "olist_train_cat = ['product_category_english', 'seller_city', 'review_score_class', 'customer_city']\n",
    "olist_train_cat_num = ['product_category_english_num', 'seller_city_num', 'review_score_class_num', 'customer_city_num']"
   ]
  },
  {
   "cell_type": "code",
   "execution_count": null,
   "id": "1a8661ad",
   "metadata": {},
   "outputs": [],
   "source": [
    "olist_class2 = olist_class[['payment_sequential', 'product_category_english', \n",
    "                            'seller_zip_code_prefix','seller_city', 'tot_order_amt', \n",
    "                            'freight_value', 'product_dimensions', 'review_score_class', 'product_weight_g', 'customer_city',\n",
    "                            'customer_zip_code_prefix','order_approved_at', 'order_delivery_actual_duration']]"
   ]
  },
  {
   "cell_type": "code",
   "execution_count": null,
   "id": "0cb68d09",
   "metadata": {},
   "outputs": [],
   "source": [
    "olist_train_noY2 = olist_train_noY.copy()"
   ]
  },
  {
   "cell_type": "code",
   "execution_count": null,
   "id": "0683436d",
   "metadata": {},
   "outputs": [],
   "source": [
    "for i in olist_train_cat:\n",
    "    for j in olist_train_cat_num:\n",
    "        olist_train_noY2[j] = olist_train_noY2[i].copy().astype(\"category\").cat.codes\n",
    "        "
   ]
  },
  {
   "cell_type": "code",
   "execution_count": null,
   "id": "2099528c",
   "metadata": {},
   "outputs": [],
   "source": [
    "olist_train_noY2['order_approved_at_num'] = olist_train_noY2['order_approved_at'].copy().astype(\"category\").cat.codes"
   ]
  },
  {
   "cell_type": "code",
   "execution_count": null,
   "id": "bd02f02d",
   "metadata": {},
   "outputs": [],
   "source": [
    "del olist_train_noY2['order_approved_at']\n",
    "olist_train_noY2.head()"
   ]
  },
  {
   "cell_type": "code",
   "execution_count": null,
   "id": "2ae7ca66",
   "metadata": {},
   "outputs": [],
   "source": [
    "for i in olist_train_cat:\n",
    "    if i in olist_train_noY2:\n",
    "        del olist_train_noY2[i]"
   ]
  },
  {
   "cell_type": "code",
   "execution_count": null,
   "id": "0ee8889a",
   "metadata": {},
   "outputs": [],
   "source": [
    "olist_train_noY2.head()"
   ]
  },
  {
   "cell_type": "code",
   "execution_count": null,
   "id": "8aa72c92",
   "metadata": {},
   "outputs": [],
   "source": [
    "olist_train_noY2.info()"
   ]
  },
  {
   "cell_type": "code",
   "execution_count": null,
   "id": "6309013c",
   "metadata": {},
   "outputs": [],
   "source": [
    "#Convert the new to categories as normal\n",
    "for j in olist_train_cat_num:\n",
    "    olist_train_noY2[j] = olist_train_noY2[j].astype(\"category\")"
   ]
  },
  {
   "cell_type": "code",
   "execution_count": null,
   "id": "9a7518fc",
   "metadata": {},
   "outputs": [],
   "source": [
    "olist_train_noY2.info()"
   ]
  },
  {
   "cell_type": "code",
   "execution_count": null,
   "id": "96aca3d7",
   "metadata": {},
   "outputs": [],
   "source": [
    "# lets investigate SVMs on the data and play with the parameters and kernels\n",
    "from sklearn.svm import SVC\n",
    "\n",
    "# train the model just as before\n",
    "svm_clf = SVC(C=0.5, kernel='rbf', degree=3, gamma='auto') # get object\n",
    "svm_clf.fit(olist_train_noY2, olist_train_y_range)  # train object"
   ]
  },
  {
   "cell_type": "code",
   "execution_count": null,
   "id": "f54ba992",
   "metadata": {},
   "outputs": [],
   "source": []
  },
  {
   "cell_type": "code",
   "execution_count": null,
   "id": "a8d7a4d7",
   "metadata": {},
   "outputs": [],
   "source": []
  },
  {
   "cell_type": "code",
   "execution_count": null,
   "id": "8e460976",
   "metadata": {},
   "outputs": [],
   "source": []
  },
  {
   "cell_type": "code",
   "execution_count": null,
   "id": "016607db",
   "metadata": {},
   "outputs": [],
   "source": []
  },
  {
   "cell_type": "markdown",
   "id": "676213be",
   "metadata": {},
   "source": [
    "## 2. Model Advantages (10 points)\n",
    "Discuss the advantages of each model for each classification task. Does one type of model offer superior performance over another in terms of prediction accuracy? In terms of training time or efficiency? Explain in detail.\n",
    "\n",
    "- Accuracy increased significantly when I manually reduced the C value from 1 to 0.05.\n",
    "- There was no significant changes when I reduced it to 0.5\n",
    "\n",
    "### Comment on Parameter search\n",
    "The Best Parameters suggested by the search produced a better recall at the expense of F-score.\n",
    "The grid search method took almost 2 hours to complete but I did not get a significant improvement to the performance metrics\n"
   ]
  },
  {
   "cell_type": "markdown",
   "id": "43349b04",
   "metadata": {},
   "source": [
    "# 3. Interpret Feature Importance (30 points)\n",
    "\n",
    "- Use the weights from logistic regression to interpret the importance of different features for the classification task.\n",
    "- Explain your interpretation in detail. Why do you think some variables are more important?"
   ]
  },
  {
   "cell_type": "code",
   "execution_count": null,
   "id": "8e5259ab",
   "metadata": {},
   "outputs": [],
   "source": [
    "# iterate over the coefficients\n",
    "weights = np.exp(logr_clf.coef_).T # take transpose to make a column vector\n",
    "variable_names = olist_train_noY.columns\n",
    "for coef, name in zip(weights,variable_names):\n",
    "    print(name, 'has an odd ratio of', (coef[0])) #np.exp(clf.coef_)"
   ]
  },
  {
   "cell_type": "code",
   "execution_count": null,
   "id": "96fa1a75",
   "metadata": {
    "scrolled": true
   },
   "outputs": [],
   "source": [
    "logr_clf.coef_"
   ]
  },
  {
   "cell_type": "code",
   "execution_count": null,
   "id": "917db039",
   "metadata": {
    "scrolled": true
   },
   "outputs": [],
   "source": [
    "logr_clf.coef_[0]"
   ]
  },
  {
   "cell_type": "code",
   "execution_count": null,
   "id": "b957497e",
   "metadata": {},
   "outputs": [],
   "source": [
    "olist_train_noY.info()"
   ]
  },
  {
   "cell_type": "markdown",
   "id": "33a422ad",
   "metadata": {},
   "source": [
    "#### Interpret the weights\n",
    "\n",
    "\n",
    "- We reported the exponent of the coeficients as the odds ratio.\n",
    "- The odds ratio of a coefficient indicates how the risk of the outcome falling in the comparison group compared to the risk of the outcome falling in the referent group changes with the variable in question. \n",
    "\n",
    "- An odds ratio > 1 indicates that the risk of the outcome falling in the comparison group relative to the risk of the outcome falling in the referent group increases as the variable increases.\n",
    "    - In other words, the comparison outcome is more likely.  An odds ratio < 1 indicates that the risk of the outcome falling in the comparison group relative to the risk of the outcome falling in the referent group decreases as the variable increases. \n",
    "\n",
    "*Important note:* The Intercept of the model is 965. This value is not the the odds ratio of *order_approved_at* as it is currently shown.\n",
    "\n",
    "- Sellers' city: This is the odds ratio comparing a seller's city to that of her counterparts to determine whether a customer receives their order early or late, given that the other variables in the model are held constant.\n",
    "    - We can say that the odds of getting a package early given the seller's city relative to other sellers' city would be expected to increase by a factor of 31.26. This implies that the sellers city is an essential factor that determines early delivery of a package.\n",
    "    \n",
    "    \n",
    "- Product category: This is the odds ratio comparing the  product category of an order to other product categories in the model if such factor determines whether a customer receives their order early or late, given that the other variables in the model are held constant.\n",
    "    - We can say that the odds of getting a package early given an order from a particular category relative to other product category would be expected to increase by a factor of 6.4.  \n",
    "    \n",
    "    \n",
    "  \n",
    "- Freight value – This is the odds or “relative risk” ratio for a one unit increase in freight value for early or late delivery, given that the other variables in the model are held constant. \n",
    "- So, given a one unit increase in the freight value, 285 times more likely that the customer will get her order early, when the other variables in the model are held constant. \n",
    "\n",
    "##### Surprise\n",
    "\n",
    "- I am quite surprised that the review_score which gave the highest linear correlation coeficient (in the correlation heatmeap, .23 versus -0.075.) with delivery duration has lower odds ratio than even product dimensions. \n",
    "\n"
   ]
  },
  {
   "cell_type": "code",
   "execution_count": null,
   "id": "a4aa5b42",
   "metadata": {},
   "outputs": [],
   "source": []
  },
  {
   "cell_type": "code",
   "execution_count": null,
   "id": "12a1c5ea",
   "metadata": {},
   "outputs": [],
   "source": []
  },
  {
   "cell_type": "code",
   "execution_count": null,
   "id": "810809aa",
   "metadata": {},
   "outputs": [],
   "source": []
  },
  {
   "cell_type": "code",
   "execution_count": null,
   "id": "8fea0be2",
   "metadata": {},
   "outputs": [],
   "source": []
  },
  {
   "cell_type": "code",
   "execution_count": null,
   "id": "64c72c9a",
   "metadata": {},
   "outputs": [],
   "source": []
  },
  {
   "cell_type": "code",
   "execution_count": null,
   "id": "68f5b2c6",
   "metadata": {},
   "outputs": [],
   "source": []
  },
  {
   "cell_type": "code",
   "execution_count": null,
   "id": "a62f0c33",
   "metadata": {},
   "outputs": [],
   "source": []
  },
  {
   "cell_type": "code",
   "execution_count": null,
   "id": "e57c475b",
   "metadata": {},
   "outputs": [],
   "source": []
  }
 ],
 "metadata": {
  "kernelspec": {
   "display_name": "Python 3",
   "language": "python",
   "name": "python3"
  },
  "language_info": {
   "codemirror_mode": {
    "name": "ipython",
    "version": 3
   },
   "file_extension": ".py",
   "mimetype": "text/x-python",
   "name": "python",
   "nbconvert_exporter": "python",
   "pygments_lexer": "ipython3",
   "version": "3.8.10"
  }
 },
 "nbformat": 4,
 "nbformat_minor": 5
}
